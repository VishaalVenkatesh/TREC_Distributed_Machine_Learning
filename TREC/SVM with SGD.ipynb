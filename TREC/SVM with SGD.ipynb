{
 "cells": [
  {
   "cell_type": "code",
   "execution_count": 167,
   "metadata": {},
   "outputs": [],
   "source": [
    "import os\n",
    "import pandas as pd\n",
    "import numpy as np\n",
    "from sklearn.linear_model import SGDClassifier\n",
    "from sklearn.pipeline import make_pipeline\n",
    "from sklearn.svm import SVC \n",
    "from sklearn.preprocessing import StandardScaler\n",
    "from sklearn import metrics\n",
    "from sklearn.feature_extraction.text import TfidfTransformer\n",
    "from sklearn.feature_extraction.text import CountVectorizer\n",
    "from sklearn.feature_extraction.text import TfidfVectorizer\n",
    "from nltk.tokenize import word_tokenize\n",
    "from nltk.probability import FreqDist\n",
    "from nltk.stem import PorterStemmer\n",
    "from nltk.tokenize import sent_tokenize, word_tokenize\n",
    "from nltk.stem.wordnet import WordNetLemmatizer\n",
    "from scipy.sparse import csr_matrix\n",
    "from nltk.corpus import stopwords\n",
    "from nltk.tokenize import RegexpTokenizer"
   ]
  },
  {
   "cell_type": "code",
   "execution_count": 95,
   "metadata": {},
   "outputs": [],
   "source": [
    "os.chdir('30_TF-IDF Features by Disaster/10_2018 Train')"
   ]
  },
  {
   "cell_type": "code",
   "execution_count": 151,
   "metadata": {},
   "outputs": [],
   "source": [
    "os.chdir('30_TF-IDF Features by Disaster/30_2019 B Test')"
   ]
  },
  {
   "cell_type": "code",
   "execution_count": 149,
   "metadata": {},
   "outputs": [
    {
     "data": {
      "text/plain": [
       "'C:\\\\Users\\\\Vishaal\\\\Documents\\\\GitHub\\\\TREC_Distributed_Machine_Learning\\\\TREC'"
      ]
     },
     "execution_count": 149,
     "metadata": {},
     "output_type": "execute_result"
    }
   ],
   "source": [
    "os.getcwd()"
   ]
  },
  {
   "cell_type": "code",
   "execution_count": 144,
   "metadata": {},
   "outputs": [],
   "source": [
    "df = pd.read_csv('Attack_tfidf_features_2018_train.csv')"
   ]
  },
  {
   "cell_type": "code",
   "execution_count": 152,
   "metadata": {},
   "outputs": [],
   "source": [
    "df2 = pd.read_csv('Shooting_tfidf_features_2019_B_test.csv')"
   ]
  },
  {
   "cell_type": "code",
   "execution_count": 153,
   "metadata": {},
   "outputs": [],
   "source": [
    "df_c = pd.DataFrame()\n",
    "df_c['Tweet'] = pd.concat([df['Tweet'] , df2['Tweet']])\n",
    "df_c['Priority'] = pd.concat([df['Priority'] , df2['Priority']])"
   ]
  },
  {
   "cell_type": "code",
   "execution_count": 154,
   "metadata": {},
   "outputs": [
    {
     "data": {
      "text/html": [
       "<div>\n",
       "<style scoped>\n",
       "    .dataframe tbody tr th:only-of-type {\n",
       "        vertical-align: middle;\n",
       "    }\n",
       "\n",
       "    .dataframe tbody tr th {\n",
       "        vertical-align: top;\n",
       "    }\n",
       "\n",
       "    .dataframe thead th {\n",
       "        text-align: right;\n",
       "    }\n",
       "</style>\n",
       "<table border=\"1\" class=\"dataframe\">\n",
       "  <thead>\n",
       "    <tr style=\"text-align: right;\">\n",
       "      <th></th>\n",
       "      <th>Tweet</th>\n",
       "      <th>Priority</th>\n",
       "    </tr>\n",
       "  </thead>\n",
       "  <tbody>\n",
       "    <tr>\n",
       "      <th>0</th>\n",
       "      <td>RT @cheerio15: Restaurant in Paris 10th distri...</td>\n",
       "      <td>Low</td>\n",
       "    </tr>\n",
       "    <tr>\n",
       "      <th>1</th>\n",
       "      <td>public transport problems in paris due to five...</td>\n",
       "      <td>Medium</td>\n",
       "    </tr>\n",
       "    <tr>\n",
       "      <th>2</th>\n",
       "      <td>RT @AP: BREAKING: French police official confi...</td>\n",
       "      <td>High</td>\n",
       "    </tr>\n",
       "    <tr>\n",
       "      <th>3</th>\n",
       "      <td>At least 3 of the dead attackers at Bataclan t...</td>\n",
       "      <td>Medium</td>\n",
       "    </tr>\n",
       "    <tr>\n",
       "      <th>4</th>\n",
       "      <td>RT @michaelh992: PT: According to Police Union...</td>\n",
       "      <td>Critical</td>\n",
       "    </tr>\n",
       "  </tbody>\n",
       "</table>\n",
       "</div>"
      ],
      "text/plain": [
       "                                               Tweet  Priority\n",
       "0  RT @cheerio15: Restaurant in Paris 10th distri...       Low\n",
       "1  public transport problems in paris due to five...    Medium\n",
       "2  RT @AP: BREAKING: French police official confi...      High\n",
       "3  At least 3 of the dead attackers at Bataclan t...    Medium\n",
       "4  RT @michaelh992: PT: According to Police Union...  Critical"
      ]
     },
     "execution_count": 154,
     "metadata": {},
     "output_type": "execute_result"
    }
   ],
   "source": [
    "df_c.head()"
   ]
  },
  {
   "cell_type": "code",
   "execution_count": 155,
   "metadata": {},
   "outputs": [],
   "source": [
    "'''\n",
    "Creating a categorical variable to keep label critical tweets as 1 and 0 otherwise\n",
    "'''\n",
    "t = []\n",
    "for element in df_c['Priority']:\n",
    "    if element =='Critical':\n",
    "        t.append(1)\n",
    "    else:\n",
    "        t.append(0)\n",
    "        \n",
    "t = np.array(t)\n",
    "df_c['Target'] = t\n",
    "'''\n",
    "    Converting to categorical\n",
    "'''\n",
    "df_c['Target'] = df_c['Target'].astype('category')\n",
    "t = df_c['Target']\n",
    "del df_c['Target']"
   ]
  },
  {
   "cell_type": "code",
   "execution_count": 162,
   "metadata": {},
   "outputs": [],
   "source": [
    "'''\n",
    "    Creating a function to input lemmatized text to possibly another function that outputs the tfidf in a csv format.\n",
    "    We could also simply use the output from this funtion in an tfidf format (no csv) and train a model.\n",
    "'''\n",
    "def preProcess(df):\n",
    "    df['Tweet'] = df['Tweet'].astype('str')\n",
    "    \n",
    "    token_array = []\n",
    "    for tweet in df['Tweet']:\n",
    "        token_tweet = word_tokenize(tweet)\n",
    "        token_array.append(token_tweet)\n",
    "        \n",
    "    stop_words=set(stopwords.words(\"english\"))\n",
    "    filtered_token_array=[]\n",
    "    for tweet in token_array:\n",
    "        filtered_tweet = []\n",
    "        for word in tweet:\n",
    "                if word not in stop_words:\n",
    "                    filtered_tweet.append(word)\n",
    "        filtered_token_array.append(filtered_tweet)\n",
    "        \n",
    "    lem = WordNetLemmatizer()\n",
    "    stem = PorterStemmer()\n",
    "\n",
    "    lemmatized_array=[]\n",
    "    for tweet in filtered_token_array:\n",
    "        lemmatized_tweet = []\n",
    "        for word in tweet:\n",
    "            lemmatized_tweet.append(lem.lemmatize(word,'v'))\n",
    "        lemmatized_array.append(lemmatized_tweet)\n",
    "    \n",
    "    lemmatized_array_join = []\n",
    "    for element in lemmatized_array:\n",
    "        lemmatized_array_join.append(''.join(element))\n",
    "        \n",
    "    return (lemmatized_array_join)"
   ]
  },
  {
   "cell_type": "code",
   "execution_count": null,
   "metadata": {},
   "outputs": [],
   "source": [
    "'''\n",
    "    OPTIONAL - We use this to convert the tfidf into CSV format. \n",
    "    \n",
    "    Output is a combined dataframe - use pd.to_csv to specify save location \n",
    "    \n",
    "    NOTE - corpus is tfidf in non-array format\n",
    "'''\n",
    "def tfidf_to_CSV(df, corpus):\n",
    "    tf=TfidfVectorizer()\n",
    "    text_tf= tf.fit_transform(corpus)\n",
    "    text_tf_dense = text_tf.todense()\n",
    "    \n",
    "    words = tf.get_feature_names()\n",
    "    M = text_tf.tolil()\n",
    "    l_features = []\n",
    "    for i in range(M.shape[0]):\n",
    "        l_features.append(np.array(M[i].todense())[0])\n",
    "        \n",
    "    df_features = pd.DataFrame(l_features)\n",
    "    \n",
    "    df_combined = pd.concat([df,df_features], axis=1)\n",
    "    \n",
    "    cols = list(df.columns) + words\n",
    "    \n",
    "    df_combined_1 = df_combined.rename(columns={x:y for x,y in zip(df_combined.columns,cols)})\n",
    "    \n",
    "    return (df_combined_1)"
   ]
  },
  {
   "cell_type": "code",
   "execution_count": 182,
   "metadata": {},
   "outputs": [],
   "source": [
    "'''\n",
    "    DTM to get TF-IDF features\n",
    "'''\n",
    "tf=TfidfVectorizer()\n",
    "lemmatized_array_join = preProcess(df_c)\n",
    "text_tf= tf.fit_transform(lemmatized_array_join)"
   ]
  },
  {
   "cell_type": "code",
   "execution_count": 169,
   "metadata": {},
   "outputs": [],
   "source": [
    "'''\n",
    "    Converting TF-IDF to list of lists. Then we play around with the datatypes to get features as a dense\n",
    "    list of numpy arrays l_features. We also get the actual word names that are used as features.\n",
    "    \n",
    "    Use only if you need the csv output. NOT REQUIRED TO TRAIN MODEL\n",
    "'''\n",
    "words = tf.get_feature_names()\n",
    "M = text_tf.tolil()\n",
    "l_features = []\n",
    "for i in range(M.shape[0]):\n",
    "    l_features.append(np.array(M[i].todense())[0])"
   ]
  },
  {
   "cell_type": "code",
   "execution_count": 216,
   "metadata": {},
   "outputs": [],
   "source": [
    "'''\n",
    "    Converting DTM to array. REQUIRED TO DIRECTLY TRAIN SVM\n",
    "'''\n",
    "text_tf= tf.fit_transform(lemmatized_array_join).toarray()"
   ]
  },
  {
   "cell_type": "code",
   "execution_count": 172,
   "metadata": {},
   "outputs": [
    {
     "data": {
      "text/plain": [
       "Pipeline(memory=None,\n",
       "         steps=[('standardscaler',\n",
       "                 StandardScaler(copy=True, with_mean=False, with_std=True)),\n",
       "                ('sgdclassifier',\n",
       "                 SGDClassifier(alpha=0.0001, average=False, class_weight=None,\n",
       "                               early_stopping=False, epsilon=0.1, eta0=0.0,\n",
       "                               fit_intercept=True, l1_ratio=0.15,\n",
       "                               learning_rate='optimal', loss='squared_loss',\n",
       "                               max_iter=10000000, n_iter_no_change=5,\n",
       "                               n_jobs=None, penalty='l2', power_t=0.5,\n",
       "                               random_state=None, shuffle=True, tol=0.001,\n",
       "                               validation_fraction=0.1, verbose=0,\n",
       "                               warm_start=False))],\n",
       "         verbose=False)"
      ]
     },
     "execution_count": 172,
     "metadata": {},
     "output_type": "execute_result"
    }
   ],
   "source": [
    "'''\n",
    "    * Train SVM\n",
    "    * ‘optimal’: eta = 1.0 / (alpha * (t + t0)) where t0 is chosen by a heuristic proposed by Leon Bottou.\n",
    "    * This model is trained directly using the tfidf in the matrix form.\n",
    "'''\n",
    "clf = make_pipeline(StandardScaler(with_mean=False), SGDClassifier(loss = 'squared_loss', alpha = 0.0001, max_iter=10000000, tol=1e-3\n",
    "                                                   , shuffle = True, learning_rate = 'optimal', penalty='l2' ))\n",
    "clf.fit(text_tf[2066:,:], t[2066:])"
   ]
  },
  {
   "cell_type": "code",
   "execution_count": 173,
   "metadata": {},
   "outputs": [],
   "source": [
    "y_pred = clf.predict(text_tf[0:2066,:])"
   ]
  },
  {
   "cell_type": "code",
   "execution_count": 177,
   "metadata": {},
   "outputs": [
    {
     "name": "stdout",
     "output_type": "stream",
     "text": [
      "0.1951219512195122\n"
     ]
    }
   ],
   "source": [
    "print(metrics.recall_score(t[0:2066], y_pred))"
   ]
  },
  {
   "cell_type": "code",
   "execution_count": 175,
   "metadata": {},
   "outputs": [
    {
     "data": {
      "text/plain": [
       "array([[1785,  240],\n",
       "       [  33,    8]], dtype=int64)"
      ]
     },
     "execution_count": 175,
     "metadata": {},
     "output_type": "execute_result"
    }
   ],
   "source": [
    "'''\n",
    "    TN = 1785\n",
    "    FN = 33\n",
    "    TP = 8\n",
    "    FP = 240\n",
    "'''\n",
    "metrics.confusion_matrix(t[0:2066], y_pred)"
   ]
  },
  {
   "cell_type": "code",
   "execution_count": 176,
   "metadata": {},
   "outputs": [
    {
     "name": "stdout",
     "output_type": "stream",
     "text": [
      "0.03225806451612903\n"
     ]
    }
   ],
   "source": [
    "print(metrics.precision_score(t[0:2066], y_pred))"
   ]
  },
  {
   "cell_type": "code",
   "execution_count": 212,
   "metadata": {},
   "outputs": [],
   "source": [
    "from sklearn.cluster import KMeans"
   ]
  },
  {
   "cell_type": "code",
   "execution_count": 250,
   "metadata": {},
   "outputs": [],
   "source": [
    "km = KMeans(n_clusters = 2, init = 'random', max_iter = 3000000, tol = 0.000000001)"
   ]
  },
  {
   "cell_type": "code",
   "execution_count": 251,
   "metadata": {},
   "outputs": [
    {
     "data": {
      "text/plain": [
       "KMeans(algorithm='auto', copy_x=True, init='random', max_iter=3000000,\n",
       "       n_clusters=2, n_init=10, n_jobs=None, precompute_distances='auto',\n",
       "       random_state=None, tol=1e-09, verbose=0)"
      ]
     },
     "execution_count": 251,
     "metadata": {},
     "output_type": "execute_result"
    }
   ],
   "source": [
    "km.fit(text_tf[2066:,:])"
   ]
  },
  {
   "cell_type": "code",
   "execution_count": 252,
   "metadata": {},
   "outputs": [
    {
     "data": {
      "text/plain": [
       "array([0])"
      ]
     },
     "execution_count": 252,
     "metadata": {},
     "output_type": "execute_result"
    }
   ],
   "source": [
    "km_pred = km.predict(text_tf[0:2066,:])\n",
    "np.unique(km_pred)"
   ]
  },
  {
   "cell_type": "code",
   "execution_count": 253,
   "metadata": {},
   "outputs": [
    {
     "name": "stdout",
     "output_type": "stream",
     "text": [
      "0.0\n"
     ]
    }
   ],
   "source": [
    "print(metrics.recall_score(np.array(t[0:2066]), km_pred))"
   ]
  },
  {
   "cell_type": "code",
   "execution_count": 254,
   "metadata": {},
   "outputs": [
    {
     "name": "stdout",
     "output_type": "stream",
     "text": [
      "0.9801548886737658\n"
     ]
    }
   ],
   "source": [
    "print(metrics.accuracy_score(np.array(t[0:2066]), km_pred))"
   ]
  },
  {
   "cell_type": "code",
   "execution_count": 255,
   "metadata": {},
   "outputs": [
    {
     "name": "stdout",
     "output_type": "stream",
     "text": [
      "0.0\n"
     ]
    },
    {
     "name": "stderr",
     "output_type": "stream",
     "text": [
      "C:\\Users\\Vishaal\\Anaconda3_Mod\\lib\\site-packages\\sklearn\\metrics\\classification.py:1437: UndefinedMetricWarning: Precision is ill-defined and being set to 0.0 due to no predicted samples.\n",
      "  'precision', 'predicted', average, warn_for)\n"
     ]
    }
   ],
   "source": [
    "print(metrics.precision_score(np.array(t[0:2066]), km_pred))"
   ]
  },
  {
   "cell_type": "code",
   "execution_count": 257,
   "metadata": {},
   "outputs": [
    {
     "data": {
      "text/plain": [
       "array([[2025,    0],\n",
       "       [  41,    0]], dtype=int64)"
      ]
     },
     "execution_count": 257,
     "metadata": {},
     "output_type": "execute_result"
    }
   ],
   "source": [
    "metrics.confusion_matrix(np.array(t[0:2066]), km_pred)"
   ]
  },
  {
   "cell_type": "code",
   "execution_count": null,
   "metadata": {},
   "outputs": [],
   "source": []
  },
  {
   "cell_type": "code",
   "execution_count": null,
   "metadata": {},
   "outputs": [],
   "source": []
  }
 ],
 "metadata": {
  "kernelspec": {
   "display_name": "Python 3",
   "language": "python",
   "name": "python3"
  },
  "language_info": {
   "codemirror_mode": {
    "name": "ipython",
    "version": 3
   },
   "file_extension": ".py",
   "mimetype": "text/x-python",
   "name": "python",
   "nbconvert_exporter": "python",
   "pygments_lexer": "ipython3",
   "version": "3.7.3"
  }
 },
 "nbformat": 4,
 "nbformat_minor": 2
}
