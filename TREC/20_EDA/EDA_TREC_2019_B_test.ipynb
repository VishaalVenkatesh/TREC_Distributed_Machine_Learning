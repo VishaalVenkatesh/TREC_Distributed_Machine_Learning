{
 "cells": [
  {
   "cell_type": "code",
   "execution_count": 1,
   "metadata": {
    "pycharm": {
     "is_executing": false
    }
   },
   "outputs": [],
   "source": [
    "import pandas as pd\n",
    "import numpy as np\n",
    "import matplotlib.pyplot as plt\n",
    "import os"
   ]
  },
  {
   "cell_type": "code",
   "execution_count": 2,
   "outputs": [],
   "source": [
    "os.chdir('../10_Data/20_Extracted Tweets/30_2019 B Test')"
   ],
   "metadata": {
    "collapsed": false,
    "pycharm": {
     "name": "#%%\n",
     "is_executing": false
    }
   }
  },
  {
   "cell_type": "code",
   "execution_count": 5,
   "metadata": {
    "pycharm": {
     "is_executing": false
    }
   },
   "outputs": [
    {
     "data": {
      "text/plain": "'C:\\\\Users\\\\Vishaal\\\\Documents\\\\GitHub\\\\TREC_Distributed_Machine_Learning\\\\TREC'"
     },
     "metadata": {},
     "output_type": "execute_result",
     "execution_count": 5
    }
   ],
   "source": [
    "os.getcwd()"
   ]
  },
  {
   "cell_type": "code",
   "execution_count": 3,
   "metadata": {
    "pycharm": {
     "is_executing": false
    }
   },
   "outputs": [],
   "source": [
    "df = pd.read_csv('Ultimate_Dataframe_TREC_2019_B-test.csv')"
   ]
  },
  {
   "cell_type": "code",
   "execution_count": 4,
   "metadata": {
    "scrolled": false,
    "pycharm": {
     "is_executing": false
    }
   },
   "outputs": [
    {
     "data": {
      "text/plain": "      Unnamed: 0                   ID  \\\n4308        4308  1120765222443200513   \n5704        5704  1120566663961772033   \n801          801  1131341849686290433   \n8792        8792  1120971933649133568   \n4155        4155  1122968923467591681   \n\n                                                  Tweet  \\\n4308  @xandatoto @vigil11697767 @GomoDubi @denvern3 ...   \n5704  For Philippines earthquake news, follow my lis...   \n801   @JonnKmech DO NOT. I REPEAT: DO NOT DONATE TO ...   \n8792  More than 50 dead in South Africa after heavy ...   \n4155  Cyclone Kenneth Strikes Mozambique With Devast...   \n\n                          Event  \\\n4308         cycloneKenneth2019   \n5704  philippinesEarthquake2019   \n801        albertaWildfires2019   \n8792      southAfricaFloods2019   \n4155         cycloneKenneth2019   \n\n                                                 Source  User_Language  \\\n4308  <a href=\"http://twitter.com/download/android\" ...            NaN   \n5704  <a href=\"http://twitter.com\" rel=\"nofollow\">Tw...            NaN   \n801   <a href=\"http://twitter.com\" rel=\"nofollow\">Tw...            NaN   \n8792  <a href=\"https://ifttt.com\" rel=\"nofollow\">IFT...            NaN   \n4155  <a href=\"https://ifttt.com\" rel=\"nofollow\">IFT...            NaN   \n\n                                        Event_Decrption  \\\n4308  Intense Tropical Cyclone Kenneth was the stron...   \n5704  On April 22, 2019, a 6.1 magnitude earthquake ...   \n801   The 2019 Alberta wildfires were described by N...   \n8792  During the 2019 Easter weekend, the coastal ci...   \n4155  Intense Tropical Cyclone Kenneth was the stron...   \n\n                                             Categories Priority  \n4308                                     ['Irrelevant']      Low  \n5704                                       ['Hashtags']   Medium  \n801                                      ['Irrelevant']      Low  \n8792  ['MultimediaShare', 'Factoid', 'Hashtags', 'Ne...   Medium  \n4155                                     ['Irrelevant']      Low  ",
      "text/html": "<div>\n<style scoped>\n    .dataframe tbody tr th:only-of-type {\n        vertical-align: middle;\n    }\n\n    .dataframe tbody tr th {\n        vertical-align: top;\n    }\n\n    .dataframe thead th {\n        text-align: right;\n    }\n</style>\n<table border=\"1\" class=\"dataframe\">\n  <thead>\n    <tr style=\"text-align: right;\">\n      <th></th>\n      <th>Unnamed: 0</th>\n      <th>ID</th>\n      <th>Tweet</th>\n      <th>Event</th>\n      <th>Source</th>\n      <th>User_Language</th>\n      <th>Event_Decrption</th>\n      <th>Categories</th>\n      <th>Priority</th>\n    </tr>\n  </thead>\n  <tbody>\n    <tr>\n      <th>4308</th>\n      <td>4308</td>\n      <td>1120765222443200513</td>\n      <td>@xandatoto @vigil11697767 @GomoDubi @denvern3 ...</td>\n      <td>cycloneKenneth2019</td>\n      <td>&lt;a href=\"http://twitter.com/download/android\" ...</td>\n      <td>NaN</td>\n      <td>Intense Tropical Cyclone Kenneth was the stron...</td>\n      <td>['Irrelevant']</td>\n      <td>Low</td>\n    </tr>\n    <tr>\n      <th>5704</th>\n      <td>5704</td>\n      <td>1120566663961772033</td>\n      <td>For Philippines earthquake news, follow my lis...</td>\n      <td>philippinesEarthquake2019</td>\n      <td>&lt;a href=\"http://twitter.com\" rel=\"nofollow\"&gt;Tw...</td>\n      <td>NaN</td>\n      <td>On April 22, 2019, a 6.1 magnitude earthquake ...</td>\n      <td>['Hashtags']</td>\n      <td>Medium</td>\n    </tr>\n    <tr>\n      <th>801</th>\n      <td>801</td>\n      <td>1131341849686290433</td>\n      <td>@JonnKmech DO NOT. I REPEAT: DO NOT DONATE TO ...</td>\n      <td>albertaWildfires2019</td>\n      <td>&lt;a href=\"http://twitter.com\" rel=\"nofollow\"&gt;Tw...</td>\n      <td>NaN</td>\n      <td>The 2019 Alberta wildfires were described by N...</td>\n      <td>['Irrelevant']</td>\n      <td>Low</td>\n    </tr>\n    <tr>\n      <th>8792</th>\n      <td>8792</td>\n      <td>1120971933649133568</td>\n      <td>More than 50 dead in South Africa after heavy ...</td>\n      <td>southAfricaFloods2019</td>\n      <td>&lt;a href=\"https://ifttt.com\" rel=\"nofollow\"&gt;IFT...</td>\n      <td>NaN</td>\n      <td>During the 2019 Easter weekend, the coastal ci...</td>\n      <td>['MultimediaShare', 'Factoid', 'Hashtags', 'Ne...</td>\n      <td>Medium</td>\n    </tr>\n    <tr>\n      <th>4155</th>\n      <td>4155</td>\n      <td>1122968923467591681</td>\n      <td>Cyclone Kenneth Strikes Mozambique With Devast...</td>\n      <td>cycloneKenneth2019</td>\n      <td>&lt;a href=\"https://ifttt.com\" rel=\"nofollow\"&gt;IFT...</td>\n      <td>NaN</td>\n      <td>Intense Tropical Cyclone Kenneth was the stron...</td>\n      <td>['Irrelevant']</td>\n      <td>Low</td>\n    </tr>\n  </tbody>\n</table>\n</div>"
     },
     "metadata": {},
     "output_type": "execute_result",
     "execution_count": 4
    }
   ],
   "source": [
    "df.sample(5)"
   ]
  },
  {
   "cell_type": "code",
   "execution_count": 5,
   "metadata": {
    "pycharm": {
     "is_executing": false
    }
   },
   "outputs": [
    {
     "data": {
      "text/plain": "Unnamed: 0           int64\nID                   int64\nTweet               object\nEvent               object\nSource              object\nUser_Language      float64\nEvent_Decrption     object\nCategories          object\nPriority            object\ndtype: object"
     },
     "metadata": {},
     "output_type": "execute_result",
     "execution_count": 5
    }
   ],
   "source": [
    "df.dtypes"
   ]
  },
  {
   "cell_type": "code",
   "execution_count": 6,
   "metadata": {
    "pycharm": {
     "is_executing": false
    }
   },
   "outputs": [
    {
     "data": {
      "text/plain": "(8793, 9)"
     },
     "metadata": {},
     "output_type": "execute_result",
     "execution_count": 6
    }
   ],
   "source": [
    "df.shape"
   ]
  },
  {
   "cell_type": "code",
   "execution_count": 7,
   "metadata": {
    "pycharm": {
     "is_executing": false
    }
   },
   "outputs": [],
   "source": [
    "'''\n",
    "    Converting cols to str data type\n",
    "'''\n",
    "df['Source'] = df['Source'].astype('str')\n",
    "df['Event'] = df['Event'].astype('str')"
   ]
  },
  {
   "cell_type": "code",
   "execution_count": 8,
   "metadata": {
    "pycharm": {
     "is_executing": false
    }
   },
   "outputs": [
    {
     "data": {
      "text/plain": "Unnamed: 0         False\nID                 False\nTweet              False\nEvent              False\nSource             False\nUser_Language       True\nEvent_Decrption    False\nCategories         False\nPriority           False\ndtype: bool"
     },
     "metadata": {},
     "output_type": "execute_result",
     "execution_count": 8
    }
   ],
   "source": [
    "'''\n",
    "    Source (device iphone, andorid etc) and user_location have Nans\n",
    "'''\n",
    "df.isna().any()"
   ]
  },
  {
   "cell_type": "code",
   "execution_count": 10,
   "metadata": {
    "pycharm": {
     "is_executing": false
    }
   },
   "outputs": [
    {
     "data": {
      "text/plain": "Low         5400\nMedium      2134\nHigh        1117\nCritical     142\nName: Priority, dtype: int64"
     },
     "metadata": {},
     "output_type": "execute_result",
     "execution_count": 10
    }
   ],
   "source": [
    "s_priority = df['Priority'].apply(lambda x:x).value_counts()\n",
    "s_priority"
   ]
  },
  {
   "cell_type": "code",
   "execution_count": 11,
   "metadata": {
    "pycharm": {
     "is_executing": false
    }
   },
   "outputs": [
    {
     "data": {
      "text/plain": "Text(0.5, 1.0, 'Count of Tweets by Priority')"
     },
     "metadata": {},
     "output_type": "execute_result",
     "execution_count": 11
    },
    {
     "data": {
      "text/plain": "<Figure size 720x576 with 1 Axes>",
      "image/png": "[encoded data removed]"
     },
     "metadata": {
      "needs_background": "light"
     },
     "output_type": "display_data"
    }
   ],
   "source": [
    "'''\n",
    "    As predicted most tweets are of low prioity. Critical tweets are far and few. Unbalanced.\n",
    "'''\n",
    "plt.figure(figsize=(10,8))\n",
    "plt.bar(s_priority.index, s_priority, color = 'g')\n",
    "plt.xlabel('Priority')\n",
    "plt.ylabel('Number of Tweets')\n",
    "plt.title('Count of Tweets by Priority')"
   ]
  },
  {
   "cell_type": "code",
   "execution_count": 12,
   "metadata": {
    "pycharm": {
     "is_executing": false
    }
   },
   "outputs": [],
   "source": [
    "'''\n",
    "    We try to get the count of each type of decvice used to tweet. Not sure how it will be useful yet but\n",
    "    I guess good to know.\n",
    "    \n",
    "    By far, the webclient, iphones and androids are the most popular. It also has to be noted that we have some\n",
    "    tweets from non-twitter sources like Facebook and some other random websites.\n",
    "    \n",
    "    Tweet Deck is dashboard application by twitter to manage multiple twitter accounts.\n",
    "'''\n",
    "s_twc = df['Source'].str.contains('Twitter Web Client').apply(lambda x:x).value_counts()\n",
    "s_tweetdeck = df['Source'].str.contains('TweetDeck').apply(lambda x:x).value_counts()\n",
    "s_iphone = df['Source'].str.contains('Twitter for iPhone').apply(lambda x:x).value_counts()\n",
    "s_android = df['Source'].str.contains('Twitter for Android').apply(lambda x:x).value_counts()\n",
    "s_ipad = df['Source'].str.contains('Twitter for iPad').apply(lambda x:x).value_counts()\n",
    "s_bb = df['Source'].str.contains('Twitter for BlackBerry').apply(lambda x:x).value_counts()\n",
    "s_f = df['Source'].str.contains('Facebook').apply(lambda x:x).value_counts()\n"
   ]
  },
  {
   "cell_type": "code",
   "execution_count": 13,
   "metadata": {
    "pycharm": {
     "is_executing": false
    }
   },
   "outputs": [],
   "source": [
    "source_type = ['Web Client', 'iPhone', 'Android', 'Facebook', 'Tweet Deck','iPad', 'BlackBerry']\n",
    "source_count = [s_twc[1], s_iphone[1], s_android[1], s_f[1], s_tweetdeck[1], s_ipad[1], s_bb[1]]"
   ]
  },
  {
   "cell_type": "code",
   "execution_count": 14,
   "metadata": {
    "scrolled": false,
    "pycharm": {
     "is_executing": false
    }
   },
   "outputs": [
    {
     "data": {
      "text/plain": "Text(0.5, 1.0, 'Tweets Collected by Source')"
     },
     "metadata": {},
     "output_type": "execute_result",
     "execution_count": 14
    },
    {
     "data": {
      "text/plain": "<Figure size 720x576 with 1 Axes>",
      "image/png": "[encoded data removed]"
     },
     "metadata": {
      "needs_background": "light"
     },
     "output_type": "display_data"
    }
   ],
   "source": [
    "plt.figure(figsize=(10,8))\n",
    "plt.bar(source_type, source_count, color = 'blue')\n",
    "plt.title('Tweets Collected by Source')"
   ]
  },
  {
   "cell_type": "code",
   "execution_count": 15,
   "metadata": {
    "pycharm": {
     "is_executing": false
    }
   },
   "outputs": [],
   "source": [
    "'''\n",
    "    We shall now look at the tweet counts by type of disaster. Attacks, bombings and school shootings are considered \n",
    "    separately despite having some commonalities in the nature of the disaster. \n",
    "    \n",
    "    Most of the tweets are from earthquakes and the least are from tornadoes.\n",
    "'''\n",
    "\n",
    "event_type = ['Flood', 'Earthquake', 'fire', 'Shooting', 'cyclone' ]\n",
    "event_count = {}\n",
    "for element in event_type:\n",
    "    counts = df['Event'].str.contains(element).apply(lambda x:x).value_counts()\n",
    "    event_count[element] = counts[1]\n",
    "\n",
    "event_count = sorted(event_count.items(), key=lambda kv: kv[1], reverse = True)\n",
    "keys = []\n",
    "val = []\n",
    "for element in event_count:\n",
    "    keys.append(element[0])\n",
    "    val.append(element[1])\n",
    "    "
   ]
  },
  {
   "cell_type": "code",
   "execution_count": 16,
   "metadata": {
    "pycharm": {
     "is_executing": false
    }
   },
   "outputs": [
    {
     "data": {
      "text/plain": "Text(0.5, 1.0, 'Tweets Collected by Disaster Type')"
     },
     "metadata": {},
     "output_type": "execute_result",
     "execution_count": 16
    },
    {
     "data": {
      "text/plain": "<Figure size 720x576 with 1 Axes>",
      "image/png": "[encoded data removed]"
     },
     "metadata": {
      "needs_background": "light"
     },
     "output_type": "display_data"
    }
   ],
   "source": [
    "plt.figure(figsize=(10,8))\n",
    "plt.bar(keys, val, color = 'orange')\n",
    "plt.title('Tweets Collected by Disaster Type')"
   ]
  },
  {
   "cell_type": "code",
   "execution_count": 17,
   "metadata": {
    "pycharm": {
     "is_executing": false
    }
   },
   "outputs": [],
   "source": [
    "'''\n",
    "    Writing each type of disaster as a new csv file for feature extraction\n",
    "'''\n",
    "for element in event_type:\n",
    "    new_df = df[df['Event'].str.contains(element)]\n",
    "    new_df.to_csv(element+'_TREC_2019_B_test.csv')"
   ]
  },
  {
   "cell_type": "code",
   "execution_count": 21,
   "metadata": {
    "pycharm": {
     "is_executing": false
    }
   },
   "outputs": [
    {
     "data": {
      "text/plain": "142"
     },
     "metadata": {},
     "output_type": "execute_result",
     "execution_count": 21
    }
   ],
   "source": [
    "a = np.array(df['Tweet'][df['Priority'] == 'Critical'])\n",
    "len(a)"
   ]
  },
  {
   "cell_type": "code",
   "execution_count": 31,
   "metadata": {
    "pycharm": {
     "is_executing": false
    }
   },
   "outputs": [],
   "source": [
    "l = {}\n",
    "for element in event_type:\n",
    "    df_1 = df[((df['Priority'] == 'Unknown')) & (df['Event'].str.contains(element))]\n",
    "    l[element] = df_1.shape[0]\n",
    "    \n",
    "l = sorted(l.items(), key=lambda kv: kv[1], reverse = True)\n",
    "key = []\n",
    "values = []\n",
    "for element in l:\n",
    "    key.append(element[0])\n",
    "    values.append(element[1])\n",
    "    "
   ]
  },
  {
   "cell_type": "code",
   "execution_count": 32,
   "outputs": [
    {
     "data": {
      "text/plain": "(['Flood', 'Earthquake', 'fire', 'Shooting', 'cyclone'], [0, 0, 0, 0, 0])"
     },
     "metadata": {},
     "output_type": "execute_result",
     "execution_count": 32
    }
   ],
   "source": [
    "key, values"
   ],
   "metadata": {
    "collapsed": false,
    "pycharm": {
     "name": "#%%\n",
     "is_executing": false
    }
   }
  },
  {
   "cell_type": "code",
   "execution_count": 28,
   "metadata": {
    "pycharm": {
     "is_executing": false
    }
   },
   "outputs": [
    {
     "data": {
      "text/plain": "Text(0.5, 1.0, 'Critical Tweets by Disaster Type - 2019 B Test')"
     },
     "metadata": {},
     "output_type": "execute_result",
     "execution_count": 28
    },
    {
     "data": {
      "text/plain": "<Figure size 720x576 with 1 Axes>",
      "image/png": "[encoded data removed]"
     },
     "metadata": {
      "needs_background": "light"
     },
     "output_type": "display_data"
    }
   ],
   "source": [
    "plt.figure(figsize=(10,8))\n",
    "plt.bar(key, values, color = 'b')\n",
    "plt.title('Critical Tweets by Disaster Type - 2019 B Test')"
   ]
  },
  {
   "cell_type": "code",
   "execution_count": null,
   "metadata": {},
   "outputs": [],
   "source": []
  }
 ],
 "metadata": {
  "kernelspec": {
   "display_name": "Python 3",
   "language": "python",
   "name": "python3"
  },
  "language_info": {
   "codemirror_mode": {
    "name": "ipython",
    "version": 3
   },
   "file_extension": ".py",
   "mimetype": "text/x-python",
   "name": "python",
   "nbconvert_exporter": "python",
   "pygments_lexer": "ipython3",
   "version": "3.7.3"
  },
  "pycharm": {
   "stem_cell": {
    "cell_type": "raw",
    "source": [],
    "metadata": {
     "collapsed": false
    }
   }
  }
 },
 "nbformat": 4,
 "nbformat_minor": 2
}