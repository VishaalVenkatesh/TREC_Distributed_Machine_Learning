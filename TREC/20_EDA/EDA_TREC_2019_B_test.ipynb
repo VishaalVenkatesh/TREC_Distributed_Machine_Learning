{
 "cells": [
  {
   "cell_type": "code",
   "execution_count": 4,
   "metadata": {},
   "outputs": [],
   "source": [
    "import pandas as pd\n",
    "import numpy as np\n",
    "import matplotlib.pyplot as plt\n",
    "import os"
   ]
  },
  {
   "cell_type": "code",
   "execution_count": 23,
   "metadata": {},
   "outputs": [
    {
     "data": {
      "text/plain": [
       "'C:\\\\Users\\\\Vishaal\\\\Documents\\\\GitHub\\\\TREC_Distributed_Machine_Learning\\\\TREC'"
      ]
     },
     "execution_count": 23,
     "metadata": {},
     "output_type": "execute_result"
    }
   ],
   "source": [
    "os.getcwd()"
   ]
  },
  {
   "cell_type": "code",
   "execution_count": 27,
   "metadata": {},
   "outputs": [],
   "source": [
    "df = pd.read_csv('Ultimate_Dataframe_TREC_2019_B-test.csv')"
   ]
  },
  {
   "cell_type": "code",
   "execution_count": 28,
   "metadata": {
    "scrolled": false
   },
   "outputs": [
    {
     "data": {
      "text/html": [
       "<div>\n",
       "<style scoped>\n",
       "    .dataframe tbody tr th:only-of-type {\n",
       "        vertical-align: middle;\n",
       "    }\n",
       "\n",
       "    .dataframe tbody tr th {\n",
       "        vertical-align: top;\n",
       "    }\n",
       "\n",
       "    .dataframe thead th {\n",
       "        text-align: right;\n",
       "    }\n",
       "</style>\n",
       "<table border=\"1\" class=\"dataframe\">\n",
       "  <thead>\n",
       "    <tr style=\"text-align: right;\">\n",
       "      <th></th>\n",
       "      <th>Unnamed: 0</th>\n",
       "      <th>ID</th>\n",
       "      <th>Tweet</th>\n",
       "      <th>Event</th>\n",
       "      <th>Source</th>\n",
       "      <th>User_Language</th>\n",
       "      <th>Event_Decrption</th>\n",
       "      <th>Categories</th>\n",
       "      <th>Priority</th>\n",
       "    </tr>\n",
       "  </thead>\n",
       "  <tbody>\n",
       "    <tr>\n",
       "      <th>9183</th>\n",
       "      <td>9183</td>\n",
       "      <td>1122237241651343362</td>\n",
       "      <td>San Diego synagogue shooting: At least 4 injur...</td>\n",
       "      <td>sandiegoSynagogueShooting2019</td>\n",
       "      <td>&lt;a href=\"http://twitter.com\" rel=\"nofollow\"&gt;Tw...</td>\n",
       "      <td>NaN</td>\n",
       "      <td>The Poway synagogue shooting occurred on April...</td>\n",
       "      <td>['Location', 'MultimediaShare', 'Factoid', 'Ne...</td>\n",
       "      <td>Medium</td>\n",
       "    </tr>\n",
       "    <tr>\n",
       "      <th>42</th>\n",
       "      <td>42</td>\n",
       "      <td>1134119097334034433</td>\n",
       "      <td>Is That Bastard Kenneyâ„¢ï¸� home from Ontario...</td>\n",
       "      <td>albertaWildfires2019</td>\n",
       "      <td>&lt;a href=\"http://twitter.com/download/android\" ...</td>\n",
       "      <td>NaN</td>\n",
       "      <td>The 2019 Alberta wildfires were described by N...</td>\n",
       "      <td>['Irrelevant']</td>\n",
       "      <td>Low</td>\n",
       "    </tr>\n",
       "    <tr>\n",
       "      <th>5372</th>\n",
       "      <td>5372</td>\n",
       "      <td>1121654924146696194</td>\n",
       "      <td>These are aftermath of Climate change. With co...</td>\n",
       "      <td>cycloneKenneth2019</td>\n",
       "      <td>&lt;a href=\"http://twitter.com/download/android\" ...</td>\n",
       "      <td>NaN</td>\n",
       "      <td>Intense Tropical Cyclone Kenneth was the stron...</td>\n",
       "      <td>['Irrelevant']</td>\n",
       "      <td>Low</td>\n",
       "    </tr>\n",
       "    <tr>\n",
       "      <th>342</th>\n",
       "      <td>342</td>\n",
       "      <td>1134007231740030976</td>\n",
       "      <td>In the NWT there are 12 fires going guess what...</td>\n",
       "      <td>albertaWildfires2019</td>\n",
       "      <td>&lt;a href=\"http://twitter.com\" rel=\"nofollow\"&gt;Tw...</td>\n",
       "      <td>NaN</td>\n",
       "      <td>The 2019 Alberta wildfires were described by N...</td>\n",
       "      <td>['ThirdPartyObservation', 'Location', 'Factoid']</td>\n",
       "      <td>High</td>\n",
       "    </tr>\n",
       "    <tr>\n",
       "      <th>10794</th>\n",
       "      <td>10794</td>\n",
       "      <td>1120968502725230592</td>\n",
       "      <td>Our thoughts go out to everyone in Durban duri...</td>\n",
       "      <td>southAfricaFloods2019</td>\n",
       "      <td>&lt;a href=\"http://twitter.com\" rel=\"nofollow\"&gt;Tw...</td>\n",
       "      <td>NaN</td>\n",
       "      <td>During the 2019 Easter weekend, the coastal ci...</td>\n",
       "      <td>['MultimediaShare', 'Factoid', 'Hashtags', 'Ne...</td>\n",
       "      <td>Medium</td>\n",
       "    </tr>\n",
       "  </tbody>\n",
       "</table>\n",
       "</div>"
      ],
      "text/plain": [
       "       Unnamed: 0                   ID  \\\n",
       "9183         9183  1122237241651343362   \n",
       "42             42  1134119097334034433   \n",
       "5372         5372  1121654924146696194   \n",
       "342           342  1134007231740030976   \n",
       "10794       10794  1120968502725230592   \n",
       "\n",
       "                                                   Tweet  \\\n",
       "9183   San Diego synagogue shooting: At least 4 injur...   \n",
       "42     Is That Bastard Kenneyâ„¢ï¸� home from Ontario...   \n",
       "5372   These are aftermath of Climate change. With co...   \n",
       "342    In the NWT there are 12 fires going guess what...   \n",
       "10794  Our thoughts go out to everyone in Durban duri...   \n",
       "\n",
       "                               Event  \\\n",
       "9183   sandiegoSynagogueShooting2019   \n",
       "42              albertaWildfires2019   \n",
       "5372              cycloneKenneth2019   \n",
       "342             albertaWildfires2019   \n",
       "10794          southAfricaFloods2019   \n",
       "\n",
       "                                                  Source  User_Language  \\\n",
       "9183   <a href=\"http://twitter.com\" rel=\"nofollow\">Tw...            NaN   \n",
       "42     <a href=\"http://twitter.com/download/android\" ...            NaN   \n",
       "5372   <a href=\"http://twitter.com/download/android\" ...            NaN   \n",
       "342    <a href=\"http://twitter.com\" rel=\"nofollow\">Tw...            NaN   \n",
       "10794  <a href=\"http://twitter.com\" rel=\"nofollow\">Tw...            NaN   \n",
       "\n",
       "                                         Event_Decrption  \\\n",
       "9183   The Poway synagogue shooting occurred on April...   \n",
       "42     The 2019 Alberta wildfires were described by N...   \n",
       "5372   Intense Tropical Cyclone Kenneth was the stron...   \n",
       "342    The 2019 Alberta wildfires were described by N...   \n",
       "10794  During the 2019 Easter weekend, the coastal ci...   \n",
       "\n",
       "                                              Categories Priority  \n",
       "9183   ['Location', 'MultimediaShare', 'Factoid', 'Ne...   Medium  \n",
       "42                                        ['Irrelevant']      Low  \n",
       "5372                                      ['Irrelevant']      Low  \n",
       "342     ['ThirdPartyObservation', 'Location', 'Factoid']     High  \n",
       "10794  ['MultimediaShare', 'Factoid', 'Hashtags', 'Ne...   Medium  "
      ]
     },
     "execution_count": 28,
     "metadata": {},
     "output_type": "execute_result"
    }
   ],
   "source": [
    "df.sample(5)"
   ]
  },
  {
   "cell_type": "code",
   "execution_count": 29,
   "metadata": {},
   "outputs": [
    {
     "data": {
      "text/plain": [
       "Unnamed: 0           int64\n",
       "ID                   int64\n",
       "Tweet               object\n",
       "Event               object\n",
       "Source              object\n",
       "User_Language      float64\n",
       "Event_Decrption     object\n",
       "Categories          object\n",
       "Priority            object\n",
       "dtype: object"
      ]
     },
     "execution_count": 29,
     "metadata": {},
     "output_type": "execute_result"
    }
   ],
   "source": [
    "df.dtypes"
   ]
  },
  {
   "cell_type": "code",
   "execution_count": 30,
   "metadata": {},
   "outputs": [
    {
     "data": {
      "text/plain": [
       "(10833, 9)"
      ]
     },
     "execution_count": 30,
     "metadata": {},
     "output_type": "execute_result"
    }
   ],
   "source": [
    "df.shape"
   ]
  },
  {
   "cell_type": "code",
   "execution_count": 31,
   "metadata": {},
   "outputs": [],
   "source": [
    "'''\n",
    "    Converting cols to str data type\n",
    "'''\n",
    "df['Source'] = df['Source'].astype('str')\n",
    "df['Event'] = df['Event'].astype('str')"
   ]
  },
  {
   "cell_type": "code",
   "execution_count": 32,
   "metadata": {},
   "outputs": [
    {
     "data": {
      "text/plain": [
       "Unnamed: 0         False\n",
       "ID                 False\n",
       "Tweet              False\n",
       "Event              False\n",
       "Source             False\n",
       "User_Language       True\n",
       "Event_Decrption    False\n",
       "Categories         False\n",
       "Priority           False\n",
       "dtype: bool"
      ]
     },
     "execution_count": 32,
     "metadata": {},
     "output_type": "execute_result"
    }
   ],
   "source": [
    "'''\n",
    "    Source (device iphone, andorid etc) and user_location have Nans\n",
    "'''\n",
    "df.isna().any()"
   ]
  },
  {
   "cell_type": "code",
   "execution_count": 8,
   "metadata": {},
   "outputs": [
    {
     "data": {
      "text/plain": [
       "Low         6860\n",
       "Medium      2466\n",
       "High        1309\n",
       "Critical     198\n",
       "Name: Priority, dtype: int64"
      ]
     },
     "execution_count": 8,
     "metadata": {},
     "output_type": "execute_result"
    }
   ],
   "source": [
    "s_priority = df['Priority'].apply(lambda x:x).value_counts()\n",
    "s_priority"
   ]
  },
  {
   "cell_type": "code",
   "execution_count": 9,
   "metadata": {},
   "outputs": [
    {
     "data": {
      "text/plain": [
       "Text(0.5, 1.0, 'Count of Tweets by Priority')"
      ]
     },
     "execution_count": 9,
     "metadata": {},
     "output_type": "execute_result"
    },
    {
     "data": {
      "image/png": "[encoded data removed]",
      "text/plain": [
       "<Figure size 720x576 with 1 Axes>"
      ]
     },
     "metadata": {
      "needs_background": "light"
     },
     "output_type": "display_data"
    }
   ],
   "source": [
    "'''\n",
    "    As predicted most tweets are of low prioity. Critical tweets are far and few. Unbalanced.\n",
    "'''\n",
    "plt.figure(figsize=(10,8))\n",
    "plt.bar(s_priority.index, s_priority, color = 'g')\n",
    "plt.xlabel('Priority')\n",
    "plt.ylabel('Number of Tweets')\n",
    "plt.title('Count of Tweets by Priority')"
   ]
  },
  {
   "cell_type": "code",
   "execution_count": 30,
   "metadata": {},
   "outputs": [],
   "source": [
    "'''\n",
    "    We try to get the count of each type of decvice used to tweet. Not sure how it will be useful yet but\n",
    "    I guess good to know.\n",
    "    \n",
    "    By far, the webclient, iphones and androids are the most popular. It also has to be noted that we have some\n",
    "    tweets from non-twitter sources like Facebook and some other random websites.\n",
    "    \n",
    "    Tweet Deck is dashboard application by twitter to manage multiple twitter accounts.\n",
    "'''\n",
    "s_twc = df['Source'].str.contains('Twitter Web Client').apply(lambda x:x).value_counts()\n",
    "s_tweetdeck = df['Source'].str.contains('TweetDeck').apply(lambda x:x).value_counts()\n",
    "s_iphone = df['Source'].str.contains('Twitter for iPhone').apply(lambda x:x).value_counts()\n",
    "s_android = df['Source'].str.contains('Twitter for Android').apply(lambda x:x).value_counts()\n",
    "s_ipad = df['Source'].str.contains('Twitter for iPad').apply(lambda x:x).value_counts()\n",
    "s_bb = df['Source'].str.contains('Twitter for BlackBerry').apply(lambda x:x).value_counts()\n",
    "s_f = df['Source'].str.contains('Facebook').apply(lambda x:x).value_counts()\n"
   ]
  },
  {
   "cell_type": "code",
   "execution_count": 31,
   "metadata": {},
   "outputs": [],
   "source": [
    "source_type = ['Web Client', 'iPhone', 'Android', 'Facebook', 'Tweet Deck','iPad', 'BlackBerry']\n",
    "source_count = [s_twc[1], s_iphone[1], s_android[1], s_f[1], s_tweetdeck[1], s_ipad[1], s_bb[1]]"
   ]
  },
  {
   "cell_type": "code",
   "execution_count": 32,
   "metadata": {
    "scrolled": false
   },
   "outputs": [
    {
     "data": {
      "text/plain": [
       "Text(0.5, 1.0, 'Tweets Collected by Source')"
      ]
     },
     "execution_count": 32,
     "metadata": {},
     "output_type": "execute_result"
    },
    {
     "data": {
      "image/png": "[encoded data removed]",
      "text/plain": [
       "<Figure size 720x576 with 1 Axes>"
      ]
     },
     "metadata": {
      "needs_background": "light"
     },
     "output_type": "display_data"
    }
   ],
   "source": [
    "plt.figure(figsize=(10,8))\n",
    "plt.bar(source_type, source_count, color = 'blue')\n",
    "plt.title('Tweets Collected by Source')"
   ]
  },
  {
   "cell_type": "code",
   "execution_count": 34,
   "metadata": {},
   "outputs": [],
   "source": [
    "'''\n",
    "    We shall now look at the tweet counts by type of disaster. Attacks, bombings and school shootings are considered \n",
    "    separately despite having some commonalities in the nature of the disaster. \n",
    "    \n",
    "    Most of the tweets are from earthquakes and the least are from tornadoes.\n",
    "'''\n",
    "\n",
    "event_type = ['Flood', 'Earthquake', 'fire', 'Shooting', 'cyclone' ]\n",
    "event_count = {}\n",
    "for element in event_type:\n",
    "    counts = df['Event'].str.contains(element).apply(lambda x:x).value_counts()\n",
    "    event_count[element] = counts[1]\n",
    "\n",
    "event_count = sorted(event_count.items(), key=lambda kv: kv[1], reverse = True)\n",
    "keys = []\n",
    "val = []\n",
    "for element in event_count:\n",
    "    keys.append(element[0])\n",
    "    val.append(element[1])\n",
    "    "
   ]
  },
  {
   "cell_type": "code",
   "execution_count": 36,
   "metadata": {},
   "outputs": [
    {
     "data": {
      "text/plain": [
       "Text(0.5, 1.0, 'Tweets Collected by Disaster Type')"
      ]
     },
     "execution_count": 36,
     "metadata": {},
     "output_type": "execute_result"
    },
    {
     "data": {
      "image/png": "[encoded data removed]",
      "text/plain": [
       "<Figure size 720x576 with 1 Axes>"
      ]
     },
     "metadata": {
      "needs_background": "light"
     },
     "output_type": "display_data"
    }
   ],
   "source": [
    "plt.figure(figsize=(10,8))\n",
    "plt.bar(keys, val, color = 'orange')\n",
    "plt.title('Tweets Collected by Disaster Type')"
   ]
  },
  {
   "cell_type": "code",
   "execution_count": 37,
   "metadata": {},
   "outputs": [],
   "source": [
    "'''\n",
    "    Writing each type of disaster as a new csv file for feature extraction\n",
    "'''\n",
    "for element in event_type:\n",
    "    new_df = df[df['Event'].str.contains(element)]\n",
    "    new_df.to_csv(element+'_TREC_2019_B_test.csv')"
   ]
  },
  {
   "cell_type": "code",
   "execution_count": 38,
   "metadata": {},
   "outputs": [
    {
     "data": {
      "text/plain": [
       "198"
      ]
     },
     "execution_count": 38,
     "metadata": {},
     "output_type": "execute_result"
    }
   ],
   "source": [
    "a = np.array(df['Tweet'][df['Priority'] == 'Critical'])\n",
    "len(a)"
   ]
  },
  {
   "cell_type": "code",
   "execution_count": 39,
   "metadata": {},
   "outputs": [],
   "source": [
    "l = {}\n",
    "for element in event_type:\n",
    "    df_1 = df[((df['Priority'] == 'Critical')) & (df['Event'].str.contains(element))]\n",
    "    l[element] = df_1.shape[0]\n",
    "    \n",
    "l = sorted(l.items(), key=lambda kv: kv[1], reverse = True)\n",
    "key = []\n",
    "values = []\n",
    "for element in l:\n",
    "    key.append(element[0])\n",
    "    values.append(element[1])\n",
    "    "
   ]
  },
  {
   "cell_type": "code",
   "execution_count": 41,
   "metadata": {},
   "outputs": [
    {
     "data": {
      "text/plain": [
       "Text(0.5, 1.0, 'Critical Tweets by Disaster Type - 2019 B Test')"
      ]
     },
     "execution_count": 41,
     "metadata": {},
     "output_type": "execute_result"
    },
    {
     "data": {
      "image/png": "[encoded data removed]",
      "text/plain": [
       "<Figure size 720x576 with 1 Axes>"
      ]
     },
     "metadata": {
      "needs_background": "light"
     },
     "output_type": "display_data"
    }
   ],
   "source": [
    "plt.figure(figsize=(10,8))\n",
    "plt.bar(key, values, color = 'b')\n",
    "plt.title('Critical Tweets by Disaster Type - 2019 B Test')"
   ]
  },
  {
   "cell_type": "code",
   "execution_count": null,
   "metadata": {},
   "outputs": [],
   "source": []
  }
 ],
 "metadata": {
  "kernelspec": {
   "display_name": "Python 3",
   "language": "python",
   "name": "python3"
  },
  "language_info": {
   "codemirror_mode": {
    "name": "ipython",
    "version": 3
   },
   "file_extension": ".py",
   "mimetype": "text/x-python",
   "name": "python",
   "nbconvert_exporter": "python",
   "pygments_lexer": "ipython3",
   "version": "3.7.3"
  }
 },
 "nbformat": 4,
 "nbformat_minor": 2
}
