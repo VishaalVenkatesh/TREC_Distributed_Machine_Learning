{
 "cells": [
  {
   "cell_type": "code",
   "execution_count": 2,
   "metadata": {
    "pycharm": {
     "is_executing": false
    }
   },
   "outputs": [],
   "source": [
    "import pandas as pd\n",
    "import numpy as np\n",
    "import matplotlib.pyplot as plt\n",
    "import os"
   ]
  },
  {
   "cell_type": "code",
   "execution_count": 3,
   "metadata": {
    "pycharm": {
     "is_executing": false
    }
   },
   "outputs": [
    {
     "data": {
      "text/plain": "'C:\\\\Users\\\\Vishaal\\\\Documents\\\\GitHub\\\\TREC_Distributed_Machine_Learning\\\\TREC\\\\20_EDA'"
     },
     "metadata": {},
     "output_type": "execute_result",
     "execution_count": 3
    }
   ],
   "source": [
    "os.getcwd()"
   ]
  },
  {
   "cell_type": "code",
   "execution_count": 5,
   "metadata": {
    "pycharm": {
     "is_executing": false
    }
   },
   "outputs": [],
   "source": [
    "os.chdir('../10_Data/20_Extracted Tweets/20_2019 A Test')"
   ]
  },
  {
   "cell_type": "code",
   "execution_count": 6,
   "metadata": {
    "pycharm": {
     "is_executing": false
    }
   },
   "outputs": [],
   "source": [
    "df = pd.read_csv('Ultimate_Dataframe_TREC_2019_A-test.csv')"
   ]
  },
  {
   "cell_type": "code",
   "execution_count": 7,
   "outputs": [
    {
     "data": {
      "text/plain": "(7984, 9)"
     },
     "metadata": {},
     "output_type": "execute_result",
     "execution_count": 7
    }
   ],
   "source": [
    "df.shape"
   ],
   "metadata": {
    "collapsed": false,
    "pycharm": {
     "name": "#%%\n",
     "is_executing": false
    }
   }
  },
  {
   "cell_type": "code",
   "execution_count": 8,
   "metadata": {
    "scrolled": false,
    "pycharm": {
     "is_executing": false
    }
   },
   "outputs": [
    {
     "data": {
      "text/plain": "      Unnamed: 0                   ID  \\\n6844        6844   751242493052776451   \n4139        4139  1040908695394238464   \n2084        2084   727626191151214593   \n1257        1257   727594201760866305   \n5195        5195  1039987531989889024   \n\n                                                  Tweet  \\\n6844  RT @defonce__: Everyone stay the fuck out of d...   \n4139  Scary, near demonic-sounding wind gusts in #Ch...   \n2084  Complaints today (of all days) about gov't \"cu...   \n1257  Fort McMurray residents evacuating three neigh...   \n5195  The hurricane has already started dumping rain...   \n\n                      Event  \\\n6844     shootingDallas2017   \n4139  hurricaneFlorence2018   \n2084            fireYMM2016   \n1257            fireYMM2016   \n5195  hurricaneFlorence2018   \n\n                                                 Source User_Language  \\\n6844  <a href=\"http://twitter.com/download/iphone\" r...            en   \n4139  <a href=\"http://twitter.com/download/android\" ...            en   \n2084  <a href=\"https://about.twitter.com/products/tw...            en   \n1257  <a href=\"https://about.twitter.com/products/tw...            en   \n5195  <a href=\"http://twitter.com/download/android\" ...            en   \n\n                                        Event_Decrption  \\\n6844  Five officers are dead ? four Dallas police of...   \n4139  Hurricane Florence was a powerful and long-liv...   \n2084  On May 1, 2016, a wildfire began southwest of ...   \n1257  On May 1, 2016, a wildfire began southwest of ...   \n5195  Hurricane Florence was a powerful and long-liv...   \n\n                                             Categories Priority  \n6844                                     ['Irrelevant']      Low  \n4139  ['FirstPartyObservation', 'Location', 'Hashtag...      Low  \n2084                                     ['Irrelevant']      Low  \n1257  ['FirstPartyObservation', 'Location', 'Emergin...     High  \n5195  ['FirstPartyObservation', 'MultimediaShare', '...      Low  ",
      "text/html": "<div>\n<style scoped>\n    .dataframe tbody tr th:only-of-type {\n        vertical-align: middle;\n    }\n\n    .dataframe tbody tr th {\n        vertical-align: top;\n    }\n\n    .dataframe thead th {\n        text-align: right;\n    }\n</style>\n<table border=\"1\" class=\"dataframe\">\n  <thead>\n    <tr style=\"text-align: right;\">\n      <th></th>\n      <th>Unnamed: 0</th>\n      <th>ID</th>\n      <th>Tweet</th>\n      <th>Event</th>\n      <th>Source</th>\n      <th>User_Language</th>\n      <th>Event_Decrption</th>\n      <th>Categories</th>\n      <th>Priority</th>\n    </tr>\n  </thead>\n  <tbody>\n    <tr>\n      <th>6844</th>\n      <td>6844</td>\n      <td>751242493052776451</td>\n      <td>RT @defonce__: Everyone stay the fuck out of d...</td>\n      <td>shootingDallas2017</td>\n      <td>&lt;a href=\"http://twitter.com/download/iphone\" r...</td>\n      <td>en</td>\n      <td>Five officers are dead ? four Dallas police of...</td>\n      <td>['Irrelevant']</td>\n      <td>Low</td>\n    </tr>\n    <tr>\n      <th>4139</th>\n      <td>4139</td>\n      <td>1040908695394238464</td>\n      <td>Scary, near demonic-sounding wind gusts in #Ch...</td>\n      <td>hurricaneFlorence2018</td>\n      <td>&lt;a href=\"http://twitter.com/download/android\" ...</td>\n      <td>en</td>\n      <td>Hurricane Florence was a powerful and long-liv...</td>\n      <td>['FirstPartyObservation', 'Location', 'Hashtag...</td>\n      <td>Low</td>\n    </tr>\n    <tr>\n      <th>2084</th>\n      <td>2084</td>\n      <td>727626191151214593</td>\n      <td>Complaints today (of all days) about gov't \"cu...</td>\n      <td>fireYMM2016</td>\n      <td>&lt;a href=\"https://about.twitter.com/products/tw...</td>\n      <td>en</td>\n      <td>On May 1, 2016, a wildfire began southwest of ...</td>\n      <td>['Irrelevant']</td>\n      <td>Low</td>\n    </tr>\n    <tr>\n      <th>1257</th>\n      <td>1257</td>\n      <td>727594201760866305</td>\n      <td>Fort McMurray residents evacuating three neigh...</td>\n      <td>fireYMM2016</td>\n      <td>&lt;a href=\"https://about.twitter.com/products/tw...</td>\n      <td>en</td>\n      <td>On May 1, 2016, a wildfire began southwest of ...</td>\n      <td>['FirstPartyObservation', 'Location', 'Emergin...</td>\n      <td>High</td>\n    </tr>\n    <tr>\n      <th>5195</th>\n      <td>5195</td>\n      <td>1039987531989889024</td>\n      <td>The hurricane has already started dumping rain...</td>\n      <td>hurricaneFlorence2018</td>\n      <td>&lt;a href=\"http://twitter.com/download/android\" ...</td>\n      <td>en</td>\n      <td>Hurricane Florence was a powerful and long-liv...</td>\n      <td>['FirstPartyObservation', 'MultimediaShare', '...</td>\n      <td>Low</td>\n    </tr>\n  </tbody>\n</table>\n</div>"
     },
     "metadata": {},
     "output_type": "execute_result",
     "execution_count": 8
    }
   ],
   "source": [
    "df.sample(5)"
   ]
  },
  {
   "cell_type": "code",
   "execution_count": 9,
   "metadata": {
    "pycharm": {
     "is_executing": false
    }
   },
   "outputs": [
    {
     "data": {
      "text/plain": "Unnamed: 0          int64\nID                  int64\nTweet              object\nEvent              object\nSource             object\nUser_Language      object\nEvent_Decrption    object\nCategories         object\nPriority           object\ndtype: object"
     },
     "metadata": {},
     "output_type": "execute_result",
     "execution_count": 9
    }
   ],
   "source": [
    "df.dtypes"
   ]
  },
  {
   "cell_type": "code",
   "execution_count": 10,
   "metadata": {
    "pycharm": {
     "is_executing": false
    }
   },
   "outputs": [
    {
     "data": {
      "text/plain": "(7984, 9)"
     },
     "metadata": {},
     "output_type": "execute_result",
     "execution_count": 10
    }
   ],
   "source": [
    "df.shape"
   ]
  },
  {
   "cell_type": "code",
   "execution_count": 11,
   "metadata": {
    "pycharm": {
     "is_executing": false
    }
   },
   "outputs": [],
   "source": [
    "'''\n",
    "    Converting cols to str data type\n",
    "'''\n",
    "df['Source'] = df['Source'].astype('str')\n",
    "df['Event'] = df['Event'].astype('str')"
   ]
  },
  {
   "cell_type": "code",
   "execution_count": 12,
   "metadata": {
    "pycharm": {
     "is_executing": false
    }
   },
   "outputs": [
    {
     "data": {
      "text/plain": "Unnamed: 0         False\nID                 False\nTweet              False\nEvent              False\nSource             False\nUser_Language      False\nEvent_Decrption    False\nCategories         False\nPriority           False\ndtype: bool"
     },
     "metadata": {},
     "output_type": "execute_result",
     "execution_count": 12
    }
   ],
   "source": [
    "'''\n",
    "    Source (device iphone, andorid etc) and user_location have Nans\n",
    "'''\n",
    "df.isna().any()"
   ]
  },
  {
   "cell_type": "code",
   "execution_count": 13,
   "metadata": {
    "pycharm": {
     "is_executing": false
    }
   },
   "outputs": [
    {
     "data": {
      "text/plain": "Low         6980\nMedium       543\nHigh         351\nCritical     110\nName: Priority, dtype: int64"
     },
     "metadata": {},
     "output_type": "execute_result",
     "execution_count": 13
    }
   ],
   "source": [
    "s_priority = df['Priority'].apply(lambda x:x).value_counts()\n",
    "s_priority"
   ]
  },
  {
   "cell_type": "code",
   "execution_count": 14,
   "metadata": {
    "pycharm": {
     "is_executing": false
    }
   },
   "outputs": [
    {
     "data": {
      "text/plain": "Text(0.5, 1.0, 'Count of Tweets by Priority')"
     },
     "metadata": {},
     "output_type": "execute_result",
     "execution_count": 14
    },
    {
     "data": {
      "text/plain": "<Figure size 720x576 with 1 Axes>",
      "image/png": "[encoded data removed]"
     },
     "metadata": {
      "needs_background": "light"
     },
     "output_type": "display_data"
    }
   ],
   "source": [
    "'''\n",
    "    As predicted most tweets are of low prioity. Critical tweets are far and few. Unbalanced.\n",
    "'''\n",
    "plt.figure(figsize=(10,8))\n",
    "plt.bar(s_priority.index, s_priority, color = 'g')\n",
    "plt.xlabel('Priority')\n",
    "plt.ylabel('Number of Tweets')\n",
    "plt.title('Count of Tweets by Priority')"
   ]
  },
  {
   "cell_type": "code",
   "execution_count": 15,
   "metadata": {
    "pycharm": {
     "is_executing": false
    }
   },
   "outputs": [
    {
     "data": {
      "text/plain": "False    7951\nTrue       33\nName: Source, dtype: int64"
     },
     "metadata": {},
     "output_type": "execute_result",
     "execution_count": 15
    }
   ],
   "source": [
    "'''\n",
    "    We try to get the count of each type of decvice used to tweet. Not sure how it will be useful yet but\n",
    "    I guess good to know.\n",
    "    \n",
    "    By far, the webclient, iphones and androids are the most popular. It also has to be noted that we have some\n",
    "    tweets from non-twitter sources like Facebook and some other random websites.\n",
    "    \n",
    "    Tweet Deck is dashboard application by twitter to manage multiple twitter accounts.\n",
    "'''\n",
    "s_twc = df['Source'].str.contains('Twitter Web Client').apply(lambda x:x).value_counts()\n",
    "s_tweetdeck = df['Source'].str.contains('TweetDeck').apply(lambda x:x).value_counts()\n",
    "s_tw = df['Source'].str.contains('Twitter for Websites').apply(lambda x:x).value_counts()\n",
    "s_tf = df['Source'].str.contains('twitterfeed').apply(lambda x:x).value_counts()\n",
    "s_iphone = df['Source'].str.contains('Twitter for iPhone').apply(lambda x:x).value_counts()\n",
    "s_android = df['Source'].str.contains('Twitter for Android').apply(lambda x:x).value_counts()\n",
    "s_ipad = df['Source'].str.contains('Twitter for iPad').apply(lambda x:x).value_counts()\n",
    "s_bb = df['Source'].str.contains('Twitter for BlackBerry').apply(lambda x:x).value_counts()\n",
    "s_f = df['Source'].str.contains('Facebook').apply(lambda x:x).value_counts()\n",
    "\n",
    "s_tw"
   ]
  },
  {
   "cell_type": "code",
   "execution_count": 16,
   "metadata": {
    "pycharm": {
     "is_executing": false
    }
   },
   "outputs": [],
   "source": [
    "source_type = ['Web Client', 'iPhone', 'Android', 'Twitter Feed', 'Facebook', 'Tweet Deck','iPad', 'BlackBerry', 'Websites']\n",
    "source_count = [s_twc[1], s_iphone[1], s_android[1], s_tf[1], s_f[1], s_tweetdeck[1], s_ipad[1], s_bb[1], s_tw[1]]"
   ]
  },
  {
   "cell_type": "code",
   "execution_count": 17,
   "metadata": {
    "scrolled": false,
    "pycharm": {
     "is_executing": false
    }
   },
   "outputs": [
    {
     "data": {
      "text/plain": "Text(0.5, 1.0, 'Tweets Collected by Source')"
     },
     "metadata": {},
     "output_type": "execute_result",
     "execution_count": 17
    },
    {
     "data": {
      "text/plain": "<Figure size 720x576 with 1 Axes>",
      "image/png": "[encoded data removed]"
     },
     "metadata": {
      "needs_background": "light"
     },
     "output_type": "display_data"
    }
   ],
   "source": [
    "plt.figure(figsize=(10,8))\n",
    "plt.bar(source_type, source_count, color = 'blue')\n",
    "plt.title('Tweets Collected by Source')"
   ]
  },
  {
   "cell_type": "code",
   "execution_count": 44,
   "metadata": {
    "pycharm": {
     "is_executing": false
    }
   },
   "outputs": [],
   "source": [
    "'''\n",
    "    We shall now look at the tweet counts by type of disaster. Attacks, bombings and school shootings are considered \n",
    "    separately despite having some commonalities in the nature of the disaster. \n",
    "    \n",
    "    Most of the tweets are from earthquakes and the least are from tornadoes.\n",
    "'''\n",
    "\n",
    "event_type = ['flood', 'earthquake', 'fire', 'shooting', 'hurricane' ]\n",
    "event_count = {}\n",
    "for element in event_type:\n",
    "    counts = df['Event'].str.contains(element).apply(lambda x:x).value_counts()\n",
    "    event_count[element] = counts[1]\n",
    "\n",
    "event_count = sorted(event_count.items(), key=lambda kv: kv[1], reverse = True)\n",
    "keys = []\n",
    "val = []\n",
    "for element in event_count:\n",
    "    keys.append(element[0])\n",
    "    val.append(element[1])\n",
    "    "
   ]
  },
  {
   "cell_type": "code",
   "execution_count": 45,
   "outputs": [
    {
     "data": {
      "text/plain": "(['fire', 'shooting', 'hurricane', 'earthquake', 'flood'],\n [2500, 2500, 1999, 710, 275])"
     },
     "metadata": {},
     "output_type": "execute_result",
     "execution_count": 45
    }
   ],
   "source": [
    "keys, val"
   ],
   "metadata": {
    "collapsed": false,
    "pycharm": {
     "name": "#%%\n",
     "is_executing": false
    }
   }
  },
  {
   "cell_type": "code",
   "execution_count": 19,
   "metadata": {
    "pycharm": {
     "is_executing": false
    }
   },
   "outputs": [
    {
     "data": {
      "text/plain": "Text(0.5, 1.0, 'Tweets Collected by Disaster Type')"
     },
     "metadata": {},
     "output_type": "execute_result",
     "execution_count": 19
    },
    {
     "data": {
      "text/plain": "<Figure size 720x576 with 1 Axes>",
      "image/png": "[encoded data removed]"
     },
     "metadata": {
      "needs_background": "light"
     },
     "output_type": "display_data"
    }
   ],
   "source": [
    "plt.figure(figsize=(10,8))\n",
    "plt.bar(keys, val, color = 'orange')\n",
    "plt.title('Tweets Collected by Disaster Type')"
   ]
  },
  {
   "cell_type": "code",
   "execution_count": 20,
   "metadata": {
    "pycharm": {
     "is_executing": false
    }
   },
   "outputs": [],
   "source": [
    "'''\n",
    "    Writing each type of disaster as a new csv file for feature extraction\n",
    "'''\n",
    "for element in event_type:\n",
    "    new_df = df[df['Event'].str.contains(element)]\n",
    "    new_df.to_csv(element+'_TREC_2019_A_test.csv')"
   ]
  },
  {
   "cell_type": "code",
   "execution_count": 21,
   "metadata": {
    "pycharm": {
     "is_executing": false
    }
   },
   "outputs": [
    {
     "data": {
      "text/plain": "110"
     },
     "metadata": {},
     "output_type": "execute_result",
     "execution_count": 21
    }
   ],
   "source": [
    "a = np.array(df['Tweet'][df['Priority'] == 'Critical'])\n",
    "len(a)"
   ]
  },
  {
   "cell_type": "code",
   "execution_count": 65,
   "metadata": {
    "pycharm": {
     "is_executing": false
    }
   },
   "outputs": [],
   "source": [
    "l = {}\n",
    "for element in event_type:\n",
    "    df_1 = df[(df['Priority'] == 'High') & (df['Event'].str.contains(element))]\n",
    "    l[element] = df_1.shape[0]\n",
    "    \n",
    "l = sorted(l.items(), key=lambda kv: kv[1], reverse = True)\n",
    "key = []\n",
    "values = []\n",
    "for element in l:\n",
    "    key.append(element[0])\n",
    "    values.append(element[1])\n",
    "    "
   ]
  },
  {
   "cell_type": "code",
   "execution_count": 66,
   "metadata": {
    "pycharm": {
     "is_executing": false
    }
   },
   "outputs": [
    {
     "data": {
      "text/plain": "Text(0.5, 1.0, 'Critical Tweets by Disaster Type - 2019 A Test')"
     },
     "metadata": {},
     "output_type": "execute_result",
     "execution_count": 66
    },
    {
     "data": {
      "text/plain": "<Figure size 720x576 with 1 Axes>",
      "image/png": "[encoded data removed]"
     },
     "metadata": {
      "needs_background": "light"
     },
     "output_type": "display_data"
    }
   ],
   "source": [
    "plt.figure(figsize=(10,8))\n",
    "plt.bar(key, values, color = 'g')\n",
    "plt.title('Critical Tweets by Disaster Type - 2019 A Test')"
   ]
  },
  {
   "cell_type": "code",
   "execution_count": 67,
   "outputs": [
    {
     "data": {
      "text/plain": "(['fire', 'hurricane', 'shooting', 'earthquake', 'flood'], [248, 53, 46, 4, 0])"
     },
     "metadata": {},
     "output_type": "execute_result",
     "execution_count": 67
    }
   ],
   "source": [
    "key,values"
   ],
   "metadata": {
    "collapsed": false,
    "pycharm": {
     "name": "#%%\n",
     "is_executing": false
    }
   }
  },
  {
   "cell_type": "code",
   "execution_count": 25,
   "metadata": {
    "pycharm": {
     "is_executing": false
    }
   },
   "outputs": [
    {
     "data": {
      "text/plain": "array(['earthquakeBohol2013', 'earthquakeCalifornia2014', 'fireYMM2016',\n       'floodChoco2019', 'hurricaneFlorence2018', 'shootingDallas2017'],\n      dtype=object)"
     },
     "metadata": {},
     "output_type": "execute_result",
     "execution_count": 25
    }
   ],
   "source": [
    "    df['Event'].unique()"
   ]
  },
  {
   "cell_type": "code",
   "execution_count": 26,
   "metadata": {
    "pycharm": {
     "is_executing": false
    }
   },
   "outputs": [
    {
     "data": {
      "text/plain": "array(['<a href=\"http://twitter.com\" rel=\"nofollow\">Twitter Web Client</a>',\n       '<a href=\"http://twitter.com/download/android\" rel=\"nofollow\">Twitter for Android</a>',\n       '<a href=\"http://stone.com/Twittelator\" rel=\"nofollow\">Twittelator</a>',\n       '<a href=\"http://twitter.com/download/iphone\" rel=\"nofollow\">Twitter for iPhone</a>',\n       '<a href=\"http://www.myplume.com/\" rel=\"nofollow\">PlumeÂ\\xa0forÂ\\xa0Android</a>',\n       '<a href=\"http://twitterfeed.com\" rel=\"nofollow\">twitterfeed</a>',\n       '<a href=\"http://twitter.com/#!/download/ipad\" rel=\"nofollow\">Twitter for iPad</a>',\n       '<a href=\"https://dlvrit.com/\" rel=\"nofollow\">dlvr.it</a>',\n       '<a href=\"http://www.socialflow.com\" rel=\"nofollow\">SocialFlow</a>',\n       '<a href=\"http://www.hootsuite.com\" rel=\"nofollow\">Hootsuite</a>',\n       '<a href=\"http://www.facebook.com/twitter\" rel=\"nofollow\">Facebook</a>',\n       '<a href=\"https://mobile.twitter.com\" rel=\"nofollow\">Mobile Web (M2)</a>',\n       '<a href=\"http://www.tumblr.com/\" rel=\"nofollow\">Tumblr</a>',\n       '<a href=\"http://tweetadder.com\" rel=\"nofollow\">TweetAdder v4</a>',\n       '<a href=\"http://ubersocial.com/\" rel=\"nofollow\">UberSociÐ°l for Ñ–Phone</a>',\n       '<a href=\"http://twitter.com\" rel=\"nofollow\">Twitter</a>',\n       '<a href=\"http://www.GlobalSunTimes.com\" rel=\"nofollow\">globalsuntimes</a>',\n       '<a href=\"https://itunes.apple.com/us/app/cnn-app-for-iphone/id331786748?mt=8&uo=4\" rel=\"nofollow\">CNN App for iPhone</a>',\n       '<a href=\"https://about.twitter.com/products/tweetdeck\" rel=\"nofollow\">TweetDeck</a>',\n       '<a href=\"https://mobile.twitter.com\" rel=\"nofollow\">Twitter Lite</a>',\n       '<a href=\"https://ifttt.com\" rel=\"nofollow\">IFTTT</a>',\n       '<a href=\"http://www.twistools.com\" rel=\"nofollow\">Twistools</a>',\n       '<a href=\"http://www.twitter.com\" rel=\"nofollow\">Twitter for Windows Phone</a>',\n       '<a href=\"http://blackberry.com/twitter\" rel=\"nofollow\">Twitter for BlackBerryÂ®</a>',\n       '<a href=\"http://www.tweetcaster.com\" rel=\"nofollow\">TweetCaster for Android</a>',\n       '<a href=\"http://tweetitow.com\" rel=\"nofollow\">@tweetitow</a>',\n       '<a href=\"http://instagram.com\" rel=\"nofollow\">Instagram</a>',\n       '<a href=\"https://dev.twitter.com/docs/tfw\" rel=\"nofollow\">Twitter for Websites</a>',\n       '<a href=\"https://roundteam.co\" rel=\"nofollow\">RoundTeam</a>',\n       '<a href=\"http://twipple.jp/\" rel=\"nofollow\">ã�¤ã�„ã�£ã�·ã‚‹ã€€</a>',\n       '<a href=\"http://www.Neatly.me\" rel=\"nofollow\">Neatly For BlackBerry 10</a>',\n       '<a href=\"http://myrt.dpl.local.antlab.co.uk/\" rel=\"nofollow\">MyRetweetUK</a>',\n       '<a href=\"http://www.linkedin.com/\" rel=\"nofollow\">LinkedIn</a>',\n       '<a href=\"http://www.apple.com\" rel=\"nofollow\">iOS</a>',\n       '<a href=\"http://ubersocial.com\" rel=\"nofollow\">UberSocial for iPhone</a>',\n       '<a href=\"http://publicize.wp.com/\" rel=\"nofollow\">WordPress.com</a>',\n       '<a href=\"http://circanews.com/\" rel=\"nofollow\">Circa News</a>',\n       '<a href=\"http://www.echofon.com/\" rel=\"nofollow\">Echofon</a>',\n       '<a href=\"http://m.ubersocial.com\" rel=\"nofollow\">UberSocial Mobile</a>',\n       '<a href=\"http://tapbots.com/tweetbot\" rel=\"nofollow\">Tweetbot for iOS</a>',\n       '<a href=\"http://itunes.apple.com/us/app/twitter/id409789998?mt=12\" rel=\"nofollow\">Twitter for Mac</a>',\n       '<a href=\"http://www.networkedblogs.com/\" rel=\"nofollow\">NetworkedBlogs</a>',\n       '<a href=\"http://twitter.com/download/iphone\" rel=\"nofollow\">Tâ€Žwitter for iPhone</a>',\n       '<a href=\"http://www.twiterbytopic.com\" rel=\"nofollow\">post from php shs</a>',\n       '<a href=\"http://www.theindiansubcontinent.com\" rel=\"nofollow\">TheIndianSubcontinentNewsAgency</a>',\n       '<a href=\"http://www.exacttarget.com/social\" rel=\"nofollow\">SocialEngage</a>',\n       '<a href=\"http://www.socialnewsdesk.com\" rel=\"nofollow\">SocialNewsDesk</a>',\n       '<a href=\"http://www.samsungmobile.com\" rel=\"nofollow\">Samsung Mobile</a>',\n       '<a href=\"http://news24s.com\" rel=\"nofollow\">Global News USA</a>',\n       '<a href=\"http://www.WindowsPhone.com/\" rel=\"nofollow\">Windows Phone</a>',\n       '<a href=\"http://www.fabienlavocat.com\" rel=\"nofollow\">Earthquakes for Windows Phone</a>',\n       '<a href=\"http://ubersocial.com\" rel=\"nofollow\">UberSocial for BlackBerry</a>',\n       '<a href=\"http://www.google.com/\" rel=\"nofollow\">Google</a>',\n       '<a href=\"http://erased159468.com\" rel=\"nofollow\">erased159468</a>',\n       '<a href=\"https://chrome.google.com/extensions/detail/encaiiljifbdbjlphpgpiimidegddhic\" rel=\"nofollow\">Silver Bird</a>',\n       '<a href=\"http://www.newstrackindia.com\" rel=\"nofollow\">Newstrackindia</a>',\n       '<a href=\"http://bufferapp.com\" rel=\"nofollow\">Buffer</a>',\n       '<a href=\"https://twitter.com/HKOQEXPE\" rel=\"nofollow\">HKOQEXPE</a>',\n       '<a href=\"http://store.ovi.com/content/256340\" rel=\"nofollow\">Twitter for Nokia S40</a>',\n       '<a href=\"https://twitter.com/download/android\" rel=\"nofollow\">Twitter for Android Tablets</a>',\n       '<a href=\"https://zapier.com/\" rel=\"nofollow\">Zapier.com</a>',\n       '<a href=\"http://www.allaccess.com/\" rel=\"nofollow\">AllAccess.com</a>',\n       '<a href=\"https://buffer.com\" rel=\"nofollow\">Buffer</a>',\n       '<a href=\"http://www.ajaymatharu.com/\" rel=\"nofollow\">Tweet Old Post</a>',\n       '<a href=\"http://erased1601937.com\" rel=\"nofollow\">erased1601937</a>',\n       '<a href=\"http://www.seismo.unr.edu\" rel=\"nofollow\">NVSeismoLab</a>',\n       '<a href=\"http://www.grouptweet.com\" rel=\"nofollow\">GroupTweet</a>',\n       '<a href=\"http://www.droolindog.net\" rel=\"nofollow\">droolintwitpost</a>',\n       '<a href=\"http://www.1stheadlines.com\" rel=\"nofollow\">Chicago News Heds</a>',\n       '<a href=\"http://www.everypost.me\" rel=\"nofollow\">Everypost</a>',\n       '<a href=\"http://mercury-browser.com\" rel=\"nofollow\">Mercury Browser</a>',\n       '<a href=\"https://www.google.com/\" rel=\"nofollow\">Google</a>',\n       '<a href=\"https://itunes.apple.com/us/app/earthquake-tsunami-pro/id673013025?mt=8&uo=4\" rel=\"nofollow\">Earthquake Tsunami Pro on iOS</a>',\n       '<a href=\"http://cyg-newsagent.net/\" rel=\"nofollow\">CyG NewsAgent</a>',\n       '<a href=\"http://www.twitter.com\" rel=\"nofollow\">Twitter for BlackBerry</a>',\n       '<a href=\"https://www.spredfast.com/\" rel=\"nofollow\">Spredfast app</a>',\n       '<a href=\"http://trendsmap.com/\" rel=\"nofollow\">Trendsmap Alerting</a>',\n       '<a href=\"http://www.socastdigital.com\" rel=\"nofollow\">SoCast Digital</a>',\n       '<a href=\"http://backtoblaq.com\" rel=\"nofollow\">Blaq for BlackBerryÂ® 10</a>',\n       '<a href=\"http://linkis.com\" rel=\"nofollow\">Linkis: turn sharing into growth</a>',\n       '<a href=\"http://www.google.nl\" rel=\"nofollow\">PageFacts_bot</a>',\n       '<a href=\"http://snappytv.com\" rel=\"nofollow\">SnappyTV.com</a>',\n       '<a href=\"https://mobile.twitter.com\" rel=\"nofollow\">Twitter Web App</a>',\n       '<a href=\"http://tapbots.com/tweetbot\" rel=\"nofollow\">Tweetbot for iÎŸS</a>',\n       '<a href=\"http://sites.google.com/site/yorufukurou/\" rel=\"nofollow\">YoruFukurou</a>',\n       '<a href=\"http://janetter.net/\" rel=\"nofollow\">Janetter Pro for iPad</a>',\n       '<a href=\"https://sproutsocial.com\" rel=\"nofollow\">Sprout Social</a>',\n       '<a href=\"http://twubs.com/\" rel=\"nofollow\">Twubs</a>',\n       '<a href=\"http://www.twitter.com\" rel=\"nofollow\">Twitter for Windows</a>',\n       '<a href=\"http://www.handmark.com\" rel=\"nofollow\">TweetCaster for iOS</a>',\n       '<a href=\"https://tapbots.com/software/tweetbot/mac\" rel=\"nofollow\">Tweetbot for Mac</a>',\n       '<a href=\"http://www.twitshot.com\" rel=\"nofollow\">Twitshot.com</a>',\n       '<a href=\"http://www.onetile.ru/tweetit\" rel=\"nofollow\">Tweet It! for Windows</a>',\n       '<a href=\"http://www.tagthebird.com\" rel=\"nofollow\">Tag the Bird 4</a>',\n       '<a href=\"https://twitterrific.com/ios\" rel=\"nofollow\">Twitterrific for iOS</a>',\n       '<a href=\"http://www.baronservices.com\" rel=\"nofollow\">WeatherShare</a>',\n       '<a href=\"https://www.hootsuite.com\" rel=\"nofollow\">Hootsuite Inc.</a>',\n       '<a href=\"http://www.msc-oberaussem.de\" rel=\"nofollow\">r_expexje</a>',\n       '<a href=\"http://tweepsmap.com\" rel=\"nofollow\">Tweepsmap</a>',\n       '<a href=\"http://www.digitalpour.com\" rel=\"nofollow\">DPBeerDashboard</a>',\n       '<a href=\"http://www.yamathosupply2.com\" rel=\"nofollow\">Aldo Zaffalon</a>',\n       '<a href=\"https://www.careerarc.com\" rel=\"nofollow\">CareerArc 2.0</a>',\n       '<a href=\"http://workfor.us/jobboard\" rel=\"nofollow\">Work For Us</a>',\n       '<a href=\"https://studio.twitter.com\" rel=\"nofollow\">Twitter Media Studio</a>',\n       '<a href=\"http://www.DynamicTweets.com\" rel=\"nofollow\">Dynamic Tweets</a>',\n       '<a href=\"https://getatcheap.online/\" rel=\"nofollow\">Getatcheap</a>',\n       '<a href=\"https://twitter.com/daniceraj\" rel=\"nofollow\">TwitterAppBots</a>',\n       '<a href=\"http://werovin.com\" rel=\"nofollow\">Michael Sommermeyer</a>',\n       '<a href=\"https://talesofabackpacker.com\" rel=\"nofollow\">Tales of a Backpacker Revive Pos</a>',\n       '<a href=\"https://mesonet.agron.iastate.edu/projects/iembot/\" rel=\"nofollow\">iembot</a>',\n       '<a href=\"http://cad.chp.ca.gov/\" rel=\"nofollow\">CHP Bot OC</a>',\n       '<a href=\"http://twittbot.net/\" rel=\"nofollow\">twittbot.net</a>',\n       '<a href=\"https://brothereyeomac2017.wixsite.com/eyeseeall\" rel=\"nofollow\">OMAC Ute</a>',\n       '<a href=\"http://cogovtweets.measuredvoice.com\" rel=\"nofollow\">Great Colorado Government Tweets</a>',\n       '<a href=\"https://twitter.com/ReliefTracker\" rel=\"nofollow\">Disaster_Post_Per_Day</a>',\n       '<a href=\"https://www.electionnewsbay.com\" rel=\"nofollow\">Election News Bay</a>',\n       '<a href=\"http://Eco1stArt.com\" rel=\"nofollow\">Eco Promotions</a>',\n       '<a href=\"http://www.onlinedealtrick.com/\" rel=\"nofollow\">OnlineDealTrick</a>',\n       '<a href=\"https://lbrenman.wixsite.com/mysite\" rel=\"nofollow\">arrowtwitbotexample</a>',\n       '<a href=\"http://philippines.networkofnews.com/\" rel=\"nofollow\">NetworkOfNews_Philippines</a>',\n       '<a href=\"http://parolesoftware.com\" rel=\"nofollow\">WxPic</a>',\n       '<a href=\"http://parolesoftware.com/WxTweeter\" rel=\"nofollow\">WxTweeter</a>',\n       '<a href=\"http://towntweet.com/\" rel=\"nofollow\">TownTweet</a>',\n       '<a href=\"http://weather.gov/\" rel=\"nofollow\">NWS Tornado Warnings</a>',\n       '<a href=\"http://foursquare.com\" rel=\"nofollow\">Foursquare</a>',\n       '<a href=\"http://www.squarespace.com\" rel=\"nofollow\">Squarespace</a>',\n       '<a href=\"http://www.sigalert.com/Map.asp?region=Raleigh\" rel=\"nofollow\">TTN RDU traffic</a>',\n       '<a href=\"http://www.apple.com/\" rel=\"nofollow\">OS X</a>',\n       '<a href=\"https://untappd.com\" rel=\"nofollow\">Untappd</a>',\n       '<a href=\"http://tapbots.com/tweetbot\" rel=\"nofollow\">Tweetbot for i?S</a>',\n       '<a href=\"http://127.0.0.1:4567/auth/twitter\" rel=\"nofollow\">NotableBirds</a>',\n       '<a href=\"https://www.givepulse.com\" rel=\"nofollow\">GivePulseEvents</a>',\n       '<a href=\"http://klinkerapps.com\" rel=\"nofollow\">Talon Android</a>',\n       '<a href=\"http://www.weather.gov/crh/impact\" rel=\"nofollow\">Svr Wx Impact Graphics - SJU</a>',\n       '<a href=\"http://firerescuephotos.com/fa\" rel=\"nofollow\">DPD Incidents</a>',\n       '<a href=\"http://mobile.twitter.com\" rel=\"nofollow\">Mobile Web</a>',\n       '<a href=\"http://www.breakingatlantanews.com/\" rel=\"nofollow\">breakingatlantanews.com</a>',\n       '<a href=\"https://sopresto.mailchimp.com\" rel=\"nofollow\">Social Proxy by Mailchimp</a>',\n       '<a href=\"http://www.cowboysfootball.com\" rel=\"nofollow\">Cowboys Football</a>',\n       '<a href=\"https://periscope.tv\" rel=\"nofollow\">Periscope</a>',\n       '<a href=\"https://onloft.com/tweetlogix\" rel=\"nofollow\">Tweetlogix</a>',\n       '<a href=\"http://tweetli.st/\" rel=\"nofollow\">TweetList!</a>',\n       '<a href=\"http://www.abovetopsecret.com\" rel=\"nofollow\">AboveTopSecret.com New Topics</a>',\n       '<a href=\"http://www.cloudhopper.com/\" rel=\"nofollow\">Cloudhopper</a>',\n       '<a href=\"http://mvilla.it/fenix\" rel=\"nofollow\">Fenix for Android</a>',\n       '<a href=\"http://www.businessinsider.com\" rel=\"nofollow\">Business Insider</a>',\n       '<a href=\"http://ubersocial.com\" rel=\"nofollow\">UberSocial for Android</a>',\n       '<a href=\"http://connectwithliberty.com\" rel=\"nofollow\">ConnectWithLiberty.com</a>',\n       '<a href=\"http://spleck.net/\" rel=\"nofollow\">spleck.chirp</a>',\n       '<a href=\"http://www.hip-hopvibe.com\" rel=\"nofollow\">Hip Hop Vibe Official</a>',\n       '<a href=\"https://www.sprinklr.com\" rel=\"nofollow\">Sprinklr</a>',\n       '<a href=\"http://google.com\" rel=\"nofollow\">newsytweets</a>',\n       '<a href=\"https://www.burli.com\" rel=\"nofollow\">Burli</a>'],\n      dtype=object)"
     },
     "metadata": {},
     "output_type": "execute_result",
     "execution_count": 26
    }
   ],
   "source": [
    "df['Source'].unique()"
   ]
  },
  {
   "cell_type": "code",
   "execution_count": null,
   "metadata": {},
   "outputs": [],
   "source": []
  }
 ],
 "metadata": {
  "kernelspec": {
   "display_name": "Python 3",
   "language": "python",
   "name": "python3"
  },
  "language_info": {
   "codemirror_mode": {
    "name": "ipython",
    "version": 3
   },
   "file_extension": ".py",
   "mimetype": "text/x-python",
   "name": "python",
   "nbconvert_exporter": "python",
   "pygments_lexer": "ipython3",
   "version": "3.7.3"
  },
  "pycharm": {
   "stem_cell": {
    "cell_type": "raw",
    "source": [],
    "metadata": {
     "collapsed": false
    }
   }
  }
 },
 "nbformat": 4,
 "nbformat_minor": 2
}