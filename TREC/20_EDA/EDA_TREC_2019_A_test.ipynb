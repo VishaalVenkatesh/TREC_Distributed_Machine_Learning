{
 "cells": [
  {
   "cell_type": "code",
   "execution_count": 1,
   "metadata": {},
   "outputs": [],
   "source": [
    "import pandas as pd\n",
    "import numpy as np\n",
    "import matplotlib.pyplot as plt\n",
    "import os"
   ]
  },
  {
   "cell_type": "code",
   "execution_count": 5,
   "metadata": {},
   "outputs": [
    {
     "data": {
      "text/plain": [
       "'C:\\\\Users\\\\Vishaal\\\\Documents\\\\GitHub\\\\TREC_Distributed_Machine_Learning\\\\TREC\\\\10_Data\\\\20_Extracted Tweets\\\\20_2019 A Test'"
      ]
     },
     "execution_count": 5,
     "metadata": {},
     "output_type": "execute_result"
    }
   ],
   "source": [
    "os.getcwd()"
   ]
  },
  {
   "cell_type": "code",
   "execution_count": 4,
   "metadata": {},
   "outputs": [],
   "source": [
    "os.chdir('10_Data/20_Extracted Tweets/20_2019 A Test')"
   ]
  },
  {
   "cell_type": "code",
   "execution_count": 8,
   "metadata": {},
   "outputs": [],
   "source": [
    "df = pd.read_csv('Ultimate_Dataframe_TREC_2019_A-test.csv')"
   ]
  },
  {
   "cell_type": "code",
   "execution_count": 9,
   "metadata": {
    "scrolled": false
   },
   "outputs": [
    {
     "data": {
      "text/html": [
       "<div>\n",
       "<style scoped>\n",
       "    .dataframe tbody tr th:only-of-type {\n",
       "        vertical-align: middle;\n",
       "    }\n",
       "\n",
       "    .dataframe tbody tr th {\n",
       "        vertical-align: top;\n",
       "    }\n",
       "\n",
       "    .dataframe thead th {\n",
       "        text-align: right;\n",
       "    }\n",
       "</style>\n",
       "<table border=\"1\" class=\"dataframe\">\n",
       "  <thead>\n",
       "    <tr style=\"text-align: right;\">\n",
       "      <th></th>\n",
       "      <th>Unnamed: 0</th>\n",
       "      <th>ID</th>\n",
       "      <th>Tweet</th>\n",
       "      <th>Event</th>\n",
       "      <th>Source</th>\n",
       "      <th>User_Language</th>\n",
       "      <th>Event_Decrption</th>\n",
       "      <th>Categories</th>\n",
       "      <th>Priority</th>\n",
       "    </tr>\n",
       "  </thead>\n",
       "  <tbody>\n",
       "    <tr>\n",
       "      <th>131</th>\n",
       "      <td>131</td>\n",
       "      <td>389969029890584576</td>\n",
       "      <td>Terrible earthquake.... #prayforcebu #prayforb...</td>\n",
       "      <td>earthquakeBohol2013</td>\n",
       "      <td>&lt;a href=\"http://instagram.com\" rel=\"nofollow\"&gt;...</td>\n",
       "      <td>en</td>\n",
       "      <td>The 2013 Bohol earthquake occurred on October ...</td>\n",
       "      <td>['Hashtags', 'OriginalEvent', 'Sentiment']</td>\n",
       "      <td>Low</td>\n",
       "    </tr>\n",
       "    <tr>\n",
       "      <th>354</th>\n",
       "      <td>354</td>\n",
       "      <td>390169890931232768</td>\n",
       "      <td>@mai__zamora @CrushKoSarahG @Imxianki @Laagann...</td>\n",
       "      <td>earthquakeBohol2013</td>\n",
       "      <td>&lt;a href=\"http://twitter.com\" rel=\"nofollow\"&gt;Tw...</td>\n",
       "      <td>en</td>\n",
       "      <td>The 2013 Bohol earthquake occurred on October ...</td>\n",
       "      <td>['Hashtags', 'Sentiment']</td>\n",
       "      <td>Low</td>\n",
       "    </tr>\n",
       "    <tr>\n",
       "      <th>6774</th>\n",
       "      <td>6774</td>\n",
       "      <td>751241413191282688</td>\n",
       "      <td>In Dallas, during a protest against the recent...</td>\n",
       "      <td>shootingDallas2017</td>\n",
       "      <td>&lt;a href=\"http://twitter.com/download/iphone\" r...</td>\n",
       "      <td>en</td>\n",
       "      <td>Five officers are dead ? four Dallas police of...</td>\n",
       "      <td>['Factoid', 'Sentiment']</td>\n",
       "      <td>Low</td>\n",
       "    </tr>\n",
       "    <tr>\n",
       "      <th>4424</th>\n",
       "      <td>4424</td>\n",
       "      <td>1041099850400583680</td>\n",
       "      <td>@SoonerBorn33 @PackFootball @Jake_Trotter @WVU...</td>\n",
       "      <td>hurricaneFlorence2018</td>\n",
       "      <td>&lt;a href=\"http://twitter.com/download/android\" ...</td>\n",
       "      <td>en</td>\n",
       "      <td>Hurricane Florence was a powerful and long-liv...</td>\n",
       "      <td>['Irrelevant']</td>\n",
       "      <td>Low</td>\n",
       "    </tr>\n",
       "    <tr>\n",
       "      <th>3123</th>\n",
       "      <td>3123</td>\n",
       "      <td>727641793202819074</td>\n",
       "      <td>Thank you @TrishHrytsak. Let's hope everyone o...</td>\n",
       "      <td>fireYMM2016</td>\n",
       "      <td>&lt;a href=\"http://twitter.com/download/iphone\" r...</td>\n",
       "      <td>en</td>\n",
       "      <td>On May 1, 2016, a wildfire began southwest of ...</td>\n",
       "      <td>['Hashtags', 'OriginalEvent', 'Sentiment']</td>\n",
       "      <td>Low</td>\n",
       "    </tr>\n",
       "  </tbody>\n",
       "</table>\n",
       "</div>"
      ],
      "text/plain": [
       "      Unnamed: 0                   ID  \\\n",
       "131          131   389969029890584576   \n",
       "354          354   390169890931232768   \n",
       "6774        6774   751241413191282688   \n",
       "4424        4424  1041099850400583680   \n",
       "3123        3123   727641793202819074   \n",
       "\n",
       "                                                  Tweet  \\\n",
       "131   Terrible earthquake.... #prayforcebu #prayforb...   \n",
       "354   @mai__zamora @CrushKoSarahG @Imxianki @Laagann...   \n",
       "6774  In Dallas, during a protest against the recent...   \n",
       "4424  @SoonerBorn33 @PackFootball @Jake_Trotter @WVU...   \n",
       "3123  Thank you @TrishHrytsak. Let's hope everyone o...   \n",
       "\n",
       "                      Event  \\\n",
       "131     earthquakeBohol2013   \n",
       "354     earthquakeBohol2013   \n",
       "6774     shootingDallas2017   \n",
       "4424  hurricaneFlorence2018   \n",
       "3123            fireYMM2016   \n",
       "\n",
       "                                                 Source User_Language  \\\n",
       "131   <a href=\"http://instagram.com\" rel=\"nofollow\">...            en   \n",
       "354   <a href=\"http://twitter.com\" rel=\"nofollow\">Tw...            en   \n",
       "6774  <a href=\"http://twitter.com/download/iphone\" r...            en   \n",
       "4424  <a href=\"http://twitter.com/download/android\" ...            en   \n",
       "3123  <a href=\"http://twitter.com/download/iphone\" r...            en   \n",
       "\n",
       "                                        Event_Decrption  \\\n",
       "131   The 2013 Bohol earthquake occurred on October ...   \n",
       "354   The 2013 Bohol earthquake occurred on October ...   \n",
       "6774  Five officers are dead ? four Dallas police of...   \n",
       "4424  Hurricane Florence was a powerful and long-liv...   \n",
       "3123  On May 1, 2016, a wildfire began southwest of ...   \n",
       "\n",
       "                                      Categories Priority  \n",
       "131   ['Hashtags', 'OriginalEvent', 'Sentiment']      Low  \n",
       "354                    ['Hashtags', 'Sentiment']      Low  \n",
       "6774                    ['Factoid', 'Sentiment']      Low  \n",
       "4424                              ['Irrelevant']      Low  \n",
       "3123  ['Hashtags', 'OriginalEvent', 'Sentiment']      Low  "
      ]
     },
     "execution_count": 9,
     "metadata": {},
     "output_type": "execute_result"
    }
   ],
   "source": [
    "df.sample(5)"
   ]
  },
  {
   "cell_type": "code",
   "execution_count": 10,
   "metadata": {},
   "outputs": [
    {
     "data": {
      "text/plain": [
       "Unnamed: 0          int64\n",
       "ID                  int64\n",
       "Tweet              object\n",
       "Event              object\n",
       "Source             object\n",
       "User_Language      object\n",
       "Event_Decrption    object\n",
       "Categories         object\n",
       "Priority           object\n",
       "dtype: object"
      ]
     },
     "execution_count": 10,
     "metadata": {},
     "output_type": "execute_result"
    }
   ],
   "source": [
    "df.dtypes"
   ]
  },
  {
   "cell_type": "code",
   "execution_count": 11,
   "metadata": {},
   "outputs": [
    {
     "data": {
      "text/plain": [
       "(8218, 9)"
      ]
     },
     "execution_count": 11,
     "metadata": {},
     "output_type": "execute_result"
    }
   ],
   "source": [
    "df.shape"
   ]
  },
  {
   "cell_type": "code",
   "execution_count": 12,
   "metadata": {},
   "outputs": [],
   "source": [
    "'''\n",
    "    Converting cols to str data type\n",
    "'''\n",
    "df['Source'] = df['Source'].astype('str')\n",
    "df['Event'] = df['Event'].astype('str')"
   ]
  },
  {
   "cell_type": "code",
   "execution_count": 13,
   "metadata": {},
   "outputs": [
    {
     "data": {
      "text/plain": [
       "Unnamed: 0         False\n",
       "ID                 False\n",
       "Tweet              False\n",
       "Event              False\n",
       "Source             False\n",
       "User_Language      False\n",
       "Event_Decrption    False\n",
       "Categories         False\n",
       "Priority           False\n",
       "dtype: bool"
      ]
     },
     "execution_count": 13,
     "metadata": {},
     "output_type": "execute_result"
    }
   ],
   "source": [
    "'''\n",
    "    Source (device iphone, andorid etc) and user_location have Nans\n",
    "'''\n",
    "df.isna().any()"
   ]
  },
  {
   "cell_type": "code",
   "execution_count": 14,
   "metadata": {},
   "outputs": [
    {
     "data": {
      "text/plain": [
       "Low         7212\n",
       "Medium       545\n",
       "High         351\n",
       "Critical     110\n",
       "Name: Priority, dtype: int64"
      ]
     },
     "execution_count": 14,
     "metadata": {},
     "output_type": "execute_result"
    }
   ],
   "source": [
    "s_priority = df['Priority'].apply(lambda x:x).value_counts()\n",
    "s_priority"
   ]
  },
  {
   "cell_type": "code",
   "execution_count": 15,
   "metadata": {},
   "outputs": [
    {
     "data": {
      "text/plain": [
       "Text(0.5, 1.0, 'Count of Tweets by Priority')"
      ]
     },
     "execution_count": 15,
     "metadata": {},
     "output_type": "execute_result"
    },
    {
     "data": {
      "image/png": "[encoded data removed]",
      "text/plain": [
       "<Figure size 720x576 with 1 Axes>"
      ]
     },
     "metadata": {
      "needs_background": "light"
     },
     "output_type": "display_data"
    }
   ],
   "source": [
    "'''\n",
    "    As predicted most tweets are of low prioity. Critical tweets are far and few. Unbalanced.\n",
    "'''\n",
    "plt.figure(figsize=(10,8))\n",
    "plt.bar(s_priority.index, s_priority, color = 'g')\n",
    "plt.xlabel('Priority')\n",
    "plt.ylabel('Number of Tweets')\n",
    "plt.title('Count of Tweets by Priority')"
   ]
  },
  {
   "cell_type": "code",
   "execution_count": 16,
   "metadata": {},
   "outputs": [
    {
     "data": {
      "text/plain": [
       "False    8185\n",
       "True       33\n",
       "Name: Source, dtype: int64"
      ]
     },
     "execution_count": 16,
     "metadata": {},
     "output_type": "execute_result"
    }
   ],
   "source": [
    "'''\n",
    "    We try to get the count of each type of decvice used to tweet. Not sure how it will be useful yet but\n",
    "    I guess good to know.\n",
    "    \n",
    "    By far, the webclient, iphones and androids are the most popular. It also has to be noted that we have some\n",
    "    tweets from non-twitter sources like Facebook and some other random websites.\n",
    "    \n",
    "    Tweet Deck is dashboard application by twitter to manage multiple twitter accounts.\n",
    "'''\n",
    "s_twc = df['Source'].str.contains('Twitter Web Client').apply(lambda x:x).value_counts()\n",
    "s_tweetdeck = df['Source'].str.contains('TweetDeck').apply(lambda x:x).value_counts()\n",
    "s_tw = df['Source'].str.contains('Twitter for Websites').apply(lambda x:x).value_counts()\n",
    "s_tf = df['Source'].str.contains('twitterfeed').apply(lambda x:x).value_counts()\n",
    "s_iphone = df['Source'].str.contains('Twitter for iPhone').apply(lambda x:x).value_counts()\n",
    "s_android = df['Source'].str.contains('Twitter for Android').apply(lambda x:x).value_counts()\n",
    "s_ipad = df['Source'].str.contains('Twitter for iPad').apply(lambda x:x).value_counts()\n",
    "s_bb = df['Source'].str.contains('Twitter for BlackBerry').apply(lambda x:x).value_counts()\n",
    "s_f = df['Source'].str.contains('Facebook').apply(lambda x:x).value_counts()\n",
    "\n",
    "s_tw"
   ]
  },
  {
   "cell_type": "code",
   "execution_count": 17,
   "metadata": {},
   "outputs": [],
   "source": [
    "source_type = ['Web Client', 'iPhone', 'Android', 'Twitter Feed', 'Facebook', 'Tweet Deck','iPad', 'BlackBerry', 'Websites']\n",
    "source_count = [s_twc[1], s_iphone[1], s_android[1], s_tf[1], s_f[1], s_tweetdeck[1], s_ipad[1], s_bb[1], s_tw[1]]"
   ]
  },
  {
   "cell_type": "code",
   "execution_count": 18,
   "metadata": {
    "scrolled": false
   },
   "outputs": [
    {
     "data": {
      "text/plain": [
       "Text(0.5, 1.0, 'Tweets Collected by Source')"
      ]
     },
     "execution_count": 18,
     "metadata": {},
     "output_type": "execute_result"
    },
    {
     "data": {
      "image/png": "[encoded data removed]",
      "text/plain": [
       "<Figure size 720x576 with 1 Axes>"
      ]
     },
     "metadata": {
      "needs_background": "light"
     },
     "output_type": "display_data"
    }
   ],
   "source": [
    "plt.figure(figsize=(10,8))\n",
    "plt.bar(source_type, source_count, color = 'blue')\n",
    "plt.title('Tweets Collected by Source')"
   ]
  },
  {
   "cell_type": "code",
   "execution_count": 19,
   "metadata": {},
   "outputs": [],
   "source": [
    "'''\n",
    "    We shall now look at the tweet counts by type of disaster. Attacks, bombings and school shootings are considered \n",
    "    separately despite having some commonalities in the nature of the disaster. \n",
    "    \n",
    "    Most of the tweets are from earthquakes and the least are from tornadoes.\n",
    "'''\n",
    "\n",
    "event_type = ['flood', 'earthquake', 'fire', 'shooting', 'hurricane' ]\n",
    "event_count = {}\n",
    "for element in event_type:\n",
    "    counts = df['Event'].str.contains(element).apply(lambda x:x).value_counts()\n",
    "    event_count[element] = counts[1]\n",
    "\n",
    "event_count = sorted(event_count.items(), key=lambda kv: kv[1], reverse = True)\n",
    "keys = []\n",
    "val = []\n",
    "for element in event_count:\n",
    "    keys.append(element[0])\n",
    "    val.append(element[1])\n",
    "    "
   ]
  },
  {
   "cell_type": "code",
   "execution_count": 20,
   "metadata": {},
   "outputs": [
    {
     "data": {
      "text/plain": [
       "Text(0.5, 1.0, 'Tweets Collected by Disaster Type')"
      ]
     },
     "execution_count": 20,
     "metadata": {},
     "output_type": "execute_result"
    },
    {
     "data": {
      "image/png": "[encoded data removed]",
      "text/plain": [
       "<Figure size 720x576 with 1 Axes>"
      ]
     },
     "metadata": {
      "needs_background": "light"
     },
     "output_type": "display_data"
    }
   ],
   "source": [
    "plt.figure(figsize=(10,8))\n",
    "plt.bar(keys, val, color = 'orange')\n",
    "plt.title('Tweets Collected by Disaster Type')"
   ]
  },
  {
   "cell_type": "code",
   "execution_count": 21,
   "metadata": {},
   "outputs": [],
   "source": [
    "'''\n",
    "    Writing each type of disaster as a new csv file for feature extraction\n",
    "'''\n",
    "for element in event_type:\n",
    "    new_df = df[df['Event'].str.contains(element)]\n",
    "    new_df.to_csv(element+'_TREC_2019_A_test.csv')"
   ]
  },
  {
   "cell_type": "code",
   "execution_count": 22,
   "metadata": {},
   "outputs": [
    {
     "data": {
      "text/plain": [
       "110"
      ]
     },
     "execution_count": 22,
     "metadata": {},
     "output_type": "execute_result"
    }
   ],
   "source": [
    "a = np.array(df['Tweet'][df['Priority'] == 'Critical'])\n",
    "len(a)"
   ]
  },
  {
   "cell_type": "code",
   "execution_count": 23,
   "metadata": {},
   "outputs": [],
   "source": [
    "l = {}\n",
    "for element in event_type:\n",
    "    df_1 = df[(df['Priority'] == 'Critical') & (df['Event'].str.contains(element))]\n",
    "    l[element] = df_1.shape[0]\n",
    "    \n",
    "l = sorted(l.items(), key=lambda kv: kv[1], reverse = True)\n",
    "key = []\n",
    "values = []\n",
    "for element in l:\n",
    "    key.append(element[0])\n",
    "    values.append(element[1])\n",
    "    "
   ]
  },
  {
   "cell_type": "code",
   "execution_count": 25,
   "metadata": {},
   "outputs": [
    {
     "data": {
      "text/plain": [
       "Text(0.5, 1.0, 'Critical Tweets by Disaster Type - 2019 A Test')"
      ]
     },
     "execution_count": 25,
     "metadata": {},
     "output_type": "execute_result"
    },
    {
     "data": {
      "image/png": "[encoded data removed]",
      "text/plain": [
       "<Figure size 720x576 with 1 Axes>"
      ]
     },
     "metadata": {
      "needs_background": "light"
     },
     "output_type": "display_data"
    }
   ],
   "source": [
    "plt.figure(figsize=(10,8))\n",
    "plt.bar(key, values, color = 'g')\n",
    "plt.title('Critical Tweets by Disaster Type - 2019 A Test')"
   ]
  },
  {
   "cell_type": "code",
   "execution_count": 25,
   "metadata": {},
   "outputs": [
    {
     "data": {
      "text/plain": [
       "array(['earthquakeBohol2013', 'earthquakeCalifornia2014', 'fireYMM2016',\n",
       "       'floodChoco2019', 'hurricaneFlorence2018', 'shootingDallas2017'],\n",
       "      dtype=object)"
      ]
     },
     "execution_count": 25,
     "metadata": {},
     "output_type": "execute_result"
    }
   ],
   "source": [
    "df['Event'].unique()"
   ]
  },
  {
   "cell_type": "code",
   "execution_count": 34,
   "metadata": {},
   "outputs": [
    {
     "data": {
      "text/plain": [
       "array(['<a href=\"http://twitter.com\" rel=\"nofollow\">Twitter Web Client</a>',\n",
       "       '<a href=\"http://twitter.com/download/android\" rel=\"nofollow\">Twitter for Android</a>',\n",
       "       '<a href=\"http://stone.com/Twittelator\" rel=\"nofollow\">Twittelator</a>',\n",
       "       '<a href=\"http://twitter.com/download/iphone\" rel=\"nofollow\">Twitter for iPhone</a>',\n",
       "       '<a href=\"http://www.myplume.com/\" rel=\"nofollow\">PlumeÂ\\xa0forÂ\\xa0Android</a>',\n",
       "       '<a href=\"http://twitterfeed.com\" rel=\"nofollow\">twitterfeed</a>',\n",
       "       '<a href=\"http://twitter.com/#!/download/ipad\" rel=\"nofollow\">Twitter for iPad</a>',\n",
       "       '<a href=\"https://dlvrit.com/\" rel=\"nofollow\">dlvr.it</a>',\n",
       "       '<a href=\"http://www.socialflow.com\" rel=\"nofollow\">SocialFlow</a>',\n",
       "       '<a href=\"http://www.hootsuite.com\" rel=\"nofollow\">Hootsuite</a>',\n",
       "       '<a href=\"http://www.facebook.com/twitter\" rel=\"nofollow\">Facebook</a>',\n",
       "       '<a href=\"https://mobile.twitter.com\" rel=\"nofollow\">Mobile Web (M2)</a>',\n",
       "       '<a href=\"http://www.tumblr.com/\" rel=\"nofollow\">Tumblr</a>',\n",
       "       '<a href=\"http://tweetadder.com\" rel=\"nofollow\">TweetAdder v4</a>',\n",
       "       '<a href=\"http://ubersocial.com/\" rel=\"nofollow\">UberSociÐ°l for Ñ–Phone</a>',\n",
       "       '<a href=\"http://twitter.com\" rel=\"nofollow\">Twitter</a>',\n",
       "       '<a href=\"http://www.GlobalSunTimes.com\" rel=\"nofollow\">globalsuntimes</a>',\n",
       "       '<a href=\"https://itunes.apple.com/us/app/cnn-app-for-iphone/id331786748?mt=8&uo=4\" rel=\"nofollow\">CNN App for iPhone</a>',\n",
       "       '<a href=\"https://about.twitter.com/products/tweetdeck\" rel=\"nofollow\">TweetDeck</a>',\n",
       "       '<a href=\"https://mobile.twitter.com\" rel=\"nofollow\">Twitter Lite</a>',\n",
       "       '<a href=\"https://ifttt.com\" rel=\"nofollow\">IFTTT</a>',\n",
       "       '<a href=\"http://www.twistools.com\" rel=\"nofollow\">Twistools</a>',\n",
       "       '<a href=\"http://www.twitter.com\" rel=\"nofollow\">Twitter for Windows Phone</a>',\n",
       "       '<a href=\"http://blackberry.com/twitter\" rel=\"nofollow\">Twitter for BlackBerryÂ®</a>',\n",
       "       '<a href=\"http://www.tweetcaster.com\" rel=\"nofollow\">TweetCaster for Android</a>',\n",
       "       '<a href=\"http://tweetitow.com\" rel=\"nofollow\">@tweetitow</a>',\n",
       "       '<a href=\"http://instagram.com\" rel=\"nofollow\">Instagram</a>',\n",
       "       '<a href=\"https://dev.twitter.com/docs/tfw\" rel=\"nofollow\">Twitter for Websites</a>',\n",
       "       '<a href=\"https://roundteam.co\" rel=\"nofollow\">RoundTeam</a>',\n",
       "       '<a href=\"http://twipple.jp/\" rel=\"nofollow\">ã�¤ã�„ã�£ã�·ã‚‹ã€€</a>',\n",
       "       '<a href=\"http://www.Neatly.me\" rel=\"nofollow\">Neatly For BlackBerry 10</a>',\n",
       "       '<a href=\"http://myrt.dpl.local.antlab.co.uk/\" rel=\"nofollow\">MyRetweetUK</a>',\n",
       "       '<a href=\"http://www.linkedin.com/\" rel=\"nofollow\">LinkedIn</a>',\n",
       "       '<a href=\"http://www.apple.com\" rel=\"nofollow\">iOS</a>',\n",
       "       '<a href=\"http://ubersocial.com\" rel=\"nofollow\">UberSocial for iPhone</a>',\n",
       "       '<a href=\"http://publicize.wp.com/\" rel=\"nofollow\">WordPress.com</a>',\n",
       "       '<a href=\"http://circanews.com/\" rel=\"nofollow\">Circa News</a>',\n",
       "       '<a href=\"http://www.echofon.com/\" rel=\"nofollow\">Echofon</a>',\n",
       "       '<a href=\"http://m.ubersocial.com\" rel=\"nofollow\">UberSocial Mobile</a>',\n",
       "       '<a href=\"http://tapbots.com/tweetbot\" rel=\"nofollow\">Tweetbot for iOS</a>',\n",
       "       '<a href=\"http://itunes.apple.com/us/app/twitter/id409789998?mt=12\" rel=\"nofollow\">Twitter for Mac</a>',\n",
       "       '<a href=\"http://www.networkedblogs.com/\" rel=\"nofollow\">NetworkedBlogs</a>',\n",
       "       '<a href=\"http://twitter.com/download/iphone\" rel=\"nofollow\">Tâ€Žwitter for iPhone</a>',\n",
       "       '<a href=\"http://www.twiterbytopic.com\" rel=\"nofollow\">post from php shs</a>',\n",
       "       '<a href=\"http://www.theindiansubcontinent.com\" rel=\"nofollow\">TheIndianSubcontinentNewsAgency</a>',\n",
       "       '<a href=\"http://www.exacttarget.com/social\" rel=\"nofollow\">SocialEngage</a>',\n",
       "       '<a href=\"http://www.socialnewsdesk.com\" rel=\"nofollow\">SocialNewsDesk</a>',\n",
       "       '<a href=\"http://www.samsungmobile.com\" rel=\"nofollow\">Samsung Mobile</a>',\n",
       "       '<a href=\"http://news24s.com\" rel=\"nofollow\">Global News USA</a>',\n",
       "       '<a href=\"http://www.WindowsPhone.com/\" rel=\"nofollow\">Windows Phone</a>',\n",
       "       '<a href=\"http://www.fabienlavocat.com\" rel=\"nofollow\">Earthquakes for Windows Phone</a>',\n",
       "       '<a href=\"http://ubersocial.com\" rel=\"nofollow\">UberSocial for BlackBerry</a>',\n",
       "       '<a href=\"http://www.google.com/\" rel=\"nofollow\">Google</a>',\n",
       "       '<a href=\"http://erased159468.com\" rel=\"nofollow\">erased159468</a>',\n",
       "       '<a href=\"https://chrome.google.com/extensions/detail/encaiiljifbdbjlphpgpiimidegddhic\" rel=\"nofollow\">Silver Bird</a>',\n",
       "       '<a href=\"http://www.newstrackindia.com\" rel=\"nofollow\">Newstrackindia</a>',\n",
       "       '<a href=\"http://bufferapp.com\" rel=\"nofollow\">Buffer</a>',\n",
       "       '<a href=\"https://twitter.com/HKOQEXPE\" rel=\"nofollow\">HKOQEXPE</a>',\n",
       "       '<a href=\"http://store.ovi.com/content/256340\" rel=\"nofollow\">Twitter for Nokia S40</a>',\n",
       "       '<a href=\"https://twitter.com/download/android\" rel=\"nofollow\">Twitter for Android Tablets</a>',\n",
       "       '<a href=\"https://zapier.com/\" rel=\"nofollow\">Zapier.com</a>',\n",
       "       '<a href=\"http://www.allaccess.com/\" rel=\"nofollow\">AllAccess.com</a>',\n",
       "       '<a href=\"https://buffer.com\" rel=\"nofollow\">Buffer</a>',\n",
       "       '<a href=\"http://www.ajaymatharu.com/\" rel=\"nofollow\">Tweet Old Post</a>',\n",
       "       '<a href=\"http://erased1601937.com\" rel=\"nofollow\">erased1601937</a>',\n",
       "       '<a href=\"http://www.seismo.unr.edu\" rel=\"nofollow\">NVSeismoLab</a>',\n",
       "       '<a href=\"http://www.grouptweet.com\" rel=\"nofollow\">GroupTweet</a>',\n",
       "       '<a href=\"http://www.droolindog.net\" rel=\"nofollow\">droolintwitpost</a>',\n",
       "       '<a href=\"http://www.1stheadlines.com\" rel=\"nofollow\">Chicago News Heds</a>',\n",
       "       '<a href=\"http://www.everypost.me\" rel=\"nofollow\">Everypost</a>',\n",
       "       '<a href=\"http://mercury-browser.com\" rel=\"nofollow\">Mercury Browser</a>',\n",
       "       '<a href=\"https://www.google.com/\" rel=\"nofollow\">Google</a>',\n",
       "       '<a href=\"https://itunes.apple.com/us/app/earthquake-tsunami-pro/id673013025?mt=8&uo=4\" rel=\"nofollow\">Earthquake Tsunami Pro on iOS</a>',\n",
       "       '<a href=\"http://cyg-newsagent.net/\" rel=\"nofollow\">CyG NewsAgent</a>',\n",
       "       '<a href=\"http://www.twitter.com\" rel=\"nofollow\">Twitter for BlackBerry</a>',\n",
       "       '<a href=\"https://www.spredfast.com/\" rel=\"nofollow\">Spredfast app</a>',\n",
       "       '<a href=\"http://trendsmap.com/\" rel=\"nofollow\">Trendsmap Alerting</a>',\n",
       "       '<a href=\"http://www.socastdigital.com\" rel=\"nofollow\">SoCast Digital</a>',\n",
       "       '<a href=\"http://backtoblaq.com\" rel=\"nofollow\">Blaq for BlackBerryÂ® 10</a>',\n",
       "       '<a href=\"http://linkis.com\" rel=\"nofollow\">Linkis: turn sharing into growth</a>',\n",
       "       '<a href=\"http://www.google.nl\" rel=\"nofollow\">PageFacts_bot</a>',\n",
       "       '<a href=\"http://snappytv.com\" rel=\"nofollow\">SnappyTV.com</a>',\n",
       "       '<a href=\"https://mobile.twitter.com\" rel=\"nofollow\">Twitter Web App</a>',\n",
       "       '<a href=\"http://tapbots.com/tweetbot\" rel=\"nofollow\">Tweetbot for iÎŸS</a>',\n",
       "       '<a href=\"http://sites.google.com/site/yorufukurou/\" rel=\"nofollow\">YoruFukurou</a>',\n",
       "       '<a href=\"http://janetter.net/\" rel=\"nofollow\">Janetter Pro for iPad</a>',\n",
       "       '<a href=\"https://sproutsocial.com\" rel=\"nofollow\">Sprout Social</a>',\n",
       "       '<a href=\"http://twubs.com/\" rel=\"nofollow\">Twubs</a>',\n",
       "       '<a href=\"http://www.twitter.com\" rel=\"nofollow\">Twitter for Windows</a>',\n",
       "       '<a href=\"http://www.handmark.com\" rel=\"nofollow\">TweetCaster for iOS</a>',\n",
       "       '<a href=\"https://tapbots.com/software/tweetbot/mac\" rel=\"nofollow\">Tweetbot for Mac</a>',\n",
       "       '<a href=\"http://www.twitshot.com\" rel=\"nofollow\">Twitshot.com</a>',\n",
       "       '<a href=\"http://www.onetile.ru/tweetit\" rel=\"nofollow\">Tweet It! for Windows</a>',\n",
       "       '<a href=\"http://www.tagthebird.com\" rel=\"nofollow\">Tag the Bird 4</a>',\n",
       "       '<a href=\"https://twitterrific.com/ios\" rel=\"nofollow\">Twitterrific for iOS</a>',\n",
       "       '<a href=\"http://www.baronservices.com\" rel=\"nofollow\">WeatherShare</a>',\n",
       "       '<a href=\"https://www.hootsuite.com\" rel=\"nofollow\">Hootsuite Inc.</a>',\n",
       "       '<a href=\"http://www.msc-oberaussem.de\" rel=\"nofollow\">r_expexje</a>',\n",
       "       '<a href=\"http://tweepsmap.com\" rel=\"nofollow\">Tweepsmap</a>',\n",
       "       '<a href=\"http://www.digitalpour.com\" rel=\"nofollow\">DPBeerDashboard</a>',\n",
       "       '<a href=\"http://www.yamathosupply2.com\" rel=\"nofollow\">Aldo Zaffalon</a>',\n",
       "       '<a href=\"https://www.careerarc.com\" rel=\"nofollow\">CareerArc 2.0</a>',\n",
       "       '<a href=\"http://workfor.us/jobboard\" rel=\"nofollow\">Work For Us</a>',\n",
       "       '<a href=\"https://studio.twitter.com\" rel=\"nofollow\">Twitter Media Studio</a>',\n",
       "       '<a href=\"http://www.DynamicTweets.com\" rel=\"nofollow\">Dynamic Tweets</a>',\n",
       "       '<a href=\"https://getatcheap.online/\" rel=\"nofollow\">Getatcheap</a>',\n",
       "       '<a href=\"https://twitter.com/daniceraj\" rel=\"nofollow\">TwitterAppBots</a>',\n",
       "       '<a href=\"http://werovin.com\" rel=\"nofollow\">Michael Sommermeyer</a>',\n",
       "       '<a href=\"https://talesofabackpacker.com\" rel=\"nofollow\">Tales of a Backpacker Revive Pos</a>',\n",
       "       '<a href=\"https://mesonet.agron.iastate.edu/projects/iembot/\" rel=\"nofollow\">iembot</a>',\n",
       "       '<a href=\"http://cad.chp.ca.gov/\" rel=\"nofollow\">CHP Bot OC</a>',\n",
       "       '<a href=\"http://twittbot.net/\" rel=\"nofollow\">twittbot.net</a>',\n",
       "       '<a href=\"https://brothereyeomac2017.wixsite.com/eyeseeall\" rel=\"nofollow\">OMAC Ute</a>',\n",
       "       '<a href=\"http://cogovtweets.measuredvoice.com\" rel=\"nofollow\">Great Colorado Government Tweets</a>',\n",
       "       '<a href=\"https://twitter.com/ReliefTracker\" rel=\"nofollow\">Disaster_Post_Per_Day</a>',\n",
       "       '<a href=\"https://www.electionnewsbay.com\" rel=\"nofollow\">Election News Bay</a>',\n",
       "       '<a href=\"http://Eco1stArt.com\" rel=\"nofollow\">Eco Promotions</a>',\n",
       "       '<a href=\"http://www.onlinedealtrick.com/\" rel=\"nofollow\">OnlineDealTrick</a>',\n",
       "       '<a href=\"https://lbrenman.wixsite.com/mysite\" rel=\"nofollow\">arrowtwitbotexample</a>',\n",
       "       '<a href=\"http://philippines.networkofnews.com/\" rel=\"nofollow\">NetworkOfNews_Philippines</a>',\n",
       "       '<a href=\"http://parolesoftware.com\" rel=\"nofollow\">WxPic</a>',\n",
       "       '<a href=\"http://parolesoftware.com/WxTweeter\" rel=\"nofollow\">WxTweeter</a>',\n",
       "       '<a href=\"http://towntweet.com/\" rel=\"nofollow\">TownTweet</a>',\n",
       "       '<a href=\"http://weather.gov/\" rel=\"nofollow\">NWS Tornado Warnings</a>',\n",
       "       '<a href=\"http://foursquare.com\" rel=\"nofollow\">Foursquare</a>',\n",
       "       '<a href=\"http://www.squarespace.com\" rel=\"nofollow\">Squarespace</a>',\n",
       "       '<a href=\"http://www.sigalert.com/Map.asp?region=Raleigh\" rel=\"nofollow\">TTN RDU traffic</a>',\n",
       "       '<a href=\"http://www.apple.com/\" rel=\"nofollow\">OS X</a>',\n",
       "       '<a href=\"https://untappd.com\" rel=\"nofollow\">Untappd</a>',\n",
       "       '<a href=\"http://tapbots.com/tweetbot\" rel=\"nofollow\">Tweetbot for i?S</a>',\n",
       "       '<a href=\"http://127.0.0.1:4567/auth/twitter\" rel=\"nofollow\">NotableBirds</a>',\n",
       "       '<a href=\"https://www.givepulse.com\" rel=\"nofollow\">GivePulseEvents</a>',\n",
       "       '<a href=\"http://klinkerapps.com\" rel=\"nofollow\">Talon Android</a>',\n",
       "       '<a href=\"http://www.weather.gov/crh/impact\" rel=\"nofollow\">Svr Wx Impact Graphics - SJU</a>',\n",
       "       '<a href=\"http://firerescuephotos.com/fa\" rel=\"nofollow\">DPD Incidents</a>',\n",
       "       '<a href=\"http://mobile.twitter.com\" rel=\"nofollow\">Mobile Web</a>',\n",
       "       '<a href=\"http://www.breakingatlantanews.com/\" rel=\"nofollow\">breakingatlantanews.com</a>',\n",
       "       '<a href=\"https://sopresto.mailchimp.com\" rel=\"nofollow\">Social Proxy by Mailchimp</a>',\n",
       "       '<a href=\"http://www.cowboysfootball.com\" rel=\"nofollow\">Cowboys Football</a>',\n",
       "       '<a href=\"https://periscope.tv\" rel=\"nofollow\">Periscope</a>',\n",
       "       '<a href=\"https://onloft.com/tweetlogix\" rel=\"nofollow\">Tweetlogix</a>',\n",
       "       '<a href=\"http://tweetli.st/\" rel=\"nofollow\">TweetList!</a>',\n",
       "       '<a href=\"http://www.abovetopsecret.com\" rel=\"nofollow\">AboveTopSecret.com New Topics</a>',\n",
       "       '<a href=\"http://www.cloudhopper.com/\" rel=\"nofollow\">Cloudhopper</a>',\n",
       "       '<a href=\"http://mvilla.it/fenix\" rel=\"nofollow\">Fenix for Android</a>',\n",
       "       '<a href=\"http://www.businessinsider.com\" rel=\"nofollow\">Business Insider</a>',\n",
       "       '<a href=\"http://ubersocial.com\" rel=\"nofollow\">UberSocial for Android</a>',\n",
       "       '<a href=\"http://connectwithliberty.com\" rel=\"nofollow\">ConnectWithLiberty.com</a>',\n",
       "       '<a href=\"http://spleck.net/\" rel=\"nofollow\">spleck.chirp</a>',\n",
       "       '<a href=\"http://www.hip-hopvibe.com\" rel=\"nofollow\">Hip Hop Vibe Official</a>',\n",
       "       '<a href=\"https://www.sprinklr.com\" rel=\"nofollow\">Sprinklr</a>',\n",
       "       '<a href=\"http://google.com\" rel=\"nofollow\">newsytweets</a>',\n",
       "       '<a href=\"https://www.burli.com\" rel=\"nofollow\">Burli</a>'],\n",
       "      dtype=object)"
      ]
     },
     "execution_count": 34,
     "metadata": {},
     "output_type": "execute_result"
    }
   ],
   "source": [
    "df['Source'].unique()"
   ]
  },
  {
   "cell_type": "code",
   "execution_count": null,
   "metadata": {},
   "outputs": [],
   "source": []
  }
 ],
 "metadata": {
  "kernelspec": {
   "display_name": "Python 3",
   "language": "python",
   "name": "python3"
  },
  "language_info": {
   "codemirror_mode": {
    "name": "ipython",
    "version": 3
   },
   "file_extension": ".py",
   "mimetype": "text/x-python",
   "name": "python",
   "nbconvert_exporter": "python",
   "pygments_lexer": "ipython3",
   "version": "3.7.3"
  }
 },
 "nbformat": 4,
 "nbformat_minor": 2
}
