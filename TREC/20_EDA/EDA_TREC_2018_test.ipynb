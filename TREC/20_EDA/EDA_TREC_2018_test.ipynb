{
 "cells": [
  {
   "cell_type": "code",
   "execution_count": 63,
   "metadata": {
    "pycharm": {
     "is_executing": false
    }
   },
   "outputs": [],
   "source": [
    "import pandas as pd\n",
    "import numpy as np\n",
    "import matplotlib.pyplot as plt\n",
    "import os"
   ]
  },
  {
   "cell_type": "code",
   "execution_count": 61,
   "metadata": {
    "pycharm": {
     "is_executing": false
    }
   },
   "outputs": [
    {
     "data": {
      "text/plain": "'C:\\\\Users\\\\Vishaal\\\\Documents\\\\GitHub\\\\TREC_Distributed_Machine_Learning\\\\TREC\\\\10_Data\\\\20_Extracted Tweets\\\\15_2018 Test'"
     },
     "metadata": {},
     "output_type": "execute_result",
     "execution_count": 64
    }
   ],
   "source": [
    "os.getcwd()"
   ]
  },
  {
   "cell_type": "code",
   "execution_count": 65,
   "outputs": [
    {
     "traceback": [
      "\u001b[1;31m---------------------------------------------------------------------------\u001b[0m",
      "\u001b[1;31mFileNotFoundError\u001b[0m                         Traceback (most recent call last)",
      "\u001b[1;32m<ipython-input-65-e9b59986d28c>\u001b[0m in \u001b[0;36m<module>\u001b[1;34m\u001b[0m\n\u001b[1;32m----> 1\u001b[1;33m \u001b[0mos\u001b[0m\u001b[1;33m.\u001b[0m\u001b[0mchdir\u001b[0m\u001b[1;33m(\u001b[0m\u001b[1;34m'../10_Data/20_Extracted Tweets/15_2018 Test'\u001b[0m\u001b[1;33m)\u001b[0m\u001b[1;33m\u001b[0m\u001b[1;33m\u001b[0m\u001b[0m\n\u001b[0m\u001b[0;32m      2\u001b[0m \u001b[1;33m\u001b[0m\u001b[0m\n",
      "\u001b[1;31mFileNotFoundError\u001b[0m: [WinError 3] The system cannot find the path specified: '../10_Data/20_Extracted Tweets/15_2018 Test'"
     ],
     "ename": "FileNotFoundError",
     "evalue": "[WinError 3] The system cannot find the path specified: '../10_Data/20_Extracted Tweets/15_2018 Test'",
     "output_type": "error"
    }
   ],
   "source": [
    "os.chdir('../10_Data/20_Extracted Tweets/15_2018 Test')"
   ],
   "metadata": {
    "collapsed": false,
    "pycharm": {
     "name": "#%%\n",
     "is_executing": false
    }
   }
  },
  {
   "cell_type": "code",
   "execution_count": null,
   "metadata": {
    "pycharm": {
     "is_executing": false
    }
   },
   "outputs": [],
   "source": [
    "df = pd.read_csv('Ultimate_Dataframe_TREC_2018_test.csv')"
   ]
  },
  {
   "cell_type": "code",
   "execution_count": 66,
   "metadata": {
    "scrolled": false,
    "pycharm": {
     "is_executing": false
    }
   },
   "outputs": [
    {
     "data": {
      "text/plain": "       Unnamed: 0                  ID  \\\n15720       15720  400928414926127104   \n1594         1594  323919605171122177   \n4703         4703  592069854913536001   \n10761       10761  233108087530192896   \n12365       12365  541379957860364288   \n\n                                                   Tweet  \\\n15720  RT @oxfamgb: #Haiyan latest: 11.5 million peop...   \n1594   RT @aceYthekidd: Us: \"You hear bout that shit ...   \n4703                   Terrible. https://t.co/j4UD5src9M   \n10761  RT @BruroMars: #bangonPilipinas #reliefPH Keep...   \n12365  Communist party orders NPA to help Ruby victim...   \n\n                       Event  Retweet_Count  Follower_Count  \\\n15720     typhoonYolanda2013             62             371   \n1594      bostonBombings2013              1             364   \n4703     nepalEarthquake2015              0             197   \n10761  philipinnesFloods2012            817             296   \n12365     typhoonHagupit2014              0             428   \n\n                                                  Source     User_Created_at  \\\n15720  <a href=\"http://twitter.com/download/iphone\" r... 2013-04-12 11:13:54   \n1594   <a href=\"http://twitter.com/download/iphone\" r... 2009-05-06 21:42:09   \n4703   <a href=\"http://twitter.com/download/android\" ... 2011-05-31 20:44:07   \n10761  <a href=\"http://twitter.com/download/iphone\" r... 2010-08-22 14:26:15   \n12365  <a href=\"http://allpinoynews.com\" rel=\"nofollo... 2014-10-11 12:38:04   \n\n         Tweet_Created_at User_Language User_Screen_Name  \\\n15720 2013-11-14 10:09:17            en    OxfamMusicEXE   \n1594  2013-04-15 22:03:46            en   BelieveInLamon   \n4703  2015-04-25 20:57:08            es   cristina_arpon   \n10761 2012-08-08 07:51:13            en         AlvinCee   \n12365 2014-12-06 23:53:34            en     allpinoynews   \n\n                        User_Location  \\\n15720  97 SOUTH ST, EXETER, DEVON, UK   \n1594                Lost in the world   \n4703                            Spain   \n10761                     Philippines   \n12365                     Philippines   \n\n                                         Event_Decrption  \\\n15720  Typhoon Haiyan, known as Super Typhoon Yolanda...   \n1594   During the annual Boston Marathon on April 15,...   \n4703   The April 2015 Nepal earthquake (also known as...   \n10761  The 2012 Luzon southwest monsoon floods were a...   \n12365  Typhoon Hagupit, known in the Philippines as T...   \n\n                                              Categories Priority  \n15720       ['Donations', 'Factoid', 'Hashtags', 'News']   Medium  \n1594                         ['Sentiment', 'Irrelevant']      Low  \n4703                                      ['Irrelevant']      Low  \n10761                  ['ThirdPartyObservation', 'News']      Low  \n12365  ['ThirdPartyObservation', 'ServiceAvailable', ...      Low  ",
      "text/html": "<div>\n<style scoped>\n    .dataframe tbody tr th:only-of-type {\n        vertical-align: middle;\n    }\n\n    .dataframe tbody tr th {\n        vertical-align: top;\n    }\n\n    .dataframe thead th {\n        text-align: right;\n    }\n</style>\n<table border=\"1\" class=\"dataframe\">\n  <thead>\n    <tr style=\"text-align: right;\">\n      <th></th>\n      <th>Unnamed: 0</th>\n      <th>ID</th>\n      <th>Tweet</th>\n      <th>Event</th>\n      <th>Retweet_Count</th>\n      <th>Follower_Count</th>\n      <th>Source</th>\n      <th>User_Created_at</th>\n      <th>Tweet_Created_at</th>\n      <th>User_Language</th>\n      <th>User_Screen_Name</th>\n      <th>User_Location</th>\n      <th>Event_Decrption</th>\n      <th>Categories</th>\n      <th>Priority</th>\n    </tr>\n  </thead>\n  <tbody>\n    <tr>\n      <th>15720</th>\n      <td>15720</td>\n      <td>400928414926127104</td>\n      <td>RT @oxfamgb: #Haiyan latest: 11.5 million peop...</td>\n      <td>typhoonYolanda2013</td>\n      <td>62</td>\n      <td>371</td>\n      <td>&lt;a href=\"http://twitter.com/download/iphone\" r...</td>\n      <td>2013-04-12 11:13:54</td>\n      <td>2013-11-14 10:09:17</td>\n      <td>en</td>\n      <td>OxfamMusicEXE</td>\n      <td>97 SOUTH ST, EXETER, DEVON, UK</td>\n      <td>Typhoon Haiyan, known as Super Typhoon Yolanda...</td>\n      <td>['Donations', 'Factoid', 'Hashtags', 'News']</td>\n      <td>Medium</td>\n    </tr>\n    <tr>\n      <th>1594</th>\n      <td>1594</td>\n      <td>323919605171122177</td>\n      <td>RT @aceYthekidd: Us: \"You hear bout that shit ...</td>\n      <td>bostonBombings2013</td>\n      <td>1</td>\n      <td>364</td>\n      <td>&lt;a href=\"http://twitter.com/download/iphone\" r...</td>\n      <td>2009-05-06 21:42:09</td>\n      <td>2013-04-15 22:03:46</td>\n      <td>en</td>\n      <td>BelieveInLamon</td>\n      <td>Lost in the world</td>\n      <td>During the annual Boston Marathon on April 15,...</td>\n      <td>['Sentiment', 'Irrelevant']</td>\n      <td>Low</td>\n    </tr>\n    <tr>\n      <th>4703</th>\n      <td>4703</td>\n      <td>592069854913536001</td>\n      <td>Terrible. https://t.co/j4UD5src9M</td>\n      <td>nepalEarthquake2015</td>\n      <td>0</td>\n      <td>197</td>\n      <td>&lt;a href=\"http://twitter.com/download/android\" ...</td>\n      <td>2011-05-31 20:44:07</td>\n      <td>2015-04-25 20:57:08</td>\n      <td>es</td>\n      <td>cristina_arpon</td>\n      <td>Spain</td>\n      <td>The April 2015 Nepal earthquake (also known as...</td>\n      <td>['Irrelevant']</td>\n      <td>Low</td>\n    </tr>\n    <tr>\n      <th>10761</th>\n      <td>10761</td>\n      <td>233108087530192896</td>\n      <td>RT @BruroMars: #bangonPilipinas #reliefPH Keep...</td>\n      <td>philipinnesFloods2012</td>\n      <td>817</td>\n      <td>296</td>\n      <td>&lt;a href=\"http://twitter.com/download/iphone\" r...</td>\n      <td>2010-08-22 14:26:15</td>\n      <td>2012-08-08 07:51:13</td>\n      <td>en</td>\n      <td>AlvinCee</td>\n      <td>Philippines</td>\n      <td>The 2012 Luzon southwest monsoon floods were a...</td>\n      <td>['ThirdPartyObservation', 'News']</td>\n      <td>Low</td>\n    </tr>\n    <tr>\n      <th>12365</th>\n      <td>12365</td>\n      <td>541379957860364288</td>\n      <td>Communist party orders NPA to help Ruby victim...</td>\n      <td>typhoonHagupit2014</td>\n      <td>0</td>\n      <td>428</td>\n      <td>&lt;a href=\"http://allpinoynews.com\" rel=\"nofollo...</td>\n      <td>2014-10-11 12:38:04</td>\n      <td>2014-12-06 23:53:34</td>\n      <td>en</td>\n      <td>allpinoynews</td>\n      <td>Philippines</td>\n      <td>Typhoon Hagupit, known in the Philippines as T...</td>\n      <td>['ThirdPartyObservation', 'ServiceAvailable', ...</td>\n      <td>Low</td>\n    </tr>\n  </tbody>\n</table>\n</div>"
     },
     "metadata": {},
     "output_type": "execute_result",
     "execution_count": 66
    }
   ],
   "source": [
    "df.sample(5)"
   ]
  },
  {
   "cell_type": "code",
   "execution_count": 67,
   "metadata": {
    "pycharm": {
     "is_executing": false
    }
   },
   "outputs": [
    {
     "data": {
      "text/plain": "Unnamed: 0                   int64\nID                           int64\nTweet                       object\nEvent                       object\nRetweet_Count                int64\nFollower_Count               int64\nSource                      object\nUser_Created_at     datetime64[ns]\nTweet_Created_at    datetime64[ns]\nUser_Language               object\nUser_Screen_Name            object\nUser_Location               object\nEvent_Decrption             object\nCategories                  object\nPriority                    object\ndtype: object"
     },
     "metadata": {},
     "output_type": "execute_result",
     "execution_count": 67
    }
   ],
   "source": [
    "df.dtypes"
   ]
  },
  {
   "cell_type": "code",
   "execution_count": 68,
   "metadata": {
    "pycharm": {
     "is_executing": false
    }
   },
   "outputs": [
    {
     "data": {
      "text/plain": "(15865, 15)"
     },
     "metadata": {},
     "output_type": "execute_result",
     "execution_count": 68
    }
   ],
   "source": [
    "df.shape"
   ]
  },
  {
   "cell_type": "code",
   "execution_count": 69,
   "metadata": {
    "pycharm": {
     "is_executing": false
    }
   },
   "outputs": [],
   "source": [
    "'''\n",
    "    Converting cols to datetime data type\n",
    "'''\n",
    "df['User_Created_at'] = df['User_Created_at'].astype('datetime64')\n",
    "df['Tweet_Created_at'] = df['Tweet_Created_at'].astype('datetime64')"
   ]
  },
  {
   "cell_type": "code",
   "execution_count": 70,
   "metadata": {
    "pycharm": {
     "is_executing": false
    }
   },
   "outputs": [],
   "source": [
    "'''\n",
    "    Converting cols to str data type\n",
    "'''\n",
    "df['Source'] = df['Source'].astype('str')\n",
    "df['Event'] = df['Event'].astype('str')"
   ]
  },
  {
   "cell_type": "code",
   "execution_count": 71,
   "metadata": {
    "pycharm": {
     "is_executing": false
    }
   },
   "outputs": [
    {
     "data": {
      "text/plain": "Unnamed: 0          False\nID                  False\nTweet               False\nEvent               False\nRetweet_Count       False\nFollower_Count      False\nSource              False\nUser_Created_at     False\nTweet_Created_at    False\nUser_Language       False\nUser_Screen_Name    False\nUser_Location        True\nEvent_Decrption     False\nCategories          False\nPriority            False\ndtype: bool"
     },
     "metadata": {},
     "output_type": "execute_result",
     "execution_count": 71
    }
   ],
   "source": [
    "'''\n",
    "    Source (device iphone, andorid etc) and user_location have Nans\n",
    "'''\n",
    "df.isna().any()"
   ]
  },
  {
   "cell_type": "code",
   "execution_count": 72,
   "metadata": {
    "pycharm": {
     "is_executing": false
    }
   },
   "outputs": [
    {
     "data": {
      "text/plain": "array([2013, 2014, 2018, 2012, 2011, 2015], dtype=int64)"
     },
     "metadata": {},
     "output_type": "execute_result",
     "execution_count": 72
    }
   ],
   "source": [
    "'''\n",
    "    We seem to have tweets from 2011, 12, 13, 14, 15 and 18\n",
    "'''\n",
    "df['Tweet_Created_at'].dt.year.unique()"
   ]
  },
  {
   "cell_type": "code",
   "execution_count": 73,
   "metadata": {
    "pycharm": {
     "is_executing": false
    }
   },
   "outputs": [
    {
     "data": {
      "text/plain": "April       5141\nDecember    3743\nNovember    2732\nFebruary    1158\nAugust       848\nOctober      675\nJanuary      673\nJune         662\nMay          155\nJuly          78\nName: Tweet_Created_at, dtype: int64"
     },
     "metadata": {},
     "output_type": "execute_result",
     "execution_count": 73
    }
   ],
   "source": [
    "df['Tweet_Created_at'].dt.month_name().apply(lambda x:x).value_counts()"
   ]
  },
  {
   "cell_type": "code",
   "execution_count": 73,
   "metadata": {
    "pycharm": {
     "is_executing": false
    }
   },
   "outputs": [],
   "source": []
  },
  {
   "cell_type": "code",
   "execution_count": 74,
   "metadata": {
    "pycharm": {
     "is_executing": false
    }
   },
   "outputs": [
    {
     "data": {
      "text/plain": "Saturday     3973\nSunday       3897\nMonday       3078\nTuesday      1747\nFriday       1201\nThursday     1029\nWednesday     940\nName: Tweet_Created_at, dtype: int64"
     },
     "metadata": {},
     "output_type": "execute_result",
     "execution_count": 74
    }
   ],
   "source": [
    "df['Tweet_Created_at'].dt.weekday_name.apply(lambda x:x).value_counts()\n"
   ]
  },
  {
   "cell_type": "code",
   "execution_count": 75,
   "metadata": {
    "pycharm": {
     "is_executing": false
    }
   },
   "outputs": [],
   "source": [
    "s_hourct = df['Tweet_Created_at'].dt.hour.apply(lambda x:x).value_counts()\n",
    "s_hourct = s_hourct.sort_index()"
   ]
  },
  {
   "cell_type": "code",
   "execution_count": 76,
   "metadata": {
    "pycharm": {
     "is_executing": false
    }
   },
   "outputs": [
    {
     "data": {
      "text/plain": "Text(0.5, 0, 'Hour of the Day')"
     },
     "metadata": {},
     "output_type": "execute_result",
     "execution_count": 76
    },
    {
     "data": {
      "text/plain": "<Figure size 864x576 with 1 Axes>",
      "image/png": "[encoded data removed]"
     },
     "metadata": {
      "needs_background": "light"
     },
     "output_type": "display_data"
    }
   ],
   "source": [
    "'''\n",
    "    Huge average influx of tweets at 7 AM\n",
    "'''\n",
    "plt.figure(figsize=(12,8))\n",
    "plt.plot(s_hourct.index, s_hourct, 'r')\n",
    "plt.ylabel('Number of Tweets')\n",
    "plt.xticks(np.arange(0,24))\n",
    "plt.title('Tweets by Hour of the Day')\n",
    "plt.xlabel('Hour of the Day')"
   ]
  },
  {
   "cell_type": "code",
   "execution_count": 77,
   "metadata": {
    "pycharm": {
     "is_executing": false
    }
   },
   "outputs": [
    {
     "data": {
      "text/plain": "Low         11815\nMedium       2209\nHigh         1712\nCritical      129\nName: Priority, dtype: int64"
     },
     "metadata": {},
     "output_type": "execute_result",
     "execution_count": 77
    }
   ],
   "source": [
    "s_priority = df['Priority'].apply(lambda x:x).value_counts()\n",
    "s_priority"
   ]
  },
  {
   "cell_type": "code",
   "execution_count": 78,
   "metadata": {
    "pycharm": {
     "is_executing": false
    }
   },
   "outputs": [
    {
     "data": {
      "text/plain": "Text(0.5, 1.0, 'Count of Tweets by Priority')"
     },
     "metadata": {},
     "output_type": "execute_result",
     "execution_count": 78
    },
    {
     "data": {
      "text/plain": "<Figure size 720x576 with 1 Axes>",
      "image/png": "[encoded data removed]"
     },
     "metadata": {
      "needs_background": "light"
     },
     "output_type": "display_data"
    }
   ],
   "source": [
    "'''\n",
    "    As predicted most tweets are of low prioity. Critical tweets are far and few. Unbalanced.\n",
    "'''\n",
    "plt.figure(figsize=(10,8))\n",
    "plt.bar(s_priority.index, s_priority, color = 'g')\n",
    "plt.xlabel('Priority')\n",
    "plt.ylabel('Number of Tweets')\n",
    "plt.title('Count of Tweets by Priority')"
   ]
  },
  {
   "cell_type": "code",
   "execution_count": 79,
   "outputs": [
    {
     "data": {
      "text/plain": "Low         11815\nMedium       2209\nHigh         1712\nCritical      129\nName: Priority, dtype: int64"
     },
     "metadata": {},
     "output_type": "execute_result",
     "execution_count": 79
    }
   ],
   "source": [
    "s_priority\n"
   ],
   "metadata": {
    "collapsed": false,
    "pycharm": {
     "name": "#%%\n",
     "is_executing": false
    }
   }
  },
  {
   "cell_type": "code",
   "execution_count": 80,
   "metadata": {
    "pycharm": {
     "is_executing": false
    }
   },
   "outputs": [
    {
     "data": {
      "text/plain": "False    15598\nTrue       267\nName: Source, dtype: int64"
     },
     "metadata": {},
     "output_type": "execute_result",
     "execution_count": 80
    }
   ],
   "source": [
    "'''\n",
    "    We try to get the count of each type of decvice used to tweet. Not sure how it will be useful yet but\n",
    "    I guess good to know.\n",
    "    \n",
    "    By far, the webclient, iphones and androids are the most popular. It also has to be noted that we have some\n",
    "    tweets from non-twitter sources like Facebook and some other random websites.\n",
    "    \n",
    "    Tweet Deck is dashboard application by twitter to manage multiple twitter accounts.\n",
    "'''\n",
    "s_twc = df['Source'].str.contains('Twitter Web Client').apply(lambda x:x).value_counts()\n",
    "s_tweetdeck = df['Source'].str.contains('TweetDeck').apply(lambda x:x).value_counts()\n",
    "s_tw = df['Source'].str.contains('Twitter for Websites').apply(lambda x:x).value_counts()\n",
    "s_tf = df['Source'].str.contains('twitterfeed').apply(lambda x:x).value_counts()\n",
    "s_iphone = df['Source'].str.contains('Twitter for iPhone').apply(lambda x:x).value_counts()\n",
    "s_android = df['Source'].str.contains('Twitter for Android').apply(lambda x:x).value_counts()\n",
    "s_ipad = df['Source'].str.contains('Twitter for iPad').apply(lambda x:x).value_counts()\n",
    "s_bb = df['Source'].str.contains('Twitter for BlackBerry').apply(lambda x:x).value_counts()\n",
    "s_f = df['Source'].str.contains('Facebook').apply(lambda x:x).value_counts()\n",
    "\n",
    "s_tw"
   ]
  },
  {
   "cell_type": "code",
   "execution_count": 81,
   "metadata": {
    "pycharm": {
     "is_executing": false
    }
   },
   "outputs": [],
   "source": [
    "source_type = ['Web Client', 'iPhone', 'Android', 'Twitter Feed', 'Facebook', 'Tweet Deck','iPad', 'BlackBerry', 'Websites']\n",
    "source_count = [s_twc[1], s_iphone[1], s_android[1], s_tf[1], s_f[1], s_tweetdeck[1], s_ipad[1], s_bb[1], s_tw[1]]"
   ]
  },
  {
   "cell_type": "code",
   "execution_count": 82,
   "metadata": {
    "scrolled": false,
    "pycharm": {
     "is_executing": false
    }
   },
   "outputs": [
    {
     "data": {
      "text/plain": "Text(0.5, 1.0, 'Tweets Collected by Source')"
     },
     "metadata": {},
     "output_type": "execute_result",
     "execution_count": 82
    },
    {
     "data": {
      "text/plain": "<Figure size 720x576 with 1 Axes>",
      "image/png": "[encoded data removed]"
     },
     "metadata": {
      "needs_background": "light"
     },
     "output_type": "display_data"
    }
   ],
   "source": [
    "plt.figure(figsize=(10,8))\n",
    "plt.bar(source_type, source_count, color = 'blue')\n",
    "plt.title('Tweets Collected by Source')"
   ]
  },
  {
   "cell_type": "code",
   "execution_count": 83,
   "metadata": {
    "pycharm": {
     "is_executing": false
    }
   },
   "outputs": [],
   "source": [
    "'''\n",
    "    We shall now look at the tweet counts by type of disaster. Attacks, bombings and school shootings are considered \n",
    "    separately despite having some commonalities in the nature of the disaster. \n",
    "    \n",
    "    Most of the tweets are from earthquakes and the least are from tornadoes.\n",
    "'''\n",
    "\n",
    "event_type = ['Floods', 'Earthquake', 'Bushfire', 'Bombings', 'Tornado', 'Attack', 'SchoolShooting', 'typhoon' ]\n",
    "event_count = {}\n",
    "for element in event_type:\n",
    "    counts = df['Event'].str.contains(element).apply(lambda x:x).value_counts()\n",
    "    event_count[element] = counts[1]\n",
    "\n",
    "event_count = sorted(event_count.items(), key=lambda kv: kv[1], reverse = True)\n",
    "keys = []\n",
    "val = []\n",
    "for element in event_count:\n",
    "    keys.append(element[0])\n",
    "    val.append(element[1])\n",
    "    "
   ]
  },
  {
   "cell_type": "code",
   "execution_count": 84,
   "metadata": {
    "pycharm": {
     "is_executing": false
    }
   },
   "outputs": [
    {
     "data": {
      "text/plain": "Text(0.5, 1.0, 'Tweets Collected by Disaster Type')"
     },
     "metadata": {},
     "output_type": "execute_result",
     "execution_count": 84
    },
    {
     "data": {
      "text/plain": "<Figure size 720x576 with 1 Axes>",
      "image/png": "[encoded data removed]"
     },
     "metadata": {
      "needs_background": "light"
     },
     "output_type": "display_data"
    }
   ],
   "source": [
    "plt.figure(figsize=(10,8))\n",
    "plt.bar(keys, val, color = 'orange')\n",
    "plt.title('Tweets Collected by Disaster Type')"
   ]
  },
  {
   "cell_type": "code",
   "execution_count": 85,
   "metadata": {
    "pycharm": {
     "is_executing": false
    }
   },
   "outputs": [],
   "source": [
    "new_df = df[df['Event'].str.contains('Earthquake')]"
   ]
  },
  {
   "cell_type": "code",
   "execution_count": 86,
   "metadata": {
    "pycharm": {
     "is_executing": false
    }
   },
   "outputs": [],
   "source": [
    "'''\n",
    "    Writing each type of disaster as a new csv file for feature extraction\n",
    "'''\n",
    "for element in event_type:\n",
    "    new_df = df[df['Event'].str.contains(element)]\n",
    "    new_df.to_csv(element+'_TREC_2018_test.csv')"
   ]
  },
  {
   "cell_type": "code",
   "execution_count": 87,
   "metadata": {
    "pycharm": {
     "is_executing": false
    }
   },
   "outputs": [
    {
     "data": {
      "text/plain": "129"
     },
     "metadata": {},
     "output_type": "execute_result",
     "execution_count": 87
    }
   ],
   "source": [
    "a = np.array(df['Tweet'][df['Priority'] == 'Critical'])\n",
    "len(a)"
   ]
  },
  {
   "cell_type": "code",
   "execution_count": 90,
   "metadata": {
    "pycharm": {
     "is_executing": false
    }
   },
   "outputs": [],
   "source": [
    "event_type = ['Floods', 'Earthquake', 'Bushfire', 'Bombings', 'Tornado', 'Attack', 'SchoolShooting', 'typhoon' ]\n",
    "l = {}\n",
    "for element in event_type:\n",
    "    df_1 = df[((df['Priority'] == 'Critical')) & ((df['Event'].str.contains(element)))]\n",
    "    l[element] = df_1.shape[0]\n",
    "    \n",
    "l = sorted(l.items(), key=lambda kv: kv[1], reverse = True)\n",
    "key = []\n",
    "values = []\n",
    "for element in l:\n",
    "    key.append(element[0])\n",
    "    values.append(element[1])\n",
    "    "
   ]
  },
  {
   "cell_type": "code",
   "execution_count": 91,
   "metadata": {
    "pycharm": {
     "is_executing": false
    }
   },
   "outputs": [
    {
     "data": {
      "text/plain": "Text(0.5, 1.0, 'Critical Tweets by Disaster Type Train - 2018')"
     },
     "metadata": {},
     "output_type": "execute_result",
     "execution_count": 91
    },
    {
     "data": {
      "text/plain": "<Figure size 720x576 with 1 Axes>",
      "image/png": "[encoded data removed]"
     },
     "metadata": {
      "needs_background": "light"
     },
     "output_type": "display_data"
    }
   ],
   "source": [
    "plt.figure(figsize=(10,8))\n",
    "plt.bar(key, values, color = 'red')\n",
    "plt.title('Critical Tweets by Disaster Type Train - 2018')"
   ]
  },
  {
   "cell_type": "code",
   "execution_count": 54,
   "metadata": {
    "pycharm": {
     "is_executing": false
    }
   },
   "outputs": [
    {
     "data": {
      "text/plain": "array(['albertaFloods2013', 'australiaBushfire2013', 'bostonBombings2013',\n       'chileEarthquake2014', 'flSchoolShooting2018',\n       'guatemalaEarthquake2012', 'italyEarthquakes2012',\n       'joplinTornado2011', 'manilaFloods2013', 'nepalEarthquake2015',\n       'parisAttacks2015', 'philipinnesFloods2012',\n       'queenslandFloods2013', 'typhoonHagupit2014', 'typhoonYolanda2013'],\n      dtype=object)"
     },
     "metadata": {},
     "output_type": "execute_result",
     "execution_count": 54
    }
   ],
   "source": [
    "df['Event'].unique()"
   ]
  },
  {
   "cell_type": "code",
   "execution_count": 60,
   "metadata": {
    "pycharm": {
     "is_executing": false
    }
   },
   "outputs": [
    {
     "data": {
      "text/plain": "1141"
     },
     "metadata": {},
     "output_type": "execute_result",
     "execution_count": 60
    }
   ],
   "source": [
    "len(df['Categories'].unique())"
   ]
  },
  {
   "cell_type": "code",
   "execution_count": null,
   "outputs": [],
   "source": [
    "\n"
   ],
   "metadata": {
    "collapsed": false,
    "pycharm": {
     "name": "#%%\n"
    }
   }
  }
 ],
 "metadata": {
  "kernelspec": {
   "display_name": "Python 3",
   "language": "python",
   "name": "python3"
  },
  "language_info": {
   "codemirror_mode": {
    "name": "ipython",
    "version": 3
   },
   "file_extension": ".py",
   "mimetype": "text/x-python",
   "name": "python",
   "nbconvert_exporter": "python",
   "pygments_lexer": "ipython3",
   "version": "3.7.3"
  },
  "pycharm": {
   "stem_cell": {
    "cell_type": "raw",
    "source": [],
    "metadata": {
     "collapsed": false
    }
   }
  }
 },
 "nbformat": 4,
 "nbformat_minor": 2
}