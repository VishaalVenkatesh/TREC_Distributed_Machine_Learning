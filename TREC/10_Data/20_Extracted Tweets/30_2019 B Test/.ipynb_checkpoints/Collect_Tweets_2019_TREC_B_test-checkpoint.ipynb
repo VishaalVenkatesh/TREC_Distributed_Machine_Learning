{
 "cells": [
  {
   "cell_type": "code",
   "execution_count": 1,
   "metadata": {
    "pycharm": {
     "is_executing": false
    }
   },
   "outputs": [],
   "source": [
    "'''\n",
    "    Importing Modules\n",
    "'''\n",
    "import csv, os, collections, json\n",
    "import numpy as np\n",
    "import pandas as pd\n",
    "import collections\n",
    "import preprocessor as p\n",
    "import itertools\n",
    "import json\n",
    "from pprint import pprint"
   ]
  },
  {
   "cell_type": "code",
   "execution_count": 61,
   "metadata": {
    "pycharm": {
     "is_executing": false
    }
   },
   "outputs": [],
   "source": [
    "'''\n",
    "    Set working directory\n",
    "'''\n",
    "filen = 'trecis2019-B-test/'\n",
    "files = os.listdir(filen)"
   ]
  },
  {
   "cell_type": "code",
   "execution_count": 62,
   "metadata": {
    "pycharm": {
     "is_executing": false
    }
   },
   "outputs": [],
   "source": [
    "'''\n",
    "    Function to get event details from json file\n",
    "'''\n",
    "def getevents(filename):\n",
    "    with open(filename, 'r', encoding = 'utf-8' ) as fp:\n",
    "        data = json.loads(\"[\" + fp.read().replace(\"}\\n{\", \"},\\n{\") + \"]\")\n",
    "        \n",
    "    allevents = []\n",
    "    for eachevent in range(len(data)):\n",
    "        allevents.append(data[i]['topic'])\n",
    "    return allevents"
   ]
  },
  {
   "cell_type": "code",
   "execution_count": 63,
   "metadata": {
    "pycharm": {
     "is_executing": false
    }
   },
   "outputs": [],
   "source": [
    "'''\n",
    "    Function to open each json file about a specific event and obtian info on the tweets\n",
    "'''\n",
    "\n",
    "def gettweets(filename):\n",
    "                \n",
    "    with open(filename, 'r' ,encoding = 'utf-8' ) as fp:     \n",
    "        data = json.loads(\"[\" + fp.read().replace(\"}\\n{\", \"},\\n{\") + \"]\")\n",
    "    \n",
    "    #print(data[0].keys())\n",
    "    #print(data[0]['allProperties'].keys())\n",
    "    #print(data[0])\n",
    "    #print(data[1]['allProperties']['source'])\n",
    "    #print(data[1]['allProperties']['text'])\n",
    "    alltwts = []\n",
    "    allid = []\n",
    "    alltopics = []\n",
    "    source = []\n",
    "    user_lang = []\n",
    "    for i in range (len(data)):\n",
    "        \n",
    "        alltwts.append(data[i]['allProperties']['text'])\n",
    "        allid.append(data[i]['allProperties']['id'])\n",
    "        alltopics.append(data[i]['topic'])\n",
    "        source.append(data[i]['allProperties']['source'])\n",
    "        user_lang.append(data[i]['allProperties']['user.lang'])\n",
    "    return (allid, alltwts, alltopics,  source , user_lang)"
   ]
  },
  {
   "cell_type": "code",
   "execution_count": 64,
   "metadata": {
    "pycharm": {
     "is_executing": false
    }
   },
   "outputs": [],
   "source": [
    "'''\n",
    "    Appending returned info about the tweets into lists to later create pandas df\n",
    "'''\n",
    "ids = []\n",
    "tweet = []\n",
    "topic = []\n",
    "source = []\n",
    "user_lang = []\n",
    "for each in files:\n",
    "    a, b, c, f,  i = gettweets(filen+each)\n",
    "    ids.extend(a)\n",
    "    tweet.extend(b)\n",
    "    topic.extend(c)\n",
    "    source.extend(f)\n",
    "    user_lang.extend(i)\n"
   ]
  },
  {
   "cell_type": "code",
   "execution_count": 65,
   "metadata": {
    "pycharm": {
     "is_executing": false
    }
   },
   "outputs": [],
   "source": [
    "tweetdf = pd.DataFrame([ids, tweet, topic, source, user_lang]).T"
   ]
  },
  {
   "cell_type": "code",
   "execution_count": 66,
   "metadata": {
    "pycharm": {
     "is_executing": false
    }
   },
   "outputs": [],
   "source": [
    "tweetdf.columns = ['ID', 'Tweet', 'Event', 'Source', 'User_Language']"
   ]
  },
  {
   "cell_type": "code",
   "execution_count": 67,
   "metadata": {
    "pycharm": {
     "is_executing": false
    },
    "scrolled": true
   },
   "outputs": [
    {
     "data": {
      "text/plain": [
       "(15000, 5)"
      ]
     },
     "execution_count": 67,
     "metadata": {},
     "output_type": "execute_result"
    }
   ],
   "source": [
    "tweetdf.shape"
   ]
  },
  {
   "cell_type": "code",
   "execution_count": 68,
   "metadata": {
    "pycharm": {
     "is_executing": false
    }
   },
   "outputs": [],
   "source": [
    "'''\n",
    "    Opening a json contianing descriptions about the events on which the tweets are about\n",
    "'''\n",
    "with open('TRECIS_2018_2019-labels/TRECIS_2018_2019-labels.json', 'r', encoding = 'utf-8' ) as fp:\n",
    "        data = json.loads(\"[\" + fp.read().replace(\"}\\n{\", \"},\\n{\") + \"]\")\n",
    "        tweetid = []\n",
    "        event_desc = []\n",
    "        cat = []\n",
    "        priority = []\n",
    "        \n",
    "        for i in range (len(data[0])):\n",
    "            tweetid.append(data[0][i]['postID'])\n",
    "            event_desc.append(data[0][i]['eventDescription'])\n",
    "            cat.append(data[0][i]['postCategories'])\n",
    "            priority.append(data[0][i]['postPriority'])"
   ]
  },
  {
   "cell_type": "code",
   "execution_count": 69,
   "metadata": {
    "pycharm": {
     "is_executing": false
    }
   },
   "outputs": [
    {
     "data": {
      "text/plain": [
       "(38478, 38478, 38478, 38478)"
      ]
     },
     "execution_count": 69,
     "metadata": {},
     "output_type": "execute_result"
    }
   ],
   "source": [
    "len(tweetid), len(event_desc), len(cat), len(priority)"
   ]
  },
  {
   "cell_type": "code",
   "execution_count": 70,
   "metadata": {
    "pycharm": {
     "is_executing": false
    }
   },
   "outputs": [],
   "source": [
    "labeldf = pd.DataFrame([tweetid, event_desc, cat, priority]).T"
   ]
  },
  {
   "cell_type": "code",
   "execution_count": 71,
   "metadata": {
    "pycharm": {
     "is_executing": false
    }
   },
   "outputs": [],
   "source": [
    "labeldf.columns = ['ID', 'Event_Decrption', 'Categories', 'Priority']"
   ]
  },
  {
   "cell_type": "code",
   "execution_count": 72,
   "metadata": {
    "pycharm": {
     "is_executing": false
    }
   },
   "outputs": [],
   "source": [
    "tweetdf= tweetdf.drop_duplicates(subset=['ID'], keep=False)\n",
    "labeldf = labeldf.drop_duplicates(subset=['ID'], keep=False)"
   ]
  },
  {
   "cell_type": "code",
   "execution_count": 73,
   "metadata": {
    "pycharm": {
     "is_executing": false
    }
   },
   "outputs": [],
   "source": [
    "'''\n",
    "    Inner join on the tweets and label df to arrive at a comprehensive df\n",
    "'''\n",
    "\n",
    "joindf = pd.merge(tweetdf,labeldf, how='inner')"
   ]
  },
  {
   "cell_type": "code",
   "execution_count": 74,
   "metadata": {
    "pycharm": {
     "is_executing": false
    },
    "scrolled": true
   },
   "outputs": [
    {
     "data": {
      "text/plain": [
       "(8793, 8)"
      ]
     },
     "execution_count": 74,
     "metadata": {},
     "output_type": "execute_result"
    }
   ],
   "source": [
    "joindf.shape"
   ]
  },
  {
   "cell_type": "code",
   "execution_count": 75,
   "metadata": {
    "pycharm": {
     "is_executing": false
    }
   },
   "outputs": [],
   "source": [
    "joindf.to_csv('Ultimate_Dataframe_TREC_2019_B-test.csv')"
   ]
  },
  {
   "cell_type": "code",
   "execution_count": 3,
   "metadata": {},
   "outputs": [],
   "source": [
    "df = pd.read_csv('Ultimate_Dataframe_TREC_2019_B-test.csv')\n",
    "df_c = df[df['Priority'] == 'Critical']\n",
    "new = df_c[['ID', 'Event', 'Tweet', 'Categories', 'Priority']].copy()\n",
    "new.to_csv('Ultimate_Dataframe_TREC_2019_B-test_only_critical.csv')"
   ]
  },
  {
   "cell_type": "code",
   "execution_count": null,
   "metadata": {},
   "outputs": [],
   "source": []
  }
 ],
 "metadata": {
  "kernelspec": {
   "display_name": "Python 3",
   "language": "python",
   "name": "python3"
  },
  "language_info": {
   "codemirror_mode": {
    "name": "ipython",
    "version": 3
   },
   "file_extension": ".py",
   "mimetype": "text/x-python",
   "name": "python",
   "nbconvert_exporter": "python",
   "pygments_lexer": "ipython3",
   "version": "3.7.3"
  },
  "pycharm": {
   "stem_cell": {
    "cell_type": "raw",
    "metadata": {
     "collapsed": false
    },
    "source": []
   }
  }
 },
 "nbformat": 4,
 "nbformat_minor": 2
}
