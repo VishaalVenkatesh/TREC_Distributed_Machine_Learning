{
 "cells": [
  {
   "cell_type": "code",
   "execution_count": 79,
   "metadata": {
    "pycharm": {
     "is_executing": false
    }
   },
   "outputs": [],
   "source": [
    "'''\n",
    "    Importing Modules\n",
    "'''\n",
    "import csv, os, collections, json\n",
    "import numpy as np\n",
    "import pandas as pd\n",
    "import collections\n",
    "import preprocessor as p\n",
    "import itertools\n",
    "import json\n",
    "from pprint import pprint\n",
    "from collections import Counter"
   ]
  },
  {
   "cell_type": "code",
   "execution_count": 80,
   "metadata": {
    "pycharm": {
     "is_executing": false
    }
   },
   "outputs": [
    {
     "data": {
      "text/plain": "'C:\\\\Users\\\\Vishaal\\\\Documents\\\\GitHub\\\\TREC_Distributed_Machine_Learning\\\\TREC\\\\10_Data\\\\20_Extracted Tweets\\\\15_2018 Test'"
     },
     "metadata": {},
     "output_type": "execute_result",
     "execution_count": 80
    }
   ],
   "source": [
    "os.getcwd()"
   ]
  },
  {
   "cell_type": "code",
   "execution_count": 81,
   "metadata": {
    "pycharm": {
     "is_executing": false
    }
   },
   "outputs": [],
   "source": [
    "'''\n",
    "    Set working directory\n",
    "'''\n",
    "filen = 'trecis2018-test/'\n",
    "files = os.listdir(filen)"
   ]
  },
  {
   "cell_type": "code",
   "execution_count": 82,
   "metadata": {
    "pycharm": {
     "is_executing": false
    }
   },
   "outputs": [],
   "source": [
    "'''\n",
    "    Function to get event details from json file\n",
    "'''\n",
    "def getevents(filename):\n",
    "    with open(filename, 'r', encoding = 'utf-8' ) as fp:\n",
    "        data = json.loads(\"[\" + fp.read().replace(\"}\\n{\", \"},\\n{\") + \"]\")\n",
    "        \n",
    "    allevents = []\n",
    "    for eachevent in range(len(data)):\n",
    "        allevents.append(data[i]['topic'])\n",
    "    return allevents"
   ]
  },
  {
   "cell_type": "code",
   "execution_count": 83,
   "metadata": {
    "pycharm": {
     "is_executing": false
    }
   },
   "outputs": [],
   "source": [
    "'''\n",
    "    Function to open each json file about a specific event and obtian info on the tweets\n",
    "'''\n",
    "\n",
    "def gettweets(filename):\n",
    "                \n",
    "    with open(filename, 'r' ,encoding = 'utf-8' ) as fp:     \n",
    "        data = json.loads(\"[\" + fp.read().replace(\"}\\n{\", \"},\\n{\") + \"]\")\n",
    "    \n",
    "    #print(data[0].keys())\n",
    "    #print(data[0]['allProperties'].keys())\n",
    "    #print(data[0])\n",
    "    #print(data[1]['allProperties']['source'])\n",
    "    #print(data[1]['allProperties']['text'])\n",
    "    alltwts = []\n",
    "    allid = []\n",
    "    alltopics = []\n",
    "    retweet = []\n",
    "    follower_count = []\n",
    "    source = []\n",
    "    user_created_at = []\n",
    "    tweet_created_at = []\n",
    "    user_lang = []\n",
    "    user_screen_name = []\n",
    "    user_location = []\n",
    "    for i in range (len(data)):\n",
    "        \n",
    "        alltwts.append(data[i]['allProperties']['text'])\n",
    "        allid.append(data[i]['allProperties']['id'])\n",
    "        alltopics.append(data[i]['topic'])\n",
    "        retweet.append(data[i]['allProperties']['retweet_count'])\n",
    "        follower_count.append(data[i]['allProperties']['user.followers_count'])\n",
    "        source.append(data[i]['allProperties']['source'])\n",
    "        user_created_at.append(data[i]['allProperties']['user.created_at'])\n",
    "        tweet_created_at.append(data[i]['allProperties']['created_at'])\n",
    "        user_lang.append(data[i]['allProperties']['user.lang'])\n",
    "        user_screen_name.append(data[i]['allProperties']['user.screen_name'])\n",
    "        user_location.append(data[i]['allProperties']['user.location'])\n",
    "    return (allid, alltwts, alltopics, retweet, follower_count, source, user_created_at, tweet_created_at, user_lang, user_screen_name, user_location)"
   ]
  },
  {
   "cell_type": "code",
   "execution_count": 84,
   "metadata": {
    "pycharm": {
     "is_executing": false
    }
   },
   "outputs": [],
   "source": [
    "'''\n",
    "    Appending returned info about the tweets into lists to later create pandas df\n",
    "'''\n",
    "ids = []\n",
    "tweet = []\n",
    "topic = []\n",
    "retweet = []\n",
    "follower_count = []\n",
    "source = []\n",
    "user_created_at = []\n",
    "tweet_created_at = []\n",
    "user_lang = []\n",
    "user_screen_name = []\n",
    "user_location = []\n",
    "for each in files:\n",
    "    a, b, c, d, e, f, g, h, i, j, k = gettweets(filen+each)\n",
    "    ids.extend(a)\n",
    "    tweet.extend(b)\n",
    "    topic.extend(c)\n",
    "    retweet.extend(d)\n",
    "    follower_count.extend(e)\n",
    "    source.extend(f)\n",
    "    user_created_at.extend(g)\n",
    "    tweet_created_at.extend(h)\n",
    "    user_lang.extend(i)\n",
    "    user_screen_name.extend(j)\n",
    "    user_location.extend(k)"
   ]
  },
  {
   "cell_type": "code",
   "execution_count": 85,
   "metadata": {
    "pycharm": {
     "is_executing": false
    }
   },
   "outputs": [],
   "source": [
    "tweetdf = pd.DataFrame([ids, tweet, topic, retweet, follower_count, source, user_created_at, tweet_created_at, user_lang, user_screen_name, user_location]).T"
   ]
  },
  {
   "cell_type": "code",
   "execution_count": 86,
   "metadata": {
    "pycharm": {
     "is_executing": false
    }
   },
   "outputs": [],
   "source": [
    "tweetdf.columns = ['ID', 'Tweet', 'Event', 'Retweet_Count', 'Follower_Count', 'Source', 'User_Created_at', 'Tweet_Created_at', 'User_Language', 'User_Screen_Name', 'User_Location']"
   ]
  },
  {
   "cell_type": "code",
   "execution_count": 87,
   "metadata": {
    "scrolled": true,
    "pycharm": {
     "is_executing": false
    }
   },
   "outputs": [
    {
     "data": {
      "text/plain": "(22216, 11)"
     },
     "metadata": {},
     "output_type": "execute_result",
     "execution_count": 87
    }
   ],
   "source": [
    "tweetdf.shape"
   ]
  },
  {
   "cell_type": "code",
   "execution_count": 88,
   "metadata": {
    "pycharm": {
     "is_executing": false
    }
   },
   "outputs": [],
   "source": [
    "'''\n",
    "    Opening a json contianing descriptions about the events on which the tweets are about\n",
    "'''\n",
    "with open('TRECIS_2018_2019-labels/TRECIS_2018_2019-labels.json', 'r', encoding = 'utf-8' ) as fp:\n",
    "        data = json.loads(\"[\" + fp.read().replace(\"}\\n{\", \"},\\n{\") + \"]\")\n",
    "        tweetid = []\n",
    "        event_desc = []\n",
    "        cat = []\n",
    "        priority = []\n",
    "        \n",
    "        for i in range (len(data[0])):\n",
    "            tweetid.append(data[0][i]['postID'])\n",
    "            event_desc.append(data[0][i]['eventDescription'])\n",
    "            cat.append(data[0][i]['postCategories'])\n",
    "            priority.append(data[0][i]['postPriority'])"
   ]
  },
  {
   "cell_type": "code",
   "execution_count": 89,
   "metadata": {
    "pycharm": {
     "is_executing": false
    }
   },
   "outputs": [],
   "source": [
    "labeldf = pd.DataFrame([tweetid, event_desc, cat, priority]).T"
   ]
  },
  {
   "cell_type": "code",
   "execution_count": 90,
   "metadata": {
    "pycharm": {
     "is_executing": false
    }
   },
   "outputs": [],
   "source": [
    "labeldf.columns = ['ID', 'Event_Decrption', 'Categories', 'Priority']"
   ]
  },
  {
   "cell_type": "code",
   "execution_count": 91,
   "metadata": {
    "pycharm": {
     "is_executing": false
    }
   },
   "outputs": [],
   "source": [
    "tweetdf= tweetdf.drop_duplicates(subset=['ID'], keep=False)\n",
    "labeldf = labeldf.drop_duplicates(subset=['ID'], keep=False)"
   ]
  },
  {
   "cell_type": "code",
   "execution_count": 92,
   "metadata": {
    "pycharm": {
     "is_executing": false
    }
   },
   "outputs": [],
   "source": [
    "'''\n",
    "    Inner join on the tweets and label df to arrive at a comprehensive df\n",
    "'''\n",
    "\n",
    "joindf = pd.merge(tweetdf,labeldf)"
   ]
  },
  {
   "cell_type": "code",
   "execution_count": 77,
   "metadata": {
    "scrolled": true,
    "pycharm": {
     "is_executing": false
    }
   },
   "outputs": [
    {
     "data": {
      "text/plain": "(15865, 14)"
     },
     "metadata": {},
     "output_type": "execute_result",
     "execution_count": 77
    }
   ],
   "source": [
    "joindf.shape"
   ]
  },
  {
   "cell_type": "code",
   "execution_count": 78,
   "metadata": {
    "pycharm": {
     "is_executing": false
    }
   },
   "outputs": [],
   "source": [
    "joindf.to_csv('Ultimate_Dataframe_TREC_2018_test.csv')"
   ]
  },
  {
   "cell_type": "code",
   "execution_count": null,
   "metadata": {},
   "outputs": [],
   "source": []
  }
 ],
 "metadata": {
  "kernelspec": {
   "display_name": "Python 3",
   "language": "python",
   "name": "python3"
  },
  "language_info": {
   "codemirror_mode": {
    "name": "ipython",
    "version": 3
   },
   "file_extension": ".py",
   "mimetype": "text/x-python",
   "name": "python",
   "nbconvert_exporter": "python",
   "pygments_lexer": "ipython3",
   "version": "3.7.3"
  },
  "pycharm": {
   "stem_cell": {
    "cell_type": "raw",
    "source": [],
    "metadata": {
     "collapsed": false
    }
   }
  }
 },
 "nbformat": 4,
 "nbformat_minor": 2
}