{
 "cells": [
  {
   "cell_type": "code",
   "execution_count": 160,
   "metadata": {
    "pycharm": {
     "is_executing": false
    }
   },
   "outputs": [],
   "source": [
    "'''\n",
    "    Importing Modules\n",
    "'''\n",
    "import csv, os, collections, json\n",
    "import numpy as np\n",
    "import pandas as pd\n",
    "import collections\n",
    "import preprocessor as p\n",
    "import itertools\n",
    "import json\n",
    "from pprint import pprint"
   ]
  },
  {
   "cell_type": "code",
   "execution_count": 161,
   "metadata": {
    "pycharm": {
     "is_executing": false
    }
   },
   "outputs": [],
   "source": [
    "'''\n",
    "    Set working directory\n",
    "'''\n",
    "filen = 'trecis2018-train/'\n",
    "files = os.listdir(filen)"
   ]
  },
  {
   "cell_type": "code",
   "execution_count": 162,
   "metadata": {
    "pycharm": {
     "is_executing": false
    }
   },
   "outputs": [],
   "source": [
    "'''\n",
    "    Function to get event details from json file\n",
    "'''\n",
    "def getevents(filename):\n",
    "    with open(filename, 'r', encoding = 'utf-8' ) as fp:\n",
    "        data = json.loads(\"[\" + fp.read().replace(\"}\\n{\", \"},\\n{\") + \"]\")\n",
    "        \n",
    "    allevents = []\n",
    "    for eachevent in range(len(data)):\n",
    "        allevents.append(data[i]['topic'])\n",
    "    return allevents"
   ]
  },
  {
   "cell_type": "code",
   "execution_count": 163,
   "metadata": {
    "pycharm": {
     "is_executing": false
    }
   },
   "outputs": [],
   "source": [
    "'''\n",
    "    Function to open each json file about a specific event and obtian info on the tweets\n",
    "'''\n",
    "\n",
    "def gettweets(filename):\n",
    "                \n",
    "    with open(filename, 'r' ,encoding = 'utf-8' ) as fp:     \n",
    "        data = json.loads(\"[\" + fp.read().replace(\"}\\n{\", \"},\\n{\") + \"]\")\n",
    "    \n",
    "    print(data[0].keys())\n",
    "    print(data[0]['allProperties'].keys())\n",
    "    #print(data[0])\n",
    "    #print(data[1]['allProperties']['source'])\n",
    "    #print(data[1]['allProperties']['text'])\n",
    "    alltwts = []\n",
    "    allid = []\n",
    "    alltopics = []\n",
    "    retweet = []\n",
    "    follower_count = []\n",
    "    source = []\n",
    "    user_created_at = []\n",
    "    tweet_created_at = []\n",
    "    user_lang = []\n",
    "    user_screen_name = []\n",
    "    user_location = []\n",
    "    for i in range (len(data)):\n",
    "        \n",
    "        alltwts.append(data[i]['allProperties']['text'])\n",
    "        allid.append(data[i]['allProperties']['id'])\n",
    "        alltopics.append(data[i]['topic'])\n",
    "        retweet.append(data[i]['allProperties']['retweet_count'])\n",
    "        follower_count.append(data[i]['allProperties']['user.followers_count'])\n",
    "        source.append(data[i]['allProperties']['source'])\n",
    "        user_created_at.append(data[i]['allProperties']['user.created_at'])\n",
    "        tweet_created_at.append(data[i]['allProperties']['created_at'])\n",
    "        user_lang.append(data[i]['allProperties']['user.lang'])\n",
    "        user_screen_name.append(data[i]['allProperties']['user.screen_name'])\n",
    "        user_location.append(data[i]['allProperties']['user.location'])\n",
    "    return (allid, alltwts, alltopics, retweet, follower_count, source, user_created_at, tweet_created_at, user_lang, user_screen_name, user_location)"
   ]
  },
  {
   "cell_type": "code",
   "execution_count": 164,
   "metadata": {
    "pycharm": {
     "is_executing": false
    }
   },
   "outputs": [
    {
     "name": "stdout",
     "text": [
      "dict_keys(['allProperties', 'routingkey', 'datasetid', 'topic'])\ndict_keys(['possibly_sensitive_appealable', 'user.verified', 'user.listed_count', 'in_reply_to_status_id', 'user.profile_background_tile', 'entities.urls', 'in_reply_to_user_id_str', 'source', 'user.profile_sidebar_border_color', 'user.utc_offset', 'user.translator_type', 'entities.hashtags', 'entities.symbols', 'retweet_count', 'user.profile_use_background_image', 'user.id_str', 'place.country_code', 'place.contained_within', 'is_quote_status', 'user.profile_banner_url', 'in_reply_to_user_id', 'id', 'text', 'user.created_at', 'geo.type', 'user.profile_image_url_https', 'user.follow_request_sent', 'user.profile_background_image_url', 'entities.user_mentions', 'user.id', 'user.default_profile_image', 'user.statuses_count', 'user.profile_text_color', 'place.id', 'place.bounding_box.type', 'user.following', 'user.is_translator', 'user.profile_background_image_url_https', 'user.lang', 'user.screen_name', 'user.entities.description.urls', 'user.entities.url.urls', 'user.friends_count', 'user.is_translation_enabled', 'user.has_extended_profile', 'user.followers_count', 'user.url', 'user.location', 'in_reply_to_status_id_str', 'place.bounding_box.coordinates', 'user.contributors_enabled', 'created_at', 'place.url', 'place.full_name', 'geo.coordinates', 'user.name', 'docno', 'user.default_profile', 'content', 'retweeted', 'place.country', 'place.place_type', 'in_reply_to_screen_name', 'srcjson', 'id_str', 'user.protected', 'user.profile_sidebar_fill_color', 'favorite_count', 'coordinates.type', 'lang', 'favorited', 'user.profile_link_color', 'timestamp', 'place.name', 'possibly_sensitive', 'user.profile_background_color', 'user.notifications', 'truncated', 'user.description', 'user.favourites_count', 'user.time_zone', 'coordinates.coordinates', 'user.profile_image_url', 'user.geo_enabled', 'contributors'])\n",
      "dict_keys(['allProperties', 'routingkey', 'datasetid', 'topic'])\ndict_keys(['possibly_sensitive_appealable', 'user.verified', 'user.listed_count', 'in_reply_to_status_id', 'user.profile_background_tile', 'entities.urls', 'in_reply_to_user_id_str', 'source', 'user.profile_sidebar_border_color', 'user.utc_offset', 'user.translator_type', 'entities.hashtags', 'entities.symbols', 'retweet_count', 'user.profile_use_background_image', 'user.id_str', 'is_quote_status', 'user.profile_banner_url', 'in_reply_to_user_id', 'id', 'text', 'user.created_at', 'user.profile_image_url_https', 'user.follow_request_sent', 'user.profile_background_image_url', 'entities.user_mentions', 'user.id', 'user.default_profile_image', 'user.statuses_count', 'user.profile_text_color', 'user.following', 'user.is_translator', 'user.profile_background_image_url_https', 'user.lang', 'user.screen_name', 'user.entities.description.urls', 'user.friends_count', 'user.is_translation_enabled', 'user.has_extended_profile', 'user.followers_count', 'user.url', 'user.location', 'in_reply_to_status_id_str', 'user.contributors_enabled', 'created_at', 'user.name', 'docno', 'user.default_profile', 'content', 'retweeted', 'geo', 'in_reply_to_screen_name', 'srcjson', 'id_str', 'user.protected', 'user.profile_sidebar_fill_color', 'favorite_count', 'place', 'lang', 'favorited', 'user.profile_link_color', 'timestamp', 'possibly_sensitive', 'user.profile_background_color', 'coordinates', 'user.notifications', 'truncated', 'user.description', 'user.favourites_count', 'user.time_zone', 'user.profile_image_url', 'user.geo_enabled', 'contributors'])\ndict_keys(['allProperties', 'routingkey', 'datasetid', 'topic'])",
      "\ndict_keys(['possibly_sensitive_appealable', 'user.listed_count', 'retweeted_status.user.url', 'retweeted_status.user.profile_sidebar_fill_color', 'user.profile_background_tile', 'entities.urls', 'retweeted_status.user.geo_enabled', 'in_reply_to_user_id_str', 'retweeted_status.user.created_at', 'retweeted_status.user.profile_background_image_url', 'entities.hashtags', 'entities.symbols', 'retweeted_status.user.screen_name', 'retweeted_status.user.profile_text_color', 'retweeted_status.user.friends_count', 'is_quote_status', 'retweeted_status.user.id', 'id', 'text', 'retweeted_status.user.profile_background_image_url_https', 'retweeted_status.truncated', 'retweeted_status.user.profile_image_url', 'entities.user_mentions', 'user.id', 'user.profile_text_color', 'user.following', 'retweeted_status.in_reply_to_user_id_str', 'user.profile_background_image_url_https', 'retweeted_status.geo', 'retweeted_status.retweeted', 'retweeted_status.user.profile_link_color', 'retweeted_status.user.profile_sidebar_border_color', 'user.entities.description.urls', 'retweeted_status.coordinates', 'retweeted_status.user.id_str', 'retweeted_status.user.utc_offset', 'user.followers_count', 'user.location', 'retweeted_status.user.time_zone', 'in_reply_to_status_id_str', 'retweeted_status.user.is_translation_enabled', 'created_at', 'user.name', 'retweeted_status.user.profile_background_tile', 'retweeted_status.retweet_count', 'docno', 'retweeted_status.source', 'retweeted', 'geo', 'retweeted_status.entities.symbols', 'srcjson', 'retweeted_status.favorited', 'user.protected', 'place', 'timestamp', 'retweeted_status.user.has_extended_profile', 'retweeted_status.text', 'retweeted_status.user.location', 'user.profile_background_color', 'retweeted_status.contributors', 'coordinates', 'truncated', 'retweeted_status.entities.hashtags', 'user.description', 'retweeted_status.user.followers_count', 'retweeted_status.user.contributors_enabled', 'retweeted_status.in_reply_to_screen_name', 'retweeted_status.in_reply_to_status_id_str', 'retweeted_status.entities.user_mentions', 'retweeted_status.user.translator_type', 'retweeted_status.user.is_translator', 'user.profile_image_url', 'retweeted_status.user.verified', 'user.verified', 'retweeted_status.user.following', 'retweeted_status.favorite_count', 'retweeted_status.user.profile_banner_url', 'in_reply_to_status_id', 'retweeted_status.user.favourites_count', 'retweeted_status.in_reply_to_status_id', 'source', 'user.profile_sidebar_border_color', 'user.utc_offset', 'user.translator_type', 'retweet_count', 'user.profile_use_background_image', 'user.id_str', 'retweeted_status.user.default_profile', 'user.profile_banner_url', 'in_reply_to_user_id', 'user.created_at', 'user.profile_image_url_https', 'user.follow_request_sent', 'user.profile_background_image_url', 'retweeted_status.entities.urls', 'retweeted_status.user.entities.description.urls', 'retweeted_status.id_str', 'user.default_profile_image', 'user.statuses_count', 'retweeted_status.place', 'retweeted_status.user.statuses_count', 'retweeted_status.user.default_profile_image', 'user.is_translator', 'user.lang', 'user.screen_name', 'retweeted_status.user.listed_count', 'user.friends_count', 'retweeted_status.possibly_sensitive', 'retweeted_status.is_quote_status', 'user.is_translation_enabled', 'user.has_extended_profile', 'retweeted_status.user.lang', 'user.url', 'user.contributors_enabled', 'retweeted_status.user.profile_use_background_image', 'user.default_profile', 'content', 'in_reply_to_screen_name', 'retweeted_status.in_reply_to_user_id', 'retweeted_status.lang', 'id_str', 'user.profile_sidebar_fill_color', 'favorite_count', 'lang', 'retweeted_status.user.description', 'retweeted_status.user.profile_background_color', 'retweeted_status.user.name', 'retweeted_status.user.profile_image_url_https', 'retweeted_status.user.notifications', 'favorited', 'user.profile_link_color', 'retweeted_status.user.follow_request_sent', 'possibly_sensitive', 'user.notifications', 'user.favourites_count', 'user.time_zone', 'retweeted_status.created_at', 'retweeted_status.id', 'user.geo_enabled', 'retweeted_status.user.protected', 'retweeted_status.user.entities.url.urls', 'contributors', 'retweeted_status.possibly_sensitive_appealable'])\n",
      "dict_keys(['allProperties', 'routingkey', 'datasetid', 'topic'])\ndict_keys(['possibly_sensitive_appealable', 'user.verified', 'user.listed_count', 'in_reply_to_status_id', 'user.profile_background_tile', 'entities.urls', 'in_reply_to_user_id_str', 'source', 'user.profile_sidebar_border_color', 'user.utc_offset', 'user.translator_type', 'entities.hashtags', 'entities.symbols', 'retweet_count', 'user.profile_use_background_image', 'user.id_str', 'is_quote_status', 'in_reply_to_user_id', 'id', 'text', 'user.created_at', 'user.profile_image_url_https', 'user.follow_request_sent', 'user.profile_background_image_url', 'entities.user_mentions', 'user.id', 'user.default_profile_image', 'user.statuses_count', 'user.profile_text_color', 'user.following', 'user.is_translator', 'user.profile_background_image_url_https', 'user.lang', 'user.screen_name', 'user.entities.description.urls', 'user.friends_count', 'user.is_translation_enabled', 'user.has_extended_profile', 'user.followers_count', 'user.url', 'user.location', 'in_reply_to_status_id_str', 'user.contributors_enabled', 'created_at', 'user.name', 'docno', 'user.default_profile', 'content', 'retweeted', 'geo', 'in_reply_to_screen_name', 'srcjson', 'id_str', 'user.protected', 'user.profile_sidebar_fill_color', 'favorite_count', 'place', 'lang', 'favorited', 'user.profile_link_color', 'timestamp', 'possibly_sensitive', 'user.profile_background_color', 'coordinates', 'user.notifications', 'truncated', 'user.description', 'user.favourites_count', 'user.time_zone', 'user.profile_image_url', 'user.geo_enabled', 'contributors'])\ndict_keys(['allProperties', 'routingkey', 'datasetid', 'topic'])\ndict_keys(['user.verified', 'user.listed_count', 'in_reply_to_status_id', 'user.profile_background_tile', 'entities.urls', 'in_reply_to_user_id_str', 'source', 'user.profile_sidebar_border_color', 'user.utc_offset', 'user.translator_type', 'entities.hashtags', 'entities.symbols', 'retweet_count', 'user.profile_use_background_image', 'user.id_str', 'is_quote_status', 'user.profile_banner_url', 'in_reply_to_user_id', 'text', 'id', 'user.created_at', 'user.profile_image_url_https', 'user.follow_request_sent', 'user.profile_background_image_url', 'entities.user_mentions', 'user.id', 'user.default_profile_image', 'user.statuses_count', 'user.profile_text_color', 'user.following', 'user.is_translator', 'user.profile_background_image_url_https', 'user.lang', 'user.screen_name', 'user.entities.description.urls', 'user.entities.url.urls', 'user.friends_count', 'user.is_translation_enabled', 'user.has_extended_profile', 'user.followers_count', 'user.url', 'user.location', 'in_reply_to_status_id_str', 'user.contributors_enabled', 'created_at', 'user.name', 'docno', 'user.default_profile', 'content', 'retweeted', 'geo', 'in_reply_to_screen_name', 'srcjson', 'id_str', 'user.protected', 'user.profile_sidebar_fill_color', 'favorite_count', 'place', 'lang', 'favorited', 'user.profile_link_color', 'timestamp', 'user.profile_background_color', 'user.notifications', 'coordinates', 'truncated', 'user.description', 'user.favourites_count', 'user.time_zone', 'user.profile_image_url', 'user.geo_enabled', 'contributors'])\n",
      "dict_keys(['allProperties', 'routingkey', 'datasetid', 'topic'])\ndict_keys(['user.verified', 'user.listed_count', 'in_reply_to_status_id', 'user.profile_background_tile', 'entities.urls', 'in_reply_to_user_id_str', 'source', 'user.profile_sidebar_border_color', 'user.utc_offset', 'user.translator_type', 'entities.hashtags', 'entities.symbols', 'retweet_count', 'user.profile_use_background_image', 'user.id_str', 'is_quote_status', 'user.profile_banner_url', 'in_reply_to_user_id', 'text', 'id', 'user.created_at', 'user.profile_image_url_https', 'user.follow_request_sent', 'user.profile_background_image_url', 'entities.user_mentions', 'user.id', 'user.default_profile_image', 'user.statuses_count', 'user.profile_text_color', 'user.following', 'user.is_translator', 'user.profile_background_image_url_https', 'user.lang', 'user.screen_name', 'user.entities.description.urls', 'user.friends_count', 'user.is_translation_enabled', 'user.has_extended_profile', 'user.followers_count', 'user.url', 'user.location', 'in_reply_to_status_id_str', 'user.contributors_enabled', 'created_at', 'user.name', 'docno', 'user.default_profile', 'content', 'retweeted', 'geo', 'in_reply_to_screen_name', 'srcjson', 'id_str', 'user.protected', 'user.profile_sidebar_fill_color', 'favorite_count', 'place', 'lang', 'favorited', 'user.profile_link_color', 'timestamp', 'user.profile_background_color', 'user.notifications', 'coordinates', 'truncated', 'user.description', 'user.favourites_count', 'user.time_zone', 'user.profile_image_url', 'user.geo_enabled', 'contributors'])\n"
     ],
     "output_type": "stream"
    }
   ],
   "source": [
    "'''\n",
    "    Appending returned info about the tweets into lists to later create pandas df\n",
    "'''\n",
    "ids = []\n",
    "tweet = []\n",
    "topic = []\n",
    "retweet = []\n",
    "follower_count = []\n",
    "source = []\n",
    "user_created_at = []\n",
    "tweet_created_at = []\n",
    "user_lang = []\n",
    "user_screen_name = []\n",
    "user_location = []\n",
    "for each in files:\n",
    "    a, b, c, d, e, f, g, h, i, j, k = gettweets(filen+each)\n",
    "    ids.extend(a)\n",
    "    tweet.extend(b)\n",
    "    topic.extend(c)\n",
    "    retweet.extend(d)\n",
    "    follower_count.extend(e)\n",
    "    source.extend(f)\n",
    "    user_created_at.extend(g)\n",
    "    tweet_created_at.extend(h)\n",
    "    user_lang.extend(i)\n",
    "    user_screen_name.extend(j)\n",
    "    user_location.extend(k)"
   ]
  },
  {
   "cell_type": "code",
   "execution_count": 165,
   "metadata": {
    "pycharm": {
     "is_executing": false
    }
   },
   "outputs": [],
   "source": [
    "tweetdf = pd.DataFrame([ids, tweet, topic, retweet, follower_count, source, user_created_at, tweet_created_at, user_lang, user_screen_name, user_location]).T"
   ]
  },
  {
   "cell_type": "code",
   "execution_count": 166,
   "metadata": {
    "pycharm": {
     "is_executing": false
    }
   },
   "outputs": [],
   "source": [
    "tweetdf.columns = ['ID', 'Tweet', 'Event', 'Retweet_Count', 'Follower_Count', 'Source', 'User_Created_at', 'Tweet_Created_at', 'User_Language', 'User_Screen_Name', 'User_Location']"
   ]
  },
  {
   "cell_type": "code",
   "execution_count": 167,
   "metadata": {
    "scrolled": true,
    "pycharm": {
     "is_executing": false
    }
   },
   "outputs": [
    {
     "data": {
      "text/plain": "                   ID                                              Tweet  \\\n0  242997841134505985  ã€�#USGS #Breakingã€‘ M 1.1, 28km SSW of Fairb...   \n1  243121539552256001  #Earthquake M 4.8, south of Bali, Indonesia: S...   \n2  243198739882332161  #earthquake: M 4.5, Taiwan region http://t.co/...   \n3  243203924050448384  #earthquake M 2.6, Hawaii region, Hawaii http:...   \n4  243360283526045696  RT @NewEarthquake: 7.9 earthquake, off the coa...   \n5  243361084629721088  RT @Reuters: More: 7.9-magnitude earthquake ra...   \n6  243361147519127553  RT @BreakingNews: Magnitude 7.9 earthquake str...   \n7  243361298518249473  Magnitude 7.9 earthquake strikes off the coast...   \n8  243361642447007744  RT @Reuters: Live coverage: 7.9-magnitude eart...   \n9  243361697002299392  ãƒ‡ã‚«ã‚¤ã�ªã€‚ã�§ã�‹ã�™ã�Žã‚‹ã�œã€�ãƒ™ã‚¯ãƒ†ã...   \n\n                     Event Retweet_Count Follower_Count  \\\n0  costaRicaEarthquake2012             0           3734   \n1  costaRicaEarthquake2012             0            659   \n2  costaRicaEarthquake2012             0           2847   \n3  costaRicaEarthquake2012             1          11251   \n4  costaRicaEarthquake2012          1464           1897   \n5  costaRicaEarthquake2012           241           1933   \n6  costaRicaEarthquake2012           928            354   \n7  costaRicaEarthquake2012             0            174   \n8  costaRicaEarthquake2012           391            295   \n9  costaRicaEarthquake2012             1           4039   \n\n                                              Source  \\\n0  <a href=\"https://dlvrit.com/\" rel=\"nofollow\">d...   \n1  <a href=\"http://twitterfeed.com\" rel=\"nofollow...   \n2  <a href=\"http://twitterfeed.com\" rel=\"nofollow...   \n3  <a href=\"http://twitterfeed.com\" rel=\"nofollow...   \n4  <a href=\"https://about.twitter.com/products/tw...   \n5  <a href=\"http://twitter.com/#!/download/ipad\" ...   \n6  <a href=\"http://ubersocial.com\" rel=\"nofollow\"...   \n7  <a href=\"http://www.cloudhopper.com/\" rel=\"nof...   \n8  <a href=\"http://twitter.com\" rel=\"nofollow\">Tw...   \n9  <a href=\"http://twitter.com\" rel=\"nofollow\">Tw...   \n\n                  User_Created_at                Tweet_Created_at  \\\n0  Mon Mar 12 21:27:40 +0000 2012  Tue Sep 04 14:49:34 +0000 2012   \n1  Thu Apr 09 16:49:40 +0000 2009  Tue Sep 04 23:01:06 +0000 2012   \n2  Sun Mar 13 03:49:42 +0000 2011  Wed Sep 05 04:07:52 +0000 2012   \n3  Tue Jul 29 18:58:36 +0000 2008  Wed Sep 05 04:28:28 +0000 2012   \n4  Thu Mar 19 14:04:22 +0000 2009  Wed Sep 05 14:49:47 +0000 2012   \n5  Sat Mar 14 23:29:27 +0000 2009  Wed Sep 05 14:52:58 +0000 2012   \n6  Tue Jun 01 13:09:28 +0000 2010  Wed Sep 05 14:53:13 +0000 2012   \n7  Sat Apr 30 04:35:49 +0000 2011  Wed Sep 05 14:53:49 +0000 2012   \n8  Thu Jun 25 12:40:13 +0000 2009  Wed Sep 05 14:55:11 +0000 2012   \n9  Wed Jul 29 21:05:05 +0000 2009  Wed Sep 05 14:55:24 +0000 2012   \n\n  User_Language User_Screen_Name           User_Location  \n0            ja     from___japan           With everyone  \n1            en          YKLee13               Singapore  \n2            en          equakea                          \n3            en  WheresItShaking     Columbus, Ohio, USA  \n4            es        jparedeso      ValparaÃ­so, Chile  \n5            en       MissJitter  Georgia, United States  \n6            en        antman_90          North Carolina  \n7            en      JWoodward26                     USA  \n8            hu          csola48                 Hungary  \n9            en           ST0NES       Radioactive Japan  ",
      "text/html": "<div>\n<style scoped>\n    .dataframe tbody tr th:only-of-type {\n        vertical-align: middle;\n    }\n\n    .dataframe tbody tr th {\n        vertical-align: top;\n    }\n\n    .dataframe thead th {\n        text-align: right;\n    }\n</style>\n<table border=\"1\" class=\"dataframe\">\n  <thead>\n    <tr style=\"text-align: right;\">\n      <th></th>\n      <th>ID</th>\n      <th>Tweet</th>\n      <th>Event</th>\n      <th>Retweet_Count</th>\n      <th>Follower_Count</th>\n      <th>Source</th>\n      <th>User_Created_at</th>\n      <th>Tweet_Created_at</th>\n      <th>User_Language</th>\n      <th>User_Screen_Name</th>\n      <th>User_Location</th>\n    </tr>\n  </thead>\n  <tbody>\n    <tr>\n      <th>0</th>\n      <td>242997841134505985</td>\n      <td>ã€�#USGS #Breakingã€‘ M 1.1, 28km SSW of Fairb...</td>\n      <td>costaRicaEarthquake2012</td>\n      <td>0</td>\n      <td>3734</td>\n      <td>&lt;a href=\"https://dlvrit.com/\" rel=\"nofollow\"&gt;d...</td>\n      <td>Mon Mar 12 21:27:40 +0000 2012</td>\n      <td>Tue Sep 04 14:49:34 +0000 2012</td>\n      <td>ja</td>\n      <td>from___japan</td>\n      <td>With everyone</td>\n    </tr>\n    <tr>\n      <th>1</th>\n      <td>243121539552256001</td>\n      <td>#Earthquake M 4.8, south of Bali, Indonesia: S...</td>\n      <td>costaRicaEarthquake2012</td>\n      <td>0</td>\n      <td>659</td>\n      <td>&lt;a href=\"http://twitterfeed.com\" rel=\"nofollow...</td>\n      <td>Thu Apr 09 16:49:40 +0000 2009</td>\n      <td>Tue Sep 04 23:01:06 +0000 2012</td>\n      <td>en</td>\n      <td>YKLee13</td>\n      <td>Singapore</td>\n    </tr>\n    <tr>\n      <th>2</th>\n      <td>243198739882332161</td>\n      <td>#earthquake: M 4.5, Taiwan region http://t.co/...</td>\n      <td>costaRicaEarthquake2012</td>\n      <td>0</td>\n      <td>2847</td>\n      <td>&lt;a href=\"http://twitterfeed.com\" rel=\"nofollow...</td>\n      <td>Sun Mar 13 03:49:42 +0000 2011</td>\n      <td>Wed Sep 05 04:07:52 +0000 2012</td>\n      <td>en</td>\n      <td>equakea</td>\n      <td></td>\n    </tr>\n    <tr>\n      <th>3</th>\n      <td>243203924050448384</td>\n      <td>#earthquake M 2.6, Hawaii region, Hawaii http:...</td>\n      <td>costaRicaEarthquake2012</td>\n      <td>1</td>\n      <td>11251</td>\n      <td>&lt;a href=\"http://twitterfeed.com\" rel=\"nofollow...</td>\n      <td>Tue Jul 29 18:58:36 +0000 2008</td>\n      <td>Wed Sep 05 04:28:28 +0000 2012</td>\n      <td>en</td>\n      <td>WheresItShaking</td>\n      <td>Columbus, Ohio, USA</td>\n    </tr>\n    <tr>\n      <th>4</th>\n      <td>243360283526045696</td>\n      <td>RT @NewEarthquake: 7.9 earthquake, off the coa...</td>\n      <td>costaRicaEarthquake2012</td>\n      <td>1464</td>\n      <td>1897</td>\n      <td>&lt;a href=\"https://about.twitter.com/products/tw...</td>\n      <td>Thu Mar 19 14:04:22 +0000 2009</td>\n      <td>Wed Sep 05 14:49:47 +0000 2012</td>\n      <td>es</td>\n      <td>jparedeso</td>\n      <td>ValparaÃ­so, Chile</td>\n    </tr>\n    <tr>\n      <th>5</th>\n      <td>243361084629721088</td>\n      <td>RT @Reuters: More: 7.9-magnitude earthquake ra...</td>\n      <td>costaRicaEarthquake2012</td>\n      <td>241</td>\n      <td>1933</td>\n      <td>&lt;a href=\"http://twitter.com/#!/download/ipad\" ...</td>\n      <td>Sat Mar 14 23:29:27 +0000 2009</td>\n      <td>Wed Sep 05 14:52:58 +0000 2012</td>\n      <td>en</td>\n      <td>MissJitter</td>\n      <td>Georgia, United States</td>\n    </tr>\n    <tr>\n      <th>6</th>\n      <td>243361147519127553</td>\n      <td>RT @BreakingNews: Magnitude 7.9 earthquake str...</td>\n      <td>costaRicaEarthquake2012</td>\n      <td>928</td>\n      <td>354</td>\n      <td>&lt;a href=\"http://ubersocial.com\" rel=\"nofollow\"...</td>\n      <td>Tue Jun 01 13:09:28 +0000 2010</td>\n      <td>Wed Sep 05 14:53:13 +0000 2012</td>\n      <td>en</td>\n      <td>antman_90</td>\n      <td>North Carolina</td>\n    </tr>\n    <tr>\n      <th>7</th>\n      <td>243361298518249473</td>\n      <td>Magnitude 7.9 earthquake strikes off the coast...</td>\n      <td>costaRicaEarthquake2012</td>\n      <td>0</td>\n      <td>174</td>\n      <td>&lt;a href=\"http://www.cloudhopper.com/\" rel=\"nof...</td>\n      <td>Sat Apr 30 04:35:49 +0000 2011</td>\n      <td>Wed Sep 05 14:53:49 +0000 2012</td>\n      <td>en</td>\n      <td>JWoodward26</td>\n      <td>USA</td>\n    </tr>\n    <tr>\n      <th>8</th>\n      <td>243361642447007744</td>\n      <td>RT @Reuters: Live coverage: 7.9-magnitude eart...</td>\n      <td>costaRicaEarthquake2012</td>\n      <td>391</td>\n      <td>295</td>\n      <td>&lt;a href=\"http://twitter.com\" rel=\"nofollow\"&gt;Tw...</td>\n      <td>Thu Jun 25 12:40:13 +0000 2009</td>\n      <td>Wed Sep 05 14:55:11 +0000 2012</td>\n      <td>hu</td>\n      <td>csola48</td>\n      <td>Hungary</td>\n    </tr>\n    <tr>\n      <th>9</th>\n      <td>243361697002299392</td>\n      <td>ãƒ‡ã‚«ã‚¤ã�ªã€‚ã�§ã�‹ã�™ã�Žã‚‹ã�œã€�ãƒ™ã‚¯ãƒ†ã...</td>\n      <td>costaRicaEarthquake2012</td>\n      <td>1</td>\n      <td>4039</td>\n      <td>&lt;a href=\"http://twitter.com\" rel=\"nofollow\"&gt;Tw...</td>\n      <td>Wed Jul 29 21:05:05 +0000 2009</td>\n      <td>Wed Sep 05 14:55:24 +0000 2012</td>\n      <td>en</td>\n      <td>ST0NES</td>\n      <td>Radioactive Japan</td>\n    </tr>\n  </tbody>\n</table>\n</div>"
     },
     "metadata": {},
     "output_type": "execute_result",
     "execution_count": 167
    }
   ],
   "source": [
    "tweetdf.head(10)"
   ]
  },
  {
   "cell_type": "code",
   "execution_count": 168,
   "metadata": {
    "pycharm": {
     "is_executing": false
    }
   },
   "outputs": [],
   "source": [
    "'''\n",
    "    Opening a json contianing descriptions about the events on which the tweets are about\n",
    "'''\n",
    "with open('TRECIS_2018_2019-labels/TRECIS_2018_2019-labels.json', 'r', encoding = 'utf-8' ) as fp:\n",
    "        data = json.loads(\"[\" + fp.read().replace(\"}\\n{\", \"},\\n{\") + \"]\")\n",
    "        tweetid = []\n",
    "        event_desc = []\n",
    "        cat = []\n",
    "        priority = []\n",
    "        \n",
    "        for i in range (len(data[0])):\n",
    "            tweetid.append(data[0][i]['postID'])\n",
    "            event_desc.append(data[0][i]['eventDescription'])\n",
    "            cat.append(data[0][i]['postCategories'])\n",
    "            priority.append(data[0][i]['postPriority'])"
   ]
  },
  {
   "cell_type": "code",
   "execution_count": 169,
   "metadata": {
    "pycharm": {
     "is_executing": false
    }
   },
   "outputs": [
    {
     "data": {
      "text/plain": "(38478, 38478, 38478, 38478)"
     },
     "metadata": {},
     "output_type": "execute_result",
     "execution_count": 169
    }
   ],
   "source": [
    "len(tweetid), len(event_desc), len(cat), len(priority)"
   ]
  },
  {
   "cell_type": "code",
   "execution_count": 170,
   "metadata": {
    "pycharm": {
     "is_executing": false
    }
   },
   "outputs": [],
   "source": [
    "labeldf = pd.DataFrame([tweetid, event_desc, cat, priority]).T"
   ]
  },
  {
   "cell_type": "code",
   "execution_count": 171,
   "metadata": {
    "pycharm": {
     "is_executing": false
    }
   },
   "outputs": [],
   "source": [
    "labeldf.columns = ['ID', 'Event_Decrption', 'Categories', 'Priority']"
   ]
  },
  {
   "cell_type": "code",
   "execution_count": 172,
   "metadata": {
    "pycharm": {
     "is_executing": false
    }
   },
   "outputs": [],
   "source": [
    "tweetdf= tweetdf.drop_duplicates(subset=['ID'], keep=False)\n",
    "labeldf = labeldf.drop_duplicates(subset=['ID'], keep=False)"
   ]
  },
  {
   "cell_type": "code",
   "execution_count": 173,
   "metadata": {
    "pycharm": {
     "is_executing": false
    }
   },
   "outputs": [],
   "source": [
    "'''\n",
    "    Inner join on the tweets and label df to arrive at a comprehensive df\n",
    "'''\n",
    "\n",
    "joindf = pd.merge(tweetdf,labeldf,how = 'inner')"
   ]
  },
  {
   "cell_type": "code",
   "execution_count": 174,
   "metadata": {
    "scrolled": true,
    "pycharm": {
     "is_executing": false
    }
   },
   "outputs": [
    {
     "data": {
      "text/plain": "(1333, 14)"
     },
     "metadata": {},
     "output_type": "execute_result",
     "execution_count": 174
    }
   ],
   "source": [
    "joindf.shape"
   ]
  },
  {
   "cell_type": "code",
   "execution_count": 175,
   "outputs": [
    {
     "data": {
      "text/plain": "                      ID                                              Tweet  \\\n86    243376070861144064  #CostaRica Is Costa Rica OK? I'm worried about...   \n1232  324732515795484672  It's been one hell of a week... #PrayersForBos...   \n598   378198479111073792  bfp Live Interactive Coverage: Flooding in Col...   \n285   212176367289253888  Pray for rain! RT @LarimerSheriff: #HighParkFi...   \n303   212315735609966592  RT @9NEWS: #HighParkFire - CONFIRMED cause of ...   \n49    243368961511677953  Tsunami alert as 7.6 quake strikes off Costa R...   \n981   275478791323787264  #PabloPH KATAKOT! ayaw ko pang mamatay gusto k...   \n1192  324721463804444672  Praying for TX friends in West (15 min. N. of ...   \n505   217744670753689603  Pic of the #FlagstaffFire in boulder from our ...   \n555   378122948064067584  RT @breakingstorm: 2nd death related to Colora...   \n\n                        Event Retweet_Count Follower_Count  \\\n86    costaRicaEarthquake2012             0              4   \n1232   westTexasExplosion2013             0            177   \n598         floodColorado2013             0           2199   \n285          fireColorado2012             0            352   \n303          fireColorado2012             0            154   \n49    costaRicaEarthquake2012             0            231   \n981          typhoonPablo2012             0            895   \n1192   westTexasExplosion2013             1            884   \n505          fireColorado2012             0             42   \n555         floodColorado2013            47            913   \n\n                                                 Source  \\\n86    <a href=\"http://tweetli.st/\" rel=\"nofollow\">Tw...   \n1232  <a href=\"http://twitter.com/#!/download/ipad\" ...   \n598   <a href=\"http://twitterfeed.com\" rel=\"nofollow...   \n285   <a href=\"http://www.tweetcaster.com\" rel=\"nofo...   \n303   <a href=\"https://about.twitter.com/products/tw...   \n49    <a href=\"http://twitterfeed.com\" rel=\"nofollow...   \n981   <a href=\"http://twitter.com\" rel=\"nofollow\">Tw...   \n1192  <a href=\"http://twitter.com/download/iphone\" r...   \n505   <a href=\"http://twitter.com/download/iphone\" r...   \n555   <a href=\"http://twitter.com/download/android\" ...   \n\n                     User_Created_at                Tweet_Created_at  \\\n86    Tue Aug 21 02:45:46 +0000 2012  Wed Sep 05 15:52:31 +0000 2012   \n1232  Wed Mar 30 01:51:50 +0000 2011  Thu Apr 18 03:53:59 +0000 2013   \n598   Thu Aug 20 13:54:34 +0000 2009  Thu Sep 12 16:48:38 +0000 2013   \n285   Wed Jan 05 16:20:50 +0000 2011  Mon Jun 11 13:36:02 +0000 2012   \n303   Sat Jan 23 06:09:29 +0000 2010  Mon Jun 11 22:49:50 +0000 2012   \n49    Mon Jul 12 16:26:36 +0000 2010  Wed Sep 05 15:24:16 +0000 2012   \n981   Mon Oct 05 11:16:10 +0000 2009  Mon Dec 03 05:57:16 +0000 2012   \n1192  Mon Jan 28 04:39:57 +0000 2013  Thu Apr 18 03:10:04 +0000 2013   \n505   Sat Jun 06 02:28:24 +0000 2009  Tue Jun 26 22:22:32 +0000 2012   \n555   Sun Jan 11 20:13:13 +0000 2009  Thu Sep 12 11:48:30 +0000 2013   \n\n     User_Language User_Screen_Name          User_Location  \\\n86              ja       Exit999Man                  Japan   \n1232            en  Sabrinaosborney             Austin, TX   \n598             en     vermont_news                Vermont   \n285             en   JuneMaconMoves             Colorado.    \n303             en         214tweet            Boulder, CO   \n49              en         tekasape               Malaysia   \n981             en      erikatoni11            volleybelle   \n1192            en      _stevenhill             Austin, TX   \n505             en        atcparker               Erie, Co   \n555             en  brittenychick10  durham,north carolina   \n\n                                        Event_Decrption         Categories  \\\n86    The 2012 Costa Rica earthquake occurred at 08:...       [Irrelevant]   \n1232  On April 17, 2013, an ammonium nitrate explosi...       [Irrelevant]   \n598   The 2013 Colorado floods was a natural disaste...             [News]   \n285   The 2012 Colorado wildfires were an unusually ...        [Sentiment]   \n303   The 2012 Colorado wildfires were an unusually ...          [Factoid]   \n49    The 2012 Costa Rica earthquake occurred at 08:...         [Official]   \n981   Typhoon Bopha, known locally in the Philippine...       [Irrelevant]   \n1192  On April 17, 2013, an ammonium nitrate explosi...        [Sentiment]   \n505   The 2012 Colorado wildfires were an unusually ...  [MultimediaShare]   \n555   The 2013 Colorado floods was a natural disaste...          [Factoid]   \n\n     Priority  \n86        Low  \n1232      Low  \n598       Low  \n285       Low  \n303    Medium  \n49        Low  \n981       Low  \n1192      Low  \n505       Low  \n555    Medium  ",
      "text/html": "<div>\n<style scoped>\n    .dataframe tbody tr th:only-of-type {\n        vertical-align: middle;\n    }\n\n    .dataframe tbody tr th {\n        vertical-align: top;\n    }\n\n    .dataframe thead th {\n        text-align: right;\n    }\n</style>\n<table border=\"1\" class=\"dataframe\">\n  <thead>\n    <tr style=\"text-align: right;\">\n      <th></th>\n      <th>ID</th>\n      <th>Tweet</th>\n      <th>Event</th>\n      <th>Retweet_Count</th>\n      <th>Follower_Count</th>\n      <th>Source</th>\n      <th>User_Created_at</th>\n      <th>Tweet_Created_at</th>\n      <th>User_Language</th>\n      <th>User_Screen_Name</th>\n      <th>User_Location</th>\n      <th>Event_Decrption</th>\n      <th>Categories</th>\n      <th>Priority</th>\n    </tr>\n  </thead>\n  <tbody>\n    <tr>\n      <th>86</th>\n      <td>243376070861144064</td>\n      <td>#CostaRica Is Costa Rica OK? I'm worried about...</td>\n      <td>costaRicaEarthquake2012</td>\n      <td>0</td>\n      <td>4</td>\n      <td>&lt;a href=\"http://tweetli.st/\" rel=\"nofollow\"&gt;Tw...</td>\n      <td>Tue Aug 21 02:45:46 +0000 2012</td>\n      <td>Wed Sep 05 15:52:31 +0000 2012</td>\n      <td>ja</td>\n      <td>Exit999Man</td>\n      <td>Japan</td>\n      <td>The 2012 Costa Rica earthquake occurred at 08:...</td>\n      <td>[Irrelevant]</td>\n      <td>Low</td>\n    </tr>\n    <tr>\n      <th>1232</th>\n      <td>324732515795484672</td>\n      <td>It's been one hell of a week... #PrayersForBos...</td>\n      <td>westTexasExplosion2013</td>\n      <td>0</td>\n      <td>177</td>\n      <td>&lt;a href=\"http://twitter.com/#!/download/ipad\" ...</td>\n      <td>Wed Mar 30 01:51:50 +0000 2011</td>\n      <td>Thu Apr 18 03:53:59 +0000 2013</td>\n      <td>en</td>\n      <td>Sabrinaosborney</td>\n      <td>Austin, TX</td>\n      <td>On April 17, 2013, an ammonium nitrate explosi...</td>\n      <td>[Irrelevant]</td>\n      <td>Low</td>\n    </tr>\n    <tr>\n      <th>598</th>\n      <td>378198479111073792</td>\n      <td>bfp Live Interactive Coverage: Flooding in Col...</td>\n      <td>floodColorado2013</td>\n      <td>0</td>\n      <td>2199</td>\n      <td>&lt;a href=\"http://twitterfeed.com\" rel=\"nofollow...</td>\n      <td>Thu Aug 20 13:54:34 +0000 2009</td>\n      <td>Thu Sep 12 16:48:38 +0000 2013</td>\n      <td>en</td>\n      <td>vermont_news</td>\n      <td>Vermont</td>\n      <td>The 2013 Colorado floods was a natural disaste...</td>\n      <td>[News]</td>\n      <td>Low</td>\n    </tr>\n    <tr>\n      <th>285</th>\n      <td>212176367289253888</td>\n      <td>Pray for rain! RT @LarimerSheriff: #HighParkFi...</td>\n      <td>fireColorado2012</td>\n      <td>0</td>\n      <td>352</td>\n      <td>&lt;a href=\"http://www.tweetcaster.com\" rel=\"nofo...</td>\n      <td>Wed Jan 05 16:20:50 +0000 2011</td>\n      <td>Mon Jun 11 13:36:02 +0000 2012</td>\n      <td>en</td>\n      <td>JuneMaconMoves</td>\n      <td>Colorado.</td>\n      <td>The 2012 Colorado wildfires were an unusually ...</td>\n      <td>[Sentiment]</td>\n      <td>Low</td>\n    </tr>\n    <tr>\n      <th>303</th>\n      <td>212315735609966592</td>\n      <td>RT @9NEWS: #HighParkFire - CONFIRMED cause of ...</td>\n      <td>fireColorado2012</td>\n      <td>0</td>\n      <td>154</td>\n      <td>&lt;a href=\"https://about.twitter.com/products/tw...</td>\n      <td>Sat Jan 23 06:09:29 +0000 2010</td>\n      <td>Mon Jun 11 22:49:50 +0000 2012</td>\n      <td>en</td>\n      <td>214tweet</td>\n      <td>Boulder, CO</td>\n      <td>The 2012 Colorado wildfires were an unusually ...</td>\n      <td>[Factoid]</td>\n      <td>Medium</td>\n    </tr>\n    <tr>\n      <th>49</th>\n      <td>243368961511677953</td>\n      <td>Tsunami alert as 7.6 quake strikes off Costa R...</td>\n      <td>costaRicaEarthquake2012</td>\n      <td>0</td>\n      <td>231</td>\n      <td>&lt;a href=\"http://twitterfeed.com\" rel=\"nofollow...</td>\n      <td>Mon Jul 12 16:26:36 +0000 2010</td>\n      <td>Wed Sep 05 15:24:16 +0000 2012</td>\n      <td>en</td>\n      <td>tekasape</td>\n      <td>Malaysia</td>\n      <td>The 2012 Costa Rica earthquake occurred at 08:...</td>\n      <td>[Official]</td>\n      <td>Low</td>\n    </tr>\n    <tr>\n      <th>981</th>\n      <td>275478791323787264</td>\n      <td>#PabloPH KATAKOT! ayaw ko pang mamatay gusto k...</td>\n      <td>typhoonPablo2012</td>\n      <td>0</td>\n      <td>895</td>\n      <td>&lt;a href=\"http://twitter.com\" rel=\"nofollow\"&gt;Tw...</td>\n      <td>Mon Oct 05 11:16:10 +0000 2009</td>\n      <td>Mon Dec 03 05:57:16 +0000 2012</td>\n      <td>en</td>\n      <td>erikatoni11</td>\n      <td>volleybelle</td>\n      <td>Typhoon Bopha, known locally in the Philippine...</td>\n      <td>[Irrelevant]</td>\n      <td>Low</td>\n    </tr>\n    <tr>\n      <th>1192</th>\n      <td>324721463804444672</td>\n      <td>Praying for TX friends in West (15 min. N. of ...</td>\n      <td>westTexasExplosion2013</td>\n      <td>1</td>\n      <td>884</td>\n      <td>&lt;a href=\"http://twitter.com/download/iphone\" r...</td>\n      <td>Mon Jan 28 04:39:57 +0000 2013</td>\n      <td>Thu Apr 18 03:10:04 +0000 2013</td>\n      <td>en</td>\n      <td>_stevenhill</td>\n      <td>Austin, TX</td>\n      <td>On April 17, 2013, an ammonium nitrate explosi...</td>\n      <td>[Sentiment]</td>\n      <td>Low</td>\n    </tr>\n    <tr>\n      <th>505</th>\n      <td>217744670753689603</td>\n      <td>Pic of the #FlagstaffFire in boulder from our ...</td>\n      <td>fireColorado2012</td>\n      <td>0</td>\n      <td>42</td>\n      <td>&lt;a href=\"http://twitter.com/download/iphone\" r...</td>\n      <td>Sat Jun 06 02:28:24 +0000 2009</td>\n      <td>Tue Jun 26 22:22:32 +0000 2012</td>\n      <td>en</td>\n      <td>atcparker</td>\n      <td>Erie, Co</td>\n      <td>The 2012 Colorado wildfires were an unusually ...</td>\n      <td>[MultimediaShare]</td>\n      <td>Low</td>\n    </tr>\n    <tr>\n      <th>555</th>\n      <td>378122948064067584</td>\n      <td>RT @breakingstorm: 2nd death related to Colora...</td>\n      <td>floodColorado2013</td>\n      <td>47</td>\n      <td>913</td>\n      <td>&lt;a href=\"http://twitter.com/download/android\" ...</td>\n      <td>Sun Jan 11 20:13:13 +0000 2009</td>\n      <td>Thu Sep 12 11:48:30 +0000 2013</td>\n      <td>en</td>\n      <td>brittenychick10</td>\n      <td>durham,north carolina</td>\n      <td>The 2013 Colorado floods was a natural disaste...</td>\n      <td>[Factoid]</td>\n      <td>Medium</td>\n    </tr>\n  </tbody>\n</table>\n</div>"
     },
     "metadata": {},
     "output_type": "execute_result",
     "execution_count": 175
    }
   ],
   "source": [
    "joindf.sample(10)"
   ],
   "metadata": {
    "collapsed": false,
    "pycharm": {
     "name": "#%%\n",
     "is_executing": false
    }
   }
  },
  {
   "cell_type": "code",
   "execution_count": 176,
   "metadata": {
    "pycharm": {
     "is_executing": false
    }
   },
   "outputs": [],
   "source": [
    "joindf.to_csv('Ultimate_Dataframe_TREC_2018_train.csv')"
   ]
  },
  {
   "cell_type": "code",
   "execution_count": 156,
   "metadata": {
    "pycharm": {
     "is_executing": false
    }
   },
   "outputs": [],
   "source": [
    "df_test = pd.read_csv('Ultimate_Dataframe_TREC_2018_train.csv')"
   ]
  },
  {
   "cell_type": "code",
   "execution_count": 157,
   "outputs": [
    {
     "data": {
      "text/plain": "   Unnamed: 0                  ID  \\\n0           0  242997841134505985   \n1           1  243121539552256001   \n2           2  243198739882332161   \n3           3  243203924050448384   \n4           4  243361298518249473   \n\n                                               Tweet                    Event  \\\n0  ã€�#USGS #Breakingã€‘ M 1.1, 28km SSW of Fairb...  costaRicaEarthquake2012   \n1  #Earthquake M 4.8, south of Bali, Indonesia: S...  costaRicaEarthquake2012   \n2  #earthquake: M 4.5, Taiwan region http://t.co/...  costaRicaEarthquake2012   \n3  #earthquake M 2.6, Hawaii region, Hawaii http:...  costaRicaEarthquake2012   \n4  Magnitude 7.9 earthquake strikes off the coast...  costaRicaEarthquake2012   \n\n   Retweet_Count  Follower_Count  \\\n0              0            3734   \n1              0             659   \n2              0            2847   \n3              1           11251   \n4              0             174   \n\n                                              Source  \\\n0  <a href=\"https://dlvrit.com/\" rel=\"nofollow\">d...   \n1  <a href=\"http://twitterfeed.com\" rel=\"nofollow...   \n2  <a href=\"http://twitterfeed.com\" rel=\"nofollow...   \n3  <a href=\"http://twitterfeed.com\" rel=\"nofollow...   \n4  <a href=\"http://www.cloudhopper.com/\" rel=\"nof...   \n\n                  User_Created_at                Tweet_Created_at  \\\n0  Mon Mar 12 21:27:40 +0000 2012  Tue Sep 04 14:49:34 +0000 2012   \n1  Thu Apr 09 16:49:40 +0000 2009  Tue Sep 04 23:01:06 +0000 2012   \n2  Sun Mar 13 03:49:42 +0000 2011  Wed Sep 05 04:07:52 +0000 2012   \n3  Tue Jul 29 18:58:36 +0000 2008  Wed Sep 05 04:28:28 +0000 2012   \n4  Sat Apr 30 04:35:49 +0000 2011  Wed Sep 05 14:53:49 +0000 2012   \n\n  User_Language User_Screen_Name        User_Location  \\\n0            ja     from___japan        With everyone   \n1            en          YKLee13            Singapore   \n2            en          equakea                  NaN   \n3            en  WheresItShaking  Columbus, Ohio, USA   \n4            en      JWoodward26                  USA   \n\n                                     Event_Decrption         Categories  \\\n0  The 2012 Costa Rica earthquake occurred at 08:...  ['OriginalEvent']   \n1  The 2012 Costa Rica earthquake occurred at 08:...  ['OriginalEvent']   \n2  The 2012 Costa Rica earthquake occurred at 08:...  ['OriginalEvent']   \n3  The 2012 Costa Rica earthquake occurred at 08:...  ['OriginalEvent']   \n4  The 2012 Costa Rica earthquake occurred at 08:...  ['OriginalEvent']   \n\n  Priority  \n0      Low  \n1      Low  \n2      Low  \n3      Low  \n4      Low  ",
      "text/html": "<div>\n<style scoped>\n    .dataframe tbody tr th:only-of-type {\n        vertical-align: middle;\n    }\n\n    .dataframe tbody tr th {\n        vertical-align: top;\n    }\n\n    .dataframe thead th {\n        text-align: right;\n    }\n</style>\n<table border=\"1\" class=\"dataframe\">\n  <thead>\n    <tr style=\"text-align: right;\">\n      <th></th>\n      <th>Unnamed: 0</th>\n      <th>ID</th>\n      <th>Tweet</th>\n      <th>Event</th>\n      <th>Retweet_Count</th>\n      <th>Follower_Count</th>\n      <th>Source</th>\n      <th>User_Created_at</th>\n      <th>Tweet_Created_at</th>\n      <th>User_Language</th>\n      <th>User_Screen_Name</th>\n      <th>User_Location</th>\n      <th>Event_Decrption</th>\n      <th>Categories</th>\n      <th>Priority</th>\n    </tr>\n  </thead>\n  <tbody>\n    <tr>\n      <th>0</th>\n      <td>0</td>\n      <td>242997841134505985</td>\n      <td>ã€�#USGS #Breakingã€‘ M 1.1, 28km SSW of Fairb...</td>\n      <td>costaRicaEarthquake2012</td>\n      <td>0</td>\n      <td>3734</td>\n      <td>&lt;a href=\"https://dlvrit.com/\" rel=\"nofollow\"&gt;d...</td>\n      <td>Mon Mar 12 21:27:40 +0000 2012</td>\n      <td>Tue Sep 04 14:49:34 +0000 2012</td>\n      <td>ja</td>\n      <td>from___japan</td>\n      <td>With everyone</td>\n      <td>The 2012 Costa Rica earthquake occurred at 08:...</td>\n      <td>['OriginalEvent']</td>\n      <td>Low</td>\n    </tr>\n    <tr>\n      <th>1</th>\n      <td>1</td>\n      <td>243121539552256001</td>\n      <td>#Earthquake M 4.8, south of Bali, Indonesia: S...</td>\n      <td>costaRicaEarthquake2012</td>\n      <td>0</td>\n      <td>659</td>\n      <td>&lt;a href=\"http://twitterfeed.com\" rel=\"nofollow...</td>\n      <td>Thu Apr 09 16:49:40 +0000 2009</td>\n      <td>Tue Sep 04 23:01:06 +0000 2012</td>\n      <td>en</td>\n      <td>YKLee13</td>\n      <td>Singapore</td>\n      <td>The 2012 Costa Rica earthquake occurred at 08:...</td>\n      <td>['OriginalEvent']</td>\n      <td>Low</td>\n    </tr>\n    <tr>\n      <th>2</th>\n      <td>2</td>\n      <td>243198739882332161</td>\n      <td>#earthquake: M 4.5, Taiwan region http://t.co/...</td>\n      <td>costaRicaEarthquake2012</td>\n      <td>0</td>\n      <td>2847</td>\n      <td>&lt;a href=\"http://twitterfeed.com\" rel=\"nofollow...</td>\n      <td>Sun Mar 13 03:49:42 +0000 2011</td>\n      <td>Wed Sep 05 04:07:52 +0000 2012</td>\n      <td>en</td>\n      <td>equakea</td>\n      <td>NaN</td>\n      <td>The 2012 Costa Rica earthquake occurred at 08:...</td>\n      <td>['OriginalEvent']</td>\n      <td>Low</td>\n    </tr>\n    <tr>\n      <th>3</th>\n      <td>3</td>\n      <td>243203924050448384</td>\n      <td>#earthquake M 2.6, Hawaii region, Hawaii http:...</td>\n      <td>costaRicaEarthquake2012</td>\n      <td>1</td>\n      <td>11251</td>\n      <td>&lt;a href=\"http://twitterfeed.com\" rel=\"nofollow...</td>\n      <td>Tue Jul 29 18:58:36 +0000 2008</td>\n      <td>Wed Sep 05 04:28:28 +0000 2012</td>\n      <td>en</td>\n      <td>WheresItShaking</td>\n      <td>Columbus, Ohio, USA</td>\n      <td>The 2012 Costa Rica earthquake occurred at 08:...</td>\n      <td>['OriginalEvent']</td>\n      <td>Low</td>\n    </tr>\n    <tr>\n      <th>4</th>\n      <td>4</td>\n      <td>243361298518249473</td>\n      <td>Magnitude 7.9 earthquake strikes off the coast...</td>\n      <td>costaRicaEarthquake2012</td>\n      <td>0</td>\n      <td>174</td>\n      <td>&lt;a href=\"http://www.cloudhopper.com/\" rel=\"nof...</td>\n      <td>Sat Apr 30 04:35:49 +0000 2011</td>\n      <td>Wed Sep 05 14:53:49 +0000 2012</td>\n      <td>en</td>\n      <td>JWoodward26</td>\n      <td>USA</td>\n      <td>The 2012 Costa Rica earthquake occurred at 08:...</td>\n      <td>['OriginalEvent']</td>\n      <td>Low</td>\n    </tr>\n  </tbody>\n</table>\n</div>"
     },
     "metadata": {},
     "output_type": "execute_result",
     "execution_count": 157
    }
   ],
   "source": [
    "df_test.head()"
   ],
   "metadata": {
    "collapsed": false,
    "pycharm": {
     "name": "#%%\n",
     "is_executing": false
    }
   }
  },
  {
   "cell_type": "code",
   "execution_count": 159,
   "outputs": [
    {
     "data": {
      "text/plain": "(1333, 14)"
     },
     "metadata": {},
     "output_type": "execute_result",
     "execution_count": 159
    }
   ],
   "source": [
    "joindf.shape"
   ],
   "metadata": {
    "collapsed": false,
    "pycharm": {
     "name": "#%%\n",
     "is_executing": false
    }
   }
  },
  {
   "cell_type": "code",
   "execution_count": null,
   "outputs": [],
   "source": [
    "\n"
   ],
   "metadata": {
    "collapsed": false,
    "pycharm": {
     "name": "#%%\n"
    }
   }
  }
 ],
 "metadata": {
  "kernelspec": {
   "display_name": "Python 3",
   "language": "python",
   "name": "python3"
  },
  "language_info": {
   "codemirror_mode": {
    "name": "ipython",
    "version": 3
   },
   "file_extension": ".py",
   "mimetype": "text/x-python",
   "name": "python",
   "nbconvert_exporter": "python",
   "pygments_lexer": "ipython3",
   "version": "3.7.3"
  },
  "pycharm": {
   "stem_cell": {
    "cell_type": "raw",
    "source": [],
    "metadata": {
     "collapsed": false
    }
   }
  }
 },
 "nbformat": 4,
 "nbformat_minor": 2
}