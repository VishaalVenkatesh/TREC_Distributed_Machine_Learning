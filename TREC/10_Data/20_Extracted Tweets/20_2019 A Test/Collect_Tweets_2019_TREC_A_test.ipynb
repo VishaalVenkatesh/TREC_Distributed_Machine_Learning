{
 "cells": [
  {
   "cell_type": "code",
   "execution_count": 90,
   "metadata": {
    "pycharm": {
     "is_executing": false
    }
   },
   "outputs": [],
   "source": [
    "'''\n",
    "    Importing Modules\n",
    "'''\n",
    "import csv, os, collections, json\n",
    "import numpy as np\n",
    "import pandas as pd\n",
    "import collections\n",
    "import preprocessor as p\n",
    "import itertools\n",
    "import json\n",
    "from pprint import pprint\n",
    "from collections import Counter"
   ]
  },
  {
   "cell_type": "code",
   "execution_count": 91,
   "metadata": {
    "pycharm": {
     "is_executing": false
    }
   },
   "outputs": [],
   "source": [
    "'''\n",
    "    Set working directory\n",
    "'''\n",
    "filen = 'trecis2019-A-test/'\n",
    "files = os.listdir(filen)"
   ]
  },
  {
   "cell_type": "code",
   "execution_count": 92,
   "metadata": {
    "pycharm": {
     "is_executing": false
    }
   },
   "outputs": [],
   "source": [
    "'''\n",
    "    Function to get event details from json file\n",
    "'''\n",
    "def getevents(filename):\n",
    "    with open(filename, 'r', encoding = 'utf-8' ) as fp:\n",
    "        data = json.loads(\"[\" + fp.read().replace(\"}\\n{\", \"},\\n{\") + \"]\")\n",
    "        \n",
    "    allevents = []\n",
    "    for eachevent in range(len(data)):\n",
    "        allevents.append(data[i]['topic'])\n",
    "    return allevents"
   ]
  },
  {
   "cell_type": "code",
   "execution_count": 93,
   "metadata": {
    "pycharm": {
     "is_executing": false
    }
   },
   "outputs": [],
   "source": [
    "'''\n",
    "    Function to open each json file about a specific event and obtian info on the tweets\n",
    "'''\n",
    "\n",
    "def gettweets(filename):\n",
    "                \n",
    "    with open(filename, 'r' ,encoding = 'utf-8' ) as fp:     \n",
    "        data = json.loads(\"[\" + fp.read().replace(\"}\\n{\", \"},\\n{\") + \"]\")\n",
    "    \n",
    "    #print(data[0].keys())\n",
    "    #print(data[0]['allProperties'].keys())\n",
    "    #print(data[0])\n",
    "    #print(data[1]['allProperties']['source'])\n",
    "    #print(data[1]['allProperties']['text'])\n",
    "    alltwts = []\n",
    "    allid = []\n",
    "    alltopics = []\n",
    "    source = []\n",
    "    user_lang = []\n",
    "    for i in range (len(data)):\n",
    "        \n",
    "        alltwts.append(data[i]['allProperties']['text'])\n",
    "        allid.append(data[i]['allProperties']['id'])\n",
    "        alltopics.append(data[i]['topic'])\n",
    "        source.append(data[i]['allProperties']['source'])\n",
    "        user_lang.append(data[i]['allProperties']['user.lang'])\n",
    "    return (allid, alltwts, alltopics,  source , user_lang)"
   ]
  },
  {
   "cell_type": "code",
   "execution_count": 94,
   "metadata": {
    "pycharm": {
     "is_executing": false
    }
   },
   "outputs": [],
   "source": [
    "'''\n",
    "    Appending returned info about the tweets into lists to later create pandas df\n",
    "'''\n",
    "ids = []\n",
    "tweet = []\n",
    "topic = []\n",
    "source = []\n",
    "user_lang = []\n",
    "for each in files:\n",
    "    a, b, c, f,  i = gettweets(filen+each)\n",
    "    ids.extend(a)\n",
    "    tweet.extend(b)\n",
    "    topic.extend(c)\n",
    "    source.extend(f)\n",
    "    user_lang.extend(i)\n"
   ]
  },
  {
   "cell_type": "code",
   "execution_count": 95,
   "metadata": {
    "pycharm": {
     "is_executing": false
    }
   },
   "outputs": [],
   "source": [
    "tweetdf = pd.DataFrame([ids, tweet, topic, source, user_lang]).T"
   ]
  },
  {
   "cell_type": "code",
   "execution_count": 96,
   "metadata": {
    "pycharm": {
     "is_executing": false
    }
   },
   "outputs": [],
   "source": [
    "tweetdf.columns = ['ID', 'Tweet', 'Event', 'Source', 'User_Language']"
   ]
  },
  {
   "cell_type": "code",
   "execution_count": 97,
   "metadata": {
    "scrolled": true,
    "pycharm": {
     "is_executing": false
    }
   },
   "outputs": [
    {
     "data": {
      "text/plain": "                    ID                                              Tweet  \\\n0   389908166353231872  Earthquake in Iloilo, Philippines! My head's a...   \n1   389909609190006784  RT @LastQuake: NEW: Felt #earthquake M7.0 - Bo...   \n2   389910137676107776  RT @NewEarthquake: 7.2 earthquake, 2km S of Nu...   \n3   389910670361100288  RT @gmanews: JUST IN: Magnitude 7.2 earthquake...   \n4   389911173665001472  RT @NewEarthquake: 7.2 earthquake, 2km S of Nu...   \n5   389911358214393856  RT @gmanews: JUST IN: Magnitude 7.2 earthquake...   \n6   389911794442964992  RT @BreakingNews: 7.2 earthquake recorded in t...   \n7   389911937040932864  RT @NewEarthquake: 7.2 earthquake, 2km S of Nu...   \n8   389911949644808193  RT @NewEarthquake: 7.2 earthquake, 2km S of Nu...   \n9   389912650068402177  Southern Philippines hit by 7.4 magnitude eart...   \n10  389913589596704768  RT @LanceUlanoff: 7.2 Earthquake in Philippine...   \n11  389913644131045376  RT @ABC7: #EARTHQUAKE Quake with prelim mag of...   \n12  389913971287154688  RT @RT_com: #BREAKING: 7.2 quake hits southern...   \n13  389914239730610176  Magnitude 7.4 quake hits Philippines, no tsuna...   \n14  389915464446795776  RT @NWS_PTWC: NO widespread tsunami hazard for...   \n15  389917091823763456  USGS M 7.2, 5km E of Balilihan, Philippines: T...   \n16  389917750363029504  #Temblorâ™¨ M 5.4, 6km NNE of Nueva Fuerza, Ph...   \n17  389918857642536960  RT @Tweetbrk: NEW: Significant preliminary 7.2...   \n18  389919981720195073  RT @hamburqa: there was a 7.2 magnitude earthq...   \n19  389920120119635969  National Disaster Agency: 4 people killed in b...   \n20  389920547934449664  A 7.4 magnitude #earthquake has hit the southe...   \n21  389922229871321088  RT @BreakingNews: 4 people killed in building ...   \n22  389922594788364288  7.4 quake strikes Philippines http://t.co/CYFz...   \n23  389922607333515264  RT @BreakingNews: 4 people killed in building ...   \n24  389923207127392256  RT @YahooNews: Magnitude 7.4 quake hits Philip...   \n25  389923253285707776  RT @ilovejamich: Magnitude 7.2 #earthquake in ...   \n26  389924079555207168  RT @cnni: A 7.2-magnitude earthquake has struc...   \n27  389924092130107392  #earthquake M7.2: Bohol, Philippines http://t....   \n28  389924213751963649  Lord God, keep the people safe in the Philippi...   \n29  389924276666523650  RT @abcnews: #Breaking: #Earthquake measuring ...   \n..                 ...                                                ...   \n70  389939543966613504  RT @alliharvard: i just heard about the earthq...   \n71  389940768703406081              Before anything else, #PrayforVisayas   \n72  389941125185687552  RT @enzodeocales: 411 Year old Loboc Church in...   \n73  389941297169321985  At least 4 people killed after 7.2 #earthquake...   \n74  389941557203185665  \"A 7.2-magnitude earthquake struck in southeas...   \n75  389941670466166784  Mayor Rama announced no classes for both priva...   \n76  389942765183696897  RT @BILLYversCebu: Earthquake!!! First time I ...   \n77  389942966506500096  Magnitude 7.1 earthquake hits the Philippines!...   \n78  389943318836047872  RT @QueenPetraK: 1 Retweet = 1 Prayer\\n\\n#Pray...   \n79  389943503364849665  RT @FeedTheChildren: Please pray for the peopl...   \n80  389943947956862976  Bible Prophecy, Rapture, 7.2 Earthquake Philip...   \n81  389944447108014080  Magnitude-7.1 earthquake hits the Philippines:...   \n82  389944585511641088  RT @QueenPetraK: 1 Retweet = 1 Prayer\\n\\n#Pray...   \n83  389946850444185601    Sad,sad,sad news...🙏🙏#PrayForBohol #PrayForCebu   \n84  389947278230052864  Major earthquake hits the Philippines - http:/...   \n85  389947676717875200                    Lord,help us... #PrayForVisayas   \n86  389947907412996096  RT @inquirerdotnet: INFOGRAPHIC: Map locating ...   \n87  389948112904544256  RT @NewEarthquake: 5.0 earthquake, 2km SSE of ...   \n88  389948574282158081  RT @GandangGabiVice: This is really heartbreak...   \n89  389948620432101376  RT @BILLYversCebu: So this is what happened to...   \n90  389948880474763264  RT @GandangGabiVice: This is really heartbreak...   \n91  389948922413592576  Emang di pilipina ada apaan min ?\"@Update_Tran...   \n92  389949027283775488  Let's say our prayers for those affected by th...   \n93  389949367009808384  @G2BArmyCebu Keepsafe ! #PrayForVisayas #PrayF...   \n94  389949492839342080  RT @NewEarthquake: 7.2 earthquake, 2km S of Nu...   \n95  389950365258350592  @tomlinsondisney yep. search for #PrayForVisay...   \n96  389950730175389696  RT @GandangGabiVice: This is really heartbreak...   \n97  389950767898951681  RT @SaklapFriend: God is good all the time. #P...   \n98  389950814061486080  #PrayForVisayas Earthquake go away don't come ...   \n99  389950969225568257             #PrayForVisayas Keep safe everyone! :(   \n\n                  Event                                             Source  \\\n0   earthquakeBohol2013  <a href=\"http://twitter.com\" rel=\"nofollow\">Tw...   \n1   earthquakeBohol2013  <a href=\"http://twitter.com/download/android\" ...   \n2   earthquakeBohol2013  <a href=\"http://twitter.com/download/iphone\" r...   \n3   earthquakeBohol2013  <a href=\"http://stone.com/Twittelator\" rel=\"no...   \n4   earthquakeBohol2013  <a href=\"http://twitter.com\" rel=\"nofollow\">Tw...   \n5   earthquakeBohol2013  <a href=\"http://blackberry.com/twitter\" rel=\"n...   \n6   earthquakeBohol2013  <a href=\"http://twitter.com/download/android\" ...   \n7   earthquakeBohol2013  <a href=\"http://twitter.com/download/iphone\" r...   \n8   earthquakeBohol2013  <a href=\"http://twitter.com/#!/download/ipad\" ...   \n9   earthquakeBohol2013  <a href=\"http://twitter.com\" rel=\"nofollow\">Tw...   \n10  earthquakeBohol2013  <a href=\"http://twitter.com/download/iphone\" r...   \n11  earthquakeBohol2013  <a href=\"http://www.myplume.com/\" rel=\"nofollo...   \n12  earthquakeBohol2013  <a href=\"http://twitter.com/download/android\" ...   \n13  earthquakeBohol2013  <a href=\"http://twitterfeed.com\" rel=\"nofollow...   \n14  earthquakeBohol2013  <a href=\"http://twitter.com/#!/download/ipad\" ...   \n15  earthquakeBohol2013  <a href=\"http://twitterfeed.com\" rel=\"nofollow...   \n16  earthquakeBohol2013  <a href=\"https://dlvrit.com/\" rel=\"nofollow\">d...   \n17  earthquakeBohol2013  <a href=\"http://twitter.com/download/iphone\" r...   \n18  earthquakeBohol2013  <a href=\"http://twitter.com\" rel=\"nofollow\">Tw...   \n19  earthquakeBohol2013  <a href=\"http://www.socialflow.com\" rel=\"nofol...   \n20  earthquakeBohol2013  <a href=\"http://twitter.com\" rel=\"nofollow\">Tw...   \n21  earthquakeBohol2013  <a href=\"http://twitter.com/download/android\" ...   \n22  earthquakeBohol2013  <a href=\"https://dlvrit.com/\" rel=\"nofollow\">d...   \n23  earthquakeBohol2013  <a href=\"http://twitter.com/download/android\" ...   \n24  earthquakeBohol2013  <a href=\"http://twitter.com/download/android\" ...   \n25  earthquakeBohol2013  <a href=\"http://twitter.com/download/android\" ...   \n26  earthquakeBohol2013  <a href=\"http://twitter.com\" rel=\"nofollow\">Tw...   \n27  earthquakeBohol2013  <a href=\"http://www.hootsuite.com\" rel=\"nofoll...   \n28  earthquakeBohol2013  <a href=\"http://twitter.com/download/android\" ...   \n29  earthquakeBohol2013  <a href=\"http://twitter.com/#!/download/ipad\" ...   \n..                  ...                                                ...   \n70  earthquakeBohol2013  <a href=\"http://twitter.com\" rel=\"nofollow\">Tw...   \n71  earthquakeBohol2013  <a href=\"http://twitter.com/download/android\" ...   \n72  earthquakeBohol2013  <a href=\"http://twitter.com/download/android\" ...   \n73  earthquakeBohol2013  <a href=\"http://www.GlobalSunTimes.com\" rel=\"n...   \n74  earthquakeBohol2013  <a href=\"https://itunes.apple.com/us/app/cnn-a...   \n75  earthquakeBohol2013  <a href=\"https://about.twitter.com/products/tw...   \n76  earthquakeBohol2013  <a href=\"http://twitter.com/#!/download/ipad\" ...   \n77  earthquakeBohol2013  <a href=\"https://mobile.twitter.com\" rel=\"nofo...   \n78  earthquakeBohol2013  <a href=\"https://about.twitter.com/products/tw...   \n79  earthquakeBohol2013  <a href=\"http://twitter.com\" rel=\"nofollow\">Tw...   \n80  earthquakeBohol2013  <a href=\"https://ifttt.com\" rel=\"nofollow\">IFT...   \n81  earthquakeBohol2013  <a href=\"http://twitterfeed.com\" rel=\"nofollow...   \n82  earthquakeBohol2013  <a href=\"https://about.twitter.com/products/tw...   \n83  earthquakeBohol2013  <a href=\"http://twitter.com/download/iphone\" r...   \n84  earthquakeBohol2013  <a href=\"http://www.twistools.com\" rel=\"nofoll...   \n85  earthquakeBohol2013  <a href=\"http://twitter.com\" rel=\"nofollow\">Tw...   \n86  earthquakeBohol2013  <a href=\"http://twitter.com\" rel=\"nofollow\">Tw...   \n87  earthquakeBohol2013  <a href=\"http://www.twitter.com\" rel=\"nofollow...   \n88  earthquakeBohol2013  <a href=\"http://twitter.com\" rel=\"nofollow\">Tw...   \n89  earthquakeBohol2013  <a href=\"http://twitter.com/download/android\" ...   \n90  earthquakeBohol2013  <a href=\"http://twitter.com/download/android\" ...   \n91  earthquakeBohol2013  <a href=\"http://blackberry.com/twitter\" rel=\"n...   \n92  earthquakeBohol2013  <a href=\"http://twitter.com\" rel=\"nofollow\">Tw...   \n93  earthquakeBohol2013  <a href=\"https://about.twitter.com/products/tw...   \n94  earthquakeBohol2013  <a href=\"https://mobile.twitter.com\" rel=\"nofo...   \n95  earthquakeBohol2013  <a href=\"http://twitter.com\" rel=\"nofollow\">Tw...   \n96  earthquakeBohol2013  <a href=\"http://twitter.com/download/android\" ...   \n97  earthquakeBohol2013  <a href=\"http://twitter.com\" rel=\"nofollow\">Tw...   \n98  earthquakeBohol2013  <a href=\"http://twitter.com\" rel=\"nofollow\">Tw...   \n99  earthquakeBohol2013  <a href=\"http://twitter.com\" rel=\"nofollow\">Tw...   \n\n   User_Language  \n0             en  \n1             es  \n2             es  \n3             en  \n4             en  \n5             en  \n6             en  \n7             es  \n8             en  \n9             en  \n10            en  \n11            en  \n12            en  \n13            en  \n14            es  \n15            en  \n16            en  \n17            en  \n18            en  \n19            en  \n20            en  \n21            en  \n22            en  \n23            en  \n24            en  \n25            en  \n26            en  \n27            nl  \n28            en  \n29            en  \n..           ...  \n70            en  \n71            en  \n72            en  \n73            en  \n74            en  \n75            en  \n76            en  \n77            en  \n78            en  \n79            en  \n80            en  \n81            en  \n82            en  \n83            en  \n84            fr  \n85            en  \n86            en  \n87            ja  \n88            en  \n89            en  \n90            en  \n91            id  \n92            en  \n93            en  \n94            en  \n95            en  \n96            en  \n97            en  \n98            en  \n99            en  \n\n[100 rows x 5 columns]",
      "text/html": "<div>\n<style scoped>\n    .dataframe tbody tr th:only-of-type {\n        vertical-align: middle;\n    }\n\n    .dataframe tbody tr th {\n        vertical-align: top;\n    }\n\n    .dataframe thead th {\n        text-align: right;\n    }\n</style>\n<table border=\"1\" class=\"dataframe\">\n  <thead>\n    <tr style=\"text-align: right;\">\n      <th></th>\n      <th>ID</th>\n      <th>Tweet</th>\n      <th>Event</th>\n      <th>Source</th>\n      <th>User_Language</th>\n    </tr>\n  </thead>\n  <tbody>\n    <tr>\n      <th>0</th>\n      <td>389908166353231872</td>\n      <td>Earthquake in Iloilo, Philippines! My head's a...</td>\n      <td>earthquakeBohol2013</td>\n      <td>&lt;a href=\"http://twitter.com\" rel=\"nofollow\"&gt;Tw...</td>\n      <td>en</td>\n    </tr>\n    <tr>\n      <th>1</th>\n      <td>389909609190006784</td>\n      <td>RT @LastQuake: NEW: Felt #earthquake M7.0 - Bo...</td>\n      <td>earthquakeBohol2013</td>\n      <td>&lt;a href=\"http://twitter.com/download/android\" ...</td>\n      <td>es</td>\n    </tr>\n    <tr>\n      <th>2</th>\n      <td>389910137676107776</td>\n      <td>RT @NewEarthquake: 7.2 earthquake, 2km S of Nu...</td>\n      <td>earthquakeBohol2013</td>\n      <td>&lt;a href=\"http://twitter.com/download/iphone\" r...</td>\n      <td>es</td>\n    </tr>\n    <tr>\n      <th>3</th>\n      <td>389910670361100288</td>\n      <td>RT @gmanews: JUST IN: Magnitude 7.2 earthquake...</td>\n      <td>earthquakeBohol2013</td>\n      <td>&lt;a href=\"http://stone.com/Twittelator\" rel=\"no...</td>\n      <td>en</td>\n    </tr>\n    <tr>\n      <th>4</th>\n      <td>389911173665001472</td>\n      <td>RT @NewEarthquake: 7.2 earthquake, 2km S of Nu...</td>\n      <td>earthquakeBohol2013</td>\n      <td>&lt;a href=\"http://twitter.com\" rel=\"nofollow\"&gt;Tw...</td>\n      <td>en</td>\n    </tr>\n    <tr>\n      <th>5</th>\n      <td>389911358214393856</td>\n      <td>RT @gmanews: JUST IN: Magnitude 7.2 earthquake...</td>\n      <td>earthquakeBohol2013</td>\n      <td>&lt;a href=\"http://blackberry.com/twitter\" rel=\"n...</td>\n      <td>en</td>\n    </tr>\n    <tr>\n      <th>6</th>\n      <td>389911794442964992</td>\n      <td>RT @BreakingNews: 7.2 earthquake recorded in t...</td>\n      <td>earthquakeBohol2013</td>\n      <td>&lt;a href=\"http://twitter.com/download/android\" ...</td>\n      <td>en</td>\n    </tr>\n    <tr>\n      <th>7</th>\n      <td>389911937040932864</td>\n      <td>RT @NewEarthquake: 7.2 earthquake, 2km S of Nu...</td>\n      <td>earthquakeBohol2013</td>\n      <td>&lt;a href=\"http://twitter.com/download/iphone\" r...</td>\n      <td>es</td>\n    </tr>\n    <tr>\n      <th>8</th>\n      <td>389911949644808193</td>\n      <td>RT @NewEarthquake: 7.2 earthquake, 2km S of Nu...</td>\n      <td>earthquakeBohol2013</td>\n      <td>&lt;a href=\"http://twitter.com/#!/download/ipad\" ...</td>\n      <td>en</td>\n    </tr>\n    <tr>\n      <th>9</th>\n      <td>389912650068402177</td>\n      <td>Southern Philippines hit by 7.4 magnitude eart...</td>\n      <td>earthquakeBohol2013</td>\n      <td>&lt;a href=\"http://twitter.com\" rel=\"nofollow\"&gt;Tw...</td>\n      <td>en</td>\n    </tr>\n    <tr>\n      <th>10</th>\n      <td>389913589596704768</td>\n      <td>RT @LanceUlanoff: 7.2 Earthquake in Philippine...</td>\n      <td>earthquakeBohol2013</td>\n      <td>&lt;a href=\"http://twitter.com/download/iphone\" r...</td>\n      <td>en</td>\n    </tr>\n    <tr>\n      <th>11</th>\n      <td>389913644131045376</td>\n      <td>RT @ABC7: #EARTHQUAKE Quake with prelim mag of...</td>\n      <td>earthquakeBohol2013</td>\n      <td>&lt;a href=\"http://www.myplume.com/\" rel=\"nofollo...</td>\n      <td>en</td>\n    </tr>\n    <tr>\n      <th>12</th>\n      <td>389913971287154688</td>\n      <td>RT @RT_com: #BREAKING: 7.2 quake hits southern...</td>\n      <td>earthquakeBohol2013</td>\n      <td>&lt;a href=\"http://twitter.com/download/android\" ...</td>\n      <td>en</td>\n    </tr>\n    <tr>\n      <th>13</th>\n      <td>389914239730610176</td>\n      <td>Magnitude 7.4 quake hits Philippines, no tsuna...</td>\n      <td>earthquakeBohol2013</td>\n      <td>&lt;a href=\"http://twitterfeed.com\" rel=\"nofollow...</td>\n      <td>en</td>\n    </tr>\n    <tr>\n      <th>14</th>\n      <td>389915464446795776</td>\n      <td>RT @NWS_PTWC: NO widespread tsunami hazard for...</td>\n      <td>earthquakeBohol2013</td>\n      <td>&lt;a href=\"http://twitter.com/#!/download/ipad\" ...</td>\n      <td>es</td>\n    </tr>\n    <tr>\n      <th>15</th>\n      <td>389917091823763456</td>\n      <td>USGS M 7.2, 5km E of Balilihan, Philippines: T...</td>\n      <td>earthquakeBohol2013</td>\n      <td>&lt;a href=\"http://twitterfeed.com\" rel=\"nofollow...</td>\n      <td>en</td>\n    </tr>\n    <tr>\n      <th>16</th>\n      <td>389917750363029504</td>\n      <td>#Temblorâ™¨ M 5.4, 6km NNE of Nueva Fuerza, Ph...</td>\n      <td>earthquakeBohol2013</td>\n      <td>&lt;a href=\"https://dlvrit.com/\" rel=\"nofollow\"&gt;d...</td>\n      <td>en</td>\n    </tr>\n    <tr>\n      <th>17</th>\n      <td>389918857642536960</td>\n      <td>RT @Tweetbrk: NEW: Significant preliminary 7.2...</td>\n      <td>earthquakeBohol2013</td>\n      <td>&lt;a href=\"http://twitter.com/download/iphone\" r...</td>\n      <td>en</td>\n    </tr>\n    <tr>\n      <th>18</th>\n      <td>389919981720195073</td>\n      <td>RT @hamburqa: there was a 7.2 magnitude earthq...</td>\n      <td>earthquakeBohol2013</td>\n      <td>&lt;a href=\"http://twitter.com\" rel=\"nofollow\"&gt;Tw...</td>\n      <td>en</td>\n    </tr>\n    <tr>\n      <th>19</th>\n      <td>389920120119635969</td>\n      <td>National Disaster Agency: 4 people killed in b...</td>\n      <td>earthquakeBohol2013</td>\n      <td>&lt;a href=\"http://www.socialflow.com\" rel=\"nofol...</td>\n      <td>en</td>\n    </tr>\n    <tr>\n      <th>20</th>\n      <td>389920547934449664</td>\n      <td>A 7.4 magnitude #earthquake has hit the southe...</td>\n      <td>earthquakeBohol2013</td>\n      <td>&lt;a href=\"http://twitter.com\" rel=\"nofollow\"&gt;Tw...</td>\n      <td>en</td>\n    </tr>\n    <tr>\n      <th>21</th>\n      <td>389922229871321088</td>\n      <td>RT @BreakingNews: 4 people killed in building ...</td>\n      <td>earthquakeBohol2013</td>\n      <td>&lt;a href=\"http://twitter.com/download/android\" ...</td>\n      <td>en</td>\n    </tr>\n    <tr>\n      <th>22</th>\n      <td>389922594788364288</td>\n      <td>7.4 quake strikes Philippines http://t.co/CYFz...</td>\n      <td>earthquakeBohol2013</td>\n      <td>&lt;a href=\"https://dlvrit.com/\" rel=\"nofollow\"&gt;d...</td>\n      <td>en</td>\n    </tr>\n    <tr>\n      <th>23</th>\n      <td>389922607333515264</td>\n      <td>RT @BreakingNews: 4 people killed in building ...</td>\n      <td>earthquakeBohol2013</td>\n      <td>&lt;a href=\"http://twitter.com/download/android\" ...</td>\n      <td>en</td>\n    </tr>\n    <tr>\n      <th>24</th>\n      <td>389923207127392256</td>\n      <td>RT @YahooNews: Magnitude 7.4 quake hits Philip...</td>\n      <td>earthquakeBohol2013</td>\n      <td>&lt;a href=\"http://twitter.com/download/android\" ...</td>\n      <td>en</td>\n    </tr>\n    <tr>\n      <th>25</th>\n      <td>389923253285707776</td>\n      <td>RT @ilovejamich: Magnitude 7.2 #earthquake in ...</td>\n      <td>earthquakeBohol2013</td>\n      <td>&lt;a href=\"http://twitter.com/download/android\" ...</td>\n      <td>en</td>\n    </tr>\n    <tr>\n      <th>26</th>\n      <td>389924079555207168</td>\n      <td>RT @cnni: A 7.2-magnitude earthquake has struc...</td>\n      <td>earthquakeBohol2013</td>\n      <td>&lt;a href=\"http://twitter.com\" rel=\"nofollow\"&gt;Tw...</td>\n      <td>en</td>\n    </tr>\n    <tr>\n      <th>27</th>\n      <td>389924092130107392</td>\n      <td>#earthquake M7.2: Bohol, Philippines http://t....</td>\n      <td>earthquakeBohol2013</td>\n      <td>&lt;a href=\"http://www.hootsuite.com\" rel=\"nofoll...</td>\n      <td>nl</td>\n    </tr>\n    <tr>\n      <th>28</th>\n      <td>389924213751963649</td>\n      <td>Lord God, keep the people safe in the Philippi...</td>\n      <td>earthquakeBohol2013</td>\n      <td>&lt;a href=\"http://twitter.com/download/android\" ...</td>\n      <td>en</td>\n    </tr>\n    <tr>\n      <th>29</th>\n      <td>389924276666523650</td>\n      <td>RT @abcnews: #Breaking: #Earthquake measuring ...</td>\n      <td>earthquakeBohol2013</td>\n      <td>&lt;a href=\"http://twitter.com/#!/download/ipad\" ...</td>\n      <td>en</td>\n    </tr>\n    <tr>\n      <th>...</th>\n      <td>...</td>\n      <td>...</td>\n      <td>...</td>\n      <td>...</td>\n      <td>...</td>\n    </tr>\n    <tr>\n      <th>70</th>\n      <td>389939543966613504</td>\n      <td>RT @alliharvard: i just heard about the earthq...</td>\n      <td>earthquakeBohol2013</td>\n      <td>&lt;a href=\"http://twitter.com\" rel=\"nofollow\"&gt;Tw...</td>\n      <td>en</td>\n    </tr>\n    <tr>\n      <th>71</th>\n      <td>389940768703406081</td>\n      <td>Before anything else, #PrayforVisayas</td>\n      <td>earthquakeBohol2013</td>\n      <td>&lt;a href=\"http://twitter.com/download/android\" ...</td>\n      <td>en</td>\n    </tr>\n    <tr>\n      <th>72</th>\n      <td>389941125185687552</td>\n      <td>RT @enzodeocales: 411 Year old Loboc Church in...</td>\n      <td>earthquakeBohol2013</td>\n      <td>&lt;a href=\"http://twitter.com/download/android\" ...</td>\n      <td>en</td>\n    </tr>\n    <tr>\n      <th>73</th>\n      <td>389941297169321985</td>\n      <td>At least 4 people killed after 7.2 #earthquake...</td>\n      <td>earthquakeBohol2013</td>\n      <td>&lt;a href=\"http://www.GlobalSunTimes.com\" rel=\"n...</td>\n      <td>en</td>\n    </tr>\n    <tr>\n      <th>74</th>\n      <td>389941557203185665</td>\n      <td>\"A 7.2-magnitude earthquake struck in southeas...</td>\n      <td>earthquakeBohol2013</td>\n      <td>&lt;a href=\"https://itunes.apple.com/us/app/cnn-a...</td>\n      <td>en</td>\n    </tr>\n    <tr>\n      <th>75</th>\n      <td>389941670466166784</td>\n      <td>Mayor Rama announced no classes for both priva...</td>\n      <td>earthquakeBohol2013</td>\n      <td>&lt;a href=\"https://about.twitter.com/products/tw...</td>\n      <td>en</td>\n    </tr>\n    <tr>\n      <th>76</th>\n      <td>389942765183696897</td>\n      <td>RT @BILLYversCebu: Earthquake!!! First time I ...</td>\n      <td>earthquakeBohol2013</td>\n      <td>&lt;a href=\"http://twitter.com/#!/download/ipad\" ...</td>\n      <td>en</td>\n    </tr>\n    <tr>\n      <th>77</th>\n      <td>389942966506500096</td>\n      <td>Magnitude 7.1 earthquake hits the Philippines!...</td>\n      <td>earthquakeBohol2013</td>\n      <td>&lt;a href=\"https://mobile.twitter.com\" rel=\"nofo...</td>\n      <td>en</td>\n    </tr>\n    <tr>\n      <th>78</th>\n      <td>389943318836047872</td>\n      <td>RT @QueenPetraK: 1 Retweet = 1 Prayer\\n\\n#Pray...</td>\n      <td>earthquakeBohol2013</td>\n      <td>&lt;a href=\"https://about.twitter.com/products/tw...</td>\n      <td>en</td>\n    </tr>\n    <tr>\n      <th>79</th>\n      <td>389943503364849665</td>\n      <td>RT @FeedTheChildren: Please pray for the peopl...</td>\n      <td>earthquakeBohol2013</td>\n      <td>&lt;a href=\"http://twitter.com\" rel=\"nofollow\"&gt;Tw...</td>\n      <td>en</td>\n    </tr>\n    <tr>\n      <th>80</th>\n      <td>389943947956862976</td>\n      <td>Bible Prophecy, Rapture, 7.2 Earthquake Philip...</td>\n      <td>earthquakeBohol2013</td>\n      <td>&lt;a href=\"https://ifttt.com\" rel=\"nofollow\"&gt;IFT...</td>\n      <td>en</td>\n    </tr>\n    <tr>\n      <th>81</th>\n      <td>389944447108014080</td>\n      <td>Magnitude-7.1 earthquake hits the Philippines:...</td>\n      <td>earthquakeBohol2013</td>\n      <td>&lt;a href=\"http://twitterfeed.com\" rel=\"nofollow...</td>\n      <td>en</td>\n    </tr>\n    <tr>\n      <th>82</th>\n      <td>389944585511641088</td>\n      <td>RT @QueenPetraK: 1 Retweet = 1 Prayer\\n\\n#Pray...</td>\n      <td>earthquakeBohol2013</td>\n      <td>&lt;a href=\"https://about.twitter.com/products/tw...</td>\n      <td>en</td>\n    </tr>\n    <tr>\n      <th>83</th>\n      <td>389946850444185601</td>\n      <td>Sad,sad,sad news...🙏🙏#PrayForBohol #PrayForCebu</td>\n      <td>earthquakeBohol2013</td>\n      <td>&lt;a href=\"http://twitter.com/download/iphone\" r...</td>\n      <td>en</td>\n    </tr>\n    <tr>\n      <th>84</th>\n      <td>389947278230052864</td>\n      <td>Major earthquake hits the Philippines - http:/...</td>\n      <td>earthquakeBohol2013</td>\n      <td>&lt;a href=\"http://www.twistools.com\" rel=\"nofoll...</td>\n      <td>fr</td>\n    </tr>\n    <tr>\n      <th>85</th>\n      <td>389947676717875200</td>\n      <td>Lord,help us... #PrayForVisayas</td>\n      <td>earthquakeBohol2013</td>\n      <td>&lt;a href=\"http://twitter.com\" rel=\"nofollow\"&gt;Tw...</td>\n      <td>en</td>\n    </tr>\n    <tr>\n      <th>86</th>\n      <td>389947907412996096</td>\n      <td>RT @inquirerdotnet: INFOGRAPHIC: Map locating ...</td>\n      <td>earthquakeBohol2013</td>\n      <td>&lt;a href=\"http://twitter.com\" rel=\"nofollow\"&gt;Tw...</td>\n      <td>en</td>\n    </tr>\n    <tr>\n      <th>87</th>\n      <td>389948112904544256</td>\n      <td>RT @NewEarthquake: 5.0 earthquake, 2km SSE of ...</td>\n      <td>earthquakeBohol2013</td>\n      <td>&lt;a href=\"http://www.twitter.com\" rel=\"nofollow...</td>\n      <td>ja</td>\n    </tr>\n    <tr>\n      <th>88</th>\n      <td>389948574282158081</td>\n      <td>RT @GandangGabiVice: This is really heartbreak...</td>\n      <td>earthquakeBohol2013</td>\n      <td>&lt;a href=\"http://twitter.com\" rel=\"nofollow\"&gt;Tw...</td>\n      <td>en</td>\n    </tr>\n    <tr>\n      <th>89</th>\n      <td>389948620432101376</td>\n      <td>RT @BILLYversCebu: So this is what happened to...</td>\n      <td>earthquakeBohol2013</td>\n      <td>&lt;a href=\"http://twitter.com/download/android\" ...</td>\n      <td>en</td>\n    </tr>\n    <tr>\n      <th>90</th>\n      <td>389948880474763264</td>\n      <td>RT @GandangGabiVice: This is really heartbreak...</td>\n      <td>earthquakeBohol2013</td>\n      <td>&lt;a href=\"http://twitter.com/download/android\" ...</td>\n      <td>en</td>\n    </tr>\n    <tr>\n      <th>91</th>\n      <td>389948922413592576</td>\n      <td>Emang di pilipina ada apaan min ?\"@Update_Tran...</td>\n      <td>earthquakeBohol2013</td>\n      <td>&lt;a href=\"http://blackberry.com/twitter\" rel=\"n...</td>\n      <td>id</td>\n    </tr>\n    <tr>\n      <th>92</th>\n      <td>389949027283775488</td>\n      <td>Let's say our prayers for those affected by th...</td>\n      <td>earthquakeBohol2013</td>\n      <td>&lt;a href=\"http://twitter.com\" rel=\"nofollow\"&gt;Tw...</td>\n      <td>en</td>\n    </tr>\n    <tr>\n      <th>93</th>\n      <td>389949367009808384</td>\n      <td>@G2BArmyCebu Keepsafe ! #PrayForVisayas #PrayF...</td>\n      <td>earthquakeBohol2013</td>\n      <td>&lt;a href=\"https://about.twitter.com/products/tw...</td>\n      <td>en</td>\n    </tr>\n    <tr>\n      <th>94</th>\n      <td>389949492839342080</td>\n      <td>RT @NewEarthquake: 7.2 earthquake, 2km S of Nu...</td>\n      <td>earthquakeBohol2013</td>\n      <td>&lt;a href=\"https://mobile.twitter.com\" rel=\"nofo...</td>\n      <td>en</td>\n    </tr>\n    <tr>\n      <th>95</th>\n      <td>389950365258350592</td>\n      <td>@tomlinsondisney yep. search for #PrayForVisay...</td>\n      <td>earthquakeBohol2013</td>\n      <td>&lt;a href=\"http://twitter.com\" rel=\"nofollow\"&gt;Tw...</td>\n      <td>en</td>\n    </tr>\n    <tr>\n      <th>96</th>\n      <td>389950730175389696</td>\n      <td>RT @GandangGabiVice: This is really heartbreak...</td>\n      <td>earthquakeBohol2013</td>\n      <td>&lt;a href=\"http://twitter.com/download/android\" ...</td>\n      <td>en</td>\n    </tr>\n    <tr>\n      <th>97</th>\n      <td>389950767898951681</td>\n      <td>RT @SaklapFriend: God is good all the time. #P...</td>\n      <td>earthquakeBohol2013</td>\n      <td>&lt;a href=\"http://twitter.com\" rel=\"nofollow\"&gt;Tw...</td>\n      <td>en</td>\n    </tr>\n    <tr>\n      <th>98</th>\n      <td>389950814061486080</td>\n      <td>#PrayForVisayas Earthquake go away don't come ...</td>\n      <td>earthquakeBohol2013</td>\n      <td>&lt;a href=\"http://twitter.com\" rel=\"nofollow\"&gt;Tw...</td>\n      <td>en</td>\n    </tr>\n    <tr>\n      <th>99</th>\n      <td>389950969225568257</td>\n      <td>#PrayForVisayas Keep safe everyone! :(</td>\n      <td>earthquakeBohol2013</td>\n      <td>&lt;a href=\"http://twitter.com\" rel=\"nofollow\"&gt;Tw...</td>\n      <td>en</td>\n    </tr>\n  </tbody>\n</table>\n<p>100 rows × 5 columns</p>\n</div>"
     },
     "metadata": {},
     "output_type": "execute_result",
     "execution_count": 97
    }
   ],
   "source": [
    "tweetdf.head(100)"
   ]
  },
  {
   "cell_type": "code",
   "execution_count": 98,
   "metadata": {
    "pycharm": {
     "is_executing": false
    }
   },
   "outputs": [],
   "source": [
    "'''\n",
    "    Opening a json contianing descriptions about the events on which the tweets are about\n",
    "'''\n",
    "with open('TRECIS_2018_2019-labels/TRECIS_2018_2019-labels.json', 'r', encoding = 'utf-8' ) as fp:\n",
    "        data = json.loads(\"[\" + fp.read().replace(\"}\\n{\", \"},\\n{\") + \"]\")\n",
    "        tweetid = []\n",
    "        event_desc = []\n",
    "        cat = []\n",
    "        priority = []\n",
    "        \n",
    "        for i in range (len(data[0])):\n",
    "            tweetid.append(data[0][i]['postID'])\n",
    "            event_desc.append(data[0][i]['eventDescription'])\n",
    "            cat.append(data[0][i]['postCategories'])\n",
    "            priority.append(data[0][i]['postPriority'])"
   ]
  },
  {
   "cell_type": "code",
   "execution_count": 99,
   "metadata": {
    "pycharm": {
     "is_executing": false
    }
   },
   "outputs": [
    {
     "data": {
      "text/plain": "(38478, 38478, 38478, 38478)"
     },
     "metadata": {},
     "output_type": "execute_result",
     "execution_count": 99
    }
   ],
   "source": [
    "len(tweetid), len(event_desc), len(cat), len(priority)"
   ]
  },
  {
   "cell_type": "code",
   "execution_count": 100,
   "metadata": {
    "pycharm": {
     "is_executing": false
    }
   },
   "outputs": [],
   "source": [
    "labeldf = pd.DataFrame([tweetid, event_desc, cat, priority]).T"
   ]
  },
  {
   "cell_type": "code",
   "execution_count": 101,
   "metadata": {
    "pycharm": {
     "is_executing": false
    }
   },
   "outputs": [],
   "source": [
    "labeldf.columns = ['ID', 'Event_Decrption', 'Categories', 'Priority']"
   ]
  },
  {
   "cell_type": "code",
   "execution_count": 102,
   "metadata": {
    "pycharm": {
     "is_executing": false
    }
   },
   "outputs": [],
   "source": [
    "tweetdf= tweetdf.drop_duplicates(subset=['ID'], keep=False)\n",
    "labeldf = labeldf.drop_duplicates(subset=['ID'], keep=False)"
   ]
  },
  {
   "cell_type": "code",
   "execution_count": 103,
   "metadata": {
    "pycharm": {
     "is_executing": false
    }
   },
   "outputs": [],
   "source": [
    "'''\n",
    "    Inner join on the tweets and label df to arrive at a comprehensive df\n",
    "'''\n",
    "\n",
    "joindf = pd.merge(tweetdf,labeldf)"
   ]
  },
  {
   "cell_type": "code",
   "execution_count": 104,
   "metadata": {
    "scrolled": true,
    "pycharm": {
     "is_executing": false
    }
   },
   "outputs": [
    {
     "data": {
      "text/plain": "(7984, 8)"
     },
     "metadata": {},
     "output_type": "execute_result",
     "execution_count": 104
    }
   ],
   "source": [
    "joindf.shape"
   ]
  },
  {
   "cell_type": "code",
   "execution_count": 105,
   "metadata": {
    "pycharm": {
     "is_executing": false
    }
   },
   "outputs": [],
   "source": [
    "joindf.to_csv('Ultimate_Dataframe_TREC_2019_A-test.csv')"
   ]
  },
  {
   "cell_type": "code",
   "execution_count": 87,
   "metadata": {
    "pycharm": {
     "is_executing": false
    }
   },
   "outputs": [
    {
     "name": "stdout",
     "text": [
      "7992\n7993\n7994\n7995\n7996\n7997\n7998\n7999\n8000\n8001\n8002\n8003\n8004\n8005\n8006\n8007\n8008\n8009\n8010\n8011\n8012\n8013\n8014\n8015\n8016\n8017\n8018\n8019\n8020\n8021\n8022\n8023\n8024\n8025\n8026\n8027\n8028\n8029\n8030\n8031\n8032\n8033\n8034\n8035\n8036\n8037\n8039\n8040\n8041\n8042\n8043\n8044\n8045\n8046\n8047\n8048\n8049\n8050\n8051\n8052\n8053\n8054\n8055\n8056\n8057\n8058\n8059\n8060\n8061\n8062\n8063\n8064\n8065\n8066\n8067\n8068\n8069\n8070\n8071\n8072\n8073\n8074\n8075\n8076\n8077\n8078\n8079\n8080\n8081\n8082\n8083\n8084\n8085\n8086\n8087\n8088\n8089\n8090\n8091\n8092\n8093\n8094\n8095\n8096\n8097\n8098\n8099\n8100\n8101\n8102\n8103\n8104\n8105\n8106\n8107\n8108\n8109\n8110\n8111\n8112\n8113\n8114\n8115\n8116\n8117\n8118\n8119\n8120\n8121\n8122\n8123\n8124\n8125\n8126\n8127\n8128\n8129\n8130\n8132\n8133\n8134\n8135\n8136\n8137\n8138\n8139\n8140\n8141\n8142\n8143\n8144\n8145\n8146\n8147\n8148\n8149\n8150\n8151\n8152\n8153\n8154\n8155\n8156\n8157\n8158\n8159\n8160\n8161\n8162\n8163\n8164\n8165\n8166\n8167\n8168\n8169\n8170\n8171\n8172\n8173\n8174\n8175\n8176\n8177\n8178\n8179\n8180\n8181\n8182\n8183\n8184\n8185\n8186\n8187\n8188\n8189\n8190\n8191\n8192\n8193\n8194\n8195\n8196\n8197\n8198\n8199\n8200\n8201\n8202\n8203\n8204\n8205\n8206\n8207\n8208\n8209\n8210\n8211\n8212\n8213\n8214\n8215\n8216\n8217\n8218\n8219\n8220\n8221\n8222\n8223\n8224\n8225\n8226\n8227\n8228\n8229\n8230\n8231\n8232\n8233\n8234\n8235\n8236\n8237\n8238\n8239\n8240\n8241\n8242\n8243\n8244\n8245\n10821\n10884\n10885\n10930\n11481\n11772\n12350\n12351\n12352\n12353\n12354\n12355\n12356\n12357\n12358\n12359\n12360\n12361\n12362\n12363\n12364\n12365\n12366\n12367\n12368\n12369\n12370\n12371\n12372\n12373\n12374\n12375\n12376\n12377\n12378\n12379\n12380\n12381\n12382\n12383\n12384\n12385\n12386\n12387\n12388\n12389\n12390\n12391\n12392\n12393\n12394\n12395\n12396\n12397\n12398\n12399\n12400\n12401\n12402\n12403\n12404\n12405\n12406\n12407\n12408\n12409\n12410\n12411\n12412\n12413\n12414\n12415\n12416\n12417\n12418\n12419\n12420\n12421\n12422\n12423\n12424\n12425\n12426\n12427\n12428\n12429\n12430\n12431\n12432\n12433\n12434\n12435\n12436\n12437\n12438\n12439\n12440\n12441\n12442\n12443\n12444\n12445\n12446\n12447\n12448\n12449\n12450\n12451\n12452\n12453\n12454\n12455\n12456\n12457\n12458\n12459\n12460\n12461\n12462\n12463\n12464\n12465\n12466\n12467\n12468\n12469\n12470\n12471\n12472\n12473\n12474\n12475\n12476\n12477\n12478\n12479\n12480\n12481\n12482\n12483\n12484\n12485\n12486\n12487\n12488\n12489\n12490\n12491\n12492\n12493\n12494\n12495\n12496\n12497\n12498\n12499\n12500\n12501\n12502\n12503\n12504\n12505\n12506\n12507\n12508\n12509\n12510\n12511\n12512\n12513\n12514\n12515\n12516\n12517\n12518\n12519\n12520\n12521\n12522\n12523\n12524\n12525\n12526\n12527\n12528\n12529\n12530\n12531\n12532\n12533\n12534\n12535\n12536\n12537\n12538\n12539\n12540\n12541\n12542\n12543\n12544\n12545\n12546\n12547\n12548\n12549\n12550\n12551\n12552\n12553\n12554\n12555\n12556\n12557\n12558\n12559\n12560\n12561\n12562\n12563\n12564\n12565\n12566\n12567\n12568\n12569\n12570\n12571\n12572\n12573\n12574\n12575\n12576\n12577\n12578\n12579\n12580\n12581\n12582\n12583\n12584\n12585\n12586\n12587\n12588\n12589\n12590\n12591\n12592\n12593\n12594\n12595\n12596\n12597\n12598\n12599\n12600\n12601\n12602\n12603\n12604\n12605\n12606\n12607\n12608\n12609\n12610\n12611\n12612\n12613\n12614\n12615\n12616\n12617\n12618\n12619\n12620\n12621\n12622\n12623\n12624\n12625\n12626\n12627\n12628\n12629\n12630\n12631\n12632\n12633\n12634\n12635\n12636\n12637\n12638\n12639\n12640\n12641\n12642\n12643\n12644\n12645\n12646\n12647\n12648\n12649\n12650\n12651\n12652\n12653\n12654\n12655\n12656\n12657\n12658\n12659\n12660\n12661\n12662\n12663\n12664\n12665\n12666\n12667\n12668\n12669\n12670\n12671\n12672\n12673\n12674\n12675\n12676\n12677\n12678\n12679\n12680\n12681\n12682\n12683\n12684\n12685\n12686\n12687\n12688\n12689\n12690\n12691\n12692\n12693\n12694\n12695\n12696\n12697\n12698\n12699\n12700\n12701\n12702\n12703\n12704\n12705\n12706\n12707\n12708\n12709\n12710\n12711\n12712\n12713\n12714\n12715\n12716\n12717\n12718\n12719\n12720\n12721\n12722\n12723\n12724\n12725\n12726\n12727\n12728\n12729\n12730\n12731\n12732\n12733\n12734\n12735\n12736\n12737\n12738\n12739\n12740\n12741\n12742\n12743\n12744\n12745\n12746\n12747\n12748\n12749\n12750\n12751\n12752\n12753\n12754\n12755\n12756\n12757\n12758\n12759\n12760\n12761\n12762\n12763\n12764\n12765\n12766\n12767\n12768\n12769\n12770\n12771\n12772\n12773\n12774\n12775\n12776\n12777\n12778\n12779\n12780\n12781\n12782\n12783\n12784\n12785\n12786\n12787\n12788\n12789\n12790\n12791\n12792\n12793\n12794\n12795\n12796\n12797\n12798\n12799\n12800\n12801\n12802\n12803\n12804\n12805\n12806\n12807\n12808\n12809\n12810\n12811\n12812\n12813\n12814\n12815\n12816\n12817\n12818\n12819\n12820\n12821\n12822\n12823\n12824\n12825\n12826\n12827\n12828\n12829\n12830\n12831\n12832\n12833\n12834\n12835\n12836\n12837\n12838\n12839\n12840\n12841\n12842\n12843\n12844\n12845\n12846\n12847\n12848\n12849\n12850\n12851\n12852\n12853\n12854\n12855\n12856\n12857\n12858\n12859\n12860\n12861\n12862\n12863\n12864\n12865\n12866\n12867\n12868\n12869\n12870\n12871\n12872\n12873\n12874\n12875\n12876\n12877\n12878\n12879\n12880\n12881\n12882\n12883\n12884\n12885\n12886\n12887\n12888\n12889\n12890\n12891\n12892\n12893\n12894\n12895\n12896\n12897\n12898\n12899\n12900\n12901\n12902\n12903\n12904\n12905\n12906\n12907\n12908\n12909\n12910\n12911\n12912\n12913\n12914\n12915\n12916\n12917\n12918\n12919\n12920\n12921\n12922\n12923\n12924\n12925\n12926\n12927\n12928\n12929\n12930\n12931\n12932\n12933\n12934\n12935\n12936\n12937\n12938\n12939\n12940\n12941\n12942\n12943\n12944\n12945\n12946\n12947\n12948\n12949\n12950\n12951\n12952\n12953\n12954\n12955\n12956\n12957\n12958\n12959\n12960\n12961\n12962\n12963\n12964\n12965\n12966\n12967\n12968\n12969\n12970\n12971\n12972\n12973\n12974\n12975\n12976\n12977\n12978\n12979\n12980\n12981\n12982\n12983\n12984\n12985\n12986\n12987\n12988\n12989\n12990\n12991\n12992\n12993\n12994\n12995\n12996\n12997\n12998\n12999\n13000\n13001\n13002\n13003\n13004\n13005\n13006\n13007\n13008\n13009\n13010\n13011\n13012\n13013\n13014\n13015\n13016\n13017\n13018\n13019\n13020\n13021\n13022\n13023\n13024\n13025\n13026\n13027\n13028\n13029\n13030\n13031\n13032\n13033\n13034\n13035\n13036\n13037\n13038\n13039\n13040\n13041\n13042\n13043\n13044\n13045\n13046\n13047\n13048\n13049\n13050\n13051\n13052\n13053\n13054\n13055\n13056\n13057\n13058\n13059\n13060\n13061\n13062\n13063\n13064\n13065\n13066\n13067\n13068\n13069\n13070\n13071\n13072\n13073\n13074\n13075\n13076\n13077\n13078\n13079\n13080\n13081\n13082\n13083\n13084\n13085\n13086\n13087\n13088\n13089\n13090\n13091\n13092\n13093\n13094\n13095\n13096\n13097\n13098\n13099\n13100\n13101\n13102\n13103\n13104\n13105\n13106\n13107\n13108\n13109\n13110\n13111\n13112\n13113\n13114\n13115\n13116\n13117\n13118\n13119\n13120\n13121\n13122\n13123\n13124\n13125\n13126\n13127\n13128\n13129\n13130\n13131\n13132\n13133\n13134\n13135\n13136\n13137\n13138\n13139\n13140\n13141\n13142\n13143\n13144\n13145\n13146\n13147\n13148\n13149\n13150\n13151\n13152\n13153\n13154\n13155\n13156\n13157\n13158\n13159\n13160\n13161\n13162\n13163\n13164\n13165\n13166\n13167\n13168\n13169\n13170\n13171\n13172\n13173\n13174\n13175\n13176\n13177\n13178\n13179\n13180\n13181\n13182\n13183\n13184\n13185\n13186\n13187\n13188\n13189\n13190\n13191\n13192\n13193\n13194\n13195\n13196\n13197\n13198\n13199\n13200\n13201\n13202\n13203\n13204\n13205\n13206\n13207\n13208\n13209\n13210\n13211\n13212\n13213\n13214\n13215\n13216\n13217\n13218\n13219\n13220\n13221\n13222\n13223\n13224\n13225\n13226\n13227\n13228\n13229\n13230\n13231\n13232\n13233\n13234\n13235\n13236\n13237\n13238\n13239\n13240\n13241\n13242\n13243\n13244\n13245\n13246\n13247\n13248\n13249\n13250\n13251\n13252\n13253\n13254\n13255\n13256\n13257\n13258\n13259\n13260\n13261\n13262\n13263\n13264\n13265\n13266\n13267\n13268\n13269\n13270\n13271\n13272\n13273\n13274\n13275\n13276\n13277\n13278\n13279\n13280\n13281\n13282\n13283\n13284\n13285\n13286\n13287\n13288\n13289\n13290\n13291\n13292\n13293\n13294\n13295\n13296\n13297\n13298\n13299\n13300\n13301\n13302\n13303\n13304\n13305\n13306\n13307\n13308\n13309\n13310\n13311\n13312\n13313\n13314\n13315\n13316\n13317\n13318\n13319\n13320\n13321\n13322\n13323\n13324\n13325\n13326\n13327\n13328\n13329\n13330\n13331\n13332\n13333\n13334\n13335\n13336\n13337\n13338\n13339\n13340\n13341\n13342\n13343\n13344\n13345\n13346\n13347\n13348\n13349\n13350\n13351\n13352\n13353\n13354\n13355\n13356\n13357\n13358\n13359\n13360\n13361\n13362\n13363\n13364\n13365\n13366\n13367\n13368\n13369\n13370\n13371\n13372\n13373\n13374\n13375\n13376\n13377\n13378\n13379\n13380\n13381\n13382\n13383\n13384\n13385\n13386\n13387\n13388\n13389\n13390\n13391\n13392\n13393\n13394\n13395\n13396\n13397\n13398\n13399\n13400\n13401\n13402\n13403\n13404\n13405\n13406\n13407\n13408\n13409\n13410\n13411\n13412\n13413\n13414\n13415\n13416\n13417\n13418\n13419\n13420\n13421\n13422\n13423\n13424\n13425\n13426\n13427\n13428\n13429\n13430\n13431\n13432\n13433\n13434\n13435\n13436\n13437\n13438\n13439\n13440\n13441\n13442\n13443\n13444\n13445\n13446\n13447\n13448\n13449\n13450\n13451\n13452\n13453\n13454\n13455\n13456\n13457\n13458\n13459\n13460\n13461\n13462\n13463\n13464\n13465\n13466\n13467\n13468\n13469\n13470\n13471\n13472\n13473\n13474\n13475\n13476\n13477\n13478\n13479\n13480\n13481\n13482\n13483\n13484\n13485\n13486\n13487\n13488\n13489\n13490\n13491\n13492\n13493\n13494\n13495\n13496\n13497\n13498\n13499\n13500\n13501\n13502\n13503\n13504\n13505\n13506\n13507\n13508\n13509\n13510\n13511\n13512\n13513\n13514\n13515\n13516\n13517\n13518\n13519\n13520\n13521\n13522\n13523\n13524\n13525\n13526\n13527\n13528\n13529\n13530\n13531\n13532\n13533\n13534\n13535\n13536\n13537\n13538\n13539\n13540\n13541\n13542\n13543\n13544\n13545\n13546\n13547\n13548\n13549\n13550\n13551\n13552\n13553\n13554\n13555\n13556\n13557\n13558\n13559\n13560\n13561\n13562\n13563\n13564\n13565\n13566\n13567\n13568\n13569\n13570\n13571\n13572\n13573\n13574\n13575\n13576\n13577\n13578\n13579\n13580\n13581\n13582\n13583\n13584\n13585\n13586\n13587\n13588\n13589\n13590\n13591\n13592\n13593\n13594\n13595\n13596\n13597\n13598\n13599\n13600\n13601\n13602\n13603\n13604\n13605\n13606\n13607\n13608\n13609\n13610\n13611\n13612\n13613\n13614\n13615\n13616\n13617\n13618\n13619\n13620\n13621\n13622\n13623\n13624\n13625\n13626\n13627\n13628\n13629\n13630\n13631\n13632\n13633\n13634\n13635\n13636\n13637\n13638\n13639\n13640\n13641\n13642\n13643\n13644\n13645\n13646\n13647\n13648\n13649\n13650\n13651\n13652\n13653\n13654\n13655\n13656\n13657\n13658\n13659\n13660\n13661\n13662\n13663\n13664\n13665\n13666\n13667\n13669\n13670\n13672\n13673\n13674\n13675\n13676\n13677\n13678\n13679\n13680\n13681\n13682\n13683\n13684\n13685\n13686\n13687\n13688\n13689\n13690\n13691\n13692\n13693\n13694",
      "\n13695\n13696\n13697\n13698\n13699\n13700\n13701\n13702\n13704\n13705\n13706\n13707\n13708\n13709\n13710\n13711\n13712\n13713\n13714\n13715\n13716\n13717\n13718\n13719\n13720\n13721\n13722\n13723\n13724\n13725\n13726\n13727\n13728\n13729\n13730\n13731\n13732\n13733\n13734\n13736\n13737\n13738\n13740\n13741\n13742\n13743\n13744\n13745\n13746\n13747\n13748\n13749\n13750\n13751\n13752\n13753\n13754\n13755\n13756\n15096\n15099\n15101\n15112\n15116\n15122\n15123\n15128\n15135\n15136\n15145\n15148\n15152\n15173\n15174\n15175\n15176\n15177\n15178\n15179\n15180\n15181\n15182\n15183\n15184\n15185\n15186\n15187\n15188\n15189\n15190\n15191\n15192\n15193\n15194\n15195\n15196\n15197\n15198\n15199\n15200\n15201\n15202\n15203\n15204\n15205\n15206\n15207\n15208\n15209\n15210\n15211\n15212\n15213\n15214\n15215\n15216\n15217\n15218\n15219\n15220\n15221\n15222\n15223\n15224\n15225\n15226\n15227\n15228\n15229\n15230\n15231\n15232\n15233\n15234\n15235\n15236\n15237\n15238\n15239\n15240\n15241\n15242\n15243\n15244\n15245\n15246\n15247\n15248\n15249\n15250\n15251\n15252\n15253\n15254\n15255\n15256\n15257\n15258\n15259\n15260\n15261\n15262\n15263\n15264\n15265\n15266\n15267\n15268\n15269\n15270\n15271\n15272\n15273\n15274\n15275\n15276\n15277\n15278\n15279\n15280\n15281\n15282\n15283\n15284\n15285\n15286\n15287\n15288\n15289\n27983\n28396\n29352\n30641\n31996\n32004\n32010\n32017\n32031\n32032\n32033\n32046\n32054\n32058\n32068\n32078\n32084\n32102\n32104\n32134\n32161\n32167\n32171\n32188\n32224\n32232\n32236\n32272\n32298\n32302\n32322\n32332\n32356\n32360\n32371\n32380\n32382\n32423\n32453\n32471\n32473\n32500\n32502\n32509\n33134\n33148\n33173\n33174\n33178\n33204\n33205\n33217\n33231\n33234\n33246\n33270\n33279\n33283\n33292\n33304\n33307\n33312\n33316\n33331\n33338\n33345\n33356\n33370\n33408\n33416\n33429\n33458\n33466\n33470\n33536\n33538\n33570\n33586\n33596\n33599\n33608\n33610\n33613\n33618\n33626\n33646\n33648\n33656\n33668\n33686\n33697\n33703\n33750\n33780\n33812\n33823\n33832\n33833\n33835\n33839\n33855\n33897\n33912\n33913\n33915\n33917\n33919\n33971\n33979\n33993\n34031\n34058\n34066\n34072\n34153\n34164\n34167\n"
     ],
     "output_type": "stream"
    }
   ],
   "source": [
    "Counter(tweetid).keys() # equals to list(set(words))\n",
    "a = Counter(tweetid).values() \n",
    "a = list(a)\n",
    "c = 0\n",
    "e = []\n",
    "for i in range (len(a)):\n",
    "    if  a[i]>1:\n",
    "        c = c+1\n",
    "        print(i)"
   ]
  },
  {
   "cell_type": "code",
   "execution_count": 88,
   "outputs": [
    {
     "data": {
      "text/plain": "'1126019785244979205'"
     },
     "metadata": {},
     "output_type": "execute_result",
     "execution_count": 88
    }
   ],
   "source": [
    "b = list(Counter(tweetid).keys())\n",
    "b[33993]"
   ],
   "metadata": {
    "collapsed": false,
    "pycharm": {
     "name": "#%%\n",
     "is_executing": false
    }
   }
  },
  {
   "cell_type": "code",
   "execution_count": 89,
   "outputs": [
    {
     "data": {
      "text/plain": "Empty DataFrame\nColumns: [ID, Event_Decrption, Categories, Priority]\nIndex: []",
      "text/html": "<div>\n<style scoped>\n    .dataframe tbody tr th:only-of-type {\n        vertical-align: middle;\n    }\n\n    .dataframe tbody tr th {\n        vertical-align: top;\n    }\n\n    .dataframe thead th {\n        text-align: right;\n    }\n</style>\n<table border=\"1\" class=\"dataframe\">\n  <thead>\n    <tr style=\"text-align: right;\">\n      <th></th>\n      <th>ID</th>\n      <th>Event_Decrption</th>\n      <th>Categories</th>\n      <th>Priority</th>\n    </tr>\n  </thead>\n  <tbody>\n  </tbody>\n</table>\n</div>"
     },
     "metadata": {},
     "output_type": "execute_result",
     "execution_count": 89
    }
   ],
   "source": [
    "labeldf[labeldf['ID']=='1126019785244979205']"
   ],
   "metadata": {
    "collapsed": false,
    "pycharm": {
     "name": "#%%\n",
     "is_executing": false
    }
   }
  },
  {
   "cell_type": "code",
   "execution_count": null,
   "outputs": [],
   "source": [
    "\n"
   ],
   "metadata": {
    "collapsed": false,
    "pycharm": {
     "name": "#%%\n"
    }
   }
  }
 ],
 "metadata": {
  "kernelspec": {
   "display_name": "Python 3",
   "language": "python",
   "name": "python3"
  },
  "language_info": {
   "codemirror_mode": {
    "name": "ipython",
    "version": 3
   },
   "file_extension": ".py",
   "mimetype": "text/x-python",
   "name": "python",
   "nbconvert_exporter": "python",
   "pygments_lexer": "ipython3",
   "version": "3.7.3"
  },
  "pycharm": {
   "stem_cell": {
    "cell_type": "raw",
    "source": [],
    "metadata": {
     "collapsed": false
    }
   }
  }
 },
 "nbformat": 4,
 "nbformat_minor": 2
}