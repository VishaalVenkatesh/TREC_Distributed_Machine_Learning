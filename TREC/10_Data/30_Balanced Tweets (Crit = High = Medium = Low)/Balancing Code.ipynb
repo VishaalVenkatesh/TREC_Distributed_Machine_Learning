{
 "cells": [
  {
   "cell_type": "code",
   "execution_count": 1,
   "metadata": {},
   "outputs": [],
   "source": [
    "import os\n",
    "import pandas as pd\n",
    "import numpy as np\n",
    "import random"
   ]
  },
  {
   "cell_type": "code",
   "execution_count": 14,
   "metadata": {},
   "outputs": [
    {
     "data": {
      "text/plain": [
       "'C:\\\\Users\\\\Vishaal\\\\Documents\\\\GitHub\\\\TREC_Distributed_Machine_Learning\\\\TREC\\\\10_Data\\\\10_2018 Train'"
      ]
     },
     "execution_count": 14,
     "metadata": {},
     "output_type": "execute_result"
    }
   ],
   "source": [
    "os.getcwd()"
   ]
  },
  {
   "cell_type": "code",
   "execution_count": 46,
   "metadata": {},
   "outputs": [],
   "source": [
    "os.chdir('../30_2019 B Test')"
   ]
  },
  {
   "cell_type": "code",
   "execution_count": 47,
   "metadata": {},
   "outputs": [
    {
     "data": {
      "text/plain": [
       "['cyclone_TREC_2019_B_test.csv',\n",
       " 'Earthquake_TREC_2019_B_test.csv',\n",
       " 'fire_TREC_2019_B_test.csv',\n",
       " 'Flood_TREC_2019_B_test.csv',\n",
       " 'Shooting_TREC_2019_B_test.csv']"
      ]
     },
     "execution_count": 47,
     "metadata": {},
     "output_type": "execute_result"
    }
   ],
   "source": [
    "a = os.listdir()\n",
    "a"
   ]
  },
  {
   "cell_type": "code",
   "execution_count": 48,
   "metadata": {},
   "outputs": [],
   "source": [
    "i = 0\n",
    "for file in a:\n",
    "    name = ['cyclone', 'earthquake', 'fire', 'flood', 'shooting']\n",
    "    df = pd.read_csv(file)\n",
    "    df_c = df[df['Priority'] == 'Critical']\n",
    "    shape_c = df_c.shape\n",
    "    df_h = df[df['Priority'] == 'High']\n",
    "    df_h_bal = df_h.sample(shape_c[0])\n",
    "    df_m = df[df['Priority'] == 'Medium']\n",
    "    df_m_bal = df_m.sample(shape_c[0])\n",
    "    df_l = df[df['Priority'] == 'Low']\n",
    "    df_l_bal = df_l.sample(shape_c[0]) \n",
    "    df_combine = pd.concat([df_c, df_h_bal, df_m_bal, df_l_bal])\n",
    "    df_combine.to_csv(name[i]+'_TREC_2019_test_B_BALANCED.csv', index = False)\n",
    "    i = i+1\n"
   ]
  },
  {
   "cell_type": "code",
   "execution_count": 49,
   "metadata": {},
   "outputs": [
    {
     "name": "stdout",
     "output_type": "stream",
     "text": [
      "cyclone_TREC_2019_B_test.csv\n",
      "cyclone_TREC_2019_test_B_BALANCED.csv\n",
      "Earthquake_TREC_2019_B_test.csv\n",
      "earthquake_TREC_2019_test_B_BALANCED.csv\n",
      "fire_TREC_2019_B_test.csv\n",
      "fire_TREC_2019_test_B_BALANCED.csv\n",
      "Flood_TREC_2019_B_test.csv\n",
      "flood_TREC_2019_test_B_BALANCED.csv\n",
      "Shooting_TREC_2019_B_test.csv\n",
      "shooting_TREC_2019_test_B_BALANCED.csv\n"
     ]
    }
   ],
   "source": [
    "for file in os.listdir():\n",
    "    print(file)"
   ]
  },
  {
   "cell_type": "code",
   "execution_count": 32,
   "metadata": {
    "scrolled": true
   },
   "outputs": [
    {
     "data": {
      "text/plain": [
       "(24, 16)"
      ]
     },
     "execution_count": 32,
     "metadata": {},
     "output_type": "execute_result"
    }
   ],
   "source": [
    "df = pd.read_csv('earthquake_TREC_2018_train_BALANCED.csv')\n",
    "df[df['Priority'] == 'High'].shape"
   ]
  },
  {
   "cell_type": "code",
   "execution_count": null,
   "metadata": {},
   "outputs": [],
   "source": []
  }
 ],
 "metadata": {
  "kernelspec": {
   "display_name": "Python 3",
   "language": "python",
   "name": "python3"
  },
  "language_info": {
   "codemirror_mode": {
    "name": "ipython",
    "version": 3
   },
   "file_extension": ".py",
   "mimetype": "text/x-python",
   "name": "python",
   "nbconvert_exporter": "python",
   "pygments_lexer": "ipython3",
   "version": "3.7.3"
  }
 },
 "nbformat": 4,
 "nbformat_minor": 2
}
