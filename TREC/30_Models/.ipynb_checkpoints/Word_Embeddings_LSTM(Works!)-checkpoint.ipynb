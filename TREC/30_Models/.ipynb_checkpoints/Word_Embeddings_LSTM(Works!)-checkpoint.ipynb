{
 "cells": [
  {
   "cell_type": "code",
   "execution_count": 61,
   "metadata": {
    "colab": {
     "base_uri": "https://localhost:8080/",
     "height": 35
    },
    "colab_type": "code",
    "id": "wAGh7tgOpDj7",
    "outputId": "274b0f6d-655d-44b2-9997-2f653829c26e",
    "pycharm": {
     "is_executing": false
    }
   },
   "outputs": [],
   "source": [
    "import os\n",
    "import pandas as pd\n",
    "import numpy as np\n",
    "from sklearn.linear_model import SGDClassifier\n",
    "from sklearn.pipeline import make_pipeline\n",
    "from sklearn.preprocessing import StandardScaler\n",
    "from sklearn import metrics\n",
    "from sklearn.feature_extraction.text import TfidfVectorizer\n",
    "from nltk.stem import PorterStemmer\n",
    "from nltk.tokenize import word_tokenize\n",
    "from nltk.stem.wordnet import WordNetLemmatizer\n",
    "from nltk.corpus import stopwords\n",
    "import sklearn.model_selection as model_selection\n",
    "from keras.datasets import imdb\n",
    "from keras.preprocessing import sequence\n",
    "from keras.layers import Dense\n",
    "from keras.models import Sequential\n",
    "from keras.layers import Embedding, SimpleRNN\n",
    "import matplotlib.pyplot as plt\n",
    "from sklearn.utils import shuffle\n",
    "from keras.layers import LSTM\n",
    "from keras.layers import Dropout\n",
    "from keras.optimizers import SGD, RMSprop\n",
    "from numpy import newaxis\n",
    "import keras\n",
    "from keras import backend as K\n",
    "from sklearn.metrics import classification_report\n",
    "import tensorflow as tf\n",
    "import io\n",
    "from tensorflow.keras import layers\n",
    "from keras.layers import GlobalAveragePooling1D, Conv1D, Conv2D\n",
    "import re\n",
    "from sklearn.utils import shuffle"
   ]
  },
  {
   "cell_type": "code",
   "execution_count": 2,
   "metadata": {
    "colab": {},
    "colab_type": "code",
    "id": "hWDPPiyfA_hx",
    "pycharm": {
     "is_executing": false
    }
   },
   "outputs": [],
   "source": [
    "from numpy import array\n",
    "from keras.preprocessing.text import one_hot\n",
    "from keras.preprocessing.sequence import pad_sequences\n",
    "from keras.models import Sequential\n",
    "from keras.layers import Dense\n",
    "from keras.layers import Flatten\n",
    "from keras.layers.embeddings import Embedding\n",
    "from keras."
   ]
  },
  {
   "cell_type": "code",
   "execution_count": 3,
   "metadata": {
    "colab": {
     "base_uri": "https://localhost:8080/",
     "height": 139
    },
    "colab_type": "code",
    "id": "0gitmNze_ojF",
    "outputId": "4cfefae2-03ba-4d67-cc78-eb9a69bc1e06",
    "pycharm": {
     "is_executing": false
    }
   },
   "outputs": [
    {
     "name": "stderr",
     "output_type": "stream",
     "text": [
      "[nltk_data] Downloading package punkt to\n",
      "[nltk_data]     C:\\Users\\Vishaal\\AppData\\Roaming\\nltk_data...\n",
      "[nltk_data]   Package punkt is already up-to-date!\n",
      "[nltk_data] Downloading package stopwords to\n",
      "[nltk_data]     C:\\Users\\Vishaal\\AppData\\Roaming\\nltk_data...\n",
      "[nltk_data]   Package stopwords is already up-to-date!\n",
      "[nltk_data] Downloading package wordnet to\n",
      "[nltk_data]     C:\\Users\\Vishaal\\AppData\\Roaming\\nltk_data...\n",
      "[nltk_data]   Package wordnet is already up-to-date!\n"
     ]
    },
    {
     "data": {
      "text/plain": [
       "True"
      ]
     },
     "execution_count": 3,
     "metadata": {},
     "output_type": "execute_result"
    }
   ],
   "source": [
    "import nltk\n",
    "import os\n",
    "import pandas as pd\n",
    "nltk.download('punkt')\n",
    "nltk.download('stopwords')\n",
    "nltk.download('wordnet')"
   ]
  },
  {
   "cell_type": "code",
   "execution_count": 4,
   "metadata": {
    "pycharm": {
     "is_executing": false
    }
   },
   "outputs": [],
   "source": [
    "os.chdir('../10_Data/30_Balanced Tweets (Crit = High = Medium = Low)/10_2018 Train')"
   ]
  },
  {
   "cell_type": "code",
   "execution_count": 5,
   "metadata": {},
   "outputs": [
    {
     "data": {
      "text/plain": [
       "'C:\\\\Users\\\\Vishaal\\\\Documents\\\\GitHub\\\\TREC_Distributed_Machine_Learning\\\\TREC\\\\10_Data\\\\30_Balanced Tweets (Crit = High = Medium = Low)\\\\10_2018 Train'"
      ]
     },
     "execution_count": 5,
     "metadata": {},
     "output_type": "execute_result"
    }
   ],
   "source": [
    "os.getcwd()"
   ]
  },
  {
   "cell_type": "code",
   "execution_count": 6,
   "metadata": {},
   "outputs": [],
   "source": [
    "'''\n",
    "    Loading Balanced earthquake and flood data from 2018 train. \n",
    "'''\n",
    "df_e1 = pd.read_csv('earthquake_TREC_2018_train_BALANCED.csv')\n",
    "df_f1 = pd.read_csv('flood_TREC_2018_train_BALANCED.csv')"
   ]
  },
  {
   "cell_type": "code",
   "execution_count": 7,
   "metadata": {},
   "outputs": [],
   "source": [
    "os.chdir('../15_2018 Test')"
   ]
  },
  {
   "cell_type": "code",
   "execution_count": 8,
   "metadata": {},
   "outputs": [],
   "source": [
    "'''\n",
    "    Loading our test 2018 tweets from eathquakes and floods separately. These have a decent amount of critical tweets.\n",
    "    We did not include attacks as a considerable amount of work has been done on that before.\n",
    "'''\n",
    "df_e2 = pd.read_csv('earthquake_TREC_2018_test_BALANCED.csv')\n",
    "df_f2 = pd.read_csv('flood_TREC_2018_test_BALANCED.csv')"
   ]
  },
  {
   "cell_type": "code",
   "execution_count": 9,
   "metadata": {},
   "outputs": [],
   "source": [
    "'''\n",
    "    Combining all earthquake tweets into one\n",
    "'''\n",
    "df_quake = pd.DataFrame()\n",
    "df_quake['Tweet'] = pd.concat([df_e1['Tweet'] , df_e2['Tweet']])\n",
    "df_quake['Priority'] = pd.concat([df_e1['Priority'] , df_e2['Priority']])"
   ]
  },
  {
   "cell_type": "code",
   "execution_count": 10,
   "metadata": {},
   "outputs": [],
   "source": [
    "'''\n",
    "    Combining all flood tweets into one\n",
    "'''\n",
    "df_flood = pd.DataFrame()\n",
    "df_flood['Tweet'] = pd.concat([df_f1['Tweet'] , df_f2['Tweet']])\n",
    "df_flood['Priority'] = pd.concat([df_f1['Priority'] , df_f2['Priority']])"
   ]
  },
  {
   "cell_type": "code",
   "execution_count": 11,
   "metadata": {},
   "outputs": [],
   "source": [
    "'''\n",
    "    Breaking up earthquake and flood tweets into low, med and high\n",
    "'''\n",
    "df_q_l = df_quake[(df_quake['Priority'] == 'Low') | (df_quake['Priority'] == 'Critical')]\n",
    "df_q_m = df_quake[(df_quake['Priority'] == 'Medium') | (df_quake['Priority'] == 'Critical')]\n",
    "df_q_h = df_quake[(df_quake['Priority'] == 'High') | (df_quake['Priority'] == 'Critical')]\n",
    "\n",
    "df_f_l = df_flood[(df_flood['Priority'] == 'Low') | (df_flood['Priority'] == 'Critical')]\n",
    "df_f_m = df_flood[(df_flood['Priority'] == 'Medium') | (df_flood['Priority'] == 'Critical')]\n",
    "df_f_h = df_flood[(df_flood['Priority'] == 'High') | (df_flood['Priority'] == 'Critical')]"
   ]
  },
  {
   "cell_type": "code",
   "execution_count": 12,
   "metadata": {
    "colab": {},
    "colab_type": "code",
    "id": "rh3quY1lAbOv",
    "pycharm": {
     "is_executing": false
    }
   },
   "outputs": [],
   "source": [
    "'''\n",
    "Creating a categorical variable to keep label critical tweets as 1 and 0 otherwise\n",
    "'''\n",
    "def to_categorical(df_c):\n",
    "    t = []\n",
    "    for element in df_c['Priority']:\n",
    "        if element =='Critical':\n",
    "            t.append(1)\n",
    "        else:\n",
    "            t.append(0)\n",
    "    return t\n",
    "        \n",
    "t_q_l = to_categorical(df_q_l)\n",
    "t_q_m = to_categorical(df_q_m)\n",
    "t_q_h = to_categorical(df_q_h)\n",
    "t_f_l = to_categorical(df_f_l)\n",
    "t_f_m = to_categorical(df_f_m)\n",
    "t_f_h = to_categorical(df_f_h)"
   ]
  },
  {
   "cell_type": "code",
   "execution_count": 62,
   "metadata": {},
   "outputs": [],
   "source": [
    "'''\n",
    "    Shuffling dfs. CRITICAL TO MAKE IT LEARN...\n",
    "'''\n",
    "df_q_l, t_q_l = shuffle(df_q_l, t_q_l)\n",
    "df_q_m, t_q_m = shuffle(df_q_m, t_q_m)\n",
    "df_q_h, t_q_h = shuffle(df_q_h, t_q_h)\n",
    "\n",
    "df_f_l, t_f_l = shuffle(df_f_l, t_f_l)\n",
    "df_f_m, t_f_m = shuffle(df_f_m, t_f_m)\n",
    "df_f_h, t_f_h = shuffle(df_f_h, t_f_h)"
   ]
  },
  {
   "cell_type": "code",
   "execution_count": 13,
   "metadata": {
    "colab": {
     "base_uri": "https://localhost:8080/",
     "height": 35
    },
    "colab_type": "code",
    "id": "Qz01zcMJA45Z",
    "outputId": "354c5334-502a-4be0-f773-1fcdbaa51cc2",
    "pycharm": {
     "is_executing": false
    }
   },
   "outputs": [],
   "source": [
    "'''\n",
    "    Creating a function to input lemmatized text to possibly another function that outputs the tfidf in a csv format.\n",
    "    We could also simply use the output from this funtion in an tfidf format (no csv) and train a model.\n",
    "'''\n",
    "def preProcess(df):\n",
    "    df['Tweet'] = df['Tweet'].astype('str')\n",
    "    \n",
    "    df['Tweet'] = df['Tweet'].apply(lambda x: re.split('https?://\\S+', str(x))[0])\n",
    "    \n",
    "    token_array = []\n",
    "    for tweet in df['Tweet']:\n",
    "        token_tweet = word_tokenize(tweet)\n",
    "        token_array.append(token_tweet)\n",
    "        \n",
    "    stop_words=set(stopwords.words(\"english\"))\n",
    "    filtered_token_array=[]\n",
    "    for tweet in token_array:\n",
    "        filtered_tweet = []\n",
    "        for word in tweet:\n",
    "                if word not in stop_words:\n",
    "                    filtered_tweet.append(word)\n",
    "        filtered_token_array.append(filtered_tweet)\n",
    "        \n",
    "    lem = WordNetLemmatizer()\n",
    "    stem = PorterStemmer()\n",
    "\n",
    "    lemmatized_array=[]\n",
    "    for tweet in filtered_token_array:\n",
    "        lemmatized_tweet = []\n",
    "        for word in tweet:\n",
    "            lemmatized_tweet.append(lem.lemmatize(word,'v'))\n",
    "        lemmatized_array.append(lemmatized_tweet)\n",
    "    \n",
    "    lemmatized_array_join = []\n",
    "    for element in lemmatized_array:\n",
    "        lemmatized_array_join.append(' '.join(element))\n",
    "        \n",
    "    return (lemmatized_array_join)\n"
   ]
  },
  {
   "cell_type": "code",
   "execution_count": 17,
   "metadata": {
    "colab": {},
    "colab_type": "code",
    "id": "iQn3lpACA6dG",
    "pycharm": {
     "is_executing": false
    }
   },
   "outputs": [
    {
     "name": "stderr",
     "output_type": "stream",
     "text": [
      "C:\\Users\\Vishaal\\Anaconda3_Mod\\lib\\site-packages\\ipykernel_launcher.py:6: SettingWithCopyWarning: \n",
      "A value is trying to be set on a copy of a slice from a DataFrame.\n",
      "Try using .loc[row_indexer,col_indexer] = value instead\n",
      "\n",
      "See the caveats in the documentation: http://pandas.pydata.org/pandas-docs/stable/indexing.html#indexing-view-versus-copy\n",
      "  \n",
      "C:\\Users\\Vishaal\\Anaconda3_Mod\\lib\\site-packages\\ipykernel_launcher.py:8: SettingWithCopyWarning: \n",
      "A value is trying to be set on a copy of a slice from a DataFrame.\n",
      "Try using .loc[row_indexer,col_indexer] = value instead\n",
      "\n",
      "See the caveats in the documentation: http://pandas.pydata.org/pandas-docs/stable/indexing.html#indexing-view-versus-copy\n",
      "  \n"
     ]
    }
   ],
   "source": [
    "'''\n",
    "  We tokenize the lemmatized tweets to then do word embeddings\n",
    "'''\n",
    "l = preProcess(df_q_l)\n",
    "\n",
    "all_words = []\n",
    "\n",
    "for tweet in l:\n",
    "    tokenize_word = word_tokenize(tweet)\n",
    "    for word in tokenize_word:\n",
    "        all_words.append(word)\n",
    "'''\n",
    "    Getting the unique words out\n",
    "'''\n",
    "unique_words = set(all_words)"
   ]
  },
  {
   "cell_type": "code",
   "execution_count": 18,
   "metadata": {
    "pycharm": {
     "is_executing": false
    }
   },
   "outputs": [],
   "source": [
    "'''\n",
    "    Getting embedded sentences\n",
    "'''\n",
    "vocab_length = len(unique_words)\n",
    "\n",
    "embedded_sentences = [one_hot(tweet, vocab_length) for tweet in l]"
   ]
  },
  {
   "cell_type": "code",
   "execution_count": 19,
   "metadata": {
    "pycharm": {
     "is_executing": false
    }
   },
   "outputs": [],
   "source": [
    "'''\n",
    "    Making the size of all embeddings equal to the longest one\n",
    "'''\n",
    "word_count = lambda sentence: len(word_tokenize(sentence))\n",
    "longest_sentence = max(l, key=word_count)\n",
    "length_long_sentence = len(word_tokenize(longest_sentence))\n",
    "padded_sentences = pad_sequences(embedded_sentences, length_long_sentence, padding='post')"
   ]
  },
  {
   "cell_type": "code",
   "execution_count": 20,
   "metadata": {},
   "outputs": [
    {
     "data": {
      "text/plain": [
       "(50, 34)"
      ]
     },
     "execution_count": 20,
     "metadata": {},
     "output_type": "execute_result"
    }
   ],
   "source": [
    "padded_sentences.shape"
   ]
  },
  {
   "cell_type": "code",
   "execution_count": 21,
   "metadata": {},
   "outputs": [
    {
     "data": {
      "text/plain": [
       "387"
      ]
     },
     "execution_count": 21,
     "metadata": {},
     "output_type": "execute_result"
    }
   ],
   "source": [
    "vocab_length"
   ]
  },
  {
   "cell_type": "code",
   "execution_count": 22,
   "metadata": {},
   "outputs": [
    {
     "data": {
      "text/plain": [
       "34"
      ]
     },
     "execution_count": 22,
     "metadata": {},
     "output_type": "execute_result"
    }
   ],
   "source": [
    "length_long_sentence "
   ]
  },
  {
   "cell_type": "code",
   "execution_count": null,
   "metadata": {
    "scrolled": true
   },
   "outputs": [
    {
     "name": "stderr",
     "output_type": "stream",
     "text": [
      "C:\\Users\\Vishaal\\Anaconda3_Mod\\lib\\site-packages\\tensorflow_core\\python\\framework\\indexed_slices.py:433: UserWarning: Converting sparse IndexedSlices to a dense Tensor of unknown shape. This may consume a large amount of memory.\n",
      "  \"Converting sparse IndexedSlices to a dense Tensor of unknown shape. \"\n"
     ]
    },
    {
     "name": "stdout",
     "output_type": "stream",
     "text": [
      "Train on 35 samples, validate on 15 samples\n",
      "Epoch 1/100\n",
      "35/35 [==============================] - 6s 176ms/step - loss: 0.6933 - acc: 0.5143 - precision_33: 0.2500 - recall_33: 0.0667 - auc_33: 0.4083 - val_loss: 0.6936 - val_acc: 0.3333 - val_precision_33: 0.0000e+00 - val_recall_33: 0.0000e+00 - val_auc_33: 0.7000\n",
      "Epoch 2/100\n",
      "35/35 [==============================] - 2s 49ms/step - loss: 0.6921 - acc: 0.5714 - precision_33: 0.0000e+00 - recall_33: 0.0000e+00 - auc_33: 0.4700 - val_loss: 0.6953 - val_acc: 0.3333 - val_precision_33: 0.0000e+00 - val_recall_33: 0.0000e+00 - val_auc_33: 0.8400\n",
      "Epoch 3/100\n",
      "35/35 [==============================] - 2s 49ms/step - loss: 0.6893 - acc: 0.5714 - precision_33: 0.0000e+00 - recall_33: 0.0000e+00 - auc_33: 0.6867 - val_loss: 0.6968 - val_acc: 0.3333 - val_precision_33: 0.0000e+00 - val_recall_33: 0.0000e+00 - val_auc_33: 0.7000\n",
      "Epoch 4/100\n",
      "35/35 [==============================] - 2s 49ms/step - loss: 0.6864 - acc: 0.5714 - precision_33: 0.0000e+00 - recall_33: 0.0000e+00 - auc_33: 0.7800 - val_loss: 0.6990 - val_acc: 0.3333 - val_precision_33: 0.0000e+00 - val_recall_33: 0.0000e+00 - val_auc_33: 0.7000\n",
      "Epoch 5/100\n",
      "35/35 [==============================] - 2s 52ms/step - loss: 0.6831 - acc: 0.5714 - precision_33: 0.0000e+00 - recall_33: 0.0000e+00 - auc_33: 0.7800 - val_loss: 0.7010 - val_acc: 0.3333 - val_precision_33: 0.0000e+00 - val_recall_33: 0.0000e+00 - val_auc_33: 0.6800\n",
      "Epoch 6/100\n",
      "35/35 [==============================] - 2s 62ms/step - loss: 0.6790 - acc: 0.5714 - precision_33: 0.0000e+00 - recall_33: 0.0000e+00 - auc_33: 0.8067 - val_loss: 0.7045 - val_acc: 0.3333 - val_precision_33: 0.0000e+00 - val_recall_33: 0.0000e+00 - val_auc_33: 0.7100\n",
      "Epoch 7/100\n",
      "35/35 [==============================] - 2s 62ms/step - loss: 0.6736 - acc: 0.5714 - precision_33: 0.0000e+00 - recall_33: 0.0000e+00 - auc_33: 0.7883 - val_loss: 0.7085 - val_acc: 0.3333 - val_precision_33: 0.0000e+00 - val_recall_33: 0.0000e+00 - val_auc_33: 0.7200\n",
      "Epoch 8/100\n",
      "35/35 [==============================] - 2s 63ms/step - loss: 0.6664 - acc: 0.5714 - precision_33: 0.0000e+00 - recall_33: 0.0000e+00 - auc_33: 0.8383 - val_loss: 0.7152 - val_acc: 0.3333 - val_precision_33: 0.0000e+00 - val_recall_33: 0.0000e+00 - val_auc_33: 0.7100\n",
      "Epoch 9/100\n",
      "35/35 [==============================] - 2s 67ms/step - loss: 0.6591 - acc: 0.5714 - precision_33: 0.0000e+00 - recall_33: 0.0000e+00 - auc_33: 0.8200 - val_loss: 0.7201 - val_acc: 0.3333 - val_precision_33: 0.0000e+00 - val_recall_33: 0.0000e+00 - val_auc_33: 0.7200\n",
      "Epoch 10/100\n",
      "35/35 [==============================] - 2s 60ms/step - loss: 0.6521 - acc: 0.6000 - precision_33: 1.0000 - recall_33: 0.0667 - auc_33: 0.8317 - val_loss: 0.7251 - val_acc: 0.3333 - val_precision_33: 0.0000e+00 - val_recall_33: 0.0000e+00 - val_auc_33: 0.7100\n",
      "Epoch 11/100\n",
      "35/35 [==============================] - 2s 53ms/step - loss: 0.6418 - acc: 0.6286 - precision_33: 1.0000 - recall_33: 0.1333 - auc_33: 0.8700 - val_loss: 0.7345 - val_acc: 0.3333 - val_precision_33: 0.0000e+00 - val_recall_33: 0.0000e+00 - val_auc_33: 0.7200\n",
      "Epoch 12/100\n",
      "35/35 [==============================] - 2s 54ms/step - loss: 0.6323 - acc: 0.6571 - precision_33: 1.0000 - recall_33: 0.2000 - auc_33: 0.8617 - val_loss: 0.7381 - val_acc: 0.4667 - val_precision_33: 1.0000 - val_recall_33: 0.2000 - val_auc_33: 0.7200\n",
      "Epoch 13/100\n",
      "35/35 [==============================] - 2s 49ms/step - loss: 0.6244 - acc: 0.6571 - precision_33: 1.0000 - recall_33: 0.2000 - auc_33: 0.8650 - val_loss: 0.7448 - val_acc: 0.4667 - val_precision_33: 1.0000 - val_recall_33: 0.2000 - val_auc_33: 0.7000\n",
      "Epoch 14/100\n",
      "35/35 [==============================] - 2s 55ms/step - loss: 0.6150 - acc: 0.6571 - precision_33: 1.0000 - recall_33: 0.2000 - auc_33: 0.8867 - val_loss: 0.7519 - val_acc: 0.4667 - val_precision_33: 1.0000 - val_recall_33: 0.2000 - val_auc_33: 0.7000\n",
      "Epoch 15/100\n",
      "35/35 [==============================] - 2s 53ms/step - loss: 0.6014 - acc: 0.7143 - precision_33: 1.0000 - recall_33: 0.3333 - auc_33: 0.8983 - val_loss: 0.7542 - val_acc: 0.4667 - val_precision_33: 1.0000 - val_recall_33: 0.2000 - val_auc_33: 0.7000\n",
      "Epoch 16/100\n",
      "35/35 [==============================] - 2s 54ms/step - loss: 0.5920 - acc: 0.7714 - precision_33: 1.0000 - recall_33: 0.4667 - auc_33: 0.9150 - val_loss: 0.7642 - val_acc: 0.4667 - val_precision_33: 1.0000 - val_recall_33: 0.2000 - val_auc_33: 0.6900\n",
      "Epoch 17/100\n",
      "35/35 [==============================] - 2s 53ms/step - loss: 0.5767 - acc: 0.7714 - precision_33: 1.0000 - recall_33: 0.4667 - auc_33: 0.9383 - val_loss: 0.7735 - val_acc: 0.4667 - val_precision_33: 1.0000 - val_recall_33: 0.2000 - val_auc_33: 0.7000\n",
      "Epoch 18/100\n",
      "35/35 [==============================] - 2s 51ms/step - loss: 0.5611 - acc: 0.8286 - precision_33: 1.0000 - recall_33: 0.6000 - auc_33: 0.9400 - val_loss: 0.7818 - val_acc: 0.4667 - val_precision_33: 1.0000 - val_recall_33: 0.2000 - val_auc_33: 0.6900\n",
      "Epoch 19/100\n",
      "35/35 [==============================] - 2s 59ms/step - loss: 0.5468 - acc: 0.8286 - precision_33: 1.0000 - recall_33: 0.6000 - auc_33: 0.9617 - val_loss: 0.7951 - val_acc: 0.4667 - val_precision_33: 1.0000 - val_recall_33: 0.2000 - val_auc_33: 0.6900\n",
      "Epoch 20/100\n",
      "35/35 [==============================] - 2s 62ms/step - loss: 0.5370 - acc: 0.8571 - precision_33: 1.0000 - recall_33: 0.6667 - auc_33: 0.9667 - val_loss: 0.8011 - val_acc: 0.4667 - val_precision_33: 1.0000 - val_recall_33: 0.2000 - val_auc_33: 0.6900\n",
      "Epoch 21/100\n",
      "35/35 [==============================] - 2s 48ms/step - loss: 0.5217 - acc: 0.8571 - precision_33: 1.0000 - recall_33: 0.6667 - auc_33: 0.9683 - val_loss: 0.8109 - val_acc: 0.4667 - val_precision_33: 1.0000 - val_recall_33: 0.2000 - val_auc_33: 0.6900\n",
      "Epoch 22/100\n",
      "35/35 [==============================] - 2s 49ms/step - loss: 0.5016 - acc: 0.8571 - precision_33: 1.0000 - recall_33: 0.6667 - auc_33: 0.9817 - val_loss: 0.8175 - val_acc: 0.4000 - val_precision_33: 0.6667 - val_recall_33: 0.2000 - val_auc_33: 0.6800\n",
      "Epoch 23/100\n",
      "35/35 [==============================] - 2s 51ms/step - loss: 0.4814 - acc: 0.8857 - precision_33: 0.9231 - recall_33: 0.8000 - auc_33: 0.9750 - val_loss: 0.8224 - val_acc: 0.4000 - val_precision_33: 0.6667 - val_recall_33: 0.2000 - val_auc_33: 0.6800\n",
      "Epoch 24/100\n",
      "35/35 [==============================] - 2s 49ms/step - loss: 0.4507 - acc: 0.9143 - precision_33: 1.0000 - recall_33: 0.8000 - auc_33: 0.9967 - val_loss: 0.8242 - val_acc: 0.4000 - val_precision_33: 0.6667 - val_recall_33: 0.2000 - val_auc_33: 0.6800\n",
      "Epoch 25/100\n",
      "35/35 [==============================] - 2s 52ms/step - loss: 0.4399 - acc: 0.9143 - precision_33: 0.9286 - recall_33: 0.8667 - auc_33: 0.9833 - val_loss: 0.8397 - val_acc: 0.4000 - val_precision_33: 0.6667 - val_recall_33: 0.2000 - val_auc_33: 0.6800\n",
      "Epoch 26/100\n",
      "35/35 [==============================] - 2s 51ms/step - loss: 0.4202 - acc: 0.8857 - precision_33: 0.9231 - recall_33: 0.8000 - auc_33: 0.9867 - val_loss: 0.8264 - val_acc: 0.4000 - val_precision_33: 0.6000 - val_recall_33: 0.3000 - val_auc_33: 0.6800\n",
      "Epoch 27/100\n",
      "35/35 [==============================] - 2s 49ms/step - loss: 0.3999 - acc: 0.9429 - precision_33: 0.9333 - recall_33: 0.9333 - auc_33: 0.9933 - val_loss: 0.8370 - val_acc: 0.4000 - val_precision_33: 0.6000 - val_recall_33: 0.3000 - val_auc_33: 0.6900\n",
      "Epoch 28/100\n",
      "35/35 [==============================] - 2s 50ms/step - loss: 0.3823 - acc: 0.9429 - precision_33: 0.9333 - recall_33: 0.9333 - auc_33: 0.9967 - val_loss: 0.8581 - val_acc: 0.4000 - val_precision_33: 0.6000 - val_recall_33: 0.3000 - val_auc_33: 0.6800\n",
      "Epoch 29/100\n",
      "35/35 [==============================] - 2s 48ms/step - loss: 0.3550 - acc: 0.9714 - precision_33: 1.0000 - recall_33: 0.9333 - auc_33: 0.9983 - val_loss: 0.8776 - val_acc: 0.4000 - val_precision_33: 0.6000 - val_recall_33: 0.3000 - val_auc_33: 0.7000\n",
      "Epoch 30/100\n",
      "35/35 [==============================] - 2s 49ms/step - loss: 0.3557 - acc: 0.9429 - precision_33: 0.9333 - recall_33: 0.9333 - auc_33: 0.9967 - val_loss: 0.8849 - val_acc: 0.4000 - val_precision_33: 0.6000 - val_recall_33: 0.3000 - val_auc_33: 0.6900\n",
      "Epoch 31/100\n"
     ]
    },
    {
     "name": "stdout",
     "output_type": "stream",
     "text": [
      "35/35 [==============================] - 2s 57ms/step - loss: 0.3307 - acc: 0.9714 - precision_33: 1.0000 - recall_33: 0.9333 - auc_33: 0.9967 - val_loss: 0.8947 - val_acc: 0.4000 - val_precision_33: 0.6000 - val_recall_33: 0.3000 - val_auc_33: 0.7000\n",
      "Epoch 32/100\n",
      "35/35 [==============================] - 2s 52ms/step - loss: 0.3047 - acc: 1.0000 - precision_33: 1.0000 - recall_33: 1.0000 - auc_33: 1.0000 - val_loss: 0.9109 - val_acc: 0.4667 - val_precision_33: 0.7500 - val_recall_33: 0.3000 - val_auc_33: 0.7000\n",
      "Epoch 33/100\n",
      "35/35 [==============================] - 2s 52ms/step - loss: 0.3005 - acc: 0.9714 - precision_33: 1.0000 - recall_33: 0.9333 - auc_33: 1.0000 - val_loss: 0.9095 - val_acc: 0.4667 - val_precision_33: 0.6667 - val_recall_33: 0.4000 - val_auc_33: 0.7200\n",
      "Epoch 34/100\n",
      "35/35 [==============================] - 2s 49ms/step - loss: 0.2770 - acc: 1.0000 - precision_33: 1.0000 - recall_33: 1.0000 - auc_33: 1.0000 - val_loss: 0.9171 - val_acc: 0.4667 - val_precision_33: 0.6667 - val_recall_33: 0.4000 - val_auc_33: 0.7400\n",
      "Epoch 35/100\n",
      "35/35 [==============================] - 2s 65ms/step - loss: 0.2616 - acc: 1.0000 - precision_33: 1.0000 - recall_33: 1.0000 - auc_33: 1.0000 - val_loss: 0.9313 - val_acc: 0.4667 - val_precision_33: 0.6667 - val_recall_33: 0.4000 - val_auc_33: 0.7400\n",
      "Epoch 36/100\n",
      "35/35 [==============================] - 2s 59ms/step - loss: 0.2487 - acc: 1.0000 - precision_33: 1.0000 - recall_33: 1.0000 - auc_33: 1.0000 - val_loss: 0.9396 - val_acc: 0.5333 - val_precision_33: 0.8000 - val_recall_33: 0.4000 - val_auc_33: 0.7300\n",
      "Epoch 37/100\n",
      "35/35 [==============================] - 2s 65ms/step - loss: 0.2381 - acc: 1.0000 - precision_33: 1.0000 - recall_33: 1.0000 - auc_33: 1.0000 - val_loss: 0.9502 - val_acc: 0.5333 - val_precision_33: 0.8000 - val_recall_33: 0.4000 - val_auc_33: 0.7100\n",
      "Epoch 38/100\n",
      "35/35 [==============================] - 2s 47ms/step - loss: 0.2258 - acc: 1.0000 - precision_33: 1.0000 - recall_33: 1.0000 - auc_33: 1.0000 - val_loss: 0.9586 - val_acc: 0.5333 - val_precision_33: 0.8000 - val_recall_33: 0.4000 - val_auc_33: 0.7100\n",
      "Epoch 39/100\n",
      "35/35 [==============================] - 2s 46ms/step - loss: 0.2148 - acc: 1.0000 - precision_33: 1.0000 - recall_33: 1.0000 - auc_33: 1.0000 - val_loss: 0.9705 - val_acc: 0.5333 - val_precision_33: 0.8000 - val_recall_33: 0.4000 - val_auc_33: 0.7000\n",
      "Epoch 40/100\n",
      "35/35 [==============================] - 2s 52ms/step - loss: 0.2038 - acc: 1.0000 - precision_33: 1.0000 - recall_33: 1.0000 - auc_33: 1.0000 - val_loss: 1.0100 - val_acc: 0.4667 - val_precision_33: 0.6667 - val_recall_33: 0.4000 - val_auc_33: 0.6800\n",
      "Epoch 41/100\n",
      "35/35 [==============================] - 2s 59ms/step - loss: 0.2011 - acc: 1.0000 - precision_33: 1.0000 - recall_33: 1.0000 - auc_33: 1.0000 - val_loss: 0.9549 - val_acc: 0.5333 - val_precision_33: 1.0000 - val_recall_33: 0.3000 - val_auc_33: 0.7200\n",
      "Epoch 42/100\n",
      "35/35 [==============================] - 2s 49ms/step - loss: 0.1875 - acc: 1.0000 - precision_33: 1.0000 - recall_33: 1.0000 - auc_33: 1.0000 - val_loss: 0.9653 - val_acc: 0.5333 - val_precision_33: 1.0000 - val_recall_33: 0.3000 - val_auc_33: 0.7200\n",
      "Epoch 43/100\n",
      "35/35 [==============================] - 2s 46ms/step - loss: 0.1789 - acc: 1.0000 - precision_33: 1.0000 - recall_33: 1.0000 - auc_33: 1.0000 - val_loss: 0.9732 - val_acc: 0.5333 - val_precision_33: 1.0000 - val_recall_33: 0.3000 - val_auc_33: 0.7200\n",
      "Epoch 44/100\n",
      "35/35 [==============================] - 2s 49ms/step - loss: 0.1710 - acc: 1.0000 - precision_33: 1.0000 - recall_33: 1.0000 - auc_33: 1.0000 - val_loss: 0.9842 - val_acc: 0.5333 - val_precision_33: 1.0000 - val_recall_33: 0.3000 - val_auc_33: 0.7700\n",
      "Epoch 45/100\n",
      "35/35 [==============================] - 2s 56ms/step - loss: 0.1647 - acc: 1.0000 - precision_33: 1.0000 - recall_33: 1.0000 - auc_33: 1.0000 - val_loss: 0.9895 - val_acc: 0.5333 - val_precision_33: 1.0000 - val_recall_33: 0.3000 - val_auc_33: 0.7300\n",
      "Epoch 46/100\n",
      "35/35 [==============================] - 3s 73ms/step - loss: 0.1564 - acc: 1.0000 - precision_33: 1.0000 - recall_33: 1.0000 - auc_33: 1.0000 - val_loss: 0.9947 - val_acc: 0.5333 - val_precision_33: 1.0000 - val_recall_33: 0.3000 - val_auc_33: 0.7800\n",
      "Epoch 47/100\n",
      "35/35 [==============================] - 2s 71ms/step - loss: 0.1485 - acc: 1.0000 - precision_33: 1.0000 - recall_33: 1.0000 - auc_33: 1.0000 - val_loss: 1.0055 - val_acc: 0.5333 - val_precision_33: 1.0000 - val_recall_33: 0.3000 - val_auc_33: 0.7800\n",
      "Epoch 48/100\n",
      "35/35 [==============================] - 2s 69ms/step - loss: 0.1415 - acc: 1.0000 - precision_33: 1.0000 - recall_33: 1.0000 - auc_33: 1.0000 - val_loss: 1.0094 - val_acc: 0.5333 - val_precision_33: 1.0000 - val_recall_33: 0.3000 - val_auc_33: 0.7600\n",
      "Epoch 49/100\n",
      "35/35 [==============================] - 2s 67ms/step - loss: 0.1340 - acc: 1.0000 - precision_33: 1.0000 - recall_33: 1.0000 - auc_33: 1.0000 - val_loss: 1.0279 - val_acc: 0.5333 - val_precision_33: 1.0000 - val_recall_33: 0.3000 - val_auc_33: 0.7600\n",
      "Epoch 50/100\n",
      "35/35 [==============================] - 2s 71ms/step - loss: 0.1262 - acc: 1.0000 - precision_33: 1.0000 - recall_33: 1.0000 - auc_33: 1.0000 - val_loss: 1.0480 - val_acc: 0.5333 - val_precision_33: 1.0000 - val_recall_33: 0.3000 - val_auc_33: 0.7400\n",
      "Epoch 51/100\n",
      "35/35 [==============================] - 3s 74ms/step - loss: 0.1194 - acc: 1.0000 - precision_33: 1.0000 - recall_33: 1.0000 - auc_33: 1.0000 - val_loss: 1.0510 - val_acc: 0.5333 - val_precision_33: 1.0000 - val_recall_33: 0.3000 - val_auc_33: 0.7600\n",
      "Epoch 52/100\n",
      "35/35 [==============================] - 2s 67ms/step - loss: 0.1132 - acc: 1.0000 - precision_33: 1.0000 - recall_33: 1.0000 - auc_33: 1.0000 - val_loss: 1.1071 - val_acc: 0.6000 - val_precision_33: 1.0000 - val_recall_33: 0.4000 - val_auc_33: 0.7200\n",
      "Epoch 53/100\n",
      "35/35 [==============================] - 3s 74ms/step - loss: 0.1074 - acc: 1.0000 - precision_33: 1.0000 - recall_33: 1.0000 - auc_33: 1.0000 - val_loss: 1.1045 - val_acc: 0.6000 - val_precision_33: 1.0000 - val_recall_33: 0.4000 - val_auc_33: 0.6800\n",
      "Epoch 54/100\n",
      "35/35 [==============================] - 2s 56ms/step - loss: 0.1012 - acc: 1.0000 - precision_33: 1.0000 - recall_33: 1.0000 - auc_33: 1.0000 - val_loss: 1.1095 - val_acc: 0.6000 - val_precision_33: 1.0000 - val_recall_33: 0.4000 - val_auc_33: 0.7100\n",
      "Epoch 55/100\n",
      "35/35 [==============================] - 2s 59ms/step - loss: 0.0965 - acc: 1.0000 - precision_33: 1.0000 - recall_33: 1.0000 - auc_33: 1.0000 - val_loss: 1.1292 - val_acc: 0.6000 - val_precision_33: 1.0000 - val_recall_33: 0.4000 - val_auc_33: 0.6800\n",
      "Epoch 56/100\n",
      "35/35 [==============================] - 2s 49ms/step - loss: 0.0915 - acc: 1.0000 - precision_33: 1.0000 - recall_33: 1.0000 - auc_33: 1.0000 - val_loss: 1.1404 - val_acc: 0.6000 - val_precision_33: 1.0000 - val_recall_33: 0.4000 - val_auc_33: 0.7300\n",
      "Epoch 57/100\n",
      "35/35 [==============================] - 2s 51ms/step - loss: 0.0869 - acc: 1.0000 - precision_33: 1.0000 - recall_33: 1.0000 - auc_33: 1.0000 - val_loss: 1.1529 - val_acc: 0.6000 - val_precision_33: 1.0000 - val_recall_33: 0.4000 - val_auc_33: 0.7000\n",
      "Epoch 58/100\n",
      "35/35 [==============================] - 2s 50ms/step - loss: 0.0827 - acc: 1.0000 - precision_33: 1.0000 - recall_33: 1.0000 - auc_33: 1.0000 - val_loss: 1.1700 - val_acc: 0.6000 - val_precision_33: 1.0000 - val_recall_33: 0.4000 - val_auc_33: 0.7300\n",
      "Epoch 59/100\n",
      "35/35 [==============================] - 2s 59ms/step - loss: 0.0783 - acc: 1.0000 - precision_33: 1.0000 - recall_33: 1.0000 - auc_33: 1.0000 - val_loss: 1.1815 - val_acc: 0.6000 - val_precision_33: 1.0000 - val_recall_33: 0.4000 - val_auc_33: 0.7000\n",
      "Epoch 60/100\n",
      "35/35 [==============================] - 3s 76ms/step - loss: 0.0746 - acc: 1.0000 - precision_33: 1.0000 - recall_33: 1.0000 - auc_33: 1.0000 - val_loss: 1.1997 - val_acc: 0.6000 - val_precision_33: 1.0000 - val_recall_33: 0.4000 - val_auc_33: 0.6900\n",
      "Epoch 61/100\n",
      "35/35 [==============================] - 2s 70ms/step - loss: 0.0710 - acc: 1.0000 - precision_33: 1.0000 - recall_33: 1.0000 - auc_33: 1.0000 - val_loss: 1.2145 - val_acc: 0.6000 - val_precision_33: 1.0000 - val_recall_33: 0.4000 - val_auc_33: 0.7300\n"
     ]
    },
    {
     "name": "stdout",
     "output_type": "stream",
     "text": [
      "Epoch 62/100\n",
      "12/35 [=========>....................] - ETA: 1s - loss: 0.0781 - acc: 1.0000 - precision_33: 1.0000 - recall_33: 1.0000 - auc_33: 1.0000"
     ]
    }
   ],
   "source": [
    "iterations = 1\n",
    "\n",
    "for i in range (iterations):\n",
    "   \n",
    "    l = preProcess(df_q_m)\n",
    "    all_words = []\n",
    "    for tweet in l:\n",
    "        tokenize_word = word_tokenize(tweet)\n",
    "        for word in tokenize_word:\n",
    "            all_words.append(word)\n",
    "    '''\n",
    "        Getting the unique words out\n",
    "    '''\n",
    "    unique_words = set(all_words)\n",
    "\n",
    "    '''\n",
    "        Getting embedded sentences\n",
    "    '''\n",
    "    vocab_length = len(unique_words)\n",
    "    embedded_sentences = [one_hot(tweet, vocab_length) for tweet in l]\n",
    "\n",
    "    '''\n",
    "        Making the size of all embeddings equal to the longest one\n",
    "    '''\n",
    "    word_count = lambda sentence: len(word_tokenize(sentence))\n",
    "    longest_sentence = max(l, key=word_count)\n",
    "    length_long_sentence = len(word_tokenize(longest_sentence))\n",
    "    padded_sentences = pad_sequences(embedded_sentences, length_long_sentence, padding='post')\n",
    "\n",
    "    '''\n",
    "        Model Paramters\n",
    "    '''\n",
    "    model = keras.Sequential()\n",
    "    model.add(Embedding(vocab_length, 100, input_length=padded_sentences.shape[1]))\n",
    "    model.add(LSTM(128, input_shape = (padded_sentences.shape[1], 1), dropout=0.2, return_sequences=True))\n",
    "    model.add(LSTM(64, return_sequences = True))\n",
    "    model.add(LSTM(32, return_sequences = True))\n",
    "    model.add(LSTM(16, return_sequences = True))\n",
    "    model.add(GlobalAveragePooling1D())\n",
    "    model.add(Dense(8, activation = 'relu', input_shape = (padded_sentences.shape[1],)))\n",
    "    #model.add(Dropout(0.5))\n",
    "    model.add(Dense(1, activation = 'sigmoid'))\n",
    "\n",
    "    '''\n",
    "        Compile and fit model\n",
    "    '''\n",
    "    model.compile(optimizer=keras.optimizers.RMSprop(lr = 0.0001),\n",
    "                  loss='binary_crossentropy',\n",
    "                  metrics=['acc', keras.metrics.Precision(), keras.metrics.Recall(), keras.metrics.AUC()])\n",
    "\n",
    "    history = model.fit(padded_sentences, t_q_m, batch_size=4, epochs=100, validation_split=0.3, shuffle = True)"
   ]
  },
  {
   "cell_type": "code",
   "execution_count": 102,
   "metadata": {},
   "outputs": [
    {
     "name": "stdout",
     "output_type": "stream",
     "text": [
      "Model: \"sequential_30\"\n",
      "_________________________________________________________________\n",
      "Layer (type)                 Output Shape              Param #   \n",
      "=================================================================\n",
      "embedding_30 (Embedding)     (None, 34, 100)           35700     \n",
      "_________________________________________________________________\n",
      "lstm_91 (LSTM)               (None, 34, 128)           117248    \n",
      "_________________________________________________________________\n",
      "lstm_92 (LSTM)               (None, 34, 64)            49408     \n",
      "_________________________________________________________________\n",
      "lstm_93 (LSTM)               (None, 34, 32)            12416     \n",
      "_________________________________________________________________\n",
      "lstm_94 (LSTM)               (None, 34, 16)            3136      \n",
      "_________________________________________________________________\n",
      "global_average_pooling1d_28  (None, 16)                0         \n",
      "_________________________________________________________________\n",
      "dense_54 (Dense)             (None, 8)                 136       \n",
      "_________________________________________________________________\n",
      "dense_55 (Dense)             (None, 1)                 9         \n",
      "=================================================================\n",
      "Total params: 218,053\n",
      "Trainable params: 218,053\n",
      "Non-trainable params: 0\n",
      "_________________________________________________________________\n"
     ]
    }
   ],
   "source": [
    "model.summary()"
   ]
  },
  {
   "cell_type": "markdown",
   "metadata": {},
   "source": []
  },
  {
   "cell_type": "code",
   "execution_count": 103,
   "metadata": {
    "scrolled": false
   },
   "outputs": [
    {
     "data": {
      "text/plain": [
       "<matplotlib.legend.Legend at 0x24bd7c6db38>"
      ]
     },
     "execution_count": 103,
     "metadata": {},
     "output_type": "execute_result"
    },
    {
     "data": {
      "image/png": "[encoded data removed]",
      "text/plain": [
       "<Figure size 432x288 with 1 Axes>"
      ]
     },
     "metadata": {
      "needs_background": "light"
     },
     "output_type": "display_data"
    }
   ],
   "source": [
    "'''\n",
    "    Plotting accuracy VS epoch for training and validations\n",
    "'''\n",
    "acc = history.history['acc']\n",
    "val_acc = history.history['val_acc']\n",
    "loss = history.history['loss']\n",
    "val_loss = history.history['val_loss']\n",
    "epochs = range(1, len(acc) + 1)\n",
    "plt.plot(epochs, acc, 'bo', label='Training acc')\n",
    "plt.plot(epochs, val_acc, 'b', label='Validation acc')\n",
    "plt.title('Training and validation accuracy')\n",
    "plt.legend()"
   ]
  },
  {
   "cell_type": "code",
   "execution_count": 104,
   "metadata": {},
   "outputs": [
    {
     "data": {
      "text/plain": [
       "<matplotlib.legend.Legend at 0x24bd9d46128>"
      ]
     },
     "execution_count": 104,
     "metadata": {},
     "output_type": "execute_result"
    },
    {
     "data": {
      "image/png": "[encoded data removed]",
      "text/plain": [
       "<Figure size 432x288 with 1 Axes>"
      ]
     },
     "metadata": {
      "needs_background": "light"
     },
     "output_type": "display_data"
    }
   ],
   "source": [
    "\n",
    "'''\n",
    "    Plotting loss VS epoch for training and validations\n",
    "'''\n",
    "plt.plot(epochs, loss, 'bo', label='Training loss')\n",
    "plt.plot(epochs, val_loss, 'b', label='Validation loss')\n",
    "plt.title('Training and validation loss')\n",
    "plt.legend()"
   ]
  },
  {
   "cell_type": "code",
   "execution_count": 650,
   "metadata": {
    "pycharm": {
     "is_executing": false,
     "name": "#%%\n"
    }
   },
   "outputs": [
    {
     "name": "stdout",
     "output_type": "stream",
     "text": [
      "Mean Precision =  0.7223\n",
      "Stdev Precision =  0.23877699033012187\n",
      "Mean Recall =  0.79645\n",
      "Stdev Recall =  0.3232536095871338\n",
      "Mean ROC AUC =  0.82815\n",
      "Stdev ROC AUC =  0.04027536467867174\n"
     ]
    }
   ],
   "source": [
    "import statistics\n",
    "precision = [0.9231, 0.5625, 0.4545, 1, 0.5455, 0.5556, 0.75, 1, 1, 0.4318]\n",
    "recall = [1, 0.3, 0.4848, 1, 1, 1, 0.2273,1, 1, 0.9524]\n",
    "AUC = [0.7821, 0.8427, 0.8946, 0.8002, 0.8383, 0.8453,0.8874, 0.8, 0.8062, 0.7847 ]\n",
    "print('Mean Precision = ', statistics.mean(precision))\n",
    "print('Stdev Precision = ', statistics.stdev(precision))\n",
    "print('Mean Recall = ', statistics.mean(recall))\n",
    "print('Stdev Recall = ', statistics.stdev(recall))\n",
    "print('Mean ROC AUC = ', statistics.mean(AUC))\n",
    "print('Stdev ROC AUC = ', statistics.stdev(AUC))"
   ]
  },
  {
   "cell_type": "code",
   "execution_count": 49,
   "metadata": {
    "pycharm": {
     "name": "#%%\n"
    }
   },
   "outputs": [
    {
     "data": {
      "text/plain": [
       "array([[0.6609599],\n",
       "       [0.6609599],\n",
       "       [0.6609599],\n",
       "       [0.6609599],\n",
       "       [0.6609599],\n",
       "       [0.6609599],\n",
       "       [0.6609599],\n",
       "       [0.6609599],\n",
       "       [0.6609599],\n",
       "       [0.6609599],\n",
       "       [0.6609599],\n",
       "       [0.6609599],\n",
       "       [0.6609599],\n",
       "       [0.6609599],\n",
       "       [0.6609599]], dtype=float32)"
      ]
     },
     "execution_count": 49,
     "metadata": {},
     "output_type": "execute_result"
    }
   ],
   "source": [
    "y_pred = model.predict(history.validation_data[0])\n",
    "y_pred"
   ]
  },
  {
   "cell_type": "code",
   "execution_count": 57,
   "metadata": {},
   "outputs": [
    {
     "data": {
      "text/plain": [
       "array([201, 386,   3, 186, 159,  94, 201,  52,  24, 287, 268, 150,   0,\n",
       "         0,   0,   0,   0,   0,   0,   0,   0,   0,   0,   0,   0,   0,\n",
       "         0,   0,   0,   0,   0,   0,   0,   0])"
      ]
     },
     "execution_count": 57,
     "metadata": {},
     "output_type": "execute_result"
    }
   ],
   "source": [
    "padded_sentences[34]"
   ]
  },
  {
   "cell_type": "code",
   "execution_count": 35,
   "metadata": {},
   "outputs": [
    {
     "data": {
      "text/plain": [
       "34"
      ]
     },
     "execution_count": 35,
     "metadata": {},
     "output_type": "execute_result"
    }
   ],
   "source": [
    "len(padded_sentences[1])"
   ]
  },
  {
   "cell_type": "code",
   "execution_count": 59,
   "metadata": {},
   "outputs": [
    {
     "data": {
      "text/plain": [
       "[array([[361,  95, 201,   0,   0,   0,   0,   0,   0,   0,   0,   0,   0,\n",
       "           0,   0,   0,   0,   0,   0,   0,   0,   0,   0,   0,   0,   0,\n",
       "           0,   0,   0,   0,   0,   0,   0,   0],\n",
       "        [290, 181, 201, 229,  74, 244, 354, 367, 201, 290, 181, 201, 229,\n",
       "          74, 244, 354,   0,   0,   0,   0,   0,   0,   0,   0,   0,   0,\n",
       "           0,   0,   0,   0,   0,   0,   0,   0],\n",
       "        [152, 266, 382, 278, 121, 164,  12,  22, 354, 197, 345, 288,  22,\n",
       "          95, 384, 180, 384, 257,   0,   0,   0,   0,   0,   0,   0,   0,\n",
       "           0,   0,   0,   0,   0,   0,   0,   0],\n",
       "        [119, 189,  93,  48, 146,  23,  87, 220, 284, 187, 303,   0,   0,\n",
       "           0,   0,   0,   0,   0,   0,   0,   0,   0,   0,   0,   0,   0,\n",
       "           0,   0,   0,   0,   0,   0,   0,   0],\n",
       "        [272, 242, 141,  24,  17, 298, 158, 380, 378, 149,  71, 287, 310,\n",
       "         125, 103,   0,   0,   0,   0,   0,   0,   0,   0,   0,   0,   0,\n",
       "           0,   0,   0,   0,   0,   0,   0,   0],\n",
       "        [ 77, 201, 303, 222, 287,  62, 148, 380,   6, 290, 229,  74, 380,\n",
       "         201, 117, 206, 287, 195,   0,   0,   0,   0,   0,   0,   0,   0,\n",
       "           0,   0,   0,   0,   0,   0,   0,   0],\n",
       "        [ 29, 342, 144,  63,  98, 183, 212, 144, 101,  31, 319, 358, 188,\n",
       "           0,   0,   0,   0,   0,   0,   0,   0,   0,   0,   0,   0,   0,\n",
       "           0,   0,   0,   0,   0,   0,   0,   0],\n",
       "        [266,  21,  95, 165, 125,   0,   0,   0,   0,   0,   0,   0,   0,\n",
       "           0,   0,   0,   0,   0,   0,   0,   0,   0,   0,   0,   0,   0,\n",
       "           0,   0,   0,   0,   0,   0,   0,   0],\n",
       "        [ 74,  40,  52, 202, 231, 183, 297, 103, 105,  95, 116, 175, 204,\n",
       "          52,   0,   0,   0,   0,   0,   0,   0,   0,   0,   0,   0,   0,\n",
       "           0,   0,   0,   0,   0,   0,   0,   0],\n",
       "        [ 86, 266, 342,  54, 118,  55, 271, 332,  95, 353, 148, 142,  19,\n",
       "         209, 230,   0,   0,   0,   0,   0,   0,   0,   0,   0,   0,   0,\n",
       "           0,   0,   0,   0,   0,   0,   0,   0],\n",
       "        [ 64, 345, 125,  95,   0,   0,   0,   0,   0,   0,   0,   0,   0,\n",
       "           0,   0,   0,   0,   0,   0,   0,   0,   0,   0,   0,   0,   0,\n",
       "           0,   0,   0,   0,   0,   0,   0,   0],\n",
       "        [ 24, 142, 275, 142,  86,  95,  38,  95, 364, 275, 329, 320,   0,\n",
       "           0,   0,   0,   0,   0,   0,   0,   0,   0,   0,   0,   0,   0,\n",
       "           0,   0,   0,   0,   0,   0,   0,   0],\n",
       "        [ 46, 362, 205, 266, 287, 327,   0,   0,   0,   0,   0,   0,   0,\n",
       "           0,   0,   0,   0,   0,   0,   0,   0,   0,   0,   0,   0,   0,\n",
       "           0,   0,   0,   0,   0,   0,   0,   0],\n",
       "        [193,  74, 125, 191, 152, 302, 291, 369, 379, 206, 186,  71,  19,\n",
       "           0,   0,   0,   0,   0,   0,   0,   0,   0,   0,   0,   0,   0,\n",
       "           0,   0,   0,   0,   0,   0,   0,   0],\n",
       "        [ 62, 263,  99,   0,   0,   0,   0,   0,   0,   0,   0,   0,   0,\n",
       "           0,   0,   0,   0,   0,   0,   0,   0,   0,   0,   0,   0,   0,\n",
       "           0,   0,   0,   0,   0,   0,   0,   0]]), array([[0],\n",
       "        [0],\n",
       "        [0],\n",
       "        [0],\n",
       "        [0],\n",
       "        [0],\n",
       "        [0],\n",
       "        [0],\n",
       "        [0],\n",
       "        [0],\n",
       "        [0],\n",
       "        [0],\n",
       "        [0],\n",
       "        [0],\n",
       "        [0]]), array([1., 1., 1., 1., 1., 1., 1., 1., 1., 1., 1., 1., 1., 1., 1.],\n",
       "       dtype=float32), 0]"
      ]
     },
     "execution_count": 59,
     "metadata": {},
     "output_type": "execute_result"
    }
   ],
   "source": [
    "history.validation_data"
   ]
  },
  {
   "cell_type": "code",
   "execution_count": 60,
   "metadata": {},
   "outputs": [
    {
     "data": {
      "text/plain": [
       "[1,\n",
       " 0,\n",
       " 1,\n",
       " 1,\n",
       " 1,\n",
       " 1,\n",
       " 1,\n",
       " 1,\n",
       " 1,\n",
       " 1,\n",
       " 1,\n",
       " 1,\n",
       " 1,\n",
       " 1,\n",
       " 1,\n",
       " 1,\n",
       " 1,\n",
       " 1,\n",
       " 1,\n",
       " 1,\n",
       " 1,\n",
       " 1,\n",
       " 1,\n",
       " 1,\n",
       " 1,\n",
       " 1,\n",
       " 0,\n",
       " 0,\n",
       " 0,\n",
       " 0,\n",
       " 0,\n",
       " 0,\n",
       " 0,\n",
       " 0,\n",
       " 0,\n",
       " 0,\n",
       " 0,\n",
       " 0,\n",
       " 0,\n",
       " 0,\n",
       " 0,\n",
       " 0,\n",
       " 0,\n",
       " 0,\n",
       " 0,\n",
       " 0,\n",
       " 0,\n",
       " 0,\n",
       " 0,\n",
       " 0]"
      ]
     },
     "execution_count": 60,
     "metadata": {},
     "output_type": "execute_result"
    }
   ],
   "source": [
    "t_q_l"
   ]
  },
  {
   "cell_type": "code",
   "execution_count": null,
   "metadata": {},
   "outputs": [],
   "source": []
  }
 ],
 "metadata": {
  "accelerator": "GPU",
  "colab": {
   "name": "Word Embeddings.ipynb",
   "provenance": []
  },
  "kernelspec": {
   "display_name": "Python 3",
   "language": "python",
   "name": "python3"
  },
  "language_info": {
   "codemirror_mode": {
    "name": "ipython",
    "version": 3
   },
   "file_extension": ".py",
   "mimetype": "text/x-python",
   "name": "python",
   "nbconvert_exporter": "python",
   "pygments_lexer": "ipython3",
   "version": "3.7.3"
  },
  "pycharm": {
   "stem_cell": {
    "cell_type": "raw",
    "metadata": {
     "collapsed": false
    },
    "source": []
   }
  }
 },
 "nbformat": 4,
 "nbformat_minor": 1
}
