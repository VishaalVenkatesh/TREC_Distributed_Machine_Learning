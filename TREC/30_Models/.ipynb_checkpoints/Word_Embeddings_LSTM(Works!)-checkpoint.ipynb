{
 "cells": [
  {
   "cell_type": "code",
   "execution_count": 23,
   "metadata": {
    "colab": {
     "base_uri": "https://localhost:8080/",
     "height": 35
    },
    "colab_type": "code",
    "id": "wAGh7tgOpDj7",
    "outputId": "274b0f6d-655d-44b2-9997-2f653829c26e",
    "pycharm": {
     "is_executing": false
    }
   },
   "outputs": [],
   "source": [
    "import os\n",
    "import pandas as pd\n",
    "import numpy as np\n",
    "from sklearn.linear_model import SGDClassifier\n",
    "from sklearn.pipeline import make_pipeline\n",
    "from sklearn.preprocessing import StandardScaler\n",
    "from sklearn import metrics\n",
    "from sklearn.feature_extraction.text import TfidfVectorizer\n",
    "from nltk.stem import PorterStemmer\n",
    "from nltk.tokenize import word_tokenize\n",
    "from nltk.stem.wordnet import WordNetLemmatizer\n",
    "from nltk.corpus import stopwords\n",
    "import sklearn.model_selection as model_selection\n",
    "from keras.datasets import imdb\n",
    "from keras.preprocessing import sequence\n",
    "from keras.layers import Dense\n",
    "from keras.models import Sequential\n",
    "from keras.layers import Embedding, SimpleRNN\n",
    "import matplotlib.pyplot as plt\n",
    "from sklearn.utils import shuffle\n",
    "from keras.layers import LSTM\n",
    "from keras.layers import Dropout\n",
    "from keras.optimizers import SGD\n",
    "from numpy import newaxis\n",
    "import keras\n",
    "from keras import backend as K\n",
    "from sklearn.metrics import classification_report\n",
    "import tensorflow as tf\n",
    "import io\n",
    "from tensorflow.keras import layers\n",
    "from keras.layers import GlobalAveragePooling1D, Conv1D, Conv2D"
   ]
  },
  {
   "cell_type": "code",
   "execution_count": 24,
   "metadata": {
    "colab": {},
    "colab_type": "code",
    "id": "hWDPPiyfA_hx",
    "pycharm": {
     "is_executing": false
    }
   },
   "outputs": [],
   "source": [
    "from numpy import array\n",
    "from keras.preprocessing.text import one_hot\n",
    "from keras.preprocessing.sequence import pad_sequences\n",
    "from keras.models import Sequential\n",
    "from keras.layers import Dense\n",
    "from keras.layers import Flatten\n",
    "from keras.layers.embeddings import Embedding"
   ]
  },
  {
   "cell_type": "code",
   "execution_count": 25,
   "metadata": {
    "colab": {
     "base_uri": "https://localhost:8080/",
     "height": 139
    },
    "colab_type": "code",
    "id": "0gitmNze_ojF",
    "outputId": "4cfefae2-03ba-4d67-cc78-eb9a69bc1e06",
    "pycharm": {
     "is_executing": false
    }
   },
   "outputs": [
    {
     "name": "stderr",
     "output_type": "stream",
     "text": [
      "[nltk_data] Downloading package punkt to\n",
      "[nltk_data]     C:\\Users\\Vishaal\\AppData\\Roaming\\nltk_data...\n",
      "[nltk_data]   Package punkt is already up-to-date!\n",
      "[nltk_data] Downloading package stopwords to\n",
      "[nltk_data]     C:\\Users\\Vishaal\\AppData\\Roaming\\nltk_data...\n",
      "[nltk_data]   Package stopwords is already up-to-date!\n",
      "[nltk_data] Downloading package wordnet to\n",
      "[nltk_data]     C:\\Users\\Vishaal\\AppData\\Roaming\\nltk_data...\n",
      "[nltk_data]   Package wordnet is already up-to-date!\n"
     ]
    },
    {
     "data": {
      "text/plain": [
       "True"
      ]
     },
     "execution_count": 25,
     "metadata": {},
     "output_type": "execute_result"
    }
   ],
   "source": [
    "import nltk\n",
    "import os\n",
    "import pandas as pd\n",
    "nltk.download('punkt')\n",
    "nltk.download('stopwords')\n",
    "nltk.download('wordnet')"
   ]
  },
  {
   "cell_type": "code",
   "execution_count": 26,
   "metadata": {
    "pycharm": {
     "is_executing": false
    }
   },
   "outputs": [
    {
     "ename": "FileNotFoundError",
     "evalue": "[WinError 3] The system cannot find the path specified: '../10_Data/20_Extracted Tweets/15_2018 Test'",
     "output_type": "error",
     "traceback": [
      "\u001b[1;31m---------------------------------------------------------------------------\u001b[0m",
      "\u001b[1;31mFileNotFoundError\u001b[0m                         Traceback (most recent call last)",
      "\u001b[1;32m<ipython-input-26-ad5103b7d4ee>\u001b[0m in \u001b[0;36m<module>\u001b[1;34m\u001b[0m\n\u001b[1;32m----> 1\u001b[1;33m \u001b[0mos\u001b[0m\u001b[1;33m.\u001b[0m\u001b[0mchdir\u001b[0m\u001b[1;33m(\u001b[0m\u001b[1;34m'../10_Data/20_Extracted Tweets/15_2018 Test'\u001b[0m\u001b[1;33m)\u001b[0m\u001b[1;33m\u001b[0m\u001b[1;33m\u001b[0m\u001b[0m\n\u001b[0m",
      "\u001b[1;31mFileNotFoundError\u001b[0m: [WinError 3] The system cannot find the path specified: '../10_Data/20_Extracted Tweets/15_2018 Test'"
     ]
    }
   ],
   "source": [
    "os.chdir('../10_Data/20_Extracted Tweets/15_2018 Test')"
   ]
  },
  {
   "cell_type": "code",
   "execution_count": 31,
   "metadata": {},
   "outputs": [],
   "source": [
    "os.chdir('../15_2018 Test')"
   ]
  },
  {
   "cell_type": "code",
   "execution_count": 356,
   "metadata": {},
   "outputs": [],
   "source": [
    "df1 = pd.read_csv('Earthquake_TREC_2018_test.csv')\n",
    "df2 = pd.read_csv('Floods_TREC_2018_test.csv')\n",
    "#df3 = pd.read_csv('Earthquake_TREC_2018_train.csv')\n",
    "#df4 = pd.read_csv('flood_TREC_2018_train.csv')"
   ]
  },
  {
   "cell_type": "code",
   "execution_count": 117,
   "metadata": {},
   "outputs": [
    {
     "data": {
      "text/html": [
       "<div>\n",
       "<style scoped>\n",
       "    .dataframe tbody tr th:only-of-type {\n",
       "        vertical-align: middle;\n",
       "    }\n",
       "\n",
       "    .dataframe tbody tr th {\n",
       "        vertical-align: top;\n",
       "    }\n",
       "\n",
       "    .dataframe thead th {\n",
       "        text-align: right;\n",
       "    }\n",
       "</style>\n",
       "<table border=\"1\" class=\"dataframe\">\n",
       "  <thead>\n",
       "    <tr style=\"text-align: right;\">\n",
       "      <th></th>\n",
       "      <th>Unnamed: 0</th>\n",
       "      <th>Unnamed: 0.1</th>\n",
       "      <th>ID</th>\n",
       "      <th>Tweet</th>\n",
       "      <th>Event</th>\n",
       "      <th>Retweet_Count</th>\n",
       "      <th>Follower_Count</th>\n",
       "      <th>Source</th>\n",
       "      <th>User_Created_at</th>\n",
       "      <th>Tweet_Created_at</th>\n",
       "      <th>User_Language</th>\n",
       "      <th>User_Screen_Name</th>\n",
       "      <th>User_Location</th>\n",
       "      <th>Event_Decrption</th>\n",
       "      <th>Categories</th>\n",
       "      <th>Priority</th>\n",
       "    </tr>\n",
       "  </thead>\n",
       "  <tbody>\n",
       "    <tr>\n",
       "      <th>0</th>\n",
       "      <td>510</td>\n",
       "      <td>510</td>\n",
       "      <td>378011169883037697</td>\n",
       "      <td>RT @dlfluegge: Crazy Flooding in Boulder, Colo...</td>\n",
       "      <td>floodColorado2013</td>\n",
       "      <td>10</td>\n",
       "      <td>376</td>\n",
       "      <td>&lt;a href=\"http://twitter.com\" rel=\"nofollow\"&gt;Tw...</td>\n",
       "      <td>2009-07-26 18:15:13</td>\n",
       "      <td>2013-09-12 04:24:20</td>\n",
       "      <td>en</td>\n",
       "      <td>jewmike</td>\n",
       "      <td>Colorado</td>\n",
       "      <td>The 2013 Colorado floods was a natural disaste...</td>\n",
       "      <td>['MultimediaShare']</td>\n",
       "      <td>High</td>\n",
       "    </tr>\n",
       "    <tr>\n",
       "      <th>1</th>\n",
       "      <td>511</td>\n",
       "      <td>511</td>\n",
       "      <td>378020179214491649</td>\n",
       "      <td>Here's the #boulderflood video that's circulat...</td>\n",
       "      <td>floodColorado2013</td>\n",
       "      <td>3</td>\n",
       "      <td>211</td>\n",
       "      <td>&lt;a href=\"http://twitter.com/download/iphone\" r...</td>\n",
       "      <td>2010-05-16 21:17:24</td>\n",
       "      <td>2013-09-12 05:00:08</td>\n",
       "      <td>en</td>\n",
       "      <td>KristinsDreams</td>\n",
       "      <td>Denver, CO</td>\n",
       "      <td>The 2013 Colorado floods was a natural disaste...</td>\n",
       "      <td>['MultimediaShare']</td>\n",
       "      <td>High</td>\n",
       "    </tr>\n",
       "    <tr>\n",
       "      <th>2</th>\n",
       "      <td>512</td>\n",
       "      <td>512</td>\n",
       "      <td>378026101588496385</td>\n",
       "      <td>RT @passantino: Video: Severe flooding hits ne...</td>\n",
       "      <td>floodColorado2013</td>\n",
       "      <td>3</td>\n",
       "      <td>621</td>\n",
       "      <td>&lt;a href=\"http://twitter.com\" rel=\"nofollow\"&gt;Tw...</td>\n",
       "      <td>2011-02-02 23:20:53</td>\n",
       "      <td>2013-09-12 05:23:40</td>\n",
       "      <td>en</td>\n",
       "      <td>mindfulnurse</td>\n",
       "      <td>Boulder, Colorado</td>\n",
       "      <td>The 2013 Colorado floods was a natural disaste...</td>\n",
       "      <td>['MultimediaShare']</td>\n",
       "      <td>High</td>\n",
       "    </tr>\n",
       "    <tr>\n",
       "      <th>3</th>\n",
       "      <td>513</td>\n",
       "      <td>513</td>\n",
       "      <td>378029784204206080</td>\n",
       "      <td>Crazy Flooding in Boulder, Colorado http://t.c...</td>\n",
       "      <td>floodColorado2013</td>\n",
       "      <td>0</td>\n",
       "      <td>232</td>\n",
       "      <td>&lt;a href=\"http://www.apple.com\" rel=\"nofollow\"&gt;...</td>\n",
       "      <td>2010-04-06 03:59:52</td>\n",
       "      <td>2013-09-12 05:38:18</td>\n",
       "      <td>en</td>\n",
       "      <td>JoshWorldPeace</td>\n",
       "      <td>NaN</td>\n",
       "      <td>The 2013 Colorado floods was a natural disaste...</td>\n",
       "      <td>['MultimediaShare']</td>\n",
       "      <td>High</td>\n",
       "    </tr>\n",
       "    <tr>\n",
       "      <th>4</th>\n",
       "      <td>514</td>\n",
       "      <td>514</td>\n",
       "      <td>378038458024865792</td>\n",
       "      <td>Thoughts and prayers out to those in Boulder w...</td>\n",
       "      <td>floodColorado2013</td>\n",
       "      <td>5</td>\n",
       "      <td>188</td>\n",
       "      <td>&lt;a href=\"http://twitter.com/#!/download/ipad\" ...</td>\n",
       "      <td>2010-02-13 05:31:57</td>\n",
       "      <td>2013-09-12 06:12:46</td>\n",
       "      <td>en</td>\n",
       "      <td>jimatgoleaddog</td>\n",
       "      <td>Lyme &amp; Randolph, NH</td>\n",
       "      <td>The 2013 Colorado floods was a natural disaste...</td>\n",
       "      <td>['Sentiment']</td>\n",
       "      <td>Low</td>\n",
       "    </tr>\n",
       "  </tbody>\n",
       "</table>\n",
       "</div>"
      ],
      "text/plain": [
       "   Unnamed: 0  Unnamed: 0.1                  ID  \\\n",
       "0         510           510  378011169883037697   \n",
       "1         511           511  378020179214491649   \n",
       "2         512           512  378026101588496385   \n",
       "3         513           513  378029784204206080   \n",
       "4         514           514  378038458024865792   \n",
       "\n",
       "                                               Tweet              Event  \\\n",
       "0  RT @dlfluegge: Crazy Flooding in Boulder, Colo...  floodColorado2013   \n",
       "1  Here's the #boulderflood video that's circulat...  floodColorado2013   \n",
       "2  RT @passantino: Video: Severe flooding hits ne...  floodColorado2013   \n",
       "3  Crazy Flooding in Boulder, Colorado http://t.c...  floodColorado2013   \n",
       "4  Thoughts and prayers out to those in Boulder w...  floodColorado2013   \n",
       "\n",
       "   Retweet_Count  Follower_Count  \\\n",
       "0             10             376   \n",
       "1              3             211   \n",
       "2              3             621   \n",
       "3              0             232   \n",
       "4              5             188   \n",
       "\n",
       "                                              Source      User_Created_at  \\\n",
       "0  <a href=\"http://twitter.com\" rel=\"nofollow\">Tw...  2009-07-26 18:15:13   \n",
       "1  <a href=\"http://twitter.com/download/iphone\" r...  2010-05-16 21:17:24   \n",
       "2  <a href=\"http://twitter.com\" rel=\"nofollow\">Tw...  2011-02-02 23:20:53   \n",
       "3  <a href=\"http://www.apple.com\" rel=\"nofollow\">...  2010-04-06 03:59:52   \n",
       "4  <a href=\"http://twitter.com/#!/download/ipad\" ...  2010-02-13 05:31:57   \n",
       "\n",
       "      Tweet_Created_at User_Language User_Screen_Name        User_Location  \\\n",
       "0  2013-09-12 04:24:20            en          jewmike             Colorado   \n",
       "1  2013-09-12 05:00:08            en   KristinsDreams           Denver, CO   \n",
       "2  2013-09-12 05:23:40            en     mindfulnurse    Boulder, Colorado   \n",
       "3  2013-09-12 05:38:18            en   JoshWorldPeace                  NaN   \n",
       "4  2013-09-12 06:12:46            en   jimatgoleaddog  Lyme & Randolph, NH   \n",
       "\n",
       "                                     Event_Decrption           Categories  \\\n",
       "0  The 2013 Colorado floods was a natural disaste...  ['MultimediaShare']   \n",
       "1  The 2013 Colorado floods was a natural disaste...  ['MultimediaShare']   \n",
       "2  The 2013 Colorado floods was a natural disaste...  ['MultimediaShare']   \n",
       "3  The 2013 Colorado floods was a natural disaste...  ['MultimediaShare']   \n",
       "4  The 2013 Colorado floods was a natural disaste...        ['Sentiment']   \n",
       "\n",
       "  Priority  \n",
       "0     High  \n",
       "1     High  \n",
       "2     High  \n",
       "3     High  \n",
       "4      Low  "
      ]
     },
     "execution_count": 117,
     "metadata": {},
     "output_type": "execute_result"
    }
   ],
   "source": [
    "df4.head()"
   ]
  },
  {
   "cell_type": "code",
   "execution_count": 357,
   "metadata": {
    "colab": {},
    "colab_type": "code",
    "id": "T4iywK3pAJvM",
    "pycharm": {
     "is_executing": false
    }
   },
   "outputs": [],
   "source": [
    "'''\n",
    "    Combining all into one big data frame\n",
    "'''\n",
    "df = pd.DataFrame()\n",
    "df['Tweet'] = pd.concat([df1['Tweet'] , df2['Tweet'], df3['Tweet'], df4['Tweet']])\n",
    "df['Priority'] = pd.concat([df1['Priority'] , df2['Priority'], df3['Priority'], df4['Priority']])\n"
   ]
  },
  {
   "cell_type": "code",
   "execution_count": 358,
   "metadata": {},
   "outputs": [
    {
     "data": {
      "text/plain": [
       "(55, 2)"
      ]
     },
     "execution_count": 358,
     "metadata": {},
     "output_type": "execute_result"
    }
   ],
   "source": [
    "df[df['Priority']=='Critical'].shape"
   ]
  },
  {
   "cell_type": "code",
   "execution_count": 523,
   "metadata": {},
   "outputs": [],
   "source": [
    "df_low = df[df['Priority'] == 'Low'].sample(55)\n",
    "df_crit = df[df['Priority'] == 'Critical']\n",
    "df_c = pd.concat([df_low, df_crit])\n",
    "df_c = shuffle(df_c)"
   ]
  },
  {
   "cell_type": "code",
   "execution_count": 319,
   "metadata": {},
   "outputs": [],
   "source": [
    "df_c = pd.read_csv('Ultimate_Dataframe_TREC_2018_Test.csv')\n",
    "df_c = shuffle(df_c)"
   ]
  },
  {
   "cell_type": "code",
   "execution_count": 485,
   "metadata": {
    "colab": {},
    "colab_type": "code",
    "id": "rh3quY1lAbOv",
    "pycharm": {
     "is_executing": false
    }
   },
   "outputs": [],
   "source": [
    "'''\n",
    "Creating a categorical variable to keep label critical tweets as 1 and 0 otherwise\n",
    "'''\n",
    "def to_categorical(df_c):\n",
    "    t = []\n",
    "    for element in df_c['Priority']:\n",
    "        if element =='Critical':\n",
    "            t.append(1)\n",
    "        else:\n",
    "            t.append(0)\n",
    "        \n",
    "    t = np.array(t)\n",
    "    df_c['Target'] = t\n",
    "\n",
    "    df_c['Target'] = df_c['Target'].astype('category')\n",
    "    t = df_c['Target']\n",
    "    del df_c['Target']\n",
    "    return (t)\n",
    "\n",
    "t = to_categorical(df_c)"
   ]
  },
  {
   "cell_type": "code",
   "execution_count": 486,
   "metadata": {
    "colab": {
     "base_uri": "https://localhost:8080/",
     "height": 35
    },
    "colab_type": "code",
    "id": "Qz01zcMJA45Z",
    "outputId": "354c5334-502a-4be0-f773-1fcdbaa51cc2",
    "pycharm": {
     "is_executing": false
    }
   },
   "outputs": [],
   "source": [
    "'''\n",
    "    Creating a function to input lemmatized text to possibly another function that outputs the tfidf in a csv format.\n",
    "    We could also simply use the output from this funtion in an tfidf format (no csv) and train a model.\n",
    "'''\n",
    "def preProcess(df):\n",
    "    df['Tweet'] = df['Tweet'].astype('str')\n",
    "    \n",
    "    token_array = []\n",
    "    for tweet in df['Tweet']:\n",
    "        token_tweet = word_tokenize(tweet)\n",
    "        token_array.append(token_tweet)\n",
    "        \n",
    "    stop_words=set(stopwords.words(\"english\"))\n",
    "    filtered_token_array=[]\n",
    "    for tweet in token_array:\n",
    "        filtered_tweet = []\n",
    "        for word in tweet:\n",
    "                if word not in stop_words:\n",
    "                    filtered_tweet.append(word)\n",
    "        filtered_token_array.append(filtered_tweet)\n",
    "        \n",
    "    lem = WordNetLemmatizer()\n",
    "    stem = PorterStemmer()\n",
    "\n",
    "    lemmatized_array=[]\n",
    "    for tweet in filtered_token_array:\n",
    "        lemmatized_tweet = []\n",
    "        for word in tweet:\n",
    "            lemmatized_tweet.append(lem.lemmatize(word,'v'))\n",
    "        lemmatized_array.append(lemmatized_tweet)\n",
    "    \n",
    "    lemmatized_array_join = []\n",
    "    for element in lemmatized_array:\n",
    "        lemmatized_array_join.append(' '.join(element))\n",
    "        \n",
    "    return (lemmatized_array_join)\n"
   ]
  },
  {
   "cell_type": "code",
   "execution_count": 487,
   "metadata": {
    "colab": {},
    "colab_type": "code",
    "id": "iQn3lpACA6dG",
    "pycharm": {
     "is_executing": false
    }
   },
   "outputs": [],
   "source": [
    "'''\n",
    "  We tokenize the lemmatized tweets to then do word embeddings\n",
    "'''\n",
    "l = preProcess(df_c)\n",
    "\n",
    "all_words = []\n",
    "\n",
    "for tweet in l:\n",
    "    tokenize_word = word_tokenize(tweet)\n",
    "    for word in tokenize_word:\n",
    "        all_words.append(word)\n",
    "'''\n",
    "    Getting the unique words out\n",
    "'''\n",
    "unique_words = set(all_words)"
   ]
  },
  {
   "cell_type": "code",
   "execution_count": 488,
   "metadata": {
    "pycharm": {
     "is_executing": false
    }
   },
   "outputs": [],
   "source": [
    "'''\n",
    "    Getting embedded sentences\n",
    "'''\n",
    "vocab_length = len(unique_words)\n",
    "\n",
    "embedded_sentences = [one_hot(tweet, vocab_length) for tweet in l]"
   ]
  },
  {
   "cell_type": "code",
   "execution_count": 489,
   "metadata": {
    "pycharm": {
     "is_executing": false
    }
   },
   "outputs": [],
   "source": [
    "'''\n",
    "    Making the size of all embeddings equal to the longest one\n",
    "'''\n",
    "word_count = lambda sentence: len(word_tokenize(sentence))\n",
    "longest_sentence = max(l, key=word_count)\n",
    "length_long_sentence = len(word_tokenize(longest_sentence))\n",
    "padded_sentences = pad_sequences(embedded_sentences, length_long_sentence, padding='post')"
   ]
  },
  {
   "cell_type": "code",
   "execution_count": 490,
   "metadata": {},
   "outputs": [
    {
     "data": {
      "text/plain": [
       "(110, 35)"
      ]
     },
     "execution_count": 490,
     "metadata": {},
     "output_type": "execute_result"
    }
   ],
   "source": [
    "padded_sentences.shape"
   ]
  },
  {
   "cell_type": "code",
   "execution_count": 491,
   "metadata": {},
   "outputs": [
    {
     "data": {
      "text/plain": [
       "921"
      ]
     },
     "execution_count": 491,
     "metadata": {},
     "output_type": "execute_result"
    }
   ],
   "source": [
    "vocab_length"
   ]
  },
  {
   "cell_type": "code",
   "execution_count": 524,
   "metadata": {
    "scrolled": true
   },
   "outputs": [
    {
     "name": "stderr",
     "output_type": "stream",
     "text": [
      "C:\\Users\\Vishaal\\Anaconda3_Mod\\lib\\site-packages\\tensorflow_core\\python\\framework\\indexed_slices.py:433: UserWarning: Converting sparse IndexedSlices to a dense Tensor of unknown shape. This may consume a large amount of memory.\n",
      "  \"Converting sparse IndexedSlices to a dense Tensor of unknown shape. \"\n"
     ]
    },
    {
     "name": "stdout",
     "output_type": "stream",
     "text": [
      "Train on 77 samples, validate on 33 samples\n",
      "Epoch 1/15\n",
      "77/77 [==============================] - 1s 10ms/step - loss: 0.6917 - acc: 0.5195 - precision_96: 0.5455 - recall_96: 0.1579 - auc_87: 0.5735 - val_loss: 0.6906 - val_acc: 0.5152 - val_precision_96: 1.0000 - val_recall_96: 0.0588 - val_auc_87: 0.8143\n",
      "Epoch 2/15\n",
      "77/77 [==============================] - 0s 1ms/step - loss: 0.6888 - acc: 0.5455 - precision_96: 1.0000 - recall_96: 0.0789 - auc_87: 0.7156 - val_loss: 0.6895 - val_acc: 0.5152 - val_precision_96: 1.0000 - val_recall_96: 0.0588 - val_auc_87: 0.7169\n",
      "Epoch 3/15\n",
      "77/77 [==============================] - 0s 1ms/step - loss: 0.6858 - acc: 0.5455 - precision_96: 1.0000 - recall_96: 0.0789 - auc_87: 0.7733 - val_loss: 0.6882 - val_acc: 0.5152 - val_precision_96: 1.0000 - val_recall_96: 0.0588 - val_auc_87: 0.7960\n",
      "Epoch 4/15\n",
      "77/77 [==============================] - 0s 1ms/step - loss: 0.6837 - acc: 0.5714 - precision_96: 0.8571 - recall_96: 0.1579 - auc_87: 0.7831 - val_loss: 0.6864 - val_acc: 0.5152 - val_precision_96: 1.0000 - val_recall_96: 0.0588 - val_auc_87: 0.7923\n",
      "Epoch 5/15\n",
      "77/77 [==============================] - 0s 958us/step - loss: 0.6777 - acc: 0.6494 - precision_96: 1.0000 - recall_96: 0.2895 - auc_87: 0.8735 - val_loss: 0.6838 - val_acc: 0.5152 - val_precision_96: 1.0000 - val_recall_96: 0.0588 - val_auc_87: 0.8015\n",
      "Epoch 6/15\n",
      "77/77 [==============================] - 0s 984us/step - loss: 0.6740 - acc: 0.6883 - precision_96: 0.8889 - recall_96: 0.4211 - auc_87: 0.8748 - val_loss: 0.6804 - val_acc: 0.5152 - val_precision_96: 1.0000 - val_recall_96: 0.0588 - val_auc_87: 0.8143\n",
      "Epoch 7/15\n",
      "77/77 [==============================] - 0s 1ms/step - loss: 0.6667 - acc: 0.6623 - precision_96: 1.0000 - recall_96: 0.3158 - auc_87: 0.8701 - val_loss: 0.6755 - val_acc: 0.5152 - val_precision_96: 1.0000 - val_recall_96: 0.0588 - val_auc_87: 0.8309\n",
      "Epoch 8/15\n",
      "77/77 [==============================] - 0s 920us/step - loss: 0.6485 - acc: 0.8182 - precision_96: 1.0000 - recall_96: 0.6316 - auc_87: 0.9170 - val_loss: 0.6673 - val_acc: 0.5152 - val_precision_96: 1.0000 - val_recall_96: 0.0588 - val_auc_87: 0.8235\n",
      "Epoch 9/15\n",
      "77/77 [==============================] - 0s 933us/step - loss: 0.6260 - acc: 0.8182 - precision_96: 1.0000 - recall_96: 0.6316 - auc_87: 0.9383 - val_loss: 0.6541 - val_acc: 0.5455 - val_precision_96: 1.0000 - val_recall_96: 0.1176 - val_auc_87: 0.8290\n",
      "Epoch 10/15\n",
      "77/77 [==============================] - 0s 958us/step - loss: 0.5918 - acc: 0.8831 - precision_96: 1.0000 - recall_96: 0.7632 - auc_87: 0.9615 - val_loss: 0.6373 - val_acc: 0.5455 - val_precision_96: 1.0000 - val_recall_96: 0.1176 - val_auc_87: 0.8438\n",
      "Epoch 11/15\n",
      "77/77 [==============================] - 0s 1ms/step - loss: 0.5381 - acc: 0.8961 - precision_96: 1.0000 - recall_96: 0.7895 - auc_87: 0.9578 - val_loss: 0.6022 - val_acc: 0.6667 - val_precision_96: 1.0000 - val_recall_96: 0.3529 - val_auc_87: 0.8713\n",
      "Epoch 12/15\n",
      "77/77 [==============================] - 0s 946us/step - loss: 0.4591 - acc: 0.9221 - precision_96: 1.0000 - recall_96: 0.8421 - auc_87: 0.9774 - val_loss: 0.5650 - val_acc: 0.7576 - val_precision_96: 1.0000 - val_recall_96: 0.5294 - val_auc_87: 0.8897\n",
      "Epoch 13/15\n",
      "77/77 [==============================] - 0s 907us/step - loss: 0.3858 - acc: 0.9481 - precision_96: 1.0000 - recall_96: 0.8947 - auc_87: 0.9835 - val_loss: 0.5060 - val_acc: 0.7879 - val_precision_96: 0.8571 - val_recall_96: 0.7059 - val_auc_87: 0.8989\n",
      "Epoch 14/15\n",
      "77/77 [==============================] - 0s 920us/step - loss: 0.3177 - acc: 0.9740 - precision_96: 1.0000 - recall_96: 0.9474 - auc_87: 0.9902 - val_loss: 0.4717 - val_acc: 0.7879 - val_precision_96: 0.8571 - val_recall_96: 0.7059 - val_auc_87: 0.9007\n",
      "Epoch 15/15\n",
      "77/77 [==============================] - 0s 881us/step - loss: 0.2589 - acc: 0.9740 - precision_96: 0.9737 - recall_96: 0.9737 - auc_87: 0.9973 - val_loss: 0.4455 - val_acc: 0.8182 - val_precision_96: 0.8667 - val_recall_96: 0.7647 - val_auc_87: 0.9044\n"
     ]
    }
   ],
   "source": [
    "iterations = 1\n",
    "\n",
    "for i in range (iterations):\n",
    "   \n",
    "    '''\n",
    "        Sample requsite tweets to balance class\n",
    "    '''\n",
    "    #df_low = df[df['Priority'] == 'High'].sample(55)\n",
    "    #df_crit = df[df['Priority'] == 'Critical']\n",
    "    #df_c = pd.concat([df_low, df_crit])\n",
    "    #df_c = shuffle(df_c)\n",
    "    '''\n",
    "        Categorize label as 0 or 1 (1 comprises of the + class aka critical tweets)\n",
    "    '''\n",
    "    t = to_categorical(df_c)\n",
    "\n",
    "    '''\n",
    "      We tokenize the lemmatized tweets to then do word embeddings\n",
    "    '''\n",
    "    l = preProcess(df_c)\n",
    "    all_words = []\n",
    "    for tweet in l:\n",
    "        tokenize_word = word_tokenize(tweet)\n",
    "        for word in tokenize_word:\n",
    "            all_words.append(word)\n",
    "    '''\n",
    "        Getting the unique words out\n",
    "    '''\n",
    "    unique_words = set(all_words)\n",
    "\n",
    "    '''\n",
    "        Getting embedded sentences\n",
    "    '''\n",
    "    vocab_length = len(unique_words)\n",
    "    embedded_sentences = [one_hot(tweet, vocab_length) for tweet in l]\n",
    "\n",
    "    '''\n",
    "        Making the size of all embeddings equal to the longest one\n",
    "    '''\n",
    "    word_count = lambda sentence: len(word_tokenize(sentence))\n",
    "    longest_sentence = max(l, key=word_count)\n",
    "    length_long_sentence = len(word_tokenize(longest_sentence))\n",
    "    padded_sentences = pad_sequences(embedded_sentences, length_long_sentence, padding='post')\n",
    "\n",
    "    '''\n",
    "        Model Paramters\n",
    "    '''\n",
    "    model = keras.Sequential()\n",
    "    model.add(Embedding(vocab_length, 16, input_length=padded_sentences.shape[1]))\n",
    "    model.add(LSTM(16, input_shape = (padded_sentences.shape[1], 1), dropout=0.4, return_sequences=True))\n",
    "    model.add(GlobalAveragePooling1D())\n",
    "    #model.add(Dense(8, activation = 'relu', input_shape = (padded_sentences.shape[1],)))\n",
    "    #model.add(Dropout(0.5))\n",
    "    model.add(Dense(1, activation = 'sigmoid'))\n",
    "\n",
    "    '''\n",
    "        Compile and fit model\n",
    "    '''\n",
    "    model.compile(optimizer='rmsprop',\n",
    "                  loss='binary_crossentropy',\n",
    "                  metrics=['acc', keras.metrics.Precision(), keras.metrics.Recall(), keras.metrics.AUC()])\n",
    "\n",
    "    history = model.fit(padded_sentences, t, batch_size=16, epochs=15, validation_split=0.3)"
   ]
  },
  {
   "cell_type": "code",
   "execution_count": 527,
   "metadata": {},
   "outputs": [
    {
     "name": "stdout",
     "output_type": "stream",
     "text": [
      "Model: \"sequential_112\"\n",
      "_________________________________________________________________\n",
      "Layer (type)                 Output Shape              Param #   \n",
      "=================================================================\n",
      "embedding_112 (Embedding)    (None, 34, 16)            15344     \n",
      "_________________________________________________________________\n",
      "lstm_118 (LSTM)              (None, 34, 16)            2112      \n",
      "_________________________________________________________________\n",
      "global_average_pooling1d_89  (None, 16)                0         \n",
      "_________________________________________________________________\n",
      "dense_133 (Dense)            (None, 1)                 17        \n",
      "=================================================================\n",
      "Total params: 17,473\n",
      "Trainable params: 17,473\n",
      "Non-trainable params: 0\n",
      "_________________________________________________________________\n"
     ]
    }
   ],
   "source": [
    "model.summary()"
   ]
  },
  {
   "cell_type": "markdown",
   "metadata": {},
   "source": []
  },
  {
   "cell_type": "code",
   "execution_count": 525,
   "metadata": {
    "scrolled": false
   },
   "outputs": [
    {
     "data": {
      "text/plain": [
       "<matplotlib.legend.Legend at 0x1c3824ab1d0>"
      ]
     },
     "execution_count": 525,
     "metadata": {},
     "output_type": "execute_result"
    },
    {
     "data": {
      "image/png": "[encoded data removed]",
      "text/plain": [
       "<Figure size 432x288 with 1 Axes>"
      ]
     },
     "metadata": {
      "needs_background": "light"
     },
     "output_type": "display_data"
    }
   ],
   "source": [
    "'''\n",
    "    Plotting accuracy VS epoch for training and validations\n",
    "'''\n",
    "acc = history.history['acc']\n",
    "val_acc = history.history['val_acc']\n",
    "loss = history.history['loss']\n",
    "val_loss = history.history['val_loss']\n",
    "epochs = range(1, len(acc) + 1)\n",
    "plt.plot(epochs, acc, 'bo', label='Training acc')\n",
    "plt.plot(epochs, val_acc, 'b', label='Validation acc')\n",
    "plt.title('Training and validation accuracy')\n",
    "plt.legend()"
   ]
  },
  {
   "cell_type": "code",
   "execution_count": 526,
   "metadata": {},
   "outputs": [
    {
     "data": {
      "text/plain": [
       "<matplotlib.legend.Legend at 0x1c3f0e38588>"
      ]
     },
     "execution_count": 526,
     "metadata": {},
     "output_type": "execute_result"
    },
    {
     "data": {
      "image/png": "[encoded data removed]",
      "text/plain": [
       "<Figure size 432x288 with 1 Axes>"
      ]
     },
     "metadata": {
      "needs_background": "light"
     },
     "output_type": "display_data"
    }
   ],
   "source": [
    "\n",
    "'''\n",
    "    Plotting loss VS epoch for training and validations\n",
    "'''\n",
    "plt.plot(epochs, loss, 'bo', label='Training loss')\n",
    "plt.plot(epochs, val_loss, 'b', label='Validation loss')\n",
    "plt.title('Training and validation loss')\n",
    "plt.legend()"
   ]
  },
  {
   "cell_type": "code",
   "execution_count": 650,
   "metadata": {
    "pycharm": {
     "is_executing": false,
     "name": "#%%\n"
    }
   },
   "outputs": [
    {
     "name": "stdout",
     "output_type": "stream",
     "text": [
      "Mean Precision =  0.7223\n",
      "Stdev Precision =  0.23877699033012187\n",
      "Mean Recall =  0.79645\n",
      "Stdev Recall =  0.3232536095871338\n",
      "Mean ROC AUC =  0.82815\n",
      "Stdev ROC AUC =  0.04027536467867174\n"
     ]
    }
   ],
   "source": [
    "import statistics\n",
    "precision = [0.9231, 0.5625, 0.4545, 1, 0.5455, 0.5556, 0.75, 1, 1, 0.4318]\n",
    "recall = [1, 0.3, 0.4848, 1, 1, 1, 0.2273,1, 1, 0.9524]\n",
    "AUC = [0.7821, 0.8427, 0.8946, 0.8002, 0.8383, 0.8453,0.8874, 0.8, 0.8062, 0.7847 ]\n",
    "print('Mean Precision = ', statistics.mean(precision))\n",
    "print('Stdev Precision = ', statistics.stdev(precision))\n",
    "print('Mean Recall = ', statistics.mean(recall))\n",
    "print('Stdev Recall = ', statistics.stdev(recall))\n",
    "print('Mean ROC AUC = ', statistics.mean(AUC))\n",
    "print('Stdev ROC AUC = ', statistics.stdev(AUC))"
   ]
  },
  {
   "cell_type": "code",
   "execution_count": 315,
   "metadata": {
    "pycharm": {
     "name": "#%%\n"
    }
   },
   "outputs": [
    {
     "data": {
      "text/plain": [
       "33"
      ]
     },
     "execution_count": 315,
     "metadata": {},
     "output_type": "execute_result"
    }
   ],
   "source": [
    "y_pred = model.predict(history.validation_data[0])\n",
    "len(history.validation_data[1])"
   ]
  },
  {
   "cell_type": "code",
   "execution_count": 317,
   "metadata": {},
   "outputs": [
    {
     "data": {
      "text/plain": [
       "34"
      ]
     },
     "execution_count": 317,
     "metadata": {},
     "output_type": "execute_result"
    }
   ],
   "source": [
    "len(padded_sentences[0])"
   ]
  },
  {
   "cell_type": "code",
   "execution_count": null,
   "metadata": {},
   "outputs": [],
   "source": [
    "#leet code, RL, FC, Ian, Coursera..."
   ]
  }
 ],
 "metadata": {
  "accelerator": "GPU",
  "colab": {
   "name": "Word Embeddings.ipynb",
   "provenance": []
  },
  "kernelspec": {
   "display_name": "Python 3",
   "language": "python",
   "name": "python3"
  },
  "language_info": {
   "codemirror_mode": {
    "name": "ipython",
    "version": 3
   },
   "file_extension": ".py",
   "mimetype": "text/x-python",
   "name": "python",
   "nbconvert_exporter": "python",
   "pygments_lexer": "ipython3",
   "version": "3.7.3"
  },
  "pycharm": {
   "stem_cell": {
    "cell_type": "raw",
    "metadata": {
     "collapsed": false
    },
    "source": []
   }
  }
 },
 "nbformat": 4,
 "nbformat_minor": 1
}
