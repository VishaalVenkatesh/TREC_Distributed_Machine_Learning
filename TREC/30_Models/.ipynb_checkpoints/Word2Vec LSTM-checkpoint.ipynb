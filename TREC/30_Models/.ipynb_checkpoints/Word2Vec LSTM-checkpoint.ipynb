{
 "cells": [
  {
   "cell_type": "code",
   "execution_count": 485,
   "metadata": {
    "pycharm": {
     "is_executing": false
    }
   },
   "outputs": [],
   "source": [
    "import os\n",
    "import pandas as pd\n",
    "import numpy as np\n",
    "from nltk.tokenize import word_tokenize\n",
    "from nltk.stem.wordnet import WordNetLemmatizer\n",
    "from nltk.corpus import stopwords\n",
    "import string\n",
    "import re\n",
    "from gensim.models import Word2Vec\n",
    "from gensim.models.phrases import Phrases, Phraser\n",
    "import logging\n",
    "logging.basicConfig(format=\"%(levelname)s - %(asctime)s: %(message)s\", datefmt= '%H:%M:%S', level=logging.INFO)\n",
    "from nltk import bigrams\n",
    "from sklearn.model_selection import train_test_split\n",
    "from sklearn.linear_model import SGDClassifier\n",
    "from sklearn.calibration import CalibratedClassifierCV\n",
    "from keras.layers import Dense\n",
    "from keras.models import Sequential\n",
    "from keras.layers import Embedding, SimpleRNN\n",
    "from keras.layers import LSTM, GlobalMaxPooling1D\n",
    "from keras.initializers import Constant\n",
    "import keras.metrics\n",
    "from numpy import newaxis\n",
    "from keras.preprocessing.text import Tokenizer\n",
    "from sklearn import metrics"
   ]
  },
  {
   "cell_type": "markdown",
   "metadata": {},
   "source": [
    "## Reading in the Data:\n",
    "\n",
    "We have used all the tweets from 2018 (train and test) to create the embeddings. However, balanced datasets have been used to train and test the model. The following code reads in all the data. Note, we are only considering earthquakes and floods in the following sections and we will build separate models for each earthquakes and floods. "
   ]
  },
  {
   "cell_type": "code",
   "execution_count": 2,
   "metadata": {
    "pycharm": {
     "is_executing": false,
     "name": "#%%\n"
    }
   },
   "outputs": [],
   "source": [
    "os.chdir('../10_Data/30_Balanced Tweets (Crit = High = Medium = Low)/10_2018 Train')"
   ]
  },
  {
   "cell_type": "code",
   "execution_count": 3,
   "metadata": {
    "pycharm": {
     "is_executing": false
    }
   },
   "outputs": [],
   "source": [
    "df_e1 = pd.read_csv('earthquake_TREC_2018_train_BALANCED.csv')\n",
    "df_f1 = pd.read_csv('flood_TREC_2018_train_BALANCED.csv')"
   ]
  },
  {
   "cell_type": "code",
   "execution_count": 4,
   "metadata": {
    "pycharm": {
     "is_executing": false
    }
   },
   "outputs": [],
   "source": [
    "os.chdir('../15_2018 Test')"
   ]
  },
  {
   "cell_type": "code",
   "execution_count": 5,
   "metadata": {
    "pycharm": {
     "is_executing": false
    }
   },
   "outputs": [],
   "source": [
    "df_e2 = pd.read_csv('earthquake_TREC_2018_test_BALANCED.csv')\n",
    "df_f2 = pd.read_csv('flood_TREC_2018_test_BALANCED.csv')"
   ]
  },
  {
   "cell_type": "code",
   "execution_count": 6,
   "metadata": {
    "pycharm": {
     "is_executing": false
    }
   },
   "outputs": [],
   "source": [
    "os.chdir('../../20_Extracted Tweets/10_2018 Train')"
   ]
  },
  {
   "cell_type": "code",
   "execution_count": 7,
   "metadata": {
    "pycharm": {
     "is_executing": false
    }
   },
   "outputs": [],
   "source": [
    "df_e1_embed = pd.read_csv('Earthquake_TREC_2018_train.csv')\n",
    "df_f1_embed = pd.read_csv('flood_TREC_2018_train.csv')"
   ]
  },
  {
   "cell_type": "code",
   "execution_count": 8,
   "metadata": {
    "pycharm": {
     "is_executing": false
    }
   },
   "outputs": [],
   "source": [
    "os.chdir('../15_2018 Test')"
   ]
  },
  {
   "cell_type": "code",
   "execution_count": 9,
   "metadata": {
    "pycharm": {
     "is_executing": false
    }
   },
   "outputs": [],
   "source": [
    "df_e2_embed = pd.read_csv('Earthquake_TREC_2018_test.csv')\n",
    "df_f2_embed = pd.read_csv('Floods_TREC_2018_test.csv')"
   ]
  },
  {
   "cell_type": "markdown",
   "metadata": {},
   "source": [
    "## Combining dataframes\n",
    "We are now combine earthquake tweets into one df and flood tweets into another df. We have subsetting on the tweets and priority columns. We do this for both the embedding dataframes and our balanced datasets, although we will not use the balanced datasets until later."
   ]
  },
  {
   "cell_type": "code",
   "execution_count": 520,
   "metadata": {
    "pycharm": {
     "is_executing": false
    }
   },
   "outputs": [],
   "source": [
    "df_quake_e = pd.DataFrame()\n",
    "df_quake_e['Tweet'] = pd.concat([df_e1_embed['Tweet'] , df_e2_embed['Tweet']])\n",
    "df_quake_e['Priority'] = pd.concat([df_e1_embed['Priority'] , df_e2_embed['Priority']])"
   ]
  },
  {
   "cell_type": "code",
   "execution_count": 521,
   "metadata": {
    "pycharm": {
     "is_executing": false
    }
   },
   "outputs": [],
   "source": [
    "df_flood_e = pd.DataFrame()\n",
    "df_flood_e['Tweet'] = pd.concat([df_f1_embed['Tweet'] , df_f2_embed['Tweet']])\n",
    "df_flood_e['Priority'] = pd.concat([df_f1_embed['Priority'] , df_f2_embed['Priority']])"
   ]
  },
  {
   "cell_type": "code",
   "execution_count": 522,
   "metadata": {
    "pycharm": {
     "is_executing": false
    }
   },
   "outputs": [],
   "source": [
    "df_quake = pd.DataFrame()\n",
    "df_quake['Tweet'] = pd.concat([df_e1['Tweet'] , df_e2['Tweet']])\n",
    "df_quake['Priority'] = pd.concat([df_e1['Priority'] , df_e2['Priority']])"
   ]
  },
  {
   "cell_type": "code",
   "execution_count": 523,
   "metadata": {
    "pycharm": {
     "is_executing": false
    }
   },
   "outputs": [],
   "source": [
    "df_flood = pd.DataFrame()\n",
    "df_flood['Tweet'] = pd.concat([df_f1['Tweet'] , df_f2['Tweet']])\n",
    "df_flood['Priority'] = pd.concat([df_f1['Priority'] , df_f2['Priority']])"
   ]
  },
  {
   "cell_type": "markdown",
   "metadata": {},
   "source": [
    "Cross checking the shapes to make sure they match. **They do match**"
   ]
  },
  {
   "cell_type": "code",
   "execution_count": 524,
   "metadata": {
    "pycharm": {
     "is_executing": false
    }
   },
   "outputs": [
    {
     "data": {
      "text/plain": [
       "((5140, 2), (2518, 2), (100, 2), (120, 2))"
      ]
     },
     "execution_count": 524,
     "metadata": {},
     "output_type": "execute_result"
    }
   ],
   "source": [
    "df_quake_e.shape, df_flood_e.shape, df_quake.shape, df_flood.shape"
   ]
  },
  {
   "cell_type": "markdown",
   "metadata": {},
   "source": [
    "## Converting to categorical (0 & 1)\n",
    "\n",
    "We will now define a function to convert the priority to a categorical 0 & 1. This will be necessary when we train a model."
   ]
  },
  {
   "cell_type": "code",
   "execution_count": 525,
   "metadata": {
    "pycharm": {
     "is_executing": false
    }
   },
   "outputs": [],
   "source": [
    "'''\n",
    "Creating a categorical variable to keep label critical tweets as 1 and 0 otherwise\n",
    "'''\n",
    "def to_categorical(array):\n",
    "    t = []\n",
    "    for element in array:\n",
    "        if element =='Critical':\n",
    "            t.append(1)\n",
    "        else:\n",
    "            t.append(0)\n",
    "        \n",
    "    return (t)\n"
   ]
  },
  {
   "cell_type": "markdown",
   "metadata": {},
   "source": [
    "## Pre-Processing\n",
    "\n",
    "We shall now perform a series of pre processing to our tweets. This includes tokenizing them, removing stop words and lemmatising them.  \n",
    "\n",
    "**I also wrote a line of code to remove the links in the tweets as it was throwing in a lot of gibberish into the emebddings.** The link is almost always at the end of the tweet so its relatively easy to remove. \n",
    "\n",
    "I left the punctuation marks in. We have to take a call on this later."
   ]
  },
  {
   "cell_type": "code",
   "execution_count": 526,
   "metadata": {
    "pycharm": {
     "is_executing": false
    }
   },
   "outputs": [],
   "source": [
    "def preProcess(df):\n",
    "    df['Tweet'] = df['Tweet'].astype('str')\n",
    "    \n",
    "    df['Tweet'] = df['Tweet'].apply(lambda x: re.split('http?s *: *\\/\\/.*', str(x))[0])\n",
    "    \n",
    "    token_array = []\n",
    "    #for tweet in df['Tweet']:\n",
    "    #    translator = str.maketrans(string.punctuation, ' '*len(string.punctuation))\n",
    "    #    tweet = tweet.translate(translator)\n",
    "    #    token_tweet = word_tokenize(tweet)\n",
    "    #    token_array.append(token_tweet)\n",
    "    \n",
    "    for tweet in df['Tweet']:\n",
    "        token_tweet = word_tokenize(tweet)\n",
    "        token_array.append(token_tweet)\n",
    "        \n",
    "    stop_words=set(stopwords.words(\"english\"))\n",
    "    filtered_token_array=[]\n",
    "    for tweet in token_array:\n",
    "        filtered_tweet = []\n",
    "        for word in tweet:\n",
    "                if word not in stop_words:\n",
    "                    filtered_tweet.append(word)\n",
    "        filtered_token_array.append(filtered_tweet)\n",
    "        \n",
    "    lem = WordNetLemmatizer()\n",
    "\n",
    "    lemmatized_array=[]\n",
    "    for tweet in filtered_token_array:\n",
    "        lemmatized_tweet = []\n",
    "        for word in tweet:\n",
    "            lemmatized_tweet.append(lem.lemmatize(word,'v'))\n",
    "        lemmatized_array.append(lemmatized_tweet)\n",
    "    \n",
    "    lemmatized_array_join = []\n",
    "    for element in lemmatized_array:\n",
    "        lemmatized_array_join.append(' '.join(element))\n",
    "        \n",
    "    return (lemmatized_array_join)\n"
   ]
  },
  {
   "cell_type": "markdown",
   "metadata": {},
   "source": [
    "The tweets have been pre processed and we now have a collection of tweets. Word2Vec takes in a list of words together contained in a bigger list (Corpus -> List of Tweet -> List of Words)."
   ]
  },
  {
   "cell_type": "code",
   "execution_count": 527,
   "metadata": {
    "pycharm": {
     "is_executing": false
    }
   },
   "outputs": [],
   "source": [
    "l_quake_e = preProcess(df_quake_e)\n",
    "l_flood_e = preProcess(df_flood_e)\n",
    "\n",
    "list_of_words_quake = []\n",
    "list_of_words_flood = []\n",
    "\n",
    "for tweet in l_quake_e:\n",
    "        token_tweet = word_tokenize(tweet)\n",
    "        list_of_words_quake.append(token_tweet)\n",
    "        \n",
    "for tweet in l_flood_e:\n",
    "        token_tweet = word_tokenize(tweet)\n",
    "        list_of_words_flood.append(token_tweet)\n",
    "        "
   ]
  },
  {
   "cell_type": "markdown",
   "metadata": {},
   "source": [
    "## Creating a Word2Vec model\n",
    "\n",
    "We will now initialise a word2vec model. This takes in a paramter 'min_count' which is the number of minimum occurences of a word required for it be included in the embeddings. **For now we set min_count = 1**. I did this because we are creating our own embeddings (not picking from wikipedia embeddings etc) and our data is not that huge. "
   ]
  },
  {
   "cell_type": "code",
   "execution_count": 528,
   "metadata": {
    "pycharm": {
     "is_executing": false
    }
   },
   "outputs": [],
   "source": [
    "'''\n",
    "min_count = int - Ignores all words with total absolute frequency lower than this - (2, 100)\n",
    "\n",
    "window = int - The maximum distance between the current and predicted word within a sentence. \n",
    "        E.g. window words on the left and window words on the left of our target - (2, 10)\n",
    "\n",
    "size = int - Dimensionality of the feature vectors. - (50, 300)\n",
    "\n",
    "sample = float - The threshold for configuring which higher-frequency words are randomly downsampled. \n",
    "        Highly influencial. - (0, 1e-5)\n",
    "\n",
    "alpha = float - The initial learning rate - (0.01, 0.05)\n",
    "\n",
    "min_alpha = float - Learning rate will linearly drop to min_alpha as training progresses. \n",
    "        To set it: alpha - (min_alpha * epochs) ~ 0.00\n",
    "\n",
    "negative = int - If > 0, negative sampling will be used, the int for negative specifies how many \"noise words\" \n",
    "        should be drown. If set to 0, no negative sampling is used. - (5, 20)\n",
    "        \n",
    "workers = int - Use these many worker threads to train the model (=faster training with multicore machines)\n",
    "'''\n",
    "w2v_quake = Word2Vec(min_count=1,\n",
    "                     window=4,\n",
    "                     size=100,\n",
    "                     sample=6e-5, \n",
    "                     alpha=0.03, \n",
    "                     min_alpha=0.0007, \n",
    "                     negative=20)\n",
    "w2v_flood = Word2Vec(min_count=1,\n",
    "                     window=4,\n",
    "                     size=100,\n",
    "                     sample=6e-5, \n",
    "                     alpha=0.03, \n",
    "                     min_alpha=0.0007, \n",
    "                     negative=20)"
   ]
  },
  {
   "cell_type": "markdown",
   "metadata": {},
   "source": [
    "We will now build our vocabulary. Do not run the following code multiple times before initialising the w2v instance again from above."
   ]
  },
  {
   "cell_type": "code",
   "execution_count": 529,
   "metadata": {
    "pycharm": {
     "is_executing": false
    }
   },
   "outputs": [
    {
     "name": "stderr",
     "output_type": "stream",
     "text": [
      "INFO - 14:08:40: collecting all words and their counts\n",
      "INFO - 14:08:40: PROGRESS: at sentence #0, processed 0 words, keeping 0 word types\n",
      "INFO - 14:08:40: collected 13732 word types from a corpus of 70267 raw words and 5140 sentences\n",
      "INFO - 14:08:40: Loading a fresh vocabulary\n",
      "INFO - 14:08:40: effective_min_count=1 retains 13732 unique words (100% of original 13732, drops 0)\n",
      "INFO - 14:08:40: effective_min_count=1 leaves 70267 word corpus (100% of original 70267, drops 0)\n",
      "INFO - 14:08:40: deleting the raw counts dictionary of 13732 items\n",
      "INFO - 14:08:40: sample=6e-05 downsamples 669 most-common words\n",
      "INFO - 14:08:40: downsampling leaves estimated 33474 word corpus (47.6% of prior 70267)\n",
      "INFO - 14:08:40: estimated required memory for 13732 words and 100 dimensions: 17851600 bytes\n",
      "INFO - 14:08:40: resetting layer weights\n",
      "INFO - 14:08:42: collecting all words and their counts\n",
      "INFO - 14:08:42: PROGRESS: at sentence #0, processed 0 words, keeping 0 word types\n",
      "INFO - 14:08:42: collected 9614 word types from a corpus of 48396 raw words and 2518 sentences\n",
      "INFO - 14:08:42: Loading a fresh vocabulary\n",
      "INFO - 14:08:42: effective_min_count=1 retains 9614 unique words (100% of original 9614, drops 0)\n",
      "INFO - 14:08:42: effective_min_count=1 leaves 48396 word corpus (100% of original 48396, drops 0)\n",
      "INFO - 14:08:42: deleting the raw counts dictionary of 9614 items\n",
      "INFO - 14:08:42: sample=6e-05 downsamples 733 most-common words\n",
      "INFO - 14:08:42: downsampling leaves estimated 22299 word corpus (46.1% of prior 48396)\n",
      "INFO - 14:08:42: estimated required memory for 9614 words and 100 dimensions: 12498200 bytes\n",
      "INFO - 14:08:42: resetting layer weights\n"
     ]
    }
   ],
   "source": [
    "w2v_quake.build_vocab(list_of_words_quake)\n",
    "w2v_flood.build_vocab(list_of_words_flood)"
   ]
  },
  {
   "cell_type": "markdown",
   "metadata": {},
   "source": [
    "The following code is to view the vocabulary that we created"
   ]
  },
  {
   "cell_type": "code",
   "execution_count": 530,
   "metadata": {
    "pycharm": {
     "is_executing": false
    }
   },
   "outputs": [
    {
     "data": {
      "text/plain": [
       "{'ã€�': <gensim.models.keyedvectors.Vocab at 0x1d27abb1080>,\n",
       " '#': <gensim.models.keyedvectors.Vocab at 0x1d201fafba8>,\n",
       " 'USGS': <gensim.models.keyedvectors.Vocab at 0x1d201fafb38>,\n",
       " 'Breakingã€': <gensim.models.keyedvectors.Vocab at 0x1d201faf978>,\n",
       " '‘': <gensim.models.keyedvectors.Vocab at 0x1d201faf940>,\n",
       " 'M': <gensim.models.keyedvectors.Vocab at 0x1d201faf780>,\n",
       " '1.1': <gensim.models.keyedvectors.Vocab at 0x1d201fafd68>,\n",
       " ',': <gensim.models.keyedvectors.Vocab at 0x1d201fafb70>,\n",
       " '28km': <gensim.models.keyedvectors.Vocab at 0x1d201fafe10>,\n",
       " 'SSW': <gensim.models.keyedvectors.Vocab at 0x1d201fafb00>,\n",
       " 'Fairbanks': <gensim.models.keyedvectors.Vocab at 0x1d201fafdd8>,\n",
       " 'Alaska': <gensim.models.keyedvectors.Vocab at 0x1d201faff28>,\n",
       " 'http': <gensim.models.keyedvectors.Vocab at 0x1d201fafa20>,\n",
       " ':': <gensim.models.keyedvectors.Vocab at 0x1d27bbe5e80>,\n",
       " '//t.co/hSyciQFM': <gensim.models.keyedvectors.Vocab at 0x1d203657b00>,\n",
       " 'PastHour': <gensim.models.keyedvectors.Vocab at 0x1d2036578d0>,\n",
       " '11': <gensim.models.keyedvectors.Vocab at 0x1d203657908>,\n",
       " 'earthquake': <gensim.models.keyedvectors.Vocab at 0x1d203657940>,\n",
       " 'tsunami': <gensim.models.keyedvectors.Vocab at 0x1d203657978>,\n",
       " 'prayfromjapan': <gensim.models.keyedvectors.Vocab at 0x1d2036579b0>,\n",
       " 'Earthquake': <gensim.models.keyedvectors.Vocab at 0x1d203657b70>,\n",
       " '4.8': <gensim.models.keyedvectors.Vocab at 0x1d2036579e8>,\n",
       " 'south': <gensim.models.keyedvectors.Vocab at 0x1d203657c18>,\n",
       " 'Bali': <gensim.models.keyedvectors.Vocab at 0x1d203657c50>,\n",
       " 'Indonesia': <gensim.models.keyedvectors.Vocab at 0x1d203657c88>,\n",
       " 'September': <gensim.models.keyedvectors.Vocab at 0x1d203657cc0>,\n",
       " '04': <gensim.models.keyedvectors.Vocab at 0x1d203657cf8>,\n",
       " '2012': <gensim.models.keyedvectors.Vocab at 0x1d203657d30>,\n",
       " '21:19:30': <gensim.models.keyedvectors.Vocab at 0x1d203657d68>,\n",
       " 'GMT': <gensim.models.keyedvectors.Vocab at 0x1d203657da0>,\n",
       " '//t.co/iEelaYGO': <gensim.models.keyedvectors.Vocab at 0x1d203657dd8>,\n",
       " '4.5': <gensim.models.keyedvectors.Vocab at 0x1d203657e10>,\n",
       " 'Taiwan': <gensim.models.keyedvectors.Vocab at 0x1d203657e48>,\n",
       " 'region': <gensim.models.keyedvectors.Vocab at 0x1d203657e80>,\n",
       " '//t.co/7FmNQZdm': <gensim.models.keyedvectors.Vocab at 0x1d203657eb8>,\n",
       " '2.6': <gensim.models.keyedvectors.Vocab at 0x1d203657ef0>,\n",
       " 'Hawaii': <gensim.models.keyedvectors.Vocab at 0x1d203657f28>,\n",
       " '//t.co/S2GbQIaO': <gensim.models.keyedvectors.Vocab at 0x1d203657f60>,\n",
       " 'Magnitude': <gensim.models.keyedvectors.Vocab at 0x1d203657f98>,\n",
       " '7.9': <gensim.models.keyedvectors.Vocab at 0x1d203657fd0>,\n",
       " 'strike': <gensim.models.keyedvectors.Vocab at 0x1d203659048>,\n",
       " 'coast': <gensim.models.keyedvectors.Vocab at 0x1d203659080>,\n",
       " 'Costa': <gensim.models.keyedvectors.Vocab at 0x1d2036590b8>,\n",
       " 'Rica': <gensim.models.keyedvectors.Vocab at 0x1d2036590f0>,\n",
       " '-': <gensim.models.keyedvectors.Vocab at 0x1d203659128>,\n",
       " 'RT': <gensim.models.keyedvectors.Vocab at 0x1d203659160>,\n",
       " '@': <gensim.models.keyedvectors.Vocab at 0x1d203659198>,\n",
       " 'Reuters': <gensim.models.keyedvectors.Vocab at 0x1d2036591d0>,\n",
       " 'Live': <gensim.models.keyedvectors.Vocab at 0x1d203659208>,\n",
       " 'coverage': <gensim.models.keyedvectors.Vocab at 0x1d203659240>,\n",
       " '7.9-magnitude': <gensim.models.keyedvectors.Vocab at 0x1d203659278>,\n",
       " 'rattle': <gensim.models.keyedvectors.Vocab at 0x1d2036592b0>,\n",
       " ';': <gensim.models.keyedvectors.Vocab at 0x1d2036592e8>,\n",
       " 'watch': <gensim.models.keyedvectors.Vocab at 0x1d203659320>,\n",
       " 'Caribbean': <gensim.models.keyedvectors.Vocab at 0x1d203659358>,\n",
       " 'effect': <gensim.models.keyedvectors.Vocab at 0x1d203659390>,\n",
       " '//t.c': <gensim.models.keyedvectors.Vocab at 0x1d2036593c8>,\n",
       " '...': <gensim.models.keyedvectors.Vocab at 0x1d203659400>,\n",
       " 'ãƒ‡ã‚': <gensim.models.keyedvectors.Vocab at 0x1d203659438>,\n",
       " '«': <gensim.models.keyedvectors.Vocab at 0x1d203659470>,\n",
       " 'ã‚¤ã�ªã€‚ã�§ã�‹ã�™ã�Žã‚‹ã�œã€�ãƒ™ã‚¯ãƒ†ãƒ': <gensim.models.keyedvectors.Vocab at 0x1d2036594a8>,\n",
       " 'ï¼�http': <gensim.models.keyedvectors.Vocab at 0x1d2036594e0>,\n",
       " '//t.co/SvC7zoN5ã€€RTx2': <gensim.models.keyedvectors.Vocab at 0x1d203659518>,\n",
       " 'ã€€': <gensim.models.keyedvectors.Vocab at 0x1d203659550>,\n",
       " 'NewEarthquake': <gensim.models.keyedvectors.Vocab at 0x1d203659588>,\n",
       " '.': <gensim.models.keyedvectors.Vocab at 0x1d2036595c0>,\n",
       " 'Sep': <gensim.models.keyedvectors.Vocab at 0x1d2036595f8>,\n",
       " '5': <gensim.models.keyedvectors.Vocab at 0x1d203659630>,\n",
       " '8:42amã€€http': <gensim.models.keyedvectors.Vocab at 0x1d203659668>,\n",
       " '//t.co/mwsMLQ3Z': <gensim.models.keyedvectors.Vocab at 0x1d2036596a0>,\n",
       " 'BreakingNews': <gensim.models.keyedvectors.Vocab at 0x1d2036596d8>,\n",
       " 'Caribbean-wide': <gensim.models.keyedvectors.Vocab at 0x1d203659710>,\n",
       " 'Rican': <gensim.models.keyedvectors.Vocab at 0x1d203659748>,\n",
       " 'quake': <gensim.models.keyedvectors.Vocab at 0x1d203659780>,\n",
       " 'Pacific': <gensim.models.keyedvectors.Vocab at 0x1d2036597b8>,\n",
       " 'Tsunami': <gensim.models.keyedvectors.Vocab at 0x1d2036597f0>,\n",
       " 'Warning': <gensim.models.keyedvectors.Vocab at 0x1d203659828>,\n",
       " 'Center': <gensim.models.keyedvectors.Vocab at 0x1d203659860>,\n",
       " 'say': <gensim.models.keyedvectors.Vocab at 0x1d203659898>,\n",
       " 'lgf': <gensim.models.keyedvectors.Vocab at 0x1d2036598d0>,\n",
       " 'p2': <gensim.models.keyedvectors.Vocab at 0x1d203659908>,\n",
       " 'shake': <gensim.models.keyedvectors.Vocab at 0x1d203659940>,\n",
       " 'magnitude-5.8': <gensim.models.keyedvectors.Vocab at 0x1d203659978>,\n",
       " '//t.co/454IrRdA': <gensim.models.keyedvectors.Vocab at 0x1d2036599b0>,\n",
       " 'costarica': <gensim.models.keyedvectors.Vocab at 0x1d2036599e8>,\n",
       " 'More': <gensim.models.keyedvectors.Vocab at 0x1d203659a20>,\n",
       " 'coastline': <gensim.models.keyedvectors.Vocab at 0x1d203659a58>,\n",
       " '//t.co/9YqdEq9g': <gensim.models.keyedvectors.Vocab at 0x1d203659a90>,\n",
       " 'AlertNet': <gensim.models.keyedvectors.Vocab at 0x1d203659ac8>,\n",
       " 'Strong': <gensim.models.keyedvectors.Vocab at 0x1d203659b00>,\n",
       " 'hit': <gensim.models.keyedvectors.Vocab at 0x1d203659b38>,\n",
       " '//t.co/sxICdjwl': <gensim.models.keyedvectors.Vocab at 0x1d203659b70>,\n",
       " '``': <gensim.models.keyedvectors.Vocab at 0x1d203659ba8>,\n",
       " 'RobertaCBS5': <gensim.models.keyedvectors.Vocab at 0x1d203659be0>,\n",
       " 'Breaking': <gensim.models.keyedvectors.Vocab at 0x1d203659c18>,\n",
       " 'Tsunmai': <gensim.models.keyedvectors.Vocab at 0x1d203659c50>,\n",
       " 'WARNING': <gensim.models.keyedvectors.Vocab at 0x1d203659c88>,\n",
       " 'west': <gensim.models.keyedvectors.Vocab at 0x1d203659cc0>,\n",
       " 'Central': <gensim.models.keyedvectors.Vocab at 0x1d203659cf8>,\n",
       " 'America': <gensim.models.keyedvectors.Vocab at 0x1d203659d30>,\n",
       " 'magnitude': <gensim.models.keyedvectors.Vocab at 0x1d203659d68>,\n",
       " 'Birth': <gensim.models.keyedvectors.Vocab at 0x1d203659da0>,\n",
       " 'pangs': <gensim.models.keyedvectors.Vocab at 0x1d203659dd8>,\n",
       " '8:42am': <gensim.models.keyedvectors.Vocab at 0x1d203659e10>,\n",
       " 'epicenter': <gensim.models.keyedvectors.Vocab at 0x1d203659e48>,\n",
       " '(': <gensim.models.keyedvectors.Vocab at 0x1d203659e80>,\n",
       " '6m': <gensim.models.keyedvectors.Vocab at 0x1d203659eb8>,\n",
       " 'ago': <gensim.models.keyedvectors.Vocab at 0x1d203659ef0>,\n",
       " '83km': <gensim.models.keyedvectors.Vocab at 0x1d203659f28>,\n",
       " 'S': <gensim.models.keyedvectors.Vocab at 0x1d203659f60>,\n",
       " 'Liberia': <gensim.models.keyedvectors.Vocab at 0x1d203659f98>,\n",
       " 'depth': <gensim.models.keyedvectors.Vocab at 0x1d203659fd0>,\n",
       " '46km': <gensim.models.keyedvectors.Vocab at 0x1d20365f048>,\n",
       " ')': <gensim.models.keyedvectors.Vocab at 0x1d20365f080>,\n",
       " 'Oh': <gensim.models.keyedvectors.Vocab at 0x1d20365f0b8>,\n",
       " '!': <gensim.models.keyedvectors.Vocab at 0x1d20365f0f0>,\n",
       " 'damage': <gensim.models.keyedvectors.Vocab at 0x1d20365f128>,\n",
       " 'report': <gensim.models.keyedvectors.Vocab at 0x1d20365f160>,\n",
       " '?': <gensim.models.keyedvectors.Vocab at 0x1d20365f198>,\n",
       " 'Nids_ShriKant': <gensim.models.keyedvectors.Vocab at 0x1d20365f1d0>,\n",
       " 'Rica..': <gensim.models.keyedvectors.Vocab at 0x1d20365f208>,\n",
       " 'Now': <gensim.models.keyedvectors.Vocab at 0x1d20365f240>,\n",
       " 'A': <gensim.models.keyedvectors.Vocab at 0x1d20365f278>,\n",
       " 'KeepSafe': <gensim.models.keyedvectors.Vocab at 0x1d20365f2b0>,\n",
       " 'GodBless': <gensim.models.keyedvectors.Vocab at 0x1d20365f2e8>,\n",
       " 'costa': <gensim.models.keyedvectors.Vocab at 0x1d20365f320>,\n",
       " 'rica': <gensim.models.keyedvectors.Vocab at 0x1d20365f358>,\n",
       " '7,9SR': <gensim.models.keyedvectors.Vocab at 0x1d20365f390>,\n",
       " 'CHILE': <gensim.models.keyedvectors.Vocab at 0x1d20365f3c8>,\n",
       " \"'S\": <gensim.models.keyedvectors.Vocab at 0x1d20365f400>,\n",
       " 'NAVY': <gensim.models.keyedvectors.Vocab at 0x1d20365f438>,\n",
       " 'SAYS': <gensim.models.keyedvectors.Vocab at 0x1d20365f470>,\n",
       " 'DECLARES': <gensim.models.keyedvectors.Vocab at 0x1d20365f4a8>,\n",
       " 'TSUNAMI': <gensim.models.keyedvectors.Vocab at 0x1d20365f4e0>,\n",
       " 'ALERT': <gensim.models.keyedvectors.Vocab at 0x1d20365f518>,\n",
       " 'FOR': <gensim.models.keyedvectors.Vocab at 0x1d20365f550>,\n",
       " 'CHILEAN': <gensim.models.keyedvectors.Vocab at 0x1d20365f588>,\n",
       " 'COAST': <gensim.models.keyedvectors.Vocab at 0x1d20365f5c0>,\n",
       " 'FOLLOWING': <gensim.models.keyedvectors.Vocab at 0x1d20365f5f8>,\n",
       " 'COSTA': <gensim.models.keyedvectors.Vocab at 0x1d20365f630>,\n",
       " 'RICA': <gensim.models.keyedvectors.Vocab at 0x1d20365f668>,\n",
       " 'QUAKE': <gensim.models.keyedvectors.Vocab at 0x1d20365f6a0>,\n",
       " 'CP24': <gensim.models.keyedvectors.Vocab at 0x1d20365f6d8>,\n",
       " 'BREAKING': <gensim.models.keyedvectors.Vocab at 0x1d20365f710>,\n",
       " 'Coast': <gensim.models.keyedvectors.Vocab at 0x1d20365f748>,\n",
       " 'warn': <gensim.models.keyedvectors.Vocab at 0x1d20365f780>,\n",
       " 'No': <gensim.models.keyedvectors.Vocab at 0x1d20365f7b8>,\n",
       " 'word': <gensim.models.keyedvectors.Vocab at 0x1d20365f7f0>,\n",
       " 'damage/injuries': <gensim.models.keyedvectors.Vocab at 0x1d20365f828>,\n",
       " 'TWCBreaking': <gensim.models.keyedvectors.Vocab at 0x1d20365f860>,\n",
       " 'Mag': <gensim.models.keyedvectors.Vocab at 0x1d20365f898>,\n",
       " 'Mexico': <gensim.models.keyedvectors.Vocab at 0x1d20365f8d0>,\n",
       " 'C.': <gensim.models.keyedvectors.Vocab at 0x1d20365f908>,\n",
       " 'S.': <gensim.models.keyedvectors.Vocab at 0x1d20365f940>,\n",
       " 'â€œ': <gensim.models.keyedvectors.Vocab at 0x1d20365f978>,\n",
       " 'USGSâ€�': <gensim.models.keyedvectors.Vocab at 0x1d20365f9b0>,\n",
       " 'YahooNews': <gensim.models.keyedvectors.Vocab at 0x1d20365f9e8>,\n",
       " 'Please': <gensim.models.keyedvectors.Vocab at 0x1d20365fa20>,\n",
       " 'pray': <gensim.models.keyedvectors.Vocab at 0x1d20365fa58>,\n",
       " 'powerful': <gensim.models.keyedvectors.Vocab at 0x1d20365fa90>,\n",
       " 'magnitude-7.9': <gensim.models.keyedvectors.Vocab at 0x1d20365fac8>,\n",
       " 'CostaRica': <gensim.models.keyedvectors.Vocab at 0x1d20365fb00>,\n",
       " 'accord': <gensim.models.keyedvectors.Vocab at 0x1d20365fb38>,\n",
       " 'BBCWorld': <gensim.models.keyedvectors.Vocab at 0x1d20365fb70>,\n",
       " 'Details': <gensim.models.keyedvectors.Vocab at 0x1d20365fba8>,\n",
       " 'soon': <gensim.models.keyedvectors.Vocab at 0x1d20365fbe0>,\n",
       " '//t.co/TcpLwxJJ': <gensim.models.keyedvectors.Vocab at 0x1d20365fc18>,\n",
       " 'QuakeReports': <gensim.models.keyedvectors.Vocab at 0x1d20365fc50>,\n",
       " '//t.co/iYnWzKuL': <gensim.models.keyedvectors.Vocab at 0x1d20365fc88>,\n",
       " 'MEXICO': <gensim.models.keyedvectors.Vocab at 0x1d20365fcc0>,\n",
       " 'CITY': <gensim.models.keyedvectors.Vocab at 0x1d20365fcf8>,\n",
       " '50': <gensim.models.keyedvectors.Vocab at 0x1d20365fd30>,\n",
       " 'miles': <gensim.models.keyedvectors.Vocab at 0x1d20365fd68>,\n",
       " 'town': <gensim.models.keyedvectors.Vocab at 0x1d20365fda0>,\n",
       " 'northwestern': <gensim.models.keyedvectors.Vocab at 0x1d20365fdd8>,\n",
       " 'Wednesday..': <gensim.models.keyedvectors.Vocab at 0x1d20365fe10>,\n",
       " '=': <gensim.models.keyedvectors.Vocab at 0x1d20365fe48>,\n",
       " '..': <gensim.models.keyedvectors.Vocab at 0x1d20365fe80>,\n",
       " 'hope': <gensim.models.keyedvectors.Vocab at 0x1d20365feb8>,\n",
       " 'everything': <gensim.models.keyedvectors.Vocab at 0x1d20365fef0>,\n",
       " 'okay': <gensim.models.keyedvectors.Vocab at 0x1d20365ff28>,\n",
       " 'fieldproducer': <gensim.models.keyedvectors.Vocab at 0x1d20365ff60>,\n",
       " 'revise': <gensim.models.keyedvectors.Vocab at 0x1d20365ff98>,\n",
       " '7.6': <gensim.models.keyedvectors.Vocab at 0x1d20365ffd0>,\n",
       " 'detail': <gensim.models.keyedvectors.Vocab at 0x1d203662048>,\n",
       " '//t.co/3vxo2zBN': <gensim.models.keyedvectors.Vocab at 0x1d203662080>,\n",
       " 'My': <gensim.models.keyedvectors.Vocab at 0x1d2036620b8>,\n",
       " 'prayers': <gensim.models.keyedvectors.Vocab at 0x1d2036620f0>,\n",
       " 'go': <gensim.models.keyedvectors.Vocab at 0x1d203662128>,\n",
       " 'people': <gensim.models.keyedvectors.Vocab at 0x1d203662160>,\n",
       " 'They': <gensim.models.keyedvectors.Vocab at 0x1d203662198>,\n",
       " 'massive': <gensim.models.keyedvectors.Vocab at 0x1d2036621d0>,\n",
       " 'Powerful': <gensim.models.keyedvectors.Vocab at 0x1d203662208>,\n",
       " '//t.co/6ZoS6sxc': <gensim.models.keyedvectors.Vocab at 0x1d203662240>,\n",
       " 'CNBC': <gensim.models.keyedvectors.Vocab at 0x1d203662278>,\n",
       " 'center': <gensim.models.keyedvectors.Vocab at 0x1d2036622b0>,\n",
       " '98': <gensim.models.keyedvectors.Vocab at 0x1d2036622e8>,\n",
       " 'San': <gensim.models.keyedvectors.Vocab at 0x1d203662320>,\n",
       " 'Jose': <gensim.models.keyedvectors.Vocab at 0x1d203662358>,\n",
       " 'Chile': <gensim.models.keyedvectors.Vocab at 0x1d203662390>,\n",
       " \"'s\": <gensim.models.keyedvectors.Vocab at 0x1d2036623c8>,\n",
       " 'navy': <gensim.models.keyedvectors.Vocab at 0x1d203662400>,\n",
       " 'declare': <gensim.models.keyedvectors.Vocab at 0x1d203662438>,\n",
       " 'alert': <gensim.models.keyedvectors.Vocab at 0x1d203662470>,\n",
       " 'country': <gensim.models.keyedvectors.Vocab at 0x1d2036624a8>,\n",
       " 'follow': <gensim.models.keyedvectors.Vocab at 0x1d2036624e0>,\n",
       " 'Revised': <gensim.models.keyedvectors.Vocab at 0x1d203662518>,\n",
       " '&': <gensim.models.keyedvectors.Vocab at 0x1d203662550>,\n",
       " 'gt': <gensim.models.keyedvectors.Vocab at 0x1d203662588>,\n",
       " '24m': <gensim.models.keyedvectors.Vocab at 0x1d2036625c0>,\n",
       " '60km': <gensim.models.keyedvectors.Vocab at 0x1d2036625f8>,\n",
       " 'SSE': <gensim.models.keyedvectors.Vocab at 0x1d203662630>,\n",
       " '4': <gensim.models.keyedvectors.Vocab at 0x1d203662668>,\n",
       " 'irasuwindro': <gensim.models.keyedvectors.Vocab at 0x1d2036626a0>,\n",
       " '//t.co/QXqN9Xo2': <gensim.models.keyedvectors.Vocab at 0x1d2036626d8>,\n",
       " 'RT_com': <gensim.models.keyedvectors.Vocab at 0x1d203662710>,\n",
       " 'Quake': <gensim.models.keyedvectors.Vocab at 0x1d203662748>,\n",
       " 'Hits': <gensim.models.keyedvectors.Vocab at 0x1d203662780>,\n",
       " '//t.co/dtHKXF2v': <gensim.models.keyedvectors.Vocab at 0x1d2036627b8>,\n",
       " 'jcagain': <gensim.models.keyedvectors.Vocab at 0x1d2036627f0>,\n",
       " 'Damn': <gensim.models.keyedvectors.Vocab at 0x1d203662828>,\n",
       " 'Poor': <gensim.models.keyedvectors.Vocab at 0x1d203662860>,\n",
       " 'cnnbrk': <gensim.models.keyedvectors.Vocab at 0x1d203662898>,\n",
       " 'reduce': <gensim.models.keyedvectors.Vocab at 0x1d2036628d0>,\n",
       " '7.6.': <gensim.models.keyedvectors.Vocab at 0x1d203662908>,\n",
       " '//t.co/nVvZPUSG': <gensim.models.keyedvectors.Vocab at 0x1d203662940>,\n",
       " 'ccbp': <gensim.models.keyedvectors.Vocab at 0x1d203662978>,\n",
       " 'Big': <gensim.models.keyedvectors.Vocab at 0x1d2036629b0>,\n",
       " 'M7.9': <gensim.models.keyedvectors.Vocab at 0x1d2036629e8>,\n",
       " 'occurrred': <gensim.models.keyedvectors.Vocab at 0x1d203662a20>,\n",
       " 'careful': <gensim.models.keyedvectors.Vocab at 0x1d203662a58>,\n",
       " 'live': <gensim.models.keyedvectors.Vocab at 0x1d203662a90>,\n",
       " 'around': <gensim.models.keyedvectors.Vocab at 0x1d203662ac8>,\n",
       " 'sea': <gensim.models.keyedvectors.Vocab at 0x1d203662b00>,\n",
       " '7.6-magnitude': <gensim.models.keyedvectors.Vocab at 0x1d203662b38>,\n",
       " '//t.co/WmdiDVXx': <gensim.models.keyedvectors.Vocab at 0x1d203662b70>,\n",
       " 'cnn': <gensim.models.keyedvectors.Vocab at 0x1d203662ba8>,\n",
       " 'weathernetwork': <gensim.models.keyedvectors.Vocab at 0x1d203662be0>,\n",
       " 'Reports': <gensim.models.keyedvectors.Vocab at 0x1d203662c18>,\n",
       " 'house': <gensim.models.keyedvectors.Vocab at 0x1d203662c50>,\n",
       " 'collapse': <gensim.models.keyedvectors.Vocab at 0x1d203662c88>,\n",
       " 'church': <gensim.models.keyedvectors.Vocab at 0x1d203662cc0>,\n",
       " 'tower': <gensim.models.keyedvectors.Vocab at 0x1d203662cf8>,\n",
       " 'Nicoya': <gensim.models.keyedvectors.Vocab at 0x1d203662d30>,\n",
       " 'near': <gensim.models.keyedvectors.Vocab at 0x1d203662d68>,\n",
       " 'epicentre': <gensim.models.keyedvectors.Vocab at 0x1d203662da0>,\n",
       " 'issue': <gensim.models.keyedvectors.Vocab at 0x1d203662dd8>,\n",
       " '7.6-mag': <gensim.models.keyedvectors.Vocab at 0x1d203662e10>,\n",
       " '//t.co/NyfZ4eSU': <gensim.models.keyedvectors.Vocab at 0x1d203662e48>,\n",
       " 'For': <gensim.models.keyedvectors.Vocab at 0x1d203662e80>,\n",
       " 'friends': <gensim.models.keyedvectors.Vocab at 0x1d203662eb8>,\n",
       " 'Hawaii..': <gensim.models.keyedvectors.Vocab at 0x1d203662ef0>,\n",
       " 'case..': <gensim.models.keyedvectors.Vocab at 0x1d203662f28>,\n",
       " 'mag': <gensim.models.keyedvectors.Vocab at 0x1d203662f60>,\n",
       " 'prompt': <gensim.models.keyedvectors.Vocab at 0x1d203662f98>,\n",
       " '//t.co/YOXlVpn4': <gensim.models.keyedvectors.Vocab at 0x1d203662fd0>,\n",
       " 'karmonan': <gensim.models.keyedvectors.Vocab at 0x1d203664048>,\n",
       " '//t.co/i98cKt0n': <gensim.models.keyedvectors.Vocab at 0x1d203664080>,\n",
       " 'Radio_Riquelme': <gensim.models.keyedvectors.Vocab at 0x1d2036640b8>,\n",
       " 'keep': <gensim.models.keyedvectors.Vocab at 0x1d2036640f0>,\n",
       " 'coastal': <gensim.models.keyedvectors.Vocab at 0x1d203664128>,\n",
       " 'htt': <gensim.models.keyedvectors.Vocab at 0x1d203664160>,\n",
       " '//t.co/G6t1GwTW': <gensim.models.keyedvectors.Vocab at 0x1d203664198>,\n",
       " 'CNN': <gensim.models.keyedvectors.Vocab at 0x1d2036641d0>,\n",
       " 'news': <gensim.models.keyedvectors.Vocab at 0x1d203664208>,\n",
       " '//t.co/2HehvYYZ': <gensim.models.keyedvectors.Vocab at 0x1d203664240>,\n",
       " 'CBSNews': <gensim.models.keyedvectors.Vocab at 0x1d203664278>,\n",
       " 'LATEST': <gensim.models.keyedvectors.Vocab at 0x1d2036642b0>,\n",
       " 'DETAILS': <gensim.models.keyedvectors.Vocab at 0x1d2036642e8>,\n",
       " 'include': <gensim.models.keyedvectors.Vocab at 0x1d203664320>,\n",
       " 'active': <gensim.models.keyedvectors.Vocab at 0x1d203664358>,\n",
       " '//t.co/FuS54wrA': <gensim.models.keyedvectors.Vocab at 0x1d203664390>,\n",
       " 'JamaicaGleaner': <gensim.models.keyedvectors.Vocab at 0x1d2036643c8>,\n",
       " '//t.co/uZAnla8U': <gensim.models.keyedvectors.Vocab at 0x1d203664400>,\n",
       " 'Yahoo/Space-': <gensim.models.keyedvectors.Vocab at 0x1d203664438>,\n",
       " 'WASHINGTON': <gensim.models.keyedvectors.Vocab at 0x1d203664470>,\n",
       " 'magnit': <gensim.models.keyedvectors.Vocab at 0x1d2036644a8>,\n",
       " '//t.co/o60LTx4g': <gensim.models.keyedvectors.Vocab at 0x1d2036644e0>,\n",
       " 'travel': <gensim.models.keyedvectors.Vocab at 0x1d203664518>,\n",
       " '//t.co/dFBziPuJ': <gensim.models.keyedvectors.Vocab at 0x1d203664550>,\n",
       " 'International': <gensim.models.keyedvectors.Vocab at 0x1d203664588>,\n",
       " 'Yahoo': <gensim.models.keyedvectors.Vocab at 0x1d2036645c0>,\n",
       " 'News': <gensim.models.keyedvectors.Vocab at 0x1d2036645f8>,\n",
       " '//t.co/IgSLlNPo': <gensim.models.keyedvectors.Vocab at 0x1d203664630>,\n",
       " 'via': <gensim.models.keyedvectors.Vocab at 0x1d203664668>,\n",
       " '//t.co/5paIoWUj': <gensim.models.keyedvectors.Vocab at 0x1d2036646a0>,\n",
       " 'An': <gensim.models.keyedvectors.Vocab at 0x1d2036646d8>,\n",
       " 'preliminary': <gensim.models.keyedvectors.Vocab at 0x1d203664710>,\n",
       " '//t.co/4vALj5az': <gensim.models.keyedvectors.Vocab at 0x1d203664748>,\n",
       " 'Pura': <gensim.models.keyedvectors.Vocab at 0x1d203664780>,\n",
       " 'Vida': <gensim.models.keyedvectors.Vocab at 0x1d2036647b8>,\n",
       " 'EliteDaily': <gensim.models.keyedvectors.Vocab at 0x1d2036647f0>,\n",
       " 'northern': <gensim.models.keyedvectors.Vocab at 0x1d203664828>,\n",
       " 'trigger': <gensim.models.keyedvectors.Vocab at 0x1d203664860>,\n",
       " 'warning-': <gensim.models.keyedvectors.Vocab at 0x1d203664898>,\n",
       " '//t.co/sgyaU24e': <gensim.models.keyedvectors.Vocab at 0x1d2036648d0>,\n",
       " 'there-just': <gensim.models.keyedvectors.Vocab at 0x1d203664908>,\n",
       " 'hear': <gensim.models.keyedvectors.Vocab at 0x1d203664940>,\n",
       " 'r': <gensim.models.keyedvectors.Vocab at 0x1d203664978>,\n",
       " 'ok': <gensim.models.keyedvectors.Vocab at 0x1d2036649b0>,\n",
       " 'scary': <gensim.models.keyedvectors.Vocab at 0x1d2036649e8>,\n",
       " 'stay': <gensim.models.keyedvectors.Vocab at 0x1d203664a20>,\n",
       " 'way': <gensim.models.keyedvectors.Vocab at 0x1d203664a58>,\n",
       " 'abc7newsBayArea': <gensim.models.keyedvectors.Vocab at 0x1d203664a90>,\n",
       " 'abcnews': <gensim.models.keyedvectors.Vocab at 0x1d203664ac8>,\n",
       " '//t.co/HVOzoRQW': <gensim.models.keyedvectors.Vocab at 0x1d203664b00>,\n",
       " 'Magnitude-7.6': <gensim.models.keyedvectors.Vocab at 0x1d203664b38>,\n",
       " '//t.co/Y8pp9Q4b': <gensim.models.keyedvectors.Vocab at 0x1d203664b70>,\n",
       " '_mannymeister': <gensim.models.keyedvectors.Vocab at 0x1d270774160>,\n",
       " 'thankyou': <gensim.models.keyedvectors.Vocab at 0x1d2707740b8>,\n",
       " 'I': <gensim.models.keyedvectors.Vocab at 0x1d27077a3c8>,\n",
       " 'really': <gensim.models.keyedvectors.Vocab at 0x1d27077a390>,\n",
       " 'need': <gensim.models.keyedvectors.Vocab at 0x1d27bc09518>,\n",
       " 'know': <gensim.models.keyedvectors.Vocab at 0x1d27bc09470>,\n",
       " \"'m\": <gensim.models.keyedvectors.Vocab at 0x1d201fa9d30>,\n",
       " 'md': <gensim.models.keyedvectors.Vocab at 0x1d201fafef0>,\n",
       " 'SonOfAKing3': <gensim.models.keyedvectors.Vocab at 0x1d201fafcc0>,\n",
       " 'UnivisionNews': <gensim.models.keyedvectors.Vocab at 0x1d201fafc88>,\n",
       " 'Northwestern': <gensim.models.keyedvectors.Vocab at 0x1d201faffd0>,\n",
       " 'Ricaâ€�': <gensim.models.keyedvectors.Vocab at 0x1d201fafe48>,\n",
       " '100prayingwomen': <gensim.models.keyedvectors.Vocab at 0x1d201faf7f0>,\n",
       " 'Interior': <gensim.models.keyedvectors.Vocab at 0x1d201faff98>,\n",
       " 'Minister': <gensim.models.keyedvectors.Vocab at 0x1d203664ba8>,\n",
       " 'Hinzpeter': <gensim.models.keyedvectors.Vocab at 0x1d203664be0>,\n",
       " 'yet': <gensim.models.keyedvectors.Vocab at 0x1d203664c18>,\n",
       " 'evacuation': <gensim.models.keyedvectors.Vocab at 0x1d203664c50>,\n",
       " 'order': <gensim.models.keyedvectors.Vocab at 0x1d203664c88>,\n",
       " 'LisaDCNN': <gensim.models.keyedvectors.Vocab at 0x1d203664cc0>,\n",
       " 'UPDATE': <gensim.models.keyedvectors.Vocab at 0x1d203664cf8>,\n",
       " 'CNNweather': <gensim.models.keyedvectors.Vocab at 0x1d203664d30>,\n",
       " 'Warnings': <gensim.models.keyedvectors.Vocab at 0x1d203664d68>,\n",
       " 'remain': <gensim.models.keyedvectors.Vocab at 0x1d203664da0>,\n",
       " 'Panama': <gensim.models.keyedvectors.Vocab at 0x1d203664dd8>,\n",
       " 'Nicaragua': <gensim.models.keyedvectors.Vocab at 0x1d203664e10>,\n",
       " '7.6M': <gensim.models.keyedvectors.Vocab at 0x1d203664e48>,\n",
       " '//t.co/4jg0FjYJ': <gensim.models.keyedvectors.Vocab at 0x1d203664e80>,\n",
       " '[': <gensim.models.keyedvectors.Vocab at 0x1d203664eb8>,\n",
       " 'COSTARICA': <gensim.models.keyedvectors.Vocab at 0x1d203664ef0>,\n",
       " 'ADVISORY': <gensim.models.keyedvectors.Vocab at 0x1d203664f28>,\n",
       " ']': <gensim.models.keyedvectors.Vocab at 0x1d203664f60>,\n",
       " 'NO': <gensim.models.keyedvectors.Vocab at 0x1d203664f98>,\n",
       " 'WAVES': <gensim.models.keyedvectors.Vocab at 0x1d203664fd0>,\n",
       " 'REPORTED': <gensim.models.keyedvectors.Vocab at 0x1d203668048>,\n",
       " 'YET': <gensim.models.keyedvectors.Vocab at 0x1d203668080>,\n",
       " '--': <gensim.models.keyedvectors.Vocab at 0x1d2036680b8>,\n",
       " 'BE': <gensim.models.keyedvectors.Vocab at 0x1d2036680f0>,\n",
       " 'ON': <gensim.models.keyedvectors.Vocab at 0x1d203668128>,\n",
       " 'PRECAUTIONARY': <gensim.models.keyedvectors.Vocab at 0x1d203668160>,\n",
       " 'EVACUATION': <gensim.models.keyedvectors.Vocab at 0x1d203668198>,\n",
       " 'RECOMMENDED': <gensim.models.keyedvectors.Vocab at 0x1d2036681d0>,\n",
       " 'PTWC': <gensim.models.keyedvectors.Vocab at 0x1d203668208>,\n",
       " 'NEWS': <gensim.models.keyedvectors.Vocab at 0x1d203668240>,\n",
       " 'rock': <gensim.models.keyedvectors.Vocab at 0x1d203668278>,\n",
       " 'build': <gensim.models.keyedvectors.Vocab at 0x1d2036682b0>,\n",
       " 'cut': <gensim.models.keyedvectors.Vocab at 0x1d2036682e8>,\n",
       " 'power': <gensim.models.keyedvectors.Vocab at 0x1d203668320>,\n",
       " '//t.co/7bpHsLIw': <gensim.models.keyedvectors.Vocab at 0x1d203668358>,\n",
       " 'Reported': <gensim.models.keyedvectors.Vocab at 0x1d203668390>,\n",
       " 'ABC': <gensim.models.keyedvectors.Vocab at 0x1d2036683c8>,\n",
       " '//t.co/W6UmjhiY': <gensim.models.keyedvectors.Vocab at 0x1d203668400>,\n",
       " 'nbcnightlynews': <gensim.models.keyedvectors.Vocab at 0x1d203668438>,\n",
       " 'Just': <gensim.models.keyedvectors.Vocab at 0x1d203668470>,\n",
       " '//t.co/3i2HJ0e6': <gensim.models.keyedvectors.Vocab at 0x1d2036684a8>,\n",
       " 'Disarm': <gensim.models.keyedvectors.Vocab at 0x1d2036684e0>,\n",
       " 'Major': <gensim.models.keyedvectors.Vocab at 0x1d203668518>,\n",
       " '//t.co/fF1uny0U': <gensim.models.keyedvectors.Vocab at 0x1d203668550>,\n",
       " 'nbcnews': <gensim.models.keyedvectors.Vocab at 0x1d203668588>,\n",
       " 'LatinAmerica': <gensim.models.keyedvectors.Vocab at 0x1d2036685c0>,\n",
       " 'Reutersâ€�': <gensim.models.keyedvectors.Vocab at 0x1d2036685f8>,\n",
       " 'DanielrBarron': <gensim.models.keyedvectors.Vocab at 0x1d203668630>,\n",
       " 'washingtonpost': <gensim.models.keyedvectors.Vocab at 0x1d203668668>,\n",
       " '//t.co/U7u7FDY4â€�': <gensim.models.keyedvectors.Vocab at 0x1d2036686a0>,\n",
       " 'sismocr': <gensim.models.keyedvectors.Vocab at 0x1d2036686d8>,\n",
       " 'Temblocr': <gensim.models.keyedvectors.Vocab at 0x1d203668710>,\n",
       " 'ABC7': <gensim.models.keyedvectors.Vocab at 0x1d203668748>,\n",
       " 'BREAKINGNEWS': <gensim.models.keyedvectors.Vocab at 0x1d203668780>,\n",
       " '7.9-mag': <gensim.models.keyedvectors.Vocab at 0x1d2036687b8>,\n",
       " 'immediate': <gensim.models.keyedvectors.Vocab at 0x1d2036687f0>,\n",
       " 'injuries': <gensim.models.keyedvectors.Vocab at 0x1d203668828>,\n",
       " 'TheNextCorner': <gensim.models.keyedvectors.Vocab at 0x1d203668860>,\n",
       " 'miss': <gensim.models.keyedvectors.Vocab at 0x1d203668898>,\n",
       " '//t.co/iRzYxUA0': <gensim.models.keyedvectors.Vocab at 0x1d2036688d0>,\n",
       " 'ninaism': <gensim.models.keyedvectors.Vocab at 0x1d203668908>,\n",
       " 'georgekourounis': <gensim.models.keyedvectors.Vocab at 0x1d203668940>,\n",
       " 'landslides': <gensim.models.keyedvectors.Vocab at 0x1d203668978>,\n",
       " 'inland': <gensim.models.keyedvectors.Vocab at 0x1d2036689b0>,\n",
       " 'RDLKid': <gensim.models.keyedvectors.Vocab at 0x1d2036689e8>,\n",
       " 'springrose12': <gensim.models.keyedvectors.Vocab at 0x1d203668a20>,\n",
       " 'HDNER': <gensim.models.keyedvectors.Vocab at 0x1d203668a58>,\n",
       " 'cancel': <gensim.models.keyedvectors.Vocab at 0x1d203668a90>,\n",
       " 'mean': <gensim.models.keyedvectors.Vocab at 0x1d203668ac8>,\n",
       " 'Ocean': <gensim.models.keyedvectors.Vocab at 0x1d203668b00>,\n",
       " 'moanikitv': <gensim.models.keyedvectors.Vocab at 0x1d203668b38>,\n",
       " 'threat': <gensim.models.keyedvectors.Vocab at 0x1d203668b70>,\n",
       " 'temblorcr': <gensim.models.keyedvectors.Vocab at 0x1d203668ba8>,\n",
       " 'Is': <gensim.models.keyedvectors.Vocab at 0x1d203668be0>,\n",
       " 'OK': <gensim.models.keyedvectors.Vocab at 0x1d203668c18>,\n",
       " 'worry': <gensim.models.keyedvectors.Vocab at 0x1d203668c50>,\n",
       " 'RobDavis_Wx': <gensim.models.keyedvectors.Vocab at 0x1d203668c88>,\n",
       " 'LANDSLIDE': <gensim.models.keyedvectors.Vocab at 0x1d203668cc0>,\n",
       " 'road': <gensim.models.keyedvectors.Vocab at 0x1d203668cf8>,\n",
       " 'block': <gensim.models.keyedvectors.Vocab at 0x1d203668d30>,\n",
       " 'M7.6': <gensim.models.keyedvectors.Vocab at 0x1d203668d68>,\n",
       " '//t.co/e5c2AUas': <gensim.models.keyedvectors.Vocab at 0x1d203668da0>,\n",
       " 'courtesy': <gensim.models.keyedvectors.Vocab at 0x1d203668dd8>,\n",
       " 'skasoul': <gensim.models.keyedvectors.Vocab at 0x1d203668e10>,\n",
       " 'NOSARA': <gensim.models.keyedvectors.Vocab at 0x1d203668e48>,\n",
       " 'AP': <gensim.models.keyedvectors.Vocab at 0x1d203668e80>,\n",
       " 'â€': <gensim.models.keyedvectors.Vocab at 0x1d203668eb8>,\n",
       " '”': <gensim.models.keyedvectors.Vocab at 0x1d203668ef0>,\n",
       " 'magnitude-7': <gensim.models.keyedvectors.Vocab at 0x1d203668f28>,\n",
       " '//t.co/fueoYIDe': <gensim.models.keyedvectors.Vocab at 0x1d203668f60>,\n",
       " 'Newsfeed': <gensim.models.keyedvectors.Vocab at 0x1d203668f98>,\n",
       " '//t.co/odMEBADD': <gensim.models.keyedvectors.Vocab at 0x1d203668fd0>,\n",
       " 'Politics': <gensim.models.keyedvectors.Vocab at 0x1d20366d048>,\n",
       " 'AustralianBuzz': <gensim.models.keyedvectors.Vocab at 0x1d20366d080>,\n",
       " 'Sth': <gensim.models.keyedvectors.Vocab at 0x1d20366d0b8>,\n",
       " '//t.co/8ojLIy2i': <gensim.models.keyedvectors.Vocab at 0x1d20366d0f0>,\n",
       " 'theBuzz': <gensim.models.keyedvectors.Vocab at 0x1d20366d128>,\n",
       " 'Michelle9647': <gensim.models.keyedvectors.Vocab at 0x1d20366d160>,\n",
       " 'Red': <gensim.models.keyedvectors.Vocab at 0x1d20366d198>,\n",
       " 'Cross': <gensim.models.keyedvectors.Vocab at 0x1d20366d1d0>,\n",
       " 'casualties': <gensim.models.keyedvectors.Vocab at 0x1d20366d208>,\n",
       " 'far': <gensim.models.keyedvectors.Vocab at 0x1d20366d240>,\n",
       " 'JALpalyul': <gensim.models.keyedvectors.Vocab at 0x1d20366d278>,\n",
       " '//t.co/IroAyLyv': <gensim.models.keyedvectors.Vocab at 0x1d20366d2b0>,\n",
       " '//t.co/kZ20IzD0': <gensim.models.keyedvectors.Vocab at 0x1d20366d2e8>,\n",
       " 'AffiliateDesire': <gensim.models.keyedvectors.Vocab at 0x1d20366d320>,\n",
       " 'Quality': <gensim.models.keyedvectors.Vocab at 0x1d20366d358>,\n",
       " 'Footage': <gensim.models.keyedvectors.Vocab at 0x1d20366d390>,\n",
       " 'Sept': <gensim.models.keyedvectors.Vocab at 0x1d20366d3c8>,\n",
       " '5th': <gensim.models.keyedvectors.Vocab at 0x1d20366d400>,\n",
       " '//t.co/fqZodBMJ': <gensim.models.keyedvectors.Vocab at 0x1d20366d438>,\n",
       " 'Bummer': <gensim.models.keyedvectors.Vocab at 0x1d20366d470>,\n",
       " 'locals': <gensim.models.keyedvectors.Vocab at 0x1d20366d4a8>,\n",
       " 'amp': <gensim.models.keyedvectors.Vocab at 0x1d20366d4e0>,\n",
       " 'vacationers': <gensim.models.keyedvectors.Vocab at 0x1d20366d518>,\n",
       " '//t.co/6sL4AtOj': <gensim.models.keyedvectors.Vocab at 0x1d20366d550>,\n",
       " 'Hope': <gensim.models.keyedvectors.Vocab at 0x1d20366d588>,\n",
       " 'well': <gensim.models.keyedvectors.Vocab at 0x1d20366d5c0>,\n",
       " 'TravelGov': <gensim.models.keyedvectors.Vocab at 0x1d20366d5f8>,\n",
       " 'EmergencyMessage': <gensim.models.keyedvectors.Vocab at 0x1d20366d630>,\n",
       " 'ElSalvador': <gensim.models.keyedvectors.Vocab at 0x1d20366d668>,\n",
       " 'others': <gensim.models.keyedvectors.Vocab at 0x1d20366d6a0>,\n",
       " 'ht': <gensim.models.keyedvectors.Vocab at 0x1d20366d6d8>,\n",
       " 'downgrade': <gensim.models.keyedvectors.Vocab at 0x1d20366d710>,\n",
       " 'lift': <gensim.models.keyedvectors.Vocab at 0x1d20366d748>,\n",
       " 'still': <gensim.models.keyedvectors.Vocab at 0x1d20366d780>,\n",
       " 'place': <gensim.models.keyedvectors.Vocab at 0x1d20366d7b8>,\n",
       " 'official': <gensim.models.keyedvectors.Vocab at 0x1d20366d7f0>,\n",
       " 'There': <gensim.models.keyedvectors.Vocab at 0x1d20366d828>,\n",
       " 'chaos': <gensim.models.keyedvectors.Vocab at 0x1d20366d860>,\n",
       " 'strong': <gensim.models.keyedvectors.Vocab at 0x1d20366d898>,\n",
       " 'long': <gensim.models.keyedvectors.Vocab at 0x1d20366d8d0>,\n",
       " 'duration': <gensim.models.keyedvectors.Vocab at 0x1d20366d908>,\n",
       " '//t.co/XM78Yz5P': <gensim.models.keyedvectors.Vocab at 0x1d20366d940>,\n",
       " '-MM': <gensim.models.keyedvectors.Vocab at 0x1d20366d978>,\n",
       " 'WorldNews': <gensim.models.keyedvectors.Vocab at 0x1d20366d9b0>,\n",
       " 'Some': <gensim.models.keyedvectors.Vocab at 0x1d20366d9e8>,\n",
       " '//t.co/qi7aZ6mk': <gensim.models.keyedvectors.Vocab at 0x1d20366da20>,\n",
       " '//t.co/c9TCmf1F': <gensim.models.keyedvectors.Vocab at 0x1d20366da58>,\n",
       " 'north-west': <gensim.models.keyedvectors.Vocab at 0x1d20366da90>,\n",
       " 'C': <gensim.models.keyedvectors.Vocab at 0x1d20366dac8>,\n",
       " '//t.co/9lsjq70l': <gensim.models.keyedvectors.Vocab at 0x1d20366db00>,\n",
       " 'razaespn': <gensim.models.keyedvectors.Vocab at 0x1d20366db38>,\n",
       " 'Estadio': <gensim.models.keyedvectors.Vocab at 0x1d20366db70>,\n",
       " 'Nacional': <gensim.models.keyedvectors.Vocab at 0x1d20366dba8>,\n",
       " 'Issued': <gensim.models.keyedvectors.Vocab at 0x1d20366dbe0>,\n",
       " '//t.co/0o4UuN0t': <gensim.models.keyedvectors.Vocab at 0x1d20366dc18>,\n",
       " 'far-Red': <gensim.models.keyedvectors.Vocab at 0x1d20366dc50>,\n",
       " '//t.co/JwixjWBI': <gensim.models.keyedvectors.Vocab at 0x1d20366dc88>,\n",
       " 'redcross': <gensim.models.keyedvectors.Vocab at 0x1d20366dcc0>,\n",
       " 'morning': <gensim.models.keyedvectors.Vocab at 0x1d20366dcf8>,\n",
       " '2': <gensim.models.keyedvectors.Vocab at 0x1d20366dd30>,\n",
       " 'hours': <gensim.models.keyedvectors.Vocab at 0x1d20366dd68>,\n",
       " 'honeymoon': <gensim.models.keyedvectors.Vocab at 0x1d20366dda0>,\n",
       " 'spot': <gensim.models.keyedvectors.Vocab at 0x1d20366ddd8>,\n",
       " 'NBCNews': <gensim.models.keyedvectors.Vocab at 0x1d20366de10>,\n",
       " '//t.co/i4mBTrzG': <gensim.models.keyedvectors.Vocab at 0x1d20366de48>,\n",
       " '//t.co/u8DiLvBG': <gensim.models.keyedvectors.Vocab at 0x1d20366de80>,\n",
       " 'amarchugg': <gensim.models.keyedvectors.Vocab at 0x1d20366deb8>,\n",
       " 'That': <gensim.models.keyedvectors.Vocab at 0x1d20366def0>,\n",
       " 'sustain': <gensim.models.keyedvectors.Vocab at 0x1d20366df28>,\n",
       " 'tens': <gensim.models.keyedvectors.Vocab at 0x1d20366df60>,\n",
       " 'hundreds': <gensim.models.keyedvectors.Vocab at 0x1d20366df98>,\n",
       " 'dollars': <gensim.models.keyedvectors.Vocab at 0x1d20366dfd0>,\n",
       " 'worth': <gensim.models.keyedvectors.Vocab at 0x1d203670048>,\n",
       " 'Very': <gensim.models.keyedvectors.Vocab at 0x1d203670080>,\n",
       " 'sad': <gensim.models.keyedvectors.Vocab at 0x1d2036700b8>,\n",
       " 'magnitude-7.6': <gensim.models.keyedvectors.Vocab at 0x1d2036700f0>,\n",
       " 'wide': <gensim.models.keyedvectors.Vocab at 0x1d203670128>,\n",
       " 'swath': <gensim.models.keyedvectors.Vocab at 0x1d203670160>,\n",
       " 'Wednesday': <gensim.models.keyedvectors.Vocab at 0x1d203670198>,\n",
       " 'usa': <gensim.models.keyedvectors.Vocab at 0x1d2036701d0>,\n",
       " 'today': <gensim.models.keyedvectors.Vocab at 0x1d203670208>,\n",
       " 'tod': <gensim.models.keyedvectors.Vocab at 0x1d203670240>,\n",
       " '//t.co/arJ2dp3x': <gensim.models.keyedvectors.Vocab at 0x1d203670278>,\n",
       " '38': <gensim.models.keyedvectors.Vocab at 0x1d2036702b0>,\n",
       " '25': <gensim.models.keyedvectors.Vocab at 0x1d2036702e8>,\n",
       " 'surface': <gensim.models.keyedvectors.Vocab at 0x1d203670320>,\n",
       " 'fatalities': <gensim.models.keyedvectors.Vocab at 0x1d203670358>,\n",
       " 'Strikes': <gensim.models.keyedvectors.Vocab at 0x1d203670390>,\n",
       " 'Off': <gensim.models.keyedvectors.Vocab at 0x1d2036703c8>,\n",
       " 'measurin': <gensim.models.keyedvectors.Vocab at 0x1d203670400>,\n",
       " '//t.co/HgyxRGCP': <gensim.models.keyedvectors.Vocab at 0x1d203670438>,\n",
       " 'HuffingtonPost': <gensim.models.keyedvectors.Vocab at 0x1d203670470>,\n",
       " '//t.co/c9fM5iGF': <gensim.models.keyedvectors.Vocab at 0x1d2036704a8>,\n",
       " '//t.co/uRzQz9oh': <gensim.models.keyedvectors.Vocab at 0x1d2036704e0>,\n",
       " 'info': <gensim.models.keyedvectors.Vocab at 0x1d203670518>,\n",
       " '//t.co/5FyzyrGC': <gensim.models.keyedvectors.Vocab at 0x1d203670550>,\n",
       " 'largest': <gensim.models.keyedvectors.Vocab at 0x1d203670588>,\n",
       " 'since': <gensim.models.keyedvectors.Vocab at 0x1d2036705c0>,\n",
       " '1991': <gensim.models.keyedvectors.Vocab at 0x1d2036705f8>,\n",
       " '//t.co/bDiSXERD': <gensim.models.keyedvectors.Vocab at 0x1d203670630>,\n",
       " '//t.co/5wnQNFw7': <gensim.models.keyedvectors.Vocab at 0x1d203670668>,\n",
       " 'LoL..WTH': <gensim.models.keyedvectors.Vocab at 0x1d2036706a0>,\n",
       " 'earthquake..': <gensim.models.keyedvectors.Vocab at 0x1d2036706d8>,\n",
       " 'God': <gensim.models.keyedvectors.Vocab at 0x1d203670710>,\n",
       " 'take': <gensim.models.keyedvectors.Vocab at 0x1d203670748>,\n",
       " 'care': <gensim.models.keyedvectors.Vocab at 0x1d203670780>,\n",
       " 'us': <gensim.models.keyedvectors.Vocab at 0x1d2036707b8>,\n",
       " 'First': <gensim.models.keyedvectors.Vocab at 0x1d2036707f0>,\n",
       " 'VIDEO': <gensim.models.keyedvectors.Vocab at 0x1d203670828>,\n",
       " '//t.co/pkSZQESr': <gensim.models.keyedvectors.Vocab at 0x1d203670860>,\n",
       " 'Independent': <gensim.models.keyedvectors.Vocab at 0x1d203670898>,\n",
       " '//t.co/PyeTR5b8': <gensim.models.keyedvectors.Vocab at 0x1d2036708d0>,\n",
       " '28-mile': <gensim.models.keyedvectors.Vocab at 0x1d203670908>,\n",
       " 'deep': <gensim.models.keyedvectors.Vocab at 0x1d203670940>,\n",
       " 'Wednes': <gensim.models.keyedvectors.Vocab at 0x1d203670978>,\n",
       " '//t.co/QUEEUkYS': <gensim.models.keyedvectors.Vocab at 0x1d2036709b0>,\n",
       " 'Pray': <gensim.models.keyedvectors.Vocab at 0x1d2036709e8>,\n",
       " 'safe': <gensim.models.keyedvectors.Vocab at 0x1d203670a20>,\n",
       " 'CostaRican': <gensim.models.keyedvectors.Vocab at 0x1d203670a58>,\n",
       " '//t.co/3PBwSz4y': <gensim.models.keyedvectors.Vocab at 0x1d203670a90>,\n",
       " 'Nooo': <gensim.models.keyedvectors.Vocab at 0x1d203670ac8>,\n",
       " '//t.co/ta2f2KpZ': <gensim.models.keyedvectors.Vocab at 0x1d203670b00>,\n",
       " '-MMâ€�': <gensim.models.keyedvectors.Vocab at 0x1d203670b38>,\n",
       " 'president': <gensim.models.keyedvectors.Vocab at 0x1d203670b70>,\n",
       " 'loss': <gensim.models.keyedvectors.Vocab at 0x1d203670ba8>,\n",
       " 'life': <gensim.models.keyedvectors.Vocab at 0x1d203670be0>,\n",
       " 'update': <gensim.models.keyedvectors.Vocab at 0x1d203670c18>,\n",
       " '//t.co/BGETbzo': <gensim.models.keyedvectors.Vocab at 0x1d203670c50>,\n",
       " '//t.co/UNj9Z75K': <gensim.models.keyedvectors.Vocab at 0x1d203670c88>,\n",
       " 'â—¦': <gensim.models.keyedvectors.Vocab at 0x1d203670cc0>,\n",
       " 'Kyodo': <gensim.models.keyedvectors.Vocab at 0x1d203670cf8>,\n",
       " 'jolt': <gensim.models.keyedvectors.Vocab at 0x1d203670d30>,\n",
       " 'regional': <gensim.models.keyedvectors.Vocab at 0x1d203670d68>,\n",
       " '//t.co/bALQNQ0l': <gensim.models.keyedvectors.Vocab at 0x1d203670da0>,\n",
       " 'japan': <gensim.models.keyedvectors.Vocab at 0x1d203670dd8>,\n",
       " '//t.co/nQscFMTU': <gensim.models.keyedvectors.Vocab at 0x1d203670e10>,\n",
       " 'WilliamTeach': <gensim.models.keyedvectors.Vocab at 0x1d203670e48>,\n",
       " 'Which': <gensim.models.keyedvectors.Vocab at 0x1d203670e80>,\n",
       " 'Warmist': <gensim.models.keyedvectors.Vocab at 0x1d203670eb8>,\n",
       " 'first': <gensim.models.keyedvectors.Vocab at 0x1d203670ef0>,\n",
       " 'blame': <gensim.models.keyedvectors.Vocab at 0x1d203670f28>,\n",
       " 'climate': <gensim.models.keyedvectors.Vocab at 0x1d203670f60>,\n",
       " 'change': <gensim.models.keyedvectors.Vocab at 0x1d203670f98>,\n",
       " '//': <gensim.models.keyedvectors.Vocab at 0x1d203670fd0>,\n",
       " 'Dumbass': <gensim.models.keyedvectors.Vocab at 0x1d203673048>,\n",
       " 'see': <gensim.models.keyedvectors.Vocab at 0x1d203673080>,\n",
       " 'GEOLOGY..': <gensim.models.keyedvectors.Vocab at 0x1d2036730b8>,\n",
       " '//t.co/i7KZ1uZX': <gensim.models.keyedvectors.Vocab at 0x1d2036730f0>,\n",
       " '//t.co/nzoIPEe7': <gensim.models.keyedvectors.Vocab at 0x1d203673128>,\n",
       " 'TimJohnson4': <gensim.models.keyedvectors.Vocab at 0x1d203673160>,\n",
       " 'prez': <gensim.models.keyedvectors.Vocab at 0x1d203673198>,\n",
       " 'Damage': <gensim.models.keyedvectors.Vocab at 0x1d2036731d0>,\n",
       " 'deaths': <gensim.models.keyedvectors.Vocab at 0x1d203673208>,\n",
       " 'aircraft': <gensim.models.keyedvectors.Vocab at 0x1d203673240>,\n",
       " 'survey': <gensim.models.keyedvectors.Vocab at 0x1d203673278>,\n",
       " 'affect': <gensim.models.keyedvectors.Vocab at 0x1d2036732b0>,\n",
       " '//t.co/kYreOVVw': <gensim.models.keyedvectors.Vocab at 0x1d2036732e8>,\n",
       " 'CHICABRAVA': <gensim.models.keyedvectors.Vocab at 0x1d203673320>,\n",
       " 'stoke': <gensim.models.keyedvectors.Vocab at 0x1d203673358>,\n",
       " 'style': <gensim.models.keyedvectors.Vocab at 0x1d203673390>,\n",
       " 'wait': <gensim.models.keyedvectors.Vocab at 0x1d2036733c8>,\n",
       " 'huge': <gensim.models.keyedvectors.Vocab at 0x1d203673400>,\n",
       " '//t.co/fYuOgSmR': <gensim.models.keyedvectors.Vocab at 0x1d203673438>,\n",
       " 'TIME': <gensim.models.keyedvectors.Vocab at 0x1d203673470>,\n",
       " '|': <gensim.models.keyedvectors.Vocab at 0x1d2036734a8>,\n",
       " '//t.co/NairyArP': <gensim.models.keyedvectors.Vocab at 0x1d2036734e0>,\n",
       " 'Holy': <gensim.models.keyedvectors.Vocab at 0x1d203673518>,\n",
       " 'shit': <gensim.models.keyedvectors.Vocab at 0x1d203673550>,\n",
       " 'Unbelievable..': <gensim.models.keyedvectors.Vocab at 0x1d203673588>,\n",
       " 'Would': <gensim.models.keyedvectors.Vocab at 0x1d2036735c0>,\n",
       " 'never': <gensim.models.keyedvectors.Vocab at 0x1d2036735f8>,\n",
       " 'expect': <gensim.models.keyedvectors.Vocab at 0x1d203673630>,\n",
       " 'sort': <gensim.models.keyedvectors.Vocab at 0x1d203673668>,\n",
       " 'extreme': <gensim.models.keyedvectors.Vocab at 0x1d2036736a0>,\n",
       " 'fault': <gensim.models.keyedvectors.Vocab at 0x1d2036736d8>,\n",
       " 'activity': <gensim.models.keyedvectors.Vocab at 0x1d203673710>,\n",
       " 'region..': <gensim.models.keyedvectors.Vocab at 0x1d203673748>,\n",
       " 'prayers😔': <gensim.models.keyedvectors.Vocab at 0x1d203673780>,\n",
       " 'URGENT': <gensim.models.keyedvectors.Vocab at 0x1d2036737b8>,\n",
       " '//t.co/3EC6L3wM': <gensim.models.keyedvectors.Vocab at 0x1d2036737f0>,\n",
       " 'csmonitor': <gensim.models.keyedvectors.Vocab at 0x1d203673828>,\n",
       " '//t.co/jhgKhyJDâ€�///': <gensim.models.keyedvectors.Vocab at 0x1d203673860>,\n",
       " 'prayer': <gensim.models.keyedvectors.Vocab at 0x1d203673898>,\n",
       " '“': <gensim.models.keyedvectors.Vocab at 0x1d2036738d0>,\n",
       " '//t.co/JwTblOtO': <gensim.models.keyedvectors.Vocab at 0x1d203673908>,\n",
       " 'dustinbrowning': <gensim.models.keyedvectors.Vocab at 0x1d203673940>,\n",
       " 'SamuRojas': <gensim.models.keyedvectors.Vocab at 0x1d203673978>,\n",
       " 'antikCR': <gensim.models.keyedvectors.Vocab at 0x1d2036739b0>,\n",
       " 'w': <gensim.models.keyedvectors.Vocab at 0x1d2036739e8>,\n",
       " 'newslocker': <gensim.models.keyedvectors.Vocab at 0x1d203673a20>,\n",
       " '//t.co/k3CiuTKR': <gensim.models.keyedvectors.Vocab at 0x1d203673a58>,\n",
       " 'cause': <gensim.models.keyedvectors.Vocab at 0x1d203673a90>,\n",
       " '//t.co/ee16Q4z8': <gensim.models.keyedvectors.Vocab at 0x1d203673ac8>,\n",
       " 'Ca': <gensim.models.keyedvectors.Vocab at 0x1d203673b00>,\n",
       " \"n't\": <gensim.models.keyedvectors.Vocab at 0x1d203673b38>,\n",
       " 'believe': <gensim.models.keyedvectors.Vocab at 0x1d203673b70>,\n",
       " 'happy': <gensim.models.keyedvectors.Vocab at 0x1d203673ba8>,\n",
       " 'family': <gensim.models.keyedvectors.Vocab at 0x1d203673be0>,\n",
       " 'fortunate': <gensim.models.keyedvectors.Vocab at 0x1d203673c18>,\n",
       " 'DICE': <gensim.models.keyedvectors.Vocab at 0x1d203673c50>,\n",
       " 'two': <gensim.models.keyedvectors.Vocab at 0x1d203673c88>,\n",
       " 'dead': <gensim.models.keyedvectors.Vocab at 0x1d203673cc0>,\n",
       " 'one': <gensim.models.keyedvectors.Vocab at 0x1d203673cf8>,\n",
       " 'fatality': <gensim.models.keyedvectors.Vocab at 0x1d203673d30>,\n",
       " 'resu': <gensim.models.keyedvectors.Vocab at 0x1d203673d68>,\n",
       " '//t.co/02a3OoUX': <gensim.models.keyedvectors.Vocab at 0x1d203673da0>,\n",
       " 'cuba': <gensim.models.keyedvectors.Vocab at 0x1d203673dd8>,\n",
       " 'abajoRaul': <gensim.models.keyedvectors.Vocab at 0x1d203673e10>,\n",
       " 'Update': <gensim.models.keyedvectors.Vocab at 0x1d203673e48>,\n",
       " 'heart': <gensim.models.keyedvectors.Vocab at 0x1d203673e80>,\n",
       " 'attack': <gensim.models.keyedvectors.Vocab at 0x1d203673eb8>,\n",
       " 'CPPGeophysics': <gensim.models.keyedvectors.Vocab at 0x1d203673ef0>,\n",
       " 'Nice': <gensim.models.keyedvectors.Vocab at 0x1d203673f28>,\n",
       " 'visualization': <gensim.models.keyedvectors.Vocab at 0x1d203673f60>,\n",
       " 'seismic': <gensim.models.keyedvectors.Vocab at 0x1d203673f98>,\n",
       " 'wave': <gensim.models.keyedvectors.Vocab at 0x1d203673fd0>,\n",
       " 'propagate': <gensim.models.keyedvectors.Vocab at 0x1d203677048>,\n",
       " 'USArray': <gensim.models.keyedvectors.Vocab at 0x1d203677080>,\n",
       " 'EarthScopeInfo': <gensim.models.keyedvectors.Vocab at 0x1d2036770b8>,\n",
       " 'DarinRMcClure': <gensim.models.keyedvectors.Vocab at 0x1d2036770f0>,\n",
       " 'Praying': <gensim.models.keyedvectors.Vocab at 0x1d203677128>,\n",
       " 'YourAnonNews': <gensim.models.keyedvectors.Vocab at 0x1d203677160>,\n",
       " 'YAN': <gensim.models.keyedvectors.Vocab at 0x1d203677198>,\n",
       " '//t.co/GKGYrsLT': <gensim.models.keyedvectors.Vocab at 0x1d2036771d0>,\n",
       " 'Bad': <gensim.models.keyedvectors.Vocab at 0x1d203677208>,\n",
       " 'Know': <gensim.models.keyedvectors.Vocab at 0x1d203677240>,\n",
       " 'Pac': <gensim.models.keyedvectors.Vocab at 0x1d203677278>,\n",
       " 'NWers': <gensim.models.keyedvectors.Vocab at 0x1d2036772b0>,\n",
       " 'Pls': <gensim.models.keyedvectors.Vocab at 0x1d2036772e8>,\n",
       " 'contact': <gensim.models.keyedvectors.Vocab at 0x1d203677320>,\n",
       " 'NW': <gensim.models.keyedvectors.Vocab at 0x1d203677358>,\n",
       " 'NPR': <gensim.models.keyedvectors.Vocab at 0x1d203677390>,\n",
       " 'tombanse': <gensim.models.keyedvectors.Vocab at 0x1d2036773c8>,\n",
       " '//t.co/n4HTkpYt': <gensim.models.keyedvectors.Vocab at 0x1d203677400>,\n",
       " 'worldnews': <gensim.models.keyedvectors.Vocab at 0x1d203677438>,\n",
       " '//t.co/n1r84z2j.auPowerful': <gensim.models.keyedvectors.Vocab at 0x1d203677470>,\n",
       " 'q': <gensim.models.keyedvectors.Vocab at 0x1d2036774a8>,\n",
       " '//t.co/kZjsFTDY': <gensim.models.keyedvectors.Vocab at 0x1d2036774e0>,\n",
       " 'WideRangeMarket': <gensim.models.keyedvectors.Vocab at 0x1d203677518>,\n",
       " '//t.co/oKAri8Tq': <gensim.models.keyedvectors.Vocab at 0x1d203677550>,\n",
       " 'Canceled': <gensim.models.keyedvectors.Vocab at 0x1d203677588>,\n",
       " 'After': <gensim.models.keyedvectors.Vocab at 0x1d2036775c0>,\n",
       " 'In': <gensim.models.keyedvectors.Vocab at 0x1d2036775f8>,\n",
       " 'The': <gensim.models.keyedvectors.Vocab at 0x1d203677630>,\n",
       " 'Two-Way': <gensim.models.keyedvectors.Vocab at 0x1d203677668>,\n",
       " '//t.co/IVlHkIFm': <gensim.models.keyedvectors.Vocab at 0x1d2036776a0>,\n",
       " 'Earth': <gensim.models.keyedvectors.Vocab at 0x1d2036776d8>,\n",
       " 'Matias': <gensim.models.keyedvectors.Vocab at 0x1d203677710>,\n",
       " 'Doing': <gensim.models.keyedvectors.Vocab at 0x1d203677748>,\n",
       " 'Good': <gensim.models.keyedvectors.Vocab at 0x1d203677780>,\n",
       " 'c': <gensim.models.keyedvectors.Vocab at 0x1d2036777b8>,\n",
       " 'Gon': <gensim.models.keyedvectors.Vocab at 0x1d2036777f0>,\n",
       " 'na': <gensim.models.keyedvectors.Vocab at 0x1d203677828>,\n",
       " 'Try': <gensim.models.keyedvectors.Vocab at 0x1d203677860>,\n",
       " 'Calling': <gensim.models.keyedvectors.Vocab at 0x1d203677898>,\n",
       " 'His': <gensim.models.keyedvectors.Vocab at 0x1d2036778d0>,\n",
       " 'Momma': <gensim.models.keyedvectors.Vocab at 0x1d203677908>,\n",
       " 'Later': <gensim.models.keyedvectors.Vocab at 0x1d203677940>,\n",
       " 'fo': <gensim.models.keyedvectors.Vocab at 0x1d203677978>,\n",
       " 'Angie': <gensim.models.keyedvectors.Vocab at 0x1d2036779b0>,\n",
       " 'Thompson': <gensim.models.keyedvectors.Vocab at 0x1d2036779e8>,\n",
       " 'Messerschmidt': <gensim.models.keyedvectors.Vocab at 0x1d203677a20>,\n",
       " 'Claryssa-Faye': <gensim.models.keyedvectors.Vocab at 0x1d203677a58>,\n",
       " 'Skie': <gensim.models.keyedvectors.Vocab at 0x1d203677a90>,\n",
       " '//t.co/gwzRqTYE': <gensim.models.keyedvectors.Vocab at 0x1d203677ac8>,\n",
       " 'Did': <gensim.models.keyedvectors.Vocab at 0x1d203677b00>,\n",
       " '14:42:10': <gensim.models.keyedvectors.Vocab at 0x1d203677b38>,\n",
       " '//t.co/kErgzOEC': <gensim.models.keyedvectors.Vocab at 0x1d203677b70>,\n",
       " 'eTN': <gensim.models.keyedvectors.Vocab at 0x1d203677ba8>,\n",
       " 'India': <gensim.models.keyedvectors.Vocab at 0x1d203677be0>,\n",
       " 'IBNLive.comPowerful': <gensim.models.keyedvectors.Vocab at 0x1d203677c18>,\n",
       " 'deadReu': <gensim.models.keyedvectors.Vocab at 0x1d203677c50>,\n",
       " '//t.co/fdR7rYY2': <gensim.models.keyedvectors.Vocab at 0x1d203677c88>,\n",
       " 'Two': <gensim.models.keyedvectors.Vocab at 0x1d203677cc0>,\n",
       " '20': <gensim.models.keyedvectors.Vocab at 0x1d203677cf8>,\n",
       " 'injure': <gensim.models.keyedvectors.Vocab at 0x1d203677d30>,\n",
       " 'major': <gensim.models.keyedvectors.Vocab at 0x1d203677d68>,\n",
       " 'Piedras': <gensim.models.keyedvectors.Vocab at 0x1d203677da0>,\n",
       " 'homestay': <gensim.models.keyedvectors.Vocab at 0x1d203677dd8>,\n",
       " 'families': <gensim.models.keyedvectors.Vocab at 0x1d203677e10>,\n",
       " 'Isidro': <gensim.models.keyedvectors.Vocab at 0x1d203677e48>,\n",
       " 'de': <gensim.models.keyedvectors.Vocab at 0x1d203677e80>,\n",
       " 'Heredia': <gensim.models.keyedvectors.Vocab at 0x1d203677eb8>,\n",
       " 'everyone': <gensim.models.keyedvectors.Vocab at 0x1d203677ef0>,\n",
       " 'fine': <gensim.models.keyedvectors.Vocab at 0x1d203677f28>,\n",
       " 'MrVop': <gensim.models.keyedvectors.Vocab at 0x1d203677f60>,\n",
       " '//t.co/c9CDEDv0': <gensim.models.keyedvectors.Vocab at 0x1d203677f98>,\n",
       " 'BBC': <gensim.models.keyedvectors.Vocab at 0x1d203677fd0>,\n",
       " 'RandyDorfman': <gensim.models.keyedvectors.Vocab at 0x1d20367b048>,\n",
       " 'WCOOP': <gensim.models.keyedvectors.Vocab at 0x1d20367b080>,\n",
       " 'players': <gensim.models.keyedvectors.Vocab at 0x1d20367b0b8>,\n",
       " 'USA': <gensim.models.keyedvectors.Vocab at 0x1d20367b0f0>,\n",
       " 'TODAY7.6-magnitude': <gensim.models.keyedvectors.Vocab at 0x1d20367b128>,\n",
       " 'coastCNN': <gensim.models.keyedvectors.Vocab at 0x1d20367b160>,\n",
       " '//t.co/h76G8HKq': <gensim.models.keyedvectors.Vocab at 0x1d20367b198>,\n",
       " 'Online': <gensim.models.keyedvectors.Vocab at 0x1d20367b1d0>,\n",
       " 'NewsMagnitude': <gensim.models.keyedvectors.Vocab at 0x1d20367b208>,\n",
       " 'RicaABC': <gensim.models.keyedvectors.Vocab at 0x1d20367b240>,\n",
       " 'OnlineA': <gensim.models.keyedvectors.Vocab at 0x1d20367b278>,\n",
       " 'pow': <gensim.models.keyedvectors.Vocab at 0x1d20367b2b0>,\n",
       " '//t.co/WHyfdam5': <gensim.models.keyedvectors.Vocab at 0x1d20367b2e8>,\n",
       " 'Our': <gensim.models.keyedvectors.Vocab at 0x1d20367b320>,\n",
       " 'hearts': <gensim.models.keyedvectors.Vocab at 0x1d20367b358>,\n",
       " 'impact': <gensim.models.keyedvectors.Vocab at 0x1d20367b390>,\n",
       " 'Covering': <gensim.models.keyedvectors.Vocab at 0x1d20367b3c8>,\n",
       " 'TheAngieShow': <gensim.models.keyedvectors.Vocab at 0x1d20367b400>,\n",
       " 'Associated': <gensim.models.keyedvectors.Vocab at 0x1d20367b438>,\n",
       " 'Press': <gensim.models.keyedvectors.Vocab at 0x1d20367b470>,\n",
       " 'ar': <gensim.models.keyedvectors.Vocab at 0x1d20367b4a8>,\n",
       " '//t.co/5uNpnKeL': <gensim.models.keyedvectors.Vocab at 0x1d20367b4e0>,\n",
       " 'Fox': <gensim.models.keyedvectors.Vocab at 0x1d20367b518>,\n",
       " 'SAN': <gensim.models.keyedvectors.Vocab at 0x1d20367b550>,\n",
       " 'JOSE': <gensim.models.keyedvectors.Vocab at 0x1d20367b588>,\n",
       " '//t.co/I9VkFGdB': <gensim.models.keyedvectors.Vocab at 0x1d20367b5c0>,\n",
       " 'stupid': <gensim.models.keyedvectors.Vocab at 0x1d20367b5f8>,\n",
       " 'trend': <gensim.models.keyedvectors.Vocab at 0x1d20367b630>,\n",
       " 'Viva': <gensim.models.keyedvectors.Vocab at 0x1d20367b668>,\n",
       " 'bitch': <gensim.models.keyedvectors.Vocab at 0x1d20367b6a0>,\n",
       " 'CostaRicaEarthquake': <gensim.models.keyedvectors.Vocab at 0x1d20367b6d8>,\n",
       " 'REN': <gensim.models.keyedvectors.Vocab at 0x1d20367b710>,\n",
       " '//t.co/5u8l45bY': <gensim.models.keyedvectors.Vocab at 0x1d20367b748>,\n",
       " 'Federation': <gensim.models.keyedvectors.Vocab at 0x1d20367b780>,\n",
       " 'ready': <gensim.models.keyedvectors.Vocab at 0x1d20367b7b8>,\n",
       " 'action': <gensim.models.keyedvectors.Vocab at 0x1d20367b7f0>,\n",
       " '//t.co/u0V8rrQG': <gensim.models.keyedvectors.Vocab at 0x1d20367b828>,\n",
       " '4:11pm': <gensim.models.keyedvectors.Vocab at 0x1d20367b860>,\n",
       " '15m': <gensim.models.keyedvectors.Vocab at 0x1d20367b898>,\n",
       " '71km': <gensim.models.keyedvectors.Vocab at 0x1d20367b8d0>,\n",
       " '35km': <gensim.models.keyedvectors.Vocab at 0x1d20367b908>,\n",
       " '//t.co/gjTxM14O': <gensim.models.keyedvectors.Vocab at 0x1d20367b940>,\n",
       " 'We': <gensim.models.keyedvectors.Vocab at 0x1d20367b978>,\n",
       " 'experience': <gensim.models.keyedvectors.Vocab at 0x1d20367b9b0>,\n",
       " '20km': <gensim.models.keyedvectors.Vocab at 0x1d20367b9e8>,\n",
       " 'Guanacaste': <gensim.models.keyedvectors.Vocab at 0x1d20367ba20>,\n",
       " 'serious': <gensim.models.keyedvectors.Vocab at 0x1d20367ba58>,\n",
       " 'Nosara': <gensim.models.keyedvectors.Vocab at 0x1d20367ba90>,\n",
       " 'panic': <gensim.models.keyedvectors.Vocab at 0x1d20367bac8>,\n",
       " 'minor': <gensim.models.keyedvectors.Vocab at 0x1d20367bb00>,\n",
       " 'IBNLive.comStrong': <gensim.models.keyedvectors.Vocab at 0x1d20367bb38>,\n",
       " 'ca': <gensim.models.keyedvectors.Vocab at 0x1d20367bb70>,\n",
       " '//t.co/HQdC4IBk': <gensim.models.keyedvectors.Vocab at 0x1d20367bba8>,\n",
       " 'Living': <gensim.models.keyedvectors.Vocab at 0x1d20367bbe0>,\n",
       " 'Social': <gensim.models.keyedvectors.Vocab at 0x1d20367bc18>,\n",
       " 'Andy': <gensim.models.keyedvectors.Vocab at 0x1d20367bc50>,\n",
       " 'Roddick': <gensim.models.keyedvectors.Vocab at 0x1d20367bc88>,\n",
       " '//t.co/4igC5NpM': <gensim.models.keyedvectors.Vocab at 0x1d20367bcc0>,\n",
       " 'earthquake-ready': <gensim.models.keyedvectors.Vocab at 0x1d20367bcf8>,\n",
       " 'size': <gensim.models.keyedvectors.Vocab at 0x1d20367bd30>,\n",
       " '+video': <gensim.models.keyedvectors.Vocab at 0x1d20367bd68>,\n",
       " 'onedirection': <gensim.models.keyedvectors.Vocab at 0x1d20367bda0>,\n",
       " '=/': <gensim.models.keyedvectors.Vocab at 0x1d20367bdd8>,\n",
       " '//t.co/bzZ1s8Of': <gensim.models.keyedvectors.Vocab at 0x1d20367be10>,\n",
       " 'Eart': <gensim.models.keyedvectors.Vocab at 0x1d20367be48>,\n",
       " 'This': <gensim.models.keyedvectors.Vocab at 0x1d20367be80>,\n",
       " 'Google': <gensim.models.keyedvectors.Vocab at 0x1d20367beb8>,\n",
       " 'Trend': <gensim.models.keyedvectors.Vocab at 0x1d20367bef0>,\n",
       " '//t.co/PI0h78RM': <gensim.models.keyedvectors.Vocab at 0x1d20367bf28>,\n",
       " 'Hour': <gensim.models.keyedvectors.Vocab at 0x1d20367bf60>,\n",
       " 'Woman': <gensim.models.keyedvectors.Vocab at 0x1d20367bf98>,\n",
       " 'Died': <gensim.models.keyedvectors.Vocab at 0x1d20367bfd0>,\n",
       " 'Heat': <gensim.models.keyedvectors.Vocab at 0x1d20367e048>,\n",
       " 'Attack': <gensim.models.keyedvectors.Vocab at 0x1d20367e080>,\n",
       " 'Man': <gensim.models.keyedvectors.Vocab at 0x1d20367e0b8>,\n",
       " 'Who': <gensim.models.keyedvectors.Vocab at 0x1d20367e0f0>,\n",
       " 'Fallen': <gensim.models.keyedvectors.Vocab at 0x1d20367e128>,\n",
       " 'Die': <gensim.models.keyedvectors.Vocab at 0x1d20367e160>,\n",
       " 'Said': <gensim.models.keyedvectors.Vocab at 0x1d20367e198>,\n",
       " 'President': <gensim.models.keyedvectors.Vocab at 0x1d20367e1d0>,\n",
       " '//t.co/rw5Brly8': <gensim.models.keyedvectors.Vocab at 0x1d20367e208>,\n",
       " 'EarthquakeCalifornia': <gensim.models.keyedvectors.Vocab at 0x1d20367e240>,\n",
       " 'delay': <gensim.models.keyedvectors.Vocab at 0x1d20367e278>,\n",
       " 'World': <gensim.models.keyedvectors.Vocab at 0x1d20367e2b0>,\n",
       " 'Cup': <gensim.models.keyedvectors.Vocab at 0x1d20367e2e8>,\n",
       " 'qualifier': <gensim.models.keyedvectors.Vocab at 0x1d20367e320>,\n",
       " 'Mexican': <gensim.models.keyedvectors.Vocab at 0x1d20367e358>,\n",
       " '//t.co/uv45lA0q': <gensim.models.keyedvectors.Vocab at 0x1d20367e390>,\n",
       " 'Buildings': <gensim.models.keyedvectors.Vocab at 0x1d20367e3c8>,\n",
       " 'sway': <gensim.models.keyedvectors.Vocab at 0x1d20367e400>,\n",
       " 'residents': <gensim.models.keyedvectors.Vocab at 0x1d20367e438>,\n",
       " 'rush': <gensim.models.keyedvectors.Vocab at 0x1d20367e470>,\n",
       " 'streets': <gensim.models.keyedvectors.Vocab at 0x1d20367e4a8>,\n",
       " 'little': <gensim.models.keyedvectors.Vocab at 0x1d20367e4e0>,\n",
       " '//t.co/m3TI2LMz': <gensim.models.keyedvectors.Vocab at 0x1d20367e518>,\n",
       " 'Geologyupdate': <gensim.models.keyedvectors.Vocab at 0x1d20367e550>,\n",
       " 'Seattle': <gensim.models.keyedvectors.Vocab at 0x1d20367e588>,\n",
       " 'Times': <gensim.models.keyedvectors.Vocab at 0x1d20367e5c0>,\n",
       " '//t.co/C77uRB7g': <gensim.models.keyedvectors.Vocab at 0x1d20367e5f8>,\n",
       " 'experts': <gensim.models.keyedvectors.Vocab at 0x1d20367e630>,\n",
       " 'point': <gensim.models.keyedvectors.Vocab at 0x1d20367e668>,\n",
       " 'Washington': <gensim.models.keyedvectors.Vocab at 0x1d20367e6a0>,\n",
       " 'Post': <gensim.models.keyedvectors.Vocab at 0x1d20367e6d8>,\n",
       " 'CBC.caPowerf': <gensim.models.keyedvectors.Vocab at 0x1d20367e710>,\n",
       " '//t.co/x3Pt7hR5': <gensim.models.keyedvectors.Vocab at 0x1d20367e748>,\n",
       " '//t.co/nyWQMUwk': <gensim.models.keyedvectors.Vocab at 0x1d20367e780>,\n",
       " 'Three': <gensim.models.keyedvectors.Vocab at 0x1d20367e7b8>,\n",
       " 'kill': <gensim.models.keyedvectors.Vocab at 0x1d20367e7f0>,\n",
       " 'Xinhua': <gensim.models.keyedvectors.Vocab at 0x1d20367e828>,\n",
       " 'NationThree': <gensim.models.keyedvectors.Vocab at 0x1d20367e860>,\n",
       " 'quak': <gensim.models.keyedvectors.Vocab at 0x1d20367e898>,\n",
       " '//t.co/2QKsXs8w': <gensim.models.keyedvectors.Vocab at 0x1d20367e8d0>,\n",
       " 'example': <gensim.models.keyedvectors.Vocab at 0x1d20367e908>,\n",
       " 'resistant': <gensim.models.keyedvectors.Vocab at 0x1d20367e940>,\n",
       " 'construction': <gensim.models.keyedvectors.Vocab at 0x1d20367e978>,\n",
       " '//t.co/n4y6x1yj': <gensim.models.keyedvectors.Vocab at 0x1d20367e9b0>,\n",
       " 'Cangrejal': <gensim.models.keyedvectors.Vocab at 0x1d20367e9e8>,\n",
       " 'sho': <gensim.models.keyedvectors.Vocab at 0x1d20367ea20>,\n",
       " '//t.co/syQpSkg0': <gensim.models.keyedvectors.Vocab at 0x1d20367ea58>,\n",
       " 'Rocked': <gensim.models.keyedvectors.Vocab at 0x1d20367ea90>,\n",
       " '//t.co/9Q0w3CD7': <gensim.models.keyedvectors.Vocab at 0x1d20367eac8>,\n",
       " '1.0': <gensim.models.keyedvectors.Vocab at 0x1d20367eb00>,\n",
       " 'Southern': <gensim.models.keyedvectors.Vocab at 0x1d20367eb38>,\n",
       " 'California': <gensim.models.keyedvectors.Vocab at 0x1d20367eb70>,\n",
       " '//t.co/Ms4Sj0eR': <gensim.models.keyedvectors.Vocab at 0x1d20367eba8>,\n",
       " 'escape': <gensim.models.keyedvectors.Vocab at 0x1d20367ebe0>,\n",
       " 'big': <gensim.models.keyedvectors.Vocab at 0x1d20367ec18>,\n",
       " 'bulletin': <gensim.models.keyedvectors.Vocab at 0x1d20367ec50>,\n",
       " 'terrify': <gensim.models.keyedvectors.Vocab at 0x1d20367ec88>,\n",
       " 'po': <gensim.models.keyedvectors.Vocab at 0x1d20367ecc0>,\n",
       " '//t.co/Dlj3rlpE': <gensim.models.keyedvectors.Vocab at 0x1d20367ecf8>,\n",
       " '//t.co/1Dhcy6ki': <gensim.models.keyedvectors.Vocab at 0x1d20367ed30>,\n",
       " '//t.co/SpG6MDUe': <gensim.models.keyedvectors.Vocab at 0x1d20367ed68>,\n",
       " 'QuakeÂ': <gensim.models.keyedvectors.Vocab at 0x1d20367eda0>,\n",
       " '//t.co/nkD5tU8v': <gensim.models.keyedvectors.Vocab at 0x1d20367edd8>,\n",
       " 'Ready': <gensim.models.keyedvectors.Vocab at 0x1d20367ee10>,\n",
       " 'Action': <gensim.models.keyedvectors.Vocab at 0x1d20367ee48>,\n",
       " 'Source': <gensim.models.keyedvectors.Vocab at 0x1d20367ee80>,\n",
       " 'Â': <gensim.models.keyedvectors.Vocab at 0x1d20367eeb8>,\n",
       " 'Irish': <gensim.models.keyedvectors.Vocab at 0x1d20367eef0>,\n",
       " 'Cro': <gensim.models.keyedvectors.Vocab at 0x1d20367ef28>,\n",
       " '//t.co/8i9vCIV6': <gensim.models.keyedvectors.Vocab at 0x1d20367ef60>,\n",
       " 'It': <gensim.models.keyedvectors.Vocab at 0x1d20367ef98>,\n",
       " 'appear': <gensim.models.keyedvectors.Vocab at 0x1d20367efd0>,\n",
       " 'Thursday': <gensim.models.keyedvectors.Vocab at 0x1d203681048>,\n",
       " 'relatively': <gensim.models.keyedvectors.Vocab at 0x1d203681080>,\n",
       " 'unsc': <gensim.models.keyedvectors.Vocab at 0x1d2036810b8>,\n",
       " '//t.co/dFTSbh5e': <gensim.models.keyedvectors.Vocab at 0x1d2036810f0>,\n",
       " 'Terror': <gensim.models.keyedvectors.Vocab at 0x1d203681128>,\n",
       " 'casino': <gensim.models.keyedvectors.Vocab at 0x1d203681160>,\n",
       " 'Capital': <gensim.models.keyedvectors.Vocab at 0x1d203681198>,\n",
       " 'Videos': <gensim.models.keyedvectors.Vocab at 0x1d2036811d0>,\n",
       " 'Surface': <gensim.models.keyedvectors.Vocab at 0x1d203681208>,\n",
       " 'Video': <gensim.models.keyedvectors.Vocab at 0x1d203681240>,\n",
       " '//t.co/btm5k37V': <gensim.models.keyedvectors.Vocab at 0x1d203681278>,\n",
       " '1.8': <gensim.models.keyedvectors.Vocab at 0x1d2036812b0>,\n",
       " 'Island': <gensim.models.keyedvectors.Vocab at 0x1d2036812e8>,\n",
       " '//t.co/f28j4Ykf': <gensim.models.keyedvectors.Vocab at 0x1d203681320>,\n",
       " 'Environment': <gensim.models.keyedvectors.Vocab at 0x1d203681358>,\n",
       " 'Planet': <gensim.models.keyedvectors.Vocab at 0x1d203681390>,\n",
       " 'Ark': <gensim.models.keyedvectors.Vocab at 0x1d2036813c8>,\n",
       " '//t.co/uptiMQMP': <gensim.models.keyedvectors.Vocab at 0x1d203681400>,\n",
       " 'EARTHQUAKE': <gensim.models.keyedvectors.Vocab at 0x1d203681438>,\n",
       " 'actually': <gensim.models.keyedvectors.Vocab at 0x1d203681470>,\n",
       " 'felt': <gensim.models.keyedvectors.Vocab at 0x1d2036814a8>,\n",
       " 'Another': <gensim.models.keyedvectors.Vocab at 0x1d2036814e0>,\n",
       " 'least': <gensim.models.keyedvectors.Vocab at 0x1d203681518>,\n",
       " 'already': <gensim.models.keyedvectors.Vocab at 0x1d203681550>,\n",
       " 'awake': <gensim.models.keyedvectors.Vocab at 0x1d203681588>,\n",
       " 'time': <gensim.models.keyedvectors.Vocab at 0x1d2036815c0>,\n",
       " 'Dang': <gensim.models.keyedvectors.Vocab at 0x1d2036815f8>,\n",
       " 'try': <gensim.models.keyedvectors.Vocab at 0x1d203681630>,\n",
       " 'sleep': <gensim.models.keyedvectors.Vocab at 0x1d203681668>,\n",
       " 'early': <gensim.models.keyedvectors.Vocab at 0x1d2036816a0>,\n",
       " '3.5': <gensim.models.keyedvectors.Vocab at 0x1d2036816d8>,\n",
       " 'Beverly': <gensim.models.keyedvectors.Vocab at 0x1d203681710>,\n",
       " 'Hills': <gensim.models.keyedvectors.Vocab at 0x1d203681748>,\n",
       " 'stronger': <gensim.models.keyedvectors.Vocab at 0x1d203681780>,\n",
       " 'last': <gensim.models.keyedvectors.Vocab at 0x1d2036817b8>,\n",
       " 'week': <gensim.models.keyedvectors.Vocab at 0x1d2036817f0>,\n",
       " '//t.co/CftE5nrt': <gensim.models.keyedvectors.Vocab at 0x1d203681828>,\n",
       " 'zomanno': <gensim.models.keyedvectors.Vocab at 0x1d203681860>,\n",
       " 'EARTHQUAKEEE': <gensim.models.keyedvectors.Vocab at 0x1d203681898>,\n",
       " 'think': <gensim.models.keyedvectors.Vocab at 0x1d2036818d0>,\n",
       " 'coincidence': <gensim.models.keyedvectors.Vocab at 0x1d203681908>,\n",
       " 'episode': <gensim.models.keyedvectors.Vocab at 0x1d203681940>,\n",
       " 'HoneyBooBoo': <gensim.models.keyedvectors.Vocab at 0x1d203681978>,\n",
       " '9021uh-0': <gensim.models.keyedvectors.Vocab at 0x1d2036819b0>,\n",
       " 'give': <gensim.models.keyedvectors.Vocab at 0x1d2036819e8>,\n",
       " 'good': <gensim.models.keyedvectors.Vocab at 0x1d203681a20>,\n",
       " 'westside': <gensim.models.keyedvectors.Vocab at 0x1d203681a58>,\n",
       " 'eastern': <gensim.models.keyedvectors.Vocab at 0x1d203681a90>,\n",
       " 'SFV': <gensim.models.keyedvectors.Vocab at 0x1d203681ac8>,\n",
       " '//t.co/G1Ga1v0T': <gensim.models.keyedvectors.Vocab at 0x1d203681b00>,\n",
       " 'lanow': <gensim.models.keyedvectors.Vocab at 0x1d203681b38>,\n",
       " 'TheLAScene': <gensim.models.keyedvectors.Vocab at 0x1d203681b70>,\n",
       " 'look': <gensim.models.keyedvectors.Vocab at 0x1d203681ba8>,\n",
       " 'like': <gensim.models.keyedvectors.Vocab at 0x1d203681be0>,\n",
       " 'BeverlyHills': <gensim.models.keyedvectors.Vocab at 0x1d203681c18>,\n",
       " 'upgrade': <gensim.models.keyedvectors.Vocab at 0x1d203681c50>,\n",
       " '3.5.': <gensim.models.keyedvectors.Vocab at 0x1d203681c88>,\n",
       " '//t.co/UThFGsv1': <gensim.models.keyedvectors.Vocab at 0x1d203681cc0>,\n",
       " 'ArianaGrande': <gensim.models.keyedvectors.Vocab at 0x1d203681cf8>,\n",
       " 'Hi': <gensim.models.keyedvectors.Vocab at 0x1d203681d30>,\n",
       " 'IÂ´m': <gensim.models.keyedvectors.Vocab at 0x1d203681d68>,\n",
       " 'days': <gensim.models.keyedvectors.Vocab at 0x1d203681da0>,\n",
       " 'wake': <gensim.models.keyedvectors.Vocab at 0x1d203681dd8>,\n",
       " 'again..': <gensim.models.keyedvectors.Vocab at 0x1d203681e10>,\n",
       " 'seriously..': <gensim.models.keyedvectors.Vocab at 0x1d203681e48>,\n",
       " 'Tell': <gensim.models.keyedvectors.Vocab at 0x1d203681e80>,\n",
       " 'u': <gensim.models.keyedvectors.Vocab at 0x1d203681eb8>,\n",
       " 'bout': <gensim.models.keyedvectors.Vocab at 0x1d203681ef0>,\n",
       " 'second': <gensim.models.keyedvectors.Vocab at 0x1d203681f28>,\n",
       " 'Bobak9': <gensim.models.keyedvectors.Vocab at 0x1d203681f60>,\n",
       " 'faster': <gensim.models.keyedvectors.Vocab at 0x1d203681f98>,\n",
       " 'reaction': <gensim.models.keyedvectors.Vocab at 0x1d203681fd0>,\n",
       " 'UsainBolt': <gensim.models.keyedvectors.Vocab at 0x1d203686048>,\n",
       " 'Never': <gensim.models.keyedvectors.Vocab at 0x1d203686080>,\n",
       " 'man': <gensim.models.keyedvectors.Vocab at 0x1d2036860b8>,\n",
       " 'move': <gensim.models.keyedvectors.Vocab at 0x1d2036860f0>,\n",
       " 'SO': <gensim.models.keyedvectors.Vocab at 0x1d203686128>,\n",
       " 'fast': <gensim.models.keyedvectors.Vocab at 0x1d203686160>,\n",
       " 'Lol': <gensim.models.keyedvectors.Vocab at 0x1d203686198>,\n",
       " 'DNC2012': <gensim.models.keyedvectors.Vocab at 0x1d2036861d0>,\n",
       " 'Was': <gensim.models.keyedvectors.Vocab at 0x1d203686208>,\n",
       " 'earth': <gensim.models.keyedvectors.Vocab at 0x1d203686240>,\n",
       " 'shatter': <gensim.models.keyedvectors.Vocab at 0x1d203686278>,\n",
       " 'side': <gensim.models.keyedvectors.Vocab at 0x1d2036862b0>,\n",
       " 'LAFD': <gensim.models.keyedvectors.Vocab at 0x1d2036862e8>,\n",
       " 'LAquake': <gensim.models.keyedvectors.Vocab at 0x1d203686320>,\n",
       " 'Emergency': <gensim.models.keyedvectors.Vocab at 0x1d203686358>,\n",
       " 'Mode': <gensim.models.keyedvectors.Vocab at 0x1d203686390>,\n",
       " 'discontinue': <gensim.models.keyedvectors.Vocab at 0x1d2036863c8>,\n",
       " 'significant': <gensim.models.keyedvectors.Vocab at 0x1d203686400>,\n",
       " 'injury': <gensim.models.keyedvectors.Vocab at 0x1d203686438>,\n",
       " 'normalâ€¦': <gensim.models.keyedvectors.Vocab at 0x1d203686470>,\n",
       " '//t.co': <gensim.models.keyedvectors.Vocab at 0x1d2036864a8>,\n",
       " '//t.co/q6uTSLEa': <gensim.models.keyedvectors.Vocab at 0x1d2036864e0>,\n",
       " 'Quakes': <gensim.models.keyedvectors.Vocab at 0x1d203686518>,\n",
       " 'southwest': <gensim.models.keyedvectors.Vocab at 0x1d203686550>,\n",
       " 'China': <gensim.models.keyedvectors.Vocab at 0x1d203686588>,\n",
       " 'dozens': <gensim.models.keyedvectors.Vocab at 0x1d2036865c0>,\n",
       " '20,000': <gensim.models.keyedvectors.Vocab at 0x1d2036865f8>,\n",
       " 'home': <gensim.models.keyedvectors.Vocab at 0x1d203686630>,\n",
       " '//t.co/0j1oq79l': <gensim.models.keyedvectors.Vocab at 0x1d203686668>,\n",
       " 'Earthquakes': <gensim.models.keyedvectors.Vocab at 0x1d2036866a0>,\n",
       " 'alertã€': <gensim.models.keyedvectors.Vocab at 0x1d2036866d8>,\n",
       " '2.1': <gensim.models.keyedvectors.Vocab at 0x1d203686710>,\n",
       " '07': <gensim.models.keyedvectors.Vocab at 0x1d203686748>,\n",
       " '15:33:36': <gensim.models.keyedvectors.Vocab at 0x1d203686780>,\n",
       " '//t.co/G9eJVAUP': <gensim.models.keyedvectors.Vocab at 0x1d2036867b8>,\n",
       " 'Dear': <gensim.models.keyedvectors.Vocab at 0x1d2036867f0>,\n",
       " '2x': <gensim.models.keyedvectors.Vocab at 0x1d203686828>,\n",
       " \"'ve\": <gensim.models.keyedvectors.Vocab at 0x1d203686860>,\n",
       " '1/2': <gensim.models.keyedvectors.Vocab at 0x1d203686898>,\n",
       " 'mile': <gensim.models.keyedvectors.Vocab at 0x1d2036868d0>,\n",
       " 'away-Results': <gensim.models.keyedvectors.Vocab at 0x1d203686908>,\n",
       " 'crappy': <gensim.models.keyedvectors.Vocab at 0x1d203686940>,\n",
       " 'workout': <gensim.models.keyedvectors.Vocab at 0x1d203686978>,\n",
       " 'next': <gensim.models.keyedvectors.Vocab at 0x1d2036869b0>,\n",
       " 'day': <gensim.models.keyedvectors.Vocab at 0x1d2036869e8>,\n",
       " 'stop': <gensim.models.keyedvectors.Vocab at 0x1d203686a20>,\n",
       " 'make': <gensim.models.keyedvectors.Vocab at 0x1d203686a58>,\n",
       " 'fat': <gensim.models.keyedvectors.Vocab at 0x1d203686a90>,\n",
       " 'Shakes': <gensim.models.keyedvectors.Vocab at 0x1d203686ac8>,\n",
       " '//t.co/abFcLHdd': <gensim.models.keyedvectors.Vocab at 0x1d203686b00>,\n",
       " 'guy': <gensim.models.keyedvectors.Vocab at 0x1d203686b38>,\n",
       " 'maybe': <gensim.models.keyedvectors.Vocab at 0x1d203686b70>,\n",
       " '3': <gensim.models.keyedvectors.Vocab at 0x1d203686ba8>,\n",
       " 'Yea': <gensim.models.keyedvectors.Vocab at 0x1d203686be0>,\n",
       " 'figure': <gensim.models.keyedvectors.Vocab at 0x1d203686c18>,\n",
       " '/': <gensim.models.keyedvectors.Vocab at 0x1d203686c50>,\n",
       " 'uselessinfo': <gensim.models.keyedvectors.Vocab at 0x1d203686c88>,\n",
       " 'Watchers': <gensim.models.keyedvectors.Vocab at 0x1d203686cc0>,\n",
       " 'Massive': <gensim.models.keyedvectors.Vocab at 0x1d203686cf8>,\n",
       " 'awaken': <gensim.models.keyedvectors.Vocab at 0x1d203686d30>,\n",
       " 'Nicaraguan': <gensim.models.keyedvectors.Vocab at 0x1d203686d68>,\n",
       " 'Apoyeque': <gensim.models.keyedvectors.Vocab at 0x1d203686da0>,\n",
       " 'volcano': <gensim.models.keyedvectors.Vocab at 0x1d203686dd8>,\n",
       " '//t.co/pbc2QzSB': <gensim.models.keyedvectors.Vocab at 0x1d203686e10>,\n",
       " 'At': <gensim.models.keyedvectors.Vocab at 0x1d203686e48>,\n",
       " '12:35': <gensim.models.keyedvectors.Vocab at 0x1d203686e80>,\n",
       " 'PM': <gensim.models.keyedvectors.Vocab at 0x1d203686eb8>,\n",
       " 'UTC': <gensim.models.keyedvectors.Vocab at 0x1d203686ef0>,\n",
       " 'Minahasa': <gensim.models.keyedvectors.Vocab at 0x1d203686f28>,\n",
       " 'M4.7': <gensim.models.keyedvectors.Vocab at 0x1d203686f60>,\n",
       " '35.70km': <gensim.models.keyedvectors.Vocab at 0x1d203686f98>,\n",
       " 'Stay': <gensim.models.keyedvectors.Vocab at 0x1d203686fd0>,\n",
       " 'date': <gensim.models.keyedvectors.Vocab at 0x1d203689048>,\n",
       " 'latest': <gensim.models.keyedvectors.Vocab at 0x1d203689080>,\n",
       " '//t.co/htMGUaTO': <gensim.models.keyedvectors.Vocab at 0x1d2036890b8>,\n",
       " 'BECOME': <gensim.models.keyedvectors.Vocab at 0x1d2036890f0>,\n",
       " 'ASEXUAL': <gensim.models.keyedvectors.Vocab at 0x1d203689128>,\n",
       " 'NOW': <gensim.models.keyedvectors.Vocab at 0x1d203689160>,\n",
       " '5.6': <gensim.models.keyedvectors.Vocab at 0x1d203689198>,\n",
       " 'earthqu': <gensim.models.keyedvectors.Vocab at 0x1d2036891d0>,\n",
       " '//t.co/5jWMTB3H': <gensim.models.keyedvectors.Vocab at 0x1d203689208>,\n",
       " 'asexual': <gensim.models.keyedvectors.Vocab at 0x1d203689240>,\n",
       " ...}"
      ]
     },
     "execution_count": 530,
     "metadata": {},
     "output_type": "execute_result"
    }
   ],
   "source": [
    "vocabulary_quake = w2v_quake.wv.vocab\n",
    "vocabulary_flood = w2v_flood.wv.vocab\n",
    "vocabulary_quake"
   ]
  },
  {
   "cell_type": "code",
   "execution_count": 531,
   "metadata": {
    "pycharm": {
     "is_executing": false
    }
   },
   "outputs": [
    {
     "name": "stderr",
     "output_type": "stream",
     "text": [
      "INFO - 14:08:46: training model with 3 workers on 13732 vocabulary and 100 features, using sg=0 hs=0 sample=6e-05 negative=20 window=4\n",
      "INFO - 14:08:46: worker thread finished; awaiting finish of 2 more threads\n",
      "INFO - 14:08:46: worker thread finished; awaiting finish of 1 more threads\n",
      "INFO - 14:08:46: worker thread finished; awaiting finish of 0 more threads\n",
      "INFO - 14:08:46: EPOCH - 1 : training on 70267 raw words (33444 effective words) took 0.2s, 209666 effective words/s\n",
      "INFO - 14:08:46: worker thread finished; awaiting finish of 2 more threads\n",
      "INFO - 14:08:46: worker thread finished; awaiting finish of 1 more threads\n",
      "INFO - 14:08:46: worker thread finished; awaiting finish of 0 more threads\n",
      "INFO - 14:08:46: EPOCH - 2 : training on 70267 raw words (33457 effective words) took 0.1s, 307183 effective words/s\n",
      "INFO - 14:08:47: worker thread finished; awaiting finish of 2 more threads\n",
      "INFO - 14:08:47: worker thread finished; awaiting finish of 1 more threads\n",
      "INFO - 14:08:47: worker thread finished; awaiting finish of 0 more threads\n",
      "INFO - 14:08:47: EPOCH - 3 : training on 70267 raw words (33515 effective words) took 0.1s, 288638 effective words/s\n",
      "INFO - 14:08:47: worker thread finished; awaiting finish of 2 more threads\n",
      "INFO - 14:08:47: worker thread finished; awaiting finish of 1 more threads\n",
      "INFO - 14:08:47: worker thread finished; awaiting finish of 0 more threads\n",
      "INFO - 14:08:47: EPOCH - 4 : training on 70267 raw words (33438 effective words) took 0.1s, 372256 effective words/s\n",
      "INFO - 14:08:47: worker thread finished; awaiting finish of 2 more threads\n",
      "INFO - 14:08:47: worker thread finished; awaiting finish of 1 more threads\n",
      "INFO - 14:08:47: worker thread finished; awaiting finish of 0 more threads\n",
      "INFO - 14:08:47: EPOCH - 5 : training on 70267 raw words (33454 effective words) took 0.1s, 410497 effective words/s\n",
      "INFO - 14:08:47: worker thread finished; awaiting finish of 2 more threads\n",
      "INFO - 14:08:47: worker thread finished; awaiting finish of 1 more threads\n",
      "INFO - 14:08:47: worker thread finished; awaiting finish of 0 more threads\n",
      "INFO - 14:08:47: EPOCH - 6 : training on 70267 raw words (33359 effective words) took 0.1s, 376412 effective words/s\n",
      "INFO - 14:08:47: worker thread finished; awaiting finish of 2 more threads\n",
      "INFO - 14:08:47: worker thread finished; awaiting finish of 1 more threads\n",
      "INFO - 14:08:47: worker thread finished; awaiting finish of 0 more threads\n",
      "INFO - 14:08:47: EPOCH - 7 : training on 70267 raw words (33330 effective words) took 0.1s, 349731 effective words/s\n",
      "INFO - 14:08:47: worker thread finished; awaiting finish of 2 more threads\n",
      "INFO - 14:08:47: worker thread finished; awaiting finish of 1 more threads\n",
      "INFO - 14:08:47: worker thread finished; awaiting finish of 0 more threads\n",
      "INFO - 14:08:47: EPOCH - 8 : training on 70267 raw words (33502 effective words) took 0.1s, 387140 effective words/s\n",
      "INFO - 14:08:47: worker thread finished; awaiting finish of 2 more threads\n",
      "INFO - 14:08:47: worker thread finished; awaiting finish of 1 more threads\n",
      "INFO - 14:08:47: worker thread finished; awaiting finish of 0 more threads\n",
      "INFO - 14:08:47: EPOCH - 9 : training on 70267 raw words (33408 effective words) took 0.1s, 363514 effective words/s\n",
      "INFO - 14:08:47: worker thread finished; awaiting finish of 2 more threads\n",
      "INFO - 14:08:47: worker thread finished; awaiting finish of 1 more threads\n",
      "INFO - 14:08:47: worker thread finished; awaiting finish of 0 more threads\n",
      "INFO - 14:08:47: EPOCH - 10 : training on 70267 raw words (33408 effective words) took 0.1s, 383456 effective words/s\n",
      "INFO - 14:08:47: worker thread finished; awaiting finish of 2 more threads\n",
      "INFO - 14:08:47: worker thread finished; awaiting finish of 1 more threads\n",
      "INFO - 14:08:47: worker thread finished; awaiting finish of 0 more threads\n",
      "INFO - 14:08:47: EPOCH - 11 : training on 70267 raw words (33516 effective words) took 0.1s, 384787 effective words/s\n",
      "INFO - 14:08:48: worker thread finished; awaiting finish of 2 more threads\n",
      "INFO - 14:08:48: worker thread finished; awaiting finish of 1 more threads\n",
      "INFO - 14:08:48: worker thread finished; awaiting finish of 0 more threads\n",
      "INFO - 14:08:48: EPOCH - 12 : training on 70267 raw words (33489 effective words) took 0.1s, 321017 effective words/s\n",
      "INFO - 14:08:48: worker thread finished; awaiting finish of 2 more threads\n",
      "INFO - 14:08:48: worker thread finished; awaiting finish of 1 more threads\n",
      "INFO - 14:08:48: worker thread finished; awaiting finish of 0 more threads\n",
      "INFO - 14:08:48: EPOCH - 13 : training on 70267 raw words (33464 effective words) took 0.1s, 384328 effective words/s\n",
      "INFO - 14:08:48: worker thread finished; awaiting finish of 2 more threads\n",
      "INFO - 14:08:48: worker thread finished; awaiting finish of 1 more threads\n",
      "INFO - 14:08:48: worker thread finished; awaiting finish of 0 more threads\n",
      "INFO - 14:08:48: EPOCH - 14 : training on 70267 raw words (33490 effective words) took 0.1s, 374733 effective words/s\n",
      "INFO - 14:08:48: worker thread finished; awaiting finish of 2 more threads\n",
      "INFO - 14:08:48: worker thread finished; awaiting finish of 1 more threads\n",
      "INFO - 14:08:48: worker thread finished; awaiting finish of 0 more threads\n",
      "INFO - 14:08:48: EPOCH - 15 : training on 70267 raw words (33481 effective words) took 0.1s, 376057 effective words/s\n",
      "INFO - 14:08:48: worker thread finished; awaiting finish of 2 more threads\n",
      "INFO - 14:08:48: worker thread finished; awaiting finish of 1 more threads\n",
      "INFO - 14:08:48: worker thread finished; awaiting finish of 0 more threads\n",
      "INFO - 14:08:48: EPOCH - 16 : training on 70267 raw words (33478 effective words) took 0.1s, 329140 effective words/s\n",
      "INFO - 14:08:48: worker thread finished; awaiting finish of 2 more threads\n",
      "INFO - 14:08:48: worker thread finished; awaiting finish of 1 more threads\n",
      "INFO - 14:08:48: worker thread finished; awaiting finish of 0 more threads\n",
      "INFO - 14:08:48: EPOCH - 17 : training on 70267 raw words (33613 effective words) took 0.1s, 373416 effective words/s\n",
      "INFO - 14:08:48: worker thread finished; awaiting finish of 2 more threads\n",
      "INFO - 14:08:48: worker thread finished; awaiting finish of 1 more threads\n",
      "INFO - 14:08:48: worker thread finished; awaiting finish of 0 more threads\n",
      "INFO - 14:08:48: EPOCH - 18 : training on 70267 raw words (33487 effective words) took 0.1s, 342471 effective words/s\n",
      "INFO - 14:08:48: worker thread finished; awaiting finish of 2 more threads\n",
      "INFO - 14:08:48: worker thread finished; awaiting finish of 1 more threads\n",
      "INFO - 14:08:48: worker thread finished; awaiting finish of 0 more threads\n",
      "INFO - 14:08:48: EPOCH - 19 : training on 70267 raw words (33524 effective words) took 0.1s, 334166 effective words/s\n",
      "INFO - 14:08:48: worker thread finished; awaiting finish of 2 more threads\n",
      "INFO - 14:08:48: worker thread finished; awaiting finish of 1 more threads\n",
      "INFO - 14:08:48: worker thread finished; awaiting finish of 0 more threads\n",
      "INFO - 14:08:48: EPOCH - 20 : training on 70267 raw words (33314 effective words) took 0.1s, 375197 effective words/s\n",
      "INFO - 14:08:48: worker thread finished; awaiting finish of 2 more threads\n",
      "INFO - 14:08:48: worker thread finished; awaiting finish of 1 more threads\n",
      "INFO - 14:08:48: worker thread finished; awaiting finish of 0 more threads\n",
      "INFO - 14:08:48: EPOCH - 21 : training on 70267 raw words (33468 effective words) took 0.1s, 373021 effective words/s\n",
      "INFO - 14:08:49: worker thread finished; awaiting finish of 2 more threads\n",
      "INFO - 14:08:49: worker thread finished; awaiting finish of 1 more threads\n",
      "INFO - 14:08:49: worker thread finished; awaiting finish of 0 more threads\n",
      "INFO - 14:08:49: EPOCH - 22 : training on 70267 raw words (33403 effective words) took 0.1s, 367024 effective words/s\n",
      "INFO - 14:08:49: worker thread finished; awaiting finish of 2 more threads\n",
      "INFO - 14:08:49: worker thread finished; awaiting finish of 1 more threads\n",
      "INFO - 14:08:49: worker thread finished; awaiting finish of 0 more threads\n",
      "INFO - 14:08:49: EPOCH - 23 : training on 70267 raw words (33440 effective words) took 0.1s, 344496 effective words/s\n",
      "INFO - 14:08:49: worker thread finished; awaiting finish of 2 more threads\n",
      "INFO - 14:08:49: worker thread finished; awaiting finish of 1 more threads\n",
      "INFO - 14:08:49: worker thread finished; awaiting finish of 0 more threads\n"
     ]
    },
    {
     "name": "stderr",
     "output_type": "stream",
     "text": [
      "INFO - 14:08:49: EPOCH - 24 : training on 70267 raw words (33361 effective words) took 0.1s, 415091 effective words/s\n",
      "INFO - 14:08:49: worker thread finished; awaiting finish of 2 more threads\n",
      "INFO - 14:08:49: worker thread finished; awaiting finish of 1 more threads\n",
      "INFO - 14:08:49: worker thread finished; awaiting finish of 0 more threads\n",
      "INFO - 14:08:49: EPOCH - 25 : training on 70267 raw words (33405 effective words) took 0.1s, 366596 effective words/s\n",
      "INFO - 14:08:49: worker thread finished; awaiting finish of 2 more threads\n",
      "INFO - 14:08:49: worker thread finished; awaiting finish of 1 more threads\n",
      "INFO - 14:08:49: worker thread finished; awaiting finish of 0 more threads\n",
      "INFO - 14:08:49: EPOCH - 26 : training on 70267 raw words (33369 effective words) took 0.1s, 335774 effective words/s\n",
      "INFO - 14:08:49: worker thread finished; awaiting finish of 2 more threads\n",
      "INFO - 14:08:49: worker thread finished; awaiting finish of 1 more threads\n",
      "INFO - 14:08:49: worker thread finished; awaiting finish of 0 more threads\n",
      "INFO - 14:08:49: EPOCH - 27 : training on 70267 raw words (33507 effective words) took 0.1s, 321153 effective words/s\n",
      "INFO - 14:08:49: worker thread finished; awaiting finish of 2 more threads\n",
      "INFO - 14:08:49: worker thread finished; awaiting finish of 1 more threads\n",
      "INFO - 14:08:49: worker thread finished; awaiting finish of 0 more threads\n",
      "INFO - 14:08:49: EPOCH - 28 : training on 70267 raw words (33583 effective words) took 0.1s, 268610 effective words/s\n",
      "INFO - 14:08:49: worker thread finished; awaiting finish of 2 more threads\n",
      "INFO - 14:08:49: worker thread finished; awaiting finish of 1 more threads\n",
      "INFO - 14:08:49: worker thread finished; awaiting finish of 0 more threads\n",
      "INFO - 14:08:49: EPOCH - 29 : training on 70267 raw words (33429 effective words) took 0.1s, 341654 effective words/s\n",
      "INFO - 14:08:49: worker thread finished; awaiting finish of 2 more threads\n",
      "INFO - 14:08:49: worker thread finished; awaiting finish of 1 more threads\n",
      "INFO - 14:08:49: worker thread finished; awaiting finish of 0 more threads\n",
      "INFO - 14:08:49: EPOCH - 30 : training on 70267 raw words (33366 effective words) took 0.1s, 329765 effective words/s\n",
      "INFO - 14:08:49: training on a 2108010 raw words (1003502 effective words) took 3.5s, 283756 effective words/s\n",
      "INFO - 14:08:49: training model with 3 workers on 9614 vocabulary and 100 features, using sg=0 hs=0 sample=6e-05 negative=20 window=4\n",
      "INFO - 14:08:50: worker thread finished; awaiting finish of 2 more threads\n",
      "INFO - 14:08:50: worker thread finished; awaiting finish of 1 more threads\n",
      "INFO - 14:08:50: worker thread finished; awaiting finish of 0 more threads\n",
      "INFO - 14:08:50: EPOCH - 1 : training on 48396 raw words (22181 effective words) took 0.1s, 351370 effective words/s\n",
      "WARNING - 14:08:50: EPOCH - 1 : supplied example count (2518) did not equal expected count (5140)\n",
      "INFO - 14:08:50: worker thread finished; awaiting finish of 2 more threads\n",
      "INFO - 14:08:50: worker thread finished; awaiting finish of 1 more threads\n",
      "INFO - 14:08:50: worker thread finished; awaiting finish of 0 more threads\n",
      "INFO - 14:08:50: EPOCH - 2 : training on 48396 raw words (22355 effective words) took 0.1s, 340479 effective words/s\n",
      "WARNING - 14:08:50: EPOCH - 2 : supplied example count (2518) did not equal expected count (5140)\n",
      "INFO - 14:08:50: worker thread finished; awaiting finish of 2 more threads\n",
      "INFO - 14:08:50: worker thread finished; awaiting finish of 1 more threads\n",
      "INFO - 14:08:50: worker thread finished; awaiting finish of 0 more threads\n",
      "INFO - 14:08:50: EPOCH - 3 : training on 48396 raw words (22313 effective words) took 0.1s, 349740 effective words/s\n",
      "WARNING - 14:08:50: EPOCH - 3 : supplied example count (2518) did not equal expected count (5140)\n",
      "INFO - 14:08:50: worker thread finished; awaiting finish of 2 more threads\n",
      "INFO - 14:08:50: worker thread finished; awaiting finish of 1 more threads\n",
      "INFO - 14:08:50: worker thread finished; awaiting finish of 0 more threads\n",
      "INFO - 14:08:50: EPOCH - 4 : training on 48396 raw words (22348 effective words) took 0.1s, 409620 effective words/s\n",
      "WARNING - 14:08:50: EPOCH - 4 : supplied example count (2518) did not equal expected count (5140)\n",
      "INFO - 14:08:50: worker thread finished; awaiting finish of 2 more threads\n",
      "INFO - 14:08:50: worker thread finished; awaiting finish of 1 more threads\n",
      "INFO - 14:08:50: worker thread finished; awaiting finish of 0 more threads\n",
      "INFO - 14:08:50: EPOCH - 5 : training on 48396 raw words (22204 effective words) took 0.1s, 431738 effective words/s\n",
      "WARNING - 14:08:50: EPOCH - 5 : supplied example count (2518) did not equal expected count (5140)\n",
      "INFO - 14:08:50: worker thread finished; awaiting finish of 2 more threads\n",
      "INFO - 14:08:50: worker thread finished; awaiting finish of 1 more threads\n",
      "INFO - 14:08:50: worker thread finished; awaiting finish of 0 more threads\n",
      "INFO - 14:08:50: EPOCH - 6 : training on 48396 raw words (22233 effective words) took 0.1s, 371512 effective words/s\n",
      "WARNING - 14:08:50: EPOCH - 6 : supplied example count (2518) did not equal expected count (5140)\n",
      "INFO - 14:08:50: worker thread finished; awaiting finish of 2 more threads\n",
      "INFO - 14:08:50: worker thread finished; awaiting finish of 1 more threads\n",
      "INFO - 14:08:50: worker thread finished; awaiting finish of 0 more threads\n",
      "INFO - 14:08:50: EPOCH - 7 : training on 48396 raw words (22299 effective words) took 0.1s, 403463 effective words/s\n",
      "WARNING - 14:08:50: EPOCH - 7 : supplied example count (2518) did not equal expected count (5140)\n",
      "INFO - 14:08:50: worker thread finished; awaiting finish of 2 more threads\n",
      "INFO - 14:08:50: worker thread finished; awaiting finish of 1 more threads\n",
      "INFO - 14:08:50: worker thread finished; awaiting finish of 0 more threads\n",
      "INFO - 14:08:50: EPOCH - 8 : training on 48396 raw words (22220 effective words) took 0.1s, 169639 effective words/s\n",
      "WARNING - 14:08:50: EPOCH - 8 : supplied example count (2518) did not equal expected count (5140)\n",
      "INFO - 14:08:50: worker thread finished; awaiting finish of 2 more threads\n",
      "INFO - 14:08:50: worker thread finished; awaiting finish of 1 more threads\n",
      "INFO - 14:08:50: worker thread finished; awaiting finish of 0 more threads\n",
      "INFO - 14:08:50: EPOCH - 9 : training on 48396 raw words (22228 effective words) took 0.1s, 363862 effective words/s\n",
      "WARNING - 14:08:50: EPOCH - 9 : supplied example count (2518) did not equal expected count (5140)\n",
      "INFO - 14:08:50: worker thread finished; awaiting finish of 2 more threads\n",
      "INFO - 14:08:50: worker thread finished; awaiting finish of 1 more threads\n",
      "INFO - 14:08:50: worker thread finished; awaiting finish of 0 more threads\n",
      "INFO - 14:08:50: EPOCH - 10 : training on 48396 raw words (22288 effective words) took 0.1s, 371243 effective words/s\n",
      "WARNING - 14:08:50: EPOCH - 10 : supplied example count (2518) did not equal expected count (5140)\n",
      "INFO - 14:08:50: worker thread finished; awaiting finish of 2 more threads\n",
      "INFO - 14:08:50: worker thread finished; awaiting finish of 1 more threads\n",
      "INFO - 14:08:50: worker thread finished; awaiting finish of 0 more threads\n",
      "INFO - 14:08:50: EPOCH - 11 : training on 48396 raw words (22221 effective words) took 0.1s, 389625 effective words/s\n",
      "WARNING - 14:08:50: EPOCH - 11 : supplied example count (2518) did not equal expected count (5140)\n",
      "INFO - 14:08:50: worker thread finished; awaiting finish of 2 more threads\n",
      "INFO - 14:08:50: worker thread finished; awaiting finish of 1 more threads\n",
      "INFO - 14:08:50: worker thread finished; awaiting finish of 0 more threads\n",
      "INFO - 14:08:50: EPOCH - 12 : training on 48396 raw words (22348 effective words) took 0.1s, 387072 effective words/s\n",
      "WARNING - 14:08:50: EPOCH - 12 : supplied example count (2518) did not equal expected count (5140)\n",
      "INFO - 14:08:50: worker thread finished; awaiting finish of 2 more threads\n",
      "INFO - 14:08:50: worker thread finished; awaiting finish of 1 more threads\n",
      "INFO - 14:08:50: worker thread finished; awaiting finish of 0 more threads\n",
      "INFO - 14:08:50: EPOCH - 13 : training on 48396 raw words (22300 effective words) took 0.1s, 367637 effective words/s\n",
      "WARNING - 14:08:50: EPOCH - 13 : supplied example count (2518) did not equal expected count (5140)\n",
      "INFO - 14:08:50: worker thread finished; awaiting finish of 2 more threads\n"
     ]
    },
    {
     "name": "stderr",
     "output_type": "stream",
     "text": [
      "INFO - 14:08:51: worker thread finished; awaiting finish of 1 more threads\n",
      "INFO - 14:08:51: worker thread finished; awaiting finish of 0 more threads\n",
      "INFO - 14:08:51: EPOCH - 14 : training on 48396 raw words (22207 effective words) took 0.1s, 429111 effective words/s\n",
      "WARNING - 14:08:51: EPOCH - 14 : supplied example count (2518) did not equal expected count (5140)\n",
      "INFO - 14:08:51: worker thread finished; awaiting finish of 2 more threads\n",
      "INFO - 14:08:51: worker thread finished; awaiting finish of 1 more threads\n",
      "INFO - 14:08:51: worker thread finished; awaiting finish of 0 more threads\n",
      "INFO - 14:08:51: EPOCH - 15 : training on 48396 raw words (22364 effective words) took 0.1s, 430682 effective words/s\n",
      "WARNING - 14:08:51: EPOCH - 15 : supplied example count (2518) did not equal expected count (5140)\n",
      "INFO - 14:08:51: worker thread finished; awaiting finish of 2 more threads\n",
      "INFO - 14:08:51: worker thread finished; awaiting finish of 1 more threads\n",
      "INFO - 14:08:51: worker thread finished; awaiting finish of 0 more threads\n",
      "INFO - 14:08:51: EPOCH - 16 : training on 48396 raw words (22348 effective words) took 0.1s, 394243 effective words/s\n",
      "WARNING - 14:08:51: EPOCH - 16 : supplied example count (2518) did not equal expected count (5140)\n",
      "INFO - 14:08:51: worker thread finished; awaiting finish of 2 more threads\n",
      "INFO - 14:08:51: worker thread finished; awaiting finish of 1 more threads\n",
      "INFO - 14:08:51: worker thread finished; awaiting finish of 0 more threads\n",
      "INFO - 14:08:51: EPOCH - 17 : training on 48396 raw words (22299 effective words) took 0.1s, 406494 effective words/s\n",
      "WARNING - 14:08:51: EPOCH - 17 : supplied example count (2518) did not equal expected count (5140)\n",
      "INFO - 14:08:51: worker thread finished; awaiting finish of 2 more threads\n",
      "INFO - 14:08:51: worker thread finished; awaiting finish of 1 more threads\n",
      "INFO - 14:08:51: worker thread finished; awaiting finish of 0 more threads\n",
      "INFO - 14:08:51: EPOCH - 18 : training on 48396 raw words (22390 effective words) took 0.0s, 455154 effective words/s\n",
      "WARNING - 14:08:51: EPOCH - 18 : supplied example count (2518) did not equal expected count (5140)\n",
      "INFO - 14:08:51: worker thread finished; awaiting finish of 2 more threads\n",
      "INFO - 14:08:51: worker thread finished; awaiting finish of 1 more threads\n",
      "INFO - 14:08:51: worker thread finished; awaiting finish of 0 more threads\n",
      "INFO - 14:08:51: EPOCH - 19 : training on 48396 raw words (22307 effective words) took 0.1s, 392985 effective words/s\n",
      "WARNING - 14:08:51: EPOCH - 19 : supplied example count (2518) did not equal expected count (5140)\n",
      "INFO - 14:08:51: worker thread finished; awaiting finish of 2 more threads\n",
      "INFO - 14:08:51: worker thread finished; awaiting finish of 1 more threads\n",
      "INFO - 14:08:51: worker thread finished; awaiting finish of 0 more threads\n",
      "INFO - 14:08:51: EPOCH - 20 : training on 48396 raw words (22454 effective words) took 0.1s, 390584 effective words/s\n",
      "WARNING - 14:08:51: EPOCH - 20 : supplied example count (2518) did not equal expected count (5140)\n",
      "INFO - 14:08:51: worker thread finished; awaiting finish of 2 more threads\n",
      "INFO - 14:08:51: worker thread finished; awaiting finish of 1 more threads\n",
      "INFO - 14:08:51: worker thread finished; awaiting finish of 0 more threads\n",
      "INFO - 14:08:51: EPOCH - 21 : training on 48396 raw words (22332 effective words) took 0.1s, 419220 effective words/s\n",
      "WARNING - 14:08:51: EPOCH - 21 : supplied example count (2518) did not equal expected count (5140)\n",
      "INFO - 14:08:51: worker thread finished; awaiting finish of 2 more threads\n",
      "INFO - 14:08:51: worker thread finished; awaiting finish of 1 more threads\n",
      "INFO - 14:08:51: worker thread finished; awaiting finish of 0 more threads\n",
      "INFO - 14:08:51: EPOCH - 22 : training on 48396 raw words (22319 effective words) took 0.1s, 405382 effective words/s\n",
      "WARNING - 14:08:51: EPOCH - 22 : supplied example count (2518) did not equal expected count (5140)\n",
      "INFO - 14:08:51: worker thread finished; awaiting finish of 2 more threads\n",
      "INFO - 14:08:51: worker thread finished; awaiting finish of 1 more threads\n",
      "INFO - 14:08:51: worker thread finished; awaiting finish of 0 more threads\n",
      "INFO - 14:08:51: EPOCH - 23 : training on 48396 raw words (22383 effective words) took 0.1s, 385220 effective words/s\n",
      "WARNING - 14:08:51: EPOCH - 23 : supplied example count (2518) did not equal expected count (5140)\n",
      "INFO - 14:08:51: worker thread finished; awaiting finish of 2 more threads\n",
      "INFO - 14:08:51: worker thread finished; awaiting finish of 1 more threads\n",
      "INFO - 14:08:51: worker thread finished; awaiting finish of 0 more threads\n",
      "INFO - 14:08:51: EPOCH - 24 : training on 48396 raw words (22306 effective words) took 0.1s, 393677 effective words/s\n",
      "WARNING - 14:08:51: EPOCH - 24 : supplied example count (2518) did not equal expected count (5140)\n",
      "INFO - 14:08:51: worker thread finished; awaiting finish of 2 more threads\n",
      "INFO - 14:08:51: worker thread finished; awaiting finish of 1 more threads\n",
      "INFO - 14:08:51: worker thread finished; awaiting finish of 0 more threads\n",
      "INFO - 14:08:51: EPOCH - 25 : training on 48396 raw words (22243 effective words) took 0.1s, 381609 effective words/s\n",
      "WARNING - 14:08:51: EPOCH - 25 : supplied example count (2518) did not equal expected count (5140)\n",
      "INFO - 14:08:51: worker thread finished; awaiting finish of 2 more threads\n",
      "INFO - 14:08:51: worker thread finished; awaiting finish of 1 more threads\n",
      "INFO - 14:08:51: worker thread finished; awaiting finish of 0 more threads\n",
      "INFO - 14:08:51: EPOCH - 26 : training on 48396 raw words (22263 effective words) took 0.1s, 438984 effective words/s\n",
      "WARNING - 14:08:51: EPOCH - 26 : supplied example count (2518) did not equal expected count (5140)\n",
      "INFO - 14:08:51: worker thread finished; awaiting finish of 2 more threads\n",
      "INFO - 14:08:51: worker thread finished; awaiting finish of 1 more threads\n",
      "INFO - 14:08:51: worker thread finished; awaiting finish of 0 more threads\n",
      "INFO - 14:08:51: EPOCH - 27 : training on 48396 raw words (22424 effective words) took 0.1s, 391230 effective words/s\n",
      "WARNING - 14:08:51: EPOCH - 27 : supplied example count (2518) did not equal expected count (5140)\n",
      "INFO - 14:08:51: worker thread finished; awaiting finish of 2 more threads\n",
      "INFO - 14:08:51: worker thread finished; awaiting finish of 1 more threads\n",
      "INFO - 14:08:51: worker thread finished; awaiting finish of 0 more threads\n",
      "INFO - 14:08:51: EPOCH - 28 : training on 48396 raw words (22380 effective words) took 0.1s, 393490 effective words/s\n",
      "WARNING - 14:08:51: EPOCH - 28 : supplied example count (2518) did not equal expected count (5140)\n",
      "INFO - 14:08:51: worker thread finished; awaiting finish of 2 more threads\n",
      "INFO - 14:08:51: worker thread finished; awaiting finish of 1 more threads\n",
      "INFO - 14:08:51: worker thread finished; awaiting finish of 0 more threads\n",
      "INFO - 14:08:51: EPOCH - 29 : training on 48396 raw words (22302 effective words) took 0.1s, 393658 effective words/s\n",
      "WARNING - 14:08:51: EPOCH - 29 : supplied example count (2518) did not equal expected count (5140)\n",
      "INFO - 14:08:51: worker thread finished; awaiting finish of 2 more threads\n",
      "INFO - 14:08:52: worker thread finished; awaiting finish of 1 more threads\n",
      "INFO - 14:08:52: worker thread finished; awaiting finish of 0 more threads\n",
      "INFO - 14:08:52: EPOCH - 30 : training on 48396 raw words (22307 effective words) took 0.1s, 437283 effective words/s\n",
      "WARNING - 14:08:52: EPOCH - 30 : supplied example count (2518) did not equal expected count (5140)\n",
      "INFO - 14:08:52: training on a 1451880 raw words (669166 effective words) took 2.0s, 333362 effective words/s\n"
     ]
    },
    {
     "data": {
      "text/plain": [
       "(669166, 1451880)"
      ]
     },
     "execution_count": 531,
     "metadata": {},
     "output_type": "execute_result"
    }
   ],
   "source": [
    "w2v_quake.train(list_of_words_quake, total_examples=w2v_quake.corpus_count, epochs=30, report_delay=1)\n",
    "w2v_flood.train(list_of_words_flood, total_examples=w2v_quake.corpus_count, epochs=30, report_delay=1)"
   ]
  },
  {
   "cell_type": "markdown",
   "metadata": {},
   "source": [
    "The following code allows us to see words closely related (positively or negatively) with any other word. In this case we put in the word 'help'."
   ]
  },
  {
   "cell_type": "code",
   "execution_count": 532,
   "metadata": {
    "pycharm": {
     "is_executing": false
    }
   },
   "outputs": [
    {
     "name": "stderr",
     "output_type": "stream",
     "text": [
      "INFO - 14:08:52: precomputing L2-norms of word weight vectors\n"
     ]
    },
    {
     "data": {
      "text/plain": [
       "[('Powerful', 0.9994490146636963),\n",
       " ('rock', 0.9993658661842346),\n",
       " ('powerful', 0.9993584156036377),\n",
       " ('Italy', 0.9993373155593872),\n",
       " ('6', 0.9993027448654175),\n",
       " ('A', 0.9993012547492981),\n",
       " ('northern', 0.9992755651473999),\n",
       " ('USGS', 0.9991604089736938),\n",
       " ('report', 0.9991366863250732),\n",
       " ('BreakingNews', 0.9991248846054077)]"
      ]
     },
     "execution_count": 532,
     "metadata": {},
     "output_type": "execute_result"
    }
   ],
   "source": [
    "w2v_quake.wv.most_similar(positive=[\"dead\"])"
   ]
  },
  {
   "cell_type": "markdown",
   "metadata": {},
   "source": [
    "We will now convert these word2vec embeddings into a pandas dataframe. This can be converted into a csv for use later in maybe R. We will also explore ways to use this in an SVM model to classify our tweets. "
   ]
  },
  {
   "cell_type": "code",
   "execution_count": 583,
   "metadata": {
    "pycharm": {
     "is_executing": false
    }
   },
   "outputs": [],
   "source": [
    "word_list_quake = []\n",
    "vector_list_quake = []\n",
    "for word in w2v_quake.wv.vocab:\n",
    "    word_list_quake.append(word)\n",
    "    vector_list_quake.append(w2v_quake.wv.get_vector(word))\n",
    "    \n",
    "word_list_flood = []\n",
    "vector_list_flood = []\n",
    "for word in w2v_flood.wv.vocab:\n",
    "    word_list_flood.append(word)\n",
    "    vector_list_flood.append(w2v_flood.wv.get_vector(word))"
   ]
  },
  {
   "cell_type": "code",
   "execution_count": 584,
   "metadata": {
    "pycharm": {
     "is_executing": false
    }
   },
   "outputs": [],
   "source": [
    "quake_embeddings = pd.DataFrame()\n",
    "quake_embeddings['Word'] = word_list_quake\n",
    "quake_embeddings['Vector'] = vector_list_quake"
   ]
  },
  {
   "cell_type": "code",
   "execution_count": 585,
   "metadata": {
    "pycharm": {
     "is_executing": false
    }
   },
   "outputs": [],
   "source": [
    "flood_embeddings = pd.DataFrame()\n",
    "flood_embeddings['Word'] = word_list_flood\n",
    "flood_embeddings['Vector'] = vector_list_flood"
   ]
  },
  {
   "cell_type": "code",
   "execution_count": 586,
   "metadata": {
    "pycharm": {
     "is_executing": false
    }
   },
   "outputs": [],
   "source": [
    "quake_embeddings.to_csv('Word2Vec_Earthquake.csv')\n",
    "flood_embeddings.to_csv('Word2Vec_Flood.csv')"
   ]
  },
  {
   "cell_type": "markdown",
   "metadata": {},
   "source": [
    "## RNN LSTM Classifier\n",
    "\n",
    "### Creating Word2Vec Vectors for Train Data:\n",
    "\n",
    "Before we can implement the classifier, we need to convert our sentences (from balanced df) to a word2vec representation using our word2vec model that we trained above. This was tricky. All vectors corresponding to the tweets have to be the same length as the longest one. However, this does not mean we simply pad a 0 to the end of all the tweets but we need to append an array size (100,) beacuse each word in our word2vec is in 100 dimensions."
   ]
  },
  {
   "cell_type": "code",
   "execution_count": 537,
   "metadata": {
    "pycharm": {
     "is_executing": false,
     "name": "#%%\n"
    }
   },
   "outputs": [],
   "source": [
    "def word2vec_convert(all_tweets, model):\n",
    "    \n",
    "    max_tweet_length = 0\n",
    "    for tweet in all_tweets:\n",
    "        if len(word_tokenize(tweet))>max_tweet_length:\n",
    "            max_tweet_length = len(word_tokenize(tweet))\n",
    "            \n",
    "    whole_vec = np.zeros((len(all_tweets), max_tweet_length, 100))\n",
    "    num = 0\n",
    "    for tweet in all_tweets:\n",
    "        tweet_vec = np.zeros(shape = (max_tweet_length, 100))\n",
    "        vec = np.zeros(100)\n",
    "        for i in range(len(word_tokenize(tweet))):\n",
    "            try:\n",
    "                vec = np.add(vec, model[word_tokenize(tweet)[i]])\n",
    "                tweet_vec[i] = vec \n",
    "                num = num + 1\n",
    "            except:\n",
    "                pass\n",
    "        whole_vec[i] = tweet_vec\n",
    "    return(whole_vec, num)"
   ]
  },
  {
   "cell_type": "markdown",
   "metadata": {},
   "source": [
    "Breaking the quake df into 3 different dfs. Each df with have equal number of (citical, high), (critical, med) and (critical, low} tweets. We will analyse how the model does w.r.t to each of these categories. We are then getting the respective embeddings for each df. The embeddings will be in the shape of (50, 34, 100) aka (50 tweets, max padded length 34 and 100 dims)"
   ]
  },
  {
   "cell_type": "code",
   "execution_count": 538,
   "metadata": {},
   "outputs": [
    {
     "name": "stderr",
     "output_type": "stream",
     "text": [
      "C:\\Users\\Vishaal\\Anaconda3_Mod\\lib\\site-packages\\ipykernel_launcher.py:2: SettingWithCopyWarning: \n",
      "A value is trying to be set on a copy of a slice from a DataFrame.\n",
      "Try using .loc[row_indexer,col_indexer] = value instead\n",
      "\n",
      "See the caveats in the documentation: http://pandas.pydata.org/pandas-docs/stable/indexing.html#indexing-view-versus-copy\n",
      "  \n",
      "C:\\Users\\Vishaal\\Anaconda3_Mod\\lib\\site-packages\\ipykernel_launcher.py:4: SettingWithCopyWarning: \n",
      "A value is trying to be set on a copy of a slice from a DataFrame.\n",
      "Try using .loc[row_indexer,col_indexer] = value instead\n",
      "\n",
      "See the caveats in the documentation: http://pandas.pydata.org/pandas-docs/stable/indexing.html#indexing-view-versus-copy\n",
      "  after removing the cwd from sys.path.\n",
      "C:\\Users\\Vishaal\\Anaconda3_Mod\\lib\\site-packages\\ipykernel_launcher.py:15: DeprecationWarning: Call to deprecated `__getitem__` (Method will be removed in 4.0.0, use self.wv.__getitem__() instead).\n",
      "  from ipykernel import kernelapp as app\n"
     ]
    }
   ],
   "source": [
    "#change made here...\n",
    "df_quake_low = df_quake[(df_quake['Priority'] == 'Critical') | (df_quake['Priority'] == 'Low')]\n",
    "df_quake_med = df_quake[(df_quake['Priority'] == 'Critical') | (df_quake['Priority'] == 'Medium')]\n",
    "df_quake_high = df_quake[(df_quake['Priority'] == 'Critical') | (df_quake['Priority'] == 'High')]\n",
    "\n",
    "l_quake_l = preProcess(df_quake_low)\n",
    "word2vec_convert_quake_l, num_q_l = word2vec_convert(l_quake_l, w2v_quake)\n",
    "\n",
    "l_quake_m = preProcess(df_quake_med)\n",
    "word2vec_convert_quake_m, num_q_m = word2vec_convert(l_quake_m, w2v_quake)\n",
    "\n",
    "l_quake_h = preProcess(df_quake_high)\n",
    "word2vec_convert_quake_h, num_q_h = word2vec_convert(l_quake_h, w2v_quake)\n",
    "\n",
    "\n",
    "t_quake_low = to_categorical(df_quake_low['Priority'])\n",
    "t_quake_med = to_categorical(df_quake_med['Priority'])\n",
    "t_quake_high = to_categorical(df_quake_high['Priority'])"
   ]
  },
  {
   "cell_type": "code",
   "execution_count": 539,
   "metadata": {},
   "outputs": [],
   "source": [
    "word2vec_convert_quake_l_svm = word2vec_convert_quake_l.transpose(0,1,2).reshape(word2vec_convert_quake_l.shape[0],word2vec_convert_quake_l.shape[1]*word2vec_convert_quake_l.shape[2])\n",
    "word2vec_convert_quake_l_svm = word2vec_convert_quake_l_svm[:, :, newaxis]"
   ]
  },
  {
   "cell_type": "code",
   "execution_count": 540,
   "metadata": {},
   "outputs": [],
   "source": [
    "model = keras.Sequential()                    \n",
    "model.add(LSTM(32, input_shape = (word2vec_convert_quake_l_svm.shape[1], word2vec_convert_quake_l_svm.shape[2]),\n",
    "              return_sequences = False))\n",
    "model.add(Dense(16,activation='relu'))\n",
    "model.add(Dense(1,activation='sigmoid')) "
   ]
  },
  {
   "cell_type": "code",
   "execution_count": 541,
   "metadata": {},
   "outputs": [],
   "source": [
    "model.compile(optimizer='rmsprop',\n",
    "                  loss='binary_crossentropy',\n",
    "                  metrics=['acc', keras.metrics.Precision(), keras.metrics.Recall(), keras.metrics.AUC()])"
   ]
  },
  {
   "cell_type": "code",
   "execution_count": 542,
   "metadata": {},
   "outputs": [
    {
     "name": "stdout",
     "output_type": "stream",
     "text": [
      "Train on 35 samples, validate on 15 samples\n",
      "Epoch 1/20\n",
      "35/35 [==============================] - 7s 206ms/step - loss: 0.6967 - acc: 0.5429 - precision_35: 0.6800 - recall_35: 0.6800 - auc_35: 0.4540 - val_loss: 0.7003 - val_acc: 0.0000e+00 - val_precision_35: 0.0000e+00 - val_recall_35: 0.0000e+00 - val_auc_35: 0.0000e+00\n",
      "Epoch 2/20\n",
      "35/35 [==============================] - 5s 142ms/step - loss: 0.6901 - acc: 0.7143 - precision_35: 0.7143 - recall_35: 1.0000 - auc_35: 0.4040 - val_loss: 0.7128 - val_acc: 0.0000e+00 - val_precision_35: 0.0000e+00 - val_recall_35: 0.0000e+00 - val_auc_35: 0.0000e+00\n",
      "Epoch 3/20\n",
      "35/35 [==============================] - 5s 154ms/step - loss: 0.6836 - acc: 0.7143 - precision_35: 0.7143 - recall_35: 1.0000 - auc_35: 0.5160 - val_loss: 0.7327 - val_acc: 0.0000e+00 - val_precision_35: 0.0000e+00 - val_recall_35: 0.0000e+00 - val_auc_35: 0.0000e+00\n",
      "Epoch 4/20\n",
      "35/35 [==============================] - 5s 139ms/step - loss: 0.6730 - acc: 0.7143 - precision_35: 0.7143 - recall_35: 1.0000 - auc_35: 0.4940 - val_loss: 0.7774 - val_acc: 0.0000e+00 - val_precision_35: 0.0000e+00 - val_recall_35: 0.0000e+00 - val_auc_35: 0.0000e+00\n",
      "Epoch 5/20\n",
      "35/35 [==============================] - 5s 141ms/step - loss: 0.6495 - acc: 0.7429 - precision_35: 0.7353 - recall_35: 1.0000 - auc_35: 0.7320 - val_loss: 0.9493 - val_acc: 0.0000e+00 - val_precision_35: 0.0000e+00 - val_recall_35: 0.0000e+00 - val_auc_35: 0.0000e+00\n",
      "Epoch 6/20\n",
      "35/35 [==============================] - 5s 137ms/step - loss: 0.6067 - acc: 0.7429 - precision_35: 0.7353 - recall_35: 1.0000 - auc_35: 0.6020 - val_loss: 1.1179 - val_acc: 0.0000e+00 - val_precision_35: 0.0000e+00 - val_recall_35: 0.0000e+00 - val_auc_35: 0.0000e+00\n",
      "Epoch 7/20\n",
      "35/35 [==============================] - 5s 135ms/step - loss: 0.5916 - acc: 0.7429 - precision_35: 0.7353 - recall_35: 1.0000 - auc_35: 0.3900 - val_loss: 1.1198 - val_acc: 0.0000e+00 - val_precision_35: 0.0000e+00 - val_recall_35: 0.0000e+00 - val_auc_35: 0.0000e+00\n",
      "Epoch 8/20\n",
      "35/35 [==============================] - 5s 138ms/step - loss: 0.5940 - acc: 0.7429 - precision_35: 0.7353 - recall_35: 1.0000 - auc_35: 0.4560 - val_loss: 1.2110 - val_acc: 0.0000e+00 - val_precision_35: 0.0000e+00 - val_recall_35: 0.0000e+00 - val_auc_35: 0.0000e+00\n",
      "Epoch 9/20\n",
      "35/35 [==============================] - 5s 134ms/step - loss: 0.5835 - acc: 0.7429 - precision_35: 0.7353 - recall_35: 1.0000 - auc_35: 0.4060 - val_loss: 1.2295 - val_acc: 0.0000e+00 - val_precision_35: 0.0000e+00 - val_recall_35: 0.0000e+00 - val_auc_35: 0.0000e+00\n",
      "Epoch 10/20\n",
      "35/35 [==============================] - 5s 132ms/step - loss: 0.5848 - acc: 0.7429 - precision_35: 0.7353 - recall_35: 1.0000 - auc_35: 0.4140 - val_loss: 1.2085 - val_acc: 0.0000e+00 - val_precision_35: 0.0000e+00 - val_recall_35: 0.0000e+00 - val_auc_35: 0.0000e+00\n",
      "Epoch 11/20\n",
      "35/35 [==============================] - 5s 133ms/step - loss: 0.5810 - acc: 0.7429 - precision_35: 0.7353 - recall_35: 1.0000 - auc_35: 0.4600 - val_loss: 1.2820 - val_acc: 0.0000e+00 - val_precision_35: 0.0000e+00 - val_recall_35: 0.0000e+00 - val_auc_35: 0.0000e+00\n",
      "Epoch 12/20\n",
      "35/35 [==============================] - 5s 137ms/step - loss: 0.5800 - acc: 0.7429 - precision_35: 0.7353 - recall_35: 1.0000 - auc_35: 0.4540 - val_loss: 1.2970 - val_acc: 0.0000e+00 - val_precision_35: 0.0000e+00 - val_recall_35: 0.0000e+00 - val_auc_35: 0.0000e+00\n",
      "Epoch 13/20\n",
      "35/35 [==============================] - 5s 134ms/step - loss: 0.5779 - acc: 0.7429 - precision_35: 0.7353 - recall_35: 1.0000 - auc_35: 0.5020 - val_loss: 1.3237 - val_acc: 0.0000e+00 - val_precision_35: 0.0000e+00 - val_recall_35: 0.0000e+00 - val_auc_35: 0.0000e+00\n",
      "Epoch 14/20\n",
      "35/35 [==============================] - 5s 134ms/step - loss: 0.5774 - acc: 0.7429 - precision_35: 0.7353 - recall_35: 1.0000 - auc_35: 0.5380 - val_loss: 1.2838 - val_acc: 0.0000e+00 - val_precision_35: 0.0000e+00 - val_recall_35: 0.0000e+00 - val_auc_35: 0.0000e+00\n",
      "Epoch 15/20\n",
      "35/35 [==============================] - 5s 135ms/step - loss: 0.5782 - acc: 0.7429 - precision_35: 0.7353 - recall_35: 1.0000 - auc_35: 0.4560 - val_loss: 1.2673 - val_acc: 0.0000e+00 - val_precision_35: 0.0000e+00 - val_recall_35: 0.0000e+00 - val_auc_35: 0.0000e+00\n",
      "Epoch 16/20\n",
      "35/35 [==============================] - 5s 136ms/step - loss: 0.5774 - acc: 0.7429 - precision_35: 0.7353 - recall_35: 1.0000 - auc_35: 0.4760 - val_loss: 1.2485 - val_acc: 0.0000e+00 - val_precision_35: 0.0000e+00 - val_recall_35: 0.0000e+00 - val_auc_35: 0.0000e+00\n",
      "Epoch 17/20\n",
      "35/35 [==============================] - 5s 133ms/step - loss: 0.5810 - acc: 0.7429 - precision_35: 0.7353 - recall_35: 1.0000 - auc_35: 0.4160 - val_loss: 1.2829 - val_acc: 0.0000e+00 - val_precision_35: 0.0000e+00 - val_recall_35: 0.0000e+00 - val_auc_35: 0.0000e+00\n",
      "Epoch 18/20\n",
      "35/35 [==============================] - 6s 166ms/step - loss: 0.5784 - acc: 0.7429 - precision_35: 0.7353 - recall_35: 1.0000 - auc_35: 0.4140 - val_loss: 1.3098 - val_acc: 0.0000e+00 - val_precision_35: 0.0000e+00 - val_recall_35: 0.0000e+00 - val_auc_35: 0.0000e+00\n",
      "Epoch 19/20\n",
      "35/35 [==============================] - 5s 156ms/step - loss: 0.5820 - acc: 0.7429 - precision_35: 0.7353 - recall_35: 1.0000 - auc_35: 0.4060 - val_loss: 1.2759 - val_acc: 0.0000e+00 - val_precision_35: 0.0000e+00 - val_recall_35: 0.0000e+00 - val_auc_35: 0.0000e+00\n",
      "Epoch 20/20\n",
      "35/35 [==============================] - 5s 141ms/step - loss: 0.5770 - acc: 0.7429 - precision_35: 0.7353 - recall_35: 1.0000 - auc_35: 0.4560 - val_loss: 1.3042 - val_acc: 0.0000e+00 - val_precision_35: 0.0000e+00 - val_recall_35: 0.0000e+00 - val_auc_35: 0.0000e+00\n"
     ]
    }
   ],
   "source": [
    "history = model.fit(word2vec_convert_quake_l_svm , t_quake_low , batch_size=10, epochs=20, validation_split=0.3, shuffle=True)"
   ]
  },
  {
   "cell_type": "code",
   "execution_count": 544,
   "metadata": {},
   "outputs": [],
   "source": [
    "y_pred = model.predict(history.validation_data[0])"
   ]
  },
  {
   "cell_type": "code",
   "execution_count": 545,
   "metadata": {},
   "outputs": [
    {
     "data": {
      "text/plain": [
       "array([[0.7286086],\n",
       "       [0.7286086],\n",
       "       [0.7286086],\n",
       "       [0.7286086],\n",
       "       [0.7286086],\n",
       "       [0.7286086],\n",
       "       [0.7286086],\n",
       "       [0.7286086],\n",
       "       [0.7286086],\n",
       "       [0.7286086],\n",
       "       [0.7286086],\n",
       "       [0.7286086],\n",
       "       [0.7286086],\n",
       "       [0.7286086],\n",
       "       [0.7286086]], dtype=float32)"
      ]
     },
     "execution_count": 545,
     "metadata": {},
     "output_type": "execute_result"
    }
   ],
   "source": [
    "y_pred"
   ]
  },
  {
   "cell_type": "code",
   "execution_count": 546,
   "metadata": {},
   "outputs": [
    {
     "data": {
      "text/plain": [
       "(50, 34, 100)"
      ]
     },
     "execution_count": 546,
     "metadata": {},
     "output_type": "execute_result"
    }
   ],
   "source": [
    "word2vec_convert_quake_l.shape"
   ]
  },
  {
   "cell_type": "code",
   "execution_count": 339,
   "metadata": {},
   "outputs": [
    {
     "data": {
      "text/plain": [
       "(100,)"
      ]
     },
     "execution_count": 339,
     "metadata": {},
     "output_type": "execute_result"
    }
   ],
   "source": [
    "word2vec_convert_quake_l[1][0].shape"
   ]
  },
  {
   "cell_type": "code",
   "execution_count": 355,
   "metadata": {},
   "outputs": [
    {
     "data": {
      "text/plain": [
       "(25, 2)"
      ]
     },
     "execution_count": 355,
     "metadata": {},
     "output_type": "execute_result"
    }
   ],
   "source": [
    "df_quake_low[df_quake_low['Priority'] == 'Critical'].shape"
   ]
  },
  {
   "cell_type": "code",
   "execution_count": 358,
   "metadata": {},
   "outputs": [
    {
     "data": {
      "text/plain": [
       "<bound method Callback.on_train_batch_begin of <keras.callbacks.callbacks.History object at 0x000001D269253BA8>>"
      ]
     },
     "execution_count": 358,
     "metadata": {},
     "output_type": "execute_result"
    }
   ],
   "source": [
    "history.on_train_batch_begin"
   ]
  },
  {
   "cell_type": "code",
   "execution_count": 508,
   "metadata": {},
   "outputs": [],
   "source": [
    "word2vec_convert_quake_l_svm = word2vec_convert_quake_l.transpose(0,1,2).reshape(word2vec_convert_quake_l.shape[0],word2vec_convert_quake_l.shape[1]*word2vec_convert_quake_l.shape[2])\n",
    "word2vec_convert_quake_l_svm = word2vec_convert_quake_l_svm[:, :, newaxis]"
   ]
  },
  {
   "cell_type": "code",
   "execution_count": 497,
   "metadata": {},
   "outputs": [
    {
     "name": "stderr",
     "output_type": "stream",
     "text": [
      "C:\\Users\\Vishaal\\Anaconda3_Mod\\lib\\site-packages\\sklearn\\model_selection\\_split.py:1978: FutureWarning: The default value of cv will change from 3 to 5 in version 0.22. Specify it explicitly to silence this warning.\n",
      "  warnings.warn(CV_WARNING, FutureWarning)\n",
      "C:\\Users\\Vishaal\\Anaconda3_Mod\\lib\\site-packages\\sklearn\\calibration.py:453: RuntimeWarning: overflow encountered in exp\n",
      "  E = np.exp(AB[0] * F + AB[1])\n",
      "C:\\Users\\Vishaal\\Anaconda3_Mod\\lib\\site-packages\\sklearn\\calibration.py:455: RuntimeWarning: invalid value encountered in multiply\n",
      "  TEP_minus_T1P = P * (T * E - T1)\n",
      "C:\\Users\\Vishaal\\Anaconda3_Mod\\lib\\site-packages\\sklearn\\calibration.py:453: RuntimeWarning: overflow encountered in exp\n",
      "  E = np.exp(AB[0] * F + AB[1])\n",
      "C:\\Users\\Vishaal\\Anaconda3_Mod\\lib\\site-packages\\sklearn\\calibration.py:455: RuntimeWarning: invalid value encountered in multiply\n",
      "  TEP_minus_T1P = P * (T * E - T1)\n",
      "C:\\Users\\Vishaal\\Anaconda3_Mod\\lib\\site-packages\\sklearn\\calibration.py:453: RuntimeWarning: overflow encountered in exp\n",
      "  E = np.exp(AB[0] * F + AB[1])\n",
      "C:\\Users\\Vishaal\\Anaconda3_Mod\\lib\\site-packages\\sklearn\\calibration.py:455: RuntimeWarning: invalid value encountered in multiply\n",
      "  TEP_minus_T1P = P * (T * E - T1)\n"
     ]
    }
   ],
   "source": [
    "X_train, X_val, Y_train, Y_val = train_test_split(word2vec_convert_quake_l_svm , t_quake_low, test_size=0.2, random_state=100)\n",
    "\n",
    "clf = SGDClassifier(loss = 'hinge', alpha = 0.00001, max_iter=10000, tol=1e-6\n",
    "                                                       , shuffle = True, learning_rate = 'optimal', penalty='l1')\n",
    "clf.fit(X_train, Y_train)\n",
    "y_pred = clf.predict(X_val)\n",
    "'''\n",
    "    Calibrating above model to yield probabilities. SGD with hinge loss does not spit out prob. It gives the value of \n",
    "    the decision function aka the value of the function across th hyperplane but that does not help us in this case. \n",
    "    Using loss as log or something else will give prob but we want to do SVM and not logistic regression. \n",
    "'''\n",
    "model = CalibratedClassifierCV(clf)\n",
    "model.fit(X_train, Y_train)\n",
    "proba_cl = model.predict_proba(X_val)[:, 1]"
   ]
  },
  {
   "cell_type": "code",
   "execution_count": 498,
   "metadata": {},
   "outputs": [
    {
     "data": {
      "text/plain": [
       "1.0"
      ]
     },
     "execution_count": 498,
     "metadata": {},
     "output_type": "execute_result"
    }
   ],
   "source": [
    "metrics.recall_score(Y_val, y_pred)"
   ]
  },
  {
   "cell_type": "code",
   "execution_count": 499,
   "metadata": {},
   "outputs": [
    {
     "data": {
      "text/plain": [
       "1.0"
      ]
     },
     "execution_count": 499,
     "metadata": {},
     "output_type": "execute_result"
    }
   ],
   "source": [
    "metrics.precision_score(Y_val, y_pred)"
   ]
  },
  {
   "cell_type": "code",
   "execution_count": 500,
   "metadata": {},
   "outputs": [
    {
     "data": {
      "text/plain": [
       "array([1, 0, 0, 0, 0, 0, 1, 0, 1, 0])"
      ]
     },
     "execution_count": 500,
     "metadata": {},
     "output_type": "execute_result"
    }
   ],
   "source": [
    "y_pred"
   ]
  },
  {
   "cell_type": "code",
   "execution_count": 501,
   "metadata": {},
   "outputs": [
    {
     "data": {
      "text/plain": [
       "array([0.54305556, 0.54305556, 0.54305556, 0.54305556, 0.54305556,\n",
       "       0.54305556, 0.54305556, 0.54305556, 0.54305556, 0.54305556])"
      ]
     },
     "execution_count": 501,
     "metadata": {},
     "output_type": "execute_result"
    }
   ],
   "source": [
    "proba_cl"
   ]
  },
  {
   "cell_type": "code",
   "execution_count": 502,
   "metadata": {},
   "outputs": [
    {
     "data": {
      "text/plain": [
       "[1, 0, 0, 0, 0, 0, 1, 0, 1, 0]"
      ]
     },
     "execution_count": 502,
     "metadata": {},
     "output_type": "execute_result"
    }
   ],
   "source": [
    "Y_val"
   ]
  },
  {
   "cell_type": "code",
   "execution_count": 505,
   "metadata": {},
   "outputs": [
    {
     "data": {
      "text/plain": [
       "0.5"
      ]
     },
     "execution_count": 505,
     "metadata": {},
     "output_type": "execute_result"
    }
   ],
   "source": [
    "from sklearn.metrics import roc_auc_score\n",
    "roc_auc_score(Y_val, proba_cl)"
   ]
  },
  {
   "cell_type": "code",
   "execution_count": 550,
   "metadata": {},
   "outputs": [
    {
     "data": {
      "text/plain": [
       "'C:\\\\Users\\\\Vishaal\\\\Documents\\\\GitHub\\\\TREC_Distributed_Machine_Learning\\\\TREC'"
      ]
     },
     "execution_count": 550,
     "metadata": {},
     "output_type": "execute_result"
    }
   ],
   "source": [
    "os.getcwd()"
   ]
  },
  {
   "cell_type": "code",
   "execution_count": 554,
   "metadata": {},
   "outputs": [],
   "source": [
    "os.chdir('30_Models/Embeddings')"
   ]
  },
  {
   "cell_type": "code",
   "execution_count": 555,
   "metadata": {},
   "outputs": [],
   "source": [
    "df = pd.read_csv('Word2Vec_Earthquake.csv')"
   ]
  },
  {
   "cell_type": "code",
   "execution_count": 587,
   "metadata": {},
   "outputs": [
    {
     "data": {
      "text/plain": [
       "170"
      ]
     },
     "execution_count": 587,
     "metadata": {},
     "output_type": "execute_result"
    }
   ],
   "source": [
    "len(df['Vector'][0].split(' '))"
   ]
  },
  {
   "cell_type": "code",
   "execution_count": 568,
   "metadata": {},
   "outputs": [
    {
     "data": {
      "text/plain": [
       "13732"
      ]
     },
     "execution_count": 568,
     "metadata": {},
     "output_type": "execute_result"
    }
   ],
   "source": [
    "len(df['Vector'])"
   ]
  },
  {
   "cell_type": "code",
   "execution_count": 573,
   "metadata": {},
   "outputs": [
    {
     "data": {
      "text/plain": [
       "100"
      ]
     },
     "execution_count": 573,
     "metadata": {},
     "output_type": "execute_result"
    }
   ],
   "source": [
    "len(quake_embeddings['Vector'][0])"
   ]
  },
  {
   "cell_type": "code",
   "execution_count": 588,
   "metadata": {},
   "outputs": [
    {
     "data": {
      "text/plain": [
       "'[-0.42930934  0.30210933  0.21056513  0.03452663  0.42126256 -0.10403582\\n  0.27250922  0.63893014 -0.02373877 -0.21439472  0.00800843 -0.19286107\\n  0.34826067  0.1199688   0.27746996 -0.45279133 -0.531329    0.08670937\\n -0.05606615  0.35599726  0.256648    0.45442337  0.01842661 -0.2624241\\n -0.2438972  -0.07291157 -0.13600281 -0.21213311 -0.51666    -0.25144532\\n -0.15743652  0.05947116 -0.2677446  -0.04593701 -0.11057325  0.17864665\\n -0.13757832 -0.1789104  -0.28575233 -0.23100701  0.21304555  0.13309859\\n  0.01255217  0.21739659 -0.22655548 -0.21831153  0.13235144 -0.31877106\\n  0.22851521 -0.20508546  0.01989687  0.28824607 -0.29692942  0.11683045\\n  0.0806662   0.10847174 -0.3374259   0.00975608  0.05762445 -0.19405909\\n  0.0714239  -0.2795089   0.015348   -0.3778789  -0.04553798  0.31654674\\n -0.12942529 -0.07994153  0.17521359 -0.08295401  0.15600537 -0.35787982\\n -0.05917545 -0.11063447 -0.5011865  -0.0458384  -0.17793064  0.05883675\\n  0.3478436  -0.01042942 -0.1623629   0.12106623 -0.0768719  -0.0525853\\n  0.07956785  0.05136972 -0.24324705 -0.4369552  -0.21283306 -0.13410589\\n  0.0951308   0.03516288 -0.15502302 -0.24132247 -0.33454725  0.1579689\\n -0.02192664  0.06636952  0.34051153 -0.02144553]'"
      ]
     },
     "execution_count": 588,
     "metadata": {},
     "output_type": "execute_result"
    }
   ],
   "source": [
    "df['Vector'][0]"
   ]
  },
  {
   "cell_type": "code",
   "execution_count": null,
   "metadata": {},
   "outputs": [],
   "source": []
  }
 ],
 "metadata": {
  "kernelspec": {
   "display_name": "Python 3",
   "language": "python",
   "name": "python3"
  },
  "language_info": {
   "codemirror_mode": {
    "name": "ipython",
    "version": 3
   },
   "file_extension": ".py",
   "mimetype": "text/x-python",
   "name": "python",
   "nbconvert_exporter": "python",
   "pygments_lexer": "ipython3",
   "version": "3.7.3"
  },
  "pycharm": {
   "stem_cell": {
    "cell_type": "raw",
    "metadata": {
     "collapsed": false
    },
    "source": []
   }
  }
 },
 "nbformat": 4,
 "nbformat_minor": 4
}
