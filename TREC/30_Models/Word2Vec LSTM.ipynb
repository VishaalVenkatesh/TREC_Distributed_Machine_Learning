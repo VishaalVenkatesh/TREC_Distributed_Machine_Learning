{
 "cells": [
  {
   "cell_type": "code",
   "execution_count": 485,
   "metadata": {
    "pycharm": {
     "is_executing": false
    }
   },
   "outputs": [],
   "source": [
    "import os\n",
    "import pandas as pd\n",
    "import numpy as np\n",
    "from nltk.tokenize import word_tokenize\n",
    "from nltk.stem.wordnet import WordNetLemmatizer\n",
    "from nltk.corpus import stopwords\n",
    "import string\n",
    "import re\n",
    "from gensim.models import Word2Vec\n",
    "from gensim.models.phrases import Phrases, Phraser\n",
    "import logging\n",
    "logging.basicConfig(format=\"%(levelname)s - %(asctime)s: %(message)s\", datefmt= '%H:%M:%S', level=logging.INFO)\n",
    "from nltk import bigrams\n",
    "from sklearn.model_selection import train_test_split\n",
    "from sklearn.linear_model import SGDClassifier\n",
    "from sklearn.calibration import CalibratedClassifierCV\n",
    "from keras.layers import Dense\n",
    "from keras.models import Sequential\n",
    "from keras.layers import Embedding, SimpleRNN\n",
    "from keras.layers import LSTM, GlobalMaxPooling1D\n",
    "from keras.initializers import Constant\n",
    "import keras.metrics\n",
    "from numpy import newaxis\n",
    "from keras.preprocessing.text import Tokenizer\n",
    "from sklearn import metrics"
   ]
  },
  {
   "cell_type": "markdown",
   "metadata": {},
   "source": [
    "## Reading in the Data:\n",
    "\n",
    "We have used all the tweets from 2018 (train and test) to create the embeddings. However, balanced datasets have been used to train and test the model. The following code reads in all the data. Note, we are only considering earthquakes and floods in the following sections and we will build separate models for each earthquakes and floods. "
   ]
  },
  {
   "cell_type": "code",
   "execution_count": 2,
   "metadata": {
    "pycharm": {
     "is_executing": false,
     "name": "#%%\n"
    }
   },
   "outputs": [],
   "source": [
    "os.chdir('../10_Data/30_Balanced Tweets (Crit = High = Medium = Low)/10_2018 Train')"
   ]
  },
  {
   "cell_type": "code",
   "execution_count": 3,
   "metadata": {
    "pycharm": {
     "is_executing": false
    }
   },
   "outputs": [],
   "source": [
    "df_e1 = pd.read_csv('earthquake_TREC_2018_train_BALANCED.csv')\n",
    "df_f1 = pd.read_csv('flood_TREC_2018_train_BALANCED.csv')"
   ]
  },
  {
   "cell_type": "code",
   "execution_count": 4,
   "metadata": {
    "pycharm": {
     "is_executing": false
    }
   },
   "outputs": [],
   "source": [
    "os.chdir('../15_2018 Test')"
   ]
  },
  {
   "cell_type": "code",
   "execution_count": 5,
   "metadata": {
    "pycharm": {
     "is_executing": false
    }
   },
   "outputs": [],
   "source": [
    "df_e2 = pd.read_csv('earthquake_TREC_2018_test_BALANCED.csv')\n",
    "df_f2 = pd.read_csv('flood_TREC_2018_test_BALANCED.csv')"
   ]
  },
  {
   "cell_type": "code",
   "execution_count": 6,
   "metadata": {
    "pycharm": {
     "is_executing": false
    }
   },
   "outputs": [],
   "source": [
    "os.chdir('../../20_Extracted Tweets/10_2018 Train')"
   ]
  },
  {
   "cell_type": "code",
   "execution_count": 7,
   "metadata": {
    "pycharm": {
     "is_executing": false
    }
   },
   "outputs": [],
   "source": [
    "df_e1_embed = pd.read_csv('Earthquake_TREC_2018_train.csv')\n",
    "df_f1_embed = pd.read_csv('flood_TREC_2018_train.csv')"
   ]
  },
  {
   "cell_type": "code",
   "execution_count": 8,
   "metadata": {
    "pycharm": {
     "is_executing": false
    }
   },
   "outputs": [],
   "source": [
    "os.chdir('../15_2018 Test')"
   ]
  },
  {
   "cell_type": "code",
   "execution_count": 9,
   "metadata": {
    "pycharm": {
     "is_executing": false
    }
   },
   "outputs": [],
   "source": [
    "df_e2_embed = pd.read_csv('Earthquake_TREC_2018_test.csv')\n",
    "df_f2_embed = pd.read_csv('Floods_TREC_2018_test.csv')"
   ]
  },
  {
   "cell_type": "markdown",
   "metadata": {},
   "source": [
    "## Combining dataframes\n",
    "We are now combine earthquake tweets into one df and flood tweets into another df. We have subsetting on the tweets and priority columns. We do this for both the embedding dataframes and our balanced datasets, although we will not use the balanced datasets until later."
   ]
  },
  {
   "cell_type": "code",
   "execution_count": 359,
   "metadata": {
    "pycharm": {
     "is_executing": false
    }
   },
   "outputs": [],
   "source": [
    "df_quake_e = pd.DataFrame()\n",
    "df_quake_e['Tweet'] = pd.concat([df_e1_embed['Tweet'] , df_e2_embed['Tweet']])\n",
    "df_quake_e['Priority'] = pd.concat([df_e1_embed['Priority'] , df_e2_embed['Priority']])"
   ]
  },
  {
   "cell_type": "code",
   "execution_count": 360,
   "metadata": {
    "pycharm": {
     "is_executing": false
    }
   },
   "outputs": [],
   "source": [
    "df_flood_e = pd.DataFrame()\n",
    "df_flood_e['Tweet'] = pd.concat([df_f1_embed['Tweet'] , df_f2_embed['Tweet']])\n",
    "df_flood_e['Priority'] = pd.concat([df_f1_embed['Priority'] , df_f2_embed['Priority']])"
   ]
  },
  {
   "cell_type": "code",
   "execution_count": 361,
   "metadata": {
    "pycharm": {
     "is_executing": false
    }
   },
   "outputs": [],
   "source": [
    "df_quake = pd.DataFrame()\n",
    "df_quake['Tweet'] = pd.concat([df_e1['Tweet'] , df_e2['Tweet']])\n",
    "df_quake['Priority'] = pd.concat([df_e1['Priority'] , df_e2['Priority']])"
   ]
  },
  {
   "cell_type": "code",
   "execution_count": 362,
   "metadata": {
    "pycharm": {
     "is_executing": false
    }
   },
   "outputs": [],
   "source": [
    "df_flood = pd.DataFrame()\n",
    "df_flood['Tweet'] = pd.concat([df_f1['Tweet'] , df_f2['Tweet']])\n",
    "df_flood['Priority'] = pd.concat([df_f1['Priority'] , df_f2['Priority']])"
   ]
  },
  {
   "cell_type": "markdown",
   "metadata": {},
   "source": [
    "Cross checking the shapes to make sure they match. **They do match**"
   ]
  },
  {
   "cell_type": "code",
   "execution_count": 363,
   "metadata": {
    "pycharm": {
     "is_executing": false
    }
   },
   "outputs": [
    {
     "data": {
      "text/plain": [
       "((5140, 2), (2518, 2), (100, 2), (120, 2))"
      ]
     },
     "execution_count": 363,
     "metadata": {},
     "output_type": "execute_result"
    }
   ],
   "source": [
    "df_quake_e.shape, df_flood_e.shape, df_quake.shape, df_flood.shape"
   ]
  },
  {
   "cell_type": "markdown",
   "metadata": {},
   "source": [
    "## Converting to categorical (0 & 1)\n",
    "\n",
    "We will now define a function to convert the priority to a categorical 0 & 1. This will be necessary when we train a model."
   ]
  },
  {
   "cell_type": "code",
   "execution_count": 385,
   "metadata": {
    "pycharm": {
     "is_executing": false
    }
   },
   "outputs": [],
   "source": [
    "'''\n",
    "Creating a categorical variable to keep label critical tweets as 1 and 0 otherwise\n",
    "'''\n",
    "def to_categorical(array):\n",
    "    t = []\n",
    "    for element in array:\n",
    "        if element =='Critical':\n",
    "            t.append(1)\n",
    "        else:\n",
    "            t.append(0)\n",
    "        \n",
    "    return (t)\n"
   ]
  },
  {
   "cell_type": "markdown",
   "metadata": {},
   "source": [
    "## Pre-Processing\n",
    "\n",
    "We shall now perform a series of pre processing to our tweets. This includes tokenizing them, removing stop words and lemmatising them.  \n",
    "\n",
    "**I also wrote a line of code to remove the links in the tweets as it was throwing in a lot of gibberish into the emebddings.** The link is almost always at the end of the tweet so its relatively easy to remove. \n",
    "\n",
    "I left the punctuation marks in. We have to take a call on this later."
   ]
  },
  {
   "cell_type": "code",
   "execution_count": 386,
   "metadata": {
    "pycharm": {
     "is_executing": false
    }
   },
   "outputs": [],
   "source": [
    "def preProcess(df):\n",
    "    df['Tweet'] = df['Tweet'].astype('str')\n",
    "    \n",
    "    df['Tweet'] = df['Tweet'].apply(lambda x: re.split('http?s *: *\\/\\/.*', str(x))[0])\n",
    "    \n",
    "    token_array = []\n",
    "    #for tweet in df['Tweet']:\n",
    "    #    translator = str.maketrans(string.punctuation, ' '*len(string.punctuation))\n",
    "    #    tweet = tweet.translate(translator)\n",
    "    #    token_tweet = word_tokenize(tweet)\n",
    "    #    token_array.append(token_tweet)\n",
    "    \n",
    "    for tweet in df['Tweet']:\n",
    "        token_tweet = word_tokenize(tweet)\n",
    "        token_array.append(token_tweet)\n",
    "        \n",
    "    stop_words=set(stopwords.words(\"english\"))\n",
    "    filtered_token_array=[]\n",
    "    for tweet in token_array:\n",
    "        filtered_tweet = []\n",
    "        for word in tweet:\n",
    "                if word not in stop_words:\n",
    "                    filtered_tweet.append(word)\n",
    "        filtered_token_array.append(filtered_tweet)\n",
    "        \n",
    "    lem = WordNetLemmatizer()\n",
    "\n",
    "    lemmatized_array=[]\n",
    "    for tweet in filtered_token_array:\n",
    "        lemmatized_tweet = []\n",
    "        for word in tweet:\n",
    "            lemmatized_tweet.append(lem.lemmatize(word,'v'))\n",
    "        lemmatized_array.append(lemmatized_tweet)\n",
    "    \n",
    "    lemmatized_array_join = []\n",
    "    for element in lemmatized_array:\n",
    "        lemmatized_array_join.append(' '.join(element))\n",
    "        \n",
    "    return (lemmatized_array_join)\n"
   ]
  },
  {
   "cell_type": "markdown",
   "metadata": {},
   "source": [
    "The tweets have been pre processed and we now have a collection of tweets. Word2Vec takes in a list of words together contained in a bigger list (Corpus -> List of Tweet -> List of Words)."
   ]
  },
  {
   "cell_type": "code",
   "execution_count": 387,
   "metadata": {
    "pycharm": {
     "is_executing": false
    }
   },
   "outputs": [],
   "source": [
    "l_quake_e = preProcess(df_quake_e)\n",
    "l_flood_e = preProcess(df_flood_e)\n",
    "\n",
    "list_of_words_quake = []\n",
    "list_of_words_flood = []\n",
    "\n",
    "for tweet in l_quake_e:\n",
    "        token_tweet = word_tokenize(tweet)\n",
    "        list_of_words_quake.append(token_tweet)\n",
    "        \n",
    "for tweet in l_flood_e:\n",
    "        token_tweet = word_tokenize(tweet)\n",
    "        list_of_words_flood.append(token_tweet)\n",
    "        "
   ]
  },
  {
   "cell_type": "markdown",
   "metadata": {},
   "source": [
    "## Creating a Word2Vec model\n",
    "\n",
    "We will now initialise a word2vec model. This takes in a paramter 'min_count' which is the number of minimum occurences of a word required for it be included in the embeddings. **For now we set min_count = 1**. I did this because we are creating our own embeddings (not picking from wikipedia embeddings etc) and our data is not that huge. "
   ]
  },
  {
   "cell_type": "code",
   "execution_count": 457,
   "metadata": {
    "pycharm": {
     "is_executing": false
    }
   },
   "outputs": [],
   "source": [
    "'''\n",
    "min_count = int - Ignores all words with total absolute frequency lower than this - (2, 100)\n",
    "\n",
    "window = int - The maximum distance between the current and predicted word within a sentence. \n",
    "        E.g. window words on the left and window words on the left of our target - (2, 10)\n",
    "\n",
    "size = int - Dimensionality of the feature vectors. - (50, 300)\n",
    "\n",
    "sample = float - The threshold for configuring which higher-frequency words are randomly downsampled. \n",
    "        Highly influencial. - (0, 1e-5)\n",
    "\n",
    "alpha = float - The initial learning rate - (0.01, 0.05)\n",
    "\n",
    "min_alpha = float - Learning rate will linearly drop to min_alpha as training progresses. \n",
    "        To set it: alpha - (min_alpha * epochs) ~ 0.00\n",
    "\n",
    "negative = int - If > 0, negative sampling will be used, the int for negative specifies how many \"noise words\" \n",
    "        should be drown. If set to 0, no negative sampling is used. - (5, 20)\n",
    "        \n",
    "workers = int - Use these many worker threads to train the model (=faster training with multicore machines)\n",
    "'''\n",
    "w2v_quake = Word2Vec(min_count=1,\n",
    "                     window=4,\n",
    "                     size=100,\n",
    "                     sample=6e-5, \n",
    "                     alpha=0.03, \n",
    "                     min_alpha=0.0007, \n",
    "                     negative=20)\n",
    "w2v_flood = Word2Vec(min_count=1,\n",
    "                     window=4,\n",
    "                     size=100,\n",
    "                     sample=6e-5, \n",
    "                     alpha=0.03, \n",
    "                     min_alpha=0.0007, \n",
    "                     negative=20)"
   ]
  },
  {
   "cell_type": "markdown",
   "metadata": {},
   "source": [
    "We will now build our vocabulary. Do not run the following code multiple times before initialising the w2v instance again from above."
   ]
  },
  {
   "cell_type": "code",
   "execution_count": 458,
   "metadata": {
    "pycharm": {
     "is_executing": false
    }
   },
   "outputs": [
    {
     "name": "stderr",
     "output_type": "stream",
     "text": [
      "INFO - 10:13:28: collecting all words and their counts\n",
      "INFO - 10:13:28: PROGRESS: at sentence #0, processed 0 words, keeping 0 word types\n",
      "INFO - 10:13:28: collected 13732 word types from a corpus of 70267 raw words and 5140 sentences\n",
      "INFO - 10:13:28: Loading a fresh vocabulary\n",
      "INFO - 10:13:28: effective_min_count=1 retains 13732 unique words (100% of original 13732, drops 0)\n",
      "INFO - 10:13:28: effective_min_count=1 leaves 70267 word corpus (100% of original 70267, drops 0)\n",
      "INFO - 10:13:28: deleting the raw counts dictionary of 13732 items\n",
      "INFO - 10:13:28: sample=6e-05 downsamples 669 most-common words\n",
      "INFO - 10:13:28: downsampling leaves estimated 33474 word corpus (47.6% of prior 70267)\n",
      "INFO - 10:13:29: estimated required memory for 13732 words and 100 dimensions: 17851600 bytes\n",
      "INFO - 10:13:29: resetting layer weights\n",
      "INFO - 10:13:31: collecting all words and their counts\n",
      "INFO - 10:13:31: PROGRESS: at sentence #0, processed 0 words, keeping 0 word types\n",
      "INFO - 10:13:31: collected 9614 word types from a corpus of 48396 raw words and 2518 sentences\n",
      "INFO - 10:13:31: Loading a fresh vocabulary\n",
      "INFO - 10:13:31: effective_min_count=1 retains 9614 unique words (100% of original 9614, drops 0)\n",
      "INFO - 10:13:31: effective_min_count=1 leaves 48396 word corpus (100% of original 48396, drops 0)\n",
      "INFO - 10:13:31: deleting the raw counts dictionary of 9614 items\n",
      "INFO - 10:13:31: sample=6e-05 downsamples 733 most-common words\n",
      "INFO - 10:13:31: downsampling leaves estimated 22299 word corpus (46.1% of prior 48396)\n",
      "INFO - 10:13:31: estimated required memory for 9614 words and 100 dimensions: 12498200 bytes\n",
      "INFO - 10:13:31: resetting layer weights\n"
     ]
    }
   ],
   "source": [
    "w2v_quake.build_vocab(list_of_words_quake)\n",
    "w2v_flood.build_vocab(list_of_words_flood)"
   ]
  },
  {
   "cell_type": "markdown",
   "metadata": {},
   "source": [
    "The following code is to view the vocabulary that we created"
   ]
  },
  {
   "cell_type": "code",
   "execution_count": 459,
   "metadata": {
    "pycharm": {
     "is_executing": false
    }
   },
   "outputs": [
    {
     "data": {
      "text/plain": [
       "{'ã€�': <gensim.models.keyedvectors.Vocab at 0x1d249e67e48>,\n",
       " '#': <gensim.models.keyedvectors.Vocab at 0x1d24972c828>,\n",
       " 'USGS': <gensim.models.keyedvectors.Vocab at 0x1d24972c128>,\n",
       " 'Breakingã€': <gensim.models.keyedvectors.Vocab at 0x1d24972ce80>,\n",
       " '‘': <gensim.models.keyedvectors.Vocab at 0x1d24972c438>,\n",
       " 'M': <gensim.models.keyedvectors.Vocab at 0x1d24972c860>,\n",
       " '1.1': <gensim.models.keyedvectors.Vocab at 0x1d24972c278>,\n",
       " ',': <gensim.models.keyedvectors.Vocab at 0x1d24972ccc0>,\n",
       " '28km': <gensim.models.keyedvectors.Vocab at 0x1d24972c208>,\n",
       " 'SSW': <gensim.models.keyedvectors.Vocab at 0x1d24972cfd0>,\n",
       " 'Fairbanks': <gensim.models.keyedvectors.Vocab at 0x1d24972cb38>,\n",
       " 'Alaska': <gensim.models.keyedvectors.Vocab at 0x1d24972c518>,\n",
       " 'http': <gensim.models.keyedvectors.Vocab at 0x1d24972c080>,\n",
       " ':': <gensim.models.keyedvectors.Vocab at 0x1d24972c668>,\n",
       " '//t.co/hSyciQFM': <gensim.models.keyedvectors.Vocab at 0x1d24972c1d0>,\n",
       " 'PastHour': <gensim.models.keyedvectors.Vocab at 0x1d24972c3c8>,\n",
       " '11': <gensim.models.keyedvectors.Vocab at 0x1d24972cb00>,\n",
       " 'earthquake': <gensim.models.keyedvectors.Vocab at 0x1d2438c2438>,\n",
       " 'tsunami': <gensim.models.keyedvectors.Vocab at 0x1d2438c26d8>,\n",
       " 'prayfromjapan': <gensim.models.keyedvectors.Vocab at 0x1d2438c24e0>,\n",
       " 'Earthquake': <gensim.models.keyedvectors.Vocab at 0x1d2437aae48>,\n",
       " '4.8': <gensim.models.keyedvectors.Vocab at 0x1d2437aac88>,\n",
       " 'south': <gensim.models.keyedvectors.Vocab at 0x1d2437aad68>,\n",
       " 'Bali': <gensim.models.keyedvectors.Vocab at 0x1d2481d6518>,\n",
       " 'Indonesia': <gensim.models.keyedvectors.Vocab at 0x1d26aa85240>,\n",
       " 'September': <gensim.models.keyedvectors.Vocab at 0x1d26aa851d0>,\n",
       " '04': <gensim.models.keyedvectors.Vocab at 0x1d249e70e10>,\n",
       " '2012': <gensim.models.keyedvectors.Vocab at 0x1d249e70208>,\n",
       " '21:19:30': <gensim.models.keyedvectors.Vocab at 0x1d249e70128>,\n",
       " 'GMT': <gensim.models.keyedvectors.Vocab at 0x1d249e70080>,\n",
       " '//t.co/iEelaYGO': <gensim.models.keyedvectors.Vocab at 0x1d249e70240>,\n",
       " '4.5': <gensim.models.keyedvectors.Vocab at 0x1d249e70320>,\n",
       " 'Taiwan': <gensim.models.keyedvectors.Vocab at 0x1d249e70358>,\n",
       " 'region': <gensim.models.keyedvectors.Vocab at 0x1d249e702e8>,\n",
       " '//t.co/7FmNQZdm': <gensim.models.keyedvectors.Vocab at 0x1d249e70278>,\n",
       " '2.6': <gensim.models.keyedvectors.Vocab at 0x1d249e702b0>,\n",
       " 'Hawaii': <gensim.models.keyedvectors.Vocab at 0x1d249e70390>,\n",
       " '//t.co/S2GbQIaO': <gensim.models.keyedvectors.Vocab at 0x1d249e70438>,\n",
       " 'Magnitude': <gensim.models.keyedvectors.Vocab at 0x1d249e70470>,\n",
       " '7.9': <gensim.models.keyedvectors.Vocab at 0x1d249e70400>,\n",
       " 'strike': <gensim.models.keyedvectors.Vocab at 0x1d249e70518>,\n",
       " 'coast': <gensim.models.keyedvectors.Vocab at 0x1d249e704a8>,\n",
       " 'Costa': <gensim.models.keyedvectors.Vocab at 0x1d249e70198>,\n",
       " 'Rica': <gensim.models.keyedvectors.Vocab at 0x1d249e70160>,\n",
       " '-': <gensim.models.keyedvectors.Vocab at 0x1d249e703c8>,\n",
       " 'RT': <gensim.models.keyedvectors.Vocab at 0x1d249e70630>,\n",
       " '@': <gensim.models.keyedvectors.Vocab at 0x1d249e705f8>,\n",
       " 'Reuters': <gensim.models.keyedvectors.Vocab at 0x1d249e706a0>,\n",
       " 'Live': <gensim.models.keyedvectors.Vocab at 0x1d249e70668>,\n",
       " 'coverage': <gensim.models.keyedvectors.Vocab at 0x1d249e70550>,\n",
       " '7.9-magnitude': <gensim.models.keyedvectors.Vocab at 0x1d249e706d8>,\n",
       " 'rattle': <gensim.models.keyedvectors.Vocab at 0x1d249e704e0>,\n",
       " ';': <gensim.models.keyedvectors.Vocab at 0x1d249e70898>,\n",
       " 'watch': <gensim.models.keyedvectors.Vocab at 0x1d249e70828>,\n",
       " 'Caribbean': <gensim.models.keyedvectors.Vocab at 0x1d249e70860>,\n",
       " 'effect': <gensim.models.keyedvectors.Vocab at 0x1d249e70588>,\n",
       " '//t.c': <gensim.models.keyedvectors.Vocab at 0x1d249e708d0>,\n",
       " '...': <gensim.models.keyedvectors.Vocab at 0x1d249e70780>,\n",
       " 'ãƒ‡ã‚': <gensim.models.keyedvectors.Vocab at 0x1d249e707b8>,\n",
       " '«': <gensim.models.keyedvectors.Vocab at 0x1d249e70748>,\n",
       " 'ã‚¤ã�ªã€‚ã�§ã�‹ã�™ã�Žã‚‹ã�œã€�ãƒ™ã‚¯ãƒ†ãƒ': <gensim.models.keyedvectors.Vocab at 0x1d249e709b0>,\n",
       " 'ï¼�http': <gensim.models.keyedvectors.Vocab at 0x1d249e705c0>,\n",
       " '//t.co/SvC7zoN5ã€€RTx2': <gensim.models.keyedvectors.Vocab at 0x1d249e70710>,\n",
       " 'ã€€': <gensim.models.keyedvectors.Vocab at 0x1d249e70978>,\n",
       " 'NewEarthquake': <gensim.models.keyedvectors.Vocab at 0x1d249e70a20>,\n",
       " '.': <gensim.models.keyedvectors.Vocab at 0x1d249e70a90>,\n",
       " 'Sep': <gensim.models.keyedvectors.Vocab at 0x1d249e70ac8>,\n",
       " '5': <gensim.models.keyedvectors.Vocab at 0x1d249e707f0>,\n",
       " '8:42amã€€http': <gensim.models.keyedvectors.Vocab at 0x1d249e70a58>,\n",
       " '//t.co/mwsMLQ3Z': <gensim.models.keyedvectors.Vocab at 0x1d249e70b00>,\n",
       " 'BreakingNews': <gensim.models.keyedvectors.Vocab at 0x1d249e70b70>,\n",
       " 'Caribbean-wide': <gensim.models.keyedvectors.Vocab at 0x1d249e70c88>,\n",
       " 'Rican': <gensim.models.keyedvectors.Vocab at 0x1d249e70cc0>,\n",
       " 'quake': <gensim.models.keyedvectors.Vocab at 0x1d249e70cf8>,\n",
       " 'Pacific': <gensim.models.keyedvectors.Vocab at 0x1d249e70d30>,\n",
       " 'Tsunami': <gensim.models.keyedvectors.Vocab at 0x1d249e70ba8>,\n",
       " 'Warning': <gensim.models.keyedvectors.Vocab at 0x1d249e70c50>,\n",
       " 'Center': <gensim.models.keyedvectors.Vocab at 0x1d249e70be0>,\n",
       " 'say': <gensim.models.keyedvectors.Vocab at 0x1d249e70c18>,\n",
       " 'lgf': <gensim.models.keyedvectors.Vocab at 0x1d249e70b38>,\n",
       " 'p2': <gensim.models.keyedvectors.Vocab at 0x1d249e70dd8>,\n",
       " 'shake': <gensim.models.keyedvectors.Vocab at 0x1d249e70d68>,\n",
       " 'magnitude-5.8': <gensim.models.keyedvectors.Vocab at 0x1d249e70da0>,\n",
       " '//t.co/454IrRdA': <gensim.models.keyedvectors.Vocab at 0x1d249e70e80>,\n",
       " 'costarica': <gensim.models.keyedvectors.Vocab at 0x1d249e70eb8>,\n",
       " 'More': <gensim.models.keyedvectors.Vocab at 0x1d249e70ef0>,\n",
       " 'coastline': <gensim.models.keyedvectors.Vocab at 0x1d249e70f28>,\n",
       " '//t.co/9YqdEq9g': <gensim.models.keyedvectors.Vocab at 0x1d249e70f60>,\n",
       " 'AlertNet': <gensim.models.keyedvectors.Vocab at 0x1d249e70f98>,\n",
       " 'Strong': <gensim.models.keyedvectors.Vocab at 0x1d249e70fd0>,\n",
       " 'hit': <gensim.models.keyedvectors.Vocab at 0x1d249e75048>,\n",
       " '//t.co/sxICdjwl': <gensim.models.keyedvectors.Vocab at 0x1d249e75080>,\n",
       " '``': <gensim.models.keyedvectors.Vocab at 0x1d249e750b8>,\n",
       " 'RobertaCBS5': <gensim.models.keyedvectors.Vocab at 0x1d249e750f0>,\n",
       " 'Breaking': <gensim.models.keyedvectors.Vocab at 0x1d249e75128>,\n",
       " 'Tsunmai': <gensim.models.keyedvectors.Vocab at 0x1d249e75160>,\n",
       " 'WARNING': <gensim.models.keyedvectors.Vocab at 0x1d249e75198>,\n",
       " 'west': <gensim.models.keyedvectors.Vocab at 0x1d249e751d0>,\n",
       " 'Central': <gensim.models.keyedvectors.Vocab at 0x1d249e75208>,\n",
       " 'America': <gensim.models.keyedvectors.Vocab at 0x1d249e75240>,\n",
       " 'magnitude': <gensim.models.keyedvectors.Vocab at 0x1d249e75278>,\n",
       " 'Birth': <gensim.models.keyedvectors.Vocab at 0x1d249e752b0>,\n",
       " 'pangs': <gensim.models.keyedvectors.Vocab at 0x1d249e752e8>,\n",
       " '8:42am': <gensim.models.keyedvectors.Vocab at 0x1d249e75320>,\n",
       " 'epicenter': <gensim.models.keyedvectors.Vocab at 0x1d249e75358>,\n",
       " '(': <gensim.models.keyedvectors.Vocab at 0x1d249e75390>,\n",
       " '6m': <gensim.models.keyedvectors.Vocab at 0x1d249e753c8>,\n",
       " 'ago': <gensim.models.keyedvectors.Vocab at 0x1d249e75400>,\n",
       " '83km': <gensim.models.keyedvectors.Vocab at 0x1d249e75438>,\n",
       " 'S': <gensim.models.keyedvectors.Vocab at 0x1d249e75470>,\n",
       " 'Liberia': <gensim.models.keyedvectors.Vocab at 0x1d249e754a8>,\n",
       " 'depth': <gensim.models.keyedvectors.Vocab at 0x1d249e754e0>,\n",
       " '46km': <gensim.models.keyedvectors.Vocab at 0x1d249e75518>,\n",
       " ')': <gensim.models.keyedvectors.Vocab at 0x1d249e75550>,\n",
       " 'Oh': <gensim.models.keyedvectors.Vocab at 0x1d249e75588>,\n",
       " '!': <gensim.models.keyedvectors.Vocab at 0x1d249e755c0>,\n",
       " 'damage': <gensim.models.keyedvectors.Vocab at 0x1d249e755f8>,\n",
       " 'report': <gensim.models.keyedvectors.Vocab at 0x1d249e75630>,\n",
       " '?': <gensim.models.keyedvectors.Vocab at 0x1d249e75668>,\n",
       " 'Nids_ShriKant': <gensim.models.keyedvectors.Vocab at 0x1d249e756a0>,\n",
       " 'Rica..': <gensim.models.keyedvectors.Vocab at 0x1d249e756d8>,\n",
       " 'Now': <gensim.models.keyedvectors.Vocab at 0x1d249e75710>,\n",
       " 'A': <gensim.models.keyedvectors.Vocab at 0x1d249e75748>,\n",
       " 'KeepSafe': <gensim.models.keyedvectors.Vocab at 0x1d249e75780>,\n",
       " 'GodBless': <gensim.models.keyedvectors.Vocab at 0x1d249e757b8>,\n",
       " 'costa': <gensim.models.keyedvectors.Vocab at 0x1d249e757f0>,\n",
       " 'rica': <gensim.models.keyedvectors.Vocab at 0x1d249e75828>,\n",
       " '7,9SR': <gensim.models.keyedvectors.Vocab at 0x1d249e75860>,\n",
       " 'CHILE': <gensim.models.keyedvectors.Vocab at 0x1d249e75898>,\n",
       " \"'S\": <gensim.models.keyedvectors.Vocab at 0x1d249e758d0>,\n",
       " 'NAVY': <gensim.models.keyedvectors.Vocab at 0x1d249e75908>,\n",
       " 'SAYS': <gensim.models.keyedvectors.Vocab at 0x1d249e75940>,\n",
       " 'DECLARES': <gensim.models.keyedvectors.Vocab at 0x1d249e75978>,\n",
       " 'TSUNAMI': <gensim.models.keyedvectors.Vocab at 0x1d249e759b0>,\n",
       " 'ALERT': <gensim.models.keyedvectors.Vocab at 0x1d249e759e8>,\n",
       " 'FOR': <gensim.models.keyedvectors.Vocab at 0x1d249e75a20>,\n",
       " 'CHILEAN': <gensim.models.keyedvectors.Vocab at 0x1d249e75a58>,\n",
       " 'COAST': <gensim.models.keyedvectors.Vocab at 0x1d249e75a90>,\n",
       " 'FOLLOWING': <gensim.models.keyedvectors.Vocab at 0x1d249e75ac8>,\n",
       " 'COSTA': <gensim.models.keyedvectors.Vocab at 0x1d249e75b00>,\n",
       " 'RICA': <gensim.models.keyedvectors.Vocab at 0x1d249e75b38>,\n",
       " 'QUAKE': <gensim.models.keyedvectors.Vocab at 0x1d249e75b70>,\n",
       " 'CP24': <gensim.models.keyedvectors.Vocab at 0x1d249e75ba8>,\n",
       " 'BREAKING': <gensim.models.keyedvectors.Vocab at 0x1d249e75be0>,\n",
       " 'Coast': <gensim.models.keyedvectors.Vocab at 0x1d249e75c18>,\n",
       " 'warn': <gensim.models.keyedvectors.Vocab at 0x1d249e75c50>,\n",
       " 'No': <gensim.models.keyedvectors.Vocab at 0x1d249e75c88>,\n",
       " 'word': <gensim.models.keyedvectors.Vocab at 0x1d249e75cc0>,\n",
       " 'damage/injuries': <gensim.models.keyedvectors.Vocab at 0x1d249e75cf8>,\n",
       " 'TWCBreaking': <gensim.models.keyedvectors.Vocab at 0x1d249e75d30>,\n",
       " 'Mag': <gensim.models.keyedvectors.Vocab at 0x1d249e75d68>,\n",
       " 'Mexico': <gensim.models.keyedvectors.Vocab at 0x1d249e75da0>,\n",
       " 'C.': <gensim.models.keyedvectors.Vocab at 0x1d249e75dd8>,\n",
       " 'S.': <gensim.models.keyedvectors.Vocab at 0x1d249e75e10>,\n",
       " 'â€œ': <gensim.models.keyedvectors.Vocab at 0x1d249e75e48>,\n",
       " 'USGSâ€�': <gensim.models.keyedvectors.Vocab at 0x1d249e75e80>,\n",
       " 'YahooNews': <gensim.models.keyedvectors.Vocab at 0x1d249e75eb8>,\n",
       " 'Please': <gensim.models.keyedvectors.Vocab at 0x1d249e75ef0>,\n",
       " 'pray': <gensim.models.keyedvectors.Vocab at 0x1d249e75f28>,\n",
       " 'powerful': <gensim.models.keyedvectors.Vocab at 0x1d249e75f60>,\n",
       " 'magnitude-7.9': <gensim.models.keyedvectors.Vocab at 0x1d249e75f98>,\n",
       " 'CostaRica': <gensim.models.keyedvectors.Vocab at 0x1d249e75fd0>,\n",
       " 'accord': <gensim.models.keyedvectors.Vocab at 0x1d249ed7048>,\n",
       " 'BBCWorld': <gensim.models.keyedvectors.Vocab at 0x1d249ed7080>,\n",
       " 'Details': <gensim.models.keyedvectors.Vocab at 0x1d249ed70b8>,\n",
       " 'soon': <gensim.models.keyedvectors.Vocab at 0x1d249ed70f0>,\n",
       " '//t.co/TcpLwxJJ': <gensim.models.keyedvectors.Vocab at 0x1d249ed7128>,\n",
       " 'QuakeReports': <gensim.models.keyedvectors.Vocab at 0x1d249ed7160>,\n",
       " '//t.co/iYnWzKuL': <gensim.models.keyedvectors.Vocab at 0x1d249ed7198>,\n",
       " 'MEXICO': <gensim.models.keyedvectors.Vocab at 0x1d249ed71d0>,\n",
       " 'CITY': <gensim.models.keyedvectors.Vocab at 0x1d249ed7208>,\n",
       " '50': <gensim.models.keyedvectors.Vocab at 0x1d249ed7240>,\n",
       " 'miles': <gensim.models.keyedvectors.Vocab at 0x1d249ed7278>,\n",
       " 'town': <gensim.models.keyedvectors.Vocab at 0x1d249ed72b0>,\n",
       " 'northwestern': <gensim.models.keyedvectors.Vocab at 0x1d249ed72e8>,\n",
       " 'Wednesday..': <gensim.models.keyedvectors.Vocab at 0x1d249ed7320>,\n",
       " '=': <gensim.models.keyedvectors.Vocab at 0x1d249ed7358>,\n",
       " '..': <gensim.models.keyedvectors.Vocab at 0x1d249ed7390>,\n",
       " 'hope': <gensim.models.keyedvectors.Vocab at 0x1d249ed73c8>,\n",
       " 'everything': <gensim.models.keyedvectors.Vocab at 0x1d249ed7400>,\n",
       " 'okay': <gensim.models.keyedvectors.Vocab at 0x1d249ed7438>,\n",
       " 'fieldproducer': <gensim.models.keyedvectors.Vocab at 0x1d249ed7470>,\n",
       " 'revise': <gensim.models.keyedvectors.Vocab at 0x1d249ed74a8>,\n",
       " '7.6': <gensim.models.keyedvectors.Vocab at 0x1d249ed74e0>,\n",
       " 'detail': <gensim.models.keyedvectors.Vocab at 0x1d249ed7518>,\n",
       " '//t.co/3vxo2zBN': <gensim.models.keyedvectors.Vocab at 0x1d249ed7550>,\n",
       " 'My': <gensim.models.keyedvectors.Vocab at 0x1d249ed7588>,\n",
       " 'prayers': <gensim.models.keyedvectors.Vocab at 0x1d249ed75c0>,\n",
       " 'go': <gensim.models.keyedvectors.Vocab at 0x1d249ed75f8>,\n",
       " 'people': <gensim.models.keyedvectors.Vocab at 0x1d249ed7630>,\n",
       " 'They': <gensim.models.keyedvectors.Vocab at 0x1d249ed7668>,\n",
       " 'massive': <gensim.models.keyedvectors.Vocab at 0x1d249ed76a0>,\n",
       " 'Powerful': <gensim.models.keyedvectors.Vocab at 0x1d249ed76d8>,\n",
       " '//t.co/6ZoS6sxc': <gensim.models.keyedvectors.Vocab at 0x1d249ed7710>,\n",
       " 'CNBC': <gensim.models.keyedvectors.Vocab at 0x1d249ed7748>,\n",
       " 'center': <gensim.models.keyedvectors.Vocab at 0x1d249ed7780>,\n",
       " '98': <gensim.models.keyedvectors.Vocab at 0x1d249ed77b8>,\n",
       " 'San': <gensim.models.keyedvectors.Vocab at 0x1d249ed77f0>,\n",
       " 'Jose': <gensim.models.keyedvectors.Vocab at 0x1d249ed7828>,\n",
       " 'Chile': <gensim.models.keyedvectors.Vocab at 0x1d249ed7860>,\n",
       " \"'s\": <gensim.models.keyedvectors.Vocab at 0x1d249ed7898>,\n",
       " 'navy': <gensim.models.keyedvectors.Vocab at 0x1d249ed78d0>,\n",
       " 'declare': <gensim.models.keyedvectors.Vocab at 0x1d249ed7908>,\n",
       " 'alert': <gensim.models.keyedvectors.Vocab at 0x1d249ed7940>,\n",
       " 'country': <gensim.models.keyedvectors.Vocab at 0x1d249ed7978>,\n",
       " 'follow': <gensim.models.keyedvectors.Vocab at 0x1d249ed79b0>,\n",
       " 'Revised': <gensim.models.keyedvectors.Vocab at 0x1d249ed79e8>,\n",
       " '&': <gensim.models.keyedvectors.Vocab at 0x1d249ed7a20>,\n",
       " 'gt': <gensim.models.keyedvectors.Vocab at 0x1d249ed7a58>,\n",
       " '24m': <gensim.models.keyedvectors.Vocab at 0x1d249ed7a90>,\n",
       " '60km': <gensim.models.keyedvectors.Vocab at 0x1d249ed7ac8>,\n",
       " 'SSE': <gensim.models.keyedvectors.Vocab at 0x1d249ed7b00>,\n",
       " '4': <gensim.models.keyedvectors.Vocab at 0x1d249ed7b38>,\n",
       " 'irasuwindro': <gensim.models.keyedvectors.Vocab at 0x1d249ed7b70>,\n",
       " '//t.co/QXqN9Xo2': <gensim.models.keyedvectors.Vocab at 0x1d249ed7ba8>,\n",
       " 'RT_com': <gensim.models.keyedvectors.Vocab at 0x1d249ed7be0>,\n",
       " 'Quake': <gensim.models.keyedvectors.Vocab at 0x1d249ed7c18>,\n",
       " 'Hits': <gensim.models.keyedvectors.Vocab at 0x1d249ed7c50>,\n",
       " '//t.co/dtHKXF2v': <gensim.models.keyedvectors.Vocab at 0x1d249ed7c88>,\n",
       " 'jcagain': <gensim.models.keyedvectors.Vocab at 0x1d249ed7cc0>,\n",
       " 'Damn': <gensim.models.keyedvectors.Vocab at 0x1d249ed7cf8>,\n",
       " 'Poor': <gensim.models.keyedvectors.Vocab at 0x1d249ed7d30>,\n",
       " 'cnnbrk': <gensim.models.keyedvectors.Vocab at 0x1d249ed7d68>,\n",
       " 'reduce': <gensim.models.keyedvectors.Vocab at 0x1d249ed7da0>,\n",
       " '7.6.': <gensim.models.keyedvectors.Vocab at 0x1d249ed7dd8>,\n",
       " '//t.co/nVvZPUSG': <gensim.models.keyedvectors.Vocab at 0x1d249ed7e10>,\n",
       " 'ccbp': <gensim.models.keyedvectors.Vocab at 0x1d249ed7e48>,\n",
       " 'Big': <gensim.models.keyedvectors.Vocab at 0x1d249ed7e80>,\n",
       " 'M7.9': <gensim.models.keyedvectors.Vocab at 0x1d249ed7eb8>,\n",
       " 'occurrred': <gensim.models.keyedvectors.Vocab at 0x1d249ed7ef0>,\n",
       " 'careful': <gensim.models.keyedvectors.Vocab at 0x1d249ed7f28>,\n",
       " 'live': <gensim.models.keyedvectors.Vocab at 0x1d249ed7f60>,\n",
       " 'around': <gensim.models.keyedvectors.Vocab at 0x1d249ed7f98>,\n",
       " 'sea': <gensim.models.keyedvectors.Vocab at 0x1d249ed7fd0>,\n",
       " '7.6-magnitude': <gensim.models.keyedvectors.Vocab at 0x1d249ed4048>,\n",
       " '//t.co/WmdiDVXx': <gensim.models.keyedvectors.Vocab at 0x1d249ed4080>,\n",
       " 'cnn': <gensim.models.keyedvectors.Vocab at 0x1d249ed40b8>,\n",
       " 'weathernetwork': <gensim.models.keyedvectors.Vocab at 0x1d249ed40f0>,\n",
       " 'Reports': <gensim.models.keyedvectors.Vocab at 0x1d249ed4128>,\n",
       " 'house': <gensim.models.keyedvectors.Vocab at 0x1d249ed4160>,\n",
       " 'collapse': <gensim.models.keyedvectors.Vocab at 0x1d249ed4198>,\n",
       " 'church': <gensim.models.keyedvectors.Vocab at 0x1d249ed41d0>,\n",
       " 'tower': <gensim.models.keyedvectors.Vocab at 0x1d249ed4208>,\n",
       " 'Nicoya': <gensim.models.keyedvectors.Vocab at 0x1d249ed4240>,\n",
       " 'near': <gensim.models.keyedvectors.Vocab at 0x1d249ed4278>,\n",
       " 'epicentre': <gensim.models.keyedvectors.Vocab at 0x1d249ed42b0>,\n",
       " 'issue': <gensim.models.keyedvectors.Vocab at 0x1d249ed42e8>,\n",
       " '7.6-mag': <gensim.models.keyedvectors.Vocab at 0x1d249ed4320>,\n",
       " '//t.co/NyfZ4eSU': <gensim.models.keyedvectors.Vocab at 0x1d249ed4358>,\n",
       " 'For': <gensim.models.keyedvectors.Vocab at 0x1d249ed4390>,\n",
       " 'friends': <gensim.models.keyedvectors.Vocab at 0x1d249ed43c8>,\n",
       " 'Hawaii..': <gensim.models.keyedvectors.Vocab at 0x1d249ed4400>,\n",
       " 'case..': <gensim.models.keyedvectors.Vocab at 0x1d249ed4438>,\n",
       " 'mag': <gensim.models.keyedvectors.Vocab at 0x1d249ed4470>,\n",
       " 'prompt': <gensim.models.keyedvectors.Vocab at 0x1d249ed44a8>,\n",
       " '//t.co/YOXlVpn4': <gensim.models.keyedvectors.Vocab at 0x1d249ed44e0>,\n",
       " 'karmonan': <gensim.models.keyedvectors.Vocab at 0x1d249ed4518>,\n",
       " '//t.co/i98cKt0n': <gensim.models.keyedvectors.Vocab at 0x1d249ed4550>,\n",
       " 'Radio_Riquelme': <gensim.models.keyedvectors.Vocab at 0x1d249ed4588>,\n",
       " 'keep': <gensim.models.keyedvectors.Vocab at 0x1d249ed45c0>,\n",
       " 'coastal': <gensim.models.keyedvectors.Vocab at 0x1d249ed45f8>,\n",
       " 'htt': <gensim.models.keyedvectors.Vocab at 0x1d249ed4630>,\n",
       " '//t.co/G6t1GwTW': <gensim.models.keyedvectors.Vocab at 0x1d249ed4668>,\n",
       " 'CNN': <gensim.models.keyedvectors.Vocab at 0x1d249ed46a0>,\n",
       " 'news': <gensim.models.keyedvectors.Vocab at 0x1d249ed46d8>,\n",
       " '//t.co/2HehvYYZ': <gensim.models.keyedvectors.Vocab at 0x1d249ed4710>,\n",
       " 'CBSNews': <gensim.models.keyedvectors.Vocab at 0x1d249ed4748>,\n",
       " 'LATEST': <gensim.models.keyedvectors.Vocab at 0x1d249ed4780>,\n",
       " 'DETAILS': <gensim.models.keyedvectors.Vocab at 0x1d249ed47b8>,\n",
       " 'include': <gensim.models.keyedvectors.Vocab at 0x1d249ed47f0>,\n",
       " 'active': <gensim.models.keyedvectors.Vocab at 0x1d249ed4828>,\n",
       " '//t.co/FuS54wrA': <gensim.models.keyedvectors.Vocab at 0x1d249ed4860>,\n",
       " 'JamaicaGleaner': <gensim.models.keyedvectors.Vocab at 0x1d249ed4898>,\n",
       " '//t.co/uZAnla8U': <gensim.models.keyedvectors.Vocab at 0x1d249ed48d0>,\n",
       " 'Yahoo/Space-': <gensim.models.keyedvectors.Vocab at 0x1d249ed4908>,\n",
       " 'WASHINGTON': <gensim.models.keyedvectors.Vocab at 0x1d249ed4940>,\n",
       " 'magnit': <gensim.models.keyedvectors.Vocab at 0x1d249ed4978>,\n",
       " '//t.co/o60LTx4g': <gensim.models.keyedvectors.Vocab at 0x1d249ed49b0>,\n",
       " 'travel': <gensim.models.keyedvectors.Vocab at 0x1d249ed49e8>,\n",
       " '//t.co/dFBziPuJ': <gensim.models.keyedvectors.Vocab at 0x1d249ed4a20>,\n",
       " 'International': <gensim.models.keyedvectors.Vocab at 0x1d249ed4a58>,\n",
       " 'Yahoo': <gensim.models.keyedvectors.Vocab at 0x1d249ed4a90>,\n",
       " 'News': <gensim.models.keyedvectors.Vocab at 0x1d249ed4ac8>,\n",
       " '//t.co/IgSLlNPo': <gensim.models.keyedvectors.Vocab at 0x1d249ed4b00>,\n",
       " 'via': <gensim.models.keyedvectors.Vocab at 0x1d249ed4b38>,\n",
       " '//t.co/5paIoWUj': <gensim.models.keyedvectors.Vocab at 0x1d249ed4b70>,\n",
       " 'An': <gensim.models.keyedvectors.Vocab at 0x1d249ed4ba8>,\n",
       " 'preliminary': <gensim.models.keyedvectors.Vocab at 0x1d249ed4be0>,\n",
       " '//t.co/4vALj5az': <gensim.models.keyedvectors.Vocab at 0x1d249ed4c18>,\n",
       " 'Pura': <gensim.models.keyedvectors.Vocab at 0x1d249ed4c50>,\n",
       " 'Vida': <gensim.models.keyedvectors.Vocab at 0x1d249ed4c88>,\n",
       " 'EliteDaily': <gensim.models.keyedvectors.Vocab at 0x1d249ed4cc0>,\n",
       " 'northern': <gensim.models.keyedvectors.Vocab at 0x1d249ed4cf8>,\n",
       " 'trigger': <gensim.models.keyedvectors.Vocab at 0x1d249ed4d30>,\n",
       " 'warning-': <gensim.models.keyedvectors.Vocab at 0x1d249ed4d68>,\n",
       " '//t.co/sgyaU24e': <gensim.models.keyedvectors.Vocab at 0x1d249ed4da0>,\n",
       " 'there-just': <gensim.models.keyedvectors.Vocab at 0x1d249ed4dd8>,\n",
       " 'hear': <gensim.models.keyedvectors.Vocab at 0x1d249ed4e10>,\n",
       " 'r': <gensim.models.keyedvectors.Vocab at 0x1d249ed4e48>,\n",
       " 'ok': <gensim.models.keyedvectors.Vocab at 0x1d249ed4e80>,\n",
       " 'scary': <gensim.models.keyedvectors.Vocab at 0x1d249ed4eb8>,\n",
       " 'stay': <gensim.models.keyedvectors.Vocab at 0x1d249ed4ef0>,\n",
       " 'way': <gensim.models.keyedvectors.Vocab at 0x1d249ed4f28>,\n",
       " 'abc7newsBayArea': <gensim.models.keyedvectors.Vocab at 0x1d249ed4f60>,\n",
       " 'abcnews': <gensim.models.keyedvectors.Vocab at 0x1d24972c390>,\n",
       " '//t.co/HVOzoRQW': <gensim.models.keyedvectors.Vocab at 0x1d24972c748>,\n",
       " 'Magnitude-7.6': <gensim.models.keyedvectors.Vocab at 0x1d24972c400>,\n",
       " '//t.co/Y8pp9Q4b': <gensim.models.keyedvectors.Vocab at 0x1d24972cba8>,\n",
       " '_mannymeister': <gensim.models.keyedvectors.Vocab at 0x1d24972cef0>,\n",
       " 'thankyou': <gensim.models.keyedvectors.Vocab at 0x1d24972c320>,\n",
       " 'I': <gensim.models.keyedvectors.Vocab at 0x1d24972cdd8>,\n",
       " 'really': <gensim.models.keyedvectors.Vocab at 0x1d24972c710>,\n",
       " 'need': <gensim.models.keyedvectors.Vocab at 0x1d24972c198>,\n",
       " 'know': <gensim.models.keyedvectors.Vocab at 0x1d24972ce48>,\n",
       " \"'m\": <gensim.models.keyedvectors.Vocab at 0x1d24972cd68>,\n",
       " 'md': <gensim.models.keyedvectors.Vocab at 0x1d24972cda0>,\n",
       " 'SonOfAKing3': <gensim.models.keyedvectors.Vocab at 0x1d24972c5f8>,\n",
       " 'UnivisionNews': <gensim.models.keyedvectors.Vocab at 0x1d24972c588>,\n",
       " 'Northwestern': <gensim.models.keyedvectors.Vocab at 0x1d24972c0f0>,\n",
       " 'Ricaâ€�': <gensim.models.keyedvectors.Vocab at 0x1d2438c2630>,\n",
       " '100prayingwomen': <gensim.models.keyedvectors.Vocab at 0x1d2438c2550>,\n",
       " 'Interior': <gensim.models.keyedvectors.Vocab at 0x1d2438c2a20>,\n",
       " 'Minister': <gensim.models.keyedvectors.Vocab at 0x1d2438c2160>,\n",
       " 'Hinzpeter': <gensim.models.keyedvectors.Vocab at 0x1d2438c24a8>,\n",
       " 'yet': <gensim.models.keyedvectors.Vocab at 0x1d2438c21d0>,\n",
       " 'evacuation': <gensim.models.keyedvectors.Vocab at 0x1d249ed4f98>,\n",
       " 'order': <gensim.models.keyedvectors.Vocab at 0x1d249ed4fd0>,\n",
       " 'LisaDCNN': <gensim.models.keyedvectors.Vocab at 0x1d249edc048>,\n",
       " 'UPDATE': <gensim.models.keyedvectors.Vocab at 0x1d249edc080>,\n",
       " 'CNNweather': <gensim.models.keyedvectors.Vocab at 0x1d249edc0b8>,\n",
       " 'Warnings': <gensim.models.keyedvectors.Vocab at 0x1d249edc0f0>,\n",
       " 'remain': <gensim.models.keyedvectors.Vocab at 0x1d249edc128>,\n",
       " 'Panama': <gensim.models.keyedvectors.Vocab at 0x1d249edc160>,\n",
       " 'Nicaragua': <gensim.models.keyedvectors.Vocab at 0x1d249edc198>,\n",
       " '7.6M': <gensim.models.keyedvectors.Vocab at 0x1d249edc1d0>,\n",
       " '//t.co/4jg0FjYJ': <gensim.models.keyedvectors.Vocab at 0x1d249edc208>,\n",
       " '[': <gensim.models.keyedvectors.Vocab at 0x1d249edc240>,\n",
       " 'COSTARICA': <gensim.models.keyedvectors.Vocab at 0x1d249edc278>,\n",
       " 'ADVISORY': <gensim.models.keyedvectors.Vocab at 0x1d249edc2b0>,\n",
       " ']': <gensim.models.keyedvectors.Vocab at 0x1d249edc2e8>,\n",
       " 'NO': <gensim.models.keyedvectors.Vocab at 0x1d249edc320>,\n",
       " 'WAVES': <gensim.models.keyedvectors.Vocab at 0x1d249edc358>,\n",
       " 'REPORTED': <gensim.models.keyedvectors.Vocab at 0x1d249edc390>,\n",
       " 'YET': <gensim.models.keyedvectors.Vocab at 0x1d249edc3c8>,\n",
       " '--': <gensim.models.keyedvectors.Vocab at 0x1d249edc400>,\n",
       " 'BE': <gensim.models.keyedvectors.Vocab at 0x1d249edc438>,\n",
       " 'ON': <gensim.models.keyedvectors.Vocab at 0x1d249edc470>,\n",
       " 'PRECAUTIONARY': <gensim.models.keyedvectors.Vocab at 0x1d249edc4a8>,\n",
       " 'EVACUATION': <gensim.models.keyedvectors.Vocab at 0x1d249edc4e0>,\n",
       " 'RECOMMENDED': <gensim.models.keyedvectors.Vocab at 0x1d249edc518>,\n",
       " 'PTWC': <gensim.models.keyedvectors.Vocab at 0x1d249edc550>,\n",
       " 'NEWS': <gensim.models.keyedvectors.Vocab at 0x1d249edc588>,\n",
       " 'rock': <gensim.models.keyedvectors.Vocab at 0x1d249edc5c0>,\n",
       " 'build': <gensim.models.keyedvectors.Vocab at 0x1d249edc5f8>,\n",
       " 'cut': <gensim.models.keyedvectors.Vocab at 0x1d249edc630>,\n",
       " 'power': <gensim.models.keyedvectors.Vocab at 0x1d249edc668>,\n",
       " '//t.co/7bpHsLIw': <gensim.models.keyedvectors.Vocab at 0x1d249edc6a0>,\n",
       " 'Reported': <gensim.models.keyedvectors.Vocab at 0x1d249edc6d8>,\n",
       " 'ABC': <gensim.models.keyedvectors.Vocab at 0x1d249edc710>,\n",
       " '//t.co/W6UmjhiY': <gensim.models.keyedvectors.Vocab at 0x1d249edc748>,\n",
       " 'nbcnightlynews': <gensim.models.keyedvectors.Vocab at 0x1d249edc780>,\n",
       " 'Just': <gensim.models.keyedvectors.Vocab at 0x1d249edc7b8>,\n",
       " '//t.co/3i2HJ0e6': <gensim.models.keyedvectors.Vocab at 0x1d249edc7f0>,\n",
       " 'Disarm': <gensim.models.keyedvectors.Vocab at 0x1d249edc828>,\n",
       " 'Major': <gensim.models.keyedvectors.Vocab at 0x1d249edc860>,\n",
       " '//t.co/fF1uny0U': <gensim.models.keyedvectors.Vocab at 0x1d249edc898>,\n",
       " 'nbcnews': <gensim.models.keyedvectors.Vocab at 0x1d249edc8d0>,\n",
       " 'LatinAmerica': <gensim.models.keyedvectors.Vocab at 0x1d249edc908>,\n",
       " 'Reutersâ€�': <gensim.models.keyedvectors.Vocab at 0x1d249edc940>,\n",
       " 'DanielrBarron': <gensim.models.keyedvectors.Vocab at 0x1d249edc978>,\n",
       " 'washingtonpost': <gensim.models.keyedvectors.Vocab at 0x1d249edc9b0>,\n",
       " '//t.co/U7u7FDY4â€�': <gensim.models.keyedvectors.Vocab at 0x1d249edc9e8>,\n",
       " 'sismocr': <gensim.models.keyedvectors.Vocab at 0x1d249edca20>,\n",
       " 'Temblocr': <gensim.models.keyedvectors.Vocab at 0x1d249edca58>,\n",
       " 'ABC7': <gensim.models.keyedvectors.Vocab at 0x1d249edca90>,\n",
       " 'BREAKINGNEWS': <gensim.models.keyedvectors.Vocab at 0x1d249edcac8>,\n",
       " '7.9-mag': <gensim.models.keyedvectors.Vocab at 0x1d249edcb00>,\n",
       " 'immediate': <gensim.models.keyedvectors.Vocab at 0x1d249edcb38>,\n",
       " 'injuries': <gensim.models.keyedvectors.Vocab at 0x1d249edcb70>,\n",
       " 'TheNextCorner': <gensim.models.keyedvectors.Vocab at 0x1d249edcba8>,\n",
       " 'miss': <gensim.models.keyedvectors.Vocab at 0x1d249edcbe0>,\n",
       " '//t.co/iRzYxUA0': <gensim.models.keyedvectors.Vocab at 0x1d249edcc18>,\n",
       " 'ninaism': <gensim.models.keyedvectors.Vocab at 0x1d249edcc50>,\n",
       " 'georgekourounis': <gensim.models.keyedvectors.Vocab at 0x1d249edcc88>,\n",
       " 'landslides': <gensim.models.keyedvectors.Vocab at 0x1d249edccc0>,\n",
       " 'inland': <gensim.models.keyedvectors.Vocab at 0x1d249edccf8>,\n",
       " 'RDLKid': <gensim.models.keyedvectors.Vocab at 0x1d249edcd30>,\n",
       " 'springrose12': <gensim.models.keyedvectors.Vocab at 0x1d249edcd68>,\n",
       " 'HDNER': <gensim.models.keyedvectors.Vocab at 0x1d249edcda0>,\n",
       " 'cancel': <gensim.models.keyedvectors.Vocab at 0x1d249edcdd8>,\n",
       " 'mean': <gensim.models.keyedvectors.Vocab at 0x1d249edce10>,\n",
       " 'Ocean': <gensim.models.keyedvectors.Vocab at 0x1d249edce48>,\n",
       " 'moanikitv': <gensim.models.keyedvectors.Vocab at 0x1d249edce80>,\n",
       " 'threat': <gensim.models.keyedvectors.Vocab at 0x1d249edceb8>,\n",
       " 'temblorcr': <gensim.models.keyedvectors.Vocab at 0x1d249edcef0>,\n",
       " 'Is': <gensim.models.keyedvectors.Vocab at 0x1d249edcf28>,\n",
       " 'OK': <gensim.models.keyedvectors.Vocab at 0x1d249edcf60>,\n",
       " 'worry': <gensim.models.keyedvectors.Vocab at 0x1d249edcf98>,\n",
       " 'RobDavis_Wx': <gensim.models.keyedvectors.Vocab at 0x1d249edcfd0>,\n",
       " 'LANDSLIDE': <gensim.models.keyedvectors.Vocab at 0x1d249ee1048>,\n",
       " 'road': <gensim.models.keyedvectors.Vocab at 0x1d249ee1080>,\n",
       " 'block': <gensim.models.keyedvectors.Vocab at 0x1d249ee10b8>,\n",
       " 'M7.6': <gensim.models.keyedvectors.Vocab at 0x1d249ee10f0>,\n",
       " '//t.co/e5c2AUas': <gensim.models.keyedvectors.Vocab at 0x1d249ee1128>,\n",
       " 'courtesy': <gensim.models.keyedvectors.Vocab at 0x1d249ee1160>,\n",
       " 'skasoul': <gensim.models.keyedvectors.Vocab at 0x1d249ee1198>,\n",
       " 'NOSARA': <gensim.models.keyedvectors.Vocab at 0x1d249ee11d0>,\n",
       " 'AP': <gensim.models.keyedvectors.Vocab at 0x1d249ee1208>,\n",
       " 'â€': <gensim.models.keyedvectors.Vocab at 0x1d249ee1240>,\n",
       " '”': <gensim.models.keyedvectors.Vocab at 0x1d249ee1278>,\n",
       " 'magnitude-7': <gensim.models.keyedvectors.Vocab at 0x1d249ee12b0>,\n",
       " '//t.co/fueoYIDe': <gensim.models.keyedvectors.Vocab at 0x1d249ee12e8>,\n",
       " 'Newsfeed': <gensim.models.keyedvectors.Vocab at 0x1d249ee1320>,\n",
       " '//t.co/odMEBADD': <gensim.models.keyedvectors.Vocab at 0x1d249ee1358>,\n",
       " 'Politics': <gensim.models.keyedvectors.Vocab at 0x1d249ee1390>,\n",
       " 'AustralianBuzz': <gensim.models.keyedvectors.Vocab at 0x1d249ee13c8>,\n",
       " 'Sth': <gensim.models.keyedvectors.Vocab at 0x1d249ee1400>,\n",
       " '//t.co/8ojLIy2i': <gensim.models.keyedvectors.Vocab at 0x1d249ee1438>,\n",
       " 'theBuzz': <gensim.models.keyedvectors.Vocab at 0x1d249ee1470>,\n",
       " 'Michelle9647': <gensim.models.keyedvectors.Vocab at 0x1d249ee14a8>,\n",
       " 'Red': <gensim.models.keyedvectors.Vocab at 0x1d249ee14e0>,\n",
       " 'Cross': <gensim.models.keyedvectors.Vocab at 0x1d249ee1518>,\n",
       " 'casualties': <gensim.models.keyedvectors.Vocab at 0x1d249ee1550>,\n",
       " 'far': <gensim.models.keyedvectors.Vocab at 0x1d249ee1588>,\n",
       " 'JALpalyul': <gensim.models.keyedvectors.Vocab at 0x1d249ee15c0>,\n",
       " '//t.co/IroAyLyv': <gensim.models.keyedvectors.Vocab at 0x1d249ee15f8>,\n",
       " '//t.co/kZ20IzD0': <gensim.models.keyedvectors.Vocab at 0x1d249ee1630>,\n",
       " 'AffiliateDesire': <gensim.models.keyedvectors.Vocab at 0x1d249ee1668>,\n",
       " 'Quality': <gensim.models.keyedvectors.Vocab at 0x1d249ee16a0>,\n",
       " 'Footage': <gensim.models.keyedvectors.Vocab at 0x1d249ee16d8>,\n",
       " 'Sept': <gensim.models.keyedvectors.Vocab at 0x1d249ee1710>,\n",
       " '5th': <gensim.models.keyedvectors.Vocab at 0x1d249ee1748>,\n",
       " '//t.co/fqZodBMJ': <gensim.models.keyedvectors.Vocab at 0x1d249ee1780>,\n",
       " 'Bummer': <gensim.models.keyedvectors.Vocab at 0x1d249ee17b8>,\n",
       " 'locals': <gensim.models.keyedvectors.Vocab at 0x1d249ee17f0>,\n",
       " 'amp': <gensim.models.keyedvectors.Vocab at 0x1d249ee1828>,\n",
       " 'vacationers': <gensim.models.keyedvectors.Vocab at 0x1d249ee1860>,\n",
       " '//t.co/6sL4AtOj': <gensim.models.keyedvectors.Vocab at 0x1d249ee1898>,\n",
       " 'Hope': <gensim.models.keyedvectors.Vocab at 0x1d249ee18d0>,\n",
       " 'well': <gensim.models.keyedvectors.Vocab at 0x1d249ee1908>,\n",
       " 'TravelGov': <gensim.models.keyedvectors.Vocab at 0x1d249ee1940>,\n",
       " 'EmergencyMessage': <gensim.models.keyedvectors.Vocab at 0x1d249ee1978>,\n",
       " 'ElSalvador': <gensim.models.keyedvectors.Vocab at 0x1d249ee19b0>,\n",
       " 'others': <gensim.models.keyedvectors.Vocab at 0x1d249ee19e8>,\n",
       " 'ht': <gensim.models.keyedvectors.Vocab at 0x1d249ee1a20>,\n",
       " 'downgrade': <gensim.models.keyedvectors.Vocab at 0x1d249ee1a58>,\n",
       " 'lift': <gensim.models.keyedvectors.Vocab at 0x1d249ee1a90>,\n",
       " 'still': <gensim.models.keyedvectors.Vocab at 0x1d249ee1ac8>,\n",
       " 'place': <gensim.models.keyedvectors.Vocab at 0x1d249ee1b00>,\n",
       " 'official': <gensim.models.keyedvectors.Vocab at 0x1d249ee1b38>,\n",
       " 'There': <gensim.models.keyedvectors.Vocab at 0x1d249ee1b70>,\n",
       " 'chaos': <gensim.models.keyedvectors.Vocab at 0x1d249ee1ba8>,\n",
       " 'strong': <gensim.models.keyedvectors.Vocab at 0x1d249ee1be0>,\n",
       " 'long': <gensim.models.keyedvectors.Vocab at 0x1d249ee1c18>,\n",
       " 'duration': <gensim.models.keyedvectors.Vocab at 0x1d249ee1c50>,\n",
       " '//t.co/XM78Yz5P': <gensim.models.keyedvectors.Vocab at 0x1d249ee1c88>,\n",
       " '-MM': <gensim.models.keyedvectors.Vocab at 0x1d249ee1cc0>,\n",
       " 'WorldNews': <gensim.models.keyedvectors.Vocab at 0x1d249ee1cf8>,\n",
       " 'Some': <gensim.models.keyedvectors.Vocab at 0x1d249ee1d30>,\n",
       " '//t.co/qi7aZ6mk': <gensim.models.keyedvectors.Vocab at 0x1d249ee1d68>,\n",
       " '//t.co/c9TCmf1F': <gensim.models.keyedvectors.Vocab at 0x1d249ee1da0>,\n",
       " 'north-west': <gensim.models.keyedvectors.Vocab at 0x1d249ee1dd8>,\n",
       " 'C': <gensim.models.keyedvectors.Vocab at 0x1d249ee1e10>,\n",
       " '//t.co/9lsjq70l': <gensim.models.keyedvectors.Vocab at 0x1d249ee1e48>,\n",
       " 'razaespn': <gensim.models.keyedvectors.Vocab at 0x1d249ee1e80>,\n",
       " 'Estadio': <gensim.models.keyedvectors.Vocab at 0x1d249ee1eb8>,\n",
       " 'Nacional': <gensim.models.keyedvectors.Vocab at 0x1d249ee1ef0>,\n",
       " 'Issued': <gensim.models.keyedvectors.Vocab at 0x1d249ee1f28>,\n",
       " '//t.co/0o4UuN0t': <gensim.models.keyedvectors.Vocab at 0x1d249ee1f60>,\n",
       " 'far-Red': <gensim.models.keyedvectors.Vocab at 0x1d249ee1f98>,\n",
       " '//t.co/JwixjWBI': <gensim.models.keyedvectors.Vocab at 0x1d249ee1fd0>,\n",
       " 'redcross': <gensim.models.keyedvectors.Vocab at 0x1d249ee4048>,\n",
       " 'morning': <gensim.models.keyedvectors.Vocab at 0x1d249ee4080>,\n",
       " '2': <gensim.models.keyedvectors.Vocab at 0x1d249ee40b8>,\n",
       " 'hours': <gensim.models.keyedvectors.Vocab at 0x1d249ee40f0>,\n",
       " 'honeymoon': <gensim.models.keyedvectors.Vocab at 0x1d249ee4128>,\n",
       " 'spot': <gensim.models.keyedvectors.Vocab at 0x1d249ee4160>,\n",
       " 'NBCNews': <gensim.models.keyedvectors.Vocab at 0x1d249ee4198>,\n",
       " '//t.co/i4mBTrzG': <gensim.models.keyedvectors.Vocab at 0x1d249ee41d0>,\n",
       " '//t.co/u8DiLvBG': <gensim.models.keyedvectors.Vocab at 0x1d249ee4208>,\n",
       " 'amarchugg': <gensim.models.keyedvectors.Vocab at 0x1d249ee4240>,\n",
       " 'That': <gensim.models.keyedvectors.Vocab at 0x1d249ee4278>,\n",
       " 'sustain': <gensim.models.keyedvectors.Vocab at 0x1d249ee42b0>,\n",
       " 'tens': <gensim.models.keyedvectors.Vocab at 0x1d249ee42e8>,\n",
       " 'hundreds': <gensim.models.keyedvectors.Vocab at 0x1d249ee4320>,\n",
       " 'dollars': <gensim.models.keyedvectors.Vocab at 0x1d249ee4358>,\n",
       " 'worth': <gensim.models.keyedvectors.Vocab at 0x1d249ee4390>,\n",
       " 'Very': <gensim.models.keyedvectors.Vocab at 0x1d249ee43c8>,\n",
       " 'sad': <gensim.models.keyedvectors.Vocab at 0x1d249ee4400>,\n",
       " 'magnitude-7.6': <gensim.models.keyedvectors.Vocab at 0x1d249ee4438>,\n",
       " 'wide': <gensim.models.keyedvectors.Vocab at 0x1d249ee4470>,\n",
       " 'swath': <gensim.models.keyedvectors.Vocab at 0x1d249ee44a8>,\n",
       " 'Wednesday': <gensim.models.keyedvectors.Vocab at 0x1d249ee44e0>,\n",
       " 'usa': <gensim.models.keyedvectors.Vocab at 0x1d249ee4518>,\n",
       " 'today': <gensim.models.keyedvectors.Vocab at 0x1d249ee4550>,\n",
       " 'tod': <gensim.models.keyedvectors.Vocab at 0x1d249ee4588>,\n",
       " '//t.co/arJ2dp3x': <gensim.models.keyedvectors.Vocab at 0x1d249ee45c0>,\n",
       " '38': <gensim.models.keyedvectors.Vocab at 0x1d249ee45f8>,\n",
       " '25': <gensim.models.keyedvectors.Vocab at 0x1d249ee4630>,\n",
       " 'surface': <gensim.models.keyedvectors.Vocab at 0x1d249ee4668>,\n",
       " 'fatalities': <gensim.models.keyedvectors.Vocab at 0x1d249ee46a0>,\n",
       " 'Strikes': <gensim.models.keyedvectors.Vocab at 0x1d249ee46d8>,\n",
       " 'Off': <gensim.models.keyedvectors.Vocab at 0x1d249ee4710>,\n",
       " 'measurin': <gensim.models.keyedvectors.Vocab at 0x1d249ee4748>,\n",
       " '//t.co/HgyxRGCP': <gensim.models.keyedvectors.Vocab at 0x1d249ee4780>,\n",
       " 'HuffingtonPost': <gensim.models.keyedvectors.Vocab at 0x1d249ee47b8>,\n",
       " '//t.co/c9fM5iGF': <gensim.models.keyedvectors.Vocab at 0x1d249ee47f0>,\n",
       " '//t.co/uRzQz9oh': <gensim.models.keyedvectors.Vocab at 0x1d249ee4828>,\n",
       " 'info': <gensim.models.keyedvectors.Vocab at 0x1d249ee4860>,\n",
       " '//t.co/5FyzyrGC': <gensim.models.keyedvectors.Vocab at 0x1d249ee4898>,\n",
       " 'largest': <gensim.models.keyedvectors.Vocab at 0x1d249ee48d0>,\n",
       " 'since': <gensim.models.keyedvectors.Vocab at 0x1d249ee4908>,\n",
       " '1991': <gensim.models.keyedvectors.Vocab at 0x1d249ee4940>,\n",
       " '//t.co/bDiSXERD': <gensim.models.keyedvectors.Vocab at 0x1d249ee4978>,\n",
       " '//t.co/5wnQNFw7': <gensim.models.keyedvectors.Vocab at 0x1d249ee49b0>,\n",
       " 'LoL..WTH': <gensim.models.keyedvectors.Vocab at 0x1d249ee49e8>,\n",
       " 'earthquake..': <gensim.models.keyedvectors.Vocab at 0x1d249ee4a20>,\n",
       " 'God': <gensim.models.keyedvectors.Vocab at 0x1d249ee4a58>,\n",
       " 'take': <gensim.models.keyedvectors.Vocab at 0x1d249ee4a90>,\n",
       " 'care': <gensim.models.keyedvectors.Vocab at 0x1d249ee4ac8>,\n",
       " 'us': <gensim.models.keyedvectors.Vocab at 0x1d249ee4b00>,\n",
       " 'First': <gensim.models.keyedvectors.Vocab at 0x1d249ee4b38>,\n",
       " 'VIDEO': <gensim.models.keyedvectors.Vocab at 0x1d249ee4b70>,\n",
       " '//t.co/pkSZQESr': <gensim.models.keyedvectors.Vocab at 0x1d249ee4ba8>,\n",
       " 'Independent': <gensim.models.keyedvectors.Vocab at 0x1d249ee4be0>,\n",
       " '//t.co/PyeTR5b8': <gensim.models.keyedvectors.Vocab at 0x1d249ee4c18>,\n",
       " '28-mile': <gensim.models.keyedvectors.Vocab at 0x1d249ee4c50>,\n",
       " 'deep': <gensim.models.keyedvectors.Vocab at 0x1d249ee4c88>,\n",
       " 'Wednes': <gensim.models.keyedvectors.Vocab at 0x1d249ee4cc0>,\n",
       " '//t.co/QUEEUkYS': <gensim.models.keyedvectors.Vocab at 0x1d249ee4cf8>,\n",
       " 'Pray': <gensim.models.keyedvectors.Vocab at 0x1d249ee4d30>,\n",
       " 'safe': <gensim.models.keyedvectors.Vocab at 0x1d249ee4d68>,\n",
       " 'CostaRican': <gensim.models.keyedvectors.Vocab at 0x1d249ee4da0>,\n",
       " '//t.co/3PBwSz4y': <gensim.models.keyedvectors.Vocab at 0x1d249ee4dd8>,\n",
       " 'Nooo': <gensim.models.keyedvectors.Vocab at 0x1d249ee4e10>,\n",
       " '//t.co/ta2f2KpZ': <gensim.models.keyedvectors.Vocab at 0x1d249ee4e48>,\n",
       " '-MMâ€�': <gensim.models.keyedvectors.Vocab at 0x1d249ee4e80>,\n",
       " 'president': <gensim.models.keyedvectors.Vocab at 0x1d249ee4eb8>,\n",
       " 'loss': <gensim.models.keyedvectors.Vocab at 0x1d249ee4ef0>,\n",
       " 'life': <gensim.models.keyedvectors.Vocab at 0x1d249ee4f28>,\n",
       " 'update': <gensim.models.keyedvectors.Vocab at 0x1d249ee4f60>,\n",
       " '//t.co/BGETbzo': <gensim.models.keyedvectors.Vocab at 0x1d249ee4f98>,\n",
       " '//t.co/UNj9Z75K': <gensim.models.keyedvectors.Vocab at 0x1d249ee4fd0>,\n",
       " 'â—¦': <gensim.models.keyedvectors.Vocab at 0x1d249ee7048>,\n",
       " 'Kyodo': <gensim.models.keyedvectors.Vocab at 0x1d249ee7080>,\n",
       " 'jolt': <gensim.models.keyedvectors.Vocab at 0x1d249ee70b8>,\n",
       " 'regional': <gensim.models.keyedvectors.Vocab at 0x1d249ee70f0>,\n",
       " '//t.co/bALQNQ0l': <gensim.models.keyedvectors.Vocab at 0x1d249ee7128>,\n",
       " 'japan': <gensim.models.keyedvectors.Vocab at 0x1d249ee7160>,\n",
       " '//t.co/nQscFMTU': <gensim.models.keyedvectors.Vocab at 0x1d249ee7198>,\n",
       " 'WilliamTeach': <gensim.models.keyedvectors.Vocab at 0x1d249ee71d0>,\n",
       " 'Which': <gensim.models.keyedvectors.Vocab at 0x1d249ee7208>,\n",
       " 'Warmist': <gensim.models.keyedvectors.Vocab at 0x1d249ee7240>,\n",
       " 'first': <gensim.models.keyedvectors.Vocab at 0x1d249ee7278>,\n",
       " 'blame': <gensim.models.keyedvectors.Vocab at 0x1d249ee72b0>,\n",
       " 'climate': <gensim.models.keyedvectors.Vocab at 0x1d249ee72e8>,\n",
       " 'change': <gensim.models.keyedvectors.Vocab at 0x1d249ee7320>,\n",
       " '//': <gensim.models.keyedvectors.Vocab at 0x1d249ee7358>,\n",
       " 'Dumbass': <gensim.models.keyedvectors.Vocab at 0x1d249ee7390>,\n",
       " 'see': <gensim.models.keyedvectors.Vocab at 0x1d249ee73c8>,\n",
       " 'GEOLOGY..': <gensim.models.keyedvectors.Vocab at 0x1d249ee7400>,\n",
       " '//t.co/i7KZ1uZX': <gensim.models.keyedvectors.Vocab at 0x1d249ee7438>,\n",
       " '//t.co/nzoIPEe7': <gensim.models.keyedvectors.Vocab at 0x1d249ee7470>,\n",
       " 'TimJohnson4': <gensim.models.keyedvectors.Vocab at 0x1d249ee74a8>,\n",
       " 'prez': <gensim.models.keyedvectors.Vocab at 0x1d249ee74e0>,\n",
       " 'Damage': <gensim.models.keyedvectors.Vocab at 0x1d249ee7518>,\n",
       " 'deaths': <gensim.models.keyedvectors.Vocab at 0x1d249ee7550>,\n",
       " 'aircraft': <gensim.models.keyedvectors.Vocab at 0x1d249ee7588>,\n",
       " 'survey': <gensim.models.keyedvectors.Vocab at 0x1d249ee75c0>,\n",
       " 'affect': <gensim.models.keyedvectors.Vocab at 0x1d249ee75f8>,\n",
       " '//t.co/kYreOVVw': <gensim.models.keyedvectors.Vocab at 0x1d249ee7630>,\n",
       " 'CHICABRAVA': <gensim.models.keyedvectors.Vocab at 0x1d249ee7668>,\n",
       " 'stoke': <gensim.models.keyedvectors.Vocab at 0x1d249ee76a0>,\n",
       " 'style': <gensim.models.keyedvectors.Vocab at 0x1d249ee76d8>,\n",
       " 'wait': <gensim.models.keyedvectors.Vocab at 0x1d249ee7710>,\n",
       " 'huge': <gensim.models.keyedvectors.Vocab at 0x1d249ee7748>,\n",
       " '//t.co/fYuOgSmR': <gensim.models.keyedvectors.Vocab at 0x1d249ee7780>,\n",
       " 'TIME': <gensim.models.keyedvectors.Vocab at 0x1d249ee77b8>,\n",
       " '|': <gensim.models.keyedvectors.Vocab at 0x1d249ee77f0>,\n",
       " '//t.co/NairyArP': <gensim.models.keyedvectors.Vocab at 0x1d249ee7828>,\n",
       " 'Holy': <gensim.models.keyedvectors.Vocab at 0x1d249ee7860>,\n",
       " 'shit': <gensim.models.keyedvectors.Vocab at 0x1d249ee7898>,\n",
       " 'Unbelievable..': <gensim.models.keyedvectors.Vocab at 0x1d249ee78d0>,\n",
       " 'Would': <gensim.models.keyedvectors.Vocab at 0x1d249ee7908>,\n",
       " 'never': <gensim.models.keyedvectors.Vocab at 0x1d249ee7940>,\n",
       " 'expect': <gensim.models.keyedvectors.Vocab at 0x1d249ee7978>,\n",
       " 'sort': <gensim.models.keyedvectors.Vocab at 0x1d249ee79b0>,\n",
       " 'extreme': <gensim.models.keyedvectors.Vocab at 0x1d249ee79e8>,\n",
       " 'fault': <gensim.models.keyedvectors.Vocab at 0x1d249ee7a20>,\n",
       " 'activity': <gensim.models.keyedvectors.Vocab at 0x1d249ee7a58>,\n",
       " 'region..': <gensim.models.keyedvectors.Vocab at 0x1d249ee7a90>,\n",
       " 'prayers😔': <gensim.models.keyedvectors.Vocab at 0x1d249ee7ac8>,\n",
       " 'URGENT': <gensim.models.keyedvectors.Vocab at 0x1d249ee7b00>,\n",
       " '//t.co/3EC6L3wM': <gensim.models.keyedvectors.Vocab at 0x1d249ee7b38>,\n",
       " 'csmonitor': <gensim.models.keyedvectors.Vocab at 0x1d249ee7b70>,\n",
       " '//t.co/jhgKhyJDâ€�///': <gensim.models.keyedvectors.Vocab at 0x1d249ee7ba8>,\n",
       " 'prayer': <gensim.models.keyedvectors.Vocab at 0x1d249ee7be0>,\n",
       " '“': <gensim.models.keyedvectors.Vocab at 0x1d249ee7c18>,\n",
       " '//t.co/JwTblOtO': <gensim.models.keyedvectors.Vocab at 0x1d249ee7c50>,\n",
       " 'dustinbrowning': <gensim.models.keyedvectors.Vocab at 0x1d249ee7c88>,\n",
       " 'SamuRojas': <gensim.models.keyedvectors.Vocab at 0x1d249ee7cc0>,\n",
       " 'antikCR': <gensim.models.keyedvectors.Vocab at 0x1d249ee7cf8>,\n",
       " 'w': <gensim.models.keyedvectors.Vocab at 0x1d249ee7d30>,\n",
       " 'newslocker': <gensim.models.keyedvectors.Vocab at 0x1d249ee7d68>,\n",
       " '//t.co/k3CiuTKR': <gensim.models.keyedvectors.Vocab at 0x1d249ee7da0>,\n",
       " 'cause': <gensim.models.keyedvectors.Vocab at 0x1d249ee7dd8>,\n",
       " '//t.co/ee16Q4z8': <gensim.models.keyedvectors.Vocab at 0x1d249ee7e10>,\n",
       " 'Ca': <gensim.models.keyedvectors.Vocab at 0x1d249ee7e48>,\n",
       " \"n't\": <gensim.models.keyedvectors.Vocab at 0x1d249ee7e80>,\n",
       " 'believe': <gensim.models.keyedvectors.Vocab at 0x1d249ee7eb8>,\n",
       " 'happy': <gensim.models.keyedvectors.Vocab at 0x1d249ee7ef0>,\n",
       " 'family': <gensim.models.keyedvectors.Vocab at 0x1d249ee7f28>,\n",
       " 'fortunate': <gensim.models.keyedvectors.Vocab at 0x1d249ee7f60>,\n",
       " 'DICE': <gensim.models.keyedvectors.Vocab at 0x1d249ee7f98>,\n",
       " 'two': <gensim.models.keyedvectors.Vocab at 0x1d249ee7fd0>,\n",
       " 'dead': <gensim.models.keyedvectors.Vocab at 0x1d249eea048>,\n",
       " 'one': <gensim.models.keyedvectors.Vocab at 0x1d249eea080>,\n",
       " 'fatality': <gensim.models.keyedvectors.Vocab at 0x1d249eea0b8>,\n",
       " 'resu': <gensim.models.keyedvectors.Vocab at 0x1d249eea0f0>,\n",
       " '//t.co/02a3OoUX': <gensim.models.keyedvectors.Vocab at 0x1d249eea128>,\n",
       " 'cuba': <gensim.models.keyedvectors.Vocab at 0x1d249eea160>,\n",
       " 'abajoRaul': <gensim.models.keyedvectors.Vocab at 0x1d249eea198>,\n",
       " 'Update': <gensim.models.keyedvectors.Vocab at 0x1d249eea1d0>,\n",
       " 'heart': <gensim.models.keyedvectors.Vocab at 0x1d249eea208>,\n",
       " 'attack': <gensim.models.keyedvectors.Vocab at 0x1d249eea240>,\n",
       " 'CPPGeophysics': <gensim.models.keyedvectors.Vocab at 0x1d249eea278>,\n",
       " 'Nice': <gensim.models.keyedvectors.Vocab at 0x1d249eea2b0>,\n",
       " 'visualization': <gensim.models.keyedvectors.Vocab at 0x1d249eea2e8>,\n",
       " 'seismic': <gensim.models.keyedvectors.Vocab at 0x1d249eea320>,\n",
       " 'wave': <gensim.models.keyedvectors.Vocab at 0x1d249eea358>,\n",
       " 'propagate': <gensim.models.keyedvectors.Vocab at 0x1d249eea390>,\n",
       " 'USArray': <gensim.models.keyedvectors.Vocab at 0x1d249eea3c8>,\n",
       " 'EarthScopeInfo': <gensim.models.keyedvectors.Vocab at 0x1d249eea400>,\n",
       " 'DarinRMcClure': <gensim.models.keyedvectors.Vocab at 0x1d249eea438>,\n",
       " 'Praying': <gensim.models.keyedvectors.Vocab at 0x1d249eea470>,\n",
       " 'YourAnonNews': <gensim.models.keyedvectors.Vocab at 0x1d249eea4a8>,\n",
       " 'YAN': <gensim.models.keyedvectors.Vocab at 0x1d249eea4e0>,\n",
       " '//t.co/GKGYrsLT': <gensim.models.keyedvectors.Vocab at 0x1d249eea518>,\n",
       " 'Bad': <gensim.models.keyedvectors.Vocab at 0x1d249eea550>,\n",
       " 'Know': <gensim.models.keyedvectors.Vocab at 0x1d249eea588>,\n",
       " 'Pac': <gensim.models.keyedvectors.Vocab at 0x1d249eea5c0>,\n",
       " 'NWers': <gensim.models.keyedvectors.Vocab at 0x1d249eea5f8>,\n",
       " 'Pls': <gensim.models.keyedvectors.Vocab at 0x1d249eea630>,\n",
       " 'contact': <gensim.models.keyedvectors.Vocab at 0x1d249eea668>,\n",
       " 'NW': <gensim.models.keyedvectors.Vocab at 0x1d249eea6a0>,\n",
       " 'NPR': <gensim.models.keyedvectors.Vocab at 0x1d249eea6d8>,\n",
       " 'tombanse': <gensim.models.keyedvectors.Vocab at 0x1d249eea710>,\n",
       " '//t.co/n4HTkpYt': <gensim.models.keyedvectors.Vocab at 0x1d249eea748>,\n",
       " 'worldnews': <gensim.models.keyedvectors.Vocab at 0x1d249eea780>,\n",
       " '//t.co/n1r84z2j.auPowerful': <gensim.models.keyedvectors.Vocab at 0x1d249eea7b8>,\n",
       " 'q': <gensim.models.keyedvectors.Vocab at 0x1d249eea7f0>,\n",
       " '//t.co/kZjsFTDY': <gensim.models.keyedvectors.Vocab at 0x1d249eea828>,\n",
       " 'WideRangeMarket': <gensim.models.keyedvectors.Vocab at 0x1d249eea860>,\n",
       " '//t.co/oKAri8Tq': <gensim.models.keyedvectors.Vocab at 0x1d249eea898>,\n",
       " 'Canceled': <gensim.models.keyedvectors.Vocab at 0x1d249eea8d0>,\n",
       " 'After': <gensim.models.keyedvectors.Vocab at 0x1d249eea908>,\n",
       " 'In': <gensim.models.keyedvectors.Vocab at 0x1d249eea940>,\n",
       " 'The': <gensim.models.keyedvectors.Vocab at 0x1d249eea978>,\n",
       " 'Two-Way': <gensim.models.keyedvectors.Vocab at 0x1d249eea9b0>,\n",
       " '//t.co/IVlHkIFm': <gensim.models.keyedvectors.Vocab at 0x1d249eea9e8>,\n",
       " 'Earth': <gensim.models.keyedvectors.Vocab at 0x1d249eeaa20>,\n",
       " 'Matias': <gensim.models.keyedvectors.Vocab at 0x1d249eeaa58>,\n",
       " 'Doing': <gensim.models.keyedvectors.Vocab at 0x1d249eeaa90>,\n",
       " 'Good': <gensim.models.keyedvectors.Vocab at 0x1d249eeaac8>,\n",
       " 'c': <gensim.models.keyedvectors.Vocab at 0x1d249eeab00>,\n",
       " 'Gon': <gensim.models.keyedvectors.Vocab at 0x1d249eeab38>,\n",
       " 'na': <gensim.models.keyedvectors.Vocab at 0x1d249eeab70>,\n",
       " 'Try': <gensim.models.keyedvectors.Vocab at 0x1d249eeaba8>,\n",
       " 'Calling': <gensim.models.keyedvectors.Vocab at 0x1d249eeabe0>,\n",
       " 'His': <gensim.models.keyedvectors.Vocab at 0x1d249eeac18>,\n",
       " 'Momma': <gensim.models.keyedvectors.Vocab at 0x1d249eeac50>,\n",
       " 'Later': <gensim.models.keyedvectors.Vocab at 0x1d249eeac88>,\n",
       " 'fo': <gensim.models.keyedvectors.Vocab at 0x1d249eeacc0>,\n",
       " 'Angie': <gensim.models.keyedvectors.Vocab at 0x1d249eeacf8>,\n",
       " 'Thompson': <gensim.models.keyedvectors.Vocab at 0x1d249eead30>,\n",
       " 'Messerschmidt': <gensim.models.keyedvectors.Vocab at 0x1d249eead68>,\n",
       " 'Claryssa-Faye': <gensim.models.keyedvectors.Vocab at 0x1d249eeada0>,\n",
       " 'Skie': <gensim.models.keyedvectors.Vocab at 0x1d249eeadd8>,\n",
       " '//t.co/gwzRqTYE': <gensim.models.keyedvectors.Vocab at 0x1d249eeae10>,\n",
       " 'Did': <gensim.models.keyedvectors.Vocab at 0x1d249eeae48>,\n",
       " '14:42:10': <gensim.models.keyedvectors.Vocab at 0x1d249eeae80>,\n",
       " '//t.co/kErgzOEC': <gensim.models.keyedvectors.Vocab at 0x1d249eeaeb8>,\n",
       " 'eTN': <gensim.models.keyedvectors.Vocab at 0x1d249eeaef0>,\n",
       " 'India': <gensim.models.keyedvectors.Vocab at 0x1d249eeaf28>,\n",
       " 'IBNLive.comPowerful': <gensim.models.keyedvectors.Vocab at 0x1d249eeaf60>,\n",
       " 'deadReu': <gensim.models.keyedvectors.Vocab at 0x1d249eeaf98>,\n",
       " '//t.co/fdR7rYY2': <gensim.models.keyedvectors.Vocab at 0x1d249eeafd0>,\n",
       " 'Two': <gensim.models.keyedvectors.Vocab at 0x1d249eef048>,\n",
       " '20': <gensim.models.keyedvectors.Vocab at 0x1d249eef080>,\n",
       " 'injure': <gensim.models.keyedvectors.Vocab at 0x1d249eef0b8>,\n",
       " 'major': <gensim.models.keyedvectors.Vocab at 0x1d249eef0f0>,\n",
       " 'Piedras': <gensim.models.keyedvectors.Vocab at 0x1d249eef128>,\n",
       " 'homestay': <gensim.models.keyedvectors.Vocab at 0x1d249eef160>,\n",
       " 'families': <gensim.models.keyedvectors.Vocab at 0x1d249eef198>,\n",
       " 'Isidro': <gensim.models.keyedvectors.Vocab at 0x1d249eef1d0>,\n",
       " 'de': <gensim.models.keyedvectors.Vocab at 0x1d249eef208>,\n",
       " 'Heredia': <gensim.models.keyedvectors.Vocab at 0x1d249eef240>,\n",
       " 'everyone': <gensim.models.keyedvectors.Vocab at 0x1d249eef278>,\n",
       " 'fine': <gensim.models.keyedvectors.Vocab at 0x1d249eef2b0>,\n",
       " 'MrVop': <gensim.models.keyedvectors.Vocab at 0x1d249eef2e8>,\n",
       " '//t.co/c9CDEDv0': <gensim.models.keyedvectors.Vocab at 0x1d249eef320>,\n",
       " 'BBC': <gensim.models.keyedvectors.Vocab at 0x1d249eef358>,\n",
       " 'RandyDorfman': <gensim.models.keyedvectors.Vocab at 0x1d249eef390>,\n",
       " 'WCOOP': <gensim.models.keyedvectors.Vocab at 0x1d249eef3c8>,\n",
       " 'players': <gensim.models.keyedvectors.Vocab at 0x1d249eef400>,\n",
       " 'USA': <gensim.models.keyedvectors.Vocab at 0x1d249eef438>,\n",
       " 'TODAY7.6-magnitude': <gensim.models.keyedvectors.Vocab at 0x1d249eef470>,\n",
       " 'coastCNN': <gensim.models.keyedvectors.Vocab at 0x1d249eef4a8>,\n",
       " '//t.co/h76G8HKq': <gensim.models.keyedvectors.Vocab at 0x1d249eef4e0>,\n",
       " 'Online': <gensim.models.keyedvectors.Vocab at 0x1d249eef518>,\n",
       " 'NewsMagnitude': <gensim.models.keyedvectors.Vocab at 0x1d249eef550>,\n",
       " 'RicaABC': <gensim.models.keyedvectors.Vocab at 0x1d249eef588>,\n",
       " 'OnlineA': <gensim.models.keyedvectors.Vocab at 0x1d249eef5c0>,\n",
       " 'pow': <gensim.models.keyedvectors.Vocab at 0x1d249eef5f8>,\n",
       " '//t.co/WHyfdam5': <gensim.models.keyedvectors.Vocab at 0x1d249eef630>,\n",
       " 'Our': <gensim.models.keyedvectors.Vocab at 0x1d249eef668>,\n",
       " 'hearts': <gensim.models.keyedvectors.Vocab at 0x1d249eef6a0>,\n",
       " 'impact': <gensim.models.keyedvectors.Vocab at 0x1d249eef6d8>,\n",
       " 'Covering': <gensim.models.keyedvectors.Vocab at 0x1d249eef710>,\n",
       " 'TheAngieShow': <gensim.models.keyedvectors.Vocab at 0x1d249eef748>,\n",
       " 'Associated': <gensim.models.keyedvectors.Vocab at 0x1d249eef780>,\n",
       " 'Press': <gensim.models.keyedvectors.Vocab at 0x1d249eef7b8>,\n",
       " 'ar': <gensim.models.keyedvectors.Vocab at 0x1d249eef7f0>,\n",
       " '//t.co/5uNpnKeL': <gensim.models.keyedvectors.Vocab at 0x1d249eef828>,\n",
       " 'Fox': <gensim.models.keyedvectors.Vocab at 0x1d249eef860>,\n",
       " 'SAN': <gensim.models.keyedvectors.Vocab at 0x1d249eef898>,\n",
       " 'JOSE': <gensim.models.keyedvectors.Vocab at 0x1d249eef8d0>,\n",
       " '//t.co/I9VkFGdB': <gensim.models.keyedvectors.Vocab at 0x1d249eef908>,\n",
       " 'stupid': <gensim.models.keyedvectors.Vocab at 0x1d249eef940>,\n",
       " 'trend': <gensim.models.keyedvectors.Vocab at 0x1d249eef978>,\n",
       " 'Viva': <gensim.models.keyedvectors.Vocab at 0x1d249eef9b0>,\n",
       " 'bitch': <gensim.models.keyedvectors.Vocab at 0x1d249eef9e8>,\n",
       " 'CostaRicaEarthquake': <gensim.models.keyedvectors.Vocab at 0x1d249eefa20>,\n",
       " 'REN': <gensim.models.keyedvectors.Vocab at 0x1d249eefa58>,\n",
       " '//t.co/5u8l45bY': <gensim.models.keyedvectors.Vocab at 0x1d249eefa90>,\n",
       " 'Federation': <gensim.models.keyedvectors.Vocab at 0x1d249eefac8>,\n",
       " 'ready': <gensim.models.keyedvectors.Vocab at 0x1d249eefb00>,\n",
       " 'action': <gensim.models.keyedvectors.Vocab at 0x1d249eefb38>,\n",
       " '//t.co/u0V8rrQG': <gensim.models.keyedvectors.Vocab at 0x1d249eefb70>,\n",
       " '4:11pm': <gensim.models.keyedvectors.Vocab at 0x1d249eefba8>,\n",
       " '15m': <gensim.models.keyedvectors.Vocab at 0x1d249eefbe0>,\n",
       " '71km': <gensim.models.keyedvectors.Vocab at 0x1d249eefc18>,\n",
       " '35km': <gensim.models.keyedvectors.Vocab at 0x1d249eefc50>,\n",
       " '//t.co/gjTxM14O': <gensim.models.keyedvectors.Vocab at 0x1d249eefc88>,\n",
       " 'We': <gensim.models.keyedvectors.Vocab at 0x1d249eefcc0>,\n",
       " 'experience': <gensim.models.keyedvectors.Vocab at 0x1d249eefcf8>,\n",
       " '20km': <gensim.models.keyedvectors.Vocab at 0x1d249eefd30>,\n",
       " 'Guanacaste': <gensim.models.keyedvectors.Vocab at 0x1d249eefd68>,\n",
       " 'serious': <gensim.models.keyedvectors.Vocab at 0x1d249eefda0>,\n",
       " 'Nosara': <gensim.models.keyedvectors.Vocab at 0x1d249eefdd8>,\n",
       " 'panic': <gensim.models.keyedvectors.Vocab at 0x1d249eefe10>,\n",
       " 'minor': <gensim.models.keyedvectors.Vocab at 0x1d249eefe48>,\n",
       " 'IBNLive.comStrong': <gensim.models.keyedvectors.Vocab at 0x1d249eefe80>,\n",
       " 'ca': <gensim.models.keyedvectors.Vocab at 0x1d249eefeb8>,\n",
       " '//t.co/HQdC4IBk': <gensim.models.keyedvectors.Vocab at 0x1d249eefef0>,\n",
       " 'Living': <gensim.models.keyedvectors.Vocab at 0x1d249eeff28>,\n",
       " 'Social': <gensim.models.keyedvectors.Vocab at 0x1d249eeff60>,\n",
       " 'Andy': <gensim.models.keyedvectors.Vocab at 0x1d249eeff98>,\n",
       " 'Roddick': <gensim.models.keyedvectors.Vocab at 0x1d249eeffd0>,\n",
       " '//t.co/4igC5NpM': <gensim.models.keyedvectors.Vocab at 0x1d249ef1048>,\n",
       " 'earthquake-ready': <gensim.models.keyedvectors.Vocab at 0x1d249ef1080>,\n",
       " 'size': <gensim.models.keyedvectors.Vocab at 0x1d249ef10b8>,\n",
       " '+video': <gensim.models.keyedvectors.Vocab at 0x1d249ef10f0>,\n",
       " 'onedirection': <gensim.models.keyedvectors.Vocab at 0x1d249ef1128>,\n",
       " '=/': <gensim.models.keyedvectors.Vocab at 0x1d249ef1160>,\n",
       " '//t.co/bzZ1s8Of': <gensim.models.keyedvectors.Vocab at 0x1d249ef1198>,\n",
       " 'Eart': <gensim.models.keyedvectors.Vocab at 0x1d249ef11d0>,\n",
       " 'This': <gensim.models.keyedvectors.Vocab at 0x1d249ef1208>,\n",
       " 'Google': <gensim.models.keyedvectors.Vocab at 0x1d249ef1240>,\n",
       " 'Trend': <gensim.models.keyedvectors.Vocab at 0x1d249ef1278>,\n",
       " '//t.co/PI0h78RM': <gensim.models.keyedvectors.Vocab at 0x1d249ef12b0>,\n",
       " 'Hour': <gensim.models.keyedvectors.Vocab at 0x1d249ef12e8>,\n",
       " 'Woman': <gensim.models.keyedvectors.Vocab at 0x1d249ef1320>,\n",
       " 'Died': <gensim.models.keyedvectors.Vocab at 0x1d249ef1358>,\n",
       " 'Heat': <gensim.models.keyedvectors.Vocab at 0x1d249ef1390>,\n",
       " 'Attack': <gensim.models.keyedvectors.Vocab at 0x1d249ef13c8>,\n",
       " 'Man': <gensim.models.keyedvectors.Vocab at 0x1d249ef1400>,\n",
       " 'Who': <gensim.models.keyedvectors.Vocab at 0x1d249ef1438>,\n",
       " 'Fallen': <gensim.models.keyedvectors.Vocab at 0x1d249ef1470>,\n",
       " 'Die': <gensim.models.keyedvectors.Vocab at 0x1d249ef14a8>,\n",
       " 'Said': <gensim.models.keyedvectors.Vocab at 0x1d249ef14e0>,\n",
       " 'President': <gensim.models.keyedvectors.Vocab at 0x1d249ef1518>,\n",
       " '//t.co/rw5Brly8': <gensim.models.keyedvectors.Vocab at 0x1d249ef1550>,\n",
       " 'EarthquakeCalifornia': <gensim.models.keyedvectors.Vocab at 0x1d249ef1588>,\n",
       " 'delay': <gensim.models.keyedvectors.Vocab at 0x1d249ef15c0>,\n",
       " 'World': <gensim.models.keyedvectors.Vocab at 0x1d249ef15f8>,\n",
       " 'Cup': <gensim.models.keyedvectors.Vocab at 0x1d249ef1630>,\n",
       " 'qualifier': <gensim.models.keyedvectors.Vocab at 0x1d249ef1668>,\n",
       " 'Mexican': <gensim.models.keyedvectors.Vocab at 0x1d249ef16a0>,\n",
       " '//t.co/uv45lA0q': <gensim.models.keyedvectors.Vocab at 0x1d249ef16d8>,\n",
       " 'Buildings': <gensim.models.keyedvectors.Vocab at 0x1d249ef1710>,\n",
       " 'sway': <gensim.models.keyedvectors.Vocab at 0x1d249ef1748>,\n",
       " 'residents': <gensim.models.keyedvectors.Vocab at 0x1d249ef1780>,\n",
       " 'rush': <gensim.models.keyedvectors.Vocab at 0x1d249ef17b8>,\n",
       " 'streets': <gensim.models.keyedvectors.Vocab at 0x1d249ef17f0>,\n",
       " 'little': <gensim.models.keyedvectors.Vocab at 0x1d249ef1828>,\n",
       " '//t.co/m3TI2LMz': <gensim.models.keyedvectors.Vocab at 0x1d249ef1860>,\n",
       " 'Geologyupdate': <gensim.models.keyedvectors.Vocab at 0x1d249ef1898>,\n",
       " 'Seattle': <gensim.models.keyedvectors.Vocab at 0x1d249ef18d0>,\n",
       " 'Times': <gensim.models.keyedvectors.Vocab at 0x1d249ef1908>,\n",
       " '//t.co/C77uRB7g': <gensim.models.keyedvectors.Vocab at 0x1d249ef1940>,\n",
       " 'experts': <gensim.models.keyedvectors.Vocab at 0x1d249ef1978>,\n",
       " 'point': <gensim.models.keyedvectors.Vocab at 0x1d249ef19b0>,\n",
       " 'Washington': <gensim.models.keyedvectors.Vocab at 0x1d249ef19e8>,\n",
       " 'Post': <gensim.models.keyedvectors.Vocab at 0x1d249ef1a20>,\n",
       " 'CBC.caPowerf': <gensim.models.keyedvectors.Vocab at 0x1d249ef1a58>,\n",
       " '//t.co/x3Pt7hR5': <gensim.models.keyedvectors.Vocab at 0x1d249ef1a90>,\n",
       " '//t.co/nyWQMUwk': <gensim.models.keyedvectors.Vocab at 0x1d249ef1ac8>,\n",
       " 'Three': <gensim.models.keyedvectors.Vocab at 0x1d249ef1b00>,\n",
       " 'kill': <gensim.models.keyedvectors.Vocab at 0x1d249ef1b38>,\n",
       " 'Xinhua': <gensim.models.keyedvectors.Vocab at 0x1d249ef1b70>,\n",
       " 'NationThree': <gensim.models.keyedvectors.Vocab at 0x1d249ef1ba8>,\n",
       " 'quak': <gensim.models.keyedvectors.Vocab at 0x1d249ef1be0>,\n",
       " '//t.co/2QKsXs8w': <gensim.models.keyedvectors.Vocab at 0x1d249ef1c18>,\n",
       " 'example': <gensim.models.keyedvectors.Vocab at 0x1d249ef1c50>,\n",
       " 'resistant': <gensim.models.keyedvectors.Vocab at 0x1d249ef1c88>,\n",
       " 'construction': <gensim.models.keyedvectors.Vocab at 0x1d249ef1cc0>,\n",
       " '//t.co/n4y6x1yj': <gensim.models.keyedvectors.Vocab at 0x1d249ef1cf8>,\n",
       " 'Cangrejal': <gensim.models.keyedvectors.Vocab at 0x1d249ef1d30>,\n",
       " 'sho': <gensim.models.keyedvectors.Vocab at 0x1d249ef1d68>,\n",
       " '//t.co/syQpSkg0': <gensim.models.keyedvectors.Vocab at 0x1d249ef1da0>,\n",
       " 'Rocked': <gensim.models.keyedvectors.Vocab at 0x1d249ef1dd8>,\n",
       " '//t.co/9Q0w3CD7': <gensim.models.keyedvectors.Vocab at 0x1d249ef1e10>,\n",
       " '1.0': <gensim.models.keyedvectors.Vocab at 0x1d249ef1e48>,\n",
       " 'Southern': <gensim.models.keyedvectors.Vocab at 0x1d249ef1e80>,\n",
       " 'California': <gensim.models.keyedvectors.Vocab at 0x1d249ef1eb8>,\n",
       " '//t.co/Ms4Sj0eR': <gensim.models.keyedvectors.Vocab at 0x1d249ef1ef0>,\n",
       " 'escape': <gensim.models.keyedvectors.Vocab at 0x1d249ef1f28>,\n",
       " 'big': <gensim.models.keyedvectors.Vocab at 0x1d249ef1f60>,\n",
       " 'bulletin': <gensim.models.keyedvectors.Vocab at 0x1d249ef1f98>,\n",
       " 'terrify': <gensim.models.keyedvectors.Vocab at 0x1d249ef1fd0>,\n",
       " 'po': <gensim.models.keyedvectors.Vocab at 0x1d249ef5048>,\n",
       " '//t.co/Dlj3rlpE': <gensim.models.keyedvectors.Vocab at 0x1d249ef5080>,\n",
       " '//t.co/1Dhcy6ki': <gensim.models.keyedvectors.Vocab at 0x1d249ef50b8>,\n",
       " '//t.co/SpG6MDUe': <gensim.models.keyedvectors.Vocab at 0x1d249ef50f0>,\n",
       " 'QuakeÂ': <gensim.models.keyedvectors.Vocab at 0x1d249ef5128>,\n",
       " '//t.co/nkD5tU8v': <gensim.models.keyedvectors.Vocab at 0x1d249ef5160>,\n",
       " 'Ready': <gensim.models.keyedvectors.Vocab at 0x1d249ef5198>,\n",
       " 'Action': <gensim.models.keyedvectors.Vocab at 0x1d249ef51d0>,\n",
       " 'Source': <gensim.models.keyedvectors.Vocab at 0x1d249ef5208>,\n",
       " 'Â': <gensim.models.keyedvectors.Vocab at 0x1d249ef5240>,\n",
       " 'Irish': <gensim.models.keyedvectors.Vocab at 0x1d249ef5278>,\n",
       " 'Cro': <gensim.models.keyedvectors.Vocab at 0x1d249ef52b0>,\n",
       " '//t.co/8i9vCIV6': <gensim.models.keyedvectors.Vocab at 0x1d249ef52e8>,\n",
       " 'It': <gensim.models.keyedvectors.Vocab at 0x1d249ef5320>,\n",
       " 'appear': <gensim.models.keyedvectors.Vocab at 0x1d249ef5358>,\n",
       " 'Thursday': <gensim.models.keyedvectors.Vocab at 0x1d249ef5390>,\n",
       " 'relatively': <gensim.models.keyedvectors.Vocab at 0x1d249ef53c8>,\n",
       " 'unsc': <gensim.models.keyedvectors.Vocab at 0x1d249ef5400>,\n",
       " '//t.co/dFTSbh5e': <gensim.models.keyedvectors.Vocab at 0x1d249ef5438>,\n",
       " 'Terror': <gensim.models.keyedvectors.Vocab at 0x1d249ef5470>,\n",
       " 'casino': <gensim.models.keyedvectors.Vocab at 0x1d249ef54a8>,\n",
       " 'Capital': <gensim.models.keyedvectors.Vocab at 0x1d249ef54e0>,\n",
       " 'Videos': <gensim.models.keyedvectors.Vocab at 0x1d249ef5518>,\n",
       " 'Surface': <gensim.models.keyedvectors.Vocab at 0x1d249ef5550>,\n",
       " 'Video': <gensim.models.keyedvectors.Vocab at 0x1d249ef5588>,\n",
       " '//t.co/btm5k37V': <gensim.models.keyedvectors.Vocab at 0x1d249ef55c0>,\n",
       " '1.8': <gensim.models.keyedvectors.Vocab at 0x1d249ef55f8>,\n",
       " 'Island': <gensim.models.keyedvectors.Vocab at 0x1d249ef5630>,\n",
       " '//t.co/f28j4Ykf': <gensim.models.keyedvectors.Vocab at 0x1d249ef5668>,\n",
       " 'Environment': <gensim.models.keyedvectors.Vocab at 0x1d249ef56a0>,\n",
       " 'Planet': <gensim.models.keyedvectors.Vocab at 0x1d249ef56d8>,\n",
       " 'Ark': <gensim.models.keyedvectors.Vocab at 0x1d249ef5710>,\n",
       " '//t.co/uptiMQMP': <gensim.models.keyedvectors.Vocab at 0x1d249ef5748>,\n",
       " 'EARTHQUAKE': <gensim.models.keyedvectors.Vocab at 0x1d249ef5780>,\n",
       " 'actually': <gensim.models.keyedvectors.Vocab at 0x1d249ef57b8>,\n",
       " 'felt': <gensim.models.keyedvectors.Vocab at 0x1d249ef57f0>,\n",
       " 'Another': <gensim.models.keyedvectors.Vocab at 0x1d249ef5828>,\n",
       " 'least': <gensim.models.keyedvectors.Vocab at 0x1d249ef5860>,\n",
       " 'already': <gensim.models.keyedvectors.Vocab at 0x1d249ef5898>,\n",
       " 'awake': <gensim.models.keyedvectors.Vocab at 0x1d249ef58d0>,\n",
       " 'time': <gensim.models.keyedvectors.Vocab at 0x1d249ef5908>,\n",
       " 'Dang': <gensim.models.keyedvectors.Vocab at 0x1d249ef5940>,\n",
       " 'try': <gensim.models.keyedvectors.Vocab at 0x1d249ef5978>,\n",
       " 'sleep': <gensim.models.keyedvectors.Vocab at 0x1d249ef59b0>,\n",
       " 'early': <gensim.models.keyedvectors.Vocab at 0x1d249ef59e8>,\n",
       " '3.5': <gensim.models.keyedvectors.Vocab at 0x1d249ef5a20>,\n",
       " 'Beverly': <gensim.models.keyedvectors.Vocab at 0x1d249ef5a58>,\n",
       " 'Hills': <gensim.models.keyedvectors.Vocab at 0x1d249ef5a90>,\n",
       " 'stronger': <gensim.models.keyedvectors.Vocab at 0x1d249ef5ac8>,\n",
       " 'last': <gensim.models.keyedvectors.Vocab at 0x1d249ef5b00>,\n",
       " 'week': <gensim.models.keyedvectors.Vocab at 0x1d249ef5b38>,\n",
       " '//t.co/CftE5nrt': <gensim.models.keyedvectors.Vocab at 0x1d249ef5b70>,\n",
       " 'zomanno': <gensim.models.keyedvectors.Vocab at 0x1d249ef5ba8>,\n",
       " 'EARTHQUAKEEE': <gensim.models.keyedvectors.Vocab at 0x1d249ef5be0>,\n",
       " 'think': <gensim.models.keyedvectors.Vocab at 0x1d249ef5c18>,\n",
       " 'coincidence': <gensim.models.keyedvectors.Vocab at 0x1d249ef5c50>,\n",
       " 'episode': <gensim.models.keyedvectors.Vocab at 0x1d249ef5c88>,\n",
       " 'HoneyBooBoo': <gensim.models.keyedvectors.Vocab at 0x1d249ef5cc0>,\n",
       " '9021uh-0': <gensim.models.keyedvectors.Vocab at 0x1d249ef5cf8>,\n",
       " 'give': <gensim.models.keyedvectors.Vocab at 0x1d249ef5d30>,\n",
       " 'good': <gensim.models.keyedvectors.Vocab at 0x1d249ef5d68>,\n",
       " 'westside': <gensim.models.keyedvectors.Vocab at 0x1d249ef5da0>,\n",
       " 'eastern': <gensim.models.keyedvectors.Vocab at 0x1d249ef5dd8>,\n",
       " 'SFV': <gensim.models.keyedvectors.Vocab at 0x1d249ef5e10>,\n",
       " '//t.co/G1Ga1v0T': <gensim.models.keyedvectors.Vocab at 0x1d249ef5e48>,\n",
       " 'lanow': <gensim.models.keyedvectors.Vocab at 0x1d249ef5e80>,\n",
       " 'TheLAScene': <gensim.models.keyedvectors.Vocab at 0x1d249ef5eb8>,\n",
       " 'look': <gensim.models.keyedvectors.Vocab at 0x1d249ef5ef0>,\n",
       " 'like': <gensim.models.keyedvectors.Vocab at 0x1d249ef5f28>,\n",
       " 'BeverlyHills': <gensim.models.keyedvectors.Vocab at 0x1d249ef5f60>,\n",
       " 'upgrade': <gensim.models.keyedvectors.Vocab at 0x1d249ef5f98>,\n",
       " '3.5.': <gensim.models.keyedvectors.Vocab at 0x1d249ef5fd0>,\n",
       " '//t.co/UThFGsv1': <gensim.models.keyedvectors.Vocab at 0x1d249efa048>,\n",
       " 'ArianaGrande': <gensim.models.keyedvectors.Vocab at 0x1d249efa080>,\n",
       " 'Hi': <gensim.models.keyedvectors.Vocab at 0x1d249efa0b8>,\n",
       " 'IÂ´m': <gensim.models.keyedvectors.Vocab at 0x1d249efa0f0>,\n",
       " 'days': <gensim.models.keyedvectors.Vocab at 0x1d249efa128>,\n",
       " 'wake': <gensim.models.keyedvectors.Vocab at 0x1d249efa160>,\n",
       " 'again..': <gensim.models.keyedvectors.Vocab at 0x1d249efa198>,\n",
       " 'seriously..': <gensim.models.keyedvectors.Vocab at 0x1d249efa1d0>,\n",
       " 'Tell': <gensim.models.keyedvectors.Vocab at 0x1d249efa208>,\n",
       " 'u': <gensim.models.keyedvectors.Vocab at 0x1d249efa240>,\n",
       " 'bout': <gensim.models.keyedvectors.Vocab at 0x1d249efa278>,\n",
       " 'second': <gensim.models.keyedvectors.Vocab at 0x1d249efa2b0>,\n",
       " 'Bobak9': <gensim.models.keyedvectors.Vocab at 0x1d249efa2e8>,\n",
       " 'faster': <gensim.models.keyedvectors.Vocab at 0x1d249efa320>,\n",
       " 'reaction': <gensim.models.keyedvectors.Vocab at 0x1d249efa358>,\n",
       " 'UsainBolt': <gensim.models.keyedvectors.Vocab at 0x1d249efa390>,\n",
       " 'Never': <gensim.models.keyedvectors.Vocab at 0x1d249efa3c8>,\n",
       " 'man': <gensim.models.keyedvectors.Vocab at 0x1d249efa400>,\n",
       " 'move': <gensim.models.keyedvectors.Vocab at 0x1d249efa438>,\n",
       " 'SO': <gensim.models.keyedvectors.Vocab at 0x1d249efa470>,\n",
       " 'fast': <gensim.models.keyedvectors.Vocab at 0x1d249efa4a8>,\n",
       " 'Lol': <gensim.models.keyedvectors.Vocab at 0x1d249efa4e0>,\n",
       " 'DNC2012': <gensim.models.keyedvectors.Vocab at 0x1d249efa518>,\n",
       " 'Was': <gensim.models.keyedvectors.Vocab at 0x1d249efa550>,\n",
       " 'earth': <gensim.models.keyedvectors.Vocab at 0x1d249efa588>,\n",
       " 'shatter': <gensim.models.keyedvectors.Vocab at 0x1d249efa5c0>,\n",
       " 'side': <gensim.models.keyedvectors.Vocab at 0x1d249efa5f8>,\n",
       " 'LAFD': <gensim.models.keyedvectors.Vocab at 0x1d249efa630>,\n",
       " 'LAquake': <gensim.models.keyedvectors.Vocab at 0x1d249efa668>,\n",
       " 'Emergency': <gensim.models.keyedvectors.Vocab at 0x1d249efa6a0>,\n",
       " 'Mode': <gensim.models.keyedvectors.Vocab at 0x1d249efa6d8>,\n",
       " 'discontinue': <gensim.models.keyedvectors.Vocab at 0x1d249efa710>,\n",
       " 'significant': <gensim.models.keyedvectors.Vocab at 0x1d249efa748>,\n",
       " 'injury': <gensim.models.keyedvectors.Vocab at 0x1d249efa780>,\n",
       " 'normalâ€¦': <gensim.models.keyedvectors.Vocab at 0x1d249efa7b8>,\n",
       " '//t.co': <gensim.models.keyedvectors.Vocab at 0x1d249efa7f0>,\n",
       " '//t.co/q6uTSLEa': <gensim.models.keyedvectors.Vocab at 0x1d249efa828>,\n",
       " 'Quakes': <gensim.models.keyedvectors.Vocab at 0x1d249efa860>,\n",
       " 'southwest': <gensim.models.keyedvectors.Vocab at 0x1d249efa898>,\n",
       " 'China': <gensim.models.keyedvectors.Vocab at 0x1d249efa8d0>,\n",
       " 'dozens': <gensim.models.keyedvectors.Vocab at 0x1d249efa908>,\n",
       " '20,000': <gensim.models.keyedvectors.Vocab at 0x1d249efa940>,\n",
       " 'home': <gensim.models.keyedvectors.Vocab at 0x1d249efa978>,\n",
       " '//t.co/0j1oq79l': <gensim.models.keyedvectors.Vocab at 0x1d249efa9b0>,\n",
       " 'Earthquakes': <gensim.models.keyedvectors.Vocab at 0x1d249efa9e8>,\n",
       " 'alertã€': <gensim.models.keyedvectors.Vocab at 0x1d249efaa20>,\n",
       " '2.1': <gensim.models.keyedvectors.Vocab at 0x1d249efaa58>,\n",
       " '07': <gensim.models.keyedvectors.Vocab at 0x1d249efaa90>,\n",
       " '15:33:36': <gensim.models.keyedvectors.Vocab at 0x1d249efaac8>,\n",
       " '//t.co/G9eJVAUP': <gensim.models.keyedvectors.Vocab at 0x1d249efab00>,\n",
       " 'Dear': <gensim.models.keyedvectors.Vocab at 0x1d249efab38>,\n",
       " '2x': <gensim.models.keyedvectors.Vocab at 0x1d249efab70>,\n",
       " \"'ve\": <gensim.models.keyedvectors.Vocab at 0x1d249efaba8>,\n",
       " '1/2': <gensim.models.keyedvectors.Vocab at 0x1d249efabe0>,\n",
       " 'mile': <gensim.models.keyedvectors.Vocab at 0x1d249efac18>,\n",
       " 'away-Results': <gensim.models.keyedvectors.Vocab at 0x1d249efac50>,\n",
       " 'crappy': <gensim.models.keyedvectors.Vocab at 0x1d249efac88>,\n",
       " 'workout': <gensim.models.keyedvectors.Vocab at 0x1d249efacc0>,\n",
       " 'next': <gensim.models.keyedvectors.Vocab at 0x1d249efacf8>,\n",
       " 'day': <gensim.models.keyedvectors.Vocab at 0x1d249efad30>,\n",
       " 'stop': <gensim.models.keyedvectors.Vocab at 0x1d249efad68>,\n",
       " 'make': <gensim.models.keyedvectors.Vocab at 0x1d249efada0>,\n",
       " 'fat': <gensim.models.keyedvectors.Vocab at 0x1d249efadd8>,\n",
       " 'Shakes': <gensim.models.keyedvectors.Vocab at 0x1d249efae10>,\n",
       " '//t.co/abFcLHdd': <gensim.models.keyedvectors.Vocab at 0x1d249efae48>,\n",
       " 'guy': <gensim.models.keyedvectors.Vocab at 0x1d249efae80>,\n",
       " 'maybe': <gensim.models.keyedvectors.Vocab at 0x1d249efaeb8>,\n",
       " '3': <gensim.models.keyedvectors.Vocab at 0x1d249efaef0>,\n",
       " 'Yea': <gensim.models.keyedvectors.Vocab at 0x1d249efaf28>,\n",
       " 'figure': <gensim.models.keyedvectors.Vocab at 0x1d249efaf60>,\n",
       " '/': <gensim.models.keyedvectors.Vocab at 0x1d249efaf98>,\n",
       " 'uselessinfo': <gensim.models.keyedvectors.Vocab at 0x1d249efafd0>,\n",
       " 'Watchers': <gensim.models.keyedvectors.Vocab at 0x1d249efd048>,\n",
       " 'Massive': <gensim.models.keyedvectors.Vocab at 0x1d249efd080>,\n",
       " 'awaken': <gensim.models.keyedvectors.Vocab at 0x1d249efd0b8>,\n",
       " 'Nicaraguan': <gensim.models.keyedvectors.Vocab at 0x1d249efd0f0>,\n",
       " 'Apoyeque': <gensim.models.keyedvectors.Vocab at 0x1d249efd128>,\n",
       " 'volcano': <gensim.models.keyedvectors.Vocab at 0x1d249efd160>,\n",
       " '//t.co/pbc2QzSB': <gensim.models.keyedvectors.Vocab at 0x1d249efd198>,\n",
       " 'At': <gensim.models.keyedvectors.Vocab at 0x1d249efd1d0>,\n",
       " '12:35': <gensim.models.keyedvectors.Vocab at 0x1d249efd208>,\n",
       " 'PM': <gensim.models.keyedvectors.Vocab at 0x1d249efd240>,\n",
       " 'UTC': <gensim.models.keyedvectors.Vocab at 0x1d249efd278>,\n",
       " 'Minahasa': <gensim.models.keyedvectors.Vocab at 0x1d249efd2b0>,\n",
       " 'M4.7': <gensim.models.keyedvectors.Vocab at 0x1d249efd2e8>,\n",
       " '35.70km': <gensim.models.keyedvectors.Vocab at 0x1d249efd320>,\n",
       " 'Stay': <gensim.models.keyedvectors.Vocab at 0x1d249efd358>,\n",
       " 'date': <gensim.models.keyedvectors.Vocab at 0x1d249efd390>,\n",
       " 'latest': <gensim.models.keyedvectors.Vocab at 0x1d249efd3c8>,\n",
       " '//t.co/htMGUaTO': <gensim.models.keyedvectors.Vocab at 0x1d249efd400>,\n",
       " 'BECOME': <gensim.models.keyedvectors.Vocab at 0x1d249efd438>,\n",
       " 'ASEXUAL': <gensim.models.keyedvectors.Vocab at 0x1d249efd470>,\n",
       " 'NOW': <gensim.models.keyedvectors.Vocab at 0x1d249efd4a8>,\n",
       " '5.6': <gensim.models.keyedvectors.Vocab at 0x1d249efd4e0>,\n",
       " 'earthqu': <gensim.models.keyedvectors.Vocab at 0x1d249efd518>,\n",
       " '//t.co/5jWMTB3H': <gensim.models.keyedvectors.Vocab at 0x1d249efd550>,\n",
       " 'asexual': <gensim.models.keyedvectors.Vocab at 0x1d249efd588>,\n",
       " ...}"
      ]
     },
     "execution_count": 459,
     "metadata": {},
     "output_type": "execute_result"
    }
   ],
   "source": [
    "vocabulary_quake = w2v_quake.wv.vocab\n",
    "vocabulary_flood = w2v_flood.wv.vocab\n",
    "vocabulary_quake"
   ]
  },
  {
   "cell_type": "code",
   "execution_count": 460,
   "metadata": {
    "pycharm": {
     "is_executing": false
    }
   },
   "outputs": [
    {
     "name": "stderr",
     "output_type": "stream",
     "text": [
      "INFO - 10:13:34: training model with 3 workers on 13732 vocabulary and 100 features, using sg=0 hs=0 sample=6e-05 negative=20 window=4\n",
      "INFO - 10:13:34: worker thread finished; awaiting finish of 2 more threads\n",
      "INFO - 10:13:34: worker thread finished; awaiting finish of 1 more threads\n",
      "INFO - 10:13:34: worker thread finished; awaiting finish of 0 more threads\n",
      "INFO - 10:13:34: EPOCH - 1 : training on 70267 raw words (33568 effective words) took 0.1s, 358529 effective words/s\n",
      "INFO - 10:13:34: worker thread finished; awaiting finish of 2 more threads\n",
      "INFO - 10:13:34: worker thread finished; awaiting finish of 1 more threads\n",
      "INFO - 10:13:34: worker thread finished; awaiting finish of 0 more threads\n",
      "INFO - 10:13:34: EPOCH - 2 : training on 70267 raw words (33412 effective words) took 0.1s, 373800 effective words/s\n",
      "INFO - 10:13:34: worker thread finished; awaiting finish of 2 more threads\n",
      "INFO - 10:13:34: worker thread finished; awaiting finish of 1 more threads\n",
      "INFO - 10:13:34: worker thread finished; awaiting finish of 0 more threads\n",
      "INFO - 10:13:34: EPOCH - 3 : training on 70267 raw words (33463 effective words) took 0.1s, 402789 effective words/s\n",
      "INFO - 10:13:34: worker thread finished; awaiting finish of 2 more threads\n",
      "INFO - 10:13:34: worker thread finished; awaiting finish of 1 more threads\n",
      "INFO - 10:13:34: worker thread finished; awaiting finish of 0 more threads\n",
      "INFO - 10:13:34: EPOCH - 4 : training on 70267 raw words (33550 effective words) took 0.1s, 348600 effective words/s\n",
      "INFO - 10:13:34: worker thread finished; awaiting finish of 2 more threads\n",
      "INFO - 10:13:34: worker thread finished; awaiting finish of 1 more threads\n",
      "INFO - 10:13:34: worker thread finished; awaiting finish of 0 more threads\n",
      "INFO - 10:13:34: EPOCH - 5 : training on 70267 raw words (33496 effective words) took 0.1s, 341710 effective words/s\n",
      "INFO - 10:13:34: worker thread finished; awaiting finish of 2 more threads\n",
      "INFO - 10:13:34: worker thread finished; awaiting finish of 1 more threads\n",
      "INFO - 10:13:34: worker thread finished; awaiting finish of 0 more threads\n",
      "INFO - 10:13:34: EPOCH - 6 : training on 70267 raw words (33588 effective words) took 0.1s, 407319 effective words/s\n",
      "INFO - 10:13:34: worker thread finished; awaiting finish of 2 more threads\n",
      "INFO - 10:13:34: worker thread finished; awaiting finish of 1 more threads\n",
      "INFO - 10:13:34: worker thread finished; awaiting finish of 0 more threads\n",
      "INFO - 10:13:34: EPOCH - 7 : training on 70267 raw words (33289 effective words) took 0.1s, 385107 effective words/s\n",
      "INFO - 10:13:34: worker thread finished; awaiting finish of 2 more threads\n",
      "INFO - 10:13:35: worker thread finished; awaiting finish of 1 more threads\n",
      "INFO - 10:13:35: worker thread finished; awaiting finish of 0 more threads\n",
      "INFO - 10:13:35: EPOCH - 8 : training on 70267 raw words (33507 effective words) took 0.1s, 426339 effective words/s\n",
      "INFO - 10:13:35: worker thread finished; awaiting finish of 2 more threads\n",
      "INFO - 10:13:35: worker thread finished; awaiting finish of 1 more threads\n",
      "INFO - 10:13:35: worker thread finished; awaiting finish of 0 more threads\n",
      "INFO - 10:13:35: EPOCH - 9 : training on 70267 raw words (33414 effective words) took 0.1s, 343172 effective words/s\n",
      "INFO - 10:13:35: worker thread finished; awaiting finish of 2 more threads\n",
      "INFO - 10:13:35: worker thread finished; awaiting finish of 1 more threads\n",
      "INFO - 10:13:35: worker thread finished; awaiting finish of 0 more threads\n",
      "INFO - 10:13:35: EPOCH - 10 : training on 70267 raw words (33445 effective words) took 0.1s, 347469 effective words/s\n",
      "INFO - 10:13:35: worker thread finished; awaiting finish of 2 more threads\n",
      "INFO - 10:13:35: worker thread finished; awaiting finish of 1 more threads\n",
      "INFO - 10:13:35: worker thread finished; awaiting finish of 0 more threads\n",
      "INFO - 10:13:35: EPOCH - 11 : training on 70267 raw words (33424 effective words) took 0.1s, 280490 effective words/s\n",
      "INFO - 10:13:35: worker thread finished; awaiting finish of 2 more threads\n",
      "INFO - 10:13:35: worker thread finished; awaiting finish of 1 more threads\n",
      "INFO - 10:13:35: worker thread finished; awaiting finish of 0 more threads\n",
      "INFO - 10:13:35: EPOCH - 12 : training on 70267 raw words (33470 effective words) took 0.1s, 278389 effective words/s\n",
      "INFO - 10:13:35: worker thread finished; awaiting finish of 2 more threads\n",
      "INFO - 10:13:35: worker thread finished; awaiting finish of 1 more threads\n",
      "INFO - 10:13:35: worker thread finished; awaiting finish of 0 more threads\n",
      "INFO - 10:13:35: EPOCH - 13 : training on 70267 raw words (33515 effective words) took 0.1s, 402538 effective words/s\n",
      "INFO - 10:13:35: worker thread finished; awaiting finish of 2 more threads\n",
      "INFO - 10:13:35: worker thread finished; awaiting finish of 1 more threads\n",
      "INFO - 10:13:35: worker thread finished; awaiting finish of 0 more threads\n",
      "INFO - 10:13:35: EPOCH - 14 : training on 70267 raw words (33605 effective words) took 0.1s, 368250 effective words/s\n",
      "INFO - 10:13:35: worker thread finished; awaiting finish of 2 more threads\n",
      "INFO - 10:13:35: worker thread finished; awaiting finish of 1 more threads\n",
      "INFO - 10:13:35: worker thread finished; awaiting finish of 0 more threads\n",
      "INFO - 10:13:35: EPOCH - 15 : training on 70267 raw words (33323 effective words) took 0.1s, 453631 effective words/s\n",
      "INFO - 10:13:35: worker thread finished; awaiting finish of 2 more threads\n",
      "INFO - 10:13:35: worker thread finished; awaiting finish of 1 more threads\n",
      "INFO - 10:13:35: worker thread finished; awaiting finish of 0 more threads\n",
      "INFO - 10:13:35: EPOCH - 16 : training on 70267 raw words (33523 effective words) took 0.1s, 371411 effective words/s\n",
      "INFO - 10:13:35: worker thread finished; awaiting finish of 2 more threads\n",
      "INFO - 10:13:35: worker thread finished; awaiting finish of 1 more threads\n",
      "INFO - 10:13:35: worker thread finished; awaiting finish of 0 more threads\n",
      "INFO - 10:13:35: EPOCH - 17 : training on 70267 raw words (33528 effective words) took 0.1s, 373209 effective words/s\n",
      "INFO - 10:13:36: worker thread finished; awaiting finish of 2 more threads\n",
      "INFO - 10:13:36: worker thread finished; awaiting finish of 1 more threads\n",
      "INFO - 10:13:36: worker thread finished; awaiting finish of 0 more threads\n",
      "INFO - 10:13:36: EPOCH - 18 : training on 70267 raw words (33496 effective words) took 0.1s, 359850 effective words/s\n",
      "INFO - 10:13:36: worker thread finished; awaiting finish of 2 more threads\n",
      "INFO - 10:13:36: worker thread finished; awaiting finish of 1 more threads\n",
      "INFO - 10:13:36: worker thread finished; awaiting finish of 0 more threads\n",
      "INFO - 10:13:36: EPOCH - 19 : training on 70267 raw words (33474 effective words) took 0.1s, 266861 effective words/s\n",
      "INFO - 10:13:36: worker thread finished; awaiting finish of 2 more threads\n",
      "INFO - 10:13:36: worker thread finished; awaiting finish of 1 more threads\n",
      "INFO - 10:13:36: worker thread finished; awaiting finish of 0 more threads\n",
      "INFO - 10:13:36: EPOCH - 20 : training on 70267 raw words (33361 effective words) took 0.1s, 284033 effective words/s\n",
      "INFO - 10:13:36: worker thread finished; awaiting finish of 2 more threads\n",
      "INFO - 10:13:36: worker thread finished; awaiting finish of 1 more threads\n",
      "INFO - 10:13:36: worker thread finished; awaiting finish of 0 more threads\n",
      "INFO - 10:13:36: EPOCH - 21 : training on 70267 raw words (33487 effective words) took 0.1s, 281179 effective words/s\n",
      "INFO - 10:13:36: worker thread finished; awaiting finish of 2 more threads\n",
      "INFO - 10:13:36: worker thread finished; awaiting finish of 1 more threads\n",
      "INFO - 10:13:36: worker thread finished; awaiting finish of 0 more threads\n",
      "INFO - 10:13:36: EPOCH - 22 : training on 70267 raw words (33510 effective words) took 0.1s, 300052 effective words/s\n",
      "INFO - 10:13:36: worker thread finished; awaiting finish of 2 more threads\n",
      "INFO - 10:13:36: worker thread finished; awaiting finish of 1 more threads\n",
      "INFO - 10:13:36: worker thread finished; awaiting finish of 0 more threads\n",
      "INFO - 10:13:36: EPOCH - 23 : training on 70267 raw words (33596 effective words) took 0.1s, 323064 effective words/s\n",
      "INFO - 10:13:36: worker thread finished; awaiting finish of 2 more threads\n",
      "INFO - 10:13:36: worker thread finished; awaiting finish of 1 more threads\n",
      "INFO - 10:13:36: worker thread finished; awaiting finish of 0 more threads\n"
     ]
    },
    {
     "name": "stderr",
     "output_type": "stream",
     "text": [
      "INFO - 10:13:36: EPOCH - 24 : training on 70267 raw words (33375 effective words) took 0.1s, 441046 effective words/s\n",
      "INFO - 10:13:36: worker thread finished; awaiting finish of 2 more threads\n",
      "INFO - 10:13:36: worker thread finished; awaiting finish of 1 more threads\n",
      "INFO - 10:13:36: worker thread finished; awaiting finish of 0 more threads\n",
      "INFO - 10:13:36: EPOCH - 25 : training on 70267 raw words (33462 effective words) took 0.1s, 381333 effective words/s\n",
      "INFO - 10:13:36: worker thread finished; awaiting finish of 2 more threads\n",
      "INFO - 10:13:36: worker thread finished; awaiting finish of 1 more threads\n",
      "INFO - 10:13:36: worker thread finished; awaiting finish of 0 more threads\n",
      "INFO - 10:13:36: EPOCH - 26 : training on 70267 raw words (33461 effective words) took 0.1s, 389437 effective words/s\n",
      "INFO - 10:13:37: worker thread finished; awaiting finish of 2 more threads\n",
      "INFO - 10:13:37: worker thread finished; awaiting finish of 1 more threads\n",
      "INFO - 10:13:37: worker thread finished; awaiting finish of 0 more threads\n",
      "INFO - 10:13:37: EPOCH - 27 : training on 70267 raw words (33496 effective words) took 0.1s, 398582 effective words/s\n",
      "INFO - 10:13:37: worker thread finished; awaiting finish of 2 more threads\n",
      "INFO - 10:13:37: worker thread finished; awaiting finish of 1 more threads\n",
      "INFO - 10:13:37: worker thread finished; awaiting finish of 0 more threads\n",
      "INFO - 10:13:37: EPOCH - 28 : training on 70267 raw words (33520 effective words) took 0.1s, 336941 effective words/s\n",
      "INFO - 10:13:37: worker thread finished; awaiting finish of 2 more threads\n",
      "INFO - 10:13:37: worker thread finished; awaiting finish of 1 more threads\n",
      "INFO - 10:13:37: worker thread finished; awaiting finish of 0 more threads\n",
      "INFO - 10:13:37: EPOCH - 29 : training on 70267 raw words (33479 effective words) took 0.1s, 373505 effective words/s\n",
      "INFO - 10:13:37: worker thread finished; awaiting finish of 2 more threads\n",
      "INFO - 10:13:37: worker thread finished; awaiting finish of 1 more threads\n",
      "INFO - 10:13:37: worker thread finished; awaiting finish of 0 more threads\n",
      "INFO - 10:13:37: EPOCH - 30 : training on 70267 raw words (33617 effective words) took 0.1s, 287101 effective words/s\n",
      "INFO - 10:13:37: training on a 2108010 raw words (1004454 effective words) took 3.3s, 301375 effective words/s\n",
      "INFO - 10:13:37: training model with 3 workers on 9614 vocabulary and 100 features, using sg=0 hs=0 sample=6e-05 negative=20 window=4\n",
      "INFO - 10:13:37: worker thread finished; awaiting finish of 2 more threads\n",
      "INFO - 10:13:37: worker thread finished; awaiting finish of 1 more threads\n",
      "INFO - 10:13:37: worker thread finished; awaiting finish of 0 more threads\n",
      "INFO - 10:13:37: EPOCH - 1 : training on 48396 raw words (22115 effective words) took 0.1s, 316301 effective words/s\n",
      "WARNING - 10:13:37: EPOCH - 1 : supplied example count (2518) did not equal expected count (5140)\n",
      "INFO - 10:13:37: worker thread finished; awaiting finish of 2 more threads\n",
      "INFO - 10:13:37: worker thread finished; awaiting finish of 1 more threads\n",
      "INFO - 10:13:37: worker thread finished; awaiting finish of 0 more threads\n",
      "INFO - 10:13:37: EPOCH - 2 : training on 48396 raw words (22263 effective words) took 0.1s, 287086 effective words/s\n",
      "WARNING - 10:13:37: EPOCH - 2 : supplied example count (2518) did not equal expected count (5140)\n",
      "INFO - 10:13:37: worker thread finished; awaiting finish of 2 more threads\n",
      "INFO - 10:13:37: worker thread finished; awaiting finish of 1 more threads\n",
      "INFO - 10:13:37: worker thread finished; awaiting finish of 0 more threads\n",
      "INFO - 10:13:37: EPOCH - 3 : training on 48396 raw words (22279 effective words) took 0.1s, 400864 effective words/s\n",
      "WARNING - 10:13:37: EPOCH - 3 : supplied example count (2518) did not equal expected count (5140)\n",
      "INFO - 10:13:37: worker thread finished; awaiting finish of 2 more threads\n",
      "INFO - 10:13:37: worker thread finished; awaiting finish of 1 more threads\n",
      "INFO - 10:13:37: worker thread finished; awaiting finish of 0 more threads\n",
      "INFO - 10:13:37: EPOCH - 4 : training on 48396 raw words (22231 effective words) took 0.1s, 400696 effective words/s\n",
      "WARNING - 10:13:37: EPOCH - 4 : supplied example count (2518) did not equal expected count (5140)\n",
      "INFO - 10:13:37: worker thread finished; awaiting finish of 2 more threads\n",
      "INFO - 10:13:37: worker thread finished; awaiting finish of 1 more threads\n",
      "INFO - 10:13:37: worker thread finished; awaiting finish of 0 more threads\n",
      "INFO - 10:13:37: EPOCH - 5 : training on 48396 raw words (22292 effective words) took 0.1s, 405890 effective words/s\n",
      "WARNING - 10:13:37: EPOCH - 5 : supplied example count (2518) did not equal expected count (5140)\n",
      "INFO - 10:13:37: worker thread finished; awaiting finish of 2 more threads\n",
      "INFO - 10:13:37: worker thread finished; awaiting finish of 1 more threads\n",
      "INFO - 10:13:37: worker thread finished; awaiting finish of 0 more threads\n",
      "INFO - 10:13:37: EPOCH - 6 : training on 48396 raw words (22374 effective words) took 0.1s, 384397 effective words/s\n",
      "WARNING - 10:13:37: EPOCH - 6 : supplied example count (2518) did not equal expected count (5140)\n",
      "INFO - 10:13:37: worker thread finished; awaiting finish of 2 more threads\n",
      "INFO - 10:13:37: worker thread finished; awaiting finish of 1 more threads\n",
      "INFO - 10:13:37: worker thread finished; awaiting finish of 0 more threads\n",
      "INFO - 10:13:37: EPOCH - 7 : training on 48396 raw words (22223 effective words) took 0.1s, 398134 effective words/s\n",
      "WARNING - 10:13:37: EPOCH - 7 : supplied example count (2518) did not equal expected count (5140)\n",
      "INFO - 10:13:37: worker thread finished; awaiting finish of 2 more threads\n",
      "INFO - 10:13:37: worker thread finished; awaiting finish of 1 more threads\n",
      "INFO - 10:13:37: worker thread finished; awaiting finish of 0 more threads\n",
      "INFO - 10:13:37: EPOCH - 8 : training on 48396 raw words (22336 effective words) took 0.1s, 350187 effective words/s\n",
      "WARNING - 10:13:37: EPOCH - 8 : supplied example count (2518) did not equal expected count (5140)\n",
      "INFO - 10:13:38: worker thread finished; awaiting finish of 2 more threads\n",
      "INFO - 10:13:38: worker thread finished; awaiting finish of 1 more threads\n",
      "INFO - 10:13:38: worker thread finished; awaiting finish of 0 more threads\n",
      "INFO - 10:13:38: EPOCH - 9 : training on 48396 raw words (22188 effective words) took 0.1s, 388339 effective words/s\n",
      "WARNING - 10:13:38: EPOCH - 9 : supplied example count (2518) did not equal expected count (5140)\n",
      "INFO - 10:13:38: worker thread finished; awaiting finish of 2 more threads\n",
      "INFO - 10:13:38: worker thread finished; awaiting finish of 1 more threads\n",
      "INFO - 10:13:38: worker thread finished; awaiting finish of 0 more threads\n",
      "INFO - 10:13:38: EPOCH - 10 : training on 48396 raw words (22275 effective words) took 0.1s, 392629 effective words/s\n",
      "WARNING - 10:13:38: EPOCH - 10 : supplied example count (2518) did not equal expected count (5140)\n",
      "INFO - 10:13:38: worker thread finished; awaiting finish of 2 more threads\n",
      "INFO - 10:13:38: worker thread finished; awaiting finish of 1 more threads\n",
      "INFO - 10:13:38: worker thread finished; awaiting finish of 0 more threads\n",
      "INFO - 10:13:38: EPOCH - 11 : training on 48396 raw words (22336 effective words) took 0.0s, 466515 effective words/s\n",
      "WARNING - 10:13:38: EPOCH - 11 : supplied example count (2518) did not equal expected count (5140)\n",
      "INFO - 10:13:38: worker thread finished; awaiting finish of 2 more threads\n",
      "INFO - 10:13:38: worker thread finished; awaiting finish of 1 more threads\n",
      "INFO - 10:13:38: worker thread finished; awaiting finish of 0 more threads\n",
      "INFO - 10:13:38: EPOCH - 12 : training on 48396 raw words (22304 effective words) took 0.1s, 318722 effective words/s\n",
      "WARNING - 10:13:38: EPOCH - 12 : supplied example count (2518) did not equal expected count (5140)\n",
      "INFO - 10:13:38: worker thread finished; awaiting finish of 2 more threads\n",
      "INFO - 10:13:38: worker thread finished; awaiting finish of 1 more threads\n",
      "INFO - 10:13:38: worker thread finished; awaiting finish of 0 more threads\n",
      "INFO - 10:13:38: EPOCH - 13 : training on 48396 raw words (22262 effective words) took 0.1s, 315169 effective words/s\n",
      "WARNING - 10:13:38: EPOCH - 13 : supplied example count (2518) did not equal expected count (5140)\n",
      "INFO - 10:13:38: worker thread finished; awaiting finish of 2 more threads\n"
     ]
    },
    {
     "name": "stderr",
     "output_type": "stream",
     "text": [
      "INFO - 10:13:38: worker thread finished; awaiting finish of 1 more threads\n",
      "INFO - 10:13:38: worker thread finished; awaiting finish of 0 more threads\n",
      "INFO - 10:13:38: EPOCH - 14 : training on 48396 raw words (22313 effective words) took 0.1s, 327063 effective words/s\n",
      "WARNING - 10:13:38: EPOCH - 14 : supplied example count (2518) did not equal expected count (5140)\n",
      "INFO - 10:13:38: worker thread finished; awaiting finish of 2 more threads\n",
      "INFO - 10:13:38: worker thread finished; awaiting finish of 1 more threads\n",
      "INFO - 10:13:38: worker thread finished; awaiting finish of 0 more threads\n",
      "INFO - 10:13:38: EPOCH - 15 : training on 48396 raw words (22156 effective words) took 0.1s, 399652 effective words/s\n",
      "WARNING - 10:13:38: EPOCH - 15 : supplied example count (2518) did not equal expected count (5140)\n",
      "INFO - 10:13:38: worker thread finished; awaiting finish of 2 more threads\n",
      "INFO - 10:13:38: worker thread finished; awaiting finish of 1 more threads\n",
      "INFO - 10:13:38: worker thread finished; awaiting finish of 0 more threads\n",
      "INFO - 10:13:38: EPOCH - 16 : training on 48396 raw words (22320 effective words) took 0.1s, 400692 effective words/s\n",
      "WARNING - 10:13:38: EPOCH - 16 : supplied example count (2518) did not equal expected count (5140)\n",
      "INFO - 10:13:38: worker thread finished; awaiting finish of 2 more threads\n",
      "INFO - 10:13:38: worker thread finished; awaiting finish of 1 more threads\n",
      "INFO - 10:13:38: worker thread finished; awaiting finish of 0 more threads\n",
      "INFO - 10:13:38: EPOCH - 17 : training on 48396 raw words (22334 effective words) took 0.1s, 406559 effective words/s\n",
      "WARNING - 10:13:38: EPOCH - 17 : supplied example count (2518) did not equal expected count (5140)\n",
      "INFO - 10:13:38: worker thread finished; awaiting finish of 2 more threads\n",
      "INFO - 10:13:38: worker thread finished; awaiting finish of 1 more threads\n",
      "INFO - 10:13:38: worker thread finished; awaiting finish of 0 more threads\n",
      "INFO - 10:13:38: EPOCH - 18 : training on 48396 raw words (22465 effective words) took 0.1s, 412208 effective words/s\n",
      "WARNING - 10:13:38: EPOCH - 18 : supplied example count (2518) did not equal expected count (5140)\n",
      "INFO - 10:13:38: worker thread finished; awaiting finish of 2 more threads\n",
      "INFO - 10:13:38: worker thread finished; awaiting finish of 1 more threads\n",
      "INFO - 10:13:38: worker thread finished; awaiting finish of 0 more threads\n",
      "INFO - 10:13:38: EPOCH - 19 : training on 48396 raw words (22333 effective words) took 0.1s, 394150 effective words/s\n",
      "WARNING - 10:13:38: EPOCH - 19 : supplied example count (2518) did not equal expected count (5140)\n",
      "INFO - 10:13:38: worker thread finished; awaiting finish of 2 more threads\n",
      "INFO - 10:13:38: worker thread finished; awaiting finish of 1 more threads\n",
      "INFO - 10:13:38: worker thread finished; awaiting finish of 0 more threads\n",
      "INFO - 10:13:38: EPOCH - 20 : training on 48396 raw words (22267 effective words) took 0.1s, 436029 effective words/s\n",
      "WARNING - 10:13:38: EPOCH - 20 : supplied example count (2518) did not equal expected count (5140)\n",
      "INFO - 10:13:38: worker thread finished; awaiting finish of 2 more threads\n",
      "INFO - 10:13:38: worker thread finished; awaiting finish of 1 more threads\n",
      "INFO - 10:13:38: worker thread finished; awaiting finish of 0 more threads\n",
      "INFO - 10:13:38: EPOCH - 21 : training on 48396 raw words (22344 effective words) took 0.1s, 395903 effective words/s\n",
      "WARNING - 10:13:38: EPOCH - 21 : supplied example count (2518) did not equal expected count (5140)\n",
      "INFO - 10:13:38: worker thread finished; awaiting finish of 2 more threads\n",
      "INFO - 10:13:38: worker thread finished; awaiting finish of 1 more threads\n",
      "INFO - 10:13:38: worker thread finished; awaiting finish of 0 more threads\n",
      "INFO - 10:13:38: EPOCH - 22 : training on 48396 raw words (22396 effective words) took 0.1s, 382688 effective words/s\n",
      "WARNING - 10:13:38: EPOCH - 22 : supplied example count (2518) did not equal expected count (5140)\n",
      "INFO - 10:13:38: worker thread finished; awaiting finish of 2 more threads\n",
      "INFO - 10:13:38: worker thread finished; awaiting finish of 1 more threads\n",
      "INFO - 10:13:38: worker thread finished; awaiting finish of 0 more threads\n",
      "INFO - 10:13:38: EPOCH - 23 : training on 48396 raw words (22279 effective words) took 0.1s, 385031 effective words/s\n",
      "WARNING - 10:13:38: EPOCH - 23 : supplied example count (2518) did not equal expected count (5140)\n",
      "INFO - 10:13:38: worker thread finished; awaiting finish of 2 more threads\n",
      "INFO - 10:13:39: worker thread finished; awaiting finish of 1 more threads\n",
      "INFO - 10:13:39: worker thread finished; awaiting finish of 0 more threads\n",
      "INFO - 10:13:39: EPOCH - 24 : training on 48396 raw words (22221 effective words) took 0.1s, 277525 effective words/s\n",
      "WARNING - 10:13:39: EPOCH - 24 : supplied example count (2518) did not equal expected count (5140)\n",
      "INFO - 10:13:39: worker thread finished; awaiting finish of 2 more threads\n",
      "INFO - 10:13:39: worker thread finished; awaiting finish of 1 more threads\n",
      "INFO - 10:13:39: worker thread finished; awaiting finish of 0 more threads\n",
      "INFO - 10:13:39: EPOCH - 25 : training on 48396 raw words (22139 effective words) took 0.1s, 319146 effective words/s\n",
      "WARNING - 10:13:39: EPOCH - 25 : supplied example count (2518) did not equal expected count (5140)\n",
      "INFO - 10:13:39: worker thread finished; awaiting finish of 2 more threads\n",
      "INFO - 10:13:39: worker thread finished; awaiting finish of 1 more threads\n",
      "INFO - 10:13:39: worker thread finished; awaiting finish of 0 more threads\n",
      "INFO - 10:13:39: EPOCH - 26 : training on 48396 raw words (22310 effective words) took 0.1s, 300273 effective words/s\n",
      "WARNING - 10:13:39: EPOCH - 26 : supplied example count (2518) did not equal expected count (5140)\n",
      "INFO - 10:13:39: worker thread finished; awaiting finish of 2 more threads\n",
      "INFO - 10:13:39: worker thread finished; awaiting finish of 1 more threads\n",
      "INFO - 10:13:39: worker thread finished; awaiting finish of 0 more threads\n",
      "INFO - 10:13:39: EPOCH - 27 : training on 48396 raw words (22290 effective words) took 0.1s, 306796 effective words/s\n",
      "WARNING - 10:13:39: EPOCH - 27 : supplied example count (2518) did not equal expected count (5140)\n",
      "INFO - 10:13:39: worker thread finished; awaiting finish of 2 more threads\n",
      "INFO - 10:13:39: worker thread finished; awaiting finish of 1 more threads\n",
      "INFO - 10:13:39: worker thread finished; awaiting finish of 0 more threads\n",
      "INFO - 10:13:39: EPOCH - 28 : training on 48396 raw words (22305 effective words) took 0.1s, 311519 effective words/s\n",
      "WARNING - 10:13:39: EPOCH - 28 : supplied example count (2518) did not equal expected count (5140)\n",
      "INFO - 10:13:39: worker thread finished; awaiting finish of 2 more threads\n",
      "INFO - 10:13:39: worker thread finished; awaiting finish of 1 more threads\n",
      "INFO - 10:13:39: worker thread finished; awaiting finish of 0 more threads\n",
      "INFO - 10:13:39: EPOCH - 29 : training on 48396 raw words (22197 effective words) took 0.1s, 339652 effective words/s\n",
      "WARNING - 10:13:39: EPOCH - 29 : supplied example count (2518) did not equal expected count (5140)\n",
      "INFO - 10:13:39: worker thread finished; awaiting finish of 2 more threads\n",
      "INFO - 10:13:39: worker thread finished; awaiting finish of 1 more threads\n",
      "INFO - 10:13:39: worker thread finished; awaiting finish of 0 more threads\n",
      "INFO - 10:13:39: EPOCH - 30 : training on 48396 raw words (22320 effective words) took 0.1s, 361473 effective words/s\n",
      "WARNING - 10:13:39: EPOCH - 30 : supplied example count (2518) did not equal expected count (5140)\n",
      "INFO - 10:13:39: training on a 1451880 raw words (668467 effective words) took 2.1s, 317342 effective words/s\n"
     ]
    },
    {
     "data": {
      "text/plain": [
       "(668467, 1451880)"
      ]
     },
     "execution_count": 460,
     "metadata": {},
     "output_type": "execute_result"
    }
   ],
   "source": [
    "w2v_quake.train(list_of_words_quake, total_examples=w2v_quake.corpus_count, epochs=30, report_delay=1)\n",
    "w2v_flood.train(list_of_words_flood, total_examples=w2v_quake.corpus_count, epochs=30, report_delay=1)"
   ]
  },
  {
   "cell_type": "markdown",
   "metadata": {},
   "source": [
    "The following code allows us to see words closely related (positively or negatively) with any other word. In this case we put in the word 'help'."
   ]
  },
  {
   "cell_type": "code",
   "execution_count": 461,
   "metadata": {
    "pycharm": {
     "is_executing": false
    }
   },
   "outputs": [
    {
     "name": "stderr",
     "output_type": "stream",
     "text": [
      "INFO - 10:13:41: precomputing L2-norms of word weight vectors\n"
     ]
    },
    {
     "data": {
      "text/plain": [
       "[('rock', 0.9994974136352539),\n",
       " ('Powerful', 0.9994682669639587),\n",
       " ('least', 0.9994028806686401),\n",
       " ('kill', 0.9994007349014282),\n",
       " ('northern', 0.9992935061454773),\n",
       " ('Italy', 0.9992789626121521),\n",
       " ('powerful', 0.9992691278457642),\n",
       " ('Reuters', 0.9992452263832092),\n",
       " ('6', 0.9992254972457886),\n",
       " ('A', 0.9991983771324158)]"
      ]
     },
     "execution_count": 461,
     "metadata": {},
     "output_type": "execute_result"
    }
   ],
   "source": [
    "w2v_quake.wv.most_similar(positive=[\"dead\"])"
   ]
  },
  {
   "cell_type": "markdown",
   "metadata": {},
   "source": [
    "We will now convert these word2vec embeddings into a pandas dataframe. This can be converted into a csv for use later in maybe R. We will also explore ways to use this in an SVM model to classify our tweets. "
   ]
  },
  {
   "cell_type": "code",
   "execution_count": 462,
   "metadata": {
    "pycharm": {
     "is_executing": false
    }
   },
   "outputs": [],
   "source": [
    "word_list_quake = []\n",
    "vector_list_quake = []\n",
    "for word in w2v_quake.wv.vocab:\n",
    "    word_list_quake.append(word)\n",
    "    vector_list_quake.append(w2v_quake.wv.get_vector(word))\n",
    "    \n",
    "word_list_flood = []\n",
    "vector_list_flood = []\n",
    "for word in w2v_flood.wv.vocab:\n",
    "    word_list_flood.append(word)\n",
    "    vector_list_flood.append(w2v_flood.wv.get_vector(word))"
   ]
  },
  {
   "cell_type": "code",
   "execution_count": 463,
   "metadata": {
    "pycharm": {
     "is_executing": false
    }
   },
   "outputs": [],
   "source": [
    "quake_embeddings = pd.DataFrame()\n",
    "quake_embeddings['Word'] = word_list_quake\n",
    "quake_embeddings['Vector'] = vector_list_quake"
   ]
  },
  {
   "cell_type": "code",
   "execution_count": 464,
   "metadata": {
    "pycharm": {
     "is_executing": false
    }
   },
   "outputs": [],
   "source": [
    "flood_embeddings = pd.DataFrame()\n",
    "flood_embeddings['Word'] = word_list_flood\n",
    "flood_embeddings['Vector'] = vector_list_flood"
   ]
  },
  {
   "cell_type": "code",
   "execution_count": 133,
   "metadata": {
    "pycharm": {
     "is_executing": false
    }
   },
   "outputs": [],
   "source": [
    "quake_embeddings.to_csv('Word2Vec_Earthquake.csv')\n",
    "flood_embeddings.to_csv('Word2Vec_Flood.csv')"
   ]
  },
  {
   "cell_type": "markdown",
   "metadata": {},
   "source": [
    "## RNN LSTM Classifier\n",
    "\n",
    "### Creating Word2Vec Vectors for Train Data:\n",
    "\n",
    "Before we can implement the classifier, we need to convert our sentences (from balanced df) to a word2vec representation using our word2vec model that we trained above. This was tricky. All vectors corresponding to the tweets have to be the same length as the longest one. However, this does not mean we simply pad a 0 to the end of all the tweets but we need to append an array size (100,) beacuse each word in our word2vec is in 100 dimensions."
   ]
  },
  {
   "cell_type": "code",
   "execution_count": 465,
   "metadata": {
    "pycharm": {
     "is_executing": false,
     "name": "#%%\n"
    }
   },
   "outputs": [],
   "source": [
    "def word2vec_convert(all_tweets, model):\n",
    "    \n",
    "    max_tweet_length = 0\n",
    "    for tweet in all_tweets:\n",
    "        if len(word_tokenize(tweet))>max_tweet_length:\n",
    "            max_tweet_length = len(word_tokenize(tweet))\n",
    "            \n",
    "    whole_vec = np.zeros((len(all_tweets), max_tweet_length, 100))\n",
    "    num = 0\n",
    "    for tweet in all_tweets:\n",
    "        tweet_vec = np.zeros(shape = (max_tweet_length, 100))\n",
    "        vec = np.zeros(100)\n",
    "        for i in range(len(word_tokenize(tweet))):\n",
    "            try:\n",
    "                vec = np.add(vec, model[word_tokenize(tweet)[i]])\n",
    "                tweet_vec[i] = vec \n",
    "                num = num + 1\n",
    "            except:\n",
    "                pass\n",
    "        whole_vec[i] = tweet_vec\n",
    "    return(whole_vec, num)"
   ]
  },
  {
   "cell_type": "markdown",
   "metadata": {},
   "source": [
    "Breaking the quake df into 3 different dfs. Each df with have equal number of (citical, high), (critical, med) and (critical, low} tweets. We will analyse how the model does w.r.t to each of these categories. We are then getting the respective embeddings for each df. The embeddings will be in the shape of (50, 34, 100) aka (50 tweets, max padded length 34 and 100 dims)"
   ]
  },
  {
   "cell_type": "code",
   "execution_count": 466,
   "metadata": {},
   "outputs": [
    {
     "name": "stderr",
     "output_type": "stream",
     "text": [
      "C:\\Users\\Vishaal\\Anaconda3_Mod\\lib\\site-packages\\ipykernel_launcher.py:2: SettingWithCopyWarning: \n",
      "A value is trying to be set on a copy of a slice from a DataFrame.\n",
      "Try using .loc[row_indexer,col_indexer] = value instead\n",
      "\n",
      "See the caveats in the documentation: http://pandas.pydata.org/pandas-docs/stable/indexing.html#indexing-view-versus-copy\n",
      "  \n",
      "C:\\Users\\Vishaal\\Anaconda3_Mod\\lib\\site-packages\\ipykernel_launcher.py:4: SettingWithCopyWarning: \n",
      "A value is trying to be set on a copy of a slice from a DataFrame.\n",
      "Try using .loc[row_indexer,col_indexer] = value instead\n",
      "\n",
      "See the caveats in the documentation: http://pandas.pydata.org/pandas-docs/stable/indexing.html#indexing-view-versus-copy\n",
      "  after removing the cwd from sys.path.\n",
      "C:\\Users\\Vishaal\\Anaconda3_Mod\\lib\\site-packages\\ipykernel_launcher.py:15: DeprecationWarning: Call to deprecated `__getitem__` (Method will be removed in 4.0.0, use self.wv.__getitem__() instead).\n",
      "  from ipykernel import kernelapp as app\n"
     ]
    }
   ],
   "source": [
    "#change made here...\n",
    "df_quake_low = df_quake[(df_quake['Priority'] == 'Critical') | (df_quake['Priority'] == 'Low')]\n",
    "df_quake_med = df_quake[(df_quake['Priority'] == 'Critical') | (df_quake['Priority'] == 'Medium')]\n",
    "df_quake_high = df_quake[(df_quake['Priority'] == 'Critical') | (df_quake['Priority'] == 'High')]\n",
    "\n",
    "l_quake_l = preProcess(df_quake_low)\n",
    "word2vec_convert_quake_l, num_q_l = word2vec_convert(l_quake_l, w2v_quake)\n",
    "\n",
    "l_quake_m = preProcess(df_quake_med)\n",
    "word2vec_convert_quake_m, num_q_m = word2vec_convert(l_quake_m, w2v_quake)\n",
    "\n",
    "l_quake_h = preProcess(df_quake_high)\n",
    "word2vec_convert_quake_h, num_q_h = word2vec_convert(l_quake_h, w2v_quake)\n",
    "\n",
    "\n",
    "t_quake_low = to_categorical(df_quake_low['Priority'])\n",
    "t_quake_med = to_categorical(df_quake_med['Priority'])\n",
    "t_quake_high = to_categorical(df_quake_high['Priority'])"
   ]
  },
  {
   "cell_type": "code",
   "execution_count": 510,
   "metadata": {},
   "outputs": [],
   "source": [
    "word2vec_convert_quake_l_svm = word2vec_convert_quake_l.transpose(0,1,2).reshape(word2vec_convert_quake_l.shape[0],word2vec_convert_quake_l.shape[1]*word2vec_convert_quake_l.shape[2])\n",
    "word2vec_convert_quake_l_svm = word2vec_convert_quake_l_svm[:, :, newaxis]"
   ]
  },
  {
   "cell_type": "code",
   "execution_count": 515,
   "metadata": {},
   "outputs": [],
   "source": [
    "model = keras.Sequential()                    \n",
    "model.add(LSTM(32, input_shape = (word2vec_convert_quake_l_svm.shape[1], word2vec_convert_quake_l_svm.shape[2]),\n",
    "              return_sequences = False))\n",
    "model.add(Dense(16,activation='relu'))\n",
    "model.add(Dense(1,activation='sigmoid')) "
   ]
  },
  {
   "cell_type": "code",
   "execution_count": 516,
   "metadata": {},
   "outputs": [],
   "source": [
    "model.compile(optimizer='rmsprop',\n",
    "                  loss='binary_crossentropy',\n",
    "                  metrics=['acc', keras.metrics.Precision(), keras.metrics.Recall(), keras.metrics.AUC()])"
   ]
  },
  {
   "cell_type": "code",
   "execution_count": 517,
   "metadata": {},
   "outputs": [
    {
     "name": "stdout",
     "output_type": "stream",
     "text": [
      "Train on 35 samples, validate on 15 samples\n",
      "Epoch 1/20\n",
      "35/35 [==============================] - 4s 121ms/step - loss: 0.6870 - acc: 0.4857 - precision_34: 0.7333 - recall_34: 0.4400 - auc_34: 0.5480 - val_loss: 0.7148 - val_acc: 0.0000e+00 - val_precision_34: 0.0000e+00 - val_recall_34: 0.0000e+00 - val_auc_34: 0.0000e+00\n",
      "Epoch 2/20\n",
      "35/35 [==============================] - 4s 101ms/step - loss: 0.6737 - acc: 0.7429 - precision_34: 0.7353 - recall_34: 1.0000 - auc_34: 0.4360 - val_loss: 0.7440 - val_acc: 0.0000e+00 - val_precision_34: 0.0000e+00 - val_recall_34: 0.0000e+00 - val_auc_34: 0.0000e+00\n",
      "Epoch 3/20\n",
      "35/35 [==============================] - 4s 103ms/step - loss: 0.6582 - acc: 0.7429 - precision_34: 0.7353 - recall_34: 1.0000 - auc_34: 0.5360 - val_loss: 0.8411 - val_acc: 0.0000e+00 - val_precision_34: 0.0000e+00 - val_recall_34: 0.0000e+00 - val_auc_34: 0.0000e+00\n",
      "Epoch 4/20\n",
      "35/35 [==============================] - 4s 101ms/step - loss: 0.6038 - acc: 0.7429 - precision_34: 0.7353 - recall_34: 1.0000 - auc_34: 0.5720 - val_loss: 1.2910 - val_acc: 0.0000e+00 - val_precision_34: 0.0000e+00 - val_recall_34: 0.0000e+00 - val_auc_34: 0.0000e+00\n",
      "Epoch 5/20\n",
      "35/35 [==============================] - 4s 102ms/step - loss: 0.5792 - acc: 0.7429 - precision_34: 0.7353 - recall_34: 1.0000 - auc_34: 0.4560 - val_loss: 1.3906 - val_acc: 0.0000e+00 - val_precision_34: 0.0000e+00 - val_recall_34: 0.0000e+00 - val_auc_34: 0.0000e+00\n",
      "Epoch 6/20\n",
      "35/35 [==============================] - 4s 103ms/step - loss: 0.5838 - acc: 0.7429 - precision_34: 0.7353 - recall_34: 1.0000 - auc_34: 0.3900 - val_loss: 1.3029 - val_acc: 0.0000e+00 - val_precision_34: 0.0000e+00 - val_recall_34: 0.0000e+00 - val_auc_34: 0.0000e+00\n",
      "Epoch 7/20\n",
      "35/35 [==============================] - 4s 102ms/step - loss: 0.5746 - acc: 0.7429 - precision_34: 0.7353 - recall_34: 1.0000 - auc_34: 0.4460 - val_loss: 1.2278 - val_acc: 0.0000e+00 - val_precision_34: 0.0000e+00 - val_recall_34: 0.0000e+00 - val_auc_34: 0.0000e+00\n",
      "Epoch 8/20\n",
      "35/35 [==============================] - 4s 103ms/step - loss: 0.5841 - acc: 0.7429 - precision_34: 0.7353 - recall_34: 1.0000 - auc_34: 0.3540 - val_loss: 1.3667 - val_acc: 0.0000e+00 - val_precision_34: 0.0000e+00 - val_recall_34: 0.0000e+00 - val_auc_34: 0.0000e+00\n",
      "Epoch 9/20\n",
      "35/35 [==============================] - 4s 104ms/step - loss: 0.5870 - acc: 0.7429 - precision_34: 0.7353 - recall_34: 1.0000 - auc_34: 0.3460 - val_loss: 1.2844 - val_acc: 0.0000e+00 - val_precision_34: 0.0000e+00 - val_recall_34: 0.0000e+00 - val_auc_34: 0.0000e+00\n",
      "Epoch 10/20\n",
      "35/35 [==============================] - 4s 105ms/step - loss: 0.5708 - acc: 0.7429 - precision_34: 0.7353 - recall_34: 1.0000 - auc_34: 0.4940 - val_loss: 1.2619 - val_acc: 0.0000e+00 - val_precision_34: 0.0000e+00 - val_recall_34: 0.0000e+00 - val_auc_34: 0.0000e+00\n",
      "Epoch 11/20\n",
      "35/35 [==============================] - 4s 105ms/step - loss: 0.5747 - acc: 0.7429 - precision_34: 0.7353 - recall_34: 1.0000 - auc_34: 0.4540 - val_loss: 1.3082 - val_acc: 0.0000e+00 - val_precision_34: 0.0000e+00 - val_recall_34: 0.0000e+00 - val_auc_34: 0.0000e+00\n",
      "Epoch 12/20\n",
      "35/35 [==============================] - 4s 104ms/step - loss: 0.5725 - acc: 0.7429 - precision_34: 0.7353 - recall_34: 1.0000 - auc_34: 0.4360 - val_loss: 1.2627 - val_acc: 0.0000e+00 - val_precision_34: 0.0000e+00 - val_recall_34: 0.0000e+00 - val_auc_34: 0.0000e+00\n",
      "Epoch 13/20\n",
      "35/35 [==============================] - 4s 102ms/step - loss: 0.5733 - acc: 0.7429 - precision_34: 0.7353 - recall_34: 1.0000 - auc_34: 0.4860 - val_loss: 1.3232 - val_acc: 0.0000e+00 - val_precision_34: 0.0000e+00 - val_recall_34: 0.0000e+00 - val_auc_34: 0.0000e+00\n",
      "Epoch 14/20\n",
      "35/35 [==============================] - 4s 101ms/step - loss: 0.5779 - acc: 0.7429 - precision_34: 0.7353 - recall_34: 1.0000 - auc_34: 0.4000 - val_loss: 1.2532 - val_acc: 0.0000e+00 - val_precision_34: 0.0000e+00 - val_recall_34: 0.0000e+00 - val_auc_34: 0.0000e+00\n",
      "Epoch 15/20\n",
      "35/35 [==============================] - 4s 102ms/step - loss: 0.5717 - acc: 0.7429 - precision_34: 0.7353 - recall_34: 1.0000 - auc_34: 0.4700 - val_loss: 1.2238 - val_acc: 0.0000e+00 - val_precision_34: 0.0000e+00 - val_recall_34: 0.0000e+00 - val_auc_34: 0.0000e+00\n",
      "Epoch 16/20\n",
      "35/35 [==============================] - 4s 101ms/step - loss: 0.5697 - acc: 0.7429 - precision_34: 0.7353 - recall_34: 1.0000 - auc_34: 0.4880 - val_loss: 1.2874 - val_acc: 0.0000e+00 - val_precision_34: 0.0000e+00 - val_recall_34: 0.0000e+00 - val_auc_34: 0.0000e+00\n",
      "Epoch 17/20\n",
      "35/35 [==============================] - 4s 103ms/step - loss: 0.5773 - acc: 0.7429 - precision_34: 0.7353 - recall_34: 1.0000 - auc_34: 0.3700 - val_loss: 1.2312 - val_acc: 0.0000e+00 - val_precision_34: 0.0000e+00 - val_recall_34: 0.0000e+00 - val_auc_34: 0.0000e+00\n",
      "Epoch 18/20\n",
      "35/35 [==============================] - 4s 101ms/step - loss: 0.5693 - acc: 0.7429 - precision_34: 0.7353 - recall_34: 1.0000 - auc_34: 0.5440 - val_loss: 1.2997 - val_acc: 0.0000e+00 - val_precision_34: 0.0000e+00 - val_recall_34: 0.0000e+00 - val_auc_34: 0.0000e+00\n",
      "Epoch 19/20\n",
      "35/35 [==============================] - 4s 101ms/step - loss: 0.5702 - acc: 0.7429 - precision_34: 0.7353 - recall_34: 1.0000 - auc_34: 0.4660 - val_loss: 1.2274 - val_acc: 0.0000e+00 - val_precision_34: 0.0000e+00 - val_recall_34: 0.0000e+00 - val_auc_34: 0.0000e+00\n",
      "Epoch 20/20\n",
      "35/35 [==============================] - 4s 101ms/step - loss: 0.5690 - acc: 0.7429 - precision_34: 0.7353 - recall_34: 1.0000 - auc_34: 0.5040 - val_loss: 1.2382 - val_acc: 0.0000e+00 - val_precision_34: 0.0000e+00 - val_recall_34: 0.0000e+00 - val_auc_34: 0.0000e+00\n"
     ]
    }
   ],
   "source": [
    "history = model.fit(word2vec_convert_quake_l_svm , t_quake_low , batch_size=10, epochs=20, validation_split=0.3, shuffle=True)"
   ]
  },
  {
   "cell_type": "code",
   "execution_count": 518,
   "metadata": {},
   "outputs": [],
   "source": [
    "y_pred = model.predict(history.validation_data[0])"
   ]
  },
  {
   "cell_type": "code",
   "execution_count": 519,
   "metadata": {},
   "outputs": [
    {
     "data": {
      "text/plain": [
       "array([[0.7100958],\n",
       "       [0.7100958],\n",
       "       [0.7100958],\n",
       "       [0.7100958],\n",
       "       [0.7100958],\n",
       "       [0.7100958],\n",
       "       [0.7100958],\n",
       "       [0.7100958],\n",
       "       [0.7100958],\n",
       "       [0.7100958],\n",
       "       [0.7100958],\n",
       "       [0.7100958],\n",
       "       [0.7100958],\n",
       "       [0.7100958],\n",
       "       [0.7100958]], dtype=float32)"
      ]
     },
     "execution_count": 519,
     "metadata": {},
     "output_type": "execute_result"
    }
   ],
   "source": [
    "y_pred"
   ]
  },
  {
   "cell_type": "code",
   "execution_count": 445,
   "metadata": {},
   "outputs": [
    {
     "data": {
      "text/plain": [
       "(50, 34, 5)"
      ]
     },
     "execution_count": 445,
     "metadata": {},
     "output_type": "execute_result"
    }
   ],
   "source": [
    "word2vec_convert_quake_l.shape"
   ]
  },
  {
   "cell_type": "code",
   "execution_count": 339,
   "metadata": {},
   "outputs": [
    {
     "data": {
      "text/plain": [
       "(100,)"
      ]
     },
     "execution_count": 339,
     "metadata": {},
     "output_type": "execute_result"
    }
   ],
   "source": [
    "word2vec_convert_quake_l[1][0].shape"
   ]
  },
  {
   "cell_type": "code",
   "execution_count": 355,
   "metadata": {},
   "outputs": [
    {
     "data": {
      "text/plain": [
       "(25, 2)"
      ]
     },
     "execution_count": 355,
     "metadata": {},
     "output_type": "execute_result"
    }
   ],
   "source": [
    "df_quake_low[df_quake_low['Priority'] == 'Critical'].shape"
   ]
  },
  {
   "cell_type": "code",
   "execution_count": 358,
   "metadata": {},
   "outputs": [
    {
     "data": {
      "text/plain": [
       "<bound method Callback.on_train_batch_begin of <keras.callbacks.callbacks.History object at 0x000001D269253BA8>>"
      ]
     },
     "execution_count": 358,
     "metadata": {},
     "output_type": "execute_result"
    }
   ],
   "source": [
    "history.on_train_batch_begin"
   ]
  },
  {
   "cell_type": "code",
   "execution_count": 508,
   "metadata": {},
   "outputs": [],
   "source": [
    "word2vec_convert_quake_l_svm = word2vec_convert_quake_l.transpose(0,1,2).reshape(word2vec_convert_quake_l.shape[0],word2vec_convert_quake_l.shape[1]*word2vec_convert_quake_l.shape[2])\n",
    "word2vec_convert_quake_l_svm = word2vec_convert_quake_l_svm[:, :, newaxis]"
   ]
  },
  {
   "cell_type": "code",
   "execution_count": 497,
   "metadata": {},
   "outputs": [
    {
     "name": "stderr",
     "output_type": "stream",
     "text": [
      "C:\\Users\\Vishaal\\Anaconda3_Mod\\lib\\site-packages\\sklearn\\model_selection\\_split.py:1978: FutureWarning: The default value of cv will change from 3 to 5 in version 0.22. Specify it explicitly to silence this warning.\n",
      "  warnings.warn(CV_WARNING, FutureWarning)\n",
      "C:\\Users\\Vishaal\\Anaconda3_Mod\\lib\\site-packages\\sklearn\\calibration.py:453: RuntimeWarning: overflow encountered in exp\n",
      "  E = np.exp(AB[0] * F + AB[1])\n",
      "C:\\Users\\Vishaal\\Anaconda3_Mod\\lib\\site-packages\\sklearn\\calibration.py:455: RuntimeWarning: invalid value encountered in multiply\n",
      "  TEP_minus_T1P = P * (T * E - T1)\n",
      "C:\\Users\\Vishaal\\Anaconda3_Mod\\lib\\site-packages\\sklearn\\calibration.py:453: RuntimeWarning: overflow encountered in exp\n",
      "  E = np.exp(AB[0] * F + AB[1])\n",
      "C:\\Users\\Vishaal\\Anaconda3_Mod\\lib\\site-packages\\sklearn\\calibration.py:455: RuntimeWarning: invalid value encountered in multiply\n",
      "  TEP_minus_T1P = P * (T * E - T1)\n",
      "C:\\Users\\Vishaal\\Anaconda3_Mod\\lib\\site-packages\\sklearn\\calibration.py:453: RuntimeWarning: overflow encountered in exp\n",
      "  E = np.exp(AB[0] * F + AB[1])\n",
      "C:\\Users\\Vishaal\\Anaconda3_Mod\\lib\\site-packages\\sklearn\\calibration.py:455: RuntimeWarning: invalid value encountered in multiply\n",
      "  TEP_minus_T1P = P * (T * E - T1)\n"
     ]
    }
   ],
   "source": [
    "X_train, X_val, Y_train, Y_val = train_test_split(word2vec_convert_quake_l_svm , t_quake_low, test_size=0.2, random_state=100)\n",
    "\n",
    "clf = SGDClassifier(loss = 'hinge', alpha = 0.00001, max_iter=10000, tol=1e-6\n",
    "                                                       , shuffle = True, learning_rate = 'optimal', penalty='l1')\n",
    "clf.fit(X_train, Y_train)\n",
    "y_pred = clf.predict(X_val)\n",
    "'''\n",
    "    Calibrating above model to yield probabilities. SGD with hinge loss does not spit out prob. It gives the value of \n",
    "    the decision function aka the value of the function across th hyperplane but that does not help us in this case. \n",
    "    Using loss as log or something else will give prob but we want to do SVM and not logistic regression. \n",
    "'''\n",
    "model = CalibratedClassifierCV(clf)\n",
    "model.fit(X_train, Y_train)\n",
    "proba_cl = model.predict_proba(X_val)[:, 1]"
   ]
  },
  {
   "cell_type": "code",
   "execution_count": 498,
   "metadata": {},
   "outputs": [
    {
     "data": {
      "text/plain": [
       "1.0"
      ]
     },
     "execution_count": 498,
     "metadata": {},
     "output_type": "execute_result"
    }
   ],
   "source": [
    "metrics.recall_score(Y_val, y_pred)"
   ]
  },
  {
   "cell_type": "code",
   "execution_count": 499,
   "metadata": {},
   "outputs": [
    {
     "data": {
      "text/plain": [
       "1.0"
      ]
     },
     "execution_count": 499,
     "metadata": {},
     "output_type": "execute_result"
    }
   ],
   "source": [
    "metrics.precision_score(Y_val, y_pred)"
   ]
  },
  {
   "cell_type": "code",
   "execution_count": 500,
   "metadata": {},
   "outputs": [
    {
     "data": {
      "text/plain": [
       "array([1, 0, 0, 0, 0, 0, 1, 0, 1, 0])"
      ]
     },
     "execution_count": 500,
     "metadata": {},
     "output_type": "execute_result"
    }
   ],
   "source": [
    "y_pred"
   ]
  },
  {
   "cell_type": "code",
   "execution_count": 501,
   "metadata": {},
   "outputs": [
    {
     "data": {
      "text/plain": [
       "array([0.54305556, 0.54305556, 0.54305556, 0.54305556, 0.54305556,\n",
       "       0.54305556, 0.54305556, 0.54305556, 0.54305556, 0.54305556])"
      ]
     },
     "execution_count": 501,
     "metadata": {},
     "output_type": "execute_result"
    }
   ],
   "source": [
    "proba_cl"
   ]
  },
  {
   "cell_type": "code",
   "execution_count": 502,
   "metadata": {},
   "outputs": [
    {
     "data": {
      "text/plain": [
       "[1, 0, 0, 0, 0, 0, 1, 0, 1, 0]"
      ]
     },
     "execution_count": 502,
     "metadata": {},
     "output_type": "execute_result"
    }
   ],
   "source": [
    "Y_val"
   ]
  },
  {
   "cell_type": "code",
   "execution_count": 505,
   "metadata": {},
   "outputs": [
    {
     "data": {
      "text/plain": [
       "0.5"
      ]
     },
     "execution_count": 505,
     "metadata": {},
     "output_type": "execute_result"
    }
   ],
   "source": [
    "from sklearn.metrics import roc_auc_score\n",
    "roc_auc_score(Y_val, proba_cl)"
   ]
  },
  {
   "cell_type": "code",
   "execution_count": null,
   "metadata": {},
   "outputs": [],
   "source": []
  }
 ],
 "metadata": {
  "kernelspec": {
   "display_name": "Python 3",
   "language": "python",
   "name": "python3"
  },
  "language_info": {
   "codemirror_mode": {
    "name": "ipython",
    "version": 3
   },
   "file_extension": ".py",
   "mimetype": "text/x-python",
   "name": "python",
   "nbconvert_exporter": "python",
   "pygments_lexer": "ipython3",
   "version": "3.7.3"
  },
  "pycharm": {
   "stem_cell": {
    "cell_type": "raw",
    "metadata": {
     "collapsed": false
    },
    "source": []
   }
  }
 },
 "nbformat": 4,
 "nbformat_minor": 4
}
