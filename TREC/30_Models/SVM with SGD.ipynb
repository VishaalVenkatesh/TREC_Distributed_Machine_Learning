{
 "cells": [
  {
   "cell_type": "code",
   "execution_count": 302,
   "metadata": {
    "pycharm": {
     "is_executing": false
    }
   },
   "outputs": [],
   "source": [
    "import os\n",
    "import pandas as pd\n",
    "import numpy as np\n",
    "from sklearn.linear_model import SGDClassifier\n",
    "from sklearn import metrics\n",
    "from sklearn.feature_extraction.text import TfidfVectorizer\n",
    "from nltk.stem import PorterStemmer\n",
    "from nltk.tokenize import word_tokenize\n",
    "from nltk.stem.wordnet import WordNetLemmatizer\n",
    "from nltk.corpus import stopwords\n",
    "import sklearn.model_selection as model_selection\n",
    "from sklearn.metrics import roc_curve\n",
    "from sklearn.metrics import precision_recall_curve\n",
    "from sklearn.dummy import DummyClassifier\n",
    "from sklearn.calibration import CalibratedClassifierCV\n",
    "import matplotlib.pyplot as plt\n",
    "from sklearn.metrics import roc_auc_score\n",
    "from sklearn.metrics import auc"
   ]
  },
  {
   "cell_type": "code",
   "execution_count": 303,
   "metadata": {
    "pycharm": {
     "is_executing": false
    }
   },
   "outputs": [],
   "source": [
    "os.chdir('../10_2018 Train')"
   ]
  },
  {
   "cell_type": "code",
   "execution_count": 304,
   "metadata": {
    "pycharm": {
     "is_executing": false
    }
   },
   "outputs": [
    {
     "data": {
      "text/plain": "'C:\\\\Users\\\\Vishaal\\\\Documents\\\\GitHub\\\\TREC_Distributed_Machine_Learning\\\\TREC\\\\10_Data\\\\20_Extracted Tweets\\\\10_2018 Train'"
     },
     "metadata": {},
     "output_type": "execute_result",
     "execution_count": 304
    }
   ],
   "source": [
    "os.getcwd()"
   ]
  },
  {
   "cell_type": "code",
   "execution_count": 305,
   "metadata": {
    "pycharm": {
     "is_executing": false
    }
   },
   "outputs": [],
   "source": [
    "'''\n",
    "    Loading Earthquake and flood data from 2018 train. These are the only ones with critical tweets\n",
    "'''\n",
    "df1 = pd.read_csv('flood_TREC_2018_train.csv')\n",
    "df2 = pd.read_csv('Earthquake_TREC_2018_train.csv')"
   ]
  },
  {
   "cell_type": "code",
   "execution_count": 306,
   "outputs": [],
   "source": [
    "os.chdir('../15_2018 Test')"
   ],
   "metadata": {
    "collapsed": false,
    "pycharm": {
     "name": "#%%\n",
     "is_executing": false
    }
   }
  },
  {
   "cell_type": "code",
   "execution_count": 307,
   "metadata": {
    "pycharm": {
     "is_executing": false
    }
   },
   "outputs": [],
   "source": [
    "'''\n",
    "    Loading our test 2018 tweets from eathquakes and floods. These have a decent amount of critical tweets.\n",
    "    We did not include attacks as a considerable amount of work has been done on that before.\n",
    "'''\n",
    "df3 = pd.read_csv('Earthquake_TREC_2018_test.csv')\n",
    "df4 = pd.read_csv('Floods_TREC_2018_test.csv')"
   ]
  },
  {
   "cell_type": "code",
   "execution_count": 308,
   "metadata": {
    "pycharm": {
     "is_executing": false
    }
   },
   "outputs": [],
   "source": [
    "'''\n",
    "    Combining all into one big data frame\n",
    "'''\n",
    "df_c = pd.DataFrame()\n",
    "df_c['Tweet'] = pd.concat([df1['Tweet'] , df2['Tweet'], df3['Tweet'], df4['Tweet'] ])\n",
    "df_c['Priority'] = pd.concat([df1['Priority'] , df2['Priority'], df3['Priority'], df4['Priority']])\n",
    "\n"
   ]
  },
  {
   "cell_type": "code",
   "execution_count": 309,
   "outputs": [
    {
     "data": {
      "text/plain": "(55, 2)"
     },
     "metadata": {},
     "output_type": "execute_result",
     "execution_count": 309
    }
   ],
   "source": [
    "'''\n",
    "    52 Critical tweets out of 7432\n",
    "'''\n",
    "(df_c[df_c['Priority']=='Critical']).shape"
   ],
   "metadata": {
    "collapsed": false,
    "pycharm": {
     "name": "#%%\n",
     "is_executing": false
    }
   }
  },
  {
   "cell_type": "code",
   "execution_count": 310,
   "metadata": {
    "pycharm": {
     "is_executing": false
    }
   },
   "outputs": [],
   "source": [
    "'''\n",
    "Creating a categorical variable to keep label critical tweets as 1 and 0 otherwise\n",
    "'''\n",
    "def to_categorical(df_c):\n",
    "    t = []\n",
    "    for element in df_c['Priority']:\n",
    "        if element =='Critical':\n",
    "            t.append(1)\n",
    "        else:\n",
    "            t.append(0)\n",
    "        \n",
    "    t = np.array(t)\n",
    "    df_c['Target'] = t\n",
    "\n",
    "    df_c['Target'] = df_c['Target'].astype('category')\n",
    "    t = df_c['Target']\n",
    "    del df_c['Target']\n",
    "    return (t)\n",
    "\n",
    "t = to_categorical(df_c)"
   ]
  },
  {
   "cell_type": "code",
   "execution_count": 311,
   "metadata": {
    "pycharm": {
     "is_executing": false
    }
   },
   "outputs": [],
   "source": [
    "'''\n",
    "    Creating a function to input lemmatized text to possibly another function that outputs the tfidf in a csv format.\n",
    "    We could also simply use the output from this funtion in an tfidf format (no csv) and train a model.\n",
    "'''\n",
    "def preProcess(df):\n",
    "    df['Tweet'] = df['Tweet'].astype('str')\n",
    "    \n",
    "    token_array = []\n",
    "    for tweet in df['Tweet']:\n",
    "        token_tweet = word_tokenize(tweet)\n",
    "        token_array.append(token_tweet)\n",
    "        \n",
    "    stop_words=set(stopwords.words(\"english\"))\n",
    "    filtered_token_array=[]\n",
    "    for tweet in token_array:\n",
    "        filtered_tweet = []\n",
    "        for word in tweet:\n",
    "                if word not in stop_words:\n",
    "                    filtered_tweet.append(word)\n",
    "        filtered_token_array.append(filtered_tweet)\n",
    "        \n",
    "    lem = WordNetLemmatizer()\n",
    "    stem = PorterStemmer()\n",
    "\n",
    "    lemmatized_array=[]\n",
    "    for tweet in filtered_token_array:\n",
    "        lemmatized_tweet = []\n",
    "        for word in tweet:\n",
    "            lemmatized_tweet.append(lem.lemmatize(word,'v'))\n",
    "        lemmatized_array.append(lemmatized_tweet)\n",
    "    \n",
    "    lemmatized_array_join = []\n",
    "    for element in lemmatized_array:\n",
    "        lemmatized_array_join.append(''.join(element))\n",
    "        \n",
    "    return (lemmatized_array_join)"
   ]
  },
  {
   "cell_type": "code",
   "execution_count": 312,
   "metadata": {
    "pycharm": {
     "is_executing": false
    }
   },
   "outputs": [],
   "source": [
    "'''\n",
    "    OPTIONAL - We use this to convert the tfidf into CSV format. \n",
    "    \n",
    "    Output is a combined dataframe - use pd.to_csv to specify save location \n",
    "    \n",
    "    NOTE - corpus is tfidf in non-array format\n",
    "'''\n",
    "def tfidf_to_CSV(df, corpus):\n",
    "    tf=TfidfVectorizer()\n",
    "    text_tf= tf.fit_transform(corpus)\n",
    "    text_tf_dense = text_tf.todense()\n",
    "    \n",
    "    words = tf.get_feature_names()\n",
    "    M = text_tf.tolil()\n",
    "    l_features = []\n",
    "    for i in range(M.shape[0]):\n",
    "        l_features.append(np.array(M[i].todense())[0])\n",
    "        \n",
    "    df_features = pd.DataFrame(l_features)\n",
    "    \n",
    "    df_combined = pd.concat([df,df_features], axis=1)\n",
    "    \n",
    "    cols = list(df.columns) + words\n",
    "    \n",
    "    df_combined_1 = df_combined.rename(columns={x:y for x,y in zip(df_combined.columns,cols)})\n",
    "    \n",
    "    return (df_combined_1)"
   ]
  },
  {
   "cell_type": "code",
   "execution_count": 313,
   "outputs": [],
   "source": [
    "'''\n",
    "    Plot no skill and ROC curve\n",
    "'''\n",
    "def plot_roc_curve(test_y, naive_probs, model_probs):\n",
    "\t# plot naive skill roc curve\n",
    "\tfpr, tpr, _ = roc_curve(test_y, naive_probs)\n",
    "\tplt.plot(fpr, tpr, linestyle='--', label='No Skill')\n",
    "\t# plot model roc curve\n",
    "\tfpr, tpr, _ = roc_curve(test_y, model_probs)\n",
    "\tplt.plot(fpr, tpr, marker='.', label='SVM SGD')\n",
    "\t# axis labels\n",
    "\tplt.xlabel('False Positive Rate')\n",
    "\tplt.ylabel('True Positive Rate')\n",
    "\t# show the legend\n",
    "\tplt.legend()\n",
    "\t# show the plot\n",
    "\tplt.show()"
   ],
   "metadata": {
    "collapsed": false,
    "pycharm": {
     "name": "#%%\n",
     "is_executing": false
    }
   }
  },
  {
   "cell_type": "code",
   "execution_count": 314,
   "outputs": [],
   "source": [
    "'''\n",
    "    Plot no skill model and PR curve\n",
    "'''\n",
    "def plot_pr_curve(test_y, model_probs):\n",
    "\t# calculate the no skill line as the proportion of the positive class\n",
    "\tno_skill = len(test_y[test_y==1]) / len(test_y)\n",
    "\t# plot the no skill precision-recall curve\n",
    "\tplt.plot([0, 1], [no_skill, no_skill], linestyle='--', label='No Skill')\n",
    "\t# plot model precision-recall curve\n",
    "\tprecision, recall, _ = precision_recall_curve(test_y, model_probs)\n",
    "\tplt.plot(recall, precision, marker='.', label='SVM SGD')\n",
    "\t# axis labels\n",
    "\tplt.xlabel('Recall')\n",
    "\tplt.ylabel('Precision')\n",
    "\t# show the legend\n",
    "\tplt.legend()\n",
    "\t# show the plot\n",
    "\tplt.show()\n"
   ],
   "metadata": {
    "collapsed": false,
    "pycharm": {
     "name": "#%%\n",
     "is_executing": false
    }
   }
  },
  {
   "cell_type": "code",
   "execution_count": 315,
   "metadata": {
    "pycharm": {
     "is_executing": false
    }
   },
   "outputs": [
    {
     "traceback": [
      "\u001b[1;31m---------------------------------------------------------------------------\u001b[0m",
      "\u001b[1;31mAttributeError\u001b[0m                            Traceback (most recent call last)",
      "\u001b[1;32m<ipython-input-315-d659867a0b2b>\u001b[0m in \u001b[0;36m<module>\u001b[1;34m\u001b[0m\n\u001b[0;32m      6\u001b[0m '''\n\u001b[0;32m      7\u001b[0m \u001b[0mwords\u001b[0m \u001b[1;33m=\u001b[0m \u001b[0mtf\u001b[0m\u001b[1;33m.\u001b[0m\u001b[0mget_feature_names\u001b[0m\u001b[1;33m(\u001b[0m\u001b[1;33m)\u001b[0m\u001b[1;33m\u001b[0m\u001b[1;33m\u001b[0m\u001b[0m\n\u001b[1;32m----> 8\u001b[1;33m \u001b[0mM\u001b[0m \u001b[1;33m=\u001b[0m \u001b[0mtext_tf\u001b[0m\u001b[1;33m.\u001b[0m\u001b[0mtolil\u001b[0m\u001b[1;33m(\u001b[0m\u001b[1;33m)\u001b[0m\u001b[1;33m\u001b[0m\u001b[1;33m\u001b[0m\u001b[0m\n\u001b[0m\u001b[0;32m      9\u001b[0m \u001b[0ml_features\u001b[0m \u001b[1;33m=\u001b[0m \u001b[1;33m[\u001b[0m\u001b[1;33m]\u001b[0m\u001b[1;33m\u001b[0m\u001b[1;33m\u001b[0m\u001b[0m\n\u001b[0;32m     10\u001b[0m \u001b[1;32mfor\u001b[0m \u001b[0mi\u001b[0m \u001b[1;32min\u001b[0m \u001b[0mrange\u001b[0m\u001b[1;33m(\u001b[0m\u001b[0mM\u001b[0m\u001b[1;33m.\u001b[0m\u001b[0mshape\u001b[0m\u001b[1;33m[\u001b[0m\u001b[1;36m0\u001b[0m\u001b[1;33m]\u001b[0m\u001b[1;33m)\u001b[0m\u001b[1;33m:\u001b[0m\u001b[1;33m\u001b[0m\u001b[1;33m\u001b[0m\u001b[0m\n",
      "\u001b[1;31mAttributeError\u001b[0m: 'numpy.ndarray' object has no attribute 'tolil'"
     ],
     "ename": "AttributeError",
     "evalue": "'numpy.ndarray' object has no attribute 'tolil'",
     "output_type": "error"
    }
   ],
   "source": [
    "'''\n",
    "    Converting TF-IDF to list of lists. Then we play around with the datatypes to get features as a dense\n",
    "    list of numpy arrays l_features. We also get the actual word names that are used as features.\n",
    "    \n",
    "    Use only if you need the csv output. NOT REQUIRED TO TRAIN MODEL\n",
    "'''\n",
    "words = tf.get_feature_names()\n",
    "M = text_tf.tolil()\n",
    "l_features = []\n",
    "for i in range(M.shape[0]):\n",
    "    l_features.append(np.array(M[i].todense())[0])"
   ]
  },
  {
   "cell_type": "code",
   "execution_count": 316,
   "outputs": [
    {
     "traceback": [
      "\u001b[1;31m---------------------------------------------------------------------------\u001b[0m",
      "\u001b[1;31mNameError\u001b[0m                                 Traceback (most recent call last)",
      "\u001b[1;32m<ipython-input-316-69e0bffc22da>\u001b[0m in \u001b[0;36m<module>\u001b[1;34m\u001b[0m\n\u001b[0;32m      6\u001b[0m \u001b[0mdf_crit\u001b[0m \u001b[1;33m=\u001b[0m \u001b[0mdf_c\u001b[0m\u001b[1;33m[\u001b[0m\u001b[0mdf_c\u001b[0m\u001b[1;33m[\u001b[0m\u001b[1;34m'Priority'\u001b[0m\u001b[1;33m]\u001b[0m \u001b[1;33m==\u001b[0m \u001b[1;34m'Critical'\u001b[0m\u001b[1;33m]\u001b[0m\u001b[1;33m\u001b[0m\u001b[1;33m\u001b[0m\u001b[0m\n\u001b[0;32m      7\u001b[0m \u001b[0mdf_lc\u001b[0m \u001b[1;33m=\u001b[0m \u001b[0mpd\u001b[0m\u001b[1;33m.\u001b[0m\u001b[0mconcat\u001b[0m\u001b[1;33m(\u001b[0m\u001b[1;33m[\u001b[0m\u001b[0mdf_low\u001b[0m\u001b[1;33m,\u001b[0m \u001b[0mdf_crit\u001b[0m\u001b[1;33m]\u001b[0m\u001b[1;33m)\u001b[0m\u001b[1;33m\u001b[0m\u001b[1;33m\u001b[0m\u001b[0m\n\u001b[1;32m----> 8\u001b[1;33m \u001b[0mdf_lc\u001b[0m \u001b[1;33m=\u001b[0m \u001b[0mshuffle\u001b[0m\u001b[1;33m(\u001b[0m\u001b[0mdf_lc\u001b[0m\u001b[1;33m)\u001b[0m\u001b[1;33m\u001b[0m\u001b[1;33m\u001b[0m\u001b[0m\n\u001b[0m",
      "\u001b[1;31mNameError\u001b[0m: name 'shuffle' is not defined"
     ],
     "ename": "NameError",
     "evalue": "name 'shuffle' is not defined",
     "output_type": "error"
    }
   ],
   "source": [
    "'''\n",
    "    Let us now balance the dataset and see what happens. We have 52 critical tweets so lets balance that with\n",
    "    200 low priority tweets.\n",
    "'''\n",
    "df_low = df_c[df_c['Priority'] == 'High'].sample(200)\n",
    "df_crit = df_c[df_c['Priority'] == 'Critical']\n",
    "df_lc = pd.concat([df_low, df_crit])\n",
    "df_lc = shuffle(df_lc)"
   ],
   "metadata": {
    "collapsed": false,
    "pycharm": {
     "name": "#%%\n",
     "is_executing": false
    }
   }
  },
  {
   "cell_type": "code",
   "execution_count": 317,
   "outputs": [],
   "source": [
    "'''\n",
    "    Convert to categorical\n",
    "'''\n",
    "t_lc = to_categorical(df_lc)\n",
    "'''\n",
    "    Getting a DTM of tf-idf features\n",
    "'''\n",
    "tf=TfidfVectorizer()\n",
    "lemmatized_array_join = preProcess(df_lc)\n",
    "text_lc= tf.fit_transform(lemmatized_array_join)\n",
    "'''\n",
    "    Converting DTM to array. REQUIRED TO DIRECTLY TRAIN SVM\n",
    "'''\n",
    "text_lc= tf.fit_transform(lemmatized_array_join).toarray()"
   ],
   "metadata": {
    "collapsed": false,
    "pycharm": {
     "name": "#%%\n",
     "is_executing": false
    }
   }
  },
  {
   "cell_type": "code",
   "execution_count": 318,
   "outputs": [
    {
     "name": "stderr",
     "text": [
      "C:\\Users\\Vishaal\\Anaconda3_Mod\\lib\\site-packages\\sklearn\\model_selection\\_split.py:1978: FutureWarning: The default value of cv will change from 3 to 5 in version 0.22. Specify it explicitly to silence this warning.\n  warnings.warn(CV_WARNING, FutureWarning)\n"
     ],
     "output_type": "stream"
    },
    {
     "name": "stdout",
     "text": [
      "Recall Score =  0.09090909090909091\nPrecision Score 0.3333333333333333\n[[38  2]\n [10  1]]\n",
      "ROC AUC 0.576\nPR AUC: 0.334\n"
     ],
     "output_type": "stream"
    },
    {
     "data": {
      "text/plain": "<Figure size 432x288 with 1 Axes>",
      "image/png": "[encoded data removed]"
     },
     "metadata": {
      "needs_background": "light"
     },
     "output_type": "display_data"
    },
    {
     "data": {
      "text/plain": "<Figure size 432x288 with 1 Axes>",
      "image/png": "[encoded data removed]"
     },
     "metadata": {
      "needs_background": "light"
     },
     "output_type": "display_data"
    }
   ],
   "source": [
    "'''\n",
    "    SGD SVM on Critical-Low Dataset.\n",
    "'''\n",
    "X_train, X_val, Y_train, Y_val = model_selection.train_test_split(text_lc, t_lc, test_size=0.2, random_state=100)\n",
    "'''\n",
    "    Create a Dummy Classifier\n",
    "'''\n",
    "naive_model = DummyClassifier(strategy='stratified')\n",
    "naive_model.fit(X_train, Y_train)\n",
    "yhat = naive_model.predict_proba(X_val)\n",
    "naive_probs = yhat[:, 1]\n",
    "\n",
    "'''\n",
    "    Actual SVM using SGD\n",
    "'''\n",
    "clf = SGDClassifier(loss = 'hinge', alpha = 0.001, max_iter=10000, tol=1e-3\n",
    "                                                   , shuffle = True, learning_rate = 'optimal', penalty='l1')\n",
    "clf.fit(X_train, Y_train)\n",
    "y_pred = clf.predict(X_val)\n",
    "'''\n",
    "    Calibrating above model to yield probabilities. SGD with hinge loss does not spit out prob. It gives the value of \n",
    "    the decision function aka the value of the function across th hyperplane but that does not help us in this case. \n",
    "    Using loss as log or something else will give prob but we want to do SVM and not logistic regression. Finally, \n",
    "    other \n",
    "'''\n",
    "model = CalibratedClassifierCV(clf)\n",
    "model.fit(X_train, Y_train)\n",
    "proba_cl = model.predict_proba(X_val)[:, 1]\n",
    "'''\n",
    "    Get recall and precisions scores\n",
    "'''\n",
    "print('Recall Score = ', metrics.recall_score(Y_val, y_pred))\n",
    "print('Precision Score', metrics.precision_score(Y_val, y_pred))\n",
    "print(metrics.confusion_matrix(Y_val, y_pred))\n",
    "\n",
    "'''\n",
    "    Plot ROC curve\n",
    "'''\n",
    "plot_roc_curve(Y_val, naive_probs, proba_cl)\n",
    "roc_auc = roc_auc_score(Y_val, proba_cl)\n",
    "print('ROC AUC %.3f' % roc_auc)\n",
    "'''\n",
    "    Plot PR curve\n",
    "'''\n",
    "precision, recall, _ = precision_recall_curve(Y_val, proba_cl)\n",
    "auc_score = auc(recall, precision)\n",
    "print('PR AUC: %.3f' % auc_score)\n",
    "plot_pr_curve(Y_val, proba_cl)\n",
    "\n",
    "\n",
    "\n"
   ],
   "metadata": {
    "collapsed": false,
    "pycharm": {
     "name": "#%%\n",
     "is_executing": false
    }
   }
  },
  {
   "cell_type": "code",
   "execution_count": 297,
   "outputs": [
    {
     "data": {
      "text/plain": "51"
     },
     "metadata": {},
     "output_type": "execute_result",
     "execution_count": 297
    }
   ],
   "source": [
    "len(y_pred)"
   ],
   "metadata": {
    "collapsed": false,
    "pycharm": {
     "name": "#%%\n",
     "is_executing": false
    }
   }
  },
  {
   "cell_type": "code",
   "execution_count": null,
   "outputs": [],
   "source": [
    "\n"
   ],
   "metadata": {
    "collapsed": false,
    "pycharm": {
     "name": "#%%\n"
    }
   }
  }
 ],
 "metadata": {
  "kernelspec": {
   "display_name": "Python 3",
   "language": "python",
   "name": "python3"
  },
  "language_info": {
   "codemirror_mode": {
    "name": "ipython",
    "version": 3
   },
   "file_extension": ".py",
   "mimetype": "text/x-python",
   "name": "python",
   "nbconvert_exporter": "python",
   "pygments_lexer": "ipython3",
   "version": "3.7.3"
  },
  "pycharm": {
   "stem_cell": {
    "cell_type": "raw",
    "source": [],
    "metadata": {
     "collapsed": false
    }
   }
  }
 },
 "nbformat": 4,
 "nbformat_minor": 2
}