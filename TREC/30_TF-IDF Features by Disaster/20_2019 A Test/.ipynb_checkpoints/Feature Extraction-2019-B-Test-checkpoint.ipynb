{
 "cells": [
  {
   "cell_type": "code",
   "execution_count": 4,
   "metadata": {},
   "outputs": [],
   "source": [
    "import numpy as np\n",
    "import pandas as pd\n",
    "import nltk\n",
    "from nltk.tokenize import word_tokenize\n",
    "from nltk.probability import FreqDist\n",
    "from nltk.stem import PorterStemmer\n",
    "from nltk.tokenize import sent_tokenize, word_tokenize\n",
    "from nltk.stem.wordnet import WordNetLemmatizer\n",
    "from scipy.sparse import csr_matrix\n",
    "from nltk.corpus import stopwords\n",
    "from nltk.tokenize import RegexpTokenizer\n",
    "from sklearn.feature_extraction.text import TfidfVectorizer\n",
    "from sklearn.feature_extraction.text import CountVectorizer\n",
    "import os"
   ]
  },
  {
   "cell_type": "code",
   "execution_count": 11,
   "metadata": {},
   "outputs": [],
   "source": [
    "os.chdir('..')"
   ]
  },
  {
   "cell_type": "code",
   "execution_count": 12,
   "metadata": {},
   "outputs": [],
   "source": [
    "os.chdir('TREC/10_Data/30_Extracted Tweets by Disaster/2019 A Test')"
   ]
  },
  {
   "cell_type": "code",
   "execution_count": 13,
   "metadata": {},
   "outputs": [
    {
     "data": {
      "text/plain": [
       "'C:\\\\Users\\\\Vishaal\\\\Documents\\\\GitHub\\\\TREC_Distributed_Machine_Learning\\\\TREC\\\\10_Data\\\\30_Extracted Tweets by Disaster\\\\2019 A Test'"
      ]
     },
     "execution_count": 13,
     "metadata": {},
     "output_type": "execute_result"
    }
   ],
   "source": [
    "os.getcwd()"
   ]
  },
  {
   "cell_type": "code",
   "execution_count": 15,
   "metadata": {},
   "outputs": [
    {
     "data": {
      "text/html": [
       "<div>\n",
       "<style scoped>\n",
       "    .dataframe tbody tr th:only-of-type {\n",
       "        vertical-align: middle;\n",
       "    }\n",
       "\n",
       "    .dataframe tbody tr th {\n",
       "        vertical-align: top;\n",
       "    }\n",
       "\n",
       "    .dataframe thead th {\n",
       "        text-align: right;\n",
       "    }\n",
       "</style>\n",
       "<table border=\"1\" class=\"dataframe\">\n",
       "  <thead>\n",
       "    <tr style=\"text-align: right;\">\n",
       "      <th></th>\n",
       "      <th>Unnamed: 0</th>\n",
       "      <th>Unnamed: 0.1</th>\n",
       "      <th>ID</th>\n",
       "      <th>Tweet</th>\n",
       "      <th>Event</th>\n",
       "      <th>Source</th>\n",
       "      <th>User_Language</th>\n",
       "      <th>Event_Decrption</th>\n",
       "      <th>Categories</th>\n",
       "      <th>Priority</th>\n",
       "    </tr>\n",
       "  </thead>\n",
       "  <tbody>\n",
       "    <tr>\n",
       "      <th>0</th>\n",
       "      <td>5718</td>\n",
       "      <td>5718</td>\n",
       "      <td>750271842061914112</td>\n",
       "      <td>Witnesses: crowd mistook gunshots for firework...</td>\n",
       "      <td>shootingDallas2017</td>\n",
       "      <td>&lt;a href=\"http://twitter.com/download/iphone\" r...</td>\n",
       "      <td>en</td>\n",
       "      <td>Five officers are dead ? four Dallas police of...</td>\n",
       "      <td>['Irrelevant']</td>\n",
       "      <td>Low</td>\n",
       "    </tr>\n",
       "    <tr>\n",
       "      <th>1</th>\n",
       "      <td>5719</td>\n",
       "      <td>5719</td>\n",
       "      <td>750297964963389440</td>\n",
       "      <td>Dallas nightclub security guard involved in fa...</td>\n",
       "      <td>shootingDallas2017</td>\n",
       "      <td>&lt;a href=\"https://buffer.com\" rel=\"nofollow\"&gt;Bu...</td>\n",
       "      <td>en</td>\n",
       "      <td>Five officers are dead ? four Dallas police of...</td>\n",
       "      <td>['Irrelevant']</td>\n",
       "      <td>Low</td>\n",
       "    </tr>\n",
       "    <tr>\n",
       "      <th>2</th>\n",
       "      <td>5720</td>\n",
       "      <td>5720</td>\n",
       "      <td>750316221552263168</td>\n",
       "      <td>@kevindunbar666 I would also like to point out...</td>\n",
       "      <td>shootingDallas2017</td>\n",
       "      <td>&lt;a href=\"http://twitter.com\" rel=\"nofollow\"&gt;Tw...</td>\n",
       "      <td>en</td>\n",
       "      <td>Five officers are dead ? four Dallas police of...</td>\n",
       "      <td>['Irrelevant']</td>\n",
       "      <td>Low</td>\n",
       "    </tr>\n",
       "    <tr>\n",
       "      <th>3</th>\n",
       "      <td>5721</td>\n",
       "      <td>5721</td>\n",
       "      <td>750336750241873922</td>\n",
       "      <td>@BoxingAnalyst1 @BoxingKingdom14 just heard ru...</td>\n",
       "      <td>shootingDallas2017</td>\n",
       "      <td>&lt;a href=\"http://twitter.com/download/android\" ...</td>\n",
       "      <td>en</td>\n",
       "      <td>Five officers are dead ? four Dallas police of...</td>\n",
       "      <td>['Irrelevant']</td>\n",
       "      <td>Low</td>\n",
       "    </tr>\n",
       "    <tr>\n",
       "      <th>4</th>\n",
       "      <td>5722</td>\n",
       "      <td>5722</td>\n",
       "      <td>750337795735060480</td>\n",
       "      <td>There were 70 shootings this weekend in Chicag...</td>\n",
       "      <td>shootingDallas2017</td>\n",
       "      <td>&lt;a href=\"http://twitter.com/download/iphone\" r...</td>\n",
       "      <td>en</td>\n",
       "      <td>Five officers are dead ? four Dallas police of...</td>\n",
       "      <td>['Irrelevant']</td>\n",
       "      <td>Low</td>\n",
       "    </tr>\n",
       "  </tbody>\n",
       "</table>\n",
       "</div>"
      ],
      "text/plain": [
       "   Unnamed: 0  Unnamed: 0.1                  ID  \\\n",
       "0        5718          5718  750271842061914112   \n",
       "1        5719          5719  750297964963389440   \n",
       "2        5720          5720  750316221552263168   \n",
       "3        5721          5721  750336750241873922   \n",
       "4        5722          5722  750337795735060480   \n",
       "\n",
       "                                               Tweet               Event  \\\n",
       "0  Witnesses: crowd mistook gunshots for firework...  shootingDallas2017   \n",
       "1  Dallas nightclub security guard involved in fa...  shootingDallas2017   \n",
       "2  @kevindunbar666 I would also like to point out...  shootingDallas2017   \n",
       "3  @BoxingAnalyst1 @BoxingKingdom14 just heard ru...  shootingDallas2017   \n",
       "4  There were 70 shootings this weekend in Chicag...  shootingDallas2017   \n",
       "\n",
       "                                              Source User_Language  \\\n",
       "0  <a href=\"http://twitter.com/download/iphone\" r...            en   \n",
       "1  <a href=\"https://buffer.com\" rel=\"nofollow\">Bu...            en   \n",
       "2  <a href=\"http://twitter.com\" rel=\"nofollow\">Tw...            en   \n",
       "3  <a href=\"http://twitter.com/download/android\" ...            en   \n",
       "4  <a href=\"http://twitter.com/download/iphone\" r...            en   \n",
       "\n",
       "                                     Event_Decrption      Categories Priority  \n",
       "0  Five officers are dead ? four Dallas police of...  ['Irrelevant']      Low  \n",
       "1  Five officers are dead ? four Dallas police of...  ['Irrelevant']      Low  \n",
       "2  Five officers are dead ? four Dallas police of...  ['Irrelevant']      Low  \n",
       "3  Five officers are dead ? four Dallas police of...  ['Irrelevant']      Low  \n",
       "4  Five officers are dead ? four Dallas police of...  ['Irrelevant']      Low  "
      ]
     },
     "execution_count": 15,
     "metadata": {},
     "output_type": "execute_result"
    }
   ],
   "source": [
    "df = pd.read_csv('shooting_TREC_2019_A_test.csv')\n",
    "df.head()"
   ]
  },
  {
   "cell_type": "code",
   "execution_count": 16,
   "metadata": {},
   "outputs": [],
   "source": [
    "'''\n",
    "    Converting tweet column to str\n",
    "'''\n",
    "df['Tweet'] = df['Tweet'].astype('str')"
   ]
  },
  {
   "cell_type": "code",
   "execution_count": 27,
   "metadata": {},
   "outputs": [],
   "source": [
    "'''\n",
    "    Generalise process to all files. Maybe later\n",
    "'''\n",
    "event_type = ['Floods', 'Earthquake', 'Bushfire', 'Bombings', 'Tornado', 'Attack', 'SchoolShooting', 'typhoon' ]"
   ]
  },
  {
   "cell_type": "code",
   "execution_count": 17,
   "metadata": {},
   "outputs": [
    {
     "data": {
      "text/plain": [
       "['Dallas',\n",
       " 'nightclub',\n",
       " 'security',\n",
       " 'guard',\n",
       " 'involved',\n",
       " 'in',\n",
       " 'fatal',\n",
       " 'shooting',\n",
       " 'https',\n",
       " ':',\n",
       " '//t.co/Wosuc9ekhk',\n",
       " 'https',\n",
       " ':',\n",
       " '//t.co/wnhpK3vreR']"
      ]
     },
     "execution_count": 17,
     "metadata": {},
     "output_type": "execute_result"
    }
   ],
   "source": [
    "'''\n",
    "    Tokenize each tweet into words. Note we haven't yet removed stop words\n",
    "'''\n",
    "token_array = []\n",
    "for tweet in df['Tweet']:\n",
    "    token_tweet = word_tokenize(tweet)\n",
    "    token_array.append(token_tweet)\n",
    "                       \n",
    "token_array[1]"
   ]
  },
  {
   "cell_type": "code",
   "execution_count": 18,
   "metadata": {},
   "outputs": [
    {
     "data": {
      "text/plain": [
       "['Dallas',\n",
       " 'nightclub',\n",
       " 'security',\n",
       " 'guard',\n",
       " 'involved',\n",
       " 'fatal',\n",
       " 'shooting',\n",
       " 'https',\n",
       " ':',\n",
       " '//t.co/Wosuc9ekhk',\n",
       " 'https',\n",
       " ':',\n",
       " '//t.co/wnhpK3vreR']"
      ]
     },
     "execution_count": 18,
     "metadata": {},
     "output_type": "execute_result"
    }
   ],
   "source": [
    "'''\n",
    "    Will remove stop words from tweet. We still have to look into removing punctuation marks.\n",
    "'''\n",
    "stop_words=set(stopwords.words(\"english\"))\n",
    "filtered_token_array=[]\n",
    "for tweet in token_array:\n",
    "    filtered_tweet = []\n",
    "    for word in tweet:\n",
    "        if word not in stop_words:\n",
    "            filtered_tweet.append(word)\n",
    "    filtered_token_array.append(filtered_tweet)\n",
    "    \n",
    "filtered_token_array[1]"
   ]
  },
  {
   "cell_type": "code",
   "execution_count": 19,
   "metadata": {},
   "outputs": [
    {
     "data": {
      "text/plain": [
       "['dalla',\n",
       " 'nightclub',\n",
       " 'secur',\n",
       " 'guard',\n",
       " 'involv',\n",
       " 'fatal',\n",
       " 'shoot',\n",
       " 'http',\n",
       " ':',\n",
       " '//t.co/wosuc9ekhk',\n",
       " 'http',\n",
       " ':',\n",
       " '//t.co/wnhpk3vrer']"
      ]
     },
     "execution_count": 19,
     "metadata": {},
     "output_type": "execute_result"
    }
   ],
   "source": [
    "'''\n",
    "    We will now do stemming. This is the process of removing different forms of the same word and will\n",
    "    resort to the root word. For example, connection, connected, connecting word reduce to a common \n",
    "    word \"connect\".\n",
    "'''\n",
    "ps = PorterStemmer()\n",
    "stemmed_array=[]\n",
    "for tweet in filtered_token_array:\n",
    "    stemmed_tweet = []\n",
    "    for word in tweet:\n",
    "        stemmed_tweet.append(ps.stem(word))\n",
    "    stemmed_array.append(stemmed_tweet)\n",
    "    \n",
    "stemmed_array[1]"
   ]
  },
  {
   "cell_type": "code",
   "execution_count": 20,
   "metadata": {},
   "outputs": [],
   "source": [
    "'''\n",
    "    We now do lemmatization. This is like stemming but more effective apparently as it does a dictionary lookup. For \n",
    "    instance a relation between the words good and better may be made in lemmatisation but not in stemming.\n",
    "    \n",
    "    Lemmatization is much better from a cursory look. Words like earthquake are being cut down to earthquak \n",
    "    when using stemming. \n",
    "'''\n",
    "lem = WordNetLemmatizer()\n",
    "stem = PorterStemmer()\n",
    "\n",
    "lemmatized_array=[]\n",
    "for tweet in filtered_token_array:\n",
    "    lemmatized_tweet = []\n",
    "    for word in tweet:\n",
    "        lemmatized_tweet.append(lem.lemmatize(word,'v'))\n",
    "    lemmatized_array.append(lemmatized_tweet)\n",
    "\n",
    "lemmatized_array_join = []\n",
    "for element in lemmatized_array:\n",
    "    lemmatized_array_join.append(''.join(element))"
   ]
  },
  {
   "cell_type": "code",
   "execution_count": 21,
   "metadata": {},
   "outputs": [],
   "source": [
    "'''\n",
    "    DTM to get bag of words\n",
    "'''\n",
    "\n",
    "cv = CountVectorizer(lowercase=True,stop_words='english',ngram_range = (1,1))\n",
    "text_counts= cv.fit_transform(lemmatized_array_join)\n",
    "text_counts_dense = text_counts.todense()"
   ]
  },
  {
   "cell_type": "code",
   "execution_count": 22,
   "metadata": {},
   "outputs": [],
   "source": [
    "'''\n",
    "    DTM to get TF-IDF features\n",
    "'''\n",
    "\n",
    "tf=TfidfVectorizer()\n",
    "text_tf= tf.fit_transform(lemmatized_array_join)\n",
    "text_tf_dense = text_tf.todense()"
   ]
  },
  {
   "cell_type": "code",
   "execution_count": 23,
   "metadata": {},
   "outputs": [],
   "source": [
    "'''\n",
    "    Converting TF-IDF to list of lists. Then we play around with the datatypes to get features as a dense\n",
    "    list of numpy arrays l_features. We also get the actual word names that are used as features.\n",
    "'''\n",
    "words = tf.get_feature_names()\n",
    "M = text_tf.tolil()\n",
    "l_features = []\n",
    "for i in range(M.shape[0]):\n",
    "    l_features.append(np.array(M[i].todense())[0])"
   ]
  },
  {
   "cell_type": "code",
   "execution_count": 24,
   "metadata": {},
   "outputs": [],
   "source": [
    "'''\n",
    "    Converting to dataframe\n",
    "'''\n",
    "df_features = pd.DataFrame(l_features)"
   ]
  },
  {
   "cell_type": "code",
   "execution_count": 25,
   "metadata": {},
   "outputs": [],
   "source": [
    "'''\n",
    "    Combining both the dataframes - we now have the TF-IDF features and all the other stuff we had before\n",
    "'''\n",
    "df_combined = pd.concat([df,df_features], axis=1)"
   ]
  },
  {
   "cell_type": "code",
   "execution_count": 26,
   "metadata": {},
   "outputs": [],
   "source": [
    "'''\n",
    "    List of columns with original columns and word features\n",
    "'''\n",
    "cols = list(df.columns) + words"
   ]
  },
  {
   "cell_type": "code",
   "execution_count": 27,
   "metadata": {},
   "outputs": [],
   "source": [
    "'''\n",
    "    Rename columns in original dataframe with new column names\n",
    "'''\n",
    "df_combined = df_combined.rename(columns={x:y for x,y in zip(df_combined.columns,cols)})"
   ]
  },
  {
   "cell_type": "code",
   "execution_count": 31,
   "metadata": {},
   "outputs": [],
   "source": [
    "'''\n",
    "    Creating a function to the above to all the files...\n",
    "'''\n",
    "def preProcess(file):\n",
    "    df = pd.read_csv(file+'_TREC_2019_A_test.csv')\n",
    "    df['Tweet'] = df['Tweet'].astype('str')\n",
    "    \n",
    "    token_array = []\n",
    "    for tweet in df['Tweet']:\n",
    "        token_tweet = word_tokenize(tweet)\n",
    "        token_array.append(token_tweet)\n",
    "        \n",
    "    stop_words=set(stopwords.words(\"english\"))\n",
    "    filtered_token_array=[]\n",
    "    for tweet in token_array:\n",
    "        filtered_tweet = []\n",
    "        for word in tweet:\n",
    "                if word not in stop_words:\n",
    "                    filtered_tweet.append(word)\n",
    "        filtered_token_array.append(filtered_tweet)\n",
    "        \n",
    "    lem = WordNetLemmatizer()\n",
    "    stem = PorterStemmer()\n",
    "\n",
    "    lemmatized_array=[]\n",
    "    for tweet in filtered_token_array:\n",
    "        lemmatized_tweet = []\n",
    "        for word in tweet:\n",
    "            lemmatized_tweet.append(lem.lemmatize(word,'v'))\n",
    "        lemmatized_array.append(lemmatized_tweet)\n",
    "    \n",
    "    lemmatized_array_join = []\n",
    "    for element in lemmatized_array:\n",
    "        lemmatized_array_join.append(''.join(element))\n",
    "        \n",
    "    return (lemmatized_array_join)\n",
    "    \n",
    "    \n",
    "def tfidf(lemmatized_array_join):\n",
    "    tf=TfidfVectorizer()\n",
    "    text_tf= tf.fit_transform(lemmatized_array_join)\n",
    "    text_tf_dense = text_tf.todense()\n",
    "    \n",
    "    words = tf.get_feature_names()\n",
    "    M = text_tf.tolil()\n",
    "    l_features = []\n",
    "    for i in range(M.shape[0]):\n",
    "        l_features.append(np.array(M[i].todense())[0])\n",
    "        \n",
    "    df_features = pd.DataFrame(l_features)\n",
    "    \n",
    "    df_combined = pd.concat([df,df_features], axis=1)\n",
    "    \n",
    "    cols = list(df.columns) + words\n",
    "    \n",
    "    df_combined = df_combined.rename(columns={x:y for x,y in zip(df_combined.columns,cols)})\n",
    "    \n",
    "    return (df_combined)"
   ]
  },
  {
   "cell_type": "code",
   "execution_count": 33,
   "metadata": {},
   "outputs": [],
   "source": [
    "event_type = ['flood', 'earthquake', 'fire', 'shooting', 'hurricane' ]\n",
    "\n",
    "for disaster in event_type:\n",
    "    feature = preProcess(disaster)\n",
    "    df = tfidf(feature)\n",
    "    df.to_csv(disaster+'_tfidf_features_2019_A_test.csv')\n"
   ]
  },
  {
   "cell_type": "code",
   "execution_count": null,
   "metadata": {},
   "outputs": [],
   "source": []
  }
 ],
 "metadata": {
  "kernelspec": {
   "display_name": "Python 3",
   "language": "python",
   "name": "python3"
  },
  "language_info": {
   "codemirror_mode": {
    "name": "ipython",
    "version": 3
   },
   "file_extension": ".py",
   "mimetype": "text/x-python",
   "name": "python",
   "nbconvert_exporter": "python",
   "pygments_lexer": "ipython3",
   "version": "3.7.3"
  }
 },
 "nbformat": 4,
 "nbformat_minor": 2
}
