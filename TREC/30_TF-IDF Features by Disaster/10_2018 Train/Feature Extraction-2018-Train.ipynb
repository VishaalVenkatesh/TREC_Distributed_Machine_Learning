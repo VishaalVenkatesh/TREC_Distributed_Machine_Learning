{
 "cells": [
  {
   "cell_type": "code",
   "execution_count": 210,
   "metadata": {},
   "outputs": [],
   "source": [
    "import numpy as np\n",
    "import pandas as pd\n",
    "import nltk\n",
    "from nltk.tokenize import word_tokenize\n",
    "from nltk.probability import FreqDist\n",
    "from nltk.stem import PorterStemmer\n",
    "from nltk.tokenize import sent_tokenize, word_tokenize\n",
    "from nltk.stem.wordnet import WordNetLemmatizer\n",
    "from scipy.sparse import csr_matrix\n",
    "from nltk.corpus import stopwords\n",
    "from nltk.tokenize import RegexpTokenizer\n",
    "from sklearn.feature_extraction.text import TfidfVectorizer\n",
    "from sklearn.feature_extraction.text import CountVectorizer\n",
    "import os\n",
    "from sklearn.linear_model import SGDClassifier\n",
    "from sklearn.pipeline import make_pipeline\n",
    "from sklearn.svm import SVC \n",
    "from sklearn.preprocessing import StandardScaler\n",
    "from sklearn import metrics"
   ]
  },
  {
   "cell_type": "code",
   "execution_count": 211,
   "metadata": {},
   "outputs": [
    {
     "data": {
      "text/plain": [
       "(2066, 16)"
      ]
     },
     "execution_count": 211,
     "metadata": {},
     "output_type": "execute_result"
    }
   ],
   "source": [
    "df = pd.read_csv('Attack_TREC_2018_train.csv')\n",
    "df.shape"
   ]
  },
  {
   "cell_type": "code",
   "execution_count": 212,
   "metadata": {},
   "outputs": [],
   "source": [
    "'''\n",
    "    Converting tweet column to str\n",
    "'''\n",
    "df['Tweet'] = df['Tweet'].astype('str')"
   ]
  },
  {
   "cell_type": "code",
   "execution_count": 124,
   "metadata": {},
   "outputs": [],
   "source": [
    "'''\n",
    "    Generalise process to all files. Maybe later\n",
    "'''\n",
    "event_type = ['Floods', 'Earthquake', 'Bushfire', 'Bombings', 'Tornado', 'Attack', 'SchoolShooting', 'typhoon' ]"
   ]
  },
  {
   "cell_type": "code",
   "execution_count": 213,
   "metadata": {},
   "outputs": [
    {
     "data": {
      "text/plain": [
       "['public',\n",
       " 'transport',\n",
       " 'problems',\n",
       " 'in',\n",
       " 'paris',\n",
       " 'due',\n",
       " 'to',\n",
       " 'five',\n",
       " 'attacks',\n",
       " 'in',\n",
       " 'the',\n",
       " 'city',\n",
       " 'and',\n",
       " 'just',\n",
       " 'outside',\n",
       " 'it',\n",
       " 'with',\n",
       " 'suicide',\n",
       " 'bomber',\n",
       " 'and',\n",
       " 'at',\n",
       " 'least',\n",
       " 'two',\n",
       " 'heavily',\n",
       " 'armedmen']"
      ]
     },
     "execution_count": 213,
     "metadata": {},
     "output_type": "execute_result"
    }
   ],
   "source": [
    "'''\n",
    "    Tokenize each tweet into words. Note we haven't yet removed stop words\n",
    "'''\n",
    "token_array = []\n",
    "for tweet in df['Tweet']:\n",
    "    token_tweet = word_tokenize(tweet)\n",
    "    token_array.append(token_tweet)\n",
    "                       \n",
    "token_array[1]"
   ]
  },
  {
   "cell_type": "code",
   "execution_count": 214,
   "metadata": {},
   "outputs": [
    {
     "data": {
      "text/plain": [
       "['public',\n",
       " 'transport',\n",
       " 'problems',\n",
       " 'paris',\n",
       " 'due',\n",
       " 'five',\n",
       " 'attacks',\n",
       " 'city',\n",
       " 'outside',\n",
       " 'suicide',\n",
       " 'bomber',\n",
       " 'least',\n",
       " 'two',\n",
       " 'heavily',\n",
       " 'armedmen']"
      ]
     },
     "execution_count": 214,
     "metadata": {},
     "output_type": "execute_result"
    }
   ],
   "source": [
    "'''\n",
    "    Will remove stop words from tweet. We still have to look into removing punctuation marks.\n",
    "'''\n",
    "stop_words=set(stopwords.words(\"english\"))\n",
    "filtered_token_array=[]\n",
    "for tweet in token_array:\n",
    "    filtered_tweet = []\n",
    "    for word in tweet:\n",
    "        if word not in stop_words:\n",
    "            filtered_tweet.append(word)\n",
    "    filtered_token_array.append(filtered_tweet)\n",
    "    \n",
    "filtered_token_array[1]"
   ]
  },
  {
   "cell_type": "code",
   "execution_count": 215,
   "metadata": {},
   "outputs": [
    {
     "data": {
      "text/plain": [
       "['public',\n",
       " 'transport',\n",
       " 'problem',\n",
       " 'pari',\n",
       " 'due',\n",
       " 'five',\n",
       " 'attack',\n",
       " 'citi',\n",
       " 'outsid',\n",
       " 'suicid',\n",
       " 'bomber',\n",
       " 'least',\n",
       " 'two',\n",
       " 'heavili',\n",
       " 'armedmen']"
      ]
     },
     "execution_count": 215,
     "metadata": {},
     "output_type": "execute_result"
    }
   ],
   "source": [
    "'''\n",
    "    We will now do stemming. This is the process of removing different forms of the same word and will\n",
    "    resort to the root word. For example, connection, connected, connecting word reduce to a common \n",
    "    word \"connect\".\n",
    "'''\n",
    "ps = PorterStemmer()\n",
    "stemmed_array=[]\n",
    "for tweet in filtered_token_array:\n",
    "    stemmed_tweet = []\n",
    "    for word in tweet:\n",
    "        stemmed_tweet.append(ps.stem(word))\n",
    "    stemmed_array.append(stemmed_tweet)\n",
    "    \n",
    "stemmed_array[1]"
   ]
  },
  {
   "cell_type": "code",
   "execution_count": 216,
   "metadata": {},
   "outputs": [],
   "source": [
    "'''\n",
    "    We now do lemmatization. This is like stemming but more effective apparently as it does a dictionary lookup. For \n",
    "    instance a relation between the words good and better may be made in lemmatisation but not in stemming.\n",
    "    \n",
    "    Lemmatization is much better from a cursory look. Words like earthquake are being cut down to earthquak \n",
    "    when using stemming. \n",
    "'''\n",
    "lem = WordNetLemmatizer()\n",
    "stem = PorterStemmer()\n",
    "\n",
    "lemmatized_array=[]\n",
    "for tweet in filtered_token_array:\n",
    "    lemmatized_tweet = []\n",
    "    for word in tweet:\n",
    "        lemmatized_tweet.append(lem.lemmatize(word,'v'))\n",
    "    lemmatized_array.append(lemmatized_tweet)\n",
    "\n",
    "lemmatized_array_join = []\n",
    "for element in lemmatized_array:\n",
    "    lemmatized_array_join.append(''.join(element))"
   ]
  },
  {
   "cell_type": "code",
   "execution_count": 217,
   "metadata": {},
   "outputs": [],
   "source": [
    "'''\n",
    "    DTM to get bag of words\n",
    "'''\n",
    "\n",
    "cv = CountVectorizer(lowercase=True,stop_words='english',ngram_range = (1,1))\n",
    "text_counts= cv.fit_transform(lemmatized_array_join)\n",
    "text_counts_dense = text_counts.todense()"
   ]
  },
  {
   "cell_type": "code",
   "execution_count": 218,
   "metadata": {},
   "outputs": [],
   "source": [
    "'''\n",
    "    DTM to get TF-IDF features\n",
    "'''\n",
    "\n",
    "tf=TfidfVectorizer()\n",
    "text_tf= tf.fit_transform(lemmatized_array_join)"
   ]
  },
  {
   "cell_type": "code",
   "execution_count": 219,
   "metadata": {},
   "outputs": [],
   "source": [
    "'''\n",
    "    Converting TF-IDF to list of lists. Then we play around with the datatypes to get features as a dense\n",
    "    list of numpy arrays l_features. We also get the actual word names that are used as features.\n",
    "'''\n",
    "words = tf.get_feature_names()\n",
    "M = text_tf.tolil()\n",
    "l_features = []\n",
    "for i in range(M.shape[0]):\n",
    "    l_features.append(np.array(M[i].todense())[0])"
   ]
  },
  {
   "cell_type": "code",
   "execution_count": 220,
   "metadata": {},
   "outputs": [],
   "source": [
    "text_tf= tf.fit_transform(lemmatized_array_join).toarray()"
   ]
  },
  {
   "cell_type": "code",
   "execution_count": 221,
   "metadata": {},
   "outputs": [],
   "source": [
    "'''\n",
    "    Converting to dataframe\n",
    "'''\n",
    "df_features = pd.DataFrame(l_features)"
   ]
  },
  {
   "cell_type": "code",
   "execution_count": 222,
   "metadata": {},
   "outputs": [],
   "source": [
    "'''\n",
    "    Combining both the dataframes - we now have the TF-IDF features and all the other stuff we had before\n",
    "'''\n",
    "df_combined = pd.concat([df,df_features], axis=1)"
   ]
  },
  {
   "cell_type": "code",
   "execution_count": 223,
   "metadata": {},
   "outputs": [
    {
     "data": {
      "text/plain": [
       "(2066, 7202)"
      ]
     },
     "execution_count": 223,
     "metadata": {},
     "output_type": "execute_result"
    }
   ],
   "source": [
    "df_combined.shape"
   ]
  },
  {
   "cell_type": "code",
   "execution_count": 224,
   "metadata": {},
   "outputs": [],
   "source": [
    "'''\n",
    "    List of columns with original columns and word features\n",
    "'''\n",
    "cols = list(df.columns) + words"
   ]
  },
  {
   "cell_type": "code",
   "execution_count": 225,
   "metadata": {},
   "outputs": [
    {
     "data": {
      "text/plain": [
       "(2066, 7202)"
      ]
     },
     "execution_count": 225,
     "metadata": {},
     "output_type": "execute_result"
    }
   ],
   "source": [
    "'''\n",
    "    Rename columns in original dataframe with new column names\n",
    "'''\n",
    "df_combined = df_combined.rename(columns={x:y for x,y in zip(df_combined.columns,cols)})\n",
    "df_combined.shape"
   ]
  },
  {
   "cell_type": "code",
   "execution_count": 176,
   "metadata": {},
   "outputs": [],
   "source": [
    "'''\n",
    "    Creating a function to the above to all the files...\n",
    "'''\n",
    "def preProcess(file):\n",
    "    df = pd.read_csv(file+'_TREC_2018_train.csv')\n",
    "    df['Tweet'] = df['Tweet'].astype('str')\n",
    "    \n",
    "    token_array = []\n",
    "    for tweet in df['Tweet']:\n",
    "        token_tweet = word_tokenize(tweet)\n",
    "        token_array.append(token_tweet)\n",
    "        \n",
    "    stop_words=set(stopwords.words(\"english\"))\n",
    "    filtered_token_array=[]\n",
    "    for tweet in token_array:\n",
    "        filtered_tweet = []\n",
    "        for word in tweet:\n",
    "                if word not in stop_words:\n",
    "                    filtered_tweet.append(word)\n",
    "        filtered_token_array.append(filtered_tweet)\n",
    "        \n",
    "    lem = WordNetLemmatizer()\n",
    "    stem = PorterStemmer()\n",
    "\n",
    "    lemmatized_array=[]\n",
    "    for tweet in filtered_token_array:\n",
    "        lemmatized_tweet = []\n",
    "        for word in tweet:\n",
    "            lemmatized_tweet.append(lem.lemmatize(word,'v'))\n",
    "        lemmatized_array.append(lemmatized_tweet)\n",
    "    \n",
    "    lemmatized_array_join = []\n",
    "    for element in lemmatized_array:\n",
    "        lemmatized_array_join.append(''.join(element))\n",
    "        \n",
    "    return (lemmatized_array_join)\n",
    "    \n",
    "    \n",
    "def tfidf_to_CSV(file, corpus):\n",
    "    df = pd.read_csv(file+'_TREC_2018_train.csv')\n",
    "    tf=TfidfVectorizer()\n",
    "    text_tf= tf.fit_transform(corpus)\n",
    "    text_tf_dense = text_tf.todense()\n",
    "    \n",
    "    words = tf.get_feature_names()\n",
    "    M = text_tf.tolil()\n",
    "    l_features = []\n",
    "    for i in range(M.shape[0]):\n",
    "        l_features.append(np.array(M[i].todense())[0])\n",
    "        \n",
    "    df_features = pd.DataFrame(l_features)\n",
    "    \n",
    "    df_combined = pd.concat([df,df_features], axis=1)\n",
    "    \n",
    "    cols = list(df.columns) + words\n",
    "    \n",
    "    df_combined_1 = df_combined.rename(columns={x:y for x,y in zip(df_combined.columns,cols)})\n",
    "    \n",
    "    return (df_combined_1)"
   ]
  },
  {
   "cell_type": "code",
   "execution_count": 107,
   "metadata": {},
   "outputs": [
    {
     "name": "stdout",
     "output_type": "stream",
     "text": [
      "(2283, 8315)\n",
      "(8252, 19169)\n",
      "(677, 2505)\n",
      "(535, 1937)\n",
      "(152, 478)\n",
      "(2066, 7202)\n",
      "(1118, 4457)\n",
      "(4757, 13089)\n"
     ]
    }
   ],
   "source": [
    "'''event_type = ['Floods', 'Earthquake', 'Bushfire', 'Bombings', 'Tornado', 'Attack', 'SchoolShooting', 'typhoon' ]\n",
    "\n",
    "for disaster in event_type:\n",
    "    feature = preProcess(disaster)\n",
    "    df = tfidf(disaster, feature)\n",
    "    df.to_csv(disaster+'_tfidf_features_2018_train.csv')\n",
    "\n",
    "    print(df.shape)'''"
   ]
  }
 ],
 "metadata": {
  "kernelspec": {
   "display_name": "Python 3",
   "language": "python",
   "name": "python3"
  },
  "language_info": {
   "codemirror_mode": {
    "name": "ipython",
    "version": 3
   },
   "file_extension": ".py",
   "mimetype": "text/x-python",
   "name": "python",
   "nbconvert_exporter": "python",
   "pygments_lexer": "ipython3",
   "version": "3.7.3"
  }
 },
 "nbformat": 4,
 "nbformat_minor": 2
}
