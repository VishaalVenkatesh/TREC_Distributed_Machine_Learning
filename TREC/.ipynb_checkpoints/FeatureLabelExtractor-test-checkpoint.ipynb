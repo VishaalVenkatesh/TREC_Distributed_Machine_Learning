{
 "cells": [
  {
   "cell_type": "code",
   "execution_count": 3,
   "metadata": {},
   "outputs": [],
   "source": [
    "import csv, os, collections, json\n",
    "import numpy as np\n",
    "import pandas as pd\n",
    "import collections\n",
    "import preprocessor as p\n",
    "import itertools"
   ]
  },
  {
   "cell_type": "markdown",
   "metadata": {},
   "source": [
    "### Labels"
   ]
  },
  {
   "cell_type": "code",
   "execution_count": 3,
   "metadata": {},
   "outputs": [],
   "source": [
    "## annotators are just the wiki information about the events\n",
    "## events - there are 6 events in total - each has the following\n",
    "#\n",
    "#\n",
    "#\n",
    "# \n",
    "# events \n",
    "#     |_event1\n",
    "#     |      |_ eventid\n",
    "#     |      |_  tweets   \n",
    "#     |             |_[{tweet_1: id, category et al}, {tweet_2}, {tweet_2},......{tweet_n}]\n",
    "#     |\n",
    "#     |_ event2\n",
    "#     |       |_ eventid\n",
    "#     |       |_  tweets   \n",
    "#     |             |_[{tweet_1: id, category et al}, {tweet_2}, {tweet_2},......{tweet_n}]\n",
    "#\n",
    "#\n",
    "#\n",
    "#"
   ]
  },
  {
   "cell_type": "markdown",
   "metadata": {},
   "source": [
    "### get methods for features"
   ]
  },
  {
   "cell_type": "code",
   "execution_count": 4,
   "metadata": {},
   "outputs": [],
   "source": [
    "path = 'test/'\n",
    "files = os.listdir(path)"
   ]
  },
  {
   "cell_type": "code",
   "execution_count": 5,
   "metadata": {},
   "outputs": [
    {
     "data": {
      "text/plain": [
       "['trecis2019-A-test.earthquakeCalifornia2014.json',\n",
       " 'trecis2019-A-test.floodChoco2019.json',\n",
       " 'trecis2019-A-test.hurricaneFlorence2018.json',\n",
       " 'trecis2019-A-test.earthquakeBohol2013.json',\n",
       " 'trecis2019-A-test.fireAndover2019.json',\n",
       " 'trecis2019-A-test.fireYMM2016.json',\n",
       " 'trecis2019-A-test.shootingDallas2017.json']"
      ]
     },
     "execution_count": 5,
     "metadata": {},
     "output_type": "execute_result"
    }
   ],
   "source": [
    "files"
   ]
  },
  {
   "cell_type": "code",
   "execution_count": 6,
   "metadata": {},
   "outputs": [],
   "source": [
    "def get_dataset(name, files):\n",
    "    event = [eve for eve in files if name in eve]\n",
    "    print(\"Files found:\", event)\n",
    "    tweetids = []\n",
    "    alltweets = []\n",
    "    alltopics = []\n",
    "    for index in event:\n",
    "        with open('test/'+index , 'r') as fp:\n",
    "            data = fp.readlines()\n",
    "            ids = [json.loads(each)['allProperties']['id'] for each in data]\n",
    "            twts = [json.loads(each)['allProperties']['text'] for each in data]\n",
    "            topics = [json.loads(each)['topic'] for each in data]\n",
    "        tweetids.extend(ids)\n",
    "        alltweets.extend(twts)\n",
    "        alltopics.extend(topics)\n",
    "    return tweetids, alltweets, alltopics"
   ]
  },
  {
   "cell_type": "code",
   "execution_count": 7,
   "metadata": {},
   "outputs": [],
   "source": [
    "events = [each.split('.')[1] for each in files]"
   ]
  },
  {
   "cell_type": "code",
   "execution_count": 8,
   "metadata": {},
   "outputs": [
    {
     "data": {
      "text/plain": [
       "['earthquakeCalifornia2014',\n",
       " 'floodChoco2019',\n",
       " 'hurricaneFlorence2018',\n",
       " 'earthquakeBohol2013',\n",
       " 'fireAndover2019',\n",
       " 'fireYMM2016',\n",
       " 'shootingDallas2017']"
      ]
     },
     "execution_count": 8,
     "metadata": {},
     "output_type": "execute_result"
    }
   ],
   "source": [
    "events"
   ]
  },
  {
   "cell_type": "code",
   "execution_count": 12,
   "metadata": {},
   "outputs": [],
   "source": [
    "def get_features(name):\n",
    "    tweetids, alltweets, alltopics = get_dataset(name, files)\n",
    "    # create a dataframe for the tweetids\n",
    "    df = pd.DataFrame([tweetids, alltopics, alltweets]).T\n",
    "    # labels the columns - needed for meging with labels\n",
    "    df.columns = ['tweetids', 'topics', 'tweets']\n",
    "    print(\"Number of tweet ids found: \",len(set(tweetids)))\n",
    "     # before writing to file. clean the tweets\n",
    "    tocleantweets = df['tweets'].tolist()\n",
    "    # defininf the what to be removed from the tweets\n",
    "    p.set_options(p.OPT.URL, p.OPT.EMOJI, p.OPT.RESERVED,  p.OPT.MENTION)\n",
    "    # cleaned tweets after preprocessing \n",
    "    cleantweets = [p.clean(data) for data in tocleantweets]\n",
    "    # wrting back to the dataframe\n",
    "    df['cleanedtweets'] = cleantweets\n",
    "    # drop the uncleaned tweets \n",
    "    df.drop('tweets', axis=1, inplace= True)\n",
    "    # save as the csv file\n",
    "    df.to_csv('testFeatures/'+name+'_features.csv')\n",
    "    print(\"File save as: {}_features.csv\".format(name))\n",
    "    print(\"-----------------------------------------------------------------------------\")"
   ]
  },
  {
   "cell_type": "code",
   "execution_count": 13,
   "metadata": {},
   "outputs": [
    {
     "name": "stdout",
     "output_type": "stream",
     "text": [
      "Files found: ['trecis2019-A-test.earthquakeCalifornia2014.json']\n",
      "Number of tweet ids found:  128\n",
      "File save as: earthquakeCalifornia2014_features.csv\n",
      "-----------------------------------------------------------------------------\n",
      "Files found: ['trecis2019-A-test.floodChoco2019.json']\n",
      "Number of tweet ids found:  674\n",
      "File save as: floodChoco2019_features.csv\n",
      "-----------------------------------------------------------------------------\n",
      "Files found: ['trecis2019-A-test.hurricaneFlorence2018.json']\n",
      "Number of tweet ids found:  2500\n",
      "File save as: hurricaneFlorence2018_features.csv\n",
      "-----------------------------------------------------------------------------\n",
      "Files found: ['trecis2019-A-test.earthquakeBohol2013.json']\n",
      "Number of tweet ids found:  646\n",
      "File save as: earthquakeBohol2013_features.csv\n",
      "-----------------------------------------------------------------------------\n",
      "Files found: ['trecis2019-A-test.fireAndover2019.json']\n",
      "Number of tweet ids found:  360\n",
      "File save as: fireAndover2019_features.csv\n",
      "-----------------------------------------------------------------------------\n",
      "Files found: ['trecis2019-A-test.fireYMM2016.json']\n",
      "Number of tweet ids found:  2500\n",
      "File save as: fireYMM2016_features.csv\n",
      "-----------------------------------------------------------------------------\n",
      "Files found: ['trecis2019-A-test.shootingDallas2017.json']\n",
      "Number of tweet ids found:  2500\n",
      "File save as: shootingDallas2017_features.csv\n",
      "-----------------------------------------------------------------------------\n"
     ]
    }
   ],
   "source": [
    "for each in events:\n",
    "    get_features(each)"
   ]
  },
  {
   "cell_type": "code",
   "execution_count": null,
   "metadata": {},
   "outputs": [],
   "source": []
  },
  {
   "cell_type": "code",
   "execution_count": null,
   "metadata": {},
   "outputs": [],
   "source": []
  },
  {
   "cell_type": "code",
   "execution_count": null,
   "metadata": {},
   "outputs": [],
   "source": []
  },
  {
   "cell_type": "code",
   "execution_count": null,
   "metadata": {},
   "outputs": [],
   "source": []
  },
  {
   "cell_type": "code",
   "execution_count": null,
   "metadata": {},
   "outputs": [],
   "source": []
  },
  {
   "cell_type": "code",
   "execution_count": null,
   "metadata": {},
   "outputs": [],
   "source": []
  },
  {
   "cell_type": "code",
   "execution_count": null,
   "metadata": {},
   "outputs": [],
   "source": []
  },
  {
   "cell_type": "code",
   "execution_count": null,
   "metadata": {},
   "outputs": [],
   "source": []
  },
  {
   "cell_type": "code",
   "execution_count": null,
   "metadata": {},
   "outputs": [],
   "source": []
  }
 ],
 "metadata": {
  "kernelspec": {
   "display_name": "Python 3",
   "language": "python",
   "name": "python3"
  },
  "language_info": {
   "codemirror_mode": {
    "name": "ipython",
    "version": 3
   },
   "file_extension": ".py",
   "mimetype": "text/x-python",
   "name": "python",
   "nbconvert_exporter": "python",
   "pygments_lexer": "ipython3",
   "version": "3.7.1"
  }
 },
 "nbformat": 4,
 "nbformat_minor": 2
}
