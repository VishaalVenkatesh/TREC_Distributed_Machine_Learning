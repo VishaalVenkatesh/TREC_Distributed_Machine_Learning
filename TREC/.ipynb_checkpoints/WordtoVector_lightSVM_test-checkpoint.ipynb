{
 "cells": [
  {
   "cell_type": "code",
   "execution_count": 1,
   "metadata": {},
   "outputs": [],
   "source": [
    "import csv\n",
    "import collections\n",
    "import itertools\n",
    "import numpy as np\n",
    "import pandas as pd\n",
    "import string\n",
    "import re\n",
    "import os\n",
    "from sklearn.model_selection import train_test_split  "
   ]
  },
  {
   "cell_type": "markdown",
   "metadata": {},
   "source": [
    "### Unpack GloVe"
   ]
  },
  {
   "cell_type": "code",
   "execution_count": 2,
   "metadata": {},
   "outputs": [],
   "source": [
    "filename = 'glove.twitter.27B/glove.twitter.27B.100d.txt'"
   ]
  },
  {
   "cell_type": "code",
   "execution_count": 3,
   "metadata": {},
   "outputs": [],
   "source": [
    "def loadGloveModel(gloveFile):\n",
    "    print(\"Loading Glove Model\")\n",
    "    f = open(gloveFile,'r')\n",
    "    model = {}\n",
    "    for line in f:\n",
    "        splitLine = line.split()\n",
    "        word = splitLine[0]\n",
    "        embedding = np.array([float(val) for val in splitLine[1:]])\n",
    "        model[word] = embedding\n",
    "    print(\"Done.\",len(model),\" words loaded!\")\n",
    "    return model"
   ]
  },
  {
   "cell_type": "code",
   "execution_count": 4,
   "metadata": {},
   "outputs": [
    {
     "name": "stdout",
     "output_type": "stream",
     "text": [
      "Loading Glove Model\n",
      "Done. 1193515  words loaded!\n"
     ]
    }
   ],
   "source": [
    "twittervocab = loadGloveModel(filename)"
   ]
  },
  {
   "cell_type": "code",
   "execution_count": 5,
   "metadata": {},
   "outputs": [],
   "source": [
    "np.random.seed(120)\n",
    "randvec = np.random.rand(100)"
   ]
  },
  {
   "cell_type": "markdown",
   "metadata": {},
   "source": [
    "## Get features"
   ]
  },
  {
   "cell_type": "code",
   "execution_count": 12,
   "metadata": {},
   "outputs": [],
   "source": [
    "def ptext(text): return re.findall(\"[a-zA-Z']+\", text.lower())\n",
    "\n",
    "def getwordvec(dataset, maximum_len):\n",
    "    data = []\n",
    "    for eachsent in dataset:\n",
    "        sentence = [twittervocab[word] if word in twittervocab.keys() else randvec for word in eachsent]\n",
    "        if len(sentence) < maximum_len:\n",
    "            sentence.extend([[0]*100 for _ in range(maximum_len-len(sentence))])\n",
    "        data.append(sentence)\n",
    "    return np.array(data)\n",
    "\n",
    "def process(filename):\n",
    "    df = pd.read_csv('testFeatures/'+filename).drop('Unnamed: 0', axis=1)\n",
    "    common = ['tweetids', 'topics', 'cleanedtweets']\n",
    "\n",
    "    tweetsdata = df['cleanedtweets'].tolist()\n",
    "    tweetdata = [ptext(eachtweet) for eachtweet in tweetsdata]\n",
    "    folder = filename.split('.')[0]\n",
    "    print(\"Reading each labels from file: \", filename)\n",
    "    print(\"--------------------------------------------------------------\")\n",
    "#     os.mkdir('test/datasets/'+folder)\n",
    "    \n",
    "    maximum_len = max([len(i) for i in tweetdata])\n",
    "    minimum_len = min([len(i) for i in tweetdata])\n",
    "    print(\"Maximum length: \", maximum_len)\n",
    "    print(\"--------------------------------------------------------------\")\n",
    "    \n",
    "    \n",
    "    X_train = tweetdata\n",
    "    # train\n",
    "    x_train = getwordvec(X_train, maximum_len)\n",
    "    new_x_train = np.reshape(x_train, (-1, x_train.shape[1]*x_train.shape[2]))\n",
    "        \n",
    "    with open('test/datasets/'+folder+'.txt','w') as fp:\n",
    "        for right in new_x_train:\n",
    "            new_right = ' '.join([str(index+1)+':'+str(value) for index, value in enumerate(right)])\n",
    "            feat = str(new_right)\n",
    "            fp.write(\"%s\\n\" %(feat))\n",
    "\n",
    "        print(\"Finished processing label\")\n",
    "        print(\"--------------------------------------------------------------\")"
   ]
  },
  {
   "cell_type": "code",
   "execution_count": 13,
   "metadata": {},
   "outputs": [],
   "source": [
    "files = os.listdir('testFeatures/')"
   ]
  },
  {
   "cell_type": "code",
   "execution_count": 14,
   "metadata": {
    "scrolled": true
   },
   "outputs": [
    {
     "name": "stdout",
     "output_type": "stream",
     "text": [
      "Reading each labels from file:  earthquakeBohol2013_features.csv\n",
      "--------------------------------------------------------------\n",
      "Maximum length:  26\n",
      "--------------------------------------------------------------\n",
      "Finished processing label\n",
      "--------------------------------------------------------------\n",
      "********************************************************************\n",
      "Reading each labels from file:  earthquakeCalifornia2014_features.csv\n",
      "--------------------------------------------------------------\n",
      "Maximum length:  22\n",
      "--------------------------------------------------------------\n",
      "Finished processing label\n",
      "--------------------------------------------------------------\n",
      "********************************************************************\n",
      "Reading each labels from file:  floodChoco2019_features.csv\n",
      "--------------------------------------------------------------\n",
      "Maximum length:  27\n",
      "--------------------------------------------------------------\n",
      "Finished processing label\n",
      "--------------------------------------------------------------\n",
      "********************************************************************\n",
      "Reading each labels from file:  shootingDallas2017_features.csv\n",
      "--------------------------------------------------------------\n",
      "Maximum length:  29\n",
      "--------------------------------------------------------------\n",
      "Finished processing label\n",
      "--------------------------------------------------------------\n",
      "********************************************************************\n",
      "Reading each labels from file:  fireYMM2016_features.csv\n",
      "--------------------------------------------------------------\n",
      "Maximum length:  30\n",
      "--------------------------------------------------------------\n",
      "Finished processing label\n",
      "--------------------------------------------------------------\n",
      "********************************************************************\n",
      "Reading each labels from file:  hurricaneFlorence2018_features.csv\n",
      "--------------------------------------------------------------\n",
      "Maximum length:  57\n",
      "--------------------------------------------------------------\n",
      "Finished processing label\n",
      "--------------------------------------------------------------\n",
      "********************************************************************\n",
      "Reading each labels from file:  fireAndover2019_features.csv\n",
      "--------------------------------------------------------------\n",
      "Maximum length:  26\n",
      "--------------------------------------------------------------\n",
      "Finished processing label\n",
      "--------------------------------------------------------------\n",
      "********************************************************************\n"
     ]
    }
   ],
   "source": [
    "for file in files: \n",
    "    process(file)\n",
    "    print(\"********************************************************************\")"
   ]
  },
  {
   "cell_type": "code",
   "execution_count": null,
   "metadata": {},
   "outputs": [],
   "source": []
  },
  {
   "cell_type": "code",
   "execution_count": null,
   "metadata": {},
   "outputs": [],
   "source": []
  }
 ],
 "metadata": {
  "kernelspec": {
   "display_name": "Python 3",
   "language": "python",
   "name": "python3"
  },
  "language_info": {
   "codemirror_mode": {
    "name": "ipython",
    "version": 3
   },
   "file_extension": ".py",
   "mimetype": "text/x-python",
   "name": "python",
   "nbconvert_exporter": "python",
   "pygments_lexer": "ipython3",
   "version": "3.7.1"
  }
 },
 "nbformat": 4,
 "nbformat_minor": 2
}
